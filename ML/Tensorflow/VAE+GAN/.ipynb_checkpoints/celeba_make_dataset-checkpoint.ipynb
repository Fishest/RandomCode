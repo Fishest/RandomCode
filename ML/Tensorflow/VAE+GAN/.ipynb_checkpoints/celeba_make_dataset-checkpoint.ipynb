{
 "cells": [
  {
   "cell_type": "markdown",
   "metadata": {},
   "source": [
    "## Creating the CelebA Dataset in h3 format\n",
    "### Download the following files:\n",
    "- https://googledrive.com/host/0B7EVK8r0v71pTUZsaXdaSnZBZzg/img_align_celeba.zip\n",
    "- https://googledrive.com/host/0B7EVK8r0v71pOC0wOVZlQnFfaGs/list_attr_celeba.txt\n",
    "- The dropbox version is not working as of now, but it you can wget it:\n",
    "    - `!wget \"https://www.dropbox.com/sh/8oqt9vytwxb3s4r/AADIKlz8PR9zr6Y20qbkunrba/Img/img_align_celeba.zip\"`\n"
   ]
  },
  {
   "cell_type": "code",
   "execution_count": null,
   "metadata": {
    "collapsed": false
   },
   "outputs": [],
   "source": [
    "# This unzips the file in the command line\n",
    "!unzip -q \"img_align_celeba.zip\" "
   ]
  },
  {
   "cell_type": "code",
   "execution_count": 1,
   "metadata": {
    "collapsed": false
   },
   "outputs": [],
   "source": [
    "from glob import glob\n",
    "import numpy as np\n",
    "import scipy.misc\n",
    "import matplotlib.pyplot as plt\n",
    "%matplotlib inline  \n",
    "import os\n",
    "import pandas as pd\n",
    "import h5py\n",
    "import tqdm"
   ]
  },
  {
   "cell_type": "code",
   "execution_count": 2,
   "metadata": {
    "collapsed": false
   },
   "outputs": [],
   "source": [
    "data = glob(os.path.join(\"../../data/img_align_celeba\", \"*.jpg\"))"
   ]
  },
  {
   "cell_type": "code",
   "execution_count": 3,
   "metadata": {
    "collapsed": true
   },
   "outputs": [],
   "source": [
    "data = np.sort(data)"
   ]
  },
  {
   "cell_type": "code",
   "execution_count": 4,
   "metadata": {
    "collapsed": false
   },
   "outputs": [
    {
     "data": {
      "text/plain": [
       "array(['../../data/img_align_celeba/000001.jpg',\n",
       "       '../../data/img_align_celeba/000002.jpg',\n",
       "       '../../data/img_align_celeba/000003.jpg',\n",
       "       '../../data/img_align_celeba/000004.jpg',\n",
       "       '../../data/img_align_celeba/000005.jpg',\n",
       "       '../../data/img_align_celeba/000006.jpg',\n",
       "       '../../data/img_align_celeba/000007.jpg',\n",
       "       '../../data/img_align_celeba/000008.jpg',\n",
       "       '../../data/img_align_celeba/000009.jpg',\n",
       "       '../../data/img_align_celeba/000010.jpg'], \n",
       "      dtype='|S38')"
      ]
     },
     "execution_count": 4,
     "metadata": {},
     "output_type": "execute_result"
    }
   ],
   "source": [
    "data[0:10]"
   ]
  },
  {
   "cell_type": "code",
   "execution_count": 5,
   "metadata": {
    "collapsed": false
   },
   "outputs": [
    {
     "data": {
      "text/plain": [
       "202599"
      ]
     },
     "execution_count": 5,
     "metadata": {},
     "output_type": "execute_result"
    }
   ],
   "source": [
    "len(data)"
   ]
  },
  {
   "cell_type": "code",
   "execution_count": null,
   "metadata": {
    "collapsed": false
   },
   "outputs": [],
   "source": [
    "def imread(path):\n",
    "    return scipy.misc.imread(path).astype(np.float)\n",
    "\n",
    "def resize_width(image, width=64.):\n",
    "    h, w = np.shape(image)[:2]\n",
    "    return scipy.misc.imresize(image,[int((float(h)/w)*width),width])\n",
    "        \n",
    "def center_crop(x, height=64):\n",
    "    h= np.shape(x)[0]\n",
    "    j = int(round((h - height)/2.))\n",
    "    return x[j:j+height,:,:]\n",
    "\n",
    "def get_image(image_path, width=64, height=64):\n",
    "    return center_crop(resize_width(imread(image_path), width = width),height=height)\n"
   ]
  },
  {
   "cell_type": "code",
   "execution_count": null,
   "metadata": {
    "collapsed": true
   },
   "outputs": [],
   "source": [
    "dim = 64"
   ]
  },
  {
   "cell_type": "code",
   "execution_count": null,
   "metadata": {
    "collapsed": false
   },
   "outputs": [],
   "source": [
    "test = get_image(data[0],dim,dim)"
   ]
  },
  {
   "cell_type": "code",
   "execution_count": null,
   "metadata": {
    "collapsed": false
   },
   "outputs": [],
   "source": [
    "cm = plt.cm.hot\n",
    "fig, ax = plt.subplots(nrows=1,ncols=4, figsize=(20,8))\n",
    "ax[0].imshow(np.reshape(test, (dim,dim,3)), interpolation='nearest')\n",
    "ax[1].imshow(np.reshape(test, (dim,dim,3))[:,:,0], interpolation='nearest', cmap=cm)\n",
    "ax[2].imshow(np.reshape(test, (dim,dim,3))[:,:,1], interpolation='nearest', cmap=cm)\n",
    "ax[3].imshow(np.reshape(test, (dim,dim,3))[:,:,2], interpolation='nearest', cmap=cm)"
   ]
  },
  {
   "cell_type": "code",
   "execution_count": null,
   "metadata": {
    "collapsed": false
   },
   "outputs": [],
   "source": [
    "images = np.zeros((len(data),dim*dim*3), dtype = np.uint8)"
   ]
  },
  {
   "cell_type": "code",
   "execution_count": null,
   "metadata": {
    "collapsed": false
   },
   "outputs": [],
   "source": [
    "# make a dataset\n",
    "for i in tqdm.tqdm(range(len(data))):\n",
    "    #for i in tqdm.tqdm(range(10)):\n",
    "    image = get_image(data[i], dim,dim)\n",
    "    images[i] = image.flatten()\n",
    "    # get the metadata"
   ]
  },
  {
   "cell_type": "code",
   "execution_count": null,
   "metadata": {
    "collapsed": false
   },
   "outputs": [],
   "source": [
    "test = images[i].reshape(dim,dim,3)\n",
    "#test = image.flatten()\n",
    "cm = plt.cm.hot\n",
    "fig, ax = plt.subplots(nrows=1,ncols=4, figsize=(20,8))\n",
    "ax[0].imshow(np.reshape(test, (dim,dim,3)), interpolation='nearest')\n",
    "ax[1].imshow(np.reshape(test, (dim,dim,3))[:,:,0], interpolation='nearest', cmap=cm)\n",
    "ax[2].imshow(np.reshape(test, (dim,dim,3))[:,:,1], interpolation='nearest', cmap=cm)\n",
    "ax[3].imshow(np.reshape(test, (dim,dim,3))[:,:,2], interpolation='nearest', cmap=cm)"
   ]
  },
  {
   "cell_type": "code",
   "execution_count": null,
   "metadata": {
    "collapsed": true
   },
   "outputs": [],
   "source": [
    "attribute_file = 'list_attr_celeba.txt'"
   ]
  },
  {
   "cell_type": "code",
   "execution_count": null,
   "metadata": {
    "collapsed": false
   },
   "outputs": [],
   "source": [
    "with open(attribute_file, 'r') as f:\n",
    "    num_examples = f.readline()\n",
    "    headers = f.readline()"
   ]
  },
  {
   "cell_type": "code",
   "execution_count": null,
   "metadata": {
    "collapsed": false
   },
   "outputs": [],
   "source": [
    "headers = headers.split()\n",
    "print headers"
   ]
  },
  {
   "cell_type": "code",
   "execution_count": null,
   "metadata": {
    "collapsed": false
   },
   "outputs": [],
   "source": [
    "label_input = pd.read_fwf(attribute_file,skiprows=2,\n",
    "                       widths = [10,3,3,3,3,3,3,3,3,3,3,3,3,3,3,3,3,3,3,3,3,3,3,3,3,3,3,3, \n",
    "                                 3,3,3,3,3,3,3,3,3,3,3],\n",
    "                   index_col=0,\n",
    "                   header=None\n",
    "                  )"
   ]
  },
  {
   "cell_type": "code",
   "execution_count": null,
   "metadata": {
    "collapsed": false
   },
   "outputs": [],
   "source": [
    "# the labels for each input\n",
    "labels = label_input.astype(int).as_matrix()"
   ]
  },
  {
   "cell_type": "code",
   "execution_count": null,
   "metadata": {
    "collapsed": false
   },
   "outputs": [],
   "source": [
    "headers"
   ]
  },
  {
   "cell_type": "code",
   "execution_count": null,
   "metadata": {
    "collapsed": false
   },
   "outputs": [],
   "source": [
    "with h5py.File(''.join(['datasets/faces_dataset_new.h5']), 'w') as f:\n",
    "    dset_face = f.create_dataset(\"images\", data = images)\n",
    "    dset_headers = f.create_dataset('headers', data = headers)\n",
    "    dset_label_input = f.create_dataset('label_input', data = label_input)"
   ]
  },
  {
   "cell_type": "code",
   "execution_count": null,
   "metadata": {
    "collapsed": false
   },
   "outputs": [],
   "source": [
    "# now reading the dataset is simple...\n",
    "with h5py.File(''.join(['datasets/faces_dataset_new.h5']), 'r') as hf:\n",
    "    faces = hf['images'].value\n",
    "    headers = hf['headers'].value\n",
    "    labels = hf['label_input'].value"
   ]
  },
  {
   "cell_type": "markdown",
   "metadata": {
    "collapsed": false
   },
   "source": [
    "### Lets take a look at some bald people"
   ]
  },
  {
   "cell_type": "code",
   "execution_count": null,
   "metadata": {
    "collapsed": false
   },
   "outputs": [],
   "source": [
    "bald_people = faces[labels[:,4]==1][0:4]"
   ]
  },
  {
   "cell_type": "code",
   "execution_count": null,
   "metadata": {
    "collapsed": false
   },
   "outputs": [],
   "source": [
    "fig, ax = plt.subplots(nrows=1,ncols=4, figsize=(20,8))\n",
    "ax[0].imshow(np.reshape(bald_people[0], (dim,dim,3)), interpolation='nearest')\n",
    "ax[1].imshow(np.reshape(bald_people[1], (dim,dim,3)), interpolation='nearest', cmap=cm)\n",
    "ax[2].imshow(np.reshape(bald_people[2], (dim,dim,3)), interpolation='nearest', cmap=cm)\n",
    "ax[3].imshow(np.reshape(bald_people[3], (dim,dim,3)), interpolation='nearest', cmap=cm)"
   ]
  },
  {
   "cell_type": "code",
   "execution_count": null,
   "metadata": {
    "collapsed": true
   },
   "outputs": [],
   "source": []
  }
 ],
 "metadata": {
  "kernelspec": {
   "display_name": "Python 2",
   "language": "python",
   "name": "python2"
  },
  "language_info": {
   "codemirror_mode": {
    "name": "ipython",
    "version": 2
   },
   "file_extension": ".py",
   "mimetype": "text/x-python",
   "name": "python",
   "nbconvert_exporter": "python",
   "pygments_lexer": "ipython2",
   "version": "2.7.11"
  }
 },
 "nbformat": 4,
 "nbformat_minor": 0
}
