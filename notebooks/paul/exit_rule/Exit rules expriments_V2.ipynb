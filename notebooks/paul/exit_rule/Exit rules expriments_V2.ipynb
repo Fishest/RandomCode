{
 "cells": [
  {
   "cell_type": "code",
   "execution_count": 1,
   "metadata": {
    "collapsed": false
   },
   "outputs": [
    {
     "name": "stdout",
     "output_type": "stream",
     "text": [
      "Requirement already satisfied (use --upgrade to upgrade): tqdm in /usr/local/lib/python2.7/dist-packages\r\n",
      "Cleaning up...\r\n"
     ]
    }
   ],
   "source": [
    "%matplotlib inline\n",
    "from __future__ import print_function, division, absolute_import\n",
    "import seaborn as sns\n",
    "import matplotlib.pyplot as plt\n",
    "import pandas as pd\n",
    "#sns.set_context(\"notebook\", font_scale=1.5)\n",
    "!pip install tqdm\n",
    "import tqdm"
   ]
  },
  {
   "cell_type": "code",
   "execution_count": 75,
   "metadata": {
    "collapsed": false
   },
   "outputs": [],
   "source": [
    "#!cat /project/python/lib/trading/simulator.py"
   ]
  },
  {
   "cell_type": "code",
   "execution_count": 2,
   "metadata": {
    "collapsed": true
   },
   "outputs": [],
   "source": [
    "class Example():\n",
    "    \n",
    "    def __init__(self, param1, param2, param3):\n",
    "        \"\"\"Example of docstring on the __init__ method.\n",
    "\n",
    "        The __init__ method may be documented in either the class level\n",
    "        docstring, or as a docstring on the __init__ method itself.\n",
    "\n",
    "        Either form is acceptable, but the two should not be mixed. Choose one\n",
    "        convention to document the __init__ method and be consistent with it.\n",
    "\n",
    "        Note:\n",
    "            Do not include the `self` parameter in the ``Args`` section.\n",
    "\n",
    "        Args:\n",
    "            param1 (str): Description of `param1`.\n",
    "            param2 (Optional[int]): Description of `param2`. Multiple\n",
    "                lines are supported.\n",
    "            param3 (List[str]): Description of `param3`.\n",
    "\n",
    "        \"\"\"\n",
    "    \n",
    "    \n",
    "    def foo():\n",
    "        \"\"\"Example of docstring on the __init__ method.\n",
    "\n",
    "        The __init__ method may be documented in either the class level\n",
    "        docstring, or as a docstring on the __init__ method itself.\n",
    "\n",
    "        Either form is acceptable, but the two should not be mixed. Choose one\n",
    "        convention to document the __init__ method and be consistent with it.\n",
    "\n",
    "        Note:\n",
    "            Do not include the `self` parameter in the ``Args`` section.\n",
    "\n",
    "        Args:\n",
    "            param1 (str): Description of `param1`.\n",
    "            param2 (Optional[int]): Description of `param2`. Multiple\n",
    "                lines are supported.\n",
    "            param3 (List[str]): Description of `param3`.\n",
    "\n",
    "        \"\"\"\n",
    "        \n",
    "    def foo2():\n",
    "        \"\"\"Class methods are similar to regular functions.\n",
    "        \n",
    "        Args:\n",
    "            param1: The first parameter.\n",
    "            param2: The second parameter.\n",
    "\n",
    "        Returns:\n",
    "            True if successful, False otherwise.\n",
    "\n",
    "        \"\"\""
   ]
  },
  {
   "cell_type": "code",
   "execution_count": 3,
   "metadata": {
    "collapsed": false
   },
   "outputs": [
    {
     "name": "stdout",
     "output_type": "stream",
     "text": [
      "~~~ARGS:\n",
      "hehe (<type 'str'>)\n",
      "\n",
      "~~~KWARGS:\n",
      "ok - hehe (<type 'str'>)\n",
      "dude - 1 (<type 'int'>)\n",
      "~~~ARGS:\n",
      "arg1 (<type 'str'>)\n",
      "arg2 (<type 'str'>)\n",
      "\n",
      "~~~KWARGS:\n",
      "is - funny (<type 'str'>)\n",
      "that - thing (<type 'str'>)\n"
     ]
    }
   ],
   "source": [
    "def foo(*args,**kwargs):\n",
    "    \"\"\"Simple training function to do miracles\"\"\"\n",
    "    print(\"~~~ARGS:\")\n",
    "    for value in args:\n",
    "        print(\"{0} ({1})\".format(value,type(value)))\n",
    "    print(\"\\n~~~KWARGS:\")\n",
    "    for item,value in kwargs.items():\n",
    "        print(\"{0} - {1} ({2})\".format(item,value,type(value)))\n",
    "foo(\"hehe\",dude=1,ok=\"hehe\") \n",
    "foo(*[\"arg1\",\"arg2\"],**{\"that\":\"thing\",\"is\":\"funny\"})"
   ]
  },
  {
   "cell_type": "code",
   "execution_count": 7,
   "metadata": {
    "collapsed": true
   },
   "outputs": [],
   "source": [
    "import logging\n",
    "\n",
    "import numpy as np\n",
    "import pandas as pd\n",
    "\n",
    "\n",
    "from trading.report import Entry, Win, Lose, Draw, Trade, Trades\n",
    "from trading.market import pips2price, Pips, get_price_with_spread\n",
    "\n",
    "logger = logging.getLogger(__name__)\n",
    "\n",
    "\n",
    "class Position(object):\n",
    "\n",
    "    def __init__(self, timestamp, entry_price, symbol, side, volume=1):\n",
    "        assert side in (\"long\", \"short\")\n",
    "        self.symbol = symbol\n",
    "        self.is_long = side == \"long\"\n",
    "        self.volume = volume\n",
    "        self.enter(timestamp, entry_price, side)\n",
    "\n",
    "    def enter(self, time, price, side):\n",
    "        self._pips_price_ratio = 1. / Pips.get(self.symbol)\n",
    "        self.entry = Entry(time=time, price=price, score=None, side=side)\n",
    "        self.current = self.entry.price\n",
    "\n",
    "    def update(self, price):\n",
    "        self.current = price\n",
    "\n",
    "    def profit(self, price=None):\n",
    "        if price is None:\n",
    "            price = self.current\n",
    "\n",
    "        if self.is_long:\n",
    "            return self.volume * (price - self.entry.price)\n",
    "        else:\n",
    "            return self.volume * (self.entry.price - price)\n",
    "\n",
    "    def profit_pips(self, price=None):\n",
    "        return self.profit() * self._pips_price_ratio\n",
    "\n",
    "\n",
    "class Account(object):\n",
    "\n",
    "    def __init__(self, balance, df):\n",
    "        # balance is in pips\n",
    "        self.balance = balance\n",
    "        self.position = None\n",
    "        dflen = len(df)\n",
    "        history = df.copy()\n",
    "        self.history = history\n",
    "        self.hist_balance = np.zeros(dflen)\n",
    "        self.hist_position_profit = np.zeros(dflen)\n",
    "        self.hist_entry = []  # timestamp when position was entered\n",
    "        self.hist_exit = []  # timestamp when position was exited\n",
    "        self.trades = Trades()\n",
    "\n",
    "    def has_position(self):\n",
    "        return self.position is not None\n",
    "\n",
    "    def total_balance(self):\n",
    "        total = self.balance\n",
    "        if self.has_position():\n",
    "            total += self.position.profit_pips()\n",
    "        return total\n",
    "\n",
    "    def enter_position(self, timestamp, time_iloc, price, symbol, side):\n",
    "        self.position = Position(timestamp, price, symbol, side)\n",
    "        self.hist_entry.append(timestamp)\n",
    "\n",
    "    def check_exit(self, current_price, entry_price, timestamp, pt, lc):\n",
    "        # pt/lc in price\n",
    "        exit = None\n",
    "        if self.position.is_long:\n",
    "            if current_price >= entry_price + pt:\n",
    "                gain = current_price - entry_price\n",
    "                exit = Win(time=timestamp, price=current_price, gain=gain)\n",
    "            elif current_price <= entry_price - lc:\n",
    "                gain = current_price - entry_price\n",
    "                exit = Lose(time=timestamp, price=current_price, gain=gain)\n",
    "        else:\n",
    "            if current_price <= entry_price - pt:\n",
    "                gain = entry_price - current_price\n",
    "                exit = Win(time=timestamp, price=current_price, gain=gain)\n",
    "            elif current_price >= entry_price + lc:\n",
    "                gain = entry_price - current_price\n",
    "                exit = Lose(time=timestamp, price=current_price, gain=gain)\n",
    "        if exit is not None:\n",
    "            self.balance += self.position._pips_price_ratio * exit.gain\n",
    "            self.trades.append(Trade(entry=self.position.entry, exit=exit))\n",
    "            self.hist_exit.append(exit.time)\n",
    "            self.position = None\n",
    "            return exit\n",
    "\n",
    "    def check_exit_by_time(self, entry_price, exit_price, timestamp, ts_exit):\n",
    "        exit = None\n",
    "        if timestamp >= ts_exit:\n",
    "            if self.position.is_long:\n",
    "                if exit_price >= entry_price:\n",
    "                    gain = exit_price - entry_price\n",
    "                    exit = Win(time=timestamp, price=exit_price, gain=gain)\n",
    "                elif exit_price <= entry_price:\n",
    "                    gain = exit_price - entry_price\n",
    "                    exit = Lose(time=timestamp, price=exit_price, gain=gain)\n",
    "            else:\n",
    "                if exit_price <= entry_price:\n",
    "                    gain = entry_price - exit_price\n",
    "                    exit = Win(time=timestamp, price=exit_price, gain=gain)\n",
    "                elif exit_price >= entry_price:\n",
    "                    gain = entry_price - exit_price\n",
    "                    exit = Lose(time=timestamp, price=exit_price, gain=gain)\n",
    "        if exit is not None:\n",
    "            self.balance += self.position._pips_price_ratio * exit.gain\n",
    "            self.trades.append(Trade(entry=self.position.entry, exit=exit))\n",
    "            self.hist_exit.append(exit.time)\n",
    "            self.position = None\n",
    "            return exit\n",
    "\n",
    "    def close_draw(self, timestamp):\n",
    "        if self.position is not None:\n",
    "            position = self.position\n",
    "            exit = Draw(\n",
    "                time=timestamp,\n",
    "                price=position.current,\n",
    "                gain=position.entry.price -\n",
    "                position.current)\n",
    "            trade = Trade(entry=position.entry, exit=exit)\n",
    "            self.trades.append(trade)\n",
    "            self.position = None\n",
    "\n",
    "    @property\n",
    "    def minute_total(self):\n",
    "        return pd.Series(\n",
    "            self.hist_balance +\n",
    "            self.hist_position_profit,\n",
    "            index=self.history.index)\n",
    "\n",
    "    @property\n",
    "    def daily_total(self):\n",
    "        mt = self.minute_total\n",
    "        if mt.shape == (0, ):\n",
    "            return pd.DataFrame(\n",
    "                [], index=[], columns=('open', 'high', 'low', 'close'))\n",
    "        else:\n",
    "            df = mt.resample('1D', how='ohlc')\n",
    "            return df[pd.notnull(df.open)]\n",
    "\n",
    "    @property\n",
    "    def monthly_total(self):\n",
    "        mt = self.minute_total\n",
    "        if mt.shape == (0, ):\n",
    "            return pd.DataFrame(\n",
    "                [], index=[], columns=('open', 'high', 'low', 'close'))\n",
    "        else:\n",
    "            df = mt.resample('1M', how='ohlc')\n",
    "            return df[pd.notnull(df.open)]\n",
    "\n",
    "\n",
    "def get_trade_entry_timestamps(scores, threshold):\n",
    "    '''\n",
    "    Returns a list of timestamps representing entry points.\n",
    "    '''\n",
    "    entry_timestamps = []\n",
    "    in_entry = False\n",
    "    for i in xrange(len(scores) - 1):\n",
    "        score = scores['confidence'].values[i]\n",
    "        if score >= threshold:\n",
    "            if not in_entry:\n",
    "                entry_timestamps.append(scores.index[i + 1])\n",
    "            in_entry = True\n",
    "        else:\n",
    "            in_entry = False\n",
    "    return entry_timestamps\n",
    "\n",
    "\n",
    "def calc(df, entry_timestamps, symbol, side, pt, lc):\n",
    "\n",
    "    # pt/lc in pips\n",
    "    pt_val, lc_val = (pips2price(pt, symbol), pips2price(lc, symbol))\n",
    "\n",
    "    account = Account(0, df)\n",
    "\n",
    "    if len(entry_timestamps) == 0:\n",
    "        return account\n",
    "\n",
    "    open = df['open'].values\n",
    "    close = df['close'].values\n",
    "    tstamp = np.ndarray(\n",
    "        (len(df),), dtype='datetime64[ns]', buffer=df.index.data)\n",
    "\n",
    "    previous_time_iloc = 0\n",
    "    for timestamp in entry_timestamps:\n",
    "        # This is intentionally not a get_loc because of potential gaps in the\n",
    "        # index\n",
    "        time_iloc = df.index.searchsorted(timestamp)\n",
    "        if time_iloc <= previous_time_iloc:\n",
    "            continue  # We can't enter during previous positions\n",
    "        # log account balance between positions\n",
    "        account.hist_balance[previous_time_iloc:time_iloc] = account.balance\n",
    "        # enter the position\n",
    "        entry_price = get_price_with_spread(\n",
    "            open[time_iloc], symbol, 'Ask' if side == 'long' else 'Bid')\n",
    "        account.enter_position(\n",
    "            tstamp[time_iloc],\n",
    "            time_iloc,\n",
    "            entry_price,\n",
    "            symbol,\n",
    "            side)\n",
    "\n",
    "        pips_price_ratio = account.position._pips_price_ratio\n",
    "        volume = account.position.volume\n",
    "        entry_balance = account.balance\n",
    "        exit = None\n",
    "        while exit is None and time_iloc < len(open):\n",
    "            current_price = get_price_with_spread(\n",
    "                close[time_iloc], symbol, 'Bid' if side == 'long' else 'Ask')\n",
    "            account.position.current = current_price  # record current price\n",
    "            exit = account.check_exit(\n",
    "                current_price,\n",
    "                entry_price,\n",
    "                tstamp[time_iloc],\n",
    "                pt_val,\n",
    "                lc_val)\n",
    "            if exit is None:\n",
    "                position_profit = volume * \\\n",
    "                    (current_price - entry_price) * pips_price_ratio\n",
    "                if not account.position.is_long:\n",
    "                    position_profit *= -1\n",
    "                account.hist_balance[time_iloc] = entry_balance\n",
    "            else:\n",
    "                position_profit = 0.\n",
    "                account.hist_balance[time_iloc] = account.balance\n",
    "\n",
    "            account.hist_position_profit[time_iloc] = position_profit\n",
    "            time_iloc += 1\n",
    "        previous_time_iloc = time_iloc  # start of timeframe not in position\n",
    "\n",
    "    # log account balance to the end of the timeframe\n",
    "    account.hist_balance[time_iloc:] = account.balance\n",
    "    account.close_draw(timestamp)\n",
    "    return account\n",
    "\n",
    "\n",
    "def calc_by_positions(df, positions, symbol, side):\n",
    "    \"\"\"\n",
    "        It calculates historical balance by pre-defined positions which was\n",
    "        executed by the live testing. Since the live trading runs at best\n",
    "        effort basis with 1s interval by using xignite's realtime rate api,\n",
    "        so there are potential gaps between the historical data. To match\n",
    "        the balance, it respects timing and price of executed positions and\n",
    "        just interpolates balance during the position by using the historical\n",
    "        data.\n",
    "\n",
    "    Args:\n",
    "        df (DataFrame): ohlc\n",
    "        positions List((datetime, float), (datetime, float)): positions\n",
    "        symbol (str): symbol\n",
    "        side (str): side\n",
    "\n",
    "    Returns:\n",
    "        Account: Account object\n",
    "    \"\"\"\n",
    "\n",
    "    account = Account(0, df)\n",
    "\n",
    "    open = df['open'].values\n",
    "    close = df['close'].values\n",
    "    tstamp = np.ndarray(\n",
    "        (len(df),), dtype='datetime64[ns]', buffer=df.index.data)\n",
    "\n",
    "    time_iloc = previous_time_iloc = 0\n",
    "    for (entry_ts, entry_price), (exit_ts, exit_price) in positions:\n",
    "        # This is intentionally not a get_loc because of potential gaps in the\n",
    "        # index\n",
    "        time_iloc = df.index.searchsorted(entry_ts)\n",
    "        if time_iloc <= previous_time_iloc:\n",
    "            continue  # We can't enter during previous positions\n",
    "        # log account balance between positions\n",
    "        account.hist_balance[previous_time_iloc:time_iloc] = account.balance\n",
    "        # enter the position\n",
    "        account.enter_position(\n",
    "            tstamp[time_iloc],\n",
    "            time_iloc,\n",
    "            entry_price,\n",
    "            symbol,\n",
    "            side)\n",
    "\n",
    "        # log account balance within the position\n",
    "        time_iloc_exit = df.index.searchsorted(exit_ts)\n",
    "        pips_price_ratio = account.position._pips_price_ratio\n",
    "        volume = account.position.volume\n",
    "        entry_balance = account.balance\n",
    "        exit = None\n",
    "        while exit is None and time_iloc < len(open):\n",
    "            current_price = get_price_with_spread(\n",
    "                close[time_iloc], symbol, 'Bid' if side == 'long' else 'Ask')\n",
    "            account.position.current = current_price  # record current price\n",
    "            exit = account.check_exit_by_time(\n",
    "                entry_price,\n",
    "                exit_price,\n",
    "                tstamp[time_iloc],\n",
    "                tstamp[time_iloc_exit],\n",
    "            )\n",
    "            if exit is None:\n",
    "                position_profit = volume * \\\n",
    "                    (current_price - entry_price) * pips_price_ratio\n",
    "                if not account.position.is_long:\n",
    "                    position_profit *= -1\n",
    "                account.hist_balance[time_iloc] = entry_balance\n",
    "            else:\n",
    "                position_profit = 0.\n",
    "                account.hist_balance[time_iloc] = account.balance\n",
    "\n",
    "            account.hist_position_profit[time_iloc] = position_profit\n",
    "            time_iloc += 1\n",
    "        previous_time_iloc = time_iloc  # start of timeframe not in position\n",
    "\n",
    "    # log account balance to the end of the timeframe\n",
    "    account.hist_balance[time_iloc:] = account.balance\n",
    "    if len(positions) > 0:\n",
    "        account.close_draw(entry_ts)\n",
    "    return account"
   ]
  },
  {
   "cell_type": "markdown",
   "metadata": {},
   "source": [
    "---\n",
    "\n",
    "---\n",
    "\n",
    "---"
   ]
  },
  {
   "cell_type": "code",
   "execution_count": 2,
   "metadata": {
    "collapsed": true
   },
   "outputs": [],
   "source": [
    "#!cat /project/tools/training/train.py\n",
    "\n",
    "from __future__ import print_function\n",
    "\n",
    "from drivers.chainer.trainer import Trainer\n",
    "from utils import parse_json\n",
    "import numpy as np\n",
    "\n",
    "# \n",
    "import pytz\n",
    "import datetime\n",
    "import json\n",
    "\n",
    "def parse_date(d):\n",
    "    return pytz.utc.localize(datetime.datetime.strptime(d, \"%Y%m%d\"))\n",
    "\n",
    "def load_json(fn):\n",
    "    with open(fn, \"r\") as f:\n",
    "        return json.load(f)\n",
    "\n",
    "def parse_gpus(gpus):\n",
    "    nums = map(lambda n: int(n), gpus.split(\",\"))\n",
    "    return nums\n",
    "\n",
    "def start_tlog(args):\n",
    "    from ml.trainlogging import TrainLogger\n",
    "    tlog = TrainLogger(args.prefix)\n",
    "    tlog.put(dataset=args.dataset,\n",
    "             model_params=args.model_params,\n",
    "             args=args)\n",
    "    return tlog"
   ]
  },
  {
   "cell_type": "code",
   "execution_count": null,
   "metadata": {
    "collapsed": true
   },
   "outputs": [],
   "source": [
    "# def main(args):\n",
    "\n",
    "if args.feature_mp is not None:\n",
    "    print(\"Overloading features:{0}\".format(args.feature_mp[\"features\"]))\n",
    "    args.model_params[\"features\"] = args.feature_mp[\"features\"]\n",
    "    args.model_params[\"version\"] = args.feature_mp[\"version\"]\n",
    "\n",
    "args.model_params[\"config\"][\"link\"] = \"lstm\" \\\n",
    "    if args.link == \"lstm\" else \"gru\""
   ]
  },
  {
   "cell_type": "code",
   "execution_count": 3,
   "metadata": {
    "collapsed": true
   },
   "outputs": [],
   "source": [
    "model_params = load_json(\"/project/exp/list_mp.json\")\n",
    "dataset = load_json(\"/project/exp/list.json\")\n",
    "gpu = 0\n",
    "training_id = \"test_1337\"\n",
    "\n",
    "bt_start = datetime.datetime(2014, 12, 1, tzinfo=pytz.utc)\n",
    "bt_end = datetime.datetime(2015, 10, 1, tzinfo=pytz.utc)\n",
    "bt_batch_size = 50\n",
    "\n",
    "link = \"lstm\"\n",
    "gpu = 0\n",
    "prefix = \"\"\n",
    "algoci = \"store_true\"\n",
    "#title =     \n",
    "\n",
    "bt_is_buy = True\n",
    "bt_loss_cut = 10.0\n",
    "bt_profit_take = 0.0\n",
    "bt_threshold = 0.85\n",
    "\n",
    "meta = {}"
   ]
  },
  {
   "cell_type": "code",
   "execution_count": 4,
   "metadata": {
    "collapsed": false
   },
   "outputs": [
    {
     "name": "stderr",
     "output_type": "stream",
     "text": [
      "/usr/local/lib/python2.7/dist-packages/chainer/cuda.py:85: UserWarning: cuDNN is not enabled.\n",
      "Please reinstall chainer after you install cudnn\n",
      "(see https://github.com/pfnet/chainer#installation).\n",
      "  'cuDNN is not enabled.\\n'\n"
     ]
    }
   ],
   "source": [
    "# training\n",
    "trainer = Trainer(\n",
    "    model_params, parse_json(dataset), gpu_id=gpu)"
   ]
  },
  {
   "cell_type": "code",
   "execution_count": 27,
   "metadata": {
    "collapsed": false
   },
   "outputs": [
    {
     "data": {
      "text/plain": [
       "<drivers.chainer.rnn.RNN at 0x7f855d67db10>"
      ]
     },
     "execution_count": 27,
     "metadata": {},
     "output_type": "execute_result"
    }
   ],
   "source": [
    "trainer.rnn.load(\"test_ruser2\")"
   ]
  },
  {
   "cell_type": "code",
   "execution_count": 59,
   "metadata": {
    "collapsed": true
   },
   "outputs": [
    {
     "name": "stdout",
     "output_type": "stream",
     "text": [
      "[1] Loss=3.85031359536e-05\n",
      "[2] Loss=5.53553313999e-06\n",
      "[3] Loss=5.41972491767e-06\n",
      "[4] Loss=5.38392512353e-06\n",
      "[5] Loss=5.34535273091e-06\n",
      "[6] Loss=5.30920742632e-06\n",
      "[7] Loss=5.29900782711e-06\n",
      "[8] Loss=5.2880693923e-06\n",
      "[9] Loss=5.266893696e-06\n",
      "[10] Loss=5.26070693037e-06\n",
      "[11] Loss=5.26265095878e-06\n",
      "[12] Loss=5.26895071124e-06\n",
      "[13] Loss=5.30076125166e-06\n",
      "[14] Loss=5.28922087544e-06\n",
      "[15] Loss=5.20020756093e-06\n",
      "[16] Loss=5.15147912633e-06\n",
      "[17] Loss=5.10246151096e-06\n",
      "[18] Loss=5.04373619845e-06\n",
      "[19] Loss=5.15592949731e-06\n",
      "[20] Loss=5.8204629919e-06\n",
      "[21] Loss=5.41362592152e-06\n",
      "[22] Loss=5.37154438731e-06\n",
      "[23] Loss=5.26257563423e-06\n",
      "[24] Loss=5.8330644618e-06\n",
      "[25] Loss=5.31723571348e-06\n",
      "[26] Loss=5.25289675692e-06\n",
      "[27] Loss=5.22607663176e-06\n"
     ]
    },
    {
     "ename": "KeyboardInterrupt",
     "evalue": "",
     "output_type": "error",
     "traceback": [
      "\u001b[1;31m---------------------------------------------------------------------------\u001b[0m",
      "\u001b[1;31mKeyboardInterrupt\u001b[0m                         Traceback (most recent call last)",
      "\u001b[1;32m<ipython-input-59-eb312e699096>\u001b[0m in \u001b[0;36m<module>\u001b[1;34m()\u001b[0m\n\u001b[0;32m     23\u001b[0m \u001b[1;33m\u001b[0m\u001b[0m\n\u001b[0;32m     24\u001b[0m \u001b[1;31m# trainer.run(logging_hook=logging_hook, status_hook=status_hook)\u001b[0m\u001b[1;33m\u001b[0m\u001b[1;33m\u001b[0m\u001b[0m\n\u001b[1;32m---> 25\u001b[1;33m \u001b[0mtrainer\u001b[0m\u001b[1;33m.\u001b[0m\u001b[0mrun\u001b[0m\u001b[1;33m(\u001b[0m\u001b[0mstatus_hook\u001b[0m\u001b[1;33m=\u001b[0m\u001b[0mstatus_hook\u001b[0m\u001b[1;33m)\u001b[0m\u001b[1;33m\u001b[0m\u001b[0m\n\u001b[0m",
      "\u001b[1;32m/project/python/lib/drivers/chainer/trainer.pyc\u001b[0m in \u001b[0;36mrun\u001b[1;34m(self, status_hook, logging_hook)\u001b[0m\n\u001b[0;32m    553\u001b[0m             \u001b[0mn_layers\u001b[0m \u001b[1;33m=\u001b[0m \u001b[0mself\u001b[0m\u001b[1;33m.\u001b[0m\u001b[0mcheck_layer\u001b[0m\u001b[1;33m(\u001b[0m\u001b[0mstopper\u001b[0m\u001b[1;33m.\u001b[0m\u001b[0miter\u001b[0m\u001b[1;33m,\u001b[0m \u001b[0mn_layers\u001b[0m\u001b[1;33m)\u001b[0m\u001b[1;33m\u001b[0m\u001b[0m\n\u001b[0;32m    554\u001b[0m \u001b[1;33m\u001b[0m\u001b[0m\n\u001b[1;32m--> 555\u001b[1;33m             \u001b[0mcursor\u001b[0m\u001b[1;33m,\u001b[0m \u001b[0ml\u001b[0m \u001b[1;33m=\u001b[0m \u001b[0mself\u001b[0m\u001b[1;33m.\u001b[0m\u001b[0m_update\u001b[0m\u001b[1;33m(\u001b[0m\u001b[0mstopper\u001b[0m\u001b[1;33m.\u001b[0m\u001b[0miter\u001b[0m\u001b[1;33m,\u001b[0m \u001b[0mcursor\u001b[0m\u001b[1;33m)\u001b[0m\u001b[1;33m\u001b[0m\u001b[0m\n\u001b[0m\u001b[0;32m    556\u001b[0m             \u001b[0mself\u001b[0m\u001b[1;33m.\u001b[0m\u001b[0mtrain_loss_curve\u001b[0m\u001b[1;33m.\u001b[0m\u001b[0mappend\u001b[0m\u001b[1;33m(\u001b[0m\u001b[1;33m(\u001b[0m\u001b[0mlen\u001b[0m\u001b[1;33m(\u001b[0m\u001b[0mself\u001b[0m\u001b[1;33m.\u001b[0m\u001b[0mtrain_loss_curve\u001b[0m\u001b[1;33m)\u001b[0m\u001b[1;33m,\u001b[0m \u001b[0ml\u001b[0m\u001b[1;33m)\u001b[0m\u001b[1;33m)\u001b[0m\u001b[1;33m\u001b[0m\u001b[0m\n\u001b[0;32m    557\u001b[0m \u001b[1;33m\u001b[0m\u001b[0m\n",
      "\u001b[1;32m/project/python/lib/drivers/chainer/trainer.pyc\u001b[0m in \u001b[0;36m_update\u001b[1;34m(self, itr, cursor)\u001b[0m\n\u001b[0;32m    448\u001b[0m         \u001b[1;32mfor\u001b[0m \u001b[0mworker\u001b[0m \u001b[1;32min\u001b[0m \u001b[0mself\u001b[0m\u001b[1;33m.\u001b[0m\u001b[0mworkers\u001b[0m\u001b[1;33m[\u001b[0m\u001b[1;36m1\u001b[0m\u001b[1;33m:\u001b[0m\u001b[1;33m]\u001b[0m\u001b[1;33m:\u001b[0m\u001b[1;33m\u001b[0m\u001b[0m\n\u001b[0;32m    449\u001b[0m             \u001b[0mjobs\u001b[0m\u001b[1;33m.\u001b[0m\u001b[0mappend\u001b[0m\u001b[1;33m(\u001b[0m\u001b[0mworker\u001b[0m\u001b[1;33m.\u001b[0m\u001b[0mforward_backward\u001b[0m\u001b[1;33m(\u001b[0m\u001b[0mk_begin\u001b[0m\u001b[1;33m,\u001b[0m \u001b[0mk_end\u001b[0m\u001b[1;33m)\u001b[0m\u001b[1;33m)\u001b[0m\u001b[1;33m\u001b[0m\u001b[0m\n\u001b[1;32m--> 450\u001b[1;33m         \u001b[0mjobs\u001b[0m\u001b[1;33m[\u001b[0m\u001b[1;36m0\u001b[0m\u001b[1;33m]\u001b[0m \u001b[1;33m=\u001b[0m \u001b[0mself\u001b[0m\u001b[1;33m.\u001b[0m\u001b[0mworkers\u001b[0m\u001b[1;33m[\u001b[0m\u001b[1;36m0\u001b[0m\u001b[1;33m]\u001b[0m\u001b[1;33m.\u001b[0m\u001b[0mforward_backward\u001b[0m\u001b[1;33m(\u001b[0m\u001b[0mk_begin\u001b[0m\u001b[1;33m,\u001b[0m \u001b[0mk_end\u001b[0m\u001b[1;33m)\u001b[0m\u001b[1;33m\u001b[0m\u001b[0m\n\u001b[0m\u001b[0;32m    451\u001b[0m \u001b[1;33m\u001b[0m\u001b[0m\n\u001b[0;32m    452\u001b[0m         \u001b[0mn_x\u001b[0m \u001b[1;33m=\u001b[0m \u001b[1;36m0\u001b[0m\u001b[1;33m\u001b[0m\u001b[0m\n",
      "\u001b[1;32m/project/python/lib/drivers/chainer/trainer.pyc\u001b[0m in \u001b[0;36mforward_backward\u001b[1;34m(self, k_begin, k_end)\u001b[0m\n\u001b[0;32m    323\u001b[0m \u001b[1;33m\u001b[0m\u001b[0m\n\u001b[0;32m    324\u001b[0m     \u001b[1;32mdef\u001b[0m \u001b[0mforward_backward\u001b[0m\u001b[1;33m(\u001b[0m\u001b[0mself\u001b[0m\u001b[1;33m,\u001b[0m \u001b[0mk_begin\u001b[0m\u001b[1;33m,\u001b[0m \u001b[0mk_end\u001b[0m\u001b[1;33m)\u001b[0m\u001b[1;33m:\u001b[0m\u001b[1;33m\u001b[0m\u001b[0m\n\u001b[1;32m--> 325\u001b[1;33m         \u001b[1;32mreturn\u001b[0m \u001b[0mself\u001b[0m\u001b[1;33m.\u001b[0m\u001b[0mmanager\u001b[0m\u001b[1;33m.\u001b[0m\u001b[0mforward_backward\u001b[0m\u001b[1;33m(\u001b[0m\u001b[0mk_begin\u001b[0m\u001b[1;33m,\u001b[0m \u001b[0mk_end\u001b[0m\u001b[1;33m)\u001b[0m\u001b[1;33m\u001b[0m\u001b[0m\n\u001b[0m\u001b[0;32m    326\u001b[0m \u001b[1;33m\u001b[0m\u001b[0m\n\u001b[0;32m    327\u001b[0m     \u001b[1;32mdef\u001b[0m \u001b[0mstop\u001b[0m\u001b[1;33m(\u001b[0m\u001b[0mself\u001b[0m\u001b[1;33m)\u001b[0m\u001b[1;33m:\u001b[0m\u001b[1;33m\u001b[0m\u001b[0m\n",
      "\u001b[1;32m/project/python/lib/drivers/chainer/trainer.pyc\u001b[0m in \u001b[0;36mforward_backward\u001b[1;34m(self, k_begin, k_end, grad_clip)\u001b[0m\n\u001b[0;32m    185\u001b[0m                     \u001b[0mself\u001b[0m\u001b[1;33m.\u001b[0m\u001b[0mloss\u001b[0m \u001b[1;33m+=\u001b[0m \u001b[0mself\u001b[0m\u001b[1;33m.\u001b[0m\u001b[0mrnns\u001b[0m\u001b[1;33m[\u001b[0m\u001b[0mi\u001b[0m\u001b[1;33m]\u001b[0m\u001b[1;33m.\u001b[0m\u001b[0mloss\u001b[0m\u001b[1;33m(\u001b[0m\u001b[0my_pred\u001b[0m\u001b[1;33m,\u001b[0m \u001b[0my\u001b[0m\u001b[1;33m[\u001b[0m\u001b[0mj\u001b[0m\u001b[1;33m]\u001b[0m\u001b[1;33m,\u001b[0m \u001b[0mtrain\u001b[0m\u001b[1;33m=\u001b[0m\u001b[0mTrue\u001b[0m\u001b[1;33m)\u001b[0m\u001b[1;33m\u001b[0m\u001b[0m\n\u001b[0;32m    186\u001b[0m \u001b[1;33m\u001b[0m\u001b[0m\n\u001b[1;32m--> 187\u001b[1;33m                 \u001b[0mself\u001b[0m\u001b[1;33m.\u001b[0m\u001b[0mloss\u001b[0m\u001b[1;33m.\u001b[0m\u001b[0mbackward\u001b[0m\u001b[1;33m(\u001b[0m\u001b[1;33m)\u001b[0m\u001b[1;33m\u001b[0m\u001b[0m\n\u001b[0m\u001b[0;32m    188\u001b[0m                 \u001b[0mopt\u001b[0m\u001b[1;33m.\u001b[0m\u001b[0mclip_grads\u001b[0m\u001b[1;33m(\u001b[0m\u001b[0mgrad_clip\u001b[0m\u001b[1;33m)\u001b[0m\u001b[1;33m\u001b[0m\u001b[0m\n\u001b[0;32m    189\u001b[0m                 \u001b[0mopt\u001b[0m\u001b[1;33m.\u001b[0m\u001b[0mupdate\u001b[0m\u001b[1;33m(\u001b[0m\u001b[1;33m)\u001b[0m\u001b[1;33m\u001b[0m\u001b[0m\n",
      "\u001b[1;32m/usr/local/lib/python2.7/dist-packages/chainer/variable.pyc\u001b[0m in \u001b[0;36mbackward\u001b[1;34m(self, retain_grad)\u001b[0m\n\u001b[0;32m    275\u001b[0m             \u001b[0mout_grad\u001b[0m \u001b[1;33m=\u001b[0m \u001b[0mtuple\u001b[0m\u001b[1;33m(\u001b[0m\u001b[0mNone\u001b[0m \u001b[1;32mif\u001b[0m \u001b[0my\u001b[0m \u001b[1;32mis\u001b[0m \u001b[0mNone\u001b[0m \u001b[1;32melse\u001b[0m \u001b[0my\u001b[0m\u001b[1;33m.\u001b[0m\u001b[0mgrad\u001b[0m \u001b[1;32mfor\u001b[0m \u001b[0my\u001b[0m \u001b[1;32min\u001b[0m \u001b[0moutputs\u001b[0m\u001b[1;33m)\u001b[0m\u001b[1;33m\u001b[0m\u001b[0m\n\u001b[0;32m    276\u001b[0m             \u001b[1;32mwith\u001b[0m \u001b[0mcuda\u001b[0m\u001b[1;33m.\u001b[0m\u001b[0mget_device\u001b[0m\u001b[1;33m(\u001b[0m\u001b[1;33m*\u001b[0m\u001b[1;33m(\u001b[0m\u001b[0min_data\u001b[0m \u001b[1;33m+\u001b[0m \u001b[0mout_grad\u001b[0m\u001b[1;33m)\u001b[0m\u001b[1;33m)\u001b[0m\u001b[1;33m:\u001b[0m\u001b[1;33m\u001b[0m\u001b[0m\n\u001b[1;32m--> 277\u001b[1;33m                 \u001b[0mgxs\u001b[0m \u001b[1;33m=\u001b[0m \u001b[0mfunc\u001b[0m\u001b[1;33m.\u001b[0m\u001b[0mbackward\u001b[0m\u001b[1;33m(\u001b[0m\u001b[0min_data\u001b[0m\u001b[1;33m,\u001b[0m \u001b[0mout_grad\u001b[0m\u001b[1;33m)\u001b[0m\u001b[1;33m\u001b[0m\u001b[0m\n\u001b[0m\u001b[0;32m    278\u001b[0m             \u001b[1;32massert\u001b[0m \u001b[0mlen\u001b[0m\u001b[1;33m(\u001b[0m\u001b[0mgxs\u001b[0m\u001b[1;33m)\u001b[0m \u001b[1;33m==\u001b[0m \u001b[0mlen\u001b[0m\u001b[1;33m(\u001b[0m\u001b[0min_data\u001b[0m\u001b[1;33m)\u001b[0m\u001b[1;33m\u001b[0m\u001b[0m\n\u001b[0;32m    279\u001b[0m \u001b[1;33m\u001b[0m\u001b[0m\n",
      "\u001b[1;32m/usr/local/lib/python2.7/dist-packages/chainer/functions/activation/lstm.pyc\u001b[0m in \u001b[0;36mbackward\u001b[1;34m(self, inputs, grad_outputs)\u001b[0m\n\u001b[0;32m    127\u001b[0m                 \u001b[1;34m'lstm_bwd'\u001b[0m\u001b[1;33m,\u001b[0m \u001b[0mpreamble\u001b[0m\u001b[1;33m=\u001b[0m\u001b[0m_preamble\u001b[0m\u001b[1;33m)\u001b[0m\u001b[1;33m(\u001b[0m\u001b[1;33m\u001b[0m\u001b[0m\n\u001b[0;32m    128\u001b[0m                     \u001b[0mc_prev\u001b[0m\u001b[1;33m,\u001b[0m \u001b[0mself\u001b[0m\u001b[1;33m.\u001b[0m\u001b[0mc\u001b[0m\u001b[1;33m,\u001b[0m \u001b[0mgc\u001b[0m\u001b[1;33m,\u001b[0m \u001b[0mgh\u001b[0m\u001b[1;33m,\u001b[0m \u001b[0ma\u001b[0m\u001b[1;33m,\u001b[0m \u001b[0mi\u001b[0m\u001b[1;33m,\u001b[0m \u001b[0mf\u001b[0m\u001b[1;33m,\u001b[0m \u001b[0mo\u001b[0m\u001b[1;33m,\u001b[0m\u001b[1;33m\u001b[0m\u001b[0m\n\u001b[1;32m--> 129\u001b[1;33m                     gc_prev, ga, gi, gf, go)\n\u001b[0m\u001b[0;32m    130\u001b[0m \u001b[1;33m\u001b[0m\u001b[0m\n\u001b[0;32m    131\u001b[0m         \u001b[1;32mreturn\u001b[0m \u001b[0mgc_prev\u001b[0m\u001b[1;33m,\u001b[0m \u001b[0mgx\u001b[0m\u001b[1;33m\u001b[0m\u001b[0m\n",
      "\u001b[1;31mKeyboardInterrupt\u001b[0m: "
     ]
    }
   ],
   "source": [
    "def status_hook(iter, l):\n",
    "    print(\"[{0}] Loss={1}\".format(iter + 1, l))\n",
    "\n",
    "trainer.run(status_hook=status_hook)"
   ]
  },
  {
   "cell_type": "code",
   "execution_count": 61,
   "metadata": {
    "collapsed": false
   },
   "outputs": [],
   "source": [
    "trainer.rnn.save(\"test_1337\")"
   ]
  },
  {
   "cell_type": "code",
   "execution_count": 28,
   "metadata": {
    "collapsed": false
   },
   "outputs": [],
   "source": [
    "from trading.backtest.scorer import Scorer\n",
    "\n",
    "training_id = \"test_ruser2\"\n",
    "\n",
    "bt_result = Scorer.calc_score(\n",
    "    training_id,\n",
    "    model_params['symbol'],\n",
    "    model_params['timeframe'],\n",
    "    bt_start,\n",
    "    bt_end,\n",
    "    bt_batch_size)"
   ]
  },
  {
   "cell_type": "code",
   "execution_count": 29,
   "metadata": {
    "collapsed": false
   },
   "outputs": [
    {
     "data": {
      "text/html": [
       "<div>\n",
       "<table border=\"1\" class=\"dataframe\">\n",
       "  <thead>\n",
       "    <tr style=\"text-align: right;\">\n",
       "      <th></th>\n",
       "      <th>confidence</th>\n",
       "    </tr>\n",
       "  </thead>\n",
       "  <tbody>\n",
       "    <tr>\n",
       "      <th>2014-12-01 00:00:00+00:00</th>\n",
       "      <td>0.305247</td>\n",
       "    </tr>\n",
       "    <tr>\n",
       "      <th>2014-12-01 00:05:00+00:00</th>\n",
       "      <td>0.352621</td>\n",
       "    </tr>\n",
       "    <tr>\n",
       "      <th>2014-12-01 00:10:00+00:00</th>\n",
       "      <td>0.392025</td>\n",
       "    </tr>\n",
       "    <tr>\n",
       "      <th>2014-12-01 00:15:00+00:00</th>\n",
       "      <td>0.435094</td>\n",
       "    </tr>\n",
       "    <tr>\n",
       "      <th>2014-12-01 00:20:00+00:00</th>\n",
       "      <td>0.477169</td>\n",
       "    </tr>\n",
       "  </tbody>\n",
       "</table>\n",
       "</div>"
      ],
      "text/plain": [
       "                           confidence\n",
       "2014-12-01 00:00:00+00:00    0.305247\n",
       "2014-12-01 00:05:00+00:00    0.352621\n",
       "2014-12-01 00:10:00+00:00    0.392025\n",
       "2014-12-01 00:15:00+00:00    0.435094\n",
       "2014-12-01 00:20:00+00:00    0.477169"
      ]
     },
     "execution_count": 29,
     "metadata": {},
     "output_type": "execute_result"
    }
   ],
   "source": [
    "bt_result.head()"
   ]
  },
  {
   "cell_type": "code",
   "execution_count": 30,
   "metadata": {
    "collapsed": false
   },
   "outputs": [
    {
     "data": {
      "text/html": [
       "<div>\n",
       "<table border=\"1\" class=\"dataframe\">\n",
       "  <thead>\n",
       "    <tr style=\"text-align: right;\">\n",
       "      <th></th>\n",
       "      <th>confidence</th>\n",
       "    </tr>\n",
       "  </thead>\n",
       "  <tbody>\n",
       "    <tr>\n",
       "      <th>2014-12-01 06:00:00+00:00</th>\n",
       "      <td>0.852080</td>\n",
       "    </tr>\n",
       "    <tr>\n",
       "      <th>2014-12-01 06:05:00+00:00</th>\n",
       "      <td>0.911441</td>\n",
       "    </tr>\n",
       "    <tr>\n",
       "      <th>2014-12-01 06:10:00+00:00</th>\n",
       "      <td>0.892729</td>\n",
       "    </tr>\n",
       "    <tr>\n",
       "      <th>2014-12-01 12:05:00+00:00</th>\n",
       "      <td>0.892659</td>\n",
       "    </tr>\n",
       "    <tr>\n",
       "      <th>2014-12-01 12:25:00+00:00</th>\n",
       "      <td>0.826698</td>\n",
       "    </tr>\n",
       "  </tbody>\n",
       "</table>\n",
       "</div>"
      ],
      "text/plain": [
       "                           confidence\n",
       "2014-12-01 06:00:00+00:00    0.852080\n",
       "2014-12-01 06:05:00+00:00    0.911441\n",
       "2014-12-01 06:10:00+00:00    0.892729\n",
       "2014-12-01 12:05:00+00:00    0.892659\n",
       "2014-12-01 12:25:00+00:00    0.826698"
      ]
     },
     "execution_count": 30,
     "metadata": {},
     "output_type": "execute_result"
    }
   ],
   "source": [
    "threshold = 0.8\n",
    "bt_result[bt_result[\"confidence\"] >= threshold].head()"
   ]
  },
  {
   "cell_type": "code",
   "execution_count": 31,
   "metadata": {
    "collapsed": false
   },
   "outputs": [
    {
     "data": {
      "image/png": "[encoded data removed]",
      "text/plain": [
       "<matplotlib.figure.Figure at 0x7f8585981e90>"
      ]
     },
     "metadata": {},
     "output_type": "display_data"
    }
   ],
   "source": [
    "%matplotlib inline\n",
    "plt.plot(bt_result.values)\n",
    "plt.show()"
   ]
  },
  {
   "cell_type": "code",
   "execution_count": 71,
   "metadata": {
    "collapsed": false
   },
   "outputs": [],
   "source": [
    "# profit calc\n",
    "# pc = Scorer.calc_profit(\n",
    "#     bt_result,\n",
    "#     model_params['symbol'],\n",
    "#     model_params['timeframe'],\n",
    "#     bt_is_buy,\n",
    "#     bt_loss_cut,\n",
    "#     bt_profit_take,\n",
    "#     bt_threshold)\n",
    "# trades, total_gain, num_win, num_lose, max_drawdown = pc"
   ]
  },
  {
   "cell_type": "code",
   "execution_count": 72,
   "metadata": {
    "collapsed": true
   },
   "outputs": [],
   "source": [
    "# list up args as meta info\n",
    "# meta = dict(args._get_kwargs())\n",
    "# tmp = meta.pop('meta')\n",
    "# meta.update(tmp)\n",
    "\n",
    "# submit to algo_ci\n",
    "# meta.pop('dataset')\n",
    "# meta['model_params'].pop('features')\n",
    "# from algoci import AlgoCI\n",
    "# aci = AlgoCI()\n",
    "# aci.put(\n",
    "#     training_id=tlog.training_id,\n",
    "#     loss=tlog.last_loss,\n",
    "#     # backtesting results\n",
    "#     bt_total_gain=total_gain,\n",
    "#     bt_num_win=num_win,\n",
    "#     bt_num_lose=num_lose,\n",
    "#     bt_max_drawdown=max_drawdown,\n",
    "#     # all args\n",
    "#     **meta\n",
    "# )\n",
    "\n",
    "# # print out the training id\n",
    "# print(\"training_id:{} iter:{}\".format(tlog.training_id, tlog.last_iter))\n",
    "# print(\"https://demo.capitalico.co/admin/dots/{}@{}\".format(tlog.training_id, tlog.last_iter + 1))\n",
    "# print(\"https://demo.capitalico.co/admin/loss/{}@{}\".format(tlog.training_id, tlog.last_iter + 1))\n",
    "\n",
    "# cleanup\n",
    "trainer.shutdown()"
   ]
  },
  {
   "cell_type": "code",
   "execution_count": null,
   "metadata": {
    "collapsed": true
   },
   "outputs": [],
   "source": []
  },
  {
   "cell_type": "code",
   "execution_count": null,
   "metadata": {
    "collapsed": true
   },
   "outputs": [],
   "source": []
  },
  {
   "cell_type": "code",
   "execution_count": null,
   "metadata": {
    "collapsed": true
   },
   "outputs": [],
   "source": []
  },
  {
   "cell_type": "code",
   "execution_count": 87,
   "metadata": {
    "collapsed": false
   },
   "outputs": [
    {
     "data": {
      "text/plain": [
       "{u'align': 200,\n",
       " u'basemodel': u'pb_v01_u250',\n",
       " u'batch_size': 260,\n",
       " u'dropout_ratio': 0.5,\n",
       " u'iters': 600,\n",
       " u'n_lstm': 4,\n",
       " u'n_units': 250,\n",
       " u'random_seed': 151,\n",
       " u'use_sigmoid': True}"
      ]
     },
     "execution_count": 87,
     "metadata": {},
     "output_type": "execute_result"
    }
   ],
   "source": [
    "model_params[\"config\"]"
   ]
  },
  {
   "cell_type": "code",
   "execution_count": 90,
   "metadata": {
    "collapsed": true
   },
   "outputs": [
    {
     "name": "stdout",
     "output_type": "stream",
     "text": [
      "[0] Loss = 3.85031359536e-05\n",
      "[10] Loss = 5.26265095878e-06\n",
      "[20] Loss = 5.41362592152e-06\n",
      "[30] Loss = 5.04082343081e-06\n",
      "[40] Loss = 4.82494359488e-06\n",
      "[50] Loss = 5.10265899229e-06\n",
      "[60] Loss = 4.75882141145e-06\n",
      "[70] Loss = 4.69616546736e-06\n",
      "[80] Loss = 4.39059046599e-06\n",
      "[90] Loss = 4.25043047129e-06\n",
      "[100] Loss = 4.36495424627e-06\n",
      "[110] Loss = 4.47719208487e-06\n",
      "[120] Loss = 3.75773847758e-06\n",
      "[130] Loss = 4.24015260005e-06\n",
      "[140] Loss = 3.99466857805e-06\n",
      "[150] Loss = 3.53168196731e-06\n",
      "[160] Loss = 3.43656801915e-06\n",
      "[170] Loss = 2.6765450999e-06\n",
      "[180] Loss = 3.73029512363e-06\n",
      "[190] Loss = 2.39670194767e-06\n",
      "[200] Loss = 3.44151520467e-06\n",
      "[210] Loss = 2.05702129956e-06\n",
      "[220] Loss = 2.17938652405e-06\n",
      "[230] Loss = 2.13778018951e-06\n",
      "[240] Loss = 2.33003317e-06\n",
      "[250] Loss = 1.41042962179e-06\n",
      "[260] Loss = 1.37795557033e-06\n",
      "[270] Loss = 1.25214973321e-06\n",
      "[280] Loss = 1.18918594096e-06\n",
      "[290] Loss = 8.51764210633e-07\n",
      "[300] Loss = 1.41947757412e-06\n",
      "[310] Loss = 7.25405229317e-07\n",
      "[320] Loss = 6.3019663423e-07\n",
      "[330] Loss = 5.23929821921e-07\n",
      "[340] Loss = 5.56699071939e-07\n",
      "[350] Loss = 5.8396422601e-07\n",
      "[360] Loss = 1.13413589341e-06\n",
      "[370] Loss = 6.21774530673e-07\n",
      "[380] Loss = 4.57601765027e-07\n",
      "[390] Loss = 3.89757064673e-07\n",
      "[400] Loss = 3.88606277468e-07\n",
      "[410] Loss = 5.35583430594e-07\n",
      "[420] Loss = 3.14114512978e-07\n",
      "[430] Loss = 2.44378613738e-07\n"
     ]
    },
    {
     "ename": "KeyboardInterrupt",
     "evalue": "",
     "output_type": "error",
     "traceback": [
      "\u001b[1;31m---------------------------------------------------------------------------\u001b[0m",
      "\u001b[1;31mKeyboardInterrupt\u001b[0m                         Traceback (most recent call last)",
      "\u001b[1;32m<ipython-input-90-91e299a6b027>\u001b[0m in \u001b[0;36m<module>\u001b[1;34m()\u001b[0m\n\u001b[0;32m     35\u001b[0m \u001b[0mtrainer\u001b[0m \u001b[1;33m=\u001b[0m \u001b[0mTrainer\u001b[0m\u001b[1;33m(\u001b[0m\u001b[0mmp\u001b[0m\u001b[1;33m,\u001b[0m \u001b[0mdataset\u001b[0m\u001b[1;33m,\u001b[0m \u001b[0mgpu_id\u001b[0m\u001b[1;33m=\u001b[0m\u001b[1;36m2\u001b[0m\u001b[1;33m)\u001b[0m\u001b[1;33m\u001b[0m\u001b[0m\n\u001b[0;32m     36\u001b[0m \u001b[0mcallback\u001b[0m \u001b[1;33m=\u001b[0m \u001b[1;32mlambda\u001b[0m \u001b[0mi\u001b[0m\u001b[1;33m,\u001b[0m \u001b[0ml\u001b[0m\u001b[1;33m,\u001b[0m \u001b[0ms\u001b[0m\u001b[1;33m=\u001b[0m\u001b[0mseed\u001b[0m\u001b[1;33m,\u001b[0m \u001b[0mt\u001b[0m\u001b[1;33m=\u001b[0m\u001b[0mtrainer\u001b[0m\u001b[1;33m:\u001b[0m \u001b[0mstatus_hook\u001b[0m\u001b[1;33m(\u001b[0m\u001b[0mi\u001b[0m\u001b[1;33m,\u001b[0m \u001b[0ml\u001b[0m\u001b[1;33m,\u001b[0m \u001b[0ms\u001b[0m\u001b[1;33m,\u001b[0m \u001b[0mt\u001b[0m\u001b[1;33m)\u001b[0m\u001b[1;33m\u001b[0m\u001b[0m\n\u001b[1;32m---> 37\u001b[1;33m \u001b[0mtrainer\u001b[0m\u001b[1;33m.\u001b[0m\u001b[0mrun\u001b[0m\u001b[1;33m(\u001b[0m\u001b[0mstatus_hook\u001b[0m\u001b[1;33m=\u001b[0m\u001b[0mcallback\u001b[0m\u001b[1;33m)\u001b[0m\u001b[1;33m\u001b[0m\u001b[0m\n\u001b[0m",
      "\u001b[1;32m/project/python/lib/drivers/chainer/trainer.pyc\u001b[0m in \u001b[0;36mrun\u001b[1;34m(self, status_hook, logging_hook)\u001b[0m\n\u001b[0;32m    553\u001b[0m             \u001b[0mn_layers\u001b[0m \u001b[1;33m=\u001b[0m \u001b[0mself\u001b[0m\u001b[1;33m.\u001b[0m\u001b[0mcheck_layer\u001b[0m\u001b[1;33m(\u001b[0m\u001b[0mstopper\u001b[0m\u001b[1;33m.\u001b[0m\u001b[0miter\u001b[0m\u001b[1;33m,\u001b[0m \u001b[0mn_layers\u001b[0m\u001b[1;33m)\u001b[0m\u001b[1;33m\u001b[0m\u001b[0m\n\u001b[0;32m    554\u001b[0m \u001b[1;33m\u001b[0m\u001b[0m\n\u001b[1;32m--> 555\u001b[1;33m             \u001b[0mcursor\u001b[0m\u001b[1;33m,\u001b[0m \u001b[0ml\u001b[0m \u001b[1;33m=\u001b[0m \u001b[0mself\u001b[0m\u001b[1;33m.\u001b[0m\u001b[0m_update\u001b[0m\u001b[1;33m(\u001b[0m\u001b[0mstopper\u001b[0m\u001b[1;33m.\u001b[0m\u001b[0miter\u001b[0m\u001b[1;33m,\u001b[0m \u001b[0mcursor\u001b[0m\u001b[1;33m)\u001b[0m\u001b[1;33m\u001b[0m\u001b[0m\n\u001b[0m\u001b[0;32m    556\u001b[0m             \u001b[0mself\u001b[0m\u001b[1;33m.\u001b[0m\u001b[0mtrain_loss_curve\u001b[0m\u001b[1;33m.\u001b[0m\u001b[0mappend\u001b[0m\u001b[1;33m(\u001b[0m\u001b[1;33m(\u001b[0m\u001b[0mlen\u001b[0m\u001b[1;33m(\u001b[0m\u001b[0mself\u001b[0m\u001b[1;33m.\u001b[0m\u001b[0mtrain_loss_curve\u001b[0m\u001b[1;33m)\u001b[0m\u001b[1;33m,\u001b[0m \u001b[0ml\u001b[0m\u001b[1;33m)\u001b[0m\u001b[1;33m)\u001b[0m\u001b[1;33m\u001b[0m\u001b[0m\n\u001b[0;32m    557\u001b[0m \u001b[1;33m\u001b[0m\u001b[0m\n",
      "\u001b[1;32m/project/python/lib/drivers/chainer/trainer.pyc\u001b[0m in \u001b[0;36m_update\u001b[1;34m(self, itr, cursor)\u001b[0m\n\u001b[0;32m    448\u001b[0m         \u001b[1;32mfor\u001b[0m \u001b[0mworker\u001b[0m \u001b[1;32min\u001b[0m \u001b[0mself\u001b[0m\u001b[1;33m.\u001b[0m\u001b[0mworkers\u001b[0m\u001b[1;33m[\u001b[0m\u001b[1;36m1\u001b[0m\u001b[1;33m:\u001b[0m\u001b[1;33m]\u001b[0m\u001b[1;33m:\u001b[0m\u001b[1;33m\u001b[0m\u001b[0m\n\u001b[0;32m    449\u001b[0m             \u001b[0mjobs\u001b[0m\u001b[1;33m.\u001b[0m\u001b[0mappend\u001b[0m\u001b[1;33m(\u001b[0m\u001b[0mworker\u001b[0m\u001b[1;33m.\u001b[0m\u001b[0mforward_backward\u001b[0m\u001b[1;33m(\u001b[0m\u001b[0mk_begin\u001b[0m\u001b[1;33m,\u001b[0m \u001b[0mk_end\u001b[0m\u001b[1;33m)\u001b[0m\u001b[1;33m)\u001b[0m\u001b[1;33m\u001b[0m\u001b[0m\n\u001b[1;32m--> 450\u001b[1;33m         \u001b[0mjobs\u001b[0m\u001b[1;33m[\u001b[0m\u001b[1;36m0\u001b[0m\u001b[1;33m]\u001b[0m \u001b[1;33m=\u001b[0m \u001b[0mself\u001b[0m\u001b[1;33m.\u001b[0m\u001b[0mworkers\u001b[0m\u001b[1;33m[\u001b[0m\u001b[1;36m0\u001b[0m\u001b[1;33m]\u001b[0m\u001b[1;33m.\u001b[0m\u001b[0mforward_backward\u001b[0m\u001b[1;33m(\u001b[0m\u001b[0mk_begin\u001b[0m\u001b[1;33m,\u001b[0m \u001b[0mk_end\u001b[0m\u001b[1;33m)\u001b[0m\u001b[1;33m\u001b[0m\u001b[0m\n\u001b[0m\u001b[0;32m    451\u001b[0m \u001b[1;33m\u001b[0m\u001b[0m\n\u001b[0;32m    452\u001b[0m         \u001b[0mn_x\u001b[0m \u001b[1;33m=\u001b[0m \u001b[1;36m0\u001b[0m\u001b[1;33m\u001b[0m\u001b[0m\n",
      "\u001b[1;32m/project/python/lib/drivers/chainer/trainer.pyc\u001b[0m in \u001b[0;36mforward_backward\u001b[1;34m(self, k_begin, k_end)\u001b[0m\n\u001b[0;32m    323\u001b[0m \u001b[1;33m\u001b[0m\u001b[0m\n\u001b[0;32m    324\u001b[0m     \u001b[1;32mdef\u001b[0m \u001b[0mforward_backward\u001b[0m\u001b[1;33m(\u001b[0m\u001b[0mself\u001b[0m\u001b[1;33m,\u001b[0m \u001b[0mk_begin\u001b[0m\u001b[1;33m,\u001b[0m \u001b[0mk_end\u001b[0m\u001b[1;33m)\u001b[0m\u001b[1;33m:\u001b[0m\u001b[1;33m\u001b[0m\u001b[0m\n\u001b[1;32m--> 325\u001b[1;33m         \u001b[1;32mreturn\u001b[0m \u001b[0mself\u001b[0m\u001b[1;33m.\u001b[0m\u001b[0mmanager\u001b[0m\u001b[1;33m.\u001b[0m\u001b[0mforward_backward\u001b[0m\u001b[1;33m(\u001b[0m\u001b[0mk_begin\u001b[0m\u001b[1;33m,\u001b[0m \u001b[0mk_end\u001b[0m\u001b[1;33m)\u001b[0m\u001b[1;33m\u001b[0m\u001b[0m\n\u001b[0m\u001b[0;32m    326\u001b[0m \u001b[1;33m\u001b[0m\u001b[0m\n\u001b[0;32m    327\u001b[0m     \u001b[1;32mdef\u001b[0m \u001b[0mstop\u001b[0m\u001b[1;33m(\u001b[0m\u001b[0mself\u001b[0m\u001b[1;33m)\u001b[0m\u001b[1;33m:\u001b[0m\u001b[1;33m\u001b[0m\u001b[0m\n",
      "\u001b[1;32m/project/python/lib/drivers/chainer/trainer.pyc\u001b[0m in \u001b[0;36mforward_backward\u001b[1;34m(self, k_begin, k_end, grad_clip)\u001b[0m\n\u001b[0;32m    185\u001b[0m                     \u001b[0mself\u001b[0m\u001b[1;33m.\u001b[0m\u001b[0mloss\u001b[0m \u001b[1;33m+=\u001b[0m \u001b[0mself\u001b[0m\u001b[1;33m.\u001b[0m\u001b[0mrnns\u001b[0m\u001b[1;33m[\u001b[0m\u001b[0mi\u001b[0m\u001b[1;33m]\u001b[0m\u001b[1;33m.\u001b[0m\u001b[0mloss\u001b[0m\u001b[1;33m(\u001b[0m\u001b[0my_pred\u001b[0m\u001b[1;33m,\u001b[0m \u001b[0my\u001b[0m\u001b[1;33m[\u001b[0m\u001b[0mj\u001b[0m\u001b[1;33m]\u001b[0m\u001b[1;33m,\u001b[0m \u001b[0mtrain\u001b[0m\u001b[1;33m=\u001b[0m\u001b[0mTrue\u001b[0m\u001b[1;33m)\u001b[0m\u001b[1;33m\u001b[0m\u001b[0m\n\u001b[0;32m    186\u001b[0m \u001b[1;33m\u001b[0m\u001b[0m\n\u001b[1;32m--> 187\u001b[1;33m                 \u001b[0mself\u001b[0m\u001b[1;33m.\u001b[0m\u001b[0mloss\u001b[0m\u001b[1;33m.\u001b[0m\u001b[0mbackward\u001b[0m\u001b[1;33m(\u001b[0m\u001b[1;33m)\u001b[0m\u001b[1;33m\u001b[0m\u001b[0m\n\u001b[0m\u001b[0;32m    188\u001b[0m                 \u001b[0mopt\u001b[0m\u001b[1;33m.\u001b[0m\u001b[0mclip_grads\u001b[0m\u001b[1;33m(\u001b[0m\u001b[0mgrad_clip\u001b[0m\u001b[1;33m)\u001b[0m\u001b[1;33m\u001b[0m\u001b[0m\n\u001b[0;32m    189\u001b[0m                 \u001b[0mopt\u001b[0m\u001b[1;33m.\u001b[0m\u001b[0mupdate\u001b[0m\u001b[1;33m(\u001b[0m\u001b[1;33m)\u001b[0m\u001b[1;33m\u001b[0m\u001b[0m\n",
      "\u001b[1;32m/usr/local/lib/python2.7/dist-packages/chainer/variable.pyc\u001b[0m in \u001b[0;36mbackward\u001b[1;34m(self, retain_grad)\u001b[0m\n\u001b[0;32m    275\u001b[0m             \u001b[0mout_grad\u001b[0m \u001b[1;33m=\u001b[0m \u001b[0mtuple\u001b[0m\u001b[1;33m(\u001b[0m\u001b[0mNone\u001b[0m \u001b[1;32mif\u001b[0m \u001b[0my\u001b[0m \u001b[1;32mis\u001b[0m \u001b[0mNone\u001b[0m \u001b[1;32melse\u001b[0m \u001b[0my\u001b[0m\u001b[1;33m.\u001b[0m\u001b[0mgrad\u001b[0m \u001b[1;32mfor\u001b[0m \u001b[0my\u001b[0m \u001b[1;32min\u001b[0m \u001b[0moutputs\u001b[0m\u001b[1;33m)\u001b[0m\u001b[1;33m\u001b[0m\u001b[0m\n\u001b[0;32m    276\u001b[0m             \u001b[1;32mwith\u001b[0m \u001b[0mcuda\u001b[0m\u001b[1;33m.\u001b[0m\u001b[0mget_device\u001b[0m\u001b[1;33m(\u001b[0m\u001b[1;33m*\u001b[0m\u001b[1;33m(\u001b[0m\u001b[0min_data\u001b[0m \u001b[1;33m+\u001b[0m \u001b[0mout_grad\u001b[0m\u001b[1;33m)\u001b[0m\u001b[1;33m)\u001b[0m\u001b[1;33m:\u001b[0m\u001b[1;33m\u001b[0m\u001b[0m\n\u001b[1;32m--> 277\u001b[1;33m                 \u001b[0mgxs\u001b[0m \u001b[1;33m=\u001b[0m \u001b[0mfunc\u001b[0m\u001b[1;33m.\u001b[0m\u001b[0mbackward\u001b[0m\u001b[1;33m(\u001b[0m\u001b[0min_data\u001b[0m\u001b[1;33m,\u001b[0m \u001b[0mout_grad\u001b[0m\u001b[1;33m)\u001b[0m\u001b[1;33m\u001b[0m\u001b[0m\n\u001b[0m\u001b[0;32m    278\u001b[0m             \u001b[1;32massert\u001b[0m \u001b[0mlen\u001b[0m\u001b[1;33m(\u001b[0m\u001b[0mgxs\u001b[0m\u001b[1;33m)\u001b[0m \u001b[1;33m==\u001b[0m \u001b[0mlen\u001b[0m\u001b[1;33m(\u001b[0m\u001b[0min_data\u001b[0m\u001b[1;33m)\u001b[0m\u001b[1;33m\u001b[0m\u001b[0m\n\u001b[0;32m    279\u001b[0m \u001b[1;33m\u001b[0m\u001b[0m\n",
      "\u001b[1;32m/usr/local/lib/python2.7/dist-packages/chainer/functions/activation/lstm.pyc\u001b[0m in \u001b[0;36mbackward\u001b[1;34m(self, inputs, grad_outputs)\u001b[0m\n\u001b[0;32m    127\u001b[0m                 \u001b[1;34m'lstm_bwd'\u001b[0m\u001b[1;33m,\u001b[0m \u001b[0mpreamble\u001b[0m\u001b[1;33m=\u001b[0m\u001b[0m_preamble\u001b[0m\u001b[1;33m)\u001b[0m\u001b[1;33m(\u001b[0m\u001b[1;33m\u001b[0m\u001b[0m\n\u001b[0;32m    128\u001b[0m                     \u001b[0mc_prev\u001b[0m\u001b[1;33m,\u001b[0m \u001b[0mself\u001b[0m\u001b[1;33m.\u001b[0m\u001b[0mc\u001b[0m\u001b[1;33m,\u001b[0m \u001b[0mgc\u001b[0m\u001b[1;33m,\u001b[0m \u001b[0mgh\u001b[0m\u001b[1;33m,\u001b[0m \u001b[0ma\u001b[0m\u001b[1;33m,\u001b[0m \u001b[0mi\u001b[0m\u001b[1;33m,\u001b[0m \u001b[0mf\u001b[0m\u001b[1;33m,\u001b[0m \u001b[0mo\u001b[0m\u001b[1;33m,\u001b[0m\u001b[1;33m\u001b[0m\u001b[0m\n\u001b[1;32m--> 129\u001b[1;33m                     gc_prev, ga, gi, gf, go)\n\u001b[0m\u001b[0;32m    130\u001b[0m \u001b[1;33m\u001b[0m\u001b[0m\n\u001b[0;32m    131\u001b[0m         \u001b[1;32mreturn\u001b[0m \u001b[0mgc_prev\u001b[0m\u001b[1;33m,\u001b[0m \u001b[0mgx\u001b[0m\u001b[1;33m\u001b[0m\u001b[0m\n",
      "\u001b[1;31mKeyboardInterrupt\u001b[0m: "
     ]
    }
   ],
   "source": [
    "from drivers.chainer.trainer import Trainer\n",
    "import json\n",
    "from utils import parse_json\n",
    "from nb_utils import compare\n",
    "\n",
    "def status_hook(i, l, seed, t):\n",
    "    if i % 10 == 0:\n",
    "        print('[{0}] Loss = {1}'.format(i, l))\n",
    "    if (i + 1) % 100 == 0:\n",
    "        t.rnn.model.to_cpu()\n",
    "        compare.set_model_to_cache(t.rnn, '{0}_{1}.{2}'.format('${NAME}', i + 1, seed))\n",
    "        with t.rnn.handler.device:\n",
    "            t.rnn.model.to_gpu()\n",
    "\n",
    "def logging_hook(i, train_dots, test_dots, train_loss, test_loss, model, seed):\n",
    "    with open('{0}_{1}.{2}.pkl'.format('${NAME}', i + 1, seed), \"w\") as fp:\n",
    "        fp.write(json.dumps({\n",
    "            'train_dots': train_dots,\n",
    "            'test_dots': test_dots,\n",
    "            'train_loss': train_loss,\n",
    "            'test_loss': test_loss,\n",
    "        }))\n",
    "\n",
    "def load_json(path):\n",
    "    with open(path) as fp:\n",
    "        return json.loads(fp.read())\n",
    "\n",
    "dataset = parse_json(load_json('/project/exp/list.json'))\n",
    "\n",
    "mp = load_json(\"/project/exp/list_mp.json\")\n",
    "# for seed in [150, 151, 152]:\n",
    "seed = 151\n",
    "\n",
    "mp['config']['random_seed'] = seed\n",
    "trainer = Trainer(mp, dataset, gpu_id=2)\n",
    "callback = lambda i, l, s=seed, t=trainer: status_hook(i, l, s, t)\n",
    "trainer.run(status_hook=callback)"
   ]
  },
  {
   "cell_type": "code",
   "execution_count": 91,
   "metadata": {
    "collapsed": true
   },
   "outputs": [],
   "source": [
    "trainer.rnn.save(\"test_1337\")"
   ]
  },
  {
   "cell_type": "code",
   "execution_count": null,
   "metadata": {
    "collapsed": true
   },
   "outputs": [],
   "source": []
  },
  {
   "cell_type": "markdown",
   "metadata": {},
   "source": [
    "---\n",
    "\n",
    "---\n",
    "\n",
    "---"
   ]
  },
  {
   "cell_type": "code",
   "execution_count": 83,
   "metadata": {
    "collapsed": true
   },
   "outputs": [],
   "source": [
    "import algos"
   ]
  },
  {
   "cell_type": "code",
   "execution_count": 87,
   "metadata": {
    "collapsed": false
   },
   "outputs": [
    {
     "data": {
      "text/plain": [
       "'20160406-055617_8a1924208795_0ee1593e'"
      ]
     },
     "execution_count": 87,
     "metadata": {},
     "output_type": "execute_result"
    }
   ],
   "source": [
    "algos.generate_training_id()"
   ]
  },
  {
   "cell_type": "code",
   "execution_count": 126,
   "metadata": {
    "collapsed": true
   },
   "outputs": [],
   "source": [
    "from ml.trainlogging import TrainLogger\n",
    "from StringIO import StringIO\n",
    "import cPickle"
   ]
  },
  {
   "cell_type": "code",
   "execution_count": 97,
   "metadata": {
    "collapsed": false
   },
   "outputs": [],
   "source": [
    "# 2,108\n",
    "# 20160316-154406_slk80-4-app-2-www_8a437b40\n",
    "tl = TrainLogger(training_id=\"20160316-154406_slk80-4-app-2-www_8a437b40\")"
   ]
  },
  {
   "cell_type": "code",
   "execution_count": 113,
   "metadata": {
    "collapsed": false
   },
   "outputs": [],
   "source": [
    "tl.path_fmt = 'trading/hdf5/prod/{}'"
   ]
  },
  {
   "cell_type": "code",
   "execution_count": 103,
   "metadata": {
    "collapsed": false
   },
   "outputs": [],
   "source": [
    "tl.training_id = \"20160316-154406_slk80-4-app-2-www_8a437b40\""
   ]
  },
  {
   "cell_type": "code",
   "execution_count": 117,
   "metadata": {
    "collapsed": false
   },
   "outputs": [
    {
     "data": {
      "text/plain": [
       "'20160316-154406_slk80-4-app-2-www_8a437b40'"
      ]
     },
     "execution_count": 117,
     "metadata": {},
     "output_type": "execute_result"
    }
   ],
   "source": [
    "tl.training_id"
   ]
  },
  {
   "cell_type": "code",
   "execution_count": 118,
   "metadata": {
    "collapsed": false
   },
   "outputs": [],
   "source": [
    "# def load(cls, training_id, itr=None):\n",
    "path = tl.path_fmt.format(tl.training_id)"
   ]
  },
  {
   "cell_type": "code",
   "execution_count": 182,
   "metadata": {
    "collapsed": false
   },
   "outputs": [
    {
     "data": {
      "text/plain": [
       "'trading/hdf5/prod/20160316-154406_slk80-4-app-2-www_8a437b40'"
      ]
     },
     "execution_count": 182,
     "metadata": {},
     "output_type": "execute_result"
    }
   ],
   "source": [
    "path"
   ]
  },
  {
   "cell_type": "code",
   "execution_count": 120,
   "metadata": {
    "collapsed": true
   },
   "outputs": [],
   "source": [
    "# if itr is not None:\n",
    "#     path = '{}@{}'.format(path, itr)\n",
    "bucket = tl._bucket()\n",
    "key = bucket.get_key(path)"
   ]
  },
  {
   "cell_type": "code",
   "execution_count": 122,
   "metadata": {
    "collapsed": false
   },
   "outputs": [
    {
     "data": {
      "text/plain": [
       "<Key: exp.alpacadb.com,trading/hdf5/prod/20160316-154406_slk80-4-app-2-www_8a437b40>"
      ]
     },
     "execution_count": 122,
     "metadata": {},
     "output_type": "execute_result"
    }
   ],
   "source": [
    "key"
   ]
  },
  {
   "cell_type": "code",
   "execution_count": 128,
   "metadata": {
    "collapsed": false
   },
   "outputs": [
    {
     "data": {
      "text/plain": [
       "<StringIO.StringIO instance at 0x7f855f1b1a28>"
      ]
     },
     "execution_count": 128,
     "metadata": {},
     "output_type": "execute_result"
    }
   ],
   "source": [
    "buf"
   ]
  },
  {
   "cell_type": "code",
   "execution_count": 138,
   "metadata": {
    "collapsed": false
   },
   "outputs": [
    {
     "name": "stdout",
     "output_type": "stream",
     "text": [
      "Exit rules expriments.ipynb  Exit rules expriments_V2.ipynb  tttmp\r\n"
     ]
    }
   ],
   "source": [
    "ls"
   ]
  },
  {
   "cell_type": "code",
   "execution_count": 139,
   "metadata": {
    "collapsed": false
   },
   "outputs": [],
   "source": [
    "with open(\"/project/data/cache/tttmp\",\"w+\") as f:\n",
    "    key.get_file(f)"
   ]
  },
  {
   "cell_type": "code",
   "execution_count": 142,
   "metadata": {
    "collapsed": false
   },
   "outputs": [],
   "source": [
    "from trading.backtest.scorer import Scorer\n",
    "\n",
    "training_id = \"tttmp\"\n",
    "\n",
    "bt_result = Scorer.calc_score(\n",
    "    training_id,\n",
    "    model_params['symbol'],\n",
    "    model_params['timeframe'],\n",
    "    bt_start,\n",
    "    bt_end,\n",
    "    bt_batch_size)"
   ]
  },
  {
   "cell_type": "markdown",
   "metadata": {},
   "source": [
    "---"
   ]
  },
  {
   "cell_type": "code",
   "execution_count": null,
   "metadata": {
    "collapsed": true
   },
   "outputs": [],
   "source": [
    "# -*- coding: utf-8 -*-\n",
    "\n",
    "from __future__ import absolute_import\n",
    "import numpy as np\n",
    "from histdata import get_pandadb, get_table_name\n",
    "from trading.simulator import get_trade_entry_timestamps, calc\n",
    "from collections import namedtuple\n",
    "\n",
    "\n",
    "class Backtest(object):\n",
    "\n",
    "    def __init__(self, symbol, scores=None):\n",
    "        self.symbol = symbol\n",
    "        self.scores = scores\n",
    "        self.previous_threshold = None\n",
    "        self.entry_timestamps = None\n",
    "\n",
    "    def profit(self, profit_take, loss_cut, side, threshold=0.85):\n",
    "        pandadb = get_pandadb()\n",
    "        df = pandadb[get_table_name(self.symbol, '1Min')]\n",
    "        return calc(\n",
    "            df,\n",
    "            self.update_entry_timestamps(threshold),\n",
    "            self.symbol,\n",
    "            side,\n",
    "            profit_take,\n",
    "            loss_cut)\n",
    "\n",
    "    def update_entry_timestamps(self, threshold):\n",
    "        update = False\n",
    "        if self.previous_threshold:\n",
    "            update = (self.previous_threshold != threshold)\n",
    "        else:\n",
    "            update = True\n",
    "\n",
    "        if update:\n",
    "            self.entry_timestamps = get_trade_entry_timestamps(\n",
    "                self.scores, threshold)\n",
    "            self.previous_threshold = threshold\n",
    "\n",
    "        return self.entry_timestamps\n",
    "\n",
    "\n",
    "class Ratio(object):\n",
    "\n",
    "    def __init__(self, a, b):\n",
    "        assert isinstance(a, int)\n",
    "        assert isinstance(b, int)\n",
    "        # profit_take : loss_cut = a : b\n",
    "\n",
    "        if a >= b:\n",
    "            # loss_cut = base\n",
    "            # profit_take = a * base / b\n",
    "            self.calc_lc = lambda base: base\n",
    "            self.calc_pt = lambda base, x=float(a), y=float(b): int(\n",
    "                round(base * x / y))\n",
    "        else:\n",
    "            # profit_take = base\n",
    "            # loss_cut = b * profit_take / a\n",
    "            self.calc_pt = lambda base: base\n",
    "            self.calc_lc = lambda base, x=float(a), y=float(b): int(\n",
    "                round(base * y / x))\n",
    "\n",
    "    def get_profit_take(self, base):\n",
    "        return self.calc_pt(base)\n",
    "\n",
    "    def get_loss_cut(self, base):\n",
    "        return self.calc_lc(base)\n",
    "\n",
    "\n",
    "Optimized = namedtuple(\"Optimized\", \"profit_take loss_cut account\")\n",
    "\n",
    "\n",
    "class Optimizer(object):\n",
    "\n",
    "    def __init__(self, backtest, ratio, side, threshold=0.85):\n",
    "        \"\"\"\n",
    "        :param backtest: instance of `trading.backtest.optimizer.Backtest`.\n",
    "        :param ratio: instance of `trading.backtest.optimizer.Ratio`.\n",
    "        :param side: \"long\" or \"short\"\n",
    "        :param threshold: Threshold of backtesting\n",
    "        \"\"\"\n",
    "        assert side in [\"long\", \"short\"]\n",
    "        assert isinstance(ratio, Ratio)\n",
    "\n",
    "        self.backtest = backtest\n",
    "        self.ratio = ratio\n",
    "        self.side = side\n",
    "        self.threshold = threshold\n",
    "\n",
    "    def evaluate(self, candidate):\n",
    "        profit_take = self.ratio.get_profit_take(candidate)\n",
    "        loss_cut = self.ratio.get_loss_cut(candidate)\n",
    "        account = self.backtest.profit(\n",
    "            profit_take, loss_cut, self.side, self.threshold)\n",
    "        return account\n",
    "\n",
    "    def optimize(self, **kwargs):\n",
    "        assert \"timeframe\" in kwargs\n",
    "\n",
    "        candidates = {\n",
    "            '1Min': [5, 7, 10, 12, 15],\n",
    "            '5Min': [5, 7, 10, 15, 20],\n",
    "            '15Min': [5, 10, 15, 20, 30],\n",
    "            '1H': [10, 20, 30, 40, 60],\n",
    "            '4H': [10, 20, 30, 50, 80],\n",
    "            '1D': [10, 25, 40, 60, 90],\n",
    "        }.get(kwargs[\"timeframe\"], None)\n",
    "        assert candidates is not None\n",
    "\n",
    "        accounts = map(lambda candidate: self.evaluate(candidate), candidates)\n",
    "        profits = map(lambda account: account.total_balance(), accounts)\n",
    "        best_index = np.argmax(profits)\n",
    "        profit_take = self.ratio.get_profit_take(candidates[best_index])\n",
    "        loss_cut = self.ratio.get_loss_cut(candidates[best_index])\n",
    "        best_account = accounts[best_index]\n",
    "\n",
    "        return Optimized(profit_take, loss_cut, best_account)"
   ]
  },
  {
   "cell_type": "code",
   "execution_count": 188,
   "metadata": {
    "collapsed": false
   },
   "outputs": [
    {
     "data": {
      "text/plain": [
       "62168"
      ]
     },
     "execution_count": 188,
     "metadata": {},
     "output_type": "execute_result"
    }
   ],
   "source": [
    "len(bt_result)"
   ]
  },
  {
   "cell_type": "code",
   "execution_count": 190,
   "metadata": {
    "collapsed": false
   },
   "outputs": [],
   "source": [
    "reduced_res = bt_result[:10000]"
   ]
  },
  {
   "cell_type": "code",
   "execution_count": 270,
   "metadata": {
    "collapsed": false
   },
   "outputs": [],
   "source": [
    "profit_take , loss_cut = 2 , 5\n",
    "threshold = 0.57\n",
    "backtest = Backtest(\"USDJPY\",scores=bt_result)\n",
    "ratio = Ratio(profit_take , loss_cut) #profit_take : loss_cut = a : b\n",
    "optimizer = Optimizer(backtest,ratio,\"long\",threshold=threshold) # side: \"long\" or \"short\", "
   ]
  },
  {
   "cell_type": "code",
   "execution_count": 292,
   "metadata": {
    "collapsed": false
   },
   "outputs": [
    {
     "name": "stdout",
     "output_type": "stream",
     "text": [
      "CPU times: user 56 ms, sys: 1.27 s, total: 1.32 s\n",
      "Wall time: 1.37 s\n"
     ]
    }
   ],
   "source": [
    "%%time\n",
    "# '15Min': [5, 10, 15, 20, 30]\n",
    "profit_take , loss_cut = 2 , 5\n",
    "threshold = 0.57\n",
    "res = backtest.profit(profit_take, loss_cut, \"long\", threshold)"
   ]
  },
  {
   "cell_type": "code",
   "execution_count": 295,
   "metadata": {
    "collapsed": false
   },
   "outputs": [
    {
     "data": {
      "text/plain": [
       "-50.699999999996237"
      ]
     },
     "execution_count": 295,
     "metadata": {},
     "output_type": "execute_result"
    }
   ],
   "source": [
    "res.total_balance()"
   ]
  },
  {
   "cell_type": "code",
   "execution_count": 280,
   "metadata": {
    "collapsed": true
   },
   "outputs": [],
   "source": [
    "profit_take , loss_cut = 2 , 5\n",
    "backtest = Backtest(\"USDJPY\",scores=bt_result)\n",
    "ratio = Ratio(profit_take , loss_cut) #profit_take : loss_cut = a : b"
   ]
  },
  {
   "cell_type": "code",
   "execution_count": 271,
   "metadata": {
    "collapsed": false
   },
   "outputs": [
    {
     "name": "stdout",
     "output_type": "stream",
     "text": [
      "CPU times: user 1.4 s, sys: 4.89 s, total: 6.29 s\n",
      "Wall time: 6.28 s\n"
     ]
    }
   ],
   "source": [
    "%%time\n",
    "o = optimizer.optimize(timeframe='15Min')"
   ]
  },
  {
   "cell_type": "code",
   "execution_count": 289,
   "metadata": {
    "collapsed": false
   },
   "outputs": [
    {
     "name": "stdout",
     "output_type": "stream",
     "text": [
      "Choosen loss/cut    30 75\n",
      "Balance             556.6\n",
      "Number of trades    62\n"
     ]
    }
   ],
   "source": [
    "print(\"Choosen loss/cut   \",o.profit_take,o.loss_cut)\n",
    "print(\"Balance            \",o.account.total_balance())\n",
    "print(\"Number of trades   \",len(o.account.trades))"
   ]
  },
  {
   "cell_type": "code",
   "execution_count": 273,
   "metadata": {
    "collapsed": false
   },
   "outputs": [
    {
     "data": {
      "image/png": "[encoded data removed]",
      "text/plain": [
       "<matplotlib.figure.Figure at 0x7f85542afbd0>"
      ]
     },
     "metadata": {},
     "output_type": "display_data"
    }
   ],
   "source": [
    "plt.plot(o.account.daily_total[\"open\"].values[4300:])\n",
    "plt.show()"
   ]
  },
  {
   "cell_type": "markdown",
   "metadata": {},
   "source": [
    "# Hyper parameters optimization\n",
    "\n",
    "##### Put it an other way: fully automated exit rule paramaters selection\n",
    "\n",
    "Random search, high performance on a big enought feature space, [reference](http://www.jmlr.org/papers/volume13/bergstra12a/bergstra12a.pdf)  \n",
    "Gradient based optimization, chaining derivatives backwards through the entire training procedure, [paper](http://jmlr.org/proceedings/papers/v37/maclaurin15.pdf)\n",
    "\n",
    "### Random search opt"
   ]
  },
  {
   "cell_type": "code",
   "execution_count": 239,
   "metadata": {
    "collapsed": false
   },
   "outputs": [
    {
     "data": {
      "text/plain": [
       "0.72"
      ]
     },
     "execution_count": 239,
     "metadata": {},
     "output_type": "execute_result"
    }
   ],
   "source": [
    "already_tried = {}\n",
    "log = []"
   ]
  },
  {
   "cell_type": "code",
   "execution_count": 269,
   "metadata": {
    "collapsed": false
   },
   "outputs": [
    {
     "name": "stdout",
     "output_type": "stream",
     "text": [
      "CPU times: user 12.4 s, sys: 47.9 s, total: 1min\n",
      "Wall time: 1min\n"
     ]
    }
   ],
   "source": [
    "%%time\n",
    "\n",
    "trials = 10\n",
    "\n",
    "for i in range(trials):\n",
    "    yep = True\n",
    "    cpt=0\n",
    "    while yep:\n",
    "        profit_take , loss_cut = np.random.randint(1,10) , np.random.randint(1,10)\n",
    "        threshold = float('%.2f'%(np.random.rand()/2+0.5))\n",
    "        cpt+=1\n",
    "        if cpt>10:\n",
    "            print(\"should not happen (tried all the feature space?)\")\n",
    "            break\n",
    "        try:\n",
    "            already_tried[\"%d,%d,%f\"%(profit_take,loss_cut,threshold)]\n",
    "        except KeyError:\n",
    "            yep = False\n",
    "            already_tried[\"%d,%d,%f\"%(profit_take,loss_cut,threshold)] = 1\n",
    "    \n",
    "    backtest = Backtest(\"USDJPY\",scores=bt_result)\n",
    "    ratio = Ratio(profit_take , loss_cut) #profit_take : loss_cut = a : b\n",
    "    optimizer = Optimizer(backtest,ratio,\"long\",threshold=threshold) # side: \"long\" or \"short\", \n",
    "    o = optimizer.optimize(timeframe='15Min')\n",
    "    \n",
    "    log.append([profit_take,loss_cut,threshold,o.account.balance])"
   ]
  },
  {
   "cell_type": "code",
   "execution_count": 274,
   "metadata": {
    "collapsed": false
   },
   "outputs": [
    {
     "data": {
      "text/plain": [
       "[[2, 5, 0.57, 556.6000000000015],\n",
       " [9, 3, 0.77, 475.90000000000572],\n",
       " [8, 4, 0.82, 460.59999999999945],\n",
       " [8, 4, 0.84, 454.89999999999924],\n",
       " [2, 3, 0.53, 452.50000000000057],\n",
       " [5, 2, 0.67, 446.8999999999923],\n",
       " [2, 6, 0.86, 445.59999999999462],\n",
       " [2, 9, 0.69, 424.49999999999761],\n",
       " [3, 6, 0.71, 401.0999999999953],\n",
       " [3, 6, 0.52, 390.49999999999869]]"
      ]
     },
     "execution_count": 274,
     "metadata": {},
     "output_type": "execute_result"
    }
   ],
   "source": [
    "best_params = sorted(log,key=lambda a: a[3],reverse=True)\n",
    "best_params[:10]"
   ]
  },
  {
   "cell_type": "code",
   "execution_count": 1,
   "metadata": {
    "collapsed": true
   },
   "outputs": [],
   "source": [
    "already_tried = {}\n",
    "log = []"
   ]
  },
  {
   "cell_type": "code",
   "execution_count": null,
   "metadata": {
    "collapsed": false
   },
   "outputs": [],
   "source": [
    "%%time\n",
    "\n",
    "# '15Min': [5, 10, 15, 20, 30]\n",
    "backtest = Backtest(\"USDJPY\",scores=bt_result)\n",
    "\n",
    "trials = 40\n",
    "\n",
    "for i in range(trials):\n",
    "    yep = True\n",
    "    cpt=0\n",
    "    while yep:\n",
    "        multiplier = np.random.choice([5, 10, 15, 20, 30])\n",
    "        \n",
    "        profit_take = np.random.randint(1,10)*multiplier\n",
    "        loss_cut = np.random.randint(1,10)*multiplier\n",
    "\n",
    "        threshold = float('%.2f'%(np.random.rand()/2+0.5))\n",
    "        \n",
    "        cpt+=1\n",
    "        if cpt>10:\n",
    "            print(\"should not happen (tried all the feature space?)\")\n",
    "            break\n",
    "        try:\n",
    "            already_tried[\"%d,%d,%f\"%(profit_take,loss_cut,threshold)]\n",
    "        except KeyError:\n",
    "            yep = False\n",
    "            already_tried[\"%d,%d,%f\"%(profit_take,loss_cut,threshold)] = 1\n",
    "    \n",
    "    res = backtest.profit(profit_take, loss_cut, \"long\", threshold)\n",
    "    \n",
    "    log.append([profit_take,\n",
    "                loss_cut,\n",
    "                threshold,\n",
    "                res.total_balance(),\n",
    "                len(res.trades),\n",
    "                res,\n",
    "                i])"
   ]
  },
  {
   "cell_type": "code",
   "execution_count": null,
   "metadata": {
    "collapsed": true
   },
   "outputs": [],
   "source": [
    "best_params = np.array(sorted(log,key=lambda a: a[-1],reverse=True))\n",
    "plt.show(best_params[:,[0,1,2,3,4]])"
   ]
  },
  {
   "cell_type": "code",
   "execution_count": 323,
   "metadata": {
    "collapsed": false
   },
   "outputs": [
    {
     "data": {
      "text/plain": [
       "array([[90, 210, 0.64, 998.09999999999809, 24],\n",
       "       [90, 75, 0.69, 600.10000000000048, 40],\n",
       "       [90, 60, 0.59, 364.59999999999735, 43],\n",
       "       [105, 45, 0.83, 326.0999999999953, 41],\n",
       "       [30, 135, 0.57, 313.49999999999903, 57],\n",
       "       [40, 70, 0.73, 247.29999999999706, 53],\n",
       "       [35, 45, 0.99, 227.5999999999982, 15],\n",
       "       [15, 30, 0.81, -0.10000000000047748, 63],\n",
       "       [40, 10, 0.88, -29.100000000006787, 56],\n",
       "       [25, 5, 0.93, -218.40000000000686, 53]], dtype=object)"
      ]
     },
     "execution_count": 323,
     "metadata": {},
     "output_type": "execute_result"
    }
   ],
   "source": [
    "best_params = np.array(sorted(log,key=lambda a: a[3],reverse=True))\n",
    "best_params[:20][:,[0,1,2,3,4]]"
   ]
  },
  {
   "cell_type": "markdown",
   "metadata": {},
   "source": [
    "### Hierarchical experiment\n",
    "(pseudo finetuning)"
   ]
  },
  {
   "cell_type": "code",
   "execution_count": 341,
   "metadata": {
    "collapsed": false
   },
   "outputs": [
    {
     "name": "stdout",
     "output_type": "stream",
     "text": [
      "CPU times: user 11.8 s, sys: 13.6 s, total: 25.5 s\n",
      "Wall time: 25.4 s\n"
     ]
    }
   ],
   "source": [
    "%%time\n",
    "\n",
    "best = best_params[0]\n",
    "\n",
    "# '15Min': [5, 10, 15, 20, 30]\n",
    "backtest = Backtest(\"USDJPY\",scores=bt_result)\n",
    "\n",
    "trials = 10\n",
    "\n",
    "for i in range(trials):\n",
    "    yep = True\n",
    "    cpt=0\n",
    "    while yep:\n",
    "#         multiplier = np.random.choice([5, 10, 15, 20, 30])\n",
    "        \n",
    "        profit_take = np.random.randint(best[0]-5,best[0]+5)\n",
    "        loss_cut = np.random.randint(best[1]-5,best[1]+5)\n",
    "\n",
    "        threshold = float('%.2f'%(best[2] + (np.random.rand()/5 - 0.1)))\n",
    "        \n",
    "        cpt+=1\n",
    "        if cpt>10:\n",
    "            print(\"should not happen (tried all the feature space?)\")\n",
    "            break\n",
    "        try:\n",
    "            already_tried[\"%d,%d,%f\"%(profit_take,loss_cut,threshold)]\n",
    "        except KeyError:\n",
    "            yep = False\n",
    "            already_tried[\"%d,%d,%f\"%(profit_take,loss_cut,threshold)] = 1\n",
    "    \n",
    "    res = backtest.profit(profit_take, loss_cut, \"long\", threshold)\n",
    "    \n",
    "    log.append([profit_take,loss_cut,threshold,res.total_balance(),len(res.trades),res])"
   ]
  },
  {
   "cell_type": "code",
   "execution_count": 342,
   "metadata": {
    "collapsed": false
   },
   "outputs": [
    {
     "data": {
      "text/plain": [
       "array([[93, 206, 0.69, 1085.3999999999985, 24],\n",
       "       [92, 208, 0.7, 1062.0999999999979, 24],\n",
       "       [91, 214, 0.71, 998.60000000000173, 24],\n",
       "       [90, 210, 0.64, 998.09999999999809, 24],\n",
       "       [92, 207, 0.74, 965.10000000000093, 23],\n",
       "       [88, 213, 0.64, 944.39999999999782, 24],\n",
       "       [94, 205, 0.62, 894.8999999999985, 25],\n",
       "       [92, 213, 0.62, 821.99999999999864, 25],\n",
       "       [86, 209, 0.62, 735.80000000000041, 25],\n",
       "       [90, 75, 0.69, 600.10000000000048, 40],\n",
       "       [86, 206, 0.58, 529.10000000000264, 26],\n",
       "       [92, 206, 0.56, 384.50000000000415, 26],\n",
       "       [90, 60, 0.59, 364.59999999999735, 43],\n",
       "       [105, 45, 0.83, 326.0999999999953, 41],\n",
       "       [30, 135, 0.57, 313.49999999999903, 57],\n",
       "       [40, 70, 0.73, 247.29999999999706, 53],\n",
       "       [35, 45, 0.99, 227.5999999999982, 15],\n",
       "       [89, 210, -0.01, 90.30000000000058, 1],\n",
       "       [86, 207, -0.06, 87.199999999999989, 1],\n",
       "       [85, 212, 0.0, 85.699999999999932, 1]], dtype=object)"
      ]
     },
     "execution_count": 342,
     "metadata": {},
     "output_type": "execute_result"
    }
   ],
   "source": [
    "best_params = np.array(sorted(log,key=lambda a: a[3],reverse=True))\n",
    "best_params[:20][:,[0,1,2,3,4]]"
   ]
  },
  {
   "cell_type": "code",
   "execution_count": 351,
   "metadata": {
    "collapsed": true
   },
   "outputs": [],
   "source": [
    "best = best_params[0]"
   ]
  },
  {
   "cell_type": "code",
   "execution_count": 352,
   "metadata": {
    "collapsed": false
   },
   "outputs": [
    {
     "name": "stdout",
     "output_type": "stream",
     "text": [
      "Choosen loss/cut    93 206\n",
      "Balance             1085.4\n",
      "Number of trades    24\n"
     ]
    }
   ],
   "source": [
    "print(\"Choosen loss/cut   \",best[0],best[1])\n",
    "print(\"Balance            \",best[3])\n",
    "print(\"Number of trades   \",best[4])"
   ]
  },
  {
   "cell_type": "code",
   "execution_count": 353,
   "metadata": {
    "collapsed": false
   },
   "outputs": [
    {
     "data": {
      "image/png": "[encoded data removed]",
      "text/plain": [
       "<matplotlib.figure.Figure at 0x7f8554219890>"
      ]
     },
     "metadata": {},
     "output_type": "display_data"
    }
   ],
   "source": [
    "plt.plot(best[5].daily_total[\"open\"].values[4300:])\n",
    "plt.show()"
   ]
  },
  {
   "cell_type": "code",
   "execution_count": null,
   "metadata": {
    "collapsed": true
   },
   "outputs": [],
   "source": []
  },
  {
   "cell_type": "code",
   "execution_count": null,
   "metadata": {
    "collapsed": true
   },
   "outputs": [],
   "source": []
  },
  {
   "cell_type": "code",
   "execution_count": null,
   "metadata": {
    "collapsed": true
   },
   "outputs": [],
   "source": []
  }
 ],
 "metadata": {
  "kernelspec": {
   "display_name": "Python 2",
   "language": "python",
   "name": "python2"
  },
  "language_info": {
   "codemirror_mode": {
    "name": "ipython",
    "version": 2
   },
   "file_extension": ".py",
   "mimetype": "text/x-python",
   "name": "python",
   "nbconvert_exporter": "python",
   "pygments_lexer": "ipython2",
   "version": "2.7.6"
  }
 },
 "nbformat": 4,
 "nbformat_minor": 0
}
