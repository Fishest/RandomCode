{
 "cells": [
  {
   "cell_type": "code",
   "execution_count": 1,
   "metadata": {
    "collapsed": false
   },
   "outputs": [],
   "source": [
    "%matplotlib inline\n",
    "from __future__ import print_function, division, absolute_import\n",
    "import seaborn as sns\n",
    "import matplotlib.pyplot as plt\n",
    "import pandas as pd\n",
    "#sns.set_context(\"notebook\", font_scale=1.5)\n",
    "# !pip install docopt  # ??\n",
    "# !pip install tqdm\n",
    "# import tqdm"
   ]
  },
  {
   "cell_type": "code",
   "execution_count": 7,
   "metadata": {
    "collapsed": false
   },
   "outputs": [],
   "source": [
    "training_ids = pd.read_csv(\"/jupyter/data/Training_IDs of interesting algo for exit rule opt_2016_04_11.csv\")"
   ]
  },
  {
   "cell_type": "code",
   "execution_count": 84,
   "metadata": {
    "collapsed": true
   },
   "outputs": [
    {
     "data": {
      "text/html": [
       "<div>\n",
       "<table border=\"1\" class=\"dataframe\">\n",
       "  <thead>\n",
       "    <tr style=\"text-align: right;\">\n",
       "      <th></th>\n",
       "      <th>id</th>\n",
       "      <th>name</th>\n",
       "      <th>sharpe_ratio</th>\n",
       "      <th>net_profit</th>\n",
       "      <th>key</th>\n",
       "      <th>side</th>\n",
       "      <th>symbol</th>\n",
       "      <th>loss_cut</th>\n",
       "      <th>profit_take</th>\n",
       "      <th>timeframe</th>\n",
       "    </tr>\n",
       "  </thead>\n",
       "  <tbody>\n",
       "    <tr>\n",
       "      <th>0</th>\n",
       "      <td>1088</td>\n",
       "      <td>Dama1</td>\n",
       "      <td>1.240054</td>\n",
       "      <td>132.1</td>\n",
       "      <td>20160310-174703_slk80-4-app-2-www_dc399006</td>\n",
       "      <td>short</td>\n",
       "      <td>USDJPY</td>\n",
       "      <td>2</td>\n",
       "      <td>4</td>\n",
       "      <td>1Min</td>\n",
       "    </tr>\n",
       "    <tr>\n",
       "      <th>1</th>\n",
       "      <td>925</td>\n",
       "      <td>短期</td>\n",
       "      <td>0.599262</td>\n",
       "      <td>281.7</td>\n",
       "      <td>20160307-134254_slk80-1-app-0-www_a9116eef</td>\n",
       "      <td>long</td>\n",
       "      <td>USDJPY</td>\n",
       "      <td>1</td>\n",
       "      <td>3</td>\n",
       "      <td>1Min</td>\n",
       "    </tr>\n",
       "    <tr>\n",
       "      <th>2</th>\n",
       "      <td>1075</td>\n",
       "      <td>こつこついこうぜ</td>\n",
       "      <td>0.447214</td>\n",
       "      <td>21.4</td>\n",
       "      <td>20160310-110555_slk80-3-app-1-www_4f325195</td>\n",
       "      <td>long</td>\n",
       "      <td>USDJPY</td>\n",
       "      <td>5</td>\n",
       "      <td>7</td>\n",
       "      <td>15Min</td>\n",
       "    </tr>\n",
       "    <tr>\n",
       "      <th>3</th>\n",
       "      <td>1826</td>\n",
       "      <td>てすと</td>\n",
       "      <td>0.408248</td>\n",
       "      <td>51.0</td>\n",
       "      <td>20160314-074606_slk80-4-app-2-www_0f3ba7a5</td>\n",
       "      <td>long</td>\n",
       "      <td>USDJPY</td>\n",
       "      <td>1</td>\n",
       "      <td>3</td>\n",
       "      <td>5Min</td>\n",
       "    </tr>\n",
       "    <tr>\n",
       "      <th>4</th>\n",
       "      <td>1814</td>\n",
       "      <td>テスト</td>\n",
       "      <td>0.316378</td>\n",
       "      <td>31.1</td>\n",
       "      <td>20160314-031906_slk80-1-app-0-www_d7c4bb63</td>\n",
       "      <td>long</td>\n",
       "      <td>USDJPY</td>\n",
       "      <td>1</td>\n",
       "      <td>3</td>\n",
       "      <td>1Min</td>\n",
       "    </tr>\n",
       "    <tr>\n",
       "      <th>5</th>\n",
       "      <td>859</td>\n",
       "      <td>DAVID BOWIE</td>\n",
       "      <td>0.300419</td>\n",
       "      <td>47.0</td>\n",
       "      <td>20160308-015721_slk80-4-app-2-www_34ebb32b</td>\n",
       "      <td>short</td>\n",
       "      <td>USDJPY</td>\n",
       "      <td>1</td>\n",
       "      <td>3</td>\n",
       "      <td>5Min</td>\n",
       "    </tr>\n",
       "    <tr>\n",
       "      <th>6</th>\n",
       "      <td>859</td>\n",
       "      <td>DAVID BOWIE</td>\n",
       "      <td>0.300419</td>\n",
       "      <td>47.0</td>\n",
       "      <td>20160308-015721_slk80-4-app-2-www_34ebb32b</td>\n",
       "      <td>short</td>\n",
       "      <td>USDJPY</td>\n",
       "      <td>1</td>\n",
       "      <td>3</td>\n",
       "      <td>5Min</td>\n",
       "    </tr>\n",
       "    <tr>\n",
       "      <th>7</th>\n",
       "      <td>1115</td>\n",
       "      <td>Short trade</td>\n",
       "      <td>0.293935</td>\n",
       "      <td>174.6</td>\n",
       "      <td>20160311-025519_slk80-4-app-2-www_511a5c54</td>\n",
       "      <td>short</td>\n",
       "      <td>USDJPY</td>\n",
       "      <td>1</td>\n",
       "      <td>3</td>\n",
       "      <td>1Min</td>\n",
       "    </tr>\n",
       "    <tr>\n",
       "      <th>8</th>\n",
       "      <td>1703</td>\n",
       "      <td>EUR/USD 1H SHORT</td>\n",
       "      <td>0.289164</td>\n",
       "      <td>181.2</td>\n",
       "      <td>20160313-131245_slk80-1-app-0-www_d3bd5c48</td>\n",
       "      <td>short</td>\n",
       "      <td>EURUSD</td>\n",
       "      <td>1</td>\n",
       "      <td>3</td>\n",
       "      <td>1H</td>\n",
       "    </tr>\n",
       "    <tr>\n",
       "      <th>9</th>\n",
       "      <td>2361</td>\n",
       "      <td>test3</td>\n",
       "      <td>0.287305</td>\n",
       "      <td>81.0</td>\n",
       "      <td>20160323-051718_slk80-3-app-1-www_6c2be706</td>\n",
       "      <td>long</td>\n",
       "      <td>USDJPY</td>\n",
       "      <td>1</td>\n",
       "      <td>5</td>\n",
       "      <td>5Min</td>\n",
       "    </tr>\n",
       "    <tr>\n",
       "      <th>10</th>\n",
       "      <td>2361</td>\n",
       "      <td>test3</td>\n",
       "      <td>0.287305</td>\n",
       "      <td>81.0</td>\n",
       "      <td>20160323-051718_slk80-3-app-1-www_6c2be706</td>\n",
       "      <td>long</td>\n",
       "      <td>USDJPY</td>\n",
       "      <td>1</td>\n",
       "      <td>5</td>\n",
       "      <td>5Min</td>\n",
       "    </tr>\n",
       "    <tr>\n",
       "      <th>11</th>\n",
       "      <td>2686</td>\n",
       "      <td>Test</td>\n",
       "      <td>0.266473</td>\n",
       "      <td>63.2</td>\n",
       "      <td>20160402-173226_slk80-3-app-1-www_5dc7e290</td>\n",
       "      <td>long</td>\n",
       "      <td>USDJPY</td>\n",
       "      <td>1</td>\n",
       "      <td>3</td>\n",
       "      <td>5Min</td>\n",
       "    </tr>\n",
       "    <tr>\n",
       "      <th>12</th>\n",
       "      <td>2363</td>\n",
       "      <td>pf3.97</td>\n",
       "      <td>0.251997</td>\n",
       "      <td>430.6</td>\n",
       "      <td>20160323-065322_slk80-3-app-1-www_7d2a1fb7</td>\n",
       "      <td>short</td>\n",
       "      <td>USDJPY</td>\n",
       "      <td>1</td>\n",
       "      <td>5</td>\n",
       "      <td>5Min</td>\n",
       "    </tr>\n",
       "    <tr>\n",
       "      <th>13</th>\n",
       "      <td>1602</td>\n",
       "      <td>ストキャスティクス</td>\n",
       "      <td>0.179851</td>\n",
       "      <td>856.2</td>\n",
       "      <td>20160312-172140_slk80-4-app-2-www_9da6e006</td>\n",
       "      <td>long</td>\n",
       "      <td>USDJPY</td>\n",
       "      <td>9</td>\n",
       "      <td>9</td>\n",
       "      <td>15Min</td>\n",
       "    </tr>\n",
       "    <tr>\n",
       "      <th>14</th>\n",
       "      <td>1269</td>\n",
       "      <td>Test</td>\n",
       "      <td>0.176777</td>\n",
       "      <td>140.7</td>\n",
       "      <td>20160311-150429_slk80-1-app-0-www_313a2278</td>\n",
       "      <td>long</td>\n",
       "      <td>EURUSD</td>\n",
       "      <td>3</td>\n",
       "      <td>7</td>\n",
       "      <td>1H</td>\n",
       "    </tr>\n",
       "    <tr>\n",
       "      <th>15</th>\n",
       "      <td>1103</td>\n",
       "      <td>Test</td>\n",
       "      <td>0.174471</td>\n",
       "      <td>320.9</td>\n",
       "      <td>20160311-023919_slk80-4-app-2-www_e3ecebf1</td>\n",
       "      <td>short</td>\n",
       "      <td>USDJPY</td>\n",
       "      <td>4</td>\n",
       "      <td>7</td>\n",
       "      <td>15Min</td>\n",
       "    </tr>\n",
       "    <tr>\n",
       "      <th>16</th>\n",
       "      <td>2457</td>\n",
       "      <td>EURUSD/buy</td>\n",
       "      <td>0.146100</td>\n",
       "      <td>407.8</td>\n",
       "      <td>20160325-125521_slk80-4-app-2-www_ddb51944</td>\n",
       "      <td>long</td>\n",
       "      <td>EURUSD</td>\n",
       "      <td>2</td>\n",
       "      <td>5</td>\n",
       "      <td>4H</td>\n",
       "    </tr>\n",
       "    <tr>\n",
       "      <th>17</th>\n",
       "      <td>1351</td>\n",
       "      <td>Go</td>\n",
       "      <td>0.131104</td>\n",
       "      <td>1279.8</td>\n",
       "      <td>20160311-161039_slk80-3-app-1-www_80675366</td>\n",
       "      <td>long</td>\n",
       "      <td>USDJPY</td>\n",
       "      <td>1</td>\n",
       "      <td>3</td>\n",
       "      <td>15Min</td>\n",
       "    </tr>\n",
       "    <tr>\n",
       "      <th>18</th>\n",
       "      <td>2108</td>\n",
       "      <td>ユロドル</td>\n",
       "      <td>0.126222</td>\n",
       "      <td>1543.1</td>\n",
       "      <td>20160316-154406_slk80-4-app-2-www_8a437b40</td>\n",
       "      <td>short</td>\n",
       "      <td>EURUSD</td>\n",
       "      <td>1</td>\n",
       "      <td>9</td>\n",
       "      <td>1H</td>\n",
       "    </tr>\n",
       "    <tr>\n",
       "      <th>19</th>\n",
       "      <td>2108</td>\n",
       "      <td>ユロドル</td>\n",
       "      <td>0.124665</td>\n",
       "      <td>1502.4</td>\n",
       "      <td>20160316-154406_slk80-4-app-2-www_8a437b40</td>\n",
       "      <td>short</td>\n",
       "      <td>EURUSD</td>\n",
       "      <td>1</td>\n",
       "      <td>5</td>\n",
       "      <td>1H</td>\n",
       "    </tr>\n",
       "    <tr>\n",
       "      <th>20</th>\n",
       "      <td>2108</td>\n",
       "      <td>ユロドル</td>\n",
       "      <td>0.124665</td>\n",
       "      <td>1502.4</td>\n",
       "      <td>20160316-154406_slk80-4-app-2-www_8a437b40</td>\n",
       "      <td>short</td>\n",
       "      <td>EURUSD</td>\n",
       "      <td>1</td>\n",
       "      <td>5</td>\n",
       "      <td>1H</td>\n",
       "    </tr>\n",
       "    <tr>\n",
       "      <th>21</th>\n",
       "      <td>2108</td>\n",
       "      <td>ユロドル</td>\n",
       "      <td>0.124665</td>\n",
       "      <td>1502.4</td>\n",
       "      <td>20160316-154406_slk80-4-app-2-www_8a437b40</td>\n",
       "      <td>short</td>\n",
       "      <td>EURUSD</td>\n",
       "      <td>1</td>\n",
       "      <td>5</td>\n",
       "      <td>1H</td>\n",
       "    </tr>\n",
       "    <tr>\n",
       "      <th>22</th>\n",
       "      <td>2078</td>\n",
       "      <td>3rd</td>\n",
       "      <td>0.122313</td>\n",
       "      <td>1610.3</td>\n",
       "      <td>20160316-044224_slk80-4-app-2-www_ee2a7872</td>\n",
       "      <td>long</td>\n",
       "      <td>USDJPY</td>\n",
       "      <td>1</td>\n",
       "      <td>2</td>\n",
       "      <td>1H</td>\n",
       "    </tr>\n",
       "    <tr>\n",
       "      <th>23</th>\n",
       "      <td>2108</td>\n",
       "      <td>ユロドル</td>\n",
       "      <td>0.120280</td>\n",
       "      <td>1491.8</td>\n",
       "      <td>20160316-154406_slk80-4-app-2-www_8a437b40</td>\n",
       "      <td>short</td>\n",
       "      <td>EURUSD</td>\n",
       "      <td>1</td>\n",
       "      <td>6</td>\n",
       "      <td>1H</td>\n",
       "    </tr>\n",
       "    <tr>\n",
       "      <th>24</th>\n",
       "      <td>2108</td>\n",
       "      <td>ユロドル</td>\n",
       "      <td>0.120280</td>\n",
       "      <td>1491.8</td>\n",
       "      <td>20160316-154406_slk80-4-app-2-www_8a437b40</td>\n",
       "      <td>short</td>\n",
       "      <td>EURUSD</td>\n",
       "      <td>1</td>\n",
       "      <td>6</td>\n",
       "      <td>1H</td>\n",
       "    </tr>\n",
       "    <tr>\n",
       "      <th>25</th>\n",
       "      <td>1671</td>\n",
       "      <td>aaa</td>\n",
       "      <td>0.116517</td>\n",
       "      <td>1221.4</td>\n",
       "      <td>20160313-045525_slk80-1-app-0-www_bb2ca394</td>\n",
       "      <td>long</td>\n",
       "      <td>USDJPY</td>\n",
       "      <td>1</td>\n",
       "      <td>3</td>\n",
       "      <td>15Min</td>\n",
       "    </tr>\n",
       "    <tr>\n",
       "      <th>26</th>\n",
       "      <td>1530</td>\n",
       "      <td>usdjpyａｄｘ</td>\n",
       "      <td>0.113522</td>\n",
       "      <td>1080.1</td>\n",
       "      <td>20160312-043655_slk80-3-app-1-www_63415538</td>\n",
       "      <td>long</td>\n",
       "      <td>USDJPY</td>\n",
       "      <td>6</td>\n",
       "      <td>1</td>\n",
       "      <td>5Min</td>\n",
       "    </tr>\n",
       "    <tr>\n",
       "      <th>27</th>\n",
       "      <td>2247</td>\n",
       "      <td>3</td>\n",
       "      <td>0.109734</td>\n",
       "      <td>1400.3</td>\n",
       "      <td>20160320-001302_slk80-1-app-0-www_2aed0ab9</td>\n",
       "      <td>long</td>\n",
       "      <td>USDJPY</td>\n",
       "      <td>1</td>\n",
       "      <td>3</td>\n",
       "      <td>5Min</td>\n",
       "    </tr>\n",
       "    <tr>\n",
       "      <th>28</th>\n",
       "      <td>2108</td>\n",
       "      <td>ユロドル</td>\n",
       "      <td>0.108201</td>\n",
       "      <td>1224.3</td>\n",
       "      <td>20160316-154406_slk80-4-app-2-www_8a437b40</td>\n",
       "      <td>short</td>\n",
       "      <td>EURUSD</td>\n",
       "      <td>1</td>\n",
       "      <td>4</td>\n",
       "      <td>1H</td>\n",
       "    </tr>\n",
       "    <tr>\n",
       "      <th>29</th>\n",
       "      <td>1864</td>\n",
       "      <td>test</td>\n",
       "      <td>0.108196</td>\n",
       "      <td>930.2</td>\n",
       "      <td>20160314-071209_slk80-4-app-2-www_79e01bbf</td>\n",
       "      <td>short</td>\n",
       "      <td>EURUSD</td>\n",
       "      <td>2</td>\n",
       "      <td>3</td>\n",
       "      <td>1H</td>\n",
       "    </tr>\n",
       "    <tr>\n",
       "      <th>...</th>\n",
       "      <td>...</td>\n",
       "      <td>...</td>\n",
       "      <td>...</td>\n",
       "      <td>...</td>\n",
       "      <td>...</td>\n",
       "      <td>...</td>\n",
       "      <td>...</td>\n",
       "      <td>...</td>\n",
       "      <td>...</td>\n",
       "      <td>...</td>\n",
       "    </tr>\n",
       "    <tr>\n",
       "      <th>70</th>\n",
       "      <td>2376</td>\n",
       "      <td>ふご</td>\n",
       "      <td>0.079302</td>\n",
       "      <td>1178.7</td>\n",
       "      <td>20160323-094455_slk80-1-app-0-www_93475c4e</td>\n",
       "      <td>long</td>\n",
       "      <td>USDJPY</td>\n",
       "      <td>1</td>\n",
       "      <td>3</td>\n",
       "      <td>1Min</td>\n",
       "    </tr>\n",
       "    <tr>\n",
       "      <th>71</th>\n",
       "      <td>1808</td>\n",
       "      <td>EUR/USD 15MIN SHORT</td>\n",
       "      <td>0.078467</td>\n",
       "      <td>528.6</td>\n",
       "      <td>20160314-122044_slk80-4-app-2-www_3858b9a2</td>\n",
       "      <td>short</td>\n",
       "      <td>EURUSD</td>\n",
       "      <td>1</td>\n",
       "      <td>3</td>\n",
       "      <td>15Min</td>\n",
       "    </tr>\n",
       "    <tr>\n",
       "      <th>72</th>\n",
       "      <td>1826</td>\n",
       "      <td>てすと</td>\n",
       "      <td>0.078461</td>\n",
       "      <td>319.6</td>\n",
       "      <td>20160314-074606_slk80-4-app-2-www_0f3ba7a5</td>\n",
       "      <td>long</td>\n",
       "      <td>USDJPY</td>\n",
       "      <td>1</td>\n",
       "      <td>3</td>\n",
       "      <td>5Min</td>\n",
       "    </tr>\n",
       "    <tr>\n",
       "      <th>73</th>\n",
       "      <td>62</td>\n",
       "      <td>Strong USD 3</td>\n",
       "      <td>0.077738</td>\n",
       "      <td>1296.9</td>\n",
       "      <td>20151023-034302_slk80-2-prod-www_7c4f1d96</td>\n",
       "      <td>long</td>\n",
       "      <td>USDJPY</td>\n",
       "      <td>1</td>\n",
       "      <td>1</td>\n",
       "      <td>1Min</td>\n",
       "    </tr>\n",
       "    <tr>\n",
       "      <th>74</th>\n",
       "      <td>2696</td>\n",
       "      <td>テスト2</td>\n",
       "      <td>0.077735</td>\n",
       "      <td>180.5</td>\n",
       "      <td>20160403-011052_slk80-3-app-1-www_c905c0ff</td>\n",
       "      <td>short</td>\n",
       "      <td>USDJPY</td>\n",
       "      <td>1</td>\n",
       "      <td>3</td>\n",
       "      <td>1H</td>\n",
       "    </tr>\n",
       "    <tr>\n",
       "      <th>75</th>\n",
       "      <td>1757</td>\n",
       "      <td>test</td>\n",
       "      <td>0.077533</td>\n",
       "      <td>551.3</td>\n",
       "      <td>20160313-164433_slk80-1-app-0-www_f8f0440a</td>\n",
       "      <td>long</td>\n",
       "      <td>USDJPY</td>\n",
       "      <td>1</td>\n",
       "      <td>3</td>\n",
       "      <td>1D</td>\n",
       "    </tr>\n",
       "    <tr>\n",
       "      <th>76</th>\n",
       "      <td>2696</td>\n",
       "      <td>テスト2</td>\n",
       "      <td>0.077253</td>\n",
       "      <td>174.0</td>\n",
       "      <td>20160403-154231_slk80-1-app-0-www_e3cd742b</td>\n",
       "      <td>short</td>\n",
       "      <td>USDJPY</td>\n",
       "      <td>9</td>\n",
       "      <td>3</td>\n",
       "      <td>1H</td>\n",
       "    </tr>\n",
       "    <tr>\n",
       "      <th>77</th>\n",
       "      <td>1849</td>\n",
       "      <td>あ</td>\n",
       "      <td>0.076533</td>\n",
       "      <td>275.7</td>\n",
       "      <td>20160314-060258_slk80-1-app-0-www_c5c55038</td>\n",
       "      <td>short</td>\n",
       "      <td>USDJPY</td>\n",
       "      <td>1</td>\n",
       "      <td>3</td>\n",
       "      <td>15Min</td>\n",
       "    </tr>\n",
       "    <tr>\n",
       "      <th>78</th>\n",
       "      <td>1928</td>\n",
       "      <td>テスつ</td>\n",
       "      <td>0.076021</td>\n",
       "      <td>489.7</td>\n",
       "      <td>20160316-131328_slk80-4-app-2-www_faa06304</td>\n",
       "      <td>short</td>\n",
       "      <td>USDJPY</td>\n",
       "      <td>1</td>\n",
       "      <td>3</td>\n",
       "      <td>4H</td>\n",
       "    </tr>\n",
       "    <tr>\n",
       "      <th>79</th>\n",
       "      <td>1928</td>\n",
       "      <td>テスつ</td>\n",
       "      <td>0.076021</td>\n",
       "      <td>489.7</td>\n",
       "      <td>20160316-131328_slk80-4-app-2-www_faa06304</td>\n",
       "      <td>short</td>\n",
       "      <td>USDJPY</td>\n",
       "      <td>1</td>\n",
       "      <td>3</td>\n",
       "      <td>4H</td>\n",
       "    </tr>\n",
       "    <tr>\n",
       "      <th>80</th>\n",
       "      <td>1928</td>\n",
       "      <td>テスつ</td>\n",
       "      <td>0.076021</td>\n",
       "      <td>489.7</td>\n",
       "      <td>20160316-131328_slk80-4-app-2-www_faa06304</td>\n",
       "      <td>short</td>\n",
       "      <td>USDJPY</td>\n",
       "      <td>1</td>\n",
       "      <td>3</td>\n",
       "      <td>4H</td>\n",
       "    </tr>\n",
       "    <tr>\n",
       "      <th>81</th>\n",
       "      <td>1928</td>\n",
       "      <td>テスつ</td>\n",
       "      <td>0.076021</td>\n",
       "      <td>489.7</td>\n",
       "      <td>20160316-131328_slk80-4-app-2-www_faa06304</td>\n",
       "      <td>short</td>\n",
       "      <td>USDJPY</td>\n",
       "      <td>1</td>\n",
       "      <td>3</td>\n",
       "      <td>4H</td>\n",
       "    </tr>\n",
       "    <tr>\n",
       "      <th>82</th>\n",
       "      <td>1928</td>\n",
       "      <td>テスつ</td>\n",
       "      <td>0.076021</td>\n",
       "      <td>489.7</td>\n",
       "      <td>20160316-131328_slk80-4-app-2-www_faa06304</td>\n",
       "      <td>short</td>\n",
       "      <td>USDJPY</td>\n",
       "      <td>1</td>\n",
       "      <td>3</td>\n",
       "      <td>4H</td>\n",
       "    </tr>\n",
       "    <tr>\n",
       "      <th>83</th>\n",
       "      <td>1883</td>\n",
       "      <td>テスト1</td>\n",
       "      <td>0.075453</td>\n",
       "      <td>689.6</td>\n",
       "      <td>20160314-084544_slk80-3-app-1-www_dc4ed4cb</td>\n",
       "      <td>long</td>\n",
       "      <td>USDJPY</td>\n",
       "      <td>6</td>\n",
       "      <td>6</td>\n",
       "      <td>5Min</td>\n",
       "    </tr>\n",
       "    <tr>\n",
       "      <th>84</th>\n",
       "      <td>1883</td>\n",
       "      <td>テスト1</td>\n",
       "      <td>0.075453</td>\n",
       "      <td>689.6</td>\n",
       "      <td>20160314-084544_slk80-3-app-1-www_dc4ed4cb</td>\n",
       "      <td>long</td>\n",
       "      <td>USDJPY</td>\n",
       "      <td>6</td>\n",
       "      <td>6</td>\n",
       "      <td>5Min</td>\n",
       "    </tr>\n",
       "    <tr>\n",
       "      <th>85</th>\n",
       "      <td>1720</td>\n",
       "      <td>008</td>\n",
       "      <td>0.075242</td>\n",
       "      <td>492.5</td>\n",
       "      <td>20160313-124758_slk80-4-app-2-www_064f707a</td>\n",
       "      <td>long</td>\n",
       "      <td>USDJPY</td>\n",
       "      <td>1</td>\n",
       "      <td>2</td>\n",
       "      <td>15Min</td>\n",
       "    </tr>\n",
       "    <tr>\n",
       "      <th>86</th>\n",
       "      <td>2149</td>\n",
       "      <td>ドル売り</td>\n",
       "      <td>0.075056</td>\n",
       "      <td>158.7</td>\n",
       "      <td>20160317-140004_slk80-4-app-2-www_9ee17a67</td>\n",
       "      <td>short</td>\n",
       "      <td>USDJPY</td>\n",
       "      <td>2</td>\n",
       "      <td>3</td>\n",
       "      <td>1H</td>\n",
       "    </tr>\n",
       "    <tr>\n",
       "      <th>87</th>\n",
       "      <td>631</td>\n",
       "      <td>ピボットテスト5M</td>\n",
       "      <td>0.074648</td>\n",
       "      <td>1401.2</td>\n",
       "      <td>20151219-155021_slk80-3-prod-www_899932e2</td>\n",
       "      <td>long</td>\n",
       "      <td>USDJPY</td>\n",
       "      <td>1</td>\n",
       "      <td>1</td>\n",
       "      <td>5Min</td>\n",
       "    </tr>\n",
       "    <tr>\n",
       "      <th>88</th>\n",
       "      <td>1417</td>\n",
       "      <td>005</td>\n",
       "      <td>0.074272</td>\n",
       "      <td>1178.6</td>\n",
       "      <td>20160312-061713_slk80-4-app-2-www_a78af6bf</td>\n",
       "      <td>long</td>\n",
       "      <td>USDJPY</td>\n",
       "      <td>1</td>\n",
       "      <td>3</td>\n",
       "      <td>1H</td>\n",
       "    </tr>\n",
       "    <tr>\n",
       "      <th>89</th>\n",
       "      <td>1417</td>\n",
       "      <td>005</td>\n",
       "      <td>0.074272</td>\n",
       "      <td>1178.6</td>\n",
       "      <td>20160312-061713_slk80-4-app-2-www_a78af6bf</td>\n",
       "      <td>long</td>\n",
       "      <td>USDJPY</td>\n",
       "      <td>1</td>\n",
       "      <td>3</td>\n",
       "      <td>1H</td>\n",
       "    </tr>\n",
       "    <tr>\n",
       "      <th>90</th>\n",
       "      <td>2521</td>\n",
       "      <td>a</td>\n",
       "      <td>0.074258</td>\n",
       "      <td>1057.5</td>\n",
       "      <td>20160328-170410_slk80-3-app-1-www_10b92ad2</td>\n",
       "      <td>long</td>\n",
       "      <td>USDJPY</td>\n",
       "      <td>1</td>\n",
       "      <td>7</td>\n",
       "      <td>5Min</td>\n",
       "    </tr>\n",
       "    <tr>\n",
       "      <th>91</th>\n",
       "      <td>616</td>\n",
       "      <td>RSI 7- Sell</td>\n",
       "      <td>0.073895</td>\n",
       "      <td>847.2</td>\n",
       "      <td>20151218-135316_slk80-3-prod-www_97b419a4</td>\n",
       "      <td>short</td>\n",
       "      <td>EURUSD</td>\n",
       "      <td>1</td>\n",
       "      <td>1</td>\n",
       "      <td>15Min</td>\n",
       "    </tr>\n",
       "    <tr>\n",
       "      <th>92</th>\n",
       "      <td>2016</td>\n",
       "      <td>hoge2</td>\n",
       "      <td>0.073876</td>\n",
       "      <td>331.9</td>\n",
       "      <td>20160315-114441_slk80-1-app-0-www_0f5aab7d</td>\n",
       "      <td>long</td>\n",
       "      <td>USDJPY</td>\n",
       "      <td>3</td>\n",
       "      <td>5</td>\n",
       "      <td>15Min</td>\n",
       "    </tr>\n",
       "    <tr>\n",
       "      <th>93</th>\n",
       "      <td>1994</td>\n",
       "      <td>カミカゼ</td>\n",
       "      <td>0.073819</td>\n",
       "      <td>277.6</td>\n",
       "      <td>20160315-060309_slk80-1-app-0-www_0795c1dc</td>\n",
       "      <td>long</td>\n",
       "      <td>USDJPY</td>\n",
       "      <td>1</td>\n",
       "      <td>3</td>\n",
       "      <td>1D</td>\n",
       "    </tr>\n",
       "    <tr>\n",
       "      <th>94</th>\n",
       "      <td>1994</td>\n",
       "      <td>カミカゼ</td>\n",
       "      <td>0.073819</td>\n",
       "      <td>277.6</td>\n",
       "      <td>20160315-060309_slk80-1-app-0-www_0795c1dc</td>\n",
       "      <td>long</td>\n",
       "      <td>USDJPY</td>\n",
       "      <td>1</td>\n",
       "      <td>3</td>\n",
       "      <td>1D</td>\n",
       "    </tr>\n",
       "    <tr>\n",
       "      <th>95</th>\n",
       "      <td>1823</td>\n",
       "      <td>テスト</td>\n",
       "      <td>0.073370</td>\n",
       "      <td>445.3</td>\n",
       "      <td>20160314-034719_slk80-1-app-0-www_124dbc55</td>\n",
       "      <td>long</td>\n",
       "      <td>USDJPY</td>\n",
       "      <td>1</td>\n",
       "      <td>3</td>\n",
       "      <td>5Min</td>\n",
       "    </tr>\n",
       "    <tr>\n",
       "      <th>96</th>\n",
       "      <td>1823</td>\n",
       "      <td>テスト</td>\n",
       "      <td>0.073370</td>\n",
       "      <td>445.3</td>\n",
       "      <td>20160314-034719_slk80-1-app-0-www_124dbc55</td>\n",
       "      <td>long</td>\n",
       "      <td>USDJPY</td>\n",
       "      <td>1</td>\n",
       "      <td>3</td>\n",
       "      <td>5Min</td>\n",
       "    </tr>\n",
       "    <tr>\n",
       "      <th>97</th>\n",
       "      <td>306</td>\n",
       "      <td>(4H)- Bollinger band- Buy</td>\n",
       "      <td>0.073356</td>\n",
       "      <td>247.3</td>\n",
       "      <td>20151113-140141_slk80-2-prod-www_0971cf21</td>\n",
       "      <td>long</td>\n",
       "      <td>EURUSD</td>\n",
       "      <td>1</td>\n",
       "      <td>1</td>\n",
       "      <td>4H</td>\n",
       "    </tr>\n",
       "    <tr>\n",
       "      <th>98</th>\n",
       "      <td>423</td>\n",
       "      <td>BB, Stoch (70;30)- Sell</td>\n",
       "      <td>0.073005</td>\n",
       "      <td>322.8</td>\n",
       "      <td>20151119-172040_slk80-2-prod-www_abecfde3</td>\n",
       "      <td>short</td>\n",
       "      <td>EURUSD</td>\n",
       "      <td>1</td>\n",
       "      <td>1</td>\n",
       "      <td>4H</td>\n",
       "    </tr>\n",
       "    <tr>\n",
       "      <th>99</th>\n",
       "      <td>2618</td>\n",
       "      <td>ああああのコピーのコピー</td>\n",
       "      <td>0.072969</td>\n",
       "      <td>1024.2</td>\n",
       "      <td>20160330-215502_slk80-4-app-2-www_48dc34b1</td>\n",
       "      <td>long</td>\n",
       "      <td>USDJPY</td>\n",
       "      <td>1</td>\n",
       "      <td>2</td>\n",
       "      <td>5Min</td>\n",
       "    </tr>\n",
       "  </tbody>\n",
       "</table>\n",
       "<p>100 rows × 10 columns</p>\n",
       "</div>"
      ],
      "text/plain": [
       "      id                       name  sharpe_ratio  net_profit  \\\n",
       "0   1088                      Dama1      1.240054       132.1   \n",
       "1    925                         短期      0.599262       281.7   \n",
       "2   1075                   こつこついこうぜ      0.447214        21.4   \n",
       "3   1826                        てすと      0.408248        51.0   \n",
       "4   1814                        テスト      0.316378        31.1   \n",
       "5    859                DAVID BOWIE      0.300419        47.0   \n",
       "6    859                DAVID BOWIE      0.300419        47.0   \n",
       "7   1115                Short trade      0.293935       174.6   \n",
       "8   1703           EUR/USD 1H SHORT      0.289164       181.2   \n",
       "9   2361                      test3      0.287305        81.0   \n",
       "10  2361                      test3      0.287305        81.0   \n",
       "11  2686                       Test      0.266473        63.2   \n",
       "12  2363                     pf3.97      0.251997       430.6   \n",
       "13  1602                  ストキャスティクス      0.179851       856.2   \n",
       "14  1269                       Test      0.176777       140.7   \n",
       "15  1103                       Test      0.174471       320.9   \n",
       "16  2457                 EURUSD/buy      0.146100       407.8   \n",
       "17  1351                         Go      0.131104      1279.8   \n",
       "18  2108                       ユロドル      0.126222      1543.1   \n",
       "19  2108                       ユロドル      0.124665      1502.4   \n",
       "20  2108                       ユロドル      0.124665      1502.4   \n",
       "21  2108                       ユロドル      0.124665      1502.4   \n",
       "22  2078                        3rd      0.122313      1610.3   \n",
       "23  2108                       ユロドル      0.120280      1491.8   \n",
       "24  2108                       ユロドル      0.120280      1491.8   \n",
       "25  1671                        aaa      0.116517      1221.4   \n",
       "26  1530                  usdjpyａｄｘ      0.113522      1080.1   \n",
       "27  2247                          3      0.109734      1400.3   \n",
       "28  2108                       ユロドル      0.108201      1224.3   \n",
       "29  1864                       test      0.108196       930.2   \n",
       "..   ...                        ...           ...         ...   \n",
       "70  2376                         ふご      0.079302      1178.7   \n",
       "71  1808        EUR/USD 15MIN SHORT      0.078467       528.6   \n",
       "72  1826                        てすと      0.078461       319.6   \n",
       "73    62               Strong USD 3      0.077738      1296.9   \n",
       "74  2696                       テスト2      0.077735       180.5   \n",
       "75  1757                       test      0.077533       551.3   \n",
       "76  2696                       テスト2      0.077253       174.0   \n",
       "77  1849                          あ      0.076533       275.7   \n",
       "78  1928                        テスつ      0.076021       489.7   \n",
       "79  1928                        テスつ      0.076021       489.7   \n",
       "80  1928                        テスつ      0.076021       489.7   \n",
       "81  1928                        テスつ      0.076021       489.7   \n",
       "82  1928                        テスつ      0.076021       489.7   \n",
       "83  1883                       テスト1      0.075453       689.6   \n",
       "84  1883                       テスト1      0.075453       689.6   \n",
       "85  1720                        008      0.075242       492.5   \n",
       "86  2149                       ドル売り      0.075056       158.7   \n",
       "87   631                  ピボットテスト5M      0.074648      1401.2   \n",
       "88  1417                        005      0.074272      1178.6   \n",
       "89  1417                        005      0.074272      1178.6   \n",
       "90  2521                          a      0.074258      1057.5   \n",
       "91   616                RSI 7- Sell      0.073895       847.2   \n",
       "92  2016                      hoge2      0.073876       331.9   \n",
       "93  1994                       カミカゼ      0.073819       277.6   \n",
       "94  1994                       カミカゼ      0.073819       277.6   \n",
       "95  1823                        テスト      0.073370       445.3   \n",
       "96  1823                        テスト      0.073370       445.3   \n",
       "97   306  (4H)- Bollinger band- Buy      0.073356       247.3   \n",
       "98   423    BB, Stoch (70;30)- Sell      0.073005       322.8   \n",
       "99  2618               ああああのコピーのコピー      0.072969      1024.2   \n",
       "\n",
       "                                           key   side  symbol  loss_cut  \\\n",
       "0   20160310-174703_slk80-4-app-2-www_dc399006  short  USDJPY         2   \n",
       "1   20160307-134254_slk80-1-app-0-www_a9116eef   long  USDJPY         1   \n",
       "2   20160310-110555_slk80-3-app-1-www_4f325195   long  USDJPY         5   \n",
       "3   20160314-074606_slk80-4-app-2-www_0f3ba7a5   long  USDJPY         1   \n",
       "4   20160314-031906_slk80-1-app-0-www_d7c4bb63   long  USDJPY         1   \n",
       "5   20160308-015721_slk80-4-app-2-www_34ebb32b  short  USDJPY         1   \n",
       "6   20160308-015721_slk80-4-app-2-www_34ebb32b  short  USDJPY         1   \n",
       "7   20160311-025519_slk80-4-app-2-www_511a5c54  short  USDJPY         1   \n",
       "8   20160313-131245_slk80-1-app-0-www_d3bd5c48  short  EURUSD         1   \n",
       "9   20160323-051718_slk80-3-app-1-www_6c2be706   long  USDJPY         1   \n",
       "10  20160323-051718_slk80-3-app-1-www_6c2be706   long  USDJPY         1   \n",
       "11  20160402-173226_slk80-3-app-1-www_5dc7e290   long  USDJPY         1   \n",
       "12  20160323-065322_slk80-3-app-1-www_7d2a1fb7  short  USDJPY         1   \n",
       "13  20160312-172140_slk80-4-app-2-www_9da6e006   long  USDJPY         9   \n",
       "14  20160311-150429_slk80-1-app-0-www_313a2278   long  EURUSD         3   \n",
       "15  20160311-023919_slk80-4-app-2-www_e3ecebf1  short  USDJPY         4   \n",
       "16  20160325-125521_slk80-4-app-2-www_ddb51944   long  EURUSD         2   \n",
       "17  20160311-161039_slk80-3-app-1-www_80675366   long  USDJPY         1   \n",
       "18  20160316-154406_slk80-4-app-2-www_8a437b40  short  EURUSD         1   \n",
       "19  20160316-154406_slk80-4-app-2-www_8a437b40  short  EURUSD         1   \n",
       "20  20160316-154406_slk80-4-app-2-www_8a437b40  short  EURUSD         1   \n",
       "21  20160316-154406_slk80-4-app-2-www_8a437b40  short  EURUSD         1   \n",
       "22  20160316-044224_slk80-4-app-2-www_ee2a7872   long  USDJPY         1   \n",
       "23  20160316-154406_slk80-4-app-2-www_8a437b40  short  EURUSD         1   \n",
       "24  20160316-154406_slk80-4-app-2-www_8a437b40  short  EURUSD         1   \n",
       "25  20160313-045525_slk80-1-app-0-www_bb2ca394   long  USDJPY         1   \n",
       "26  20160312-043655_slk80-3-app-1-www_63415538   long  USDJPY         6   \n",
       "27  20160320-001302_slk80-1-app-0-www_2aed0ab9   long  USDJPY         1   \n",
       "28  20160316-154406_slk80-4-app-2-www_8a437b40  short  EURUSD         1   \n",
       "29  20160314-071209_slk80-4-app-2-www_79e01bbf  short  EURUSD         2   \n",
       "..                                         ...    ...     ...       ...   \n",
       "70  20160323-094455_slk80-1-app-0-www_93475c4e   long  USDJPY         1   \n",
       "71  20160314-122044_slk80-4-app-2-www_3858b9a2  short  EURUSD         1   \n",
       "72  20160314-074606_slk80-4-app-2-www_0f3ba7a5   long  USDJPY         1   \n",
       "73   20151023-034302_slk80-2-prod-www_7c4f1d96   long  USDJPY         1   \n",
       "74  20160403-011052_slk80-3-app-1-www_c905c0ff  short  USDJPY         1   \n",
       "75  20160313-164433_slk80-1-app-0-www_f8f0440a   long  USDJPY         1   \n",
       "76  20160403-154231_slk80-1-app-0-www_e3cd742b  short  USDJPY         9   \n",
       "77  20160314-060258_slk80-1-app-0-www_c5c55038  short  USDJPY         1   \n",
       "78  20160316-131328_slk80-4-app-2-www_faa06304  short  USDJPY         1   \n",
       "79  20160316-131328_slk80-4-app-2-www_faa06304  short  USDJPY         1   \n",
       "80  20160316-131328_slk80-4-app-2-www_faa06304  short  USDJPY         1   \n",
       "81  20160316-131328_slk80-4-app-2-www_faa06304  short  USDJPY         1   \n",
       "82  20160316-131328_slk80-4-app-2-www_faa06304  short  USDJPY         1   \n",
       "83  20160314-084544_slk80-3-app-1-www_dc4ed4cb   long  USDJPY         6   \n",
       "84  20160314-084544_slk80-3-app-1-www_dc4ed4cb   long  USDJPY         6   \n",
       "85  20160313-124758_slk80-4-app-2-www_064f707a   long  USDJPY         1   \n",
       "86  20160317-140004_slk80-4-app-2-www_9ee17a67  short  USDJPY         2   \n",
       "87   20151219-155021_slk80-3-prod-www_899932e2   long  USDJPY         1   \n",
       "88  20160312-061713_slk80-4-app-2-www_a78af6bf   long  USDJPY         1   \n",
       "89  20160312-061713_slk80-4-app-2-www_a78af6bf   long  USDJPY         1   \n",
       "90  20160328-170410_slk80-3-app-1-www_10b92ad2   long  USDJPY         1   \n",
       "91   20151218-135316_slk80-3-prod-www_97b419a4  short  EURUSD         1   \n",
       "92  20160315-114441_slk80-1-app-0-www_0f5aab7d   long  USDJPY         3   \n",
       "93  20160315-060309_slk80-1-app-0-www_0795c1dc   long  USDJPY         1   \n",
       "94  20160315-060309_slk80-1-app-0-www_0795c1dc   long  USDJPY         1   \n",
       "95  20160314-034719_slk80-1-app-0-www_124dbc55   long  USDJPY         1   \n",
       "96  20160314-034719_slk80-1-app-0-www_124dbc55   long  USDJPY         1   \n",
       "97   20151113-140141_slk80-2-prod-www_0971cf21   long  EURUSD         1   \n",
       "98   20151119-172040_slk80-2-prod-www_abecfde3  short  EURUSD         1   \n",
       "99  20160330-215502_slk80-4-app-2-www_48dc34b1   long  USDJPY         1   \n",
       "\n",
       "    profit_take timeframe  \n",
       "0             4      1Min  \n",
       "1             3      1Min  \n",
       "2             7     15Min  \n",
       "3             3      5Min  \n",
       "4             3      1Min  \n",
       "5             3      5Min  \n",
       "6             3      5Min  \n",
       "7             3      1Min  \n",
       "8             3        1H  \n",
       "9             5      5Min  \n",
       "10            5      5Min  \n",
       "11            3      5Min  \n",
       "12            5      5Min  \n",
       "13            9     15Min  \n",
       "14            7        1H  \n",
       "15            7     15Min  \n",
       "16            5        4H  \n",
       "17            3     15Min  \n",
       "18            9        1H  \n",
       "19            5        1H  \n",
       "20            5        1H  \n",
       "21            5        1H  \n",
       "22            2        1H  \n",
       "23            6        1H  \n",
       "24            6        1H  \n",
       "25            3     15Min  \n",
       "26            1      5Min  \n",
       "27            3      5Min  \n",
       "28            4        1H  \n",
       "29            3        1H  \n",
       "..          ...       ...  \n",
       "70            3      1Min  \n",
       "71            3     15Min  \n",
       "72            3      5Min  \n",
       "73            1      1Min  \n",
       "74            3        1H  \n",
       "75            3        1D  \n",
       "76            3        1H  \n",
       "77            3     15Min  \n",
       "78            3        4H  \n",
       "79            3        4H  \n",
       "80            3        4H  \n",
       "81            3        4H  \n",
       "82            3        4H  \n",
       "83            6      5Min  \n",
       "84            6      5Min  \n",
       "85            2     15Min  \n",
       "86            3        1H  \n",
       "87            1      5Min  \n",
       "88            3        1H  \n",
       "89            3        1H  \n",
       "90            7      5Min  \n",
       "91            1     15Min  \n",
       "92            5     15Min  \n",
       "93            3        1D  \n",
       "94            3        1D  \n",
       "95            3      5Min  \n",
       "96            3      5Min  \n",
       "97            1        4H  \n",
       "98            1        4H  \n",
       "99            2      5Min  \n",
       "\n",
       "[100 rows x 10 columns]"
      ]
     },
     "execution_count": 84,
     "metadata": {},
     "output_type": "execute_result"
    }
   ],
   "source": [
    "training_ids"
   ]
  },
  {
   "cell_type": "markdown",
   "metadata": {},
   "source": [
    "---"
   ]
  },
  {
   "cell_type": "code",
   "execution_count": 2,
   "metadata": {
    "collapsed": true
   },
   "outputs": [],
   "source": [
    "from ml.trainlogging import TrainLogger\n",
    "from StringIO import StringIO\n",
    "import cPickle\n",
    "\n",
    "from utils import parse_json\n",
    "\n",
    "# \n",
    "import pytz\n",
    "import datetime\n",
    "import json\n",
    "def load_json(fn):\n",
    "    with open(fn, \"r\") as f:\n",
    "        return json.load(f)\n",
    "    "
   ]
  },
  {
   "cell_type": "code",
   "execution_count": 3,
   "metadata": {
    "collapsed": false
   },
   "outputs": [],
   "source": [
    "model_params = load_json(\"/project/exp/list_mp.json\")\n",
    "dataset = load_json(\"/project/exp/list.json\")\n",
    "gpu = 0\n",
    "# training_id = \"test_1337\"\n",
    "\n",
    "# bt_start = datetime.datetime(2014, 12, 1, tzinfo=pytz.utc)\n",
    "# bt_end = datetime.datetime(2015, 10, 1, tzinfo=pytz.utc)\n",
    "bt_start = datetime.datetime(2014, 2, 4, tzinfo=pytz.utc)\n",
    "bt_end = datetime.datetime(2016, 2, 4, tzinfo=pytz.utc)\n",
    "bt_batch_size = 50\n",
    "\n",
    "link = \"lstm\"\n",
    "gpu = 0\n",
    "prefix = \"\"\n",
    "algoci = \"store_true\"\n",
    "#title =     \n",
    "\n",
    "bt_is_buy = True\n",
    "bt_loss_cut = 10.0\n",
    "bt_profit_take = 0.0\n",
    "bt_threshold = 0.85\n",
    "\n",
    "meta = {}"
   ]
  },
  {
   "cell_type": "code",
   "execution_count": 4,
   "metadata": {
    "collapsed": false
   },
   "outputs": [],
   "source": [
    "# 2,108\n",
    "# 20160316-154406_slk80-4-app-2-www_8a437b40\n",
    "# 1897 profit\n",
    "# 20160313-131604_slk80-3-app-1-www_937d281d\n",
    "# -2019 loss, short 4,3 1Min, 02/03/14 01/03/16\n",
    "# 20160329-110657_slk80-4-app-2-www_83f4f15f\n",
    "# 960 profit, 12/02/08 12/02/16\n",
    "# 20160309-112926_slk80-3-app-1-www_2425949d, short, EURUSD, 3, 1, 15Min\n",
    "tl = TrainLogger(training_id=\"20160309-112926_slk80-3-app-1-www_2425949d\")\n",
    "\n",
    "tl.path_fmt = 'trading/hdf5/prod/{}'\n",
    "\n",
    "tl.training_id = \"20160309-112926_slk80-3-app-1-www_2425949d\"\n",
    "\n",
    "path = tl.path_fmt.format(tl.training_id)\n",
    "\n",
    "bucket = tl._bucket()\n",
    "key = bucket.get_key(path)\n",
    "\n",
    "with open(\"/project/data/cache/tttmp\",\"w+\") as f:\n",
    "    key.get_file(f)"
   ]
  },
  {
   "cell_type": "code",
   "execution_count": 5,
   "metadata": {
    "collapsed": false
   },
   "outputs": [
    {
     "name": "stderr",
     "output_type": "stream",
     "text": [
      "/usr/local/lib/python2.7/dist-packages/chainer/cuda.py:85: UserWarning: cuDNN is not enabled.\n",
      "Please reinstall chainer after you install cudnn\n",
      "(see https://github.com/pfnet/chainer#installation).\n",
      "  'cuDNN is not enabled.\\n'\n"
     ]
    }
   ],
   "source": [
    "from trading.backtest.scorer import Scorer\n",
    "\n",
    "training_id = \"tttmp\"\n",
    "bt_start = datetime.datetime(2014, 3, 2, tzinfo=pytz.utc)\n",
    "bt_end = datetime.datetime(2016, 3, 2, tzinfo=pytz.utc)\n",
    "bt_batch_size = 50\n",
    "\n",
    "bt_result = Scorer.calc_score(\n",
    "    training_id,\n",
    "    model_params['symbol'],\n",
    "    model_params['timeframe'],\n",
    "    bt_start,\n",
    "    bt_end,\n",
    "    bt_batch_size)"
   ]
  },
  {
   "cell_type": "markdown",
   "metadata": {},
   "source": [
    "---"
   ]
  },
  {
   "cell_type": "code",
   "execution_count": 3,
   "metadata": {
    "collapsed": true
   },
   "outputs": [],
   "source": [
    "# -*- coding: utf-8 -*-\n",
    "\n",
    "from __future__ import absolute_import\n",
    "import numpy as np\n",
    "from histdata import get_pandadb, get_table_name\n",
    "from trading.simulator import get_trade_entry_timestamps, calc\n",
    "from collections import namedtuple\n",
    "\n",
    "\n",
    "class Backtest(object):\n",
    "\n",
    "    def __init__(self, symbol, scores=None):\n",
    "        self.symbol = symbol\n",
    "        self.scores = scores\n",
    "        self.previous_threshold = None\n",
    "        self.entry_timestamps = None\n",
    "\n",
    "    def profit(self, profit_take, loss_cut, side, threshold=0.85):\n",
    "        pandadb = get_pandadb()\n",
    "        df = pandadb[get_table_name(self.symbol, '1Min')]\n",
    "        return calc(\n",
    "            df,\n",
    "            self.update_entry_timestamps(threshold),\n",
    "            self.symbol,\n",
    "            side,\n",
    "            profit_take,\n",
    "            loss_cut)\n",
    "\n",
    "    def update_entry_timestamps(self, threshold):\n",
    "        update = False\n",
    "        if self.previous_threshold:\n",
    "            update = (self.previous_threshold != threshold)\n",
    "        else:\n",
    "            update = True\n",
    "\n",
    "        if update:\n",
    "            self.entry_timestamps = get_trade_entry_timestamps(\n",
    "                self.scores, threshold)\n",
    "            self.previous_threshold = threshold\n",
    "\n",
    "        return self.entry_timestamps\n",
    "\n",
    "\n",
    "class Ratio(object):\n",
    "\n",
    "    def __init__(self, a, b):\n",
    "        assert isinstance(a, int)\n",
    "        assert isinstance(b, int)\n",
    "        # profit_take : loss_cut = a : b\n",
    "\n",
    "        if a >= b:\n",
    "            # loss_cut = base\n",
    "            # profit_take = a * base / b\n",
    "            self.calc_lc = lambda base: base\n",
    "            self.calc_pt = lambda base, x=float(a), y=float(b): int(\n",
    "                round(base * x / y))\n",
    "        else:\n",
    "            # profit_take = base\n",
    "            # loss_cut = b * profit_take / a\n",
    "            self.calc_pt = lambda base: base\n",
    "            self.calc_lc = lambda base, x=float(a), y=float(b): int(\n",
    "                round(base * y / x))\n",
    "\n",
    "    def get_profit_take(self, base):\n",
    "        return self.calc_pt(base)\n",
    "\n",
    "    def get_loss_cut(self, base):\n",
    "        return self.calc_lc(base)\n",
    "\n",
    "\n",
    "Optimized = namedtuple(\"Optimized\", \"profit_take loss_cut account\")\n",
    "\n",
    "\n",
    "class Optimizer(object):\n",
    "\n",
    "    def __init__(self, backtest, ratio, side, threshold=0.85):\n",
    "        \"\"\"\n",
    "        :param backtest: instance of `trading.backtest.optimizer.Backtest`.\n",
    "        :param ratio: instance of `trading.backtest.optimizer.Ratio`.\n",
    "        :param side: \"long\" or \"short\"\n",
    "        :param threshold: Threshold of backtesting\n",
    "        \"\"\"\n",
    "        assert side in [\"long\", \"short\"]\n",
    "        assert isinstance(ratio, Ratio)\n",
    "\n",
    "        self.backtest = backtest\n",
    "        self.ratio = ratio\n",
    "        self.side = side\n",
    "        self.threshold = threshold\n",
    "\n",
    "    def evaluate(self, candidate):\n",
    "        profit_take = self.ratio.get_profit_take(candidate)\n",
    "        loss_cut = self.ratio.get_loss_cut(candidate)\n",
    "        account = self.backtest.profit(\n",
    "            profit_take, loss_cut, self.side, self.threshold)\n",
    "        return account\n",
    "\n",
    "    def optimize(self, **kwargs):\n",
    "        assert \"timeframe\" in kwargs\n",
    "\n",
    "        candidates = {\n",
    "            '1Min': [5, 7, 10, 12, 15],\n",
    "            '5Min': [5, 7, 10, 15, 20],\n",
    "            '15Min': [5, 10, 15, 20, 30],\n",
    "            '1H': [10, 20, 30, 40, 60],\n",
    "            '4H': [10, 20, 30, 50, 80],\n",
    "            '1D': [10, 25, 40, 60, 90],\n",
    "        }.get(kwargs[\"timeframe\"], None)\n",
    "        assert candidates is not None\n",
    "\n",
    "        accounts = map(lambda candidate: self.evaluate(candidate), candidates)\n",
    "        profits = map(lambda account: account.total_balance(), accounts)\n",
    "        best_index = np.argmax(profits)\n",
    "        profit_take = self.ratio.get_profit_take(candidates[best_index])\n",
    "        loss_cut = self.ratio.get_loss_cut(candidates[best_index])\n",
    "        best_account = accounts[best_index]\n",
    "\n",
    "        return Optimized(profit_take, loss_cut, best_account)"
   ]
  },
  {
   "cell_type": "code",
   "execution_count": 78,
   "metadata": {
    "collapsed": false
   },
   "outputs": [],
   "source": [
    "profit_take , loss_cut = 3 , 1\n",
    "threshold = 0.85\n",
    "backtest = Backtest(\"EURUSD\",scores=bt_result)\n",
    "ratio = Ratio(profit_take , loss_cut) #profit_take : loss_cut = a : b\n",
    "optimizer = Optimizer(backtest,ratio,\"short\",threshold=threshold) # side: \"long\" or \"short\", "
   ]
  },
  {
   "cell_type": "code",
   "execution_count": 79,
   "metadata": {
    "collapsed": false
   },
   "outputs": [
    {
     "name": "stdout",
     "output_type": "stream",
     "text": [
      "CPU times: user 864 ms, sys: 6.48 s, total: 7.35 s\n",
      "Wall time: 7.34 s\n"
     ]
    }
   ],
   "source": [
    "%%time\n",
    "o = optimizer.optimize(timeframe='15Min')"
   ]
  },
  {
   "cell_type": "code",
   "execution_count": 80,
   "metadata": {
    "collapsed": false
   },
   "outputs": [
    {
     "name": "stdout",
     "output_type": "stream",
     "text": [
      "Choosen loss/cut    60 20\n",
      "Balance             551.0\n",
      "Number of trades    47\n"
     ]
    },
    {
     "data": {
      "image/png": "[encoded data removed]",
      "text/plain": [
       "<matplotlib.figure.Figure at 0x7f42634be790>"
      ]
     },
     "metadata": {},
     "output_type": "display_data"
    }
   ],
   "source": [
    "print(\"Choosen loss/cut   \",o.profit_take,o.loss_cut)\n",
    "print(\"Balance            \",o.account.total_balance())\n",
    "print(\"Number of trades   \",len(o.account.trades))\n",
    "plt.plot(o.account.daily_total[\"open\"].values[4000:])\n",
    "plt.show()"
   ]
  },
  {
   "cell_type": "code",
   "execution_count": 81,
   "metadata": {
    "collapsed": false
   },
   "outputs": [
    {
     "name": "stdout",
     "output_type": "stream",
     "text": [
      "CPU times: user 5.38 s, sys: 32 ms, total: 5.41 s\n",
      "Wall time: 5.36 s\n"
     ]
    }
   ],
   "source": [
    "%%time\n",
    "rsopti = Random_Search_Optimizer(\"EURUSD\",\"short\",\"15Min\",scores=bt_result)\n",
    "best_accout,best_param,best_total_balance = rsopti.optimize(\n",
    "                    min_ratio=1,\n",
    "                    max_ratio=9,\n",
    "                    trials=20)"
   ]
  },
  {
   "cell_type": "code",
   "execution_count": 82,
   "metadata": {
    "collapsed": false
   },
   "outputs": [
    {
     "name": "stdout",
     "output_type": "stream",
     "text": [
      "Choosen profit/loss cut    171 233\n",
      "Threshold                  0.77\n",
      "Balance                    1344.3\n",
      "Number of trades           28\n"
     ]
    },
    {
     "data": {
      "image/png": "[encoded data removed]",
      "text/plain": [
       "<matplotlib.figure.Figure at 0x7f426329fb10>"
      ]
     },
     "metadata": {},
     "output_type": "display_data"
    }
   ],
   "source": [
    "print(\"Choosen profit/loss cut   \",best_param[0],best_param[1])\n",
    "print(\"Threshold                 \",best_param[2])\n",
    "print(\"Balance                   \",best_accout.total_balance())\n",
    "print(\"Number of trades          \",len(best_accout.trades))\n",
    "plt.plot(best_accout.daily_total[\"open\"].values[4000:])\n",
    "plt.show()"
   ]
  },
  {
   "cell_type": "code",
   "execution_count": 38,
   "metadata": {
    "collapsed": false
   },
   "outputs": [
    {
     "name": "stdout",
     "output_type": "stream",
     "text": [
      "CPU times: user 11.3 s, sys: 136 ms, total: 11.4 s\n",
      "Wall time: 11.4 s\n"
     ]
    }
   ],
   "source": [
    "%%time\n",
    "rsopti = Random_Search_Optimizer(\"EURUSD\",\"short\",\"15Min\",scores=bt_result)\n",
    "best_accout,best_param,best_total_balance = rsopti.optimize(\n",
    "                    min_ratio=1,\n",
    "                    max_ratio=9,\n",
    "                    trials=40)"
   ]
  },
  {
   "cell_type": "code",
   "execution_count": 39,
   "metadata": {
    "collapsed": false
   },
   "outputs": [
    {
     "name": "stdout",
     "output_type": "stream",
     "text": [
      "Choosen profit/loss cut    223 193\n",
      "Threshold                  0.61\n",
      "Balance                    1997.0\n",
      "Number of trades           31\n"
     ]
    },
    {
     "data": {
      "image/png": "[encoded data removed]",
      "text/plain": [
       "<matplotlib.figure.Figure at 0x7fc97e4e8150>"
      ]
     },
     "metadata": {},
     "output_type": "display_data"
    }
   ],
   "source": [
    "print(\"Choosen profit/loss cut   \",best_param[0],best_param[1])\n",
    "print(\"Threshold                 \",best_param[2])\n",
    "print(\"Balance                   \",best_accout.total_balance())\n",
    "print(\"Number of trades          \",len(best_accout.trades))\n",
    "plt.plot(best_accout.daily_total[\"open\"].values[4000:])\n",
    "plt.show()"
   ]
  },
  {
   "cell_type": "code",
   "execution_count": 40,
   "metadata": {
    "collapsed": false
   },
   "outputs": [
    {
     "name": "stdout",
     "output_type": "stream",
     "text": [
      "CPU times: user 16 s, sys: 288 ms, total: 16.3 s\n",
      "Wall time: 16.2 s\n"
     ]
    }
   ],
   "source": [
    "%%time\n",
    "rsopti = Random_Search_Optimizer(\"EURUSD\",\"short\",\"15Min\",scores=bt_result)\n",
    "best_accout,best_param,best_total_balance = rsopti.optimize(\n",
    "                    min_ratio=1,\n",
    "                    max_ratio=9,\n",
    "                    trials=60)"
   ]
  },
  {
   "cell_type": "code",
   "execution_count": 41,
   "metadata": {
    "collapsed": false
   },
   "outputs": [
    {
     "name": "stdout",
     "output_type": "stream",
     "text": [
      "Choosen profit/loss cut    251 204\n",
      "Threshold                  0.59\n",
      "Balance                    2169.5\n",
      "Number of trades           28\n"
     ]
    },
    {
     "data": {
      "image/png": "[encoded data removed]",
      "text/plain": [
       "<matplotlib.figure.Figure at 0x7fc97e56b990>"
      ]
     },
     "metadata": {},
     "output_type": "display_data"
    }
   ],
   "source": [
    "print(\"Choosen profit/loss cut   \",best_param[0],best_param[1])\n",
    "print(\"Threshold                 \",best_param[2])\n",
    "print(\"Balance                   \",best_accout.total_balance())\n",
    "print(\"Number of trades          \",len(best_accout.trades))\n",
    "plt.plot(best_accout.daily_total[\"open\"].values[4000:])\n",
    "plt.show()"
   ]
  },
  {
   "cell_type": "markdown",
   "metadata": {},
   "source": [
    "---"
   ]
  },
  {
   "cell_type": "code",
   "execution_count": 231,
   "metadata": {
    "collapsed": false
   },
   "outputs": [
    {
     "name": "stdout",
     "output_type": "stream",
     "text": [
      "Choosen profit/loss cut    261 30\n",
      "Balance                    2820.5\n",
      "Number of trades           175\n"
     ]
    },
    {
     "data": {
      "image/png": "[encoded data removed]",
      "text/plain": [
       "<matplotlib.figure.Figure at 0x7fcf986c4250>"
      ]
     },
     "metadata": {},
     "output_type": "display_data"
    }
   ],
   "source": [
    "print(\"Choosen profit/loss cut   \",out.profit_take,o.loss_cut)\n",
    "print(\"Balance                   \",out.account.total_balance())\n",
    "print(\"Number of trades          \",len(out.account.trades))\n",
    "plt.plot(out.account.daily_total[\"open\"].values[2000:])\n",
    "plt.show()"
   ]
  },
  {
   "cell_type": "code",
   "execution_count": 59,
   "metadata": {
    "collapsed": false
   },
   "outputs": [
    {
     "name": "stdout",
     "output_type": "stream",
     "text": [
      "Balance             1133.3\n",
      "Number of trades    12\n"
     ]
    },
    {
     "data": {
      "image/png": "[encoded data removed]",
      "text/plain": [
       "<matplotlib.figure.Figure at 0x7f42633ec790>"
      ]
     },
     "metadata": {},
     "output_type": "display_data"
    }
   ],
   "source": [
    "# 200, 228, 0.94, 2328.10, 31\n",
    "profit_take , loss_cut = 200 , 228\n",
    "threshold = 0.94\n",
    "backtest = Backtest(\"EURUSD\",scores=bt_result)\n",
    "res = backtest.profit(profit_take, loss_cut, \"short\", threshold)\n",
    "print(\"Balance            \",res.total_balance())\n",
    "print(\"Number of trades   \",len(res.trades))\n",
    "plt.plot(res.daily_total[\"open\"].values[4000:])\n",
    "plt.show()"
   ]
  },
  {
   "cell_type": "code",
   "execution_count": 10,
   "metadata": {
    "collapsed": false
   },
   "outputs": [
    {
     "data": {
      "text/plain": [
       "556.6000000000015"
      ]
     },
     "execution_count": 10,
     "metadata": {},
     "output_type": "execute_result"
    }
   ],
   "source": [
    "res.total_balance()"
   ]
  },
  {
   "cell_type": "code",
   "execution_count": 22,
   "metadata": {
    "collapsed": true
   },
   "outputs": [],
   "source": [
    "profit_take , loss_cut = 3 , 1\n",
    "backtest = Backtest(\"USDJPY\",scores=bt_result)\n",
    "ratio = Ratio(profit_take , loss_cut) #profit_take : loss_cut = a : b"
   ]
  },
  {
   "cell_type": "markdown",
   "metadata": {},
   "source": [
    "# Hyper parameters optimization\n",
    "\n",
    "##### Put it an other way: fully automated exit rule paramaters selection\n",
    "\n",
    "Random search, high performance on a big enought feature space, [reference](http://www.jmlr.org/papers/volume13/bergstra12a/bergstra12a.pdf)  \n",
    "Gradient based optimization, chaining derivatives backwards through the entire training procedure, [paper](http://jmlr.org/proceedings/papers/v37/maclaurin15.pdf)"
   ]
  },
  {
   "cell_type": "code",
   "execution_count": 3,
   "metadata": {
    "collapsed": false
   },
   "outputs": [],
   "source": [
    "%matplotlib inline\n",
    "import seaborn as sns\n",
    "import matplotlib.pyplot as plt\n",
    "from mpl_toolkits.mplot3d import Axes3D"
   ]
  },
  {
   "cell_type": "markdown",
   "metadata": {},
   "source": [
    "### Random search opt"
   ]
  },
  {
   "cell_type": "code",
   "execution_count": 100,
   "metadata": {
    "collapsed": false
   },
   "outputs": [],
   "source": [
    "already_tried = {}\n",
    "log = []"
   ]
  },
  {
   "cell_type": "code",
   "execution_count": 17,
   "metadata": {
    "collapsed": false
   },
   "outputs": [
    {
     "name": "stderr",
     "output_type": "stream",
     "text": [
      "100%|██████████| 40/40 [01:12<00:00,  1.61s/it]"
     ]
    },
    {
     "name": "stdout",
     "output_type": "stream",
     "text": [
      "CPU times: user 48 s, sys: 25.2 s, total: 1min 13s\n",
      "Wall time: 1min 12s\n"
     ]
    },
    {
     "name": "stderr",
     "output_type": "stream",
     "text": [
      "\n"
     ]
    }
   ],
   "source": [
    "%%time\n",
    "\n",
    "trials = 40\n",
    "\n",
    "for i in tqdm.tqdm(range(trials),leave=True): \n",
    "    yep = True\n",
    "    cpt=0\n",
    "    while yep:\n",
    "        profit_take , loss_cut = np.random.randint(1,10) , np.random.randint(1,10)\n",
    "        threshold = float('%.2f'%(np.random.rand()/2+0.5))\n",
    "        cpt+=1\n",
    "        if cpt>10:\n",
    "            print(\"should not happen (tried all the feature space?)\")\n",
    "            break\n",
    "        try:\n",
    "            already_tried[\"%d,%d,%f\"%(profit_take,loss_cut,threshold)]\n",
    "        except KeyError:\n",
    "            yep = False\n",
    "            already_tried[\"%d,%d,%f\"%(profit_take,loss_cut,threshold)] = 1\n",
    "    \n",
    "    backtest = Backtest(\"USDJPY\",scores=bt_result)\n",
    "    ratio = Ratio(profit_take , loss_cut) #profit_take : loss_cut = a : b\n",
    "    optimizer = Optimizer(backtest,ratio,\"long\",threshold=threshold) # side: \"long\" or \"short\", \n",
    "    o = optimizer.optimize(timeframe='15Min')\n",
    "    \n",
    "    log.append([profit_take,loss_cut,threshold,o.account.balance])"
   ]
  },
  {
   "cell_type": "code",
   "execution_count": 18,
   "metadata": {
    "collapsed": false
   },
   "outputs": [
    {
     "data": {
      "text/plain": [
       "[[1, 8, 0.67, 703.19999999999982],\n",
       " [8, 3, 0.73, 534.10000000000218],\n",
       " [8, 4, 0.66, 440.09999999999394],\n",
       " [2, 8, 0.56, 421.29999999999808],\n",
       " [5, 1, 0.57, 376.39999999999816],\n",
       " [5, 9, 0.9, 365.99999999999113],\n",
       " [9, 4, 0.53, 364.20000000000243],\n",
       " [1, 8, 0.9, 359.89999999999753],\n",
       " [4, 6, 0.97, 359.59999999999752],\n",
       " [2, 6, 0.87, 354.69999999999402]]"
      ]
     },
     "execution_count": 18,
     "metadata": {},
     "output_type": "execute_result"
    }
   ],
   "source": [
    "best_params = sorted(log,key=lambda a: a[3],reverse=True)\n",
    "best_params[:10]"
   ]
  },
  {
   "cell_type": "code",
   "execution_count": 4,
   "metadata": {
    "collapsed": false
   },
   "outputs": [],
   "source": [
    "def generate_random(clip_bottom,clip_top):\n",
    "    diff = clip_top - clip_bottom\n",
    "    scale = diff*0.05 * 0.7\n",
    "    center = np.random.rand(2)*(diff * 0.9) + clip_bottom + diff*0.05\n",
    "    profit_take = int(np.clip( np.random.normal(center[0] , scale) ,clip_bottom,clip_top))\n",
    "    loss_cut = int(np.clip( np.random.normal(center[1] , scale) ,clip_bottom,clip_top))\n",
    "    return profit_take,loss_cut"
   ]
  },
  {
   "cell_type": "code",
   "execution_count": 5,
   "metadata": {
    "collapsed": true
   },
   "outputs": [],
   "source": [
    "# 2,108\n",
    "# 20160316-154406_slk80-4-app-2-www_8a437b40\n",
    "# 1897 profit\n",
    "# 20160313-131604_slk80-3-app-1-www_937d281d\n",
    "# -2019 loss, short 4,3 1Min, 02/03/14 01/03/16\n",
    "# 20160329-110657_slk80-4-app-2-www_83f4f15f\n",
    "# 960 profit, 12/02/08 12/02/16\n",
    "# 20160309-112926_slk80-3-app-1-www_2425949d, short, EURUSD, 3, 1, 15Min\n",
    "tl = TrainLogger(training_id=\"20160309-112926_slk80-3-app-1-www_2425949d\")\n",
    "\n",
    "tl.path_fmt = 'trading/hdf5/prod/{}'\n",
    "\n",
    "tl.training_id = \"20160309-112926_slk80-3-app-1-www_2425949d\"\n",
    "\n",
    "path = tl.path_fmt.format(tl.training_id)\n",
    "\n",
    "bucket = tl._bucket()\n",
    "key = bucket.get_key(path)\n",
    "\n",
    "with open(\"/project/data/cache/tttmp\",\"w+\") as f:\n",
    "    key.get_file(f)"
   ]
  },
  {
   "cell_type": "code",
   "execution_count": 4,
   "metadata": {
    "collapsed": false
   },
   "outputs": [
    {
     "name": "stderr",
     "output_type": "stream",
     "text": [
      "/usr/local/lib/python2.7/dist-packages/chainer/cuda.py:85: UserWarning: cuDNN is not enabled.\n",
      "Please reinstall chainer after you install cudnn\n",
      "(see https://github.com/pfnet/chainer#installation).\n",
      "  'cuDNN is not enabled.\\n'\n"
     ]
    },
    {
     "ename": "AttributeError",
     "evalue": "'module' object has no attribute 'memory_pool'",
     "output_type": "error",
     "traceback": [
      "\u001b[1;31m---------------------------------------------------------------------------\u001b[0m",
      "\u001b[1;31mAttributeError\u001b[0m                            Traceback (most recent call last)",
      "\u001b[1;32m<ipython-input-4-70d27b5098b0>\u001b[0m in \u001b[0;36m<module>\u001b[1;34m()\u001b[0m\n\u001b[0;32m     17\u001b[0m     \u001b[0mbt_start\u001b[0m\u001b[1;33m,\u001b[0m\u001b[1;33m\u001b[0m\u001b[0m\n\u001b[0;32m     18\u001b[0m     \u001b[0mbt_end\u001b[0m\u001b[1;33m,\u001b[0m\u001b[1;33m\u001b[0m\u001b[0m\n\u001b[1;32m---> 19\u001b[1;33m     bt_batch_size)\n\u001b[0m\u001b[0;32m     20\u001b[0m \u001b[1;31m# (b - a) * random_sample() + a\u001b[0m\u001b[1;33m\u001b[0m\u001b[1;33m\u001b[0m\u001b[0m\n",
      "\u001b[1;32m/project/python/lib/trading/backtest/scorer.pyc\u001b[0m in \u001b[0;36mcalc_score\u001b[1;34m(cls, algo_key, symbol, timeframe, start, end, batch_size, status_cb, gpu_id)\u001b[0m\n\u001b[0;32m    170\u001b[0m             \u001b[0mgc\u001b[0m\u001b[1;33m.\u001b[0m\u001b[0mcollect\u001b[0m\u001b[1;33m(\u001b[0m\u001b[1;33m)\u001b[0m\u001b[1;33m\u001b[0m\u001b[0m\n\u001b[0;32m    171\u001b[0m             \u001b[1;32mif\u001b[0m \u001b[0mhandler\u001b[0m \u001b[1;32mis\u001b[0m \u001b[1;32mnot\u001b[0m \u001b[0mNone\u001b[0m\u001b[1;33m:\u001b[0m\u001b[1;33m\u001b[0m\u001b[0m\n\u001b[1;32m--> 172\u001b[1;33m                 \u001b[0mhandler\u001b[0m\u001b[1;33m.\u001b[0m\u001b[0mrelease_memory\u001b[0m\u001b[1;33m(\u001b[0m\u001b[1;33m)\u001b[0m\u001b[1;33m\u001b[0m\u001b[0m\n\u001b[0m\u001b[0;32m    173\u001b[0m                 \u001b[0mgc\u001b[0m\u001b[1;33m.\u001b[0m\u001b[0mcollect\u001b[0m\u001b[1;33m(\u001b[0m\u001b[1;33m)\u001b[0m\u001b[1;33m\u001b[0m\u001b[0m\n",
      "\u001b[1;32m/project/python/lib/ml/utils.pyc\u001b[0m in \u001b[0;36mrelease_memory\u001b[1;34m(self)\u001b[0m\n\u001b[0;32m     85\u001b[0m         \u001b[1;32mif\u001b[0m \u001b[0mcuda_available\u001b[0m \u001b[1;32mand\u001b[0m \u001b[0mself\u001b[0m\u001b[1;33m.\u001b[0m\u001b[0mgpu\u001b[0m \u001b[1;33m>=\u001b[0m \u001b[1;36m0\u001b[0m\u001b[1;33m:\u001b[0m\u001b[1;33m\u001b[0m\u001b[0m\n\u001b[0;32m     86\u001b[0m             \u001b[1;32mwith\u001b[0m \u001b[0mself\u001b[0m\u001b[1;33m.\u001b[0m\u001b[0mdevice\u001b[0m\u001b[1;33m:\u001b[0m\u001b[1;33m\u001b[0m\u001b[0m\n\u001b[1;32m---> 87\u001b[1;33m                 \u001b[0mcuda\u001b[0m\u001b[1;33m.\u001b[0m\u001b[0mmemory_pool\u001b[0m\u001b[1;33m.\u001b[0m\u001b[0mfree_all_free\u001b[0m\u001b[1;33m(\u001b[0m\u001b[1;33m)\u001b[0m\u001b[1;33m\u001b[0m\u001b[0m\n\u001b[0m\u001b[0;32m     88\u001b[0m \u001b[1;33m\u001b[0m\u001b[0m\n\u001b[0;32m     89\u001b[0m \u001b[1;33m\u001b[0m\u001b[0m\n",
      "\u001b[1;31mAttributeError\u001b[0m: 'module' object has no attribute 'memory_pool'"
     ]
    }
   ],
   "source": [
    "#%%time\n",
    "# absolute_best = 1025.49  #obtained by long grid search\n",
    "# '15Min': [5, 10, 15, 20, 30]\n",
    "# 27s for 8 years, 3s for 2year\n",
    "\n",
    "from trading.backtest.scorer import Scorer\n",
    "\n",
    "training_id = \"tttmp\"\n",
    "bt_start = datetime.datetime(2014, 2, 12, tzinfo=pytz.utc)\n",
    "bt_end = datetime.datetime(2016, 2, 12, tzinfo=pytz.utc)\n",
    "bt_batch_size = 50\n",
    "\n",
    "bt_result = Scorer.calc_score(\n",
    "    training_id,\n",
    "    \"EURUSD\",\n",
    "    \"15Min\",\n",
    "    bt_start,\n",
    "    bt_end,\n",
    "    bt_batch_size)\n",
    "# (b - a) * random_sample() + a"
   ]
  },
  {
   "cell_type": "code",
   "execution_count": 5,
   "metadata": {
    "collapsed": true
   },
   "outputs": [],
   "source": [
    "import cupy"
   ]
  },
  {
   "cell_type": "code",
   "execution_count": 6,
   "metadata": {
    "collapsed": false
   },
   "outputs": [
    {
     "ename": "TypeError",
     "evalue": "descriptor 'free_all_free' of 'cupy.cuda.memory.MemoryPool' object needs an argument",
     "output_type": "error",
     "traceback": [
      "\u001b[1;31m---------------------------------------------------------------------------\u001b[0m",
      "\u001b[1;31mTypeError\u001b[0m                                 Traceback (most recent call last)",
      "\u001b[1;32m<ipython-input-6-1c806abe8dd4>\u001b[0m in \u001b[0;36m<module>\u001b[1;34m()\u001b[0m\n\u001b[1;32m----> 1\u001b[1;33m \u001b[0mcupy\u001b[0m\u001b[1;33m.\u001b[0m\u001b[0mcuda\u001b[0m\u001b[1;33m.\u001b[0m\u001b[0mmemory\u001b[0m\u001b[1;33m.\u001b[0m\u001b[0mMemoryPool\u001b[0m\u001b[1;33m.\u001b[0m\u001b[0mfree_all_free\u001b[0m\u001b[1;33m(\u001b[0m\u001b[1;33m)\u001b[0m\u001b[1;33m\u001b[0m\u001b[0m\n\u001b[0m",
      "\u001b[1;31mTypeError\u001b[0m: descriptor 'free_all_free' of 'cupy.cuda.memory.MemoryPool' object needs an argument"
     ]
    }
   ],
   "source": [
    "cupy.cuda.memory.MemoryPool.free_all_free()"
   ]
  },
  {
   "cell_type": "code",
   "execution_count": 42,
   "metadata": {
    "collapsed": false
   },
   "outputs": [
    {
     "name": "stdout",
     "output_type": "stream",
     "text": [
      "CPU times: user 0 ns, sys: 0 ns, total: 0 ns\n",
      "Wall time: 16 µs\n"
     ]
    }
   ],
   "source": [
    "%%time\n",
    "backtest = Backtest(\"EURUSD\",scores=bt_result)"
   ]
  },
  {
   "cell_type": "code",
   "execution_count": 47,
   "metadata": {
    "collapsed": false
   },
   "outputs": [
    {
     "name": "stdout",
     "output_type": "stream",
     "text": [
      "DB 24 got pd db 0.720368146896\n",
      "DB 24 calc 1.57963013649\n",
      "DB 24 got pd db 0.742202997208\n",
      "DB 24 calc 1.61627101898\n",
      "DB 24 got pd db 0.67565202713\n",
      "DB 24 calc 1.52830505371\n",
      "DB 24 got pd db 0.694643974304\n",
      "DB 24 calc 1.52188801765\n",
      "1 loop, best of 3: 1.54 s per loop\n",
      "CPU times: user 616 ms, sys: 5.74 s, total: 6.36 s\n",
      "Wall time: 6.34 s\n"
     ]
    }
   ],
   "source": [
    "%%time\n",
    "%%timeit\n",
    "backtest.profit(30, 20, \"short\", 0.8)"
   ]
  },
  {
   "cell_type": "code",
   "execution_count": 5,
   "metadata": {
    "collapsed": true
   },
   "outputs": [],
   "source": [
    "import time, os\n",
    "# \n",
    "from multiprocessing import Pool, TimeoutError"
   ]
  },
  {
   "cell_type": "code",
   "execution_count": 6,
   "metadata": {
    "collapsed": false
   },
   "outputs": [],
   "source": [
    "from histdata import get_pandadb, get_table_name\n",
    "from trading.simulator import get_trade_entry_timestamps, calc\n",
    "import numpy as np\n",
    "\n",
    "class Random_Search_Optimizer(object):\n",
    "\n",
    "    def __init__(self, symbol, side, timeframe, scores):\n",
    "        \"\"\"Optimize the profit_take/loss_cut ratio.\n",
    "\n",
    "        Determine the profit take / loss cut ratio producing the highest outcome\n",
    "        using a random search iterative process.\n",
    "        \n",
    "\n",
    "        Args:\n",
    "            backtest (Backtest): instance of `trading.backtest.optimizer.Backtest`.\n",
    "            side      (string): \"long\" or \"short\".\n",
    "            timeframe (string): [\"1Min\",\"5Min\",\"15Min\",\"1H\",\"4H\",\"1D\"]\n",
    "            \n",
    "        Example:\n",
    "            `optimizer = Random_Search_Optimizer(backtest)`\n",
    "            `results   = optimizer.optimize(\"long\",\n",
    "                                            \"15Min\",\n",
    "                                            min_ratio=1,\n",
    "                                            max_ratio=9,\n",
    "                                            trials=50)`\n",
    "\n",
    "        \"\"\"\n",
    "        assert timeframe in [\"1Min\",\"5Min\",\"15Min\",\"1H\",\"4H\",\"1D\"]\n",
    "        assert side in [\"long\", \"short\"]\n",
    "\n",
    "#         self.backtest = backtest\n",
    "        self.best_total_balance = np.NINF\n",
    "        self.best_param = None\n",
    "        self.best_accout = None\n",
    "        self.local_log = []\n",
    "        self.already_tried = {}\n",
    "        self.side = side\n",
    "        self.timeframe = timeframe\n",
    "        self.symbol = symbol\n",
    "        pandadb = get_pandadb()\n",
    "        self.df = pandadb[get_table_name(self.symbol, self.timeframe)]\n",
    "        \n",
    "        self.previous_threshold = None\n",
    "        self.entry_timestamps = None\n",
    "        \n",
    "        self.scores = scores\n",
    "\n",
    "    def _update_entry_timestamps(self, threshold):\n",
    "        update = False\n",
    "        if self.previous_threshold:\n",
    "            update = (self.previous_threshold != threshold)\n",
    "        else:\n",
    "            update = True\n",
    "\n",
    "        if update:\n",
    "            self.entry_timestamps = get_trade_entry_timestamps(\n",
    "                self.scores, threshold)\n",
    "            self.previous_threshold = threshold\n",
    "\n",
    "        return self.entry_timestamps\n",
    "        \n",
    "    def _calc_profit(self, profit_take, loss_cut, threshold):\n",
    "        ttt = time.time()\n",
    "#         print(\"DB\",os.getpid(),\"got pd db\",time.time()-ttt)\n",
    "#         return calc(\n",
    "#             df,\n",
    "#             self.update_entry_timestamps(threshold),\n",
    "#             self.symbol,\n",
    "#             side,\n",
    "#             profit_take,\n",
    "#             loss_cut)\n",
    "        ret = calc(\n",
    "            self.df,\n",
    "            self._update_entry_timestamps(threshold),\n",
    "            self.symbol,\n",
    "            self.side,\n",
    "            profit_take,\n",
    "            loss_cut)\n",
    "#         print(\"DB\",os.getpid(),\"calc\",time.time()-ttt)\n",
    "        return ret\n",
    "        \n",
    "    def _generate_random(self,clip_bottom,clip_top):\n",
    "        \"\"\"Generate random number with lower probability on the edges\"\"\"\n",
    "        \n",
    "        diff = clip_top - clip_bottom\n",
    "        \n",
    "        # choose appropriate standard deviation\n",
    "        sigma = diff*0.05 * 0.7\n",
    "        \n",
    "        # uniform centers...\n",
    "        mu = np.random.rand(2)*(diff * 0.9) + clip_bottom + diff*0.05\n",
    "        \n",
    "        # ...and gaussian distribution around\n",
    "        profit_take = int(np.clip( np.random.normal(mu[0] , sigma),\n",
    "                                  clip_bottom,clip_top))\n",
    "        loss_cut = int(np.clip( np.random.normal(mu[1] , sigma),\n",
    "                               clip_bottom,clip_top))\n",
    "        \n",
    "        return profit_take,loss_cut\n",
    "    \n",
    "    def _iterate_locally(self,clip_top,clip_bottom,n_first=4,n_around=3,s_sigma=0.005):\n",
    "        \"\"\"Refine the search space\"\"\"\n",
    "        slog = sorted(np.array(self.local_log)[:,[0,1,2,3]],key=lambda x: x[3], reverse=True)\n",
    "        slog = slog[:n_first]\n",
    "        diff = clip_top - clip_bottom\n",
    "        sigma = diff*s_sigma # standard deviation\n",
    "\n",
    "        for i in slog:\n",
    "            for j in xrange(n_around):\n",
    "                not_tried = True\n",
    "                cpt = 0\n",
    "                while not_tried:\n",
    "                    profit_take = int(np.random.normal(i[0] , sigma))\n",
    "                    loss_cut = int(np.random.normal(i[1] , sigma))\n",
    "\n",
    "                    threshold = float('%.2f'%(max(min(np.random.normal(i[2] , 0.02), 0.99), 0.5)))\n",
    "\n",
    "                    cpt+=1\n",
    "                    if cpt>100:\n",
    "                        print(self.already_tried)\n",
    "                        print(profit_take,loss_cut,threshold)\n",
    "                        raise RuntimeError(\"Random Search tried all the feature space, should never happen\")\n",
    "\n",
    "                    # avoid exploring the same point twice\n",
    "                    try:\n",
    "                        self.already_tried[\"%d,%d,%f\"%(profit_take,loss_cut,threshold)]\n",
    "                    except KeyError:\n",
    "                        not_tried = False\n",
    "                        self.already_tried[\"%d,%d,%f\"%(profit_take,loss_cut,threshold)] = 1\n",
    "\n",
    "                res = self._calc_profit(profit_take, loss_cut, threshold)\n",
    "\n",
    "                if res.total_balance() > self.best_total_balance:\n",
    "                    self.best_total_balance = res.total_balance()\n",
    "                    self.best_param = [profit_take,loss_cut,threshold]\n",
    "                    self.best_accout = res\n",
    "\n",
    "                self.local_log.append([profit_take,\n",
    "                                       loss_cut,\n",
    "                                       threshold,\n",
    "                                       res.total_balance(),\n",
    "                                       len(res.trades)\n",
    "                                      ])\n",
    "\n",
    "        \n",
    "\n",
    "\n",
    "    def optimize(self, min_ratio=1, max_ratio=9, trials=25):\n",
    "        \"\"\"Optimize the profit_take/loss_cut ratio.\n",
    "        \n",
    "        Args:\n",
    "            min_ratio    (int): minimum ratio to consider\n",
    "            max_ratio    (int): maximum ratio to consider\n",
    "            trials       (int): number of trials\n",
    "\n",
    "        Returns:\n",
    "            Optimized(profit_take, loss_cut, threshold, best_account)\n",
    "            \n",
    "        Raises:\n",
    "            RuntimeError: If all the feature space has been explored.\n",
    "                Should never happen.\n",
    "\n",
    "        \"\"\"\n",
    "        ttt = time.time()\n",
    "        np.random.seed()\n",
    "        assert min_ratio<max_ratio\n",
    "        trials = trials if trials<1000 else 1000\n",
    "        \n",
    "\n",
    "        candidates = {\n",
    "                '1Min': [5, 15],\n",
    "                '5Min': [5, 20],\n",
    "                '15Min': [5, 30],\n",
    "                '1H': [10, 60],\n",
    "                '4H': [10, 80],\n",
    "                '1D': [10, 90],\n",
    "            }\n",
    "        \n",
    "        min_multiplier, max_multiplier = candidates[self.timeframe]\n",
    "        clip_bottom, clip_top = min_ratio*min_multiplier, max_ratio*max_multiplier\n",
    "        \n",
    "        \n",
    "#         print(\">>\",os.getpid(),\"Start trials\",time.time()-ttt)\n",
    "        # try a series of random points in the restricted interesting search space\n",
    "        for i in xrange(trials): \n",
    "            not_tried = True\n",
    "            cpt=0\n",
    "            while not_tried:\n",
    "                profit_take , loss_cut = self._generate_random(clip_bottom,clip_top)\n",
    "                \n",
    "                threshold = float('%.2f'%(np.random.uniform(0.5, 0.99)))\n",
    "\n",
    "                cpt+=1\n",
    "                if cpt>100:\n",
    "                    raise RuntimeError(\"Random Search tried all the feature space, should never happen\")\n",
    "                    \n",
    "                # avoid exploring the same point twice\n",
    "                try:\n",
    "                    self.already_tried[\"%d,%d,%f\"%(profit_take,loss_cut,threshold)]\n",
    "                except KeyError:\n",
    "                    not_tried = False\n",
    "                    self.already_tried[\"%d,%d,%f\"%(profit_take,loss_cut,threshold)] = 1            \n",
    "            res = self._calc_profit(profit_take, loss_cut, threshold)\n",
    "            \n",
    "            if res.total_balance() > self.best_total_balance:\n",
    "                self.best_total_balance = res.total_balance()\n",
    "                self.best_param = [profit_take,loss_cut,threshold]\n",
    "                self.best_accout = res\n",
    "            \n",
    "            self.local_log.append([profit_take,\n",
    "                                   loss_cut,\n",
    "                                   threshold,\n",
    "                                   res.total_balance(),\n",
    "                                   len(res.trades)\n",
    "                                  ])\n",
    "#         print(\">>\",os.getpid(),\"Finished trials\",time.time()-ttt)\n",
    "        \n",
    "        # iteratively refine the best results    \n",
    "#         print(\"First\",os.getpid())\n",
    "#         print(self.best_param)\n",
    "#         print(self.best_total_balance)\n",
    "        self._iterate_locally(clip_top,clip_bottom,n_first=3,n_around=3,s_sigma=0.014)\n",
    "#         print(\">>\",os.getpid(),\"Finished iterate 0\",time.time()-ttt)\n",
    "#         self._iterate_locally(clip_top,clip_bottom,n_first=10,n_around=5,s_sigma=0.009)\n",
    "#         print(\"Then\",os.getpid())\n",
    "#         print(self.best_param)\n",
    "#         print(self.best_total_balance)\n",
    "#         print(\">>\",os.getpid(),\"Finished iterate 1\",time.time()-ttt)\n",
    "        self._iterate_locally(clip_top,clip_bottom,n_first=1,n_around=4,s_sigma=0.005)\n",
    "#         print(\"Last\",os.getpid())\n",
    "#         print(self.best_param)\n",
    "#         print(self.best_total_balance)\n",
    "#         print(\">>\",os.getpid(),\"Finished iterate 2\",time.time()-ttt)\n",
    "\n",
    "\n",
    "#         OptimizedRatio = namedtuple(\"OptimizedRatio\", \"account profit_take loss_cut threshold\")\n",
    "    \n",
    "#         return OptimizedRatio(self.best_accout,*self.best_param) , np.array(self.local_log)  # !!!!\n",
    "        return (self.best_accout,self.best_param,self.best_total_balance)"
   ]
  },
  {
   "cell_type": "code",
   "execution_count": 7,
   "metadata": {
    "collapsed": false
   },
   "outputs": [],
   "source": [
    "rso = Random_Search_Optimizer(\"EURUSD\",\"short\",\"15Min\",scores=bt_result)"
   ]
  },
  {
   "cell_type": "code",
   "execution_count": 8,
   "metadata": {
    "collapsed": false
   },
   "outputs": [
    {
     "name": "stdout",
     "output_type": "stream",
     "text": [
      "CPU times: user 16.4 s, sys: 332 ms, total: 16.7 s\n",
      "Wall time: 16.6 s\n"
     ]
    },
    {
     "data": {
      "text/plain": [
       "(<trading.simulator.Account at 0x7fe6ba2b7cd0>,\n",
       " [261, 163, 0.53],\n",
       " 2318.7000000000289)"
      ]
     },
     "execution_count": 8,
     "metadata": {},
     "output_type": "execute_result"
    }
   ],
   "source": [
    "%%time\n",
    "rso.optimize(min_ratio=1, max_ratio=9, trials=60)"
   ]
  },
  {
   "cell_type": "code",
   "execution_count": 9,
   "metadata": {
    "collapsed": false
   },
   "outputs": [
    {
     "name": "stdout",
     "output_type": "stream",
     "text": [
      "261, 163, 0.53, 2318.70, 30\n",
      "260, 164, 0.56, 2302.40, 30\n",
      "260, 165, 0.58, 2278.70, 30\n",
      "259, 165, 0.57, 2263.90, 30\n",
      "261, 165, 0.56, 2258.30, 30\n",
      "254, 169, 0.58, 2239.20, 30\n",
      "253, 165, 0.56, 2222.80, 30\n",
      "211, 238, 0.59, 2209.10, 31\n",
      "208, 234, 0.56, 2189.20, 31\n",
      "210, 243, 0.59, 2188.50, 31\n",
      "Choosen profit/loss cut    261 163\n",
      "Threshold                  0.53\n",
      "Balance                    2318.7\n",
      "Number of trades           30\n"
     ]
    },
    {
     "data": {
      "image/png": "[encoded data removed]",
      "text/plain": [
       "<matplotlib.figure.Figure at 0x7fe6ba2b79d0>"
      ]
     },
     "metadata": {},
     "output_type": "display_data"
    },
    {
     "data": {
      "image/png": "[encoded data removed]",
      "text/plain": [
       "<matplotlib.figure.Figure at 0x7fe6af2a0e90>"
      ]
     },
     "metadata": {},
     "output_type": "display_data"
    }
   ],
   "source": [
    "grid = np.array(sorted(rso.local_log,key=lambda x: x[3], reverse=True))\n",
    "for i in grid[:10]:\n",
    "    print(\"%0.f, %0.f, %.02f, %0.2f, %d\"%(i[0],i[1],i[2],i[3],i[4]))\n",
    "    \n",
    "print(\"Choosen profit/loss cut   \",rso.best_param[0],rso.best_param[1])\n",
    "print(\"Threshold                 \",rso.best_param[2])\n",
    "print(\"Balance                   \",rso.best_accout.total_balance())\n",
    "print(\"Number of trades          \",len(rso.best_accout.trades))\n",
    "plt.plot(rso.best_accout.daily_total[\"open\"].values[4000:])\n",
    "plt.show()\n",
    "\n",
    "ttt = grid[:,3]\n",
    "col = (ttt - ttt.min()) / ttt.max()\n",
    "plt.scatter(grid[:,0],\n",
    "            grid[:,1],\n",
    "            s=40,\n",
    "            c=col,\n",
    "            marker=\"s\",\n",
    "            linewidths=[0.,0.],\n",
    "            cmap=\"coolwarm\")\n",
    "plt.show()"
   ]
  },
  {
   "cell_type": "code",
   "execution_count": 16,
   "metadata": {
    "collapsed": false
   },
   "outputs": [
    {
     "name": "stdout",
     "output_type": "stream",
     "text": [
      "Requirement already satisfied (use --upgrade to upgrade): plotly in /usr/local/lib/python2.7/dist-packages\r\n",
      "Requirement already satisfied (use --upgrade to upgrade): requests in /usr/local/lib/python2.7/dist-packages (from plotly)\r\n",
      "Requirement already satisfied (use --upgrade to upgrade): six in /usr/local/lib/python2.7/dist-packages (from plotly)\r\n",
      "Requirement already satisfied (use --upgrade to upgrade): pytz in /usr/local/lib/python2.7/dist-packages (from plotly)\r\n",
      "Cleaning up...\r\n"
     ]
    }
   ],
   "source": [
    "!pip install plotly\n",
    "import plotly.graph_objs as go\n",
    "from plotly.offline import download_plotlyjs, init_notebook_mode, iplot\n",
    "import plotly as py\n",
    "\n",
    "# takes ~3s\n",
    "init_notebook_mode()"
   ]
  },
  {
   "cell_type": "code",
   "execution_count": 17,
   "metadata": {
    "collapsed": false
   },
   "outputs": [],
   "source": [
    "# x, y, z = np.random.multivariate_normal(np.array([0,0,0]), np.eye(3), 400).transpose()\n",
    "\n",
    "trace1 = go.Scatter3d(\n",
    "    x=grid[:,0],\n",
    "    y=grid[:,1],\n",
    "    z=grid[:,3],\n",
    "    mode='markers',\n",
    "    marker=dict(\n",
    "        size=12,\n",
    "        color=grid[:,2],                # set color to an array/list of desired values\n",
    "        colorscale='-Greys',   # Viridis, Hot, YIGnBu\n",
    "        opacity=1\n",
    "    )\n",
    ")\n",
    "\n",
    "data = [trace1]\n",
    "layout = go.Layout(\n",
    "    margin=dict(\n",
    "        l=0,\n",
    "        r=0,\n",
    "        b=0,\n",
    "        t=0\n",
    "    )\n",
    ")"
   ]
  },
  {
   "cell_type": "code",
   "execution_count": 18,
   "metadata": {
    "collapsed": false
   },
   "outputs": [
    {
     "data": {
      "text/html": [
       "<div id=\"8774319c-639d-4c7a-a844-7002cfe0ca8f\" style=\"height: 525; width: 100%;\" class=\"plotly-graph-div\"></div><script type=\"text/javascript\">window.PLOTLYENV=window.PLOTLYENV || {};window.PLOTLYENV.BASE_URL=\"https://plot.ly\";Plotly.newPlot(\"8774319c-639d-4c7a-a844-7002cfe0ca8f\", [{\"marker\": {\"opacity\": 1, \"color\": [0.53, 0.56, 0.58, 0.57, 0.56, 0.58, 0.56, 0.59, 0.56, 0.59, 0.6, 0.54, 0.51, 0.58, 0.54, 0.53, 0.63, 0.54, 0.62, 0.7, 0.7, 0.72, 0.76, 0.92, 0.53, 0.68, 0.58, 0.95, 0.63, 0.71, 0.95, 0.65, 0.66, 0.81, 0.58, 0.77, 0.55, 0.81, 0.89, 0.6, 0.67, 0.83, 0.61, 0.73, 0.53, 0.56, 0.79, 0.92, 0.78, 0.73, 0.85, 0.5, 0.76, 0.64, 0.93, 0.95, 0.92, 0.93, 0.81, 0.72, 0.87, 0.89, 0.54, 0.81, 0.83, 0.75, 0.98, 0.58, 0.77, 0.75, 0.98, 0.98, 0.96], \"colorscale\": \"-Greys\", \"size\": 12}, \"mode\": \"markers\", \"y\": [163.0, 164.0, 165.0, 165.0, 165.0, 169.0, 165.0, 238.0, 234.0, 243.0, 165.0, 246.0, 251.0, 241.0, 251.0, 250.0, 201.0, 236.0, 219.0, 256.0, 208.0, 223.0, 185.0, 223.0, 270.0, 153.0, 136.0, 243.0, 156.0, 194.0, 216.0, 223.0, 228.0, 23.0, 207.0, 222.0, 108.0, 134.0, 163.0, 254.0, 129.0, 123.0, 228.0, 196.0, 25.0, 172.0, 154.0, 179.0, 117.0, 221.0, 107.0, 152.0, 66.0, 149.0, 58.0, 167.0, 67.0, 236.0, 95.0, 123.0, 39.0, 135.0, 92.0, 31.0, 36.0, 182.0, 253.0, 60.0, 111.0, 90.0, 36.0, 104.0, 150.0], \"x\": [261.0, 260.0, 260.0, 259.0, 261.0, 254.0, 253.0, 211.0, 208.0, 210.0, 249.0, 175.0, 175.0, 214.0, 172.0, 170.0, 243.0, 34.0, 214.0, 32.0, 154.0, 34.0, 176.0, 239.0, 66.0, 211.0, 83.0, 236.0, 196.0, 211.0, 187.0, 37.0, 146.0, 166.0, 133.0, 96.0, 200.0, 242.0, 166.0, 134.0, 214.0, 234.0, 132.0, 46.0, 164.0, 58.0, 226.0, 140.0, 200.0, 245.0, 151.0, 97.0, 251.0, 95.0, 66.0, 228.0, 159.0, 69.0, 212.0, 151.0, 69.0, 99.0, 124.0, 91.0, 64.0, 224.0, 77.0, 121.0, 19.0, 74.0, 151.0, 45.0, 100.0], \"z\": [2318.700000000029, 2302.400000000033, 2278.700000000038, 2263.900000000034, 2258.3000000000325, 2239.2000000000367, 2222.8000000000306, 2209.1000000000404, 2189.200000000028, 2188.5000000000364, 2171.2000000000307, 2087.1000000000263, 2016.0000000000246, 2015.0000000000439, 2006.7000000000237, 1933.3000000000204, 1523.3000000000254, 1497.200000000049, 1470.5000000000305, 1467.2000000000419, 1366.7000000000253, 1308.5000000000393, 1275.600000000028, 1266.1000000000054, 1219.9000000000317, 1184.6000000000358, 1180.4000000000594, 1174.2000000000096, 1170.8000000000336, 1104.3000000000245, 1058.0000000000077, 1057.4000000000503, 1053.000000000028, 1047.7000000000382, 982.3000000000427, 969.5000000000206, 954.6000000000361, 951.7000000000157, 942.9000000000244, 941.4000000000433, 936.800000000031, 904.1000000000121, 903.9000000000397, 886.6000000000374, 881.60000000006, 846.5000000000496, 734.6000000000299, 706.8000000000142, 697.3000000000318, 689.4000000000156, 666.0000000000265, 633.3000000000453, 625.3000000000377, 625.2000000000437, 592.300000000019, 546.8000000000094, 541.500000000017, 495.60000000001156, 485.70000000001556, 455.7000000000322, 443.4000000000427, 431.00000000002143, 420.70000000005814, 395.80000000003497, 376.5000000000506, 329.40000000003283, 323.8000000000052, 261.8000000000742, 225.30000000006166, 158.4000000000518, 89.30000000001215, -24.199999999994226, -146.79999999999131], \"type\": \"scatter3d\"}], {\"margin\": {\"r\": 0, \"b\": 0, \"t\": 0, \"l\": 0}}, {\"linkText\": \"Export to plot.ly\", \"showLink\": true})</script>"
      ],
      "text/plain": [
       "<IPython.core.display.HTML object>"
      ]
     },
     "metadata": {},
     "output_type": "display_data"
    }
   ],
   "source": [
    "fig = go.Figure(data=[trace1], layout=layout)\n",
    "iplot(fig)"
   ]
  },
  {
   "cell_type": "code",
   "execution_count": 53,
   "metadata": {
    "collapsed": false
   },
   "outputs": [
    {
     "data": {
      "text/html": [
       "<div id=\"eca8c252-5440-4060-a681-b5a1a04d9a7d\" style=\"height: 525; width: 100%;\" class=\"plotly-graph-div\"></div><script type=\"text/javascript\">window.PLOTLYENV=window.PLOTLYENV || {};window.PLOTLYENV.BASE_URL=\"https://plot.ly\";Plotly.newPlot(\"eca8c252-5440-4060-a681-b5a1a04d9a7d\", [{\"marker\": {\"opacity\": 1, \"color\": [0.59, 0.59, 0.59, 0.6, 0.61, 0.54, 0.53, 0.64, 0.63, 0.52, 0.59, 0.57, 0.56, 0.62, 0.6, 0.56, 0.55, 0.55, 0.55, 0.55, 0.7, 0.6, 0.9, 0.82, 0.89, 0.58, 0.81, 0.51, 0.85, 0.68, 0.59, 0.8, 0.68, 0.73, 0.71, 0.69, 0.78, 0.58, 0.51, 0.82, 0.81, 0.7, 0.91, 0.6, 0.56, 0.56, 0.89, 0.73, 0.8, 0.81, 0.89, 0.7, 0.71, 0.81, 0.88, 0.75, 0.64, 0.84, 0.59, 0.77, 0.61, 0.98, 0.95, 0.71, 0.94, 0.58, 0.58, 0.96, 0.75, 0.71, 0.56, 0.67, 0.93], \"colorscale\": \"-Greys\", \"size\": 12}, \"mode\": \"markers\", \"y\": [175.0, 176.0, 175.0, 176.0, 179.0, 224.0, 222.0, 177.0, 178.0, 216.0, 198.0, 196.0, 218.0, 175.0, 196.0, 198.0, 201.0, 180.0, 180.0, 223.0, 250.0, 133.0, 263.0, 139.0, 235.0, 144.0, 135.0, 75.0, 36.0, 176.0, 156.0, 144.0, 198.0, 231.0, 209.0, 192.0, 176.0, 122.0, 55.0, 102.0, 30.0, 179.0, 100.0, 230.0, 160.0, 43.0, 111.0, 172.0, 204.0, 202.0, 190.0, 138.0, 60.0, 189.0, 156.0, 34.0, 94.0, 93.0, 59.0, 147.0, 41.0, 133.0, 25.0, 130.0, 125.0, 81.0, 60.0, 232.0, 76.0, 44.0, 13.0, 46.0, 37.0], \"x\": [180.0, 181.0, 178.0, 180.0, 181.0, 253.0, 246.0, 179.0, 177.0, 250.0, 251.0, 249.0, 251.0, 176.0, 245.0, 244.0, 243.0, 238.0, 201.0, 171.0, 237.0, 191.0, 242.0, 202.0, 56.0, 155.0, 253.0, 227.0, 165.0, 208.0, 74.0, 187.0, 80.0, 213.0, 200.0, 231.0, 254.0, 97.0, 202.0, 190.0, 137.0, 189.0, 254.0, 97.0, 48.0, 60.0, 223.0, 204.0, 46.0, 47.0, 80.0, 5.0, 237.0, 92.0, 51.0, 70.0, 114.0, 11.0, 50.0, 113.0, 88.0, 198.0, 64.0, 20.0, 118.0, 118.0, 118.0, 64.0, 47.0, 106.0, 86.0, 111.0, 230.0], \"z\": [2425.600000000039, 2411.5000000000423, 2391.5000000000423, 2368.900000000032, 2207.6000000000413, 2176.7000000000126, 2059.90000000001, 2033.3000000000334, 2029.000000000041, 2028.20000000002, 2024.4000000000215, 2014.400000000025, 1960.900000000017, 1946.2000000000357, 1911.6000000000267, 1838.9000000000206, 1817.3000000000193, 1709.5000000000214, 1670.4000000000337, 1542.0000000000207, 1459.700000000013, 1314.4000000000426, 1141.600000000016, 1127.2000000000214, 1125.100000000028, 1119.4000000000592, 1087.1000000000115, 1080.5000000000268, 1034.5000000000468, 1021.2000000000265, 1016.1000000000572, 1013.6000000000279, 987.1000000000294, 972.3000000000194, 958.7000000000277, 939.6000000000295, 862.1000000000191, 857.5000000000508, 829.5000000000605, 819.9000000000267, 807.9000000000367, 805.9000000000351, 802.8000000000078, 798.4000000000412, 764.1000000000452, 743.0000000000869, 730.100000000027, 711.7000000000288, 707.1000000000383, 671.3000000000391, 655.2000000000224, 550.5000000000759, 540.3000000000384, 526.600000000026, 458.50000000003735, 340.900000000064, 320.40000000004284, 304.90000000004125, 302.90000000008126, 298.3000000000379, 291.5000000000757, 281.400000000005, 278.5000000000127, 268.2000000000494, 230.30000000001223, 223.20000000006564, 196.3000000000737, 170.6000000000119, 117.80000000007449, 56.900000000053225, 43.40000000009775, 12.700000000070034, -188.2999999999857], \"type\": \"scatter3d\"}], {\"margin\": {\"r\": 0, \"b\": 0, \"t\": 0, \"l\": 0}}, {\"linkText\": \"Export to plot.ly\", \"showLink\": true})</script>"
      ],
      "text/plain": [
       "<IPython.core.display.HTML object>"
      ]
     },
     "metadata": {},
     "output_type": "display_data"
    }
   ],
   "source": [
    "# high threshold in red\n",
    "fig = go.Figure(data=[trace1], layout=layout)\n",
    "iplot(fig)"
   ]
  },
  {
   "cell_type": "code",
   "execution_count": 11,
   "metadata": {
    "collapsed": true
   },
   "outputs": [],
   "source": [
    "import time, os\n",
    "# \n",
    "from multiprocessing import Pool, TimeoutError"
   ]
  },
  {
   "cell_type": "code",
   "execution_count": 22,
   "metadata": {
    "collapsed": false
   },
   "outputs": [
    {
     "name": "stdout",
     "output_type": "stream",
     "text": [
      "369 Start <<\n",
      ">> 369 TIME 0.00249099731445\n",
      ">> 369 Start trials 0.000787019729614\n",
      "370 Start <<\n",
      ">> 370 TIME 0.00313591957092\n",
      ">> 370 Start trials 0.000823974609375\n",
      "371 Start <<\n",
      ">> 371 TIME 0.00338101387024\n",
      ">> 371 Start trials 0.000934839248657\n",
      ">> 370 Finished trials 11.2663209438\n",
      "370 TIME 11.2861728668 Exit >>\n",
      ">> 369 Finished trials 11.799587965\n",
      "369 TIME 11.8178310394 Exit >>\n",
      ">> 371 Finished trials 12.3229618073\n",
      "371 TIME 12.3389921188 Exit >>\n"
     ]
    },
    {
     "data": {
      "text/plain": [
       "[(<trading.simulator.Account at 0x7fa968a109d0>,\n",
       "  [193, 150, 0.71],\n",
       "  1318.2000000000246),\n",
       " (<trading.simulator.Account at 0x7fa95d183610>,\n",
       "  [205, 100, 0.89],\n",
       "  833.10000000002424),\n",
       " (<trading.simulator.Account at 0x7fa968b93650>,\n",
       "  [98, 240, 0.71],\n",
       "  506.20000000002585)]"
      ]
     },
     "execution_count": 22,
     "metadata": {},
     "output_type": "execute_result"
    }
   ],
   "source": [
    "#%%time\n",
    "def do(backtest):\n",
    "    ttt = time.time()\n",
    "    print(os.getpid(),\"Start <<\")\n",
    "    \n",
    "    cls = Random_Search_Optimizer(backtest)\n",
    "    print(\">>\",os.getpid(),\"TIME\",time.time()-ttt)\n",
    "    \n",
    "    res = cls.optimize(side=\"short\",\n",
    "                    timeframe=\"15Min\",\n",
    "                    min_ratio=1,\n",
    "                    max_ratio=9,\n",
    "                    trials=5)\n",
    "    \n",
    "    print(os.getpid(),\"TIME\",time.time()-ttt,\"Exit >>\")\n",
    "    \n",
    "    return res\n",
    "outtt = []\n",
    "# def optimize(self, side, timeframe, min_ratio=1, max_ratio=9, trials=25):\n",
    "cls = Random_Search_Optimizer(backtest)\n",
    "\n",
    "k_nearest = 3\n",
    "pool = Pool(k_nearest)\n",
    "dic = {}\n",
    "for i in range(3):\n",
    "    dic[\"result%d\" % i] = pool.apply_async(\n",
    "        do, [backtest])\n",
    "\n",
    "for i in dic.iteritems():\n",
    "    try:\n",
    "        outtt.append(i[1].get(timeout=120))\n",
    "    except TimeoutError:\n",
    "        print(\"timeout\")\n",
    "        pass\n",
    "\n",
    "pool.close()\n",
    "pool.terminate()\n",
    "pool.join()\n",
    "\n",
    "best = sorted(outtt,key=lambda x: x[2], reverse=True)\n",
    "best[:5]"
   ]
  },
  {
   "cell_type": "code",
   "execution_count": 699,
   "metadata": {
    "collapsed": false
   },
   "outputs": [
    {
     "data": {
      "text/plain": [
       "[(<trading.simulator.Account at 0x7fcf99331850>,\n",
       "  [147, 33, 0.74],\n",
       "  1976.9000000001568),\n",
       " (<trading.simulator.Account at 0x7fcf98a981d0>,\n",
       "  [168, 52, 0.86],\n",
       "  1829.7000000000917),\n",
       " (<trading.simulator.Account at 0x7fcf9c271f10>,\n",
       "  [195, 212, 0.92],\n",
       "  1678.8000000000407),\n",
       " (<trading.simulator.Account at 0x7fcf98a982d0>,\n",
       "  [235, 252, 0.9],\n",
       "  1553.7000000000462),\n",
       " (<trading.simulator.Account at 0x7fcf98a984d0>,\n",
       "  [146, 21, 0.72],\n",
       "  1363.7000000001685)]"
      ]
     },
     "execution_count": 699,
     "metadata": {},
     "output_type": "execute_result"
    }
   ],
   "source": [
    "best[:5]"
   ]
  },
  {
   "cell_type": "code",
   "execution_count": 694,
   "metadata": {
    "collapsed": false
   },
   "outputs": [
    {
     "data": {
      "text/plain": [
       "(<trading.simulator.Account at 0x7fcf9c271050>,\n",
       " [155, 24, 0.78],\n",
       " 1960.9000000001374)"
      ]
     },
     "execution_count": 694,
     "metadata": {},
     "output_type": "execute_result"
    }
   ],
   "source": [
    "best"
   ]
  },
  {
   "cell_type": "code",
   "execution_count": 690,
   "metadata": {
    "collapsed": false
   },
   "outputs": [
    {
     "data": {
      "text/plain": [
       "[(<trading.simulator.Account at 0x7fcf98518750>, [183, 243, 0.95]),\n",
       " (<trading.simulator.Account at 0x7fcf9849a0d0>, [184, 251, 0.95]),\n",
       " (<trading.simulator.Account at 0x7fcf98518710>, [249, 151, 0.84]),\n",
       " (<trading.simulator.Account at 0x7fcf98518d90>, [238, 176, 0.91])]"
      ]
     },
     "execution_count": 690,
     "metadata": {},
     "output_type": "execute_result"
    }
   ],
   "source": [
    "outtt"
   ]
  },
  {
   "cell_type": "code",
   "execution_count": 50,
   "metadata": {
    "collapsed": true
   },
   "outputs": [],
   "source": [
    "rsopti = Random_Search_Optimizer(\"EURUSD\",\"short\",\"15Min\",scores=bt_result)"
   ]
  },
  {
   "cell_type": "code",
   "execution_count": 51,
   "metadata": {
    "collapsed": false,
    "scrolled": true
   },
   "outputs": [
    {
     "name": "stdout",
     "output_type": "stream",
     "text": [
      ">> 0 153 152 0.85 1459.1\n",
      ">> 1 121 211 0.89 641.5\n",
      ">> 2 230 141 0.84 1022.9\n",
      ">> 3 103 140 0.95 104.4\n",
      ">> 4 110 166 0.81 319.6\n",
      "First 405\n",
      "[153, 152, 0.85]\n",
      "1459.1\n",
      "Then 405\n",
      "[153, 152, 0.85]\n",
      "1459.1\n",
      "CPU times: user 2.19 s, sys: 184 ms, total: 2.37 s\n",
      "Wall time: 2.17 s\n"
     ]
    }
   ],
   "source": [
    "%%time\n",
    "# out, rs_res = rsopti.optimize(side=\"short\",\n",
    "rsopti = Random_Search_Optimizer(\"EURUSD\",\"short\",\"15Min\",scores=bt_result)\n",
    "best_accout,best_param,best_total_balance = rsopti.optimize(\n",
    "                    min_ratio=1,\n",
    "                    max_ratio=9,\n",
    "                    trials=5)"
   ]
  },
  {
   "cell_type": "code",
   "execution_count": 90,
   "metadata": {
    "collapsed": false
   },
   "outputs": [
    {
     "name": "stdout",
     "output_type": "stream",
     "text": [
      "Choosen profit/loss cut    171 233\n",
      "Threshold                  0.77\n",
      "Balance                    1344.3\n",
      "Number of trades           28\n"
     ]
    },
    {
     "data": {
      "image/png": "[encoded data removed]",
      "text/plain": [
       "<matplotlib.figure.Figure at 0x7f426256d590>"
      ]
     },
     "metadata": {},
     "output_type": "display_data"
    }
   ],
   "source": [
    "print(\"Choosen profit/loss cut   \",best_param[0],best_param[1])\n",
    "print(\"Threshold                 \",best_param[2])\n",
    "print(\"Balance                   \",best_accout.total_balance())\n",
    "print(\"Number of trades          \",len(best_accout.trades))\n",
    "plt.plot(best_accout.daily_total[\"open\"].values[4000:])\n",
    "plt.show()"
   ]
  },
  {
   "cell_type": "code",
   "execution_count": 417,
   "metadata": {
    "collapsed": false
   },
   "outputs": [
    {
     "name": "stdout",
     "output_type": "stream",
     "text": [
      "188, 161, 0.92, 2436.80, 52\n",
      "188, 163, 0.92, 2369.00, 52\n",
      "186, 164, 0.92, 2331.50, 52\n",
      "189, 163, 0.90, 2217.80, 64\n",
      "180, 162, 0.90, 2143.90, 65\n",
      "186, 163, 0.91, 2064.80, 58\n",
      "183, 163, 0.91, 1937.60, 58\n",
      "181, 160, 0.91, 1836.70, 59\n",
      "28, 251, 0.87, 1834.40, 91\n",
      "32, 257, 0.89, 1774.50, 81\n"
     ]
    }
   ],
   "source": [
    "grid = sorted(rs_res,key=lambda x: x[3], reverse=True)\n",
    "for i in grid[:10]:\n",
    "    print(\"%0.f, %0.f, %.02f, %0.2f, %d\"%(i[0],i[1],i[2],i[3],i[4]))"
   ]
  },
  {
   "cell_type": "code",
   "execution_count": 418,
   "metadata": {
    "collapsed": false
   },
   "outputs": [
    {
     "data": {
      "image/png": "[encoded data removed]",
      "text/plain": [
       "<matplotlib.figure.Figure at 0x7fcf9c0601d0>"
      ]
     },
     "metadata": {},
     "output_type": "display_data"
    }
   ],
   "source": [
    "ttt = rs_res[:,3]\n",
    "col = (ttt - ttt.min()) / ttt.max()\n",
    "plt.scatter(rs_res[:,0],\n",
    "            rs_res[:,1],\n",
    "            s=40,\n",
    "            c=col,\n",
    "            marker=\"s\",\n",
    "            linewidths=[0.,0.],\n",
    "            cmap=\"coolwarm\")\n",
    "plt.show()"
   ]
  },
  {
   "cell_type": "code",
   "execution_count": 619,
   "metadata": {
    "collapsed": true
   },
   "outputs": [
    {
     "name": "stdout",
     "output_type": "stream",
     "text": [
      "Downloading/unpacking ipyparallel\n",
      "  Downloading ipyparallel-5.0.1-py2.py3-none-any.whl (179kB): 179kB downloaded\n",
      "Requirement already satisfied (use --upgrade to upgrade): pyzmq>=13 in /usr/local/lib/python2.7/dist-packages (from ipyparallel)\n",
      "Requirement already satisfied (use --upgrade to upgrade): decorator in /usr/local/lib/python2.7/dist-packages (from ipyparallel)\n",
      "Requirement already satisfied (use --upgrade to upgrade): tornado>=4 in /usr/local/lib/python2.7/dist-packages (from ipyparallel)\n",
      "Requirement already satisfied (use --upgrade to upgrade): ipython>=4 in /usr/local/lib/python2.7/dist-packages (from ipyparallel)\n",
      "Requirement already satisfied (use --upgrade to upgrade): ipython-genutils in /usr/local/lib/python2.7/dist-packages (from ipyparallel)\n",
      "Requirement already satisfied (use --upgrade to upgrade): jupyter-client in /usr/local/lib/python2.7/dist-packages (from ipyparallel)\n",
      "Requirement already satisfied (use --upgrade to upgrade): ipykernel in /usr/local/lib/python2.7/dist-packages (from ipyparallel)\n",
      "Requirement already satisfied (use --upgrade to upgrade): futures; python_version == \"2.7\" in /usr/local/lib/python2.7/dist-packages (from ipyparallel)\n",
      "Requirement already satisfied (use --upgrade to upgrade): backports.ssl_match_hostname in /usr/local/lib/python2.7/dist-packages (from tornado>=4->ipyparallel)\n",
      "Requirement already satisfied (use --upgrade to upgrade): certifi in /usr/local/lib/python2.7/dist-packages (from tornado>=4->ipyparallel)\n",
      "Installing collected packages: ipyparallel\n",
      "Successfully installed ipyparallel\n",
      "Cleaning up...\n"
     ]
    }
   ],
   "source": [
    "!pip install ipyparallel"
   ]
  },
  {
   "cell_type": "code",
   "execution_count": 624,
   "metadata": {
    "collapsed": false
   },
   "outputs": [
    {
     "name": "stdout",
     "output_type": "stream",
     "text": [
      "Enabling IPython clusters tab\r\n"
     ]
    }
   ],
   "source": [
    "!ipcluster nbextension enable\n",
    "# ipcluster nbextension disable"
   ]
  },
  {
   "cell_type": "code",
   "execution_count": 625,
   "metadata": {
    "collapsed": true
   },
   "outputs": [
    {
     "name": "stdout",
     "output_type": "stream",
     "text": [
      "2016-04-12 09:25:08.663 [IPClusterStart] Starting ipcluster with [daemon=False]\n",
      "2016-04-12 09:25:08.664 [IPClusterStart] Creating pid file: /root/.ipython/profile_default/pid/ipcluster.pid\n",
      "2016-04-12 09:25:08.664 [IPClusterStart] Starting Controller with LocalControllerLauncher\n",
      "2016-04-12 09:25:09.668 [IPClusterStart] Starting 24 Engines with LocalEngineSetLauncher\n",
      "^C2016-04-12 09:25:32.198 [IPClusterStart] ERROR | IPython cluster: stopping\n",
      "2016-04-12 09:25:32.199 [IPClusterStart] Stopping Engines...\n",
      "\n"
     ]
    },
    {
     "name": "stderr",
     "output_type": "stream",
     "text": [
      "Process PoolWorker-43:\n",
      "Traceback (most recent call last):\n",
      "KeyboardInterrupt\n",
      "  File \"/usr/lib/python2.7/multiprocessing/process.py\", line 258, in _bootstrap\n",
      "Process PoolWorker-44:\n",
      "Process PoolWorker-40:\n",
      "Process PoolWorker-41:\n",
      "Process PoolWorker-37:\n",
      "Process PoolWorker-38:\n",
      "    self.run()\n",
      "Process PoolWorker-42:\n",
      "Process PoolWorker-39:\n",
      "  File \"/usr/lib/python2.7/multiprocessing/process.py\", line 114, in run\n",
      "Traceback (most recent call last):\n",
      "Traceback (most recent call last):\n",
      "Traceback (most recent call last):\n",
      "Traceback (most recent call last):\n",
      "Traceback (most recent call last):\n",
      "Traceback (most recent call last):\n",
      "Traceback (most recent call last):\n",
      "    self._target(*self._args, **self._kwargs)\n",
      "  File \"/usr/lib/python2.7/multiprocessing/process.py\", line 258, in _bootstrap\n",
      "  File \"/usr/lib/python2.7/multiprocessing/process.py\", line 258, in _bootstrap\n",
      "  File \"/usr/lib/python2.7/multiprocessing/process.py\", line 258, in _bootstrap\n",
      "  File \"/usr/lib/python2.7/multiprocessing/process.py\", line 258, in _bootstrap\n",
      "  File \"/usr/lib/python2.7/multiprocessing/process.py\", line 258, in _bootstrap\n",
      "  File \"/usr/lib/python2.7/multiprocessing/process.py\", line 258, in _bootstrap\n",
      "  File \"/usr/lib/python2.7/multiprocessing/process.py\", line 258, in _bootstrap\n",
      "  File \"/usr/lib/python2.7/multiprocessing/pool.py\", line 102, in worker\n",
      "    task = get()\n",
      "  File \"/usr/lib/python2.7/multiprocessing/queues.py\", line 374, in get\n",
      "    racquire()\n",
      "KeyboardInterrupt\n",
      "    self.run()\n",
      "    self.run()\n",
      "    self.run()\n",
      "    self.run()\n",
      "    self.run()\n",
      "    self.run()\n",
      "  File \"/usr/lib/python2.7/multiprocessing/process.py\", line 114, in run\n",
      "  File \"/usr/lib/python2.7/multiprocessing/process.py\", line 114, in run\n",
      "    self.run()\n",
      "  File \"/usr/lib/python2.7/multiprocessing/process.py\", line 114, in run\n",
      "  File \"/usr/lib/python2.7/multiprocessing/process.py\", line 114, in run\n",
      "  File \"/usr/lib/python2.7/multiprocessing/process.py\", line 114, in run\n",
      "  File \"/usr/lib/python2.7/multiprocessing/process.py\", line 114, in run\n",
      "    self._target(*self._args, **self._kwargs)\n",
      "    self._target(*self._args, **self._kwargs)\n",
      "  File \"/usr/lib/python2.7/multiprocessing/process.py\", line 114, in run\n",
      "    self._target(*self._args, **self._kwargs)\n",
      "    self._target(*self._args, **self._kwargs)\n",
      "    self._target(*self._args, **self._kwargs)\n",
      "  File \"/usr/lib/python2.7/multiprocessing/pool.py\", line 102, in worker\n",
      "  File \"/usr/lib/python2.7/multiprocessing/pool.py\", line 102, in worker\n",
      "    self._target(*self._args, **self._kwargs)\n",
      "  File \"/usr/lib/python2.7/multiprocessing/pool.py\", line 102, in worker\n",
      "  File \"/usr/lib/python2.7/multiprocessing/pool.py\", line 102, in worker\n",
      "  File \"/usr/lib/python2.7/multiprocessing/pool.py\", line 102, in worker\n",
      "  File \"/usr/lib/python2.7/multiprocessing/pool.py\", line 102, in worker\n",
      "    task = get()\n",
      "    self._target(*self._args, **self._kwargs)\n",
      "    task = get()\n",
      "    task = get()\n",
      "    task = get()\n",
      "  File \"/usr/lib/python2.7/multiprocessing/queues.py\", line 374, in get\n",
      "    task = get()\n",
      "  File \"/usr/lib/python2.7/multiprocessing/queues.py\", line 374, in get\n",
      "    task = get()\n",
      "  File \"/usr/lib/python2.7/multiprocessing/queues.py\", line 376, in get\n",
      "  File \"/usr/lib/python2.7/multiprocessing/queues.py\", line 374, in get\n",
      "  File \"/usr/lib/python2.7/multiprocessing/pool.py\", line 102, in worker\n",
      "    racquire()\n",
      "  File \"/usr/lib/python2.7/multiprocessing/queues.py\", line 374, in get\n",
      "  File \"/usr/lib/python2.7/multiprocessing/queues.py\", line 374, in get\n",
      "    racquire()\n",
      "    return recv()\n",
      "    racquire()\n",
      "    task = get()\n",
      "KeyboardInterrupt\n",
      "KeyboardInterrupt\n",
      "KeyboardInterrupt\n",
      "KeyboardInterrupt\n",
      "    racquire()\n",
      "    racquire()\n",
      "  File \"/usr/lib/python2.7/multiprocessing/queues.py\", line 376, in get\n",
      "KeyboardInterrupt\n",
      "KeyboardInterrupt\n",
      "    return recv()\n"
     ]
    }
   ],
   "source": [
    "!ipcluster start"
   ]
  },
  {
   "cell_type": "code",
   "execution_count": 628,
   "metadata": {
    "collapsed": false
   },
   "outputs": [],
   "source": [
    "import ipyparallel as ipp\n",
    "clients = ipp.Client()\n",
    "clients.block = True\n",
    "clients.ids\n",
    "view = clients.load_balanced_view()\n",
    "dview = clients[:]"
   ]
  },
  {
   "cell_type": "code",
   "execution_count": 617,
   "metadata": {
    "collapsed": false
   },
   "outputs": [
    {
     "name": "stdout",
     "output_type": "stream",
     "text": [
      "295 25\n",
      "293 25\n",
      "294 25\n",
      "296 25\n",
      "295 25\n",
      "bar\n",
      "bar\n",
      "bar\n",
      "bar\n",
      "bar\n"
     ]
    }
   ],
   "source": [
    "import os\n",
    "import time\n",
    "\n",
    "from multiprocessing import Pool, TimeoutError\n",
    "\n",
    "def foo(*args,**kwargs):\n",
    "    print(os.getpid(),os.getppid())\n",
    "    time.sleep(1)\n",
    "    return \"bar\"\n",
    "    \n",
    "k_nearest = 4\n",
    "pool = Pool(k_nearest)\n",
    "dic = {}\n",
    "for i in range(5):\n",
    "    dic[\"result%d\" % i] = pool.apply_async(\n",
    "        foo, [0.1, False])\n",
    "\n",
    "for i in dic.iteritems():\n",
    "    try:\n",
    "        ret = i[1].get(timeout=3)\n",
    "        print(ret)\n",
    "    except TimeoutError:\n",
    "        pass\n",
    "\n",
    "pool.close()\n",
    "pool.terminate()\n",
    "pool.join()\n"
   ]
  },
  {
   "cell_type": "code",
   "execution_count": 426,
   "metadata": {
    "collapsed": true
   },
   "outputs": [],
   "source": [
    "pool."
   ]
  },
  {
   "cell_type": "code",
   "execution_count": 500,
   "metadata": {
    "collapsed": false
   },
   "outputs": [],
   "source": [
    "def primes(n):\n",
    "    \"\"\" Returns  a list of primes < n \"\"\"\n",
    "    sieve = [True] * n\n",
    "    for i in xrange(3,int(n**0.5)+1,2):\n",
    "        if sieve[i]:\n",
    "            sieve[i*i::2*i]=[False]*((n-i*i-1)//(2*i)+1)\n",
    "    return [2] + [i for i in xrange(3,n,2) if sieve[i]]"
   ]
  },
  {
   "cell_type": "code",
   "execution_count": 473,
   "metadata": {
    "collapsed": false
   },
   "outputs": [],
   "source": [
    "def factor(n):\n",
    "    i = 2\n",
    "    limit = np.sqrt(n)    \n",
    "    while i <= limit:\n",
    "      if n % i == 0:\n",
    "        print(i)\n",
    "        n = n / i\n",
    "        limit = np.sqrt(n)   \n",
    "      else:\n",
    "        i += 1\n",
    "    if n > 1:\n",
    "        print(n)"
   ]
  },
  {
   "cell_type": "code",
   "execution_count": 502,
   "metadata": {
    "collapsed": false
   },
   "outputs": [],
   "source": [
    "def primesfrom2to(n):\n",
    "    \"\"\" Input n>=6, Returns a array of primes, 2 <= p < n \"\"\"\n",
    "    sieve = np.ones(n/3 + (n%6==2), dtype=np.bool)\n",
    "    for i in xrange(1,int(n**0.5)//3+1):\n",
    "        if sieve[i]:\n",
    "            k=3*i+1|1\n",
    "            sieve[       k*k//3     ::2*k] = False\n",
    "            sieve[k*(k-2*(i&1)+4)//3::2*k] = False\n",
    "    return np.r_[2,3,((3*np.nonzero(sieve)[0][1:]+1)|1)]"
   ]
  },
  {
   "cell_type": "code",
   "execution_count": 503,
   "metadata": {
    "collapsed": false
   },
   "outputs": [
    {
     "data": {
      "text/plain": [
       "array([  2,   3,   5,   7,  11,  13,  17,  19,  23,  29,  31,  37,  41,\n",
       "        43,  47,  53,  59,  61,  67,  71,  73,  79,  83,  89,  97, 101,\n",
       "       103, 107, 109, 113, 127, 131, 137, 139, 149, 151, 157, 163, 167])"
      ]
     },
     "execution_count": 503,
     "metadata": {},
     "output_type": "execute_result"
    }
   ],
   "source": [
    "primesfrom2to(170)"
   ]
  },
  {
   "cell_type": "code",
   "execution_count": 515,
   "metadata": {
    "collapsed": false
   },
   "outputs": [
    {
     "data": {
      "text/plain": [
       "14"
      ]
     },
     "execution_count": 515,
     "metadata": {},
     "output_type": "execute_result"
    }
   ],
   "source": [
    "170 // 12"
   ]
  },
  {
   "cell_type": "code",
   "execution_count": 546,
   "metadata": {
    "collapsed": false
   },
   "outputs": [],
   "source": [
    "z = np.random.randint(0,10,[4,5])"
   ]
  },
  {
   "cell_type": "code",
   "execution_count": 593,
   "metadata": {
    "collapsed": false
   },
   "outputs": [
    {
     "data": {
      "text/plain": [
       "array([[1, 1, 9, 8, 4],\n",
       "       [2, 6, 5, 7, 8],\n",
       "       [1, 3, 8, 5, 7],\n",
       "       [2, 1, 2, 1, 4]])"
      ]
     },
     "execution_count": 593,
     "metadata": {},
     "output_type": "execute_result"
    }
   ],
   "source": [
    "z"
   ]
  },
  {
   "cell_type": "code",
   "execution_count": 603,
   "metadata": {
    "collapsed": true
   },
   "outputs": [],
   "source": [
    "cc = 2"
   ]
  },
  {
   "cell_type": "code",
   "execution_count": 604,
   "metadata": {
    "collapsed": false
   },
   "outputs": [
    {
     "name": "stdout",
     "output_type": "stream",
     "text": [
      "2 1\n"
     ]
    }
   ],
   "source": [
    "rr = cc % z.shape[1]\n",
    "c = cc // rr\n",
    "print(rr,c)"
   ]
  },
  {
   "cell_type": "code",
   "execution_count": 581,
   "metadata": {
    "collapsed": false
   },
   "outputs": [
    {
     "ename": "ZeroDivisionError",
     "evalue": "integer division or modulo by zero",
     "output_type": "error",
     "traceback": [
      "\u001b[1;31m---------------------------------------------------------------------------\u001b[0m",
      "\u001b[1;31mZeroDivisionError\u001b[0m                         Traceback (most recent call last)",
      "\u001b[1;32m<ipython-input-581-27c8821df7c7>\u001b[0m in \u001b[0;36m<module>\u001b[1;34m()\u001b[0m\n\u001b[0;32m      6\u001b[0m                 (z.shape[1] // rr)*j:])\n\u001b[0;32m      7\u001b[0m print(z[(len(z) // c)*i:,\n\u001b[1;32m----> 8\u001b[1;33m                 (z.shape[1] // rr)*(j-1):(z.shape[1] // rr)*j])\n\u001b[0m\u001b[0;32m      9\u001b[0m print(z[(len(z) // c)*i:,\n\u001b[0;32m     10\u001b[0m                 (z.shape[1] // rr)*j:])\n",
      "\u001b[1;31mZeroDivisionError\u001b[0m: integer division or modulo by zero"
     ]
    }
   ],
   "source": [
    "for i in range(1,len(z) // c):\n",
    "    for j in range(1,c):\n",
    "        print(z[(len(z) // c)*(i-1):(len(z) // c)*i,\n",
    "                (z.shape[1] // rr)*(j-1):(z.shape[1] // rr)*j])\n",
    "    print(z[(len(z) // c)*(i-1):(len(z) // c)*i,\n",
    "                (z.shape[1] // rr)*j:])\n",
    "print(z[(len(z) // c)*i:,\n",
    "                (z.shape[1] // rr)*(j-1):(z.shape[1] // rr)*j])\n",
    "print(z[(len(z) // c)*i:,\n",
    "                (z.shape[1] // rr)*j:])"
   ]
  },
  {
   "cell_type": "code",
   "execution_count": 551,
   "metadata": {
    "collapsed": false
   },
   "outputs": [
    {
     "data": {
      "text/plain": [
       "[]"
      ]
     },
     "execution_count": 551,
     "metadata": {},
     "output_type": "execute_result"
    }
   ],
   "source": [
    "range(1,1)"
   ]
  },
  {
   "cell_type": "code",
   "execution_count": 457,
   "metadata": {
    "collapsed": false
   },
   "outputs": [],
   "source": [
    "def largest_prime_factor(n):\n",
    "    i = 2\n",
    "    while i * i <= n:\n",
    "        if n % i:\n",
    "            i += 1\n",
    "        else:\n",
    "            n //= i\n",
    "    return n"
   ]
  },
  {
   "cell_type": "code",
   "execution_count": 419,
   "metadata": {
    "collapsed": true
   },
   "outputs": [
    {
     "name": "stdout",
     "output_type": "stream",
     "text": [
      "# -*- coding: utf-8 -*-\r\n",
      "\r\n",
      "import logging\r\n",
      "import time\r\n",
      "import copy\r\n",
      "import json\r\n",
      "import _ucrdtw\r\n",
      "import histdata\r\n",
      "from multiprocessing import Pool, TimeoutError\r\n",
      "\r\n",
      "logger = logging.getLogger(__name__)\r\n",
      "\r\n",
      "\r\n",
      "def _remove_duplicates(features):\r\n",
      "    ret = []\r\n",
      "    cache = set()\r\n",
      "    for feat in features:\r\n",
      "        tmp = copy.copy(feat)\r\n",
      "        tmp.pop('id')\r\n",
      "        key = json.dumps(tmp, sort_keys=True)\r\n",
      "        if key not in cache:\r\n",
      "            ret.append(feat)\r\n",
      "            cache.add(key)\r\n",
      "    return ret\r\n",
      "\r\n",
      "\r\n",
      "def _remove_normalizers(features):\r\n",
      "    ret = []\r\n",
      "    for feat in features:\r\n",
      "        if 'normalizers' in feat:\r\n",
      "            feat.pop('normalizers')\r\n",
      "        ret.append(feat)\r\n",
      "    return ret\r\n",
      "\r\n",
      "\r\n",
      "def split(df, fold=5):\r\n",
      "    ret = []\r\n",
      "    lenght = len(df)\r\n",
      "    for i in range(fold):\r\n",
      "        ret.append(df[i * lenght / fold:lenght / fold * (i + 1)])\r\n",
      "    return ret\r\n",
      "\r\n",
      "\r\n",
      "def search(mp, start, end, samples=10000, pca_dim=32, k_nearest=5):\r\n",
      "\r\n",
      "    if k_nearest > 16:\r\n",
      "        k_nearest = 16\r\n",
      "        logger.warning(\"Capped to 16 k_nearest results\")\r\n",
      "\r\n",
      "    extend_by = 10\r\n",
      "\r\n",
      "    s = time.time()\r\n",
      "\r\n",
      "    df = histdata.pandadb[\r\n",
      "        histdata.get_table_name(mp['symbol'], mp['timeframe'])]\r\n",
      "    tmp_df = df[start:]\r\n",
      "    try:\r\n",
      "        tmp_end = max(tmp_df.index.get_loc(end), 10)\r\n",
      "    except KeyError:\r\n",
      "        tmp_end = max(tmp_df.index.get_loc(end, method=\"bfill\"), 10)\r\n",
      "    selected_range = tmp_df.iloc[:tmp_end + extend_by + 1]\r\n",
      "    range_size = selected_range.shape[0]\r\n",
      "\r\n",
      "    splits = k_nearest\r\n",
      "    shift = len(df) - range_size * samples\r\n",
      "\r\n",
      "    df = df[shift:]\r\n",
      "\r\n",
      "    data = df[[\"close\", \"high\", \"low\", \"open\"]].values\r\n",
      "    query = selected_range[[\"close\", \"high\", \"low\", \"open\"]].values\r\n",
      "\r\n",
      "    sp = split(data, fold=splits)\r\n",
      "\r\n",
      "    idx = []\r\n",
      "\r\n",
      "    pool = Pool(k_nearest)\r\n",
      "    dic = {}\r\n",
      "    for i in range(splits):\r\n",
      "        dic[\"result%d\" % i] = pool.apply_async(\r\n",
      "            _ucrdtw.ucrdtw, [sp[i], query, 0.1, False])\r\n",
      "\r\n",
      "    for i in dic.iteritems():\r\n",
      "        try:\r\n",
      "            loc, dist = i[1].get(timeout=3)\r\n",
      "            idx.append({\r\n",
      "                'start': df.ix[loc].name,\r\n",
      "                'end': df.ix[loc + range_size - extend_by].name,\r\n",
      "                'distance': dist,\r\n",
      "                'num_candles': range_size - extend_by\r\n",
      "            })\r\n",
      "        except TimeoutError:\r\n",
      "            pass\r\n",
      "\r\n",
      "    pool.close()\r\n",
      "    pool.terminate()\r\n",
      "    pool.join()\r\n",
      "\r\n",
      "    logger.info(\"elapsed time Fast DTW: {}\".format(time.time() - s))\r\n",
      "\r\n",
      "    return sorted(idx, key=lambda sugg: sugg[\r\n",
      "                  \"start\"].toordinal(), reverse=True)\r\n"
     ]
    }
   ],
   "source": [
    "!cat /project/python/lib/ml/simsearch.py"
   ]
  },
  {
   "cell_type": "code",
   "execution_count": 211,
   "metadata": {
    "collapsed": false
   },
   "outputs": [],
   "source": [
    "def random_search(backtest, side, timeframe, min_ratio=1, max_ratio=9, trials=20):\n",
    "    local_log = []\n",
    "    already_tried = {}\n",
    "    trials = trials if trials<1000 else 1000\n",
    "    assert min_ratio<max_ratio\n",
    "    #timeframe=\"1Min\"\n",
    "    candidates = {\n",
    "            '1Min': [5, 15],\n",
    "            '5Min': [5, 20],\n",
    "            '15Min': [5, 30],\n",
    "            '1H': [10, 60],\n",
    "            '4H': [10, 80],\n",
    "            '1D': [10, 90],\n",
    "        }\n",
    "    min_multiplier, max_multiplier = candidates[timeframe]\n",
    "    clip_bottom, clip_top = min_ratio*min_multiplier, max_ratio*max_multiplier\n",
    "    \n",
    "    for i in tqdm.tqdm(range(trials)):\n",
    "        not_tried = True\n",
    "        cpt=0\n",
    "        while not_tried:\n",
    "            profit_take , loss_cut = generate_random(clip_bottom,clip_top)\n",
    "\n",
    "            threshold = float('%.2f'%(np.random.uniform(0.7, 0.98)))\n",
    "\n",
    "            cpt+=1\n",
    "            if cpt>100:\n",
    "#                 print(\"should not happen (tried all the feature space?)\") ### !!!\n",
    "                raise RuntimeError(\"Random Search tried all the feature space, should never happen\")\n",
    "            try:\n",
    "                already_tried[\"%d,%d,%f\"%(profit_take,loss_cut,threshold)]\n",
    "            except KeyError:\n",
    "                not_tried = False\n",
    "                already_tried[\"%d,%d,%f\"%(profit_take,loss_cut,threshold)] = 1\n",
    "\n",
    "        res = backtest.profit(profit_take, loss_cut, side, threshold)\n",
    "\n",
    "        local_log.append([profit_take,\n",
    "                    loss_cut,\n",
    "                    threshold,\n",
    "                    res.total_balance(),\n",
    "                    len(res.trades),\n",
    "                    #res,  # huge memory print!\n",
    "                    i])\n",
    "    return np.array(local_log)"
   ]
  },
  {
   "cell_type": "markdown",
   "metadata": {},
   "source": [
    "Handle profit_take = loss_cut"
   ]
  },
  {
   "cell_type": "code",
   "execution_count": 212,
   "metadata": {
    "collapsed": false
   },
   "outputs": [
    {
     "name": "stderr",
     "output_type": "stream",
     "text": [
      "100%|██████████| 10/10 [00:25<00:00,  2.61s/it]\n"
     ]
    }
   ],
   "source": [
    "rs_res = random_search(backtest,\n",
    "                       side=\"short\",\n",
    "                       timeframe=\"1Min\",\n",
    "                       min_ratio=1,\n",
    "                       max_ratio=9,\n",
    "                       trials=10)"
   ]
  },
  {
   "cell_type": "code",
   "execution_count": 213,
   "metadata": {
    "collapsed": false
   },
   "outputs": [
    {
     "name": "stdout",
     "output_type": "stream",
     "text": [
      "73, 48, 0.92, 941.80, 65, 7\n",
      "56, 66, 0.89, 810.40, 91, 6\n",
      "55, 19, 0.84, 689.00, 136, 9\n",
      "72, 67, 0.71, 620.60, 210, 0\n",
      "82, 71, 0.88, 454.70, 93, 5\n"
     ]
    }
   ],
   "source": [
    "grid = sorted(rs_res,key=lambda x: x[3], reverse=True)\n",
    "for i in grid[:5]:\n",
    "    print(\"%0.f, %0.f, %.02f, %0.2f, %d, %d\"%(i[0],i[1],i[2],i[3],i[4],i[5]))"
   ]
  },
  {
   "cell_type": "code",
   "execution_count": 214,
   "metadata": {
    "collapsed": false
   },
   "outputs": [
    {
     "data": {
      "image/png": "[encoded data removed]",
      "text/plain": [
       "<matplotlib.figure.Figure at 0x7fcfa29da890>"
      ]
     },
     "metadata": {},
     "output_type": "display_data"
    }
   ],
   "source": [
    "#ax = sns.heatmap(gg,xticklabels=50, yticklabels=50)\n",
    "ttt = rs_res[:,3]\n",
    "col = (ttt - ttt.min()) / ttt.max()\n",
    "plt.scatter(rs_res[:,0],\n",
    "            rs_res[:,1],\n",
    "            s=40,\n",
    "            c=col,\n",
    "            marker=\"s\",\n",
    "            linewidths=[0.,0.],\n",
    "            cmap=\"coolwarm\")\n",
    "plt.show()"
   ]
  },
  {
   "cell_type": "code",
   "execution_count": 148,
   "metadata": {
    "collapsed": false
   },
   "outputs": [
    {
     "name": "stdout",
     "output_type": "stream",
     "text": [
      "231, 49, 0.71, 2636.20, 191, 84\n",
      "200, 228, 0.94, 2328.10, 31, 79\n",
      "160, 32, 0.80, 2203.30, 156, 78\n",
      "168, 19, 0.69, 2033.40, 233, 73\n",
      "204, 236, 0.90, 1756.70, 56, 83\n"
     ]
    }
   ],
   "source": [
    "grid = sorted(rs_res,key=lambda x: x[3], reverse=True)\n",
    "for i in grid[:5]:\n",
    "    print(\"%0.f, %0.f, %.02f, %0.2f, %d, %d\"%(i[0],i[1],i[2],i[3],i[4],i[5]))"
   ]
  },
  {
   "cell_type": "code",
   "execution_count": 43,
   "metadata": {
    "collapsed": false
   },
   "outputs": [
    {
     "name": "stderr",
     "output_type": "stream",
     "text": [
      "100%|██████████| 5/5 [00:05<00:00,  1.19s/it]\n"
     ]
    }
   ],
   "source": [
    "qerrqw = random_search(5,270,trials=5)"
   ]
  },
  {
   "cell_type": "code",
   "execution_count": 48,
   "metadata": {
    "collapsed": false
   },
   "outputs": [
    {
     "data": {
      "text/plain": [
       "[array([ 164. ,   29. ,  715.6]),\n",
       " array([ 140. ,   92. ,  519.9]),\n",
       " array([  21. ,  237. ,  424.8]),\n",
       " array([  77. ,   68. ,  422.7]),\n",
       " array([ 213.,   59.,  279.]),\n",
       " array([ 223. ,  160. ,  272.3]),\n",
       " array([  34. ,   59. ,  249.4]),\n",
       " array([ 178. ,  174. ,  175.8]),\n",
       " array([  40.,  182.,    0.]),\n",
       " array([ 117.,  174.,    0.])]"
      ]
     },
     "execution_count": 48,
     "metadata": {},
     "output_type": "execute_result"
    }
   ],
   "source": [
    "sorted(np.append(qwer,qerrqw,axis=0)[:,[0,1,3]],key=lambda x: x[2], reverse=True)"
   ]
  },
  {
   "cell_type": "code",
   "execution_count": 311,
   "metadata": {
    "collapsed": false
   },
   "outputs": [
    {
     "data": {
      "text/plain": [
       "[array([  158.3866802 ,   201.02212779,  1594.6       ]),\n",
       " array([  157.64095771,   190.90772516,  1444.2       ]),\n",
       " array([  153.86416818,   211.18053693,  1271.7       ]),\n",
       " array([  141.41715193,   247.07332402,  1196.5       ]),\n",
       " array([  132.66752998,    45.51596586,  1170.3       ])]"
      ]
     },
     "execution_count": 311,
     "metadata": {},
     "output_type": "execute_result"
    }
   ],
   "source": [
    "dic = {}\n",
    "for idxi,i in enumerate(range(5,271)):\n",
    "    for idxj,j in enumerate(range(5,271)):\n",
    "        dic[\"%d,%d\"%(i,j)] = [idxi,idxj]\n",
    "\n",
    "gg = np.zeros([len(range(5,271)),len(range(5,271))])\n",
    "for i in np.array(log)[:,[0,1,3]]:\n",
    "    a = dic[\"%d,%d\"%(i[0],i[1])]\n",
    "    gg[a[0],a[1]] = i[2]\n",
    "    \n",
    "grid = sorted(np.array(log)[:,[0,1,3]],key=lambda x: x[2], reverse=True)\n",
    "grid[:5]"
   ]
  },
  {
   "cell_type": "code",
   "execution_count": 313,
   "metadata": {
    "collapsed": false
   },
   "outputs": [
    {
     "name": "stderr",
     "output_type": "stream",
     "text": [
      "100%|██████████| 10/10 [00:13<00:00,  1.35s/it]\n",
      "100%|██████████| 10/10 [00:13<00:00,  1.38s/it]"
     ]
    },
    {
     "name": "stdout",
     "output_type": "stream",
     "text": [
      "CPU times: user 24.8 s, sys: 2.76 s, total: 27.6 s\n",
      "Wall time: 27.2 s\n"
     ]
    },
    {
     "name": "stderr",
     "output_type": "stream",
     "text": [
      "\n"
     ]
    }
   ],
   "source": [
    "%%time\n",
    "absolute_best = 1025.49  #obtained by long grid search\n",
    "# '15Min': [5, 10, 15, 20, 30]\n",
    "backtest = Backtest(\"USDJPY\",scores=bt_result)\n",
    "\n",
    "grid = sorted(np.array(log)[:,[0,1,2,3]],key=lambda x: x[3], reverse=True)\n",
    "ggg = grid[:10]\n",
    "\n",
    "for j in range(2):\n",
    "    for idxi,i in enumerate(tqdm.tqdm(ggg)):\n",
    "        yep = True\n",
    "        cpt=0\n",
    "        while yep:\n",
    "    #         multiplier = np.random.choice([5, 10, 15, 20, 30])\n",
    "\n",
    "    #         profit_take = np.random.randint(1,10)*multiplier\n",
    "    #         loss_cut = np.random.randint(1,10)*multiplier\n",
    "\n",
    "    #         profit_take = np.random.choice(range(5,275,15))\n",
    "    #         loss_cut = np.random.choice(range(5,275,15))\n",
    "            b = i[0]*1.1\n",
    "            a = i[0]*0.9\n",
    "            profit_take = (b - a) * np.random.rand() + a\n",
    "            b = i[1]*1.1\n",
    "            a = i[1]*0.9\n",
    "            loss_cut = (b - a) * np.random.rand() + a\n",
    "\n",
    "            threshold = i[2] #float('%.2f'%(np.random.rand()/2+0.5))\n",
    "\n",
    "            cpt+=1\n",
    "            if cpt>10:\n",
    "                print(\"should not happen (tried all the feature space?)\")\n",
    "                break\n",
    "            try:\n",
    "                already_tried[\"%d,%d,%f\"%(profit_take,loss_cut,threshold)]\n",
    "            except KeyError:\n",
    "                yep = False\n",
    "                already_tried[\"%d,%d,%f\"%(profit_take,loss_cut,threshold)] = 1\n",
    "\n",
    "        res = backtest.profit(profit_take, loss_cut, \"long\", threshold)\n",
    "\n",
    "        log.append([profit_take,\n",
    "                    loss_cut,\n",
    "                    threshold,\n",
    "                    res.total_balance(),\n",
    "                    len(res.trades),\n",
    "                    #res,  # huge memory print!\n",
    "                    idxi])"
   ]
  },
  {
   "cell_type": "code",
   "execution_count": 314,
   "metadata": {
    "collapsed": false
   },
   "outputs": [
    {
     "data": {
      "text/plain": [
       "[array([  158.3866802 ,   201.02212779,  1594.6       ]),\n",
       " array([  145.96458353,   210.40454111,  1544.9       ]),\n",
       " array([  162.40793762,   198.20505461,  1494.4       ]),\n",
       " array([  157.64095771,   190.90772516,  1444.2       ]),\n",
       " array([  146.60422745,   205.49598976,  1435.4       ])]"
      ]
     },
     "execution_count": 314,
     "metadata": {},
     "output_type": "execute_result"
    }
   ],
   "source": [
    "grid = sorted(np.array(log)[:,[0,1,3]],key=lambda x: x[2], reverse=True)\n",
    "grid[:5]"
   ]
  },
  {
   "cell_type": "code",
   "execution_count": 315,
   "metadata": {
    "collapsed": false,
    "scrolled": true
   },
   "outputs": [
    {
     "data": {
      "image/png": "[encoded data removed]",
      "text/plain": [
       "<matplotlib.figure.Figure at 0x7f8b158344d0>"
      ]
     },
     "metadata": {},
     "output_type": "display_data"
    }
   ],
   "source": [
    "#ax = sns.heatmap(gg,xticklabels=50, yticklabels=50)\n",
    "ttt = np.array(log)[:,3]\n",
    "col = (ttt - ttt.min()) / ttt.max()\n",
    "plt.scatter(np.array(log)[:,0],\n",
    "            np.array(log)[:,1],\n",
    "            s=40,\n",
    "            c=col,\n",
    "            marker=\"s\",\n",
    "            linewidths=[0.,0.],\n",
    "            cmap=\"coolwarm\")\n",
    "plt.show()"
   ]
  },
  {
   "cell_type": "markdown",
   "metadata": {
    "collapsed": true
   },
   "source": [
    "### See notebook \"Random space generation experiments\" for experiments on the random generation"
   ]
  },
  {
   "cell_type": "raw",
   "metadata": {
    "collapsed": false
   },
   "source": [
    "scale = 0.07\n",
    "center = np.random.rand(2)*1.8 - 0.9\n",
    "r = np.random.normal(center[0] , scale)\n",
    "r2 = np.random.normal(center[1] , scale)\n",
    "ttt.append(np.clip([r,r2],-1,1))"
   ]
  },
  {
   "cell_type": "code",
   "execution_count": 343,
   "metadata": {
    "collapsed": false
   },
   "outputs": [
    {
     "name": "stderr",
     "output_type": "stream",
     "text": [
      "100%|██████████| 1/1 [01:36<00:00, 96.29s/it]"
     ]
    },
    {
     "name": "stdout",
     "output_type": "stream",
     "text": [
      "CPU times: user 1min 23s, sys: 12.6 s, total: 1min 36s\n",
      "Wall time: 1min 36s\n"
     ]
    },
    {
     "name": "stderr",
     "output_type": "stream",
     "text": [
      "\n"
     ]
    }
   ],
   "source": [
    "%%time\n",
    "big_log = []\n",
    "absolute_best = 1025.49  #obtained by long grid search\n",
    "# '15Min': [5, 10, 15, 20, 30]\n",
    "backtest = Backtest(\"USDJPY\",scores=bt_result)\n",
    "\n",
    "trials = 100\n",
    "\n",
    "for j in tqdm.tqdm(range(1),leave=True):\n",
    "    tmp=[]\n",
    "    already_tried = {}\n",
    "    log = []\n",
    "    for i in range(trials):\n",
    "        yep = True\n",
    "        cpt=0\n",
    "        while yep:\n",
    "#             multiplier = np.random.choice([5, 10, 15, 20,25 ,30])\n",
    "\n",
    "#             profit_take = np.random.randint(1,10)*multiplier\n",
    "#             loss_cut = np.random.randint(1,10)*multiplier\n",
    "\n",
    "            profit_take = np.random.choice(range(1,275,5))\n",
    "            loss_cut = np.random.choice(range(1,275,5))\n",
    "\n",
    "#             profit_take = np.random.randint(1,270)\n",
    "#             loss_cut = np.random.randint(1,270)\n",
    "\n",
    "            threshold = 0.8 #float('%.2f'%(np.random.rand()/2+0.5))\n",
    "\n",
    "            cpt+=1\n",
    "            if cpt>10:\n",
    "                print(\"should not happen (random search don't intend to cover all the feature space)\")\n",
    "                break\n",
    "            try:\n",
    "                already_tried[\"%d,%d,%f\"%(profit_take,loss_cut,threshold)]\n",
    "            except KeyError:\n",
    "                yep = False\n",
    "                already_tried[\"%d,%d,%f\"%(profit_take,loss_cut,threshold)] = 1\n",
    "\n",
    "        res = backtest.profit(profit_take, loss_cut, \"long\", threshold)\n",
    "\n",
    "        log.append([profit_take,\n",
    "                    loss_cut,\n",
    "                    threshold,\n",
    "                    res.total_balance(),\n",
    "                    len(res.trades),\n",
    "                    #res,  # huge memory print!\n",
    "                    i])\n",
    "\n",
    "        reached = sorted(np.array(log)[:,[0,1,3]],key=lambda x: x[2], reverse=True)[0][2] / absolute_best\n",
    "        tmp.append(reached)\n",
    "    big_log.append(tmp)"
   ]
  },
  {
   "cell_type": "code",
   "execution_count": 344,
   "metadata": {
    "collapsed": false
   },
   "outputs": [
    {
     "data": {
      "image/png": "[encoded data removed]",
      "text/plain": [
       "<matplotlib.figure.Figure at 0x7ff81a41b0d0>"
      ]
     },
     "metadata": {},
     "output_type": "display_data"
    }
   ],
   "source": [
    "for i in big_log:\n",
    "    plt.plot(i)\n",
    "plt.show()"
   ]
  },
  {
   "cell_type": "code",
   "execution_count": 346,
   "metadata": {
    "collapsed": false
   },
   "outputs": [
    {
     "data": {
      "text/plain": [
       "[array([  176. ,   221. ,  1071.1]),\n",
       " array([  161. ,   226. ,  1050.2]),\n",
       " array([  211. ,   231. ,  1046.1]),\n",
       " array([  111. ,   201. ,  1020.2]),\n",
       " array([  171. ,   221. ,  1008.7])]"
      ]
     },
     "execution_count": 346,
     "metadata": {},
     "output_type": "execute_result"
    }
   ],
   "source": [
    "dic = {}\n",
    "for idxi,i in enumerate(range(1,275,5)):\n",
    "    for idxj,j in enumerate(range(1,275,5)):\n",
    "        dic[\"%d,%d\"%(i,j)] = [idxi,idxj]\n",
    "\n",
    "gg = np.zeros([len(range(1,275,5)),len(range(1,275,5))])\n",
    "for i in np.array(log)[:,[0,1,3]]:\n",
    "    a = dic[\"%d,%d\"%(i[0],i[1])]\n",
    "    gg[a[0],a[1]] = i[2]\n",
    "    \n",
    "grid = sorted(np.array(log)[:,[0,1,3]],key=lambda x: x[2], reverse=True)\n",
    "grid[:5]"
   ]
  },
  {
   "cell_type": "code",
   "execution_count": 347,
   "metadata": {
    "collapsed": false
   },
   "outputs": [
    {
     "data": {
      "image/png": "[encoded data removed]",
      "text/plain": [
       "<matplotlib.figure.Figure at 0x7ff815501050>"
      ]
     },
     "metadata": {},
     "output_type": "display_data"
    }
   ],
   "source": [
    "ax = sns.heatmap(gg,xticklabels=10, yticklabels=10)"
   ]
  },
  {
   "cell_type": "code",
   "execution_count": 259,
   "metadata": {
    "collapsed": true
   },
   "outputs": [],
   "source": [
    "absolute_best=grid2[0][2]"
   ]
  },
  {
   "cell_type": "code",
   "execution_count": 260,
   "metadata": {
    "collapsed": false
   },
   "outputs": [
    {
     "data": {
      "text/plain": [
       "1025.4999999999952"
      ]
     },
     "execution_count": 260,
     "metadata": {},
     "output_type": "execute_result"
    }
   ],
   "source": [
    "absolute_best"
   ]
  },
  {
   "cell_type": "code",
   "execution_count": 303,
   "metadata": {
    "collapsed": false
   },
   "outputs": [
    {
     "name": "stdout",
     "output_type": "stream",
     "text": [
      "Reach 99.00% of best possible\n"
     ]
    }
   ],
   "source": [
    "print(\"Reach %0.2f%% of best possible\" %( grid[0][2] / grid2[0][2] * 100 ))"
   ]
  },
  {
   "cell_type": "code",
   "execution_count": 52,
   "metadata": {
    "collapsed": false
   },
   "outputs": [
    {
     "name": "stderr",
     "output_type": "stream",
     "text": [
      "                                               "
     ]
    },
    {
     "name": "stdout",
     "output_type": "stream",
     "text": [
      "CPU times: user 4min 36s, sys: 39.2 s, total: 5min 15s\n",
      "Wall time: 5min 14s\n"
     ]
    },
    {
     "name": "stderr",
     "output_type": "stream",
     "text": [
      "\r"
     ]
    }
   ],
   "source": [
    "%%time\n",
    "\n",
    "# full grid search on one level\n",
    "log2 = []\n",
    "for idxi,i in enumerate(tqdm.tqdm(range(5,275,15))):\n",
    "    for idxj,j in enumerate(range(5,275,15)):\n",
    "        # dic[\"%d,%d\"%(i,j)] = [idxi,idxj]\n",
    "        \n",
    "        profit_take = i\n",
    "        loss_cut = j\n",
    "        \n",
    "        res = backtest.profit(profit_take, loss_cut, \"long\", threshold)\n",
    "        log2.append([profit_take,\n",
    "                    loss_cut,\n",
    "                    threshold,\n",
    "                    res.total_balance(),\n",
    "                    len(res.trades),\n",
    "                    #res,\n",
    "                    i])"
   ]
  },
  {
   "cell_type": "code",
   "execution_count": 313,
   "metadata": {
    "collapsed": false
   },
   "outputs": [],
   "source": [
    "with open(\"grid_search_res.pickle\",\"w+\") as f:\n",
    "    cPickle.dump(log2, f)\n",
    "# with open(\"grid_search_res.pickle\",\"w+\") as f:\n",
    "#     log2 = cPickle.load(f)"
   ]
  },
  {
   "cell_type": "code",
   "execution_count": 282,
   "metadata": {
    "collapsed": false
   },
   "outputs": [],
   "source": [
    "dic = {}\n",
    "for idxi,i in enumerate(range(5,275,15)):\n",
    "    for idxj,j in enumerate(range(5,275,15)):\n",
    "        dic[\"%d,%d\"%(i,j)] = [idxi,idxj]\n",
    "\n",
    "gg2 = np.zeros([len(range(5,275,15)),len(range(5,275,15))])\n",
    "for i in np.array(log2)[:,[0,1,3]]:\n",
    "    a = dic[\"%d,%d\"%(i[0],i[1])]\n",
    "    gg2[a[0],a[1]] = i[2]"
   ]
  },
  {
   "cell_type": "code",
   "execution_count": 162,
   "metadata": {
    "collapsed": false
   },
   "outputs": [
    {
     "data": {
      "image/png": "[encoded data removed]",
      "text/plain": [
       "<matplotlib.figure.Figure at 0x7ff81a71fe10>"
      ]
     },
     "metadata": {},
     "output_type": "display_data"
    }
   ],
   "source": [
    "# uniform_data = np.random.rand(10, 12)\n",
    "# sns.cubehelix_palette(start=2.8, rot=.1,as_cmap=True)\n",
    "ax = sns.heatmap(gg2,xticklabels=10, yticklabels=10)"
   ]
  },
  {
   "cell_type": "code",
   "execution_count": 237,
   "metadata": {
    "collapsed": false
   },
   "outputs": [
    {
     "data": {
      "text/plain": [
       "[array([  170. ,   215. ,  1025.5]),\n",
       " array([  110. ,   200. ,  1020.7]),\n",
       " array([ 125. ,   95. ,  986.3]),\n",
       " array([ 170. ,  230. ,  967.5]),\n",
       " array([ 110. ,  215. ,  962.7]),\n",
       " array([  95.,  200.,  945.]),\n",
       " array([ 215. ,  215. ,  944.2]),\n",
       " array([ 155. ,   95. ,  942.2]),\n",
       " array([ 155. ,   50. ,  938.5]),\n",
       " array([  80. ,  200. ,  936.6])]"
      ]
     },
     "execution_count": 237,
     "metadata": {},
     "output_type": "execute_result"
    }
   ],
   "source": [
    "grid2 = sorted(np.array(log2)[:,[0,1,3]],key=lambda x: x[2], reverse=True)\n",
    "grid2[:10]"
   ]
  },
  {
   "cell_type": "code",
   "execution_count": 201,
   "metadata": {
    "collapsed": false
   },
   "outputs": [],
   "source": [
    "%matplotlib inline\n",
    "#%matplotlib notebook"
   ]
  },
  {
   "cell_type": "code",
   "execution_count": 205,
   "metadata": {
    "collapsed": false
   },
   "outputs": [
    {
     "data": {
      "image/png": "[encoded data removed]",
      "text/plain": [
       "<matplotlib.figure.Figure at 0x7ff81a44c750>"
      ]
     },
     "metadata": {},
     "output_type": "display_data"
    }
   ],
   "source": [
    "fig = plt.figure()\n",
    "ax = fig.gca(projection='3d')\n",
    "ax.plot_surface(X,\n",
    "                Y,\n",
    "                gg,\n",
    "                rstride=1,\n",
    "                cstride=1,\n",
    "                cmap=cm.coolwarm\n",
    "                )\n",
    "plt.show()"
   ]
  },
  {
   "cell_type": "code",
   "execution_count": 98,
   "metadata": {
    "collapsed": false
   },
   "outputs": [
    {
     "name": "stdout",
     "output_type": "stream",
     "text": [
      "Requirement already satisfied (use --upgrade to upgrade): plotly in /usr/local/lib/python2.7/dist-packages\r\n",
      "Requirement already satisfied (use --upgrade to upgrade): requests in /usr/local/lib/python2.7/dist-packages (from plotly)\r\n",
      "Requirement already satisfied (use --upgrade to upgrade): six in /usr/local/lib/python2.7/dist-packages (from plotly)\r\n",
      "Requirement already satisfied (use --upgrade to upgrade): pytz in /usr/local/lib/python2.7/dist-packages (from plotly)\r\n",
      "Cleaning up...\r\n"
     ]
    }
   ],
   "source": [
    "!pip install plotly\n",
    "from plotly.graph_objs import Surface, Layout, Figure, Scene, XAxis, YAxis, ZAxis\n",
    "from plotly.offline import download_plotlyjs, init_notebook_mode, iplot\n",
    "\n",
    "# takes ~3s\n",
    "init_notebook_mode()\n",
    "\n",
    "axis = dict(\n",
    "    showbackground=True, # (!) show axis background\n",
    "    backgroundcolor=\"rgb(204, 204, 204)\", # set background color to grey\n",
    "    gridcolor=\"rgb(255, 255, 255)\",       # set grid line color\n",
    "    zerolinecolor=\"rgb(255, 255, 255)\",   # set zero grid line color\n",
    ")\n",
    "\n",
    "# Make a layout object\n",
    "layout = Layout(\n",
    "    title='Response Surface Analysis', # set plot title\n",
    "    scene=Scene(  # (!) axes are part of a 'scene' in 3d plots\n",
    "        xaxis=XAxis(axis), # set x-axis style\n",
    "        yaxis=YAxis(axis), # set y-axis style\n",
    "        zaxis=ZAxis(axis)  # set z-axis style\n",
    "    )\n",
    ")"
   ]
  },
  {
   "cell_type": "code",
   "execution_count": 305,
   "metadata": {
    "collapsed": true
   },
   "outputs": [],
   "source": [
    "sh = np.shape(gg)\n",
    "xs = np.linspace(-1, 1, sh[0])\n",
    "ys = np.linspace(-1, 1, sh[1])\n",
    "X, Y = np.meshgrid(xs, ys)\n",
    "trace1 = Surface(\n",
    "    z=gg,  # link the fxy 2d numpy array\n",
    "    x=X,  # link 1d numpy array of x coords\n",
    "    y=Y   # link 1d numpy array of y coords\n",
    ")\n",
    "sh = np.shape(gg2)\n",
    "xs = np.linspace(-1, 1, sh[0])\n",
    "ys = np.linspace(-1, 1, sh[1])\n",
    "X, Y = np.meshgrid(xs, ys)\n",
    "trace2 = Surface(\n",
    "    z=gg2,  # link the fxy 2d numpy array\n",
    "    x=X,  # link 1d numpy array of x coords\n",
    "    y=Y   # link 1d numpy array of y coords\n",
    ")"
   ]
  },
  {
   "cell_type": "code",
   "execution_count": 306,
   "metadata": {
    "collapsed": false
   },
   "outputs": [
    {
     "data": {
      "text/html": [
       "<div id=\"46093f48-f4fc-4a99-9819-2491ba67b3bd\" style=\"height: 525; width: 100%;\" class=\"plotly-graph-div\"></div><script type=\"text/javascript\">window.PLOTLYENV=window.PLOTLYENV || {};window.PLOTLYENV.BASE_URL=\"https://plot.ly\";Plotly.newPlot(\"46093f48-f4fc-4a99-9819-2491ba67b3bd\", [{\"y\": [[-1.0, -1.0, -1.0, -1.0, -1.0, -1.0, -1.0, -1.0, -1.0, -1.0, -1.0, -1.0, -1.0, -1.0, -1.0, -1.0, -1.0, -1.0, -1.0, -1.0, -1.0, -1.0, -1.0, -1.0, -1.0, -1.0, -1.0, -1.0, -1.0, -1.0, -1.0, -1.0, -1.0, -1.0, -1.0, -1.0, -1.0, -1.0, -1.0, -1.0, -1.0, -1.0, -1.0, -1.0, -1.0, -1.0, -1.0, -1.0, -1.0, -1.0, -1.0, -1.0, -1.0, -1.0], [-0.9622641509433962, -0.9622641509433962, -0.9622641509433962, -0.9622641509433962, -0.9622641509433962, -0.9622641509433962, -0.9622641509433962, -0.9622641509433962, -0.9622641509433962, -0.9622641509433962, -0.9622641509433962, -0.9622641509433962, -0.9622641509433962, -0.9622641509433962, -0.9622641509433962, -0.9622641509433962, -0.9622641509433962, -0.9622641509433962, -0.9622641509433962, -0.9622641509433962, -0.9622641509433962, -0.9622641509433962, -0.9622641509433962, -0.9622641509433962, -0.9622641509433962, -0.9622641509433962, -0.9622641509433962, -0.9622641509433962, -0.9622641509433962, -0.9622641509433962, -0.9622641509433962, -0.9622641509433962, -0.9622641509433962, -0.9622641509433962, -0.9622641509433962, -0.9622641509433962, -0.9622641509433962, -0.9622641509433962, -0.9622641509433962, -0.9622641509433962, -0.9622641509433962, -0.9622641509433962, -0.9622641509433962, -0.9622641509433962, -0.9622641509433962, -0.9622641509433962, -0.9622641509433962, -0.9622641509433962, -0.9622641509433962, -0.9622641509433962, -0.9622641509433962, -0.9622641509433962, -0.9622641509433962, -0.9622641509433962], [-0.9245283018867925, -0.9245283018867925, -0.9245283018867925, -0.9245283018867925, -0.9245283018867925, -0.9245283018867925, -0.9245283018867925, -0.9245283018867925, -0.9245283018867925, -0.9245283018867925, -0.9245283018867925, -0.9245283018867925, -0.9245283018867925, -0.9245283018867925, -0.9245283018867925, -0.9245283018867925, -0.9245283018867925, -0.9245283018867925, -0.9245283018867925, -0.9245283018867925, -0.9245283018867925, -0.9245283018867925, -0.9245283018867925, -0.9245283018867925, -0.9245283018867925, -0.9245283018867925, -0.9245283018867925, -0.9245283018867925, -0.9245283018867925, -0.9245283018867925, -0.9245283018867925, -0.9245283018867925, -0.9245283018867925, -0.9245283018867925, -0.9245283018867925, -0.9245283018867925, -0.9245283018867925, -0.9245283018867925, -0.9245283018867925, -0.9245283018867925, -0.9245283018867925, -0.9245283018867925, -0.9245283018867925, -0.9245283018867925, -0.9245283018867925, -0.9245283018867925, -0.9245283018867925, -0.9245283018867925, -0.9245283018867925, -0.9245283018867925, -0.9245283018867925, -0.9245283018867925, -0.9245283018867925, -0.9245283018867925], [-0.8867924528301887, -0.8867924528301887, -0.8867924528301887, -0.8867924528301887, -0.8867924528301887, -0.8867924528301887, -0.8867924528301887, -0.8867924528301887, -0.8867924528301887, -0.8867924528301887, -0.8867924528301887, -0.8867924528301887, -0.8867924528301887, -0.8867924528301887, -0.8867924528301887, -0.8867924528301887, -0.8867924528301887, -0.8867924528301887, -0.8867924528301887, -0.8867924528301887, -0.8867924528301887, -0.8867924528301887, -0.8867924528301887, -0.8867924528301887, -0.8867924528301887, -0.8867924528301887, -0.8867924528301887, -0.8867924528301887, -0.8867924528301887, -0.8867924528301887, -0.8867924528301887, -0.8867924528301887, -0.8867924528301887, -0.8867924528301887, -0.8867924528301887, -0.8867924528301887, -0.8867924528301887, -0.8867924528301887, -0.8867924528301887, -0.8867924528301887, -0.8867924528301887, -0.8867924528301887, -0.8867924528301887, -0.8867924528301887, -0.8867924528301887, -0.8867924528301887, -0.8867924528301887, -0.8867924528301887, -0.8867924528301887, -0.8867924528301887, -0.8867924528301887, -0.8867924528301887, -0.8867924528301887, -0.8867924528301887], [-0.8490566037735849, -0.8490566037735849, -0.8490566037735849, -0.8490566037735849, -0.8490566037735849, -0.8490566037735849, -0.8490566037735849, -0.8490566037735849, -0.8490566037735849, -0.8490566037735849, -0.8490566037735849, -0.8490566037735849, -0.8490566037735849, -0.8490566037735849, -0.8490566037735849, -0.8490566037735849, -0.8490566037735849, -0.8490566037735849, -0.8490566037735849, -0.8490566037735849, -0.8490566037735849, -0.8490566037735849, -0.8490566037735849, -0.8490566037735849, -0.8490566037735849, -0.8490566037735849, -0.8490566037735849, -0.8490566037735849, -0.8490566037735849, -0.8490566037735849, -0.8490566037735849, -0.8490566037735849, -0.8490566037735849, -0.8490566037735849, -0.8490566037735849, -0.8490566037735849, -0.8490566037735849, -0.8490566037735849, -0.8490566037735849, -0.8490566037735849, -0.8490566037735849, -0.8490566037735849, -0.8490566037735849, -0.8490566037735849, -0.8490566037735849, -0.8490566037735849, -0.8490566037735849, -0.8490566037735849, -0.8490566037735849, -0.8490566037735849, -0.8490566037735849, -0.8490566037735849, -0.8490566037735849, -0.8490566037735849], [-0.8113207547169812, -0.8113207547169812, -0.8113207547169812, -0.8113207547169812, -0.8113207547169812, -0.8113207547169812, -0.8113207547169812, -0.8113207547169812, -0.8113207547169812, -0.8113207547169812, -0.8113207547169812, -0.8113207547169812, -0.8113207547169812, -0.8113207547169812, -0.8113207547169812, -0.8113207547169812, -0.8113207547169812, -0.8113207547169812, -0.8113207547169812, -0.8113207547169812, -0.8113207547169812, -0.8113207547169812, -0.8113207547169812, -0.8113207547169812, -0.8113207547169812, -0.8113207547169812, -0.8113207547169812, -0.8113207547169812, -0.8113207547169812, -0.8113207547169812, -0.8113207547169812, -0.8113207547169812, -0.8113207547169812, -0.8113207547169812, -0.8113207547169812, -0.8113207547169812, -0.8113207547169812, -0.8113207547169812, -0.8113207547169812, -0.8113207547169812, -0.8113207547169812, -0.8113207547169812, -0.8113207547169812, -0.8113207547169812, -0.8113207547169812, -0.8113207547169812, -0.8113207547169812, -0.8113207547169812, -0.8113207547169812, -0.8113207547169812, -0.8113207547169812, -0.8113207547169812, -0.8113207547169812, -0.8113207547169812], [-0.7735849056603774, -0.7735849056603774, -0.7735849056603774, -0.7735849056603774, -0.7735849056603774, -0.7735849056603774, -0.7735849056603774, -0.7735849056603774, -0.7735849056603774, -0.7735849056603774, -0.7735849056603774, -0.7735849056603774, -0.7735849056603774, -0.7735849056603774, -0.7735849056603774, -0.7735849056603774, -0.7735849056603774, -0.7735849056603774, -0.7735849056603774, -0.7735849056603774, -0.7735849056603774, -0.7735849056603774, -0.7735849056603774, -0.7735849056603774, -0.7735849056603774, -0.7735849056603774, -0.7735849056603774, -0.7735849056603774, -0.7735849056603774, -0.7735849056603774, -0.7735849056603774, -0.7735849056603774, -0.7735849056603774, -0.7735849056603774, -0.7735849056603774, -0.7735849056603774, -0.7735849056603774, -0.7735849056603774, -0.7735849056603774, -0.7735849056603774, -0.7735849056603774, -0.7735849056603774, -0.7735849056603774, -0.7735849056603774, -0.7735849056603774, -0.7735849056603774, -0.7735849056603774, -0.7735849056603774, -0.7735849056603774, -0.7735849056603774, -0.7735849056603774, -0.7735849056603774, -0.7735849056603774, -0.7735849056603774], [-0.7358490566037736, -0.7358490566037736, -0.7358490566037736, -0.7358490566037736, -0.7358490566037736, -0.7358490566037736, -0.7358490566037736, -0.7358490566037736, -0.7358490566037736, -0.7358490566037736, -0.7358490566037736, -0.7358490566037736, -0.7358490566037736, -0.7358490566037736, -0.7358490566037736, -0.7358490566037736, -0.7358490566037736, -0.7358490566037736, -0.7358490566037736, -0.7358490566037736, -0.7358490566037736, -0.7358490566037736, -0.7358490566037736, -0.7358490566037736, -0.7358490566037736, -0.7358490566037736, -0.7358490566037736, -0.7358490566037736, -0.7358490566037736, -0.7358490566037736, -0.7358490566037736, -0.7358490566037736, -0.7358490566037736, -0.7358490566037736, -0.7358490566037736, -0.7358490566037736, -0.7358490566037736, -0.7358490566037736, -0.7358490566037736, -0.7358490566037736, -0.7358490566037736, -0.7358490566037736, -0.7358490566037736, -0.7358490566037736, -0.7358490566037736, -0.7358490566037736, -0.7358490566037736, -0.7358490566037736, -0.7358490566037736, -0.7358490566037736, -0.7358490566037736, -0.7358490566037736, -0.7358490566037736, -0.7358490566037736], [-0.6981132075471699, -0.6981132075471699, -0.6981132075471699, -0.6981132075471699, -0.6981132075471699, -0.6981132075471699, -0.6981132075471699, -0.6981132075471699, -0.6981132075471699, -0.6981132075471699, -0.6981132075471699, -0.6981132075471699, -0.6981132075471699, -0.6981132075471699, -0.6981132075471699, -0.6981132075471699, -0.6981132075471699, -0.6981132075471699, -0.6981132075471699, -0.6981132075471699, -0.6981132075471699, -0.6981132075471699, -0.6981132075471699, -0.6981132075471699, -0.6981132075471699, -0.6981132075471699, -0.6981132075471699, -0.6981132075471699, -0.6981132075471699, -0.6981132075471699, -0.6981132075471699, -0.6981132075471699, -0.6981132075471699, -0.6981132075471699, -0.6981132075471699, -0.6981132075471699, -0.6981132075471699, -0.6981132075471699, -0.6981132075471699, -0.6981132075471699, -0.6981132075471699, -0.6981132075471699, -0.6981132075471699, -0.6981132075471699, -0.6981132075471699, -0.6981132075471699, -0.6981132075471699, -0.6981132075471699, -0.6981132075471699, -0.6981132075471699, -0.6981132075471699, -0.6981132075471699, -0.6981132075471699, -0.6981132075471699], [-0.6603773584905661, -0.6603773584905661, -0.6603773584905661, -0.6603773584905661, -0.6603773584905661, -0.6603773584905661, -0.6603773584905661, -0.6603773584905661, -0.6603773584905661, -0.6603773584905661, -0.6603773584905661, -0.6603773584905661, -0.6603773584905661, -0.6603773584905661, -0.6603773584905661, -0.6603773584905661, -0.6603773584905661, -0.6603773584905661, -0.6603773584905661, -0.6603773584905661, -0.6603773584905661, -0.6603773584905661, -0.6603773584905661, -0.6603773584905661, -0.6603773584905661, -0.6603773584905661, -0.6603773584905661, -0.6603773584905661, -0.6603773584905661, -0.6603773584905661, -0.6603773584905661, -0.6603773584905661, -0.6603773584905661, -0.6603773584905661, -0.6603773584905661, -0.6603773584905661, -0.6603773584905661, -0.6603773584905661, -0.6603773584905661, -0.6603773584905661, -0.6603773584905661, -0.6603773584905661, -0.6603773584905661, -0.6603773584905661, -0.6603773584905661, -0.6603773584905661, -0.6603773584905661, -0.6603773584905661, -0.6603773584905661, -0.6603773584905661, -0.6603773584905661, -0.6603773584905661, -0.6603773584905661, -0.6603773584905661], [-0.6226415094339623, -0.6226415094339623, -0.6226415094339623, -0.6226415094339623, -0.6226415094339623, -0.6226415094339623, -0.6226415094339623, -0.6226415094339623, -0.6226415094339623, -0.6226415094339623, -0.6226415094339623, -0.6226415094339623, -0.6226415094339623, -0.6226415094339623, -0.6226415094339623, -0.6226415094339623, -0.6226415094339623, -0.6226415094339623, -0.6226415094339623, -0.6226415094339623, -0.6226415094339623, -0.6226415094339623, -0.6226415094339623, -0.6226415094339623, -0.6226415094339623, -0.6226415094339623, -0.6226415094339623, -0.6226415094339623, -0.6226415094339623, -0.6226415094339623, -0.6226415094339623, -0.6226415094339623, -0.6226415094339623, -0.6226415094339623, -0.6226415094339623, -0.6226415094339623, -0.6226415094339623, -0.6226415094339623, -0.6226415094339623, -0.6226415094339623, -0.6226415094339623, -0.6226415094339623, -0.6226415094339623, -0.6226415094339623, -0.6226415094339623, -0.6226415094339623, -0.6226415094339623, -0.6226415094339623, -0.6226415094339623, -0.6226415094339623, -0.6226415094339623, -0.6226415094339623, -0.6226415094339623, -0.6226415094339623], [-0.5849056603773586, -0.5849056603773586, -0.5849056603773586, -0.5849056603773586, -0.5849056603773586, -0.5849056603773586, -0.5849056603773586, -0.5849056603773586, -0.5849056603773586, -0.5849056603773586, -0.5849056603773586, -0.5849056603773586, -0.5849056603773586, -0.5849056603773586, -0.5849056603773586, -0.5849056603773586, -0.5849056603773586, -0.5849056603773586, -0.5849056603773586, -0.5849056603773586, -0.5849056603773586, -0.5849056603773586, -0.5849056603773586, -0.5849056603773586, -0.5849056603773586, -0.5849056603773586, -0.5849056603773586, -0.5849056603773586, -0.5849056603773586, -0.5849056603773586, -0.5849056603773586, -0.5849056603773586, -0.5849056603773586, -0.5849056603773586, -0.5849056603773586, -0.5849056603773586, -0.5849056603773586, -0.5849056603773586, -0.5849056603773586, -0.5849056603773586, -0.5849056603773586, -0.5849056603773586, -0.5849056603773586, -0.5849056603773586, -0.5849056603773586, -0.5849056603773586, -0.5849056603773586, -0.5849056603773586, -0.5849056603773586, -0.5849056603773586, -0.5849056603773586, -0.5849056603773586, -0.5849056603773586, -0.5849056603773586], [-0.5471698113207547, -0.5471698113207547, -0.5471698113207547, -0.5471698113207547, -0.5471698113207547, -0.5471698113207547, -0.5471698113207547, -0.5471698113207547, -0.5471698113207547, -0.5471698113207547, -0.5471698113207547, -0.5471698113207547, -0.5471698113207547, -0.5471698113207547, -0.5471698113207547, -0.5471698113207547, -0.5471698113207547, -0.5471698113207547, -0.5471698113207547, -0.5471698113207547, -0.5471698113207547, -0.5471698113207547, -0.5471698113207547, -0.5471698113207547, -0.5471698113207547, -0.5471698113207547, -0.5471698113207547, -0.5471698113207547, -0.5471698113207547, -0.5471698113207547, -0.5471698113207547, -0.5471698113207547, -0.5471698113207547, -0.5471698113207547, -0.5471698113207547, -0.5471698113207547, -0.5471698113207547, -0.5471698113207547, -0.5471698113207547, -0.5471698113207547, -0.5471698113207547, -0.5471698113207547, -0.5471698113207547, -0.5471698113207547, -0.5471698113207547, -0.5471698113207547, -0.5471698113207547, -0.5471698113207547, -0.5471698113207547, -0.5471698113207547, -0.5471698113207547, -0.5471698113207547, -0.5471698113207547, -0.5471698113207547], [-0.5094339622641509, -0.5094339622641509, -0.5094339622641509, -0.5094339622641509, -0.5094339622641509, -0.5094339622641509, -0.5094339622641509, -0.5094339622641509, -0.5094339622641509, -0.5094339622641509, -0.5094339622641509, -0.5094339622641509, -0.5094339622641509, -0.5094339622641509, -0.5094339622641509, -0.5094339622641509, -0.5094339622641509, -0.5094339622641509, -0.5094339622641509, -0.5094339622641509, -0.5094339622641509, -0.5094339622641509, -0.5094339622641509, -0.5094339622641509, -0.5094339622641509, -0.5094339622641509, -0.5094339622641509, -0.5094339622641509, -0.5094339622641509, -0.5094339622641509, -0.5094339622641509, -0.5094339622641509, -0.5094339622641509, -0.5094339622641509, -0.5094339622641509, -0.5094339622641509, -0.5094339622641509, -0.5094339622641509, -0.5094339622641509, -0.5094339622641509, -0.5094339622641509, -0.5094339622641509, -0.5094339622641509, -0.5094339622641509, -0.5094339622641509, -0.5094339622641509, -0.5094339622641509, -0.5094339622641509, -0.5094339622641509, -0.5094339622641509, -0.5094339622641509, -0.5094339622641509, -0.5094339622641509, -0.5094339622641509], [-0.4716981132075472, -0.4716981132075472, -0.4716981132075472, -0.4716981132075472, -0.4716981132075472, -0.4716981132075472, -0.4716981132075472, -0.4716981132075472, -0.4716981132075472, -0.4716981132075472, -0.4716981132075472, -0.4716981132075472, -0.4716981132075472, -0.4716981132075472, -0.4716981132075472, -0.4716981132075472, -0.4716981132075472, -0.4716981132075472, -0.4716981132075472, -0.4716981132075472, -0.4716981132075472, -0.4716981132075472, -0.4716981132075472, -0.4716981132075472, -0.4716981132075472, -0.4716981132075472, -0.4716981132075472, -0.4716981132075472, -0.4716981132075472, -0.4716981132075472, -0.4716981132075472, -0.4716981132075472, -0.4716981132075472, -0.4716981132075472, -0.4716981132075472, -0.4716981132075472, -0.4716981132075472, -0.4716981132075472, -0.4716981132075472, -0.4716981132075472, -0.4716981132075472, -0.4716981132075472, -0.4716981132075472, -0.4716981132075472, -0.4716981132075472, -0.4716981132075472, -0.4716981132075472, -0.4716981132075472, -0.4716981132075472, -0.4716981132075472, -0.4716981132075472, -0.4716981132075472, -0.4716981132075472, -0.4716981132075472], [-0.4339622641509434, -0.4339622641509434, -0.4339622641509434, -0.4339622641509434, -0.4339622641509434, -0.4339622641509434, -0.4339622641509434, -0.4339622641509434, -0.4339622641509434, -0.4339622641509434, -0.4339622641509434, -0.4339622641509434, -0.4339622641509434, -0.4339622641509434, -0.4339622641509434, -0.4339622641509434, -0.4339622641509434, -0.4339622641509434, -0.4339622641509434, -0.4339622641509434, -0.4339622641509434, -0.4339622641509434, -0.4339622641509434, -0.4339622641509434, -0.4339622641509434, -0.4339622641509434, -0.4339622641509434, -0.4339622641509434, -0.4339622641509434, -0.4339622641509434, -0.4339622641509434, -0.4339622641509434, -0.4339622641509434, -0.4339622641509434, -0.4339622641509434, -0.4339622641509434, -0.4339622641509434, -0.4339622641509434, -0.4339622641509434, -0.4339622641509434, -0.4339622641509434, -0.4339622641509434, -0.4339622641509434, -0.4339622641509434, -0.4339622641509434, -0.4339622641509434, -0.4339622641509434, -0.4339622641509434, -0.4339622641509434, -0.4339622641509434, -0.4339622641509434, -0.4339622641509434, -0.4339622641509434, -0.4339622641509434], [-0.39622641509433965, -0.39622641509433965, -0.39622641509433965, -0.39622641509433965, -0.39622641509433965, -0.39622641509433965, -0.39622641509433965, -0.39622641509433965, -0.39622641509433965, -0.39622641509433965, -0.39622641509433965, -0.39622641509433965, -0.39622641509433965, -0.39622641509433965, -0.39622641509433965, -0.39622641509433965, -0.39622641509433965, -0.39622641509433965, -0.39622641509433965, -0.39622641509433965, -0.39622641509433965, -0.39622641509433965, -0.39622641509433965, -0.39622641509433965, -0.39622641509433965, -0.39622641509433965, -0.39622641509433965, -0.39622641509433965, -0.39622641509433965, -0.39622641509433965, -0.39622641509433965, -0.39622641509433965, -0.39622641509433965, -0.39622641509433965, -0.39622641509433965, -0.39622641509433965, -0.39622641509433965, -0.39622641509433965, -0.39622641509433965, -0.39622641509433965, -0.39622641509433965, -0.39622641509433965, -0.39622641509433965, -0.39622641509433965, -0.39622641509433965, -0.39622641509433965, -0.39622641509433965, -0.39622641509433965, -0.39622641509433965, -0.39622641509433965, -0.39622641509433965, -0.39622641509433965, -0.39622641509433965, -0.39622641509433965], [-0.3584905660377359, -0.3584905660377359, -0.3584905660377359, -0.3584905660377359, -0.3584905660377359, -0.3584905660377359, -0.3584905660377359, -0.3584905660377359, -0.3584905660377359, -0.3584905660377359, -0.3584905660377359, -0.3584905660377359, -0.3584905660377359, -0.3584905660377359, -0.3584905660377359, -0.3584905660377359, -0.3584905660377359, -0.3584905660377359, -0.3584905660377359, -0.3584905660377359, -0.3584905660377359, -0.3584905660377359, -0.3584905660377359, -0.3584905660377359, -0.3584905660377359, -0.3584905660377359, -0.3584905660377359, -0.3584905660377359, -0.3584905660377359, -0.3584905660377359, -0.3584905660377359, -0.3584905660377359, -0.3584905660377359, -0.3584905660377359, -0.3584905660377359, -0.3584905660377359, -0.3584905660377359, -0.3584905660377359, -0.3584905660377359, -0.3584905660377359, -0.3584905660377359, -0.3584905660377359, -0.3584905660377359, -0.3584905660377359, -0.3584905660377359, -0.3584905660377359, -0.3584905660377359, -0.3584905660377359, -0.3584905660377359, -0.3584905660377359, -0.3584905660377359, -0.3584905660377359, -0.3584905660377359, -0.3584905660377359], [-0.3207547169811321, -0.3207547169811321, -0.3207547169811321, -0.3207547169811321, -0.3207547169811321, -0.3207547169811321, -0.3207547169811321, -0.3207547169811321, -0.3207547169811321, -0.3207547169811321, -0.3207547169811321, -0.3207547169811321, -0.3207547169811321, -0.3207547169811321, -0.3207547169811321, -0.3207547169811321, -0.3207547169811321, -0.3207547169811321, -0.3207547169811321, -0.3207547169811321, -0.3207547169811321, -0.3207547169811321, -0.3207547169811321, -0.3207547169811321, -0.3207547169811321, -0.3207547169811321, -0.3207547169811321, -0.3207547169811321, -0.3207547169811321, -0.3207547169811321, -0.3207547169811321, -0.3207547169811321, -0.3207547169811321, -0.3207547169811321, -0.3207547169811321, -0.3207547169811321, -0.3207547169811321, -0.3207547169811321, -0.3207547169811321, -0.3207547169811321, -0.3207547169811321, -0.3207547169811321, -0.3207547169811321, -0.3207547169811321, -0.3207547169811321, -0.3207547169811321, -0.3207547169811321, -0.3207547169811321, -0.3207547169811321, -0.3207547169811321, -0.3207547169811321, -0.3207547169811321, -0.3207547169811321, -0.3207547169811321], [-0.28301886792452835, -0.28301886792452835, -0.28301886792452835, -0.28301886792452835, -0.28301886792452835, -0.28301886792452835, -0.28301886792452835, -0.28301886792452835, -0.28301886792452835, -0.28301886792452835, -0.28301886792452835, -0.28301886792452835, -0.28301886792452835, -0.28301886792452835, -0.28301886792452835, -0.28301886792452835, -0.28301886792452835, -0.28301886792452835, -0.28301886792452835, -0.28301886792452835, -0.28301886792452835, -0.28301886792452835, -0.28301886792452835, -0.28301886792452835, -0.28301886792452835, -0.28301886792452835, -0.28301886792452835, -0.28301886792452835, -0.28301886792452835, -0.28301886792452835, -0.28301886792452835, -0.28301886792452835, -0.28301886792452835, -0.28301886792452835, -0.28301886792452835, -0.28301886792452835, -0.28301886792452835, -0.28301886792452835, -0.28301886792452835, -0.28301886792452835, -0.28301886792452835, -0.28301886792452835, -0.28301886792452835, -0.28301886792452835, -0.28301886792452835, -0.28301886792452835, -0.28301886792452835, -0.28301886792452835, -0.28301886792452835, -0.28301886792452835, -0.28301886792452835, -0.28301886792452835, -0.28301886792452835, -0.28301886792452835], [-0.24528301886792458, -0.24528301886792458, -0.24528301886792458, -0.24528301886792458, -0.24528301886792458, -0.24528301886792458, -0.24528301886792458, -0.24528301886792458, -0.24528301886792458, -0.24528301886792458, -0.24528301886792458, -0.24528301886792458, -0.24528301886792458, -0.24528301886792458, -0.24528301886792458, -0.24528301886792458, -0.24528301886792458, -0.24528301886792458, -0.24528301886792458, -0.24528301886792458, -0.24528301886792458, -0.24528301886792458, -0.24528301886792458, -0.24528301886792458, -0.24528301886792458, -0.24528301886792458, -0.24528301886792458, -0.24528301886792458, -0.24528301886792458, -0.24528301886792458, -0.24528301886792458, -0.24528301886792458, -0.24528301886792458, -0.24528301886792458, -0.24528301886792458, -0.24528301886792458, -0.24528301886792458, -0.24528301886792458, -0.24528301886792458, -0.24528301886792458, -0.24528301886792458, -0.24528301886792458, -0.24528301886792458, -0.24528301886792458, -0.24528301886792458, -0.24528301886792458, -0.24528301886792458, -0.24528301886792458, -0.24528301886792458, -0.24528301886792458, -0.24528301886792458, -0.24528301886792458, -0.24528301886792458, -0.24528301886792458], [-0.20754716981132082, -0.20754716981132082, -0.20754716981132082, -0.20754716981132082, -0.20754716981132082, -0.20754716981132082, -0.20754716981132082, -0.20754716981132082, -0.20754716981132082, -0.20754716981132082, -0.20754716981132082, -0.20754716981132082, -0.20754716981132082, -0.20754716981132082, -0.20754716981132082, -0.20754716981132082, -0.20754716981132082, -0.20754716981132082, -0.20754716981132082, -0.20754716981132082, -0.20754716981132082, -0.20754716981132082, -0.20754716981132082, -0.20754716981132082, -0.20754716981132082, -0.20754716981132082, -0.20754716981132082, -0.20754716981132082, -0.20754716981132082, -0.20754716981132082, -0.20754716981132082, -0.20754716981132082, -0.20754716981132082, -0.20754716981132082, -0.20754716981132082, -0.20754716981132082, -0.20754716981132082, -0.20754716981132082, -0.20754716981132082, -0.20754716981132082, -0.20754716981132082, -0.20754716981132082, -0.20754716981132082, -0.20754716981132082, -0.20754716981132082, -0.20754716981132082, -0.20754716981132082, -0.20754716981132082, -0.20754716981132082, -0.20754716981132082, -0.20754716981132082, -0.20754716981132082, -0.20754716981132082, -0.20754716981132082], [-0.16981132075471705, -0.16981132075471705, -0.16981132075471705, -0.16981132075471705, -0.16981132075471705, -0.16981132075471705, -0.16981132075471705, -0.16981132075471705, -0.16981132075471705, -0.16981132075471705, -0.16981132075471705, -0.16981132075471705, -0.16981132075471705, -0.16981132075471705, -0.16981132075471705, -0.16981132075471705, -0.16981132075471705, -0.16981132075471705, -0.16981132075471705, -0.16981132075471705, -0.16981132075471705, -0.16981132075471705, -0.16981132075471705, -0.16981132075471705, -0.16981132075471705, -0.16981132075471705, -0.16981132075471705, -0.16981132075471705, -0.16981132075471705, -0.16981132075471705, -0.16981132075471705, -0.16981132075471705, -0.16981132075471705, -0.16981132075471705, -0.16981132075471705, -0.16981132075471705, -0.16981132075471705, -0.16981132075471705, -0.16981132075471705, -0.16981132075471705, -0.16981132075471705, -0.16981132075471705, -0.16981132075471705, -0.16981132075471705, -0.16981132075471705, -0.16981132075471705, -0.16981132075471705, -0.16981132075471705, -0.16981132075471705, -0.16981132075471705, -0.16981132075471705, -0.16981132075471705, -0.16981132075471705, -0.16981132075471705], [-0.1320754716981133, -0.1320754716981133, -0.1320754716981133, -0.1320754716981133, -0.1320754716981133, -0.1320754716981133, -0.1320754716981133, -0.1320754716981133, -0.1320754716981133, -0.1320754716981133, -0.1320754716981133, -0.1320754716981133, -0.1320754716981133, -0.1320754716981133, -0.1320754716981133, -0.1320754716981133, -0.1320754716981133, -0.1320754716981133, -0.1320754716981133, -0.1320754716981133, -0.1320754716981133, -0.1320754716981133, -0.1320754716981133, -0.1320754716981133, -0.1320754716981133, -0.1320754716981133, -0.1320754716981133, -0.1320754716981133, -0.1320754716981133, -0.1320754716981133, -0.1320754716981133, -0.1320754716981133, -0.1320754716981133, -0.1320754716981133, -0.1320754716981133, -0.1320754716981133, -0.1320754716981133, -0.1320754716981133, -0.1320754716981133, -0.1320754716981133, -0.1320754716981133, -0.1320754716981133, -0.1320754716981133, -0.1320754716981133, -0.1320754716981133, -0.1320754716981133, -0.1320754716981133, -0.1320754716981133, -0.1320754716981133, -0.1320754716981133, -0.1320754716981133, -0.1320754716981133, -0.1320754716981133, -0.1320754716981133], [-0.09433962264150941, -0.09433962264150941, -0.09433962264150941, -0.09433962264150941, -0.09433962264150941, -0.09433962264150941, -0.09433962264150941, -0.09433962264150941, -0.09433962264150941, -0.09433962264150941, -0.09433962264150941, -0.09433962264150941, -0.09433962264150941, -0.09433962264150941, -0.09433962264150941, -0.09433962264150941, -0.09433962264150941, -0.09433962264150941, -0.09433962264150941, -0.09433962264150941, -0.09433962264150941, -0.09433962264150941, -0.09433962264150941, -0.09433962264150941, -0.09433962264150941, -0.09433962264150941, -0.09433962264150941, -0.09433962264150941, -0.09433962264150941, -0.09433962264150941, -0.09433962264150941, -0.09433962264150941, -0.09433962264150941, -0.09433962264150941, -0.09433962264150941, -0.09433962264150941, -0.09433962264150941, -0.09433962264150941, -0.09433962264150941, -0.09433962264150941, -0.09433962264150941, -0.09433962264150941, -0.09433962264150941, -0.09433962264150941, -0.09433962264150941, -0.09433962264150941, -0.09433962264150941, -0.09433962264150941, -0.09433962264150941, -0.09433962264150941, -0.09433962264150941, -0.09433962264150941, -0.09433962264150941, -0.09433962264150941], [-0.05660377358490565, -0.05660377358490565, -0.05660377358490565, -0.05660377358490565, -0.05660377358490565, -0.05660377358490565, -0.05660377358490565, -0.05660377358490565, -0.05660377358490565, -0.05660377358490565, -0.05660377358490565, -0.05660377358490565, -0.05660377358490565, -0.05660377358490565, -0.05660377358490565, -0.05660377358490565, -0.05660377358490565, -0.05660377358490565, -0.05660377358490565, -0.05660377358490565, -0.05660377358490565, -0.05660377358490565, -0.05660377358490565, -0.05660377358490565, -0.05660377358490565, -0.05660377358490565, -0.05660377358490565, -0.05660377358490565, -0.05660377358490565, -0.05660377358490565, -0.05660377358490565, -0.05660377358490565, -0.05660377358490565, -0.05660377358490565, -0.05660377358490565, -0.05660377358490565, -0.05660377358490565, -0.05660377358490565, -0.05660377358490565, -0.05660377358490565, -0.05660377358490565, -0.05660377358490565, -0.05660377358490565, -0.05660377358490565, -0.05660377358490565, -0.05660377358490565, -0.05660377358490565, -0.05660377358490565, -0.05660377358490565, -0.05660377358490565, -0.05660377358490565, -0.05660377358490565, -0.05660377358490565, -0.05660377358490565], [-0.018867924528301883, -0.018867924528301883, -0.018867924528301883, -0.018867924528301883, -0.018867924528301883, -0.018867924528301883, -0.018867924528301883, -0.018867924528301883, -0.018867924528301883, -0.018867924528301883, -0.018867924528301883, -0.018867924528301883, -0.018867924528301883, -0.018867924528301883, -0.018867924528301883, -0.018867924528301883, -0.018867924528301883, -0.018867924528301883, -0.018867924528301883, -0.018867924528301883, -0.018867924528301883, -0.018867924528301883, -0.018867924528301883, -0.018867924528301883, -0.018867924528301883, -0.018867924528301883, -0.018867924528301883, -0.018867924528301883, -0.018867924528301883, -0.018867924528301883, -0.018867924528301883, -0.018867924528301883, -0.018867924528301883, -0.018867924528301883, -0.018867924528301883, -0.018867924528301883, -0.018867924528301883, -0.018867924528301883, -0.018867924528301883, -0.018867924528301883, -0.018867924528301883, -0.018867924528301883, -0.018867924528301883, -0.018867924528301883, -0.018867924528301883, -0.018867924528301883, -0.018867924528301883, -0.018867924528301883, -0.018867924528301883, -0.018867924528301883, -0.018867924528301883, -0.018867924528301883, -0.018867924528301883, -0.018867924528301883], [0.018867924528301883, 0.018867924528301883, 0.018867924528301883, 0.018867924528301883, 0.018867924528301883, 0.018867924528301883, 0.018867924528301883, 0.018867924528301883, 0.018867924528301883, 0.018867924528301883, 0.018867924528301883, 0.018867924528301883, 0.018867924528301883, 0.018867924528301883, 0.018867924528301883, 0.018867924528301883, 0.018867924528301883, 0.018867924528301883, 0.018867924528301883, 0.018867924528301883, 0.018867924528301883, 0.018867924528301883, 0.018867924528301883, 0.018867924528301883, 0.018867924528301883, 0.018867924528301883, 0.018867924528301883, 0.018867924528301883, 0.018867924528301883, 0.018867924528301883, 0.018867924528301883, 0.018867924528301883, 0.018867924528301883, 0.018867924528301883, 0.018867924528301883, 0.018867924528301883, 0.018867924528301883, 0.018867924528301883, 0.018867924528301883, 0.018867924528301883, 0.018867924528301883, 0.018867924528301883, 0.018867924528301883, 0.018867924528301883, 0.018867924528301883, 0.018867924528301883, 0.018867924528301883, 0.018867924528301883, 0.018867924528301883, 0.018867924528301883, 0.018867924528301883, 0.018867924528301883, 0.018867924528301883, 0.018867924528301883], [0.05660377358490565, 0.05660377358490565, 0.05660377358490565, 0.05660377358490565, 0.05660377358490565, 0.05660377358490565, 0.05660377358490565, 0.05660377358490565, 0.05660377358490565, 0.05660377358490565, 0.05660377358490565, 0.05660377358490565, 0.05660377358490565, 0.05660377358490565, 0.05660377358490565, 0.05660377358490565, 0.05660377358490565, 0.05660377358490565, 0.05660377358490565, 0.05660377358490565, 0.05660377358490565, 0.05660377358490565, 0.05660377358490565, 0.05660377358490565, 0.05660377358490565, 0.05660377358490565, 0.05660377358490565, 0.05660377358490565, 0.05660377358490565, 0.05660377358490565, 0.05660377358490565, 0.05660377358490565, 0.05660377358490565, 0.05660377358490565, 0.05660377358490565, 0.05660377358490565, 0.05660377358490565, 0.05660377358490565, 0.05660377358490565, 0.05660377358490565, 0.05660377358490565, 0.05660377358490565, 0.05660377358490565, 0.05660377358490565, 0.05660377358490565, 0.05660377358490565, 0.05660377358490565, 0.05660377358490565, 0.05660377358490565, 0.05660377358490565, 0.05660377358490565, 0.05660377358490565, 0.05660377358490565, 0.05660377358490565], [0.09433962264150941, 0.09433962264150941, 0.09433962264150941, 0.09433962264150941, 0.09433962264150941, 0.09433962264150941, 0.09433962264150941, 0.09433962264150941, 0.09433962264150941, 0.09433962264150941, 0.09433962264150941, 0.09433962264150941, 0.09433962264150941, 0.09433962264150941, 0.09433962264150941, 0.09433962264150941, 0.09433962264150941, 0.09433962264150941, 0.09433962264150941, 0.09433962264150941, 0.09433962264150941, 0.09433962264150941, 0.09433962264150941, 0.09433962264150941, 0.09433962264150941, 0.09433962264150941, 0.09433962264150941, 0.09433962264150941, 0.09433962264150941, 0.09433962264150941, 0.09433962264150941, 0.09433962264150941, 0.09433962264150941, 0.09433962264150941, 0.09433962264150941, 0.09433962264150941, 0.09433962264150941, 0.09433962264150941, 0.09433962264150941, 0.09433962264150941, 0.09433962264150941, 0.09433962264150941, 0.09433962264150941, 0.09433962264150941, 0.09433962264150941, 0.09433962264150941, 0.09433962264150941, 0.09433962264150941, 0.09433962264150941, 0.09433962264150941, 0.09433962264150941, 0.09433962264150941, 0.09433962264150941, 0.09433962264150941], [0.13207547169811318, 0.13207547169811318, 0.13207547169811318, 0.13207547169811318, 0.13207547169811318, 0.13207547169811318, 0.13207547169811318, 0.13207547169811318, 0.13207547169811318, 0.13207547169811318, 0.13207547169811318, 0.13207547169811318, 0.13207547169811318, 0.13207547169811318, 0.13207547169811318, 0.13207547169811318, 0.13207547169811318, 0.13207547169811318, 0.13207547169811318, 0.13207547169811318, 0.13207547169811318, 0.13207547169811318, 0.13207547169811318, 0.13207547169811318, 0.13207547169811318, 0.13207547169811318, 0.13207547169811318, 0.13207547169811318, 0.13207547169811318, 0.13207547169811318, 0.13207547169811318, 0.13207547169811318, 0.13207547169811318, 0.13207547169811318, 0.13207547169811318, 0.13207547169811318, 0.13207547169811318, 0.13207547169811318, 0.13207547169811318, 0.13207547169811318, 0.13207547169811318, 0.13207547169811318, 0.13207547169811318, 0.13207547169811318, 0.13207547169811318, 0.13207547169811318, 0.13207547169811318, 0.13207547169811318, 0.13207547169811318, 0.13207547169811318, 0.13207547169811318, 0.13207547169811318, 0.13207547169811318, 0.13207547169811318], [0.16981132075471694, 0.16981132075471694, 0.16981132075471694, 0.16981132075471694, 0.16981132075471694, 0.16981132075471694, 0.16981132075471694, 0.16981132075471694, 0.16981132075471694, 0.16981132075471694, 0.16981132075471694, 0.16981132075471694, 0.16981132075471694, 0.16981132075471694, 0.16981132075471694, 0.16981132075471694, 0.16981132075471694, 0.16981132075471694, 0.16981132075471694, 0.16981132075471694, 0.16981132075471694, 0.16981132075471694, 0.16981132075471694, 0.16981132075471694, 0.16981132075471694, 0.16981132075471694, 0.16981132075471694, 0.16981132075471694, 0.16981132075471694, 0.16981132075471694, 0.16981132075471694, 0.16981132075471694, 0.16981132075471694, 0.16981132075471694, 0.16981132075471694, 0.16981132075471694, 0.16981132075471694, 0.16981132075471694, 0.16981132075471694, 0.16981132075471694, 0.16981132075471694, 0.16981132075471694, 0.16981132075471694, 0.16981132075471694, 0.16981132075471694, 0.16981132075471694, 0.16981132075471694, 0.16981132075471694, 0.16981132075471694, 0.16981132075471694, 0.16981132075471694, 0.16981132075471694, 0.16981132075471694, 0.16981132075471694], [0.2075471698113207, 0.2075471698113207, 0.2075471698113207, 0.2075471698113207, 0.2075471698113207, 0.2075471698113207, 0.2075471698113207, 0.2075471698113207, 0.2075471698113207, 0.2075471698113207, 0.2075471698113207, 0.2075471698113207, 0.2075471698113207, 0.2075471698113207, 0.2075471698113207, 0.2075471698113207, 0.2075471698113207, 0.2075471698113207, 0.2075471698113207, 0.2075471698113207, 0.2075471698113207, 0.2075471698113207, 0.2075471698113207, 0.2075471698113207, 0.2075471698113207, 0.2075471698113207, 0.2075471698113207, 0.2075471698113207, 0.2075471698113207, 0.2075471698113207, 0.2075471698113207, 0.2075471698113207, 0.2075471698113207, 0.2075471698113207, 0.2075471698113207, 0.2075471698113207, 0.2075471698113207, 0.2075471698113207, 0.2075471698113207, 0.2075471698113207, 0.2075471698113207, 0.2075471698113207, 0.2075471698113207, 0.2075471698113207, 0.2075471698113207, 0.2075471698113207, 0.2075471698113207, 0.2075471698113207, 0.2075471698113207, 0.2075471698113207, 0.2075471698113207, 0.2075471698113207, 0.2075471698113207, 0.2075471698113207], [0.24528301886792447, 0.24528301886792447, 0.24528301886792447, 0.24528301886792447, 0.24528301886792447, 0.24528301886792447, 0.24528301886792447, 0.24528301886792447, 0.24528301886792447, 0.24528301886792447, 0.24528301886792447, 0.24528301886792447, 0.24528301886792447, 0.24528301886792447, 0.24528301886792447, 0.24528301886792447, 0.24528301886792447, 0.24528301886792447, 0.24528301886792447, 0.24528301886792447, 0.24528301886792447, 0.24528301886792447, 0.24528301886792447, 0.24528301886792447, 0.24528301886792447, 0.24528301886792447, 0.24528301886792447, 0.24528301886792447, 0.24528301886792447, 0.24528301886792447, 0.24528301886792447, 0.24528301886792447, 0.24528301886792447, 0.24528301886792447, 0.24528301886792447, 0.24528301886792447, 0.24528301886792447, 0.24528301886792447, 0.24528301886792447, 0.24528301886792447, 0.24528301886792447, 0.24528301886792447, 0.24528301886792447, 0.24528301886792447, 0.24528301886792447, 0.24528301886792447, 0.24528301886792447, 0.24528301886792447, 0.24528301886792447, 0.24528301886792447, 0.24528301886792447, 0.24528301886792447, 0.24528301886792447, 0.24528301886792447], [0.28301886792452824, 0.28301886792452824, 0.28301886792452824, 0.28301886792452824, 0.28301886792452824, 0.28301886792452824, 0.28301886792452824, 0.28301886792452824, 0.28301886792452824, 0.28301886792452824, 0.28301886792452824, 0.28301886792452824, 0.28301886792452824, 0.28301886792452824, 0.28301886792452824, 0.28301886792452824, 0.28301886792452824, 0.28301886792452824, 0.28301886792452824, 0.28301886792452824, 0.28301886792452824, 0.28301886792452824, 0.28301886792452824, 0.28301886792452824, 0.28301886792452824, 0.28301886792452824, 0.28301886792452824, 0.28301886792452824, 0.28301886792452824, 0.28301886792452824, 0.28301886792452824, 0.28301886792452824, 0.28301886792452824, 0.28301886792452824, 0.28301886792452824, 0.28301886792452824, 0.28301886792452824, 0.28301886792452824, 0.28301886792452824, 0.28301886792452824, 0.28301886792452824, 0.28301886792452824, 0.28301886792452824, 0.28301886792452824, 0.28301886792452824, 0.28301886792452824, 0.28301886792452824, 0.28301886792452824, 0.28301886792452824, 0.28301886792452824, 0.28301886792452824, 0.28301886792452824, 0.28301886792452824, 0.28301886792452824], [0.320754716981132, 0.320754716981132, 0.320754716981132, 0.320754716981132, 0.320754716981132, 0.320754716981132, 0.320754716981132, 0.320754716981132, 0.320754716981132, 0.320754716981132, 0.320754716981132, 0.320754716981132, 0.320754716981132, 0.320754716981132, 0.320754716981132, 0.320754716981132, 0.320754716981132, 0.320754716981132, 0.320754716981132, 0.320754716981132, 0.320754716981132, 0.320754716981132, 0.320754716981132, 0.320754716981132, 0.320754716981132, 0.320754716981132, 0.320754716981132, 0.320754716981132, 0.320754716981132, 0.320754716981132, 0.320754716981132, 0.320754716981132, 0.320754716981132, 0.320754716981132, 0.320754716981132, 0.320754716981132, 0.320754716981132, 0.320754716981132, 0.320754716981132, 0.320754716981132, 0.320754716981132, 0.320754716981132, 0.320754716981132, 0.320754716981132, 0.320754716981132, 0.320754716981132, 0.320754716981132, 0.320754716981132, 0.320754716981132, 0.320754716981132, 0.320754716981132, 0.320754716981132, 0.320754716981132, 0.320754716981132], [0.35849056603773577, 0.35849056603773577, 0.35849056603773577, 0.35849056603773577, 0.35849056603773577, 0.35849056603773577, 0.35849056603773577, 0.35849056603773577, 0.35849056603773577, 0.35849056603773577, 0.35849056603773577, 0.35849056603773577, 0.35849056603773577, 0.35849056603773577, 0.35849056603773577, 0.35849056603773577, 0.35849056603773577, 0.35849056603773577, 0.35849056603773577, 0.35849056603773577, 0.35849056603773577, 0.35849056603773577, 0.35849056603773577, 0.35849056603773577, 0.35849056603773577, 0.35849056603773577, 0.35849056603773577, 0.35849056603773577, 0.35849056603773577, 0.35849056603773577, 0.35849056603773577, 0.35849056603773577, 0.35849056603773577, 0.35849056603773577, 0.35849056603773577, 0.35849056603773577, 0.35849056603773577, 0.35849056603773577, 0.35849056603773577, 0.35849056603773577, 0.35849056603773577, 0.35849056603773577, 0.35849056603773577, 0.35849056603773577, 0.35849056603773577, 0.35849056603773577, 0.35849056603773577, 0.35849056603773577, 0.35849056603773577, 0.35849056603773577, 0.35849056603773577, 0.35849056603773577, 0.35849056603773577, 0.35849056603773577], [0.39622641509433953, 0.39622641509433953, 0.39622641509433953, 0.39622641509433953, 0.39622641509433953, 0.39622641509433953, 0.39622641509433953, 0.39622641509433953, 0.39622641509433953, 0.39622641509433953, 0.39622641509433953, 0.39622641509433953, 0.39622641509433953, 0.39622641509433953, 0.39622641509433953, 0.39622641509433953, 0.39622641509433953, 0.39622641509433953, 0.39622641509433953, 0.39622641509433953, 0.39622641509433953, 0.39622641509433953, 0.39622641509433953, 0.39622641509433953, 0.39622641509433953, 0.39622641509433953, 0.39622641509433953, 0.39622641509433953, 0.39622641509433953, 0.39622641509433953, 0.39622641509433953, 0.39622641509433953, 0.39622641509433953, 0.39622641509433953, 0.39622641509433953, 0.39622641509433953, 0.39622641509433953, 0.39622641509433953, 0.39622641509433953, 0.39622641509433953, 0.39622641509433953, 0.39622641509433953, 0.39622641509433953, 0.39622641509433953, 0.39622641509433953, 0.39622641509433953, 0.39622641509433953, 0.39622641509433953, 0.39622641509433953, 0.39622641509433953, 0.39622641509433953, 0.39622641509433953, 0.39622641509433953, 0.39622641509433953], [0.4339622641509433, 0.4339622641509433, 0.4339622641509433, 0.4339622641509433, 0.4339622641509433, 0.4339622641509433, 0.4339622641509433, 0.4339622641509433, 0.4339622641509433, 0.4339622641509433, 0.4339622641509433, 0.4339622641509433, 0.4339622641509433, 0.4339622641509433, 0.4339622641509433, 0.4339622641509433, 0.4339622641509433, 0.4339622641509433, 0.4339622641509433, 0.4339622641509433, 0.4339622641509433, 0.4339622641509433, 0.4339622641509433, 0.4339622641509433, 0.4339622641509433, 0.4339622641509433, 0.4339622641509433, 0.4339622641509433, 0.4339622641509433, 0.4339622641509433, 0.4339622641509433, 0.4339622641509433, 0.4339622641509433, 0.4339622641509433, 0.4339622641509433, 0.4339622641509433, 0.4339622641509433, 0.4339622641509433, 0.4339622641509433, 0.4339622641509433, 0.4339622641509433, 0.4339622641509433, 0.4339622641509433, 0.4339622641509433, 0.4339622641509433, 0.4339622641509433, 0.4339622641509433, 0.4339622641509433, 0.4339622641509433, 0.4339622641509433, 0.4339622641509433, 0.4339622641509433, 0.4339622641509433, 0.4339622641509433], [0.47169811320754707, 0.47169811320754707, 0.47169811320754707, 0.47169811320754707, 0.47169811320754707, 0.47169811320754707, 0.47169811320754707, 0.47169811320754707, 0.47169811320754707, 0.47169811320754707, 0.47169811320754707, 0.47169811320754707, 0.47169811320754707, 0.47169811320754707, 0.47169811320754707, 0.47169811320754707, 0.47169811320754707, 0.47169811320754707, 0.47169811320754707, 0.47169811320754707, 0.47169811320754707, 0.47169811320754707, 0.47169811320754707, 0.47169811320754707, 0.47169811320754707, 0.47169811320754707, 0.47169811320754707, 0.47169811320754707, 0.47169811320754707, 0.47169811320754707, 0.47169811320754707, 0.47169811320754707, 0.47169811320754707, 0.47169811320754707, 0.47169811320754707, 0.47169811320754707, 0.47169811320754707, 0.47169811320754707, 0.47169811320754707, 0.47169811320754707, 0.47169811320754707, 0.47169811320754707, 0.47169811320754707, 0.47169811320754707, 0.47169811320754707, 0.47169811320754707, 0.47169811320754707, 0.47169811320754707, 0.47169811320754707, 0.47169811320754707, 0.47169811320754707, 0.47169811320754707, 0.47169811320754707, 0.47169811320754707], [0.5094339622641508, 0.5094339622641508, 0.5094339622641508, 0.5094339622641508, 0.5094339622641508, 0.5094339622641508, 0.5094339622641508, 0.5094339622641508, 0.5094339622641508, 0.5094339622641508, 0.5094339622641508, 0.5094339622641508, 0.5094339622641508, 0.5094339622641508, 0.5094339622641508, 0.5094339622641508, 0.5094339622641508, 0.5094339622641508, 0.5094339622641508, 0.5094339622641508, 0.5094339622641508, 0.5094339622641508, 0.5094339622641508, 0.5094339622641508, 0.5094339622641508, 0.5094339622641508, 0.5094339622641508, 0.5094339622641508, 0.5094339622641508, 0.5094339622641508, 0.5094339622641508, 0.5094339622641508, 0.5094339622641508, 0.5094339622641508, 0.5094339622641508, 0.5094339622641508, 0.5094339622641508, 0.5094339622641508, 0.5094339622641508, 0.5094339622641508, 0.5094339622641508, 0.5094339622641508, 0.5094339622641508, 0.5094339622641508, 0.5094339622641508, 0.5094339622641508, 0.5094339622641508, 0.5094339622641508, 0.5094339622641508, 0.5094339622641508, 0.5094339622641508, 0.5094339622641508, 0.5094339622641508, 0.5094339622641508], [0.5471698113207546, 0.5471698113207546, 0.5471698113207546, 0.5471698113207546, 0.5471698113207546, 0.5471698113207546, 0.5471698113207546, 0.5471698113207546, 0.5471698113207546, 0.5471698113207546, 0.5471698113207546, 0.5471698113207546, 0.5471698113207546, 0.5471698113207546, 0.5471698113207546, 0.5471698113207546, 0.5471698113207546, 0.5471698113207546, 0.5471698113207546, 0.5471698113207546, 0.5471698113207546, 0.5471698113207546, 0.5471698113207546, 0.5471698113207546, 0.5471698113207546, 0.5471698113207546, 0.5471698113207546, 0.5471698113207546, 0.5471698113207546, 0.5471698113207546, 0.5471698113207546, 0.5471698113207546, 0.5471698113207546, 0.5471698113207546, 0.5471698113207546, 0.5471698113207546, 0.5471698113207546, 0.5471698113207546, 0.5471698113207546, 0.5471698113207546, 0.5471698113207546, 0.5471698113207546, 0.5471698113207546, 0.5471698113207546, 0.5471698113207546, 0.5471698113207546, 0.5471698113207546, 0.5471698113207546, 0.5471698113207546, 0.5471698113207546, 0.5471698113207546, 0.5471698113207546, 0.5471698113207546, 0.5471698113207546], [0.5849056603773584, 0.5849056603773584, 0.5849056603773584, 0.5849056603773584, 0.5849056603773584, 0.5849056603773584, 0.5849056603773584, 0.5849056603773584, 0.5849056603773584, 0.5849056603773584, 0.5849056603773584, 0.5849056603773584, 0.5849056603773584, 0.5849056603773584, 0.5849056603773584, 0.5849056603773584, 0.5849056603773584, 0.5849056603773584, 0.5849056603773584, 0.5849056603773584, 0.5849056603773584, 0.5849056603773584, 0.5849056603773584, 0.5849056603773584, 0.5849056603773584, 0.5849056603773584, 0.5849056603773584, 0.5849056603773584, 0.5849056603773584, 0.5849056603773584, 0.5849056603773584, 0.5849056603773584, 0.5849056603773584, 0.5849056603773584, 0.5849056603773584, 0.5849056603773584, 0.5849056603773584, 0.5849056603773584, 0.5849056603773584, 0.5849056603773584, 0.5849056603773584, 0.5849056603773584, 0.5849056603773584, 0.5849056603773584, 0.5849056603773584, 0.5849056603773584, 0.5849056603773584, 0.5849056603773584, 0.5849056603773584, 0.5849056603773584, 0.5849056603773584, 0.5849056603773584, 0.5849056603773584, 0.5849056603773584], [0.6226415094339621, 0.6226415094339621, 0.6226415094339621, 0.6226415094339621, 0.6226415094339621, 0.6226415094339621, 0.6226415094339621, 0.6226415094339621, 0.6226415094339621, 0.6226415094339621, 0.6226415094339621, 0.6226415094339621, 0.6226415094339621, 0.6226415094339621, 0.6226415094339621, 0.6226415094339621, 0.6226415094339621, 0.6226415094339621, 0.6226415094339621, 0.6226415094339621, 0.6226415094339621, 0.6226415094339621, 0.6226415094339621, 0.6226415094339621, 0.6226415094339621, 0.6226415094339621, 0.6226415094339621, 0.6226415094339621, 0.6226415094339621, 0.6226415094339621, 0.6226415094339621, 0.6226415094339621, 0.6226415094339621, 0.6226415094339621, 0.6226415094339621, 0.6226415094339621, 0.6226415094339621, 0.6226415094339621, 0.6226415094339621, 0.6226415094339621, 0.6226415094339621, 0.6226415094339621, 0.6226415094339621, 0.6226415094339621, 0.6226415094339621, 0.6226415094339621, 0.6226415094339621, 0.6226415094339621, 0.6226415094339621, 0.6226415094339621, 0.6226415094339621, 0.6226415094339621, 0.6226415094339621, 0.6226415094339621], [0.6603773584905659, 0.6603773584905659, 0.6603773584905659, 0.6603773584905659, 0.6603773584905659, 0.6603773584905659, 0.6603773584905659, 0.6603773584905659, 0.6603773584905659, 0.6603773584905659, 0.6603773584905659, 0.6603773584905659, 0.6603773584905659, 0.6603773584905659, 0.6603773584905659, 0.6603773584905659, 0.6603773584905659, 0.6603773584905659, 0.6603773584905659, 0.6603773584905659, 0.6603773584905659, 0.6603773584905659, 0.6603773584905659, 0.6603773584905659, 0.6603773584905659, 0.6603773584905659, 0.6603773584905659, 0.6603773584905659, 0.6603773584905659, 0.6603773584905659, 0.6603773584905659, 0.6603773584905659, 0.6603773584905659, 0.6603773584905659, 0.6603773584905659, 0.6603773584905659, 0.6603773584905659, 0.6603773584905659, 0.6603773584905659, 0.6603773584905659, 0.6603773584905659, 0.6603773584905659, 0.6603773584905659, 0.6603773584905659, 0.6603773584905659, 0.6603773584905659, 0.6603773584905659, 0.6603773584905659, 0.6603773584905659, 0.6603773584905659, 0.6603773584905659, 0.6603773584905659, 0.6603773584905659, 0.6603773584905659], [0.6981132075471697, 0.6981132075471697, 0.6981132075471697, 0.6981132075471697, 0.6981132075471697, 0.6981132075471697, 0.6981132075471697, 0.6981132075471697, 0.6981132075471697, 0.6981132075471697, 0.6981132075471697, 0.6981132075471697, 0.6981132075471697, 0.6981132075471697, 0.6981132075471697, 0.6981132075471697, 0.6981132075471697, 0.6981132075471697, 0.6981132075471697, 0.6981132075471697, 0.6981132075471697, 0.6981132075471697, 0.6981132075471697, 0.6981132075471697, 0.6981132075471697, 0.6981132075471697, 0.6981132075471697, 0.6981132075471697, 0.6981132075471697, 0.6981132075471697, 0.6981132075471697, 0.6981132075471697, 0.6981132075471697, 0.6981132075471697, 0.6981132075471697, 0.6981132075471697, 0.6981132075471697, 0.6981132075471697, 0.6981132075471697, 0.6981132075471697, 0.6981132075471697, 0.6981132075471697, 0.6981132075471697, 0.6981132075471697, 0.6981132075471697, 0.6981132075471697, 0.6981132075471697, 0.6981132075471697, 0.6981132075471697, 0.6981132075471697, 0.6981132075471697, 0.6981132075471697, 0.6981132075471697, 0.6981132075471697], [0.7358490566037734, 0.7358490566037734, 0.7358490566037734, 0.7358490566037734, 0.7358490566037734, 0.7358490566037734, 0.7358490566037734, 0.7358490566037734, 0.7358490566037734, 0.7358490566037734, 0.7358490566037734, 0.7358490566037734, 0.7358490566037734, 0.7358490566037734, 0.7358490566037734, 0.7358490566037734, 0.7358490566037734, 0.7358490566037734, 0.7358490566037734, 0.7358490566037734, 0.7358490566037734, 0.7358490566037734, 0.7358490566037734, 0.7358490566037734, 0.7358490566037734, 0.7358490566037734, 0.7358490566037734, 0.7358490566037734, 0.7358490566037734, 0.7358490566037734, 0.7358490566037734, 0.7358490566037734, 0.7358490566037734, 0.7358490566037734, 0.7358490566037734, 0.7358490566037734, 0.7358490566037734, 0.7358490566037734, 0.7358490566037734, 0.7358490566037734, 0.7358490566037734, 0.7358490566037734, 0.7358490566037734, 0.7358490566037734, 0.7358490566037734, 0.7358490566037734, 0.7358490566037734, 0.7358490566037734, 0.7358490566037734, 0.7358490566037734, 0.7358490566037734, 0.7358490566037734, 0.7358490566037734, 0.7358490566037734], [0.7735849056603772, 0.7735849056603772, 0.7735849056603772, 0.7735849056603772, 0.7735849056603772, 0.7735849056603772, 0.7735849056603772, 0.7735849056603772, 0.7735849056603772, 0.7735849056603772, 0.7735849056603772, 0.7735849056603772, 0.7735849056603772, 0.7735849056603772, 0.7735849056603772, 0.7735849056603772, 0.7735849056603772, 0.7735849056603772, 0.7735849056603772, 0.7735849056603772, 0.7735849056603772, 0.7735849056603772, 0.7735849056603772, 0.7735849056603772, 0.7735849056603772, 0.7735849056603772, 0.7735849056603772, 0.7735849056603772, 0.7735849056603772, 0.7735849056603772, 0.7735849056603772, 0.7735849056603772, 0.7735849056603772, 0.7735849056603772, 0.7735849056603772, 0.7735849056603772, 0.7735849056603772, 0.7735849056603772, 0.7735849056603772, 0.7735849056603772, 0.7735849056603772, 0.7735849056603772, 0.7735849056603772, 0.7735849056603772, 0.7735849056603772, 0.7735849056603772, 0.7735849056603772, 0.7735849056603772, 0.7735849056603772, 0.7735849056603772, 0.7735849056603772, 0.7735849056603772, 0.7735849056603772, 0.7735849056603772], [0.8113207547169812, 0.8113207547169812, 0.8113207547169812, 0.8113207547169812, 0.8113207547169812, 0.8113207547169812, 0.8113207547169812, 0.8113207547169812, 0.8113207547169812, 0.8113207547169812, 0.8113207547169812, 0.8113207547169812, 0.8113207547169812, 0.8113207547169812, 0.8113207547169812, 0.8113207547169812, 0.8113207547169812, 0.8113207547169812, 0.8113207547169812, 0.8113207547169812, 0.8113207547169812, 0.8113207547169812, 0.8113207547169812, 0.8113207547169812, 0.8113207547169812, 0.8113207547169812, 0.8113207547169812, 0.8113207547169812, 0.8113207547169812, 0.8113207547169812, 0.8113207547169812, 0.8113207547169812, 0.8113207547169812, 0.8113207547169812, 0.8113207547169812, 0.8113207547169812, 0.8113207547169812, 0.8113207547169812, 0.8113207547169812, 0.8113207547169812, 0.8113207547169812, 0.8113207547169812, 0.8113207547169812, 0.8113207547169812, 0.8113207547169812, 0.8113207547169812, 0.8113207547169812, 0.8113207547169812, 0.8113207547169812, 0.8113207547169812, 0.8113207547169812, 0.8113207547169812, 0.8113207547169812, 0.8113207547169812], [0.8490566037735849, 0.8490566037735849, 0.8490566037735849, 0.8490566037735849, 0.8490566037735849, 0.8490566037735849, 0.8490566037735849, 0.8490566037735849, 0.8490566037735849, 0.8490566037735849, 0.8490566037735849, 0.8490566037735849, 0.8490566037735849, 0.8490566037735849, 0.8490566037735849, 0.8490566037735849, 0.8490566037735849, 0.8490566037735849, 0.8490566037735849, 0.8490566037735849, 0.8490566037735849, 0.8490566037735849, 0.8490566037735849, 0.8490566037735849, 0.8490566037735849, 0.8490566037735849, 0.8490566037735849, 0.8490566037735849, 0.8490566037735849, 0.8490566037735849, 0.8490566037735849, 0.8490566037735849, 0.8490566037735849, 0.8490566037735849, 0.8490566037735849, 0.8490566037735849, 0.8490566037735849, 0.8490566037735849, 0.8490566037735849, 0.8490566037735849, 0.8490566037735849, 0.8490566037735849, 0.8490566037735849, 0.8490566037735849, 0.8490566037735849, 0.8490566037735849, 0.8490566037735849, 0.8490566037735849, 0.8490566037735849, 0.8490566037735849, 0.8490566037735849, 0.8490566037735849, 0.8490566037735849, 0.8490566037735849], [0.8867924528301887, 0.8867924528301887, 0.8867924528301887, 0.8867924528301887, 0.8867924528301887, 0.8867924528301887, 0.8867924528301887, 0.8867924528301887, 0.8867924528301887, 0.8867924528301887, 0.8867924528301887, 0.8867924528301887, 0.8867924528301887, 0.8867924528301887, 0.8867924528301887, 0.8867924528301887, 0.8867924528301887, 0.8867924528301887, 0.8867924528301887, 0.8867924528301887, 0.8867924528301887, 0.8867924528301887, 0.8867924528301887, 0.8867924528301887, 0.8867924528301887, 0.8867924528301887, 0.8867924528301887, 0.8867924528301887, 0.8867924528301887, 0.8867924528301887, 0.8867924528301887, 0.8867924528301887, 0.8867924528301887, 0.8867924528301887, 0.8867924528301887, 0.8867924528301887, 0.8867924528301887, 0.8867924528301887, 0.8867924528301887, 0.8867924528301887, 0.8867924528301887, 0.8867924528301887, 0.8867924528301887, 0.8867924528301887, 0.8867924528301887, 0.8867924528301887, 0.8867924528301887, 0.8867924528301887, 0.8867924528301887, 0.8867924528301887, 0.8867924528301887, 0.8867924528301887, 0.8867924528301887, 0.8867924528301887], [0.9245283018867925, 0.9245283018867925, 0.9245283018867925, 0.9245283018867925, 0.9245283018867925, 0.9245283018867925, 0.9245283018867925, 0.9245283018867925, 0.9245283018867925, 0.9245283018867925, 0.9245283018867925, 0.9245283018867925, 0.9245283018867925, 0.9245283018867925, 0.9245283018867925, 0.9245283018867925, 0.9245283018867925, 0.9245283018867925, 0.9245283018867925, 0.9245283018867925, 0.9245283018867925, 0.9245283018867925, 0.9245283018867925, 0.9245283018867925, 0.9245283018867925, 0.9245283018867925, 0.9245283018867925, 0.9245283018867925, 0.9245283018867925, 0.9245283018867925, 0.9245283018867925, 0.9245283018867925, 0.9245283018867925, 0.9245283018867925, 0.9245283018867925, 0.9245283018867925, 0.9245283018867925, 0.9245283018867925, 0.9245283018867925, 0.9245283018867925, 0.9245283018867925, 0.9245283018867925, 0.9245283018867925, 0.9245283018867925, 0.9245283018867925, 0.9245283018867925, 0.9245283018867925, 0.9245283018867925, 0.9245283018867925, 0.9245283018867925, 0.9245283018867925, 0.9245283018867925, 0.9245283018867925, 0.9245283018867925], [0.9622641509433962, 0.9622641509433962, 0.9622641509433962, 0.9622641509433962, 0.9622641509433962, 0.9622641509433962, 0.9622641509433962, 0.9622641509433962, 0.9622641509433962, 0.9622641509433962, 0.9622641509433962, 0.9622641509433962, 0.9622641509433962, 0.9622641509433962, 0.9622641509433962, 0.9622641509433962, 0.9622641509433962, 0.9622641509433962, 0.9622641509433962, 0.9622641509433962, 0.9622641509433962, 0.9622641509433962, 0.9622641509433962, 0.9622641509433962, 0.9622641509433962, 0.9622641509433962, 0.9622641509433962, 0.9622641509433962, 0.9622641509433962, 0.9622641509433962, 0.9622641509433962, 0.9622641509433962, 0.9622641509433962, 0.9622641509433962, 0.9622641509433962, 0.9622641509433962, 0.9622641509433962, 0.9622641509433962, 0.9622641509433962, 0.9622641509433962, 0.9622641509433962, 0.9622641509433962, 0.9622641509433962, 0.9622641509433962, 0.9622641509433962, 0.9622641509433962, 0.9622641509433962, 0.9622641509433962, 0.9622641509433962, 0.9622641509433962, 0.9622641509433962, 0.9622641509433962, 0.9622641509433962, 0.9622641509433962], [1.0, 1.0, 1.0, 1.0, 1.0, 1.0, 1.0, 1.0, 1.0, 1.0, 1.0, 1.0, 1.0, 1.0, 1.0, 1.0, 1.0, 1.0, 1.0, 1.0, 1.0, 1.0, 1.0, 1.0, 1.0, 1.0, 1.0, 1.0, 1.0, 1.0, 1.0, 1.0, 1.0, 1.0, 1.0, 1.0, 1.0, 1.0, 1.0, 1.0, 1.0, 1.0, 1.0, 1.0, 1.0, 1.0, 1.0, 1.0, 1.0, 1.0, 1.0, 1.0, 1.0, 1.0]], \"x\": [[-1.0, -0.9622641509433962, -0.9245283018867925, -0.8867924528301887, -0.8490566037735849, -0.8113207547169812, -0.7735849056603774, -0.7358490566037736, -0.6981132075471699, -0.6603773584905661, -0.6226415094339623, -0.5849056603773586, -0.5471698113207547, -0.5094339622641509, -0.4716981132075472, -0.4339622641509434, -0.39622641509433965, -0.3584905660377359, -0.3207547169811321, -0.28301886792452835, -0.24528301886792458, -0.20754716981132082, -0.16981132075471705, -0.1320754716981133, -0.09433962264150941, -0.05660377358490565, -0.018867924528301883, 0.018867924528301883, 0.05660377358490565, 0.09433962264150941, 0.13207547169811318, 0.16981132075471694, 0.2075471698113207, 0.24528301886792447, 0.28301886792452824, 0.320754716981132, 0.35849056603773577, 0.39622641509433953, 0.4339622641509433, 0.47169811320754707, 0.5094339622641508, 0.5471698113207546, 0.5849056603773584, 0.6226415094339621, 0.6603773584905659, 0.6981132075471697, 0.7358490566037734, 0.7735849056603772, 0.8113207547169812, 0.8490566037735849, 0.8867924528301887, 0.9245283018867925, 0.9622641509433962, 1.0], [-1.0, -0.9622641509433962, -0.9245283018867925, -0.8867924528301887, -0.8490566037735849, -0.8113207547169812, -0.7735849056603774, -0.7358490566037736, -0.6981132075471699, -0.6603773584905661, -0.6226415094339623, -0.5849056603773586, -0.5471698113207547, -0.5094339622641509, -0.4716981132075472, -0.4339622641509434, -0.39622641509433965, -0.3584905660377359, -0.3207547169811321, -0.28301886792452835, -0.24528301886792458, -0.20754716981132082, -0.16981132075471705, -0.1320754716981133, -0.09433962264150941, -0.05660377358490565, -0.018867924528301883, 0.018867924528301883, 0.05660377358490565, 0.09433962264150941, 0.13207547169811318, 0.16981132075471694, 0.2075471698113207, 0.24528301886792447, 0.28301886792452824, 0.320754716981132, 0.35849056603773577, 0.39622641509433953, 0.4339622641509433, 0.47169811320754707, 0.5094339622641508, 0.5471698113207546, 0.5849056603773584, 0.6226415094339621, 0.6603773584905659, 0.6981132075471697, 0.7358490566037734, 0.7735849056603772, 0.8113207547169812, 0.8490566037735849, 0.8867924528301887, 0.9245283018867925, 0.9622641509433962, 1.0], [-1.0, -0.9622641509433962, -0.9245283018867925, -0.8867924528301887, -0.8490566037735849, -0.8113207547169812, -0.7735849056603774, -0.7358490566037736, -0.6981132075471699, -0.6603773584905661, -0.6226415094339623, -0.5849056603773586, -0.5471698113207547, -0.5094339622641509, -0.4716981132075472, -0.4339622641509434, -0.39622641509433965, -0.3584905660377359, -0.3207547169811321, -0.28301886792452835, -0.24528301886792458, -0.20754716981132082, -0.16981132075471705, -0.1320754716981133, -0.09433962264150941, -0.05660377358490565, -0.018867924528301883, 0.018867924528301883, 0.05660377358490565, 0.09433962264150941, 0.13207547169811318, 0.16981132075471694, 0.2075471698113207, 0.24528301886792447, 0.28301886792452824, 0.320754716981132, 0.35849056603773577, 0.39622641509433953, 0.4339622641509433, 0.47169811320754707, 0.5094339622641508, 0.5471698113207546, 0.5849056603773584, 0.6226415094339621, 0.6603773584905659, 0.6981132075471697, 0.7358490566037734, 0.7735849056603772, 0.8113207547169812, 0.8490566037735849, 0.8867924528301887, 0.9245283018867925, 0.9622641509433962, 1.0], [-1.0, -0.9622641509433962, -0.9245283018867925, -0.8867924528301887, -0.8490566037735849, -0.8113207547169812, -0.7735849056603774, -0.7358490566037736, -0.6981132075471699, -0.6603773584905661, -0.6226415094339623, -0.5849056603773586, -0.5471698113207547, -0.5094339622641509, -0.4716981132075472, -0.4339622641509434, -0.39622641509433965, -0.3584905660377359, -0.3207547169811321, -0.28301886792452835, -0.24528301886792458, -0.20754716981132082, -0.16981132075471705, -0.1320754716981133, -0.09433962264150941, -0.05660377358490565, -0.018867924528301883, 0.018867924528301883, 0.05660377358490565, 0.09433962264150941, 0.13207547169811318, 0.16981132075471694, 0.2075471698113207, 0.24528301886792447, 0.28301886792452824, 0.320754716981132, 0.35849056603773577, 0.39622641509433953, 0.4339622641509433, 0.47169811320754707, 0.5094339622641508, 0.5471698113207546, 0.5849056603773584, 0.6226415094339621, 0.6603773584905659, 0.6981132075471697, 0.7358490566037734, 0.7735849056603772, 0.8113207547169812, 0.8490566037735849, 0.8867924528301887, 0.9245283018867925, 0.9622641509433962, 1.0], [-1.0, -0.9622641509433962, -0.9245283018867925, -0.8867924528301887, -0.8490566037735849, -0.8113207547169812, -0.7735849056603774, -0.7358490566037736, -0.6981132075471699, -0.6603773584905661, -0.6226415094339623, -0.5849056603773586, -0.5471698113207547, -0.5094339622641509, -0.4716981132075472, -0.4339622641509434, -0.39622641509433965, -0.3584905660377359, -0.3207547169811321, -0.28301886792452835, -0.24528301886792458, -0.20754716981132082, -0.16981132075471705, -0.1320754716981133, -0.09433962264150941, -0.05660377358490565, -0.018867924528301883, 0.018867924528301883, 0.05660377358490565, 0.09433962264150941, 0.13207547169811318, 0.16981132075471694, 0.2075471698113207, 0.24528301886792447, 0.28301886792452824, 0.320754716981132, 0.35849056603773577, 0.39622641509433953, 0.4339622641509433, 0.47169811320754707, 0.5094339622641508, 0.5471698113207546, 0.5849056603773584, 0.6226415094339621, 0.6603773584905659, 0.6981132075471697, 0.7358490566037734, 0.7735849056603772, 0.8113207547169812, 0.8490566037735849, 0.8867924528301887, 0.9245283018867925, 0.9622641509433962, 1.0], [-1.0, -0.9622641509433962, -0.9245283018867925, -0.8867924528301887, -0.8490566037735849, -0.8113207547169812, -0.7735849056603774, -0.7358490566037736, -0.6981132075471699, -0.6603773584905661, -0.6226415094339623, -0.5849056603773586, -0.5471698113207547, -0.5094339622641509, -0.4716981132075472, -0.4339622641509434, -0.39622641509433965, -0.3584905660377359, -0.3207547169811321, -0.28301886792452835, -0.24528301886792458, -0.20754716981132082, -0.16981132075471705, -0.1320754716981133, -0.09433962264150941, -0.05660377358490565, -0.018867924528301883, 0.018867924528301883, 0.05660377358490565, 0.09433962264150941, 0.13207547169811318, 0.16981132075471694, 0.2075471698113207, 0.24528301886792447, 0.28301886792452824, 0.320754716981132, 0.35849056603773577, 0.39622641509433953, 0.4339622641509433, 0.47169811320754707, 0.5094339622641508, 0.5471698113207546, 0.5849056603773584, 0.6226415094339621, 0.6603773584905659, 0.6981132075471697, 0.7358490566037734, 0.7735849056603772, 0.8113207547169812, 0.8490566037735849, 0.8867924528301887, 0.9245283018867925, 0.9622641509433962, 1.0], [-1.0, -0.9622641509433962, -0.9245283018867925, -0.8867924528301887, -0.8490566037735849, -0.8113207547169812, -0.7735849056603774, -0.7358490566037736, -0.6981132075471699, -0.6603773584905661, -0.6226415094339623, -0.5849056603773586, -0.5471698113207547, -0.5094339622641509, -0.4716981132075472, -0.4339622641509434, -0.39622641509433965, -0.3584905660377359, -0.3207547169811321, -0.28301886792452835, -0.24528301886792458, -0.20754716981132082, -0.16981132075471705, -0.1320754716981133, -0.09433962264150941, -0.05660377358490565, -0.018867924528301883, 0.018867924528301883, 0.05660377358490565, 0.09433962264150941, 0.13207547169811318, 0.16981132075471694, 0.2075471698113207, 0.24528301886792447, 0.28301886792452824, 0.320754716981132, 0.35849056603773577, 0.39622641509433953, 0.4339622641509433, 0.47169811320754707, 0.5094339622641508, 0.5471698113207546, 0.5849056603773584, 0.6226415094339621, 0.6603773584905659, 0.6981132075471697, 0.7358490566037734, 0.7735849056603772, 0.8113207547169812, 0.8490566037735849, 0.8867924528301887, 0.9245283018867925, 0.9622641509433962, 1.0], [-1.0, -0.9622641509433962, -0.9245283018867925, -0.8867924528301887, -0.8490566037735849, -0.8113207547169812, -0.7735849056603774, -0.7358490566037736, -0.6981132075471699, -0.6603773584905661, -0.6226415094339623, -0.5849056603773586, -0.5471698113207547, -0.5094339622641509, -0.4716981132075472, -0.4339622641509434, -0.39622641509433965, -0.3584905660377359, -0.3207547169811321, -0.28301886792452835, -0.24528301886792458, -0.20754716981132082, -0.16981132075471705, -0.1320754716981133, -0.09433962264150941, -0.05660377358490565, -0.018867924528301883, 0.018867924528301883, 0.05660377358490565, 0.09433962264150941, 0.13207547169811318, 0.16981132075471694, 0.2075471698113207, 0.24528301886792447, 0.28301886792452824, 0.320754716981132, 0.35849056603773577, 0.39622641509433953, 0.4339622641509433, 0.47169811320754707, 0.5094339622641508, 0.5471698113207546, 0.5849056603773584, 0.6226415094339621, 0.6603773584905659, 0.6981132075471697, 0.7358490566037734, 0.7735849056603772, 0.8113207547169812, 0.8490566037735849, 0.8867924528301887, 0.9245283018867925, 0.9622641509433962, 1.0], [-1.0, -0.9622641509433962, -0.9245283018867925, -0.8867924528301887, -0.8490566037735849, -0.8113207547169812, -0.7735849056603774, -0.7358490566037736, -0.6981132075471699, -0.6603773584905661, -0.6226415094339623, -0.5849056603773586, -0.5471698113207547, -0.5094339622641509, -0.4716981132075472, -0.4339622641509434, -0.39622641509433965, -0.3584905660377359, -0.3207547169811321, -0.28301886792452835, -0.24528301886792458, -0.20754716981132082, -0.16981132075471705, -0.1320754716981133, -0.09433962264150941, -0.05660377358490565, -0.018867924528301883, 0.018867924528301883, 0.05660377358490565, 0.09433962264150941, 0.13207547169811318, 0.16981132075471694, 0.2075471698113207, 0.24528301886792447, 0.28301886792452824, 0.320754716981132, 0.35849056603773577, 0.39622641509433953, 0.4339622641509433, 0.47169811320754707, 0.5094339622641508, 0.5471698113207546, 0.5849056603773584, 0.6226415094339621, 0.6603773584905659, 0.6981132075471697, 0.7358490566037734, 0.7735849056603772, 0.8113207547169812, 0.8490566037735849, 0.8867924528301887, 0.9245283018867925, 0.9622641509433962, 1.0], [-1.0, -0.9622641509433962, -0.9245283018867925, -0.8867924528301887, -0.8490566037735849, -0.8113207547169812, -0.7735849056603774, -0.7358490566037736, -0.6981132075471699, -0.6603773584905661, -0.6226415094339623, -0.5849056603773586, -0.5471698113207547, -0.5094339622641509, -0.4716981132075472, -0.4339622641509434, -0.39622641509433965, -0.3584905660377359, -0.3207547169811321, -0.28301886792452835, -0.24528301886792458, -0.20754716981132082, -0.16981132075471705, -0.1320754716981133, -0.09433962264150941, -0.05660377358490565, -0.018867924528301883, 0.018867924528301883, 0.05660377358490565, 0.09433962264150941, 0.13207547169811318, 0.16981132075471694, 0.2075471698113207, 0.24528301886792447, 0.28301886792452824, 0.320754716981132, 0.35849056603773577, 0.39622641509433953, 0.4339622641509433, 0.47169811320754707, 0.5094339622641508, 0.5471698113207546, 0.5849056603773584, 0.6226415094339621, 0.6603773584905659, 0.6981132075471697, 0.7358490566037734, 0.7735849056603772, 0.8113207547169812, 0.8490566037735849, 0.8867924528301887, 0.9245283018867925, 0.9622641509433962, 1.0], [-1.0, -0.9622641509433962, -0.9245283018867925, -0.8867924528301887, -0.8490566037735849, -0.8113207547169812, -0.7735849056603774, -0.7358490566037736, -0.6981132075471699, -0.6603773584905661, -0.6226415094339623, -0.5849056603773586, -0.5471698113207547, -0.5094339622641509, -0.4716981132075472, -0.4339622641509434, -0.39622641509433965, -0.3584905660377359, -0.3207547169811321, -0.28301886792452835, -0.24528301886792458, -0.20754716981132082, -0.16981132075471705, -0.1320754716981133, -0.09433962264150941, -0.05660377358490565, -0.018867924528301883, 0.018867924528301883, 0.05660377358490565, 0.09433962264150941, 0.13207547169811318, 0.16981132075471694, 0.2075471698113207, 0.24528301886792447, 0.28301886792452824, 0.320754716981132, 0.35849056603773577, 0.39622641509433953, 0.4339622641509433, 0.47169811320754707, 0.5094339622641508, 0.5471698113207546, 0.5849056603773584, 0.6226415094339621, 0.6603773584905659, 0.6981132075471697, 0.7358490566037734, 0.7735849056603772, 0.8113207547169812, 0.8490566037735849, 0.8867924528301887, 0.9245283018867925, 0.9622641509433962, 1.0], [-1.0, -0.9622641509433962, -0.9245283018867925, -0.8867924528301887, -0.8490566037735849, -0.8113207547169812, -0.7735849056603774, -0.7358490566037736, -0.6981132075471699, -0.6603773584905661, -0.6226415094339623, -0.5849056603773586, -0.5471698113207547, -0.5094339622641509, -0.4716981132075472, -0.4339622641509434, -0.39622641509433965, -0.3584905660377359, -0.3207547169811321, -0.28301886792452835, -0.24528301886792458, -0.20754716981132082, -0.16981132075471705, -0.1320754716981133, -0.09433962264150941, -0.05660377358490565, -0.018867924528301883, 0.018867924528301883, 0.05660377358490565, 0.09433962264150941, 0.13207547169811318, 0.16981132075471694, 0.2075471698113207, 0.24528301886792447, 0.28301886792452824, 0.320754716981132, 0.35849056603773577, 0.39622641509433953, 0.4339622641509433, 0.47169811320754707, 0.5094339622641508, 0.5471698113207546, 0.5849056603773584, 0.6226415094339621, 0.6603773584905659, 0.6981132075471697, 0.7358490566037734, 0.7735849056603772, 0.8113207547169812, 0.8490566037735849, 0.8867924528301887, 0.9245283018867925, 0.9622641509433962, 1.0], [-1.0, -0.9622641509433962, -0.9245283018867925, -0.8867924528301887, -0.8490566037735849, -0.8113207547169812, -0.7735849056603774, -0.7358490566037736, -0.6981132075471699, -0.6603773584905661, -0.6226415094339623, -0.5849056603773586, -0.5471698113207547, -0.5094339622641509, -0.4716981132075472, -0.4339622641509434, -0.39622641509433965, -0.3584905660377359, -0.3207547169811321, -0.28301886792452835, -0.24528301886792458, -0.20754716981132082, -0.16981132075471705, -0.1320754716981133, -0.09433962264150941, -0.05660377358490565, -0.018867924528301883, 0.018867924528301883, 0.05660377358490565, 0.09433962264150941, 0.13207547169811318, 0.16981132075471694, 0.2075471698113207, 0.24528301886792447, 0.28301886792452824, 0.320754716981132, 0.35849056603773577, 0.39622641509433953, 0.4339622641509433, 0.47169811320754707, 0.5094339622641508, 0.5471698113207546, 0.5849056603773584, 0.6226415094339621, 0.6603773584905659, 0.6981132075471697, 0.7358490566037734, 0.7735849056603772, 0.8113207547169812, 0.8490566037735849, 0.8867924528301887, 0.9245283018867925, 0.9622641509433962, 1.0], [-1.0, -0.9622641509433962, -0.9245283018867925, -0.8867924528301887, -0.8490566037735849, -0.8113207547169812, -0.7735849056603774, -0.7358490566037736, -0.6981132075471699, -0.6603773584905661, -0.6226415094339623, -0.5849056603773586, -0.5471698113207547, -0.5094339622641509, -0.4716981132075472, -0.4339622641509434, -0.39622641509433965, -0.3584905660377359, -0.3207547169811321, -0.28301886792452835, -0.24528301886792458, -0.20754716981132082, -0.16981132075471705, -0.1320754716981133, -0.09433962264150941, -0.05660377358490565, -0.018867924528301883, 0.018867924528301883, 0.05660377358490565, 0.09433962264150941, 0.13207547169811318, 0.16981132075471694, 0.2075471698113207, 0.24528301886792447, 0.28301886792452824, 0.320754716981132, 0.35849056603773577, 0.39622641509433953, 0.4339622641509433, 0.47169811320754707, 0.5094339622641508, 0.5471698113207546, 0.5849056603773584, 0.6226415094339621, 0.6603773584905659, 0.6981132075471697, 0.7358490566037734, 0.7735849056603772, 0.8113207547169812, 0.8490566037735849, 0.8867924528301887, 0.9245283018867925, 0.9622641509433962, 1.0], [-1.0, -0.9622641509433962, -0.9245283018867925, -0.8867924528301887, -0.8490566037735849, -0.8113207547169812, -0.7735849056603774, -0.7358490566037736, -0.6981132075471699, -0.6603773584905661, -0.6226415094339623, -0.5849056603773586, -0.5471698113207547, -0.5094339622641509, -0.4716981132075472, -0.4339622641509434, -0.39622641509433965, -0.3584905660377359, -0.3207547169811321, -0.28301886792452835, -0.24528301886792458, -0.20754716981132082, -0.16981132075471705, -0.1320754716981133, -0.09433962264150941, -0.05660377358490565, -0.018867924528301883, 0.018867924528301883, 0.05660377358490565, 0.09433962264150941, 0.13207547169811318, 0.16981132075471694, 0.2075471698113207, 0.24528301886792447, 0.28301886792452824, 0.320754716981132, 0.35849056603773577, 0.39622641509433953, 0.4339622641509433, 0.47169811320754707, 0.5094339622641508, 0.5471698113207546, 0.5849056603773584, 0.6226415094339621, 0.6603773584905659, 0.6981132075471697, 0.7358490566037734, 0.7735849056603772, 0.8113207547169812, 0.8490566037735849, 0.8867924528301887, 0.9245283018867925, 0.9622641509433962, 1.0], [-1.0, -0.9622641509433962, -0.9245283018867925, -0.8867924528301887, -0.8490566037735849, -0.8113207547169812, -0.7735849056603774, -0.7358490566037736, -0.6981132075471699, -0.6603773584905661, -0.6226415094339623, -0.5849056603773586, -0.5471698113207547, -0.5094339622641509, -0.4716981132075472, -0.4339622641509434, -0.39622641509433965, -0.3584905660377359, -0.3207547169811321, -0.28301886792452835, -0.24528301886792458, -0.20754716981132082, -0.16981132075471705, -0.1320754716981133, -0.09433962264150941, -0.05660377358490565, -0.018867924528301883, 0.018867924528301883, 0.05660377358490565, 0.09433962264150941, 0.13207547169811318, 0.16981132075471694, 0.2075471698113207, 0.24528301886792447, 0.28301886792452824, 0.320754716981132, 0.35849056603773577, 0.39622641509433953, 0.4339622641509433, 0.47169811320754707, 0.5094339622641508, 0.5471698113207546, 0.5849056603773584, 0.6226415094339621, 0.6603773584905659, 0.6981132075471697, 0.7358490566037734, 0.7735849056603772, 0.8113207547169812, 0.8490566037735849, 0.8867924528301887, 0.9245283018867925, 0.9622641509433962, 1.0], [-1.0, -0.9622641509433962, -0.9245283018867925, -0.8867924528301887, -0.8490566037735849, -0.8113207547169812, -0.7735849056603774, -0.7358490566037736, -0.6981132075471699, -0.6603773584905661, -0.6226415094339623, -0.5849056603773586, -0.5471698113207547, -0.5094339622641509, -0.4716981132075472, -0.4339622641509434, -0.39622641509433965, -0.3584905660377359, -0.3207547169811321, -0.28301886792452835, -0.24528301886792458, -0.20754716981132082, -0.16981132075471705, -0.1320754716981133, -0.09433962264150941, -0.05660377358490565, -0.018867924528301883, 0.018867924528301883, 0.05660377358490565, 0.09433962264150941, 0.13207547169811318, 0.16981132075471694, 0.2075471698113207, 0.24528301886792447, 0.28301886792452824, 0.320754716981132, 0.35849056603773577, 0.39622641509433953, 0.4339622641509433, 0.47169811320754707, 0.5094339622641508, 0.5471698113207546, 0.5849056603773584, 0.6226415094339621, 0.6603773584905659, 0.6981132075471697, 0.7358490566037734, 0.7735849056603772, 0.8113207547169812, 0.8490566037735849, 0.8867924528301887, 0.9245283018867925, 0.9622641509433962, 1.0], [-1.0, -0.9622641509433962, -0.9245283018867925, -0.8867924528301887, -0.8490566037735849, -0.8113207547169812, -0.7735849056603774, -0.7358490566037736, -0.6981132075471699, -0.6603773584905661, -0.6226415094339623, -0.5849056603773586, -0.5471698113207547, -0.5094339622641509, -0.4716981132075472, -0.4339622641509434, -0.39622641509433965, -0.3584905660377359, -0.3207547169811321, -0.28301886792452835, -0.24528301886792458, -0.20754716981132082, -0.16981132075471705, -0.1320754716981133, -0.09433962264150941, -0.05660377358490565, -0.018867924528301883, 0.018867924528301883, 0.05660377358490565, 0.09433962264150941, 0.13207547169811318, 0.16981132075471694, 0.2075471698113207, 0.24528301886792447, 0.28301886792452824, 0.320754716981132, 0.35849056603773577, 0.39622641509433953, 0.4339622641509433, 0.47169811320754707, 0.5094339622641508, 0.5471698113207546, 0.5849056603773584, 0.6226415094339621, 0.6603773584905659, 0.6981132075471697, 0.7358490566037734, 0.7735849056603772, 0.8113207547169812, 0.8490566037735849, 0.8867924528301887, 0.9245283018867925, 0.9622641509433962, 1.0], [-1.0, -0.9622641509433962, -0.9245283018867925, -0.8867924528301887, -0.8490566037735849, -0.8113207547169812, -0.7735849056603774, -0.7358490566037736, -0.6981132075471699, -0.6603773584905661, -0.6226415094339623, -0.5849056603773586, -0.5471698113207547, -0.5094339622641509, -0.4716981132075472, -0.4339622641509434, -0.39622641509433965, -0.3584905660377359, -0.3207547169811321, -0.28301886792452835, -0.24528301886792458, -0.20754716981132082, -0.16981132075471705, -0.1320754716981133, -0.09433962264150941, -0.05660377358490565, -0.018867924528301883, 0.018867924528301883, 0.05660377358490565, 0.09433962264150941, 0.13207547169811318, 0.16981132075471694, 0.2075471698113207, 0.24528301886792447, 0.28301886792452824, 0.320754716981132, 0.35849056603773577, 0.39622641509433953, 0.4339622641509433, 0.47169811320754707, 0.5094339622641508, 0.5471698113207546, 0.5849056603773584, 0.6226415094339621, 0.6603773584905659, 0.6981132075471697, 0.7358490566037734, 0.7735849056603772, 0.8113207547169812, 0.8490566037735849, 0.8867924528301887, 0.9245283018867925, 0.9622641509433962, 1.0], [-1.0, -0.9622641509433962, -0.9245283018867925, -0.8867924528301887, -0.8490566037735849, -0.8113207547169812, -0.7735849056603774, -0.7358490566037736, -0.6981132075471699, -0.6603773584905661, -0.6226415094339623, -0.5849056603773586, -0.5471698113207547, -0.5094339622641509, -0.4716981132075472, -0.4339622641509434, -0.39622641509433965, -0.3584905660377359, -0.3207547169811321, -0.28301886792452835, -0.24528301886792458, -0.20754716981132082, -0.16981132075471705, -0.1320754716981133, -0.09433962264150941, -0.05660377358490565, -0.018867924528301883, 0.018867924528301883, 0.05660377358490565, 0.09433962264150941, 0.13207547169811318, 0.16981132075471694, 0.2075471698113207, 0.24528301886792447, 0.28301886792452824, 0.320754716981132, 0.35849056603773577, 0.39622641509433953, 0.4339622641509433, 0.47169811320754707, 0.5094339622641508, 0.5471698113207546, 0.5849056603773584, 0.6226415094339621, 0.6603773584905659, 0.6981132075471697, 0.7358490566037734, 0.7735849056603772, 0.8113207547169812, 0.8490566037735849, 0.8867924528301887, 0.9245283018867925, 0.9622641509433962, 1.0], [-1.0, -0.9622641509433962, -0.9245283018867925, -0.8867924528301887, -0.8490566037735849, -0.8113207547169812, -0.7735849056603774, -0.7358490566037736, -0.6981132075471699, -0.6603773584905661, -0.6226415094339623, -0.5849056603773586, -0.5471698113207547, -0.5094339622641509, -0.4716981132075472, -0.4339622641509434, -0.39622641509433965, -0.3584905660377359, -0.3207547169811321, -0.28301886792452835, -0.24528301886792458, -0.20754716981132082, -0.16981132075471705, -0.1320754716981133, -0.09433962264150941, -0.05660377358490565, -0.018867924528301883, 0.018867924528301883, 0.05660377358490565, 0.09433962264150941, 0.13207547169811318, 0.16981132075471694, 0.2075471698113207, 0.24528301886792447, 0.28301886792452824, 0.320754716981132, 0.35849056603773577, 0.39622641509433953, 0.4339622641509433, 0.47169811320754707, 0.5094339622641508, 0.5471698113207546, 0.5849056603773584, 0.6226415094339621, 0.6603773584905659, 0.6981132075471697, 0.7358490566037734, 0.7735849056603772, 0.8113207547169812, 0.8490566037735849, 0.8867924528301887, 0.9245283018867925, 0.9622641509433962, 1.0], [-1.0, -0.9622641509433962, -0.9245283018867925, -0.8867924528301887, -0.8490566037735849, -0.8113207547169812, -0.7735849056603774, -0.7358490566037736, -0.6981132075471699, -0.6603773584905661, -0.6226415094339623, -0.5849056603773586, -0.5471698113207547, -0.5094339622641509, -0.4716981132075472, -0.4339622641509434, -0.39622641509433965, -0.3584905660377359, -0.3207547169811321, -0.28301886792452835, -0.24528301886792458, -0.20754716981132082, -0.16981132075471705, -0.1320754716981133, -0.09433962264150941, -0.05660377358490565, -0.018867924528301883, 0.018867924528301883, 0.05660377358490565, 0.09433962264150941, 0.13207547169811318, 0.16981132075471694, 0.2075471698113207, 0.24528301886792447, 0.28301886792452824, 0.320754716981132, 0.35849056603773577, 0.39622641509433953, 0.4339622641509433, 0.47169811320754707, 0.5094339622641508, 0.5471698113207546, 0.5849056603773584, 0.6226415094339621, 0.6603773584905659, 0.6981132075471697, 0.7358490566037734, 0.7735849056603772, 0.8113207547169812, 0.8490566037735849, 0.8867924528301887, 0.9245283018867925, 0.9622641509433962, 1.0], [-1.0, -0.9622641509433962, -0.9245283018867925, -0.8867924528301887, -0.8490566037735849, -0.8113207547169812, -0.7735849056603774, -0.7358490566037736, -0.6981132075471699, -0.6603773584905661, -0.6226415094339623, -0.5849056603773586, -0.5471698113207547, -0.5094339622641509, -0.4716981132075472, -0.4339622641509434, -0.39622641509433965, -0.3584905660377359, -0.3207547169811321, -0.28301886792452835, -0.24528301886792458, -0.20754716981132082, -0.16981132075471705, -0.1320754716981133, -0.09433962264150941, -0.05660377358490565, -0.018867924528301883, 0.018867924528301883, 0.05660377358490565, 0.09433962264150941, 0.13207547169811318, 0.16981132075471694, 0.2075471698113207, 0.24528301886792447, 0.28301886792452824, 0.320754716981132, 0.35849056603773577, 0.39622641509433953, 0.4339622641509433, 0.47169811320754707, 0.5094339622641508, 0.5471698113207546, 0.5849056603773584, 0.6226415094339621, 0.6603773584905659, 0.6981132075471697, 0.7358490566037734, 0.7735849056603772, 0.8113207547169812, 0.8490566037735849, 0.8867924528301887, 0.9245283018867925, 0.9622641509433962, 1.0], [-1.0, -0.9622641509433962, -0.9245283018867925, -0.8867924528301887, -0.8490566037735849, -0.8113207547169812, -0.7735849056603774, -0.7358490566037736, -0.6981132075471699, -0.6603773584905661, -0.6226415094339623, -0.5849056603773586, -0.5471698113207547, -0.5094339622641509, -0.4716981132075472, -0.4339622641509434, -0.39622641509433965, -0.3584905660377359, -0.3207547169811321, -0.28301886792452835, -0.24528301886792458, -0.20754716981132082, -0.16981132075471705, -0.1320754716981133, -0.09433962264150941, -0.05660377358490565, -0.018867924528301883, 0.018867924528301883, 0.05660377358490565, 0.09433962264150941, 0.13207547169811318, 0.16981132075471694, 0.2075471698113207, 0.24528301886792447, 0.28301886792452824, 0.320754716981132, 0.35849056603773577, 0.39622641509433953, 0.4339622641509433, 0.47169811320754707, 0.5094339622641508, 0.5471698113207546, 0.5849056603773584, 0.6226415094339621, 0.6603773584905659, 0.6981132075471697, 0.7358490566037734, 0.7735849056603772, 0.8113207547169812, 0.8490566037735849, 0.8867924528301887, 0.9245283018867925, 0.9622641509433962, 1.0], [-1.0, -0.9622641509433962, -0.9245283018867925, -0.8867924528301887, -0.8490566037735849, -0.8113207547169812, -0.7735849056603774, -0.7358490566037736, -0.6981132075471699, -0.6603773584905661, -0.6226415094339623, -0.5849056603773586, -0.5471698113207547, -0.5094339622641509, -0.4716981132075472, -0.4339622641509434, -0.39622641509433965, -0.3584905660377359, -0.3207547169811321, -0.28301886792452835, -0.24528301886792458, -0.20754716981132082, -0.16981132075471705, -0.1320754716981133, -0.09433962264150941, -0.05660377358490565, -0.018867924528301883, 0.018867924528301883, 0.05660377358490565, 0.09433962264150941, 0.13207547169811318, 0.16981132075471694, 0.2075471698113207, 0.24528301886792447, 0.28301886792452824, 0.320754716981132, 0.35849056603773577, 0.39622641509433953, 0.4339622641509433, 0.47169811320754707, 0.5094339622641508, 0.5471698113207546, 0.5849056603773584, 0.6226415094339621, 0.6603773584905659, 0.6981132075471697, 0.7358490566037734, 0.7735849056603772, 0.8113207547169812, 0.8490566037735849, 0.8867924528301887, 0.9245283018867925, 0.9622641509433962, 1.0], [-1.0, -0.9622641509433962, -0.9245283018867925, -0.8867924528301887, -0.8490566037735849, -0.8113207547169812, -0.7735849056603774, -0.7358490566037736, -0.6981132075471699, -0.6603773584905661, -0.6226415094339623, -0.5849056603773586, -0.5471698113207547, -0.5094339622641509, -0.4716981132075472, -0.4339622641509434, -0.39622641509433965, -0.3584905660377359, -0.3207547169811321, -0.28301886792452835, -0.24528301886792458, -0.20754716981132082, -0.16981132075471705, -0.1320754716981133, -0.09433962264150941, -0.05660377358490565, -0.018867924528301883, 0.018867924528301883, 0.05660377358490565, 0.09433962264150941, 0.13207547169811318, 0.16981132075471694, 0.2075471698113207, 0.24528301886792447, 0.28301886792452824, 0.320754716981132, 0.35849056603773577, 0.39622641509433953, 0.4339622641509433, 0.47169811320754707, 0.5094339622641508, 0.5471698113207546, 0.5849056603773584, 0.6226415094339621, 0.6603773584905659, 0.6981132075471697, 0.7358490566037734, 0.7735849056603772, 0.8113207547169812, 0.8490566037735849, 0.8867924528301887, 0.9245283018867925, 0.9622641509433962, 1.0], [-1.0, -0.9622641509433962, -0.9245283018867925, -0.8867924528301887, -0.8490566037735849, -0.8113207547169812, -0.7735849056603774, -0.7358490566037736, -0.6981132075471699, -0.6603773584905661, -0.6226415094339623, -0.5849056603773586, -0.5471698113207547, -0.5094339622641509, -0.4716981132075472, -0.4339622641509434, -0.39622641509433965, -0.3584905660377359, -0.3207547169811321, -0.28301886792452835, -0.24528301886792458, -0.20754716981132082, -0.16981132075471705, -0.1320754716981133, -0.09433962264150941, -0.05660377358490565, -0.018867924528301883, 0.018867924528301883, 0.05660377358490565, 0.09433962264150941, 0.13207547169811318, 0.16981132075471694, 0.2075471698113207, 0.24528301886792447, 0.28301886792452824, 0.320754716981132, 0.35849056603773577, 0.39622641509433953, 0.4339622641509433, 0.47169811320754707, 0.5094339622641508, 0.5471698113207546, 0.5849056603773584, 0.6226415094339621, 0.6603773584905659, 0.6981132075471697, 0.7358490566037734, 0.7735849056603772, 0.8113207547169812, 0.8490566037735849, 0.8867924528301887, 0.9245283018867925, 0.9622641509433962, 1.0], [-1.0, -0.9622641509433962, -0.9245283018867925, -0.8867924528301887, -0.8490566037735849, -0.8113207547169812, -0.7735849056603774, -0.7358490566037736, -0.6981132075471699, -0.6603773584905661, -0.6226415094339623, -0.5849056603773586, -0.5471698113207547, -0.5094339622641509, -0.4716981132075472, -0.4339622641509434, -0.39622641509433965, -0.3584905660377359, -0.3207547169811321, -0.28301886792452835, -0.24528301886792458, -0.20754716981132082, -0.16981132075471705, -0.1320754716981133, -0.09433962264150941, -0.05660377358490565, -0.018867924528301883, 0.018867924528301883, 0.05660377358490565, 0.09433962264150941, 0.13207547169811318, 0.16981132075471694, 0.2075471698113207, 0.24528301886792447, 0.28301886792452824, 0.320754716981132, 0.35849056603773577, 0.39622641509433953, 0.4339622641509433, 0.47169811320754707, 0.5094339622641508, 0.5471698113207546, 0.5849056603773584, 0.6226415094339621, 0.6603773584905659, 0.6981132075471697, 0.7358490566037734, 0.7735849056603772, 0.8113207547169812, 0.8490566037735849, 0.8867924528301887, 0.9245283018867925, 0.9622641509433962, 1.0], [-1.0, -0.9622641509433962, -0.9245283018867925, -0.8867924528301887, -0.8490566037735849, -0.8113207547169812, -0.7735849056603774, -0.7358490566037736, -0.6981132075471699, -0.6603773584905661, -0.6226415094339623, -0.5849056603773586, -0.5471698113207547, -0.5094339622641509, -0.4716981132075472, -0.4339622641509434, -0.39622641509433965, -0.3584905660377359, -0.3207547169811321, -0.28301886792452835, -0.24528301886792458, -0.20754716981132082, -0.16981132075471705, -0.1320754716981133, -0.09433962264150941, -0.05660377358490565, -0.018867924528301883, 0.018867924528301883, 0.05660377358490565, 0.09433962264150941, 0.13207547169811318, 0.16981132075471694, 0.2075471698113207, 0.24528301886792447, 0.28301886792452824, 0.320754716981132, 0.35849056603773577, 0.39622641509433953, 0.4339622641509433, 0.47169811320754707, 0.5094339622641508, 0.5471698113207546, 0.5849056603773584, 0.6226415094339621, 0.6603773584905659, 0.6981132075471697, 0.7358490566037734, 0.7735849056603772, 0.8113207547169812, 0.8490566037735849, 0.8867924528301887, 0.9245283018867925, 0.9622641509433962, 1.0], [-1.0, -0.9622641509433962, -0.9245283018867925, -0.8867924528301887, -0.8490566037735849, -0.8113207547169812, -0.7735849056603774, -0.7358490566037736, -0.6981132075471699, -0.6603773584905661, -0.6226415094339623, -0.5849056603773586, -0.5471698113207547, -0.5094339622641509, -0.4716981132075472, -0.4339622641509434, -0.39622641509433965, -0.3584905660377359, -0.3207547169811321, -0.28301886792452835, -0.24528301886792458, -0.20754716981132082, -0.16981132075471705, -0.1320754716981133, -0.09433962264150941, -0.05660377358490565, -0.018867924528301883, 0.018867924528301883, 0.05660377358490565, 0.09433962264150941, 0.13207547169811318, 0.16981132075471694, 0.2075471698113207, 0.24528301886792447, 0.28301886792452824, 0.320754716981132, 0.35849056603773577, 0.39622641509433953, 0.4339622641509433, 0.47169811320754707, 0.5094339622641508, 0.5471698113207546, 0.5849056603773584, 0.6226415094339621, 0.6603773584905659, 0.6981132075471697, 0.7358490566037734, 0.7735849056603772, 0.8113207547169812, 0.8490566037735849, 0.8867924528301887, 0.9245283018867925, 0.9622641509433962, 1.0], [-1.0, -0.9622641509433962, -0.9245283018867925, -0.8867924528301887, -0.8490566037735849, -0.8113207547169812, -0.7735849056603774, -0.7358490566037736, -0.6981132075471699, -0.6603773584905661, -0.6226415094339623, -0.5849056603773586, -0.5471698113207547, -0.5094339622641509, -0.4716981132075472, -0.4339622641509434, -0.39622641509433965, -0.3584905660377359, -0.3207547169811321, -0.28301886792452835, -0.24528301886792458, -0.20754716981132082, -0.16981132075471705, -0.1320754716981133, -0.09433962264150941, -0.05660377358490565, -0.018867924528301883, 0.018867924528301883, 0.05660377358490565, 0.09433962264150941, 0.13207547169811318, 0.16981132075471694, 0.2075471698113207, 0.24528301886792447, 0.28301886792452824, 0.320754716981132, 0.35849056603773577, 0.39622641509433953, 0.4339622641509433, 0.47169811320754707, 0.5094339622641508, 0.5471698113207546, 0.5849056603773584, 0.6226415094339621, 0.6603773584905659, 0.6981132075471697, 0.7358490566037734, 0.7735849056603772, 0.8113207547169812, 0.8490566037735849, 0.8867924528301887, 0.9245283018867925, 0.9622641509433962, 1.0], [-1.0, -0.9622641509433962, -0.9245283018867925, -0.8867924528301887, -0.8490566037735849, -0.8113207547169812, -0.7735849056603774, -0.7358490566037736, -0.6981132075471699, -0.6603773584905661, -0.6226415094339623, -0.5849056603773586, -0.5471698113207547, -0.5094339622641509, -0.4716981132075472, -0.4339622641509434, -0.39622641509433965, -0.3584905660377359, -0.3207547169811321, -0.28301886792452835, -0.24528301886792458, -0.20754716981132082, -0.16981132075471705, -0.1320754716981133, -0.09433962264150941, -0.05660377358490565, -0.018867924528301883, 0.018867924528301883, 0.05660377358490565, 0.09433962264150941, 0.13207547169811318, 0.16981132075471694, 0.2075471698113207, 0.24528301886792447, 0.28301886792452824, 0.320754716981132, 0.35849056603773577, 0.39622641509433953, 0.4339622641509433, 0.47169811320754707, 0.5094339622641508, 0.5471698113207546, 0.5849056603773584, 0.6226415094339621, 0.6603773584905659, 0.6981132075471697, 0.7358490566037734, 0.7735849056603772, 0.8113207547169812, 0.8490566037735849, 0.8867924528301887, 0.9245283018867925, 0.9622641509433962, 1.0], [-1.0, -0.9622641509433962, -0.9245283018867925, -0.8867924528301887, -0.8490566037735849, -0.8113207547169812, -0.7735849056603774, -0.7358490566037736, -0.6981132075471699, -0.6603773584905661, -0.6226415094339623, -0.5849056603773586, -0.5471698113207547, -0.5094339622641509, -0.4716981132075472, -0.4339622641509434, -0.39622641509433965, -0.3584905660377359, -0.3207547169811321, -0.28301886792452835, -0.24528301886792458, -0.20754716981132082, -0.16981132075471705, -0.1320754716981133, -0.09433962264150941, -0.05660377358490565, -0.018867924528301883, 0.018867924528301883, 0.05660377358490565, 0.09433962264150941, 0.13207547169811318, 0.16981132075471694, 0.2075471698113207, 0.24528301886792447, 0.28301886792452824, 0.320754716981132, 0.35849056603773577, 0.39622641509433953, 0.4339622641509433, 0.47169811320754707, 0.5094339622641508, 0.5471698113207546, 0.5849056603773584, 0.6226415094339621, 0.6603773584905659, 0.6981132075471697, 0.7358490566037734, 0.7735849056603772, 0.8113207547169812, 0.8490566037735849, 0.8867924528301887, 0.9245283018867925, 0.9622641509433962, 1.0], [-1.0, -0.9622641509433962, -0.9245283018867925, -0.8867924528301887, -0.8490566037735849, -0.8113207547169812, -0.7735849056603774, -0.7358490566037736, -0.6981132075471699, -0.6603773584905661, -0.6226415094339623, -0.5849056603773586, -0.5471698113207547, -0.5094339622641509, -0.4716981132075472, -0.4339622641509434, -0.39622641509433965, -0.3584905660377359, -0.3207547169811321, -0.28301886792452835, -0.24528301886792458, -0.20754716981132082, -0.16981132075471705, -0.1320754716981133, -0.09433962264150941, -0.05660377358490565, -0.018867924528301883, 0.018867924528301883, 0.05660377358490565, 0.09433962264150941, 0.13207547169811318, 0.16981132075471694, 0.2075471698113207, 0.24528301886792447, 0.28301886792452824, 0.320754716981132, 0.35849056603773577, 0.39622641509433953, 0.4339622641509433, 0.47169811320754707, 0.5094339622641508, 0.5471698113207546, 0.5849056603773584, 0.6226415094339621, 0.6603773584905659, 0.6981132075471697, 0.7358490566037734, 0.7735849056603772, 0.8113207547169812, 0.8490566037735849, 0.8867924528301887, 0.9245283018867925, 0.9622641509433962, 1.0], [-1.0, -0.9622641509433962, -0.9245283018867925, -0.8867924528301887, -0.8490566037735849, -0.8113207547169812, -0.7735849056603774, -0.7358490566037736, -0.6981132075471699, -0.6603773584905661, -0.6226415094339623, -0.5849056603773586, -0.5471698113207547, -0.5094339622641509, -0.4716981132075472, -0.4339622641509434, -0.39622641509433965, -0.3584905660377359, -0.3207547169811321, -0.28301886792452835, -0.24528301886792458, -0.20754716981132082, -0.16981132075471705, -0.1320754716981133, -0.09433962264150941, -0.05660377358490565, -0.018867924528301883, 0.018867924528301883, 0.05660377358490565, 0.09433962264150941, 0.13207547169811318, 0.16981132075471694, 0.2075471698113207, 0.24528301886792447, 0.28301886792452824, 0.320754716981132, 0.35849056603773577, 0.39622641509433953, 0.4339622641509433, 0.47169811320754707, 0.5094339622641508, 0.5471698113207546, 0.5849056603773584, 0.6226415094339621, 0.6603773584905659, 0.6981132075471697, 0.7358490566037734, 0.7735849056603772, 0.8113207547169812, 0.8490566037735849, 0.8867924528301887, 0.9245283018867925, 0.9622641509433962, 1.0], [-1.0, -0.9622641509433962, -0.9245283018867925, -0.8867924528301887, -0.8490566037735849, -0.8113207547169812, -0.7735849056603774, -0.7358490566037736, -0.6981132075471699, -0.6603773584905661, -0.6226415094339623, -0.5849056603773586, -0.5471698113207547, -0.5094339622641509, -0.4716981132075472, -0.4339622641509434, -0.39622641509433965, -0.3584905660377359, -0.3207547169811321, -0.28301886792452835, -0.24528301886792458, -0.20754716981132082, -0.16981132075471705, -0.1320754716981133, -0.09433962264150941, -0.05660377358490565, -0.018867924528301883, 0.018867924528301883, 0.05660377358490565, 0.09433962264150941, 0.13207547169811318, 0.16981132075471694, 0.2075471698113207, 0.24528301886792447, 0.28301886792452824, 0.320754716981132, 0.35849056603773577, 0.39622641509433953, 0.4339622641509433, 0.47169811320754707, 0.5094339622641508, 0.5471698113207546, 0.5849056603773584, 0.6226415094339621, 0.6603773584905659, 0.6981132075471697, 0.7358490566037734, 0.7735849056603772, 0.8113207547169812, 0.8490566037735849, 0.8867924528301887, 0.9245283018867925, 0.9622641509433962, 1.0], [-1.0, -0.9622641509433962, -0.9245283018867925, -0.8867924528301887, -0.8490566037735849, -0.8113207547169812, -0.7735849056603774, -0.7358490566037736, -0.6981132075471699, -0.6603773584905661, -0.6226415094339623, -0.5849056603773586, -0.5471698113207547, -0.5094339622641509, -0.4716981132075472, -0.4339622641509434, -0.39622641509433965, -0.3584905660377359, -0.3207547169811321, -0.28301886792452835, -0.24528301886792458, -0.20754716981132082, -0.16981132075471705, -0.1320754716981133, -0.09433962264150941, -0.05660377358490565, -0.018867924528301883, 0.018867924528301883, 0.05660377358490565, 0.09433962264150941, 0.13207547169811318, 0.16981132075471694, 0.2075471698113207, 0.24528301886792447, 0.28301886792452824, 0.320754716981132, 0.35849056603773577, 0.39622641509433953, 0.4339622641509433, 0.47169811320754707, 0.5094339622641508, 0.5471698113207546, 0.5849056603773584, 0.6226415094339621, 0.6603773584905659, 0.6981132075471697, 0.7358490566037734, 0.7735849056603772, 0.8113207547169812, 0.8490566037735849, 0.8867924528301887, 0.9245283018867925, 0.9622641509433962, 1.0], [-1.0, -0.9622641509433962, -0.9245283018867925, -0.8867924528301887, -0.8490566037735849, -0.8113207547169812, -0.7735849056603774, -0.7358490566037736, -0.6981132075471699, -0.6603773584905661, -0.6226415094339623, -0.5849056603773586, -0.5471698113207547, -0.5094339622641509, -0.4716981132075472, -0.4339622641509434, -0.39622641509433965, -0.3584905660377359, -0.3207547169811321, -0.28301886792452835, -0.24528301886792458, -0.20754716981132082, -0.16981132075471705, -0.1320754716981133, -0.09433962264150941, -0.05660377358490565, -0.018867924528301883, 0.018867924528301883, 0.05660377358490565, 0.09433962264150941, 0.13207547169811318, 0.16981132075471694, 0.2075471698113207, 0.24528301886792447, 0.28301886792452824, 0.320754716981132, 0.35849056603773577, 0.39622641509433953, 0.4339622641509433, 0.47169811320754707, 0.5094339622641508, 0.5471698113207546, 0.5849056603773584, 0.6226415094339621, 0.6603773584905659, 0.6981132075471697, 0.7358490566037734, 0.7735849056603772, 0.8113207547169812, 0.8490566037735849, 0.8867924528301887, 0.9245283018867925, 0.9622641509433962, 1.0], [-1.0, -0.9622641509433962, -0.9245283018867925, -0.8867924528301887, -0.8490566037735849, -0.8113207547169812, -0.7735849056603774, -0.7358490566037736, -0.6981132075471699, -0.6603773584905661, -0.6226415094339623, -0.5849056603773586, -0.5471698113207547, -0.5094339622641509, -0.4716981132075472, -0.4339622641509434, -0.39622641509433965, -0.3584905660377359, -0.3207547169811321, -0.28301886792452835, -0.24528301886792458, -0.20754716981132082, -0.16981132075471705, -0.1320754716981133, -0.09433962264150941, -0.05660377358490565, -0.018867924528301883, 0.018867924528301883, 0.05660377358490565, 0.09433962264150941, 0.13207547169811318, 0.16981132075471694, 0.2075471698113207, 0.24528301886792447, 0.28301886792452824, 0.320754716981132, 0.35849056603773577, 0.39622641509433953, 0.4339622641509433, 0.47169811320754707, 0.5094339622641508, 0.5471698113207546, 0.5849056603773584, 0.6226415094339621, 0.6603773584905659, 0.6981132075471697, 0.7358490566037734, 0.7735849056603772, 0.8113207547169812, 0.8490566037735849, 0.8867924528301887, 0.9245283018867925, 0.9622641509433962, 1.0], [-1.0, -0.9622641509433962, -0.9245283018867925, -0.8867924528301887, -0.8490566037735849, -0.8113207547169812, -0.7735849056603774, -0.7358490566037736, -0.6981132075471699, -0.6603773584905661, -0.6226415094339623, -0.5849056603773586, -0.5471698113207547, -0.5094339622641509, -0.4716981132075472, -0.4339622641509434, -0.39622641509433965, -0.3584905660377359, -0.3207547169811321, -0.28301886792452835, -0.24528301886792458, -0.20754716981132082, -0.16981132075471705, -0.1320754716981133, -0.09433962264150941, -0.05660377358490565, -0.018867924528301883, 0.018867924528301883, 0.05660377358490565, 0.09433962264150941, 0.13207547169811318, 0.16981132075471694, 0.2075471698113207, 0.24528301886792447, 0.28301886792452824, 0.320754716981132, 0.35849056603773577, 0.39622641509433953, 0.4339622641509433, 0.47169811320754707, 0.5094339622641508, 0.5471698113207546, 0.5849056603773584, 0.6226415094339621, 0.6603773584905659, 0.6981132075471697, 0.7358490566037734, 0.7735849056603772, 0.8113207547169812, 0.8490566037735849, 0.8867924528301887, 0.9245283018867925, 0.9622641509433962, 1.0], [-1.0, -0.9622641509433962, -0.9245283018867925, -0.8867924528301887, -0.8490566037735849, -0.8113207547169812, -0.7735849056603774, -0.7358490566037736, -0.6981132075471699, -0.6603773584905661, -0.6226415094339623, -0.5849056603773586, -0.5471698113207547, -0.5094339622641509, -0.4716981132075472, -0.4339622641509434, -0.39622641509433965, -0.3584905660377359, -0.3207547169811321, -0.28301886792452835, -0.24528301886792458, -0.20754716981132082, -0.16981132075471705, -0.1320754716981133, -0.09433962264150941, -0.05660377358490565, -0.018867924528301883, 0.018867924528301883, 0.05660377358490565, 0.09433962264150941, 0.13207547169811318, 0.16981132075471694, 0.2075471698113207, 0.24528301886792447, 0.28301886792452824, 0.320754716981132, 0.35849056603773577, 0.39622641509433953, 0.4339622641509433, 0.47169811320754707, 0.5094339622641508, 0.5471698113207546, 0.5849056603773584, 0.6226415094339621, 0.6603773584905659, 0.6981132075471697, 0.7358490566037734, 0.7735849056603772, 0.8113207547169812, 0.8490566037735849, 0.8867924528301887, 0.9245283018867925, 0.9622641509433962, 1.0], [-1.0, -0.9622641509433962, -0.9245283018867925, -0.8867924528301887, -0.8490566037735849, -0.8113207547169812, -0.7735849056603774, -0.7358490566037736, -0.6981132075471699, -0.6603773584905661, -0.6226415094339623, -0.5849056603773586, -0.5471698113207547, -0.5094339622641509, -0.4716981132075472, -0.4339622641509434, -0.39622641509433965, -0.3584905660377359, -0.3207547169811321, -0.28301886792452835, -0.24528301886792458, -0.20754716981132082, -0.16981132075471705, -0.1320754716981133, -0.09433962264150941, -0.05660377358490565, -0.018867924528301883, 0.018867924528301883, 0.05660377358490565, 0.09433962264150941, 0.13207547169811318, 0.16981132075471694, 0.2075471698113207, 0.24528301886792447, 0.28301886792452824, 0.320754716981132, 0.35849056603773577, 0.39622641509433953, 0.4339622641509433, 0.47169811320754707, 0.5094339622641508, 0.5471698113207546, 0.5849056603773584, 0.6226415094339621, 0.6603773584905659, 0.6981132075471697, 0.7358490566037734, 0.7735849056603772, 0.8113207547169812, 0.8490566037735849, 0.8867924528301887, 0.9245283018867925, 0.9622641509433962, 1.0], [-1.0, -0.9622641509433962, -0.9245283018867925, -0.8867924528301887, -0.8490566037735849, -0.8113207547169812, -0.7735849056603774, -0.7358490566037736, -0.6981132075471699, -0.6603773584905661, -0.6226415094339623, -0.5849056603773586, -0.5471698113207547, -0.5094339622641509, -0.4716981132075472, -0.4339622641509434, -0.39622641509433965, -0.3584905660377359, -0.3207547169811321, -0.28301886792452835, -0.24528301886792458, -0.20754716981132082, -0.16981132075471705, -0.1320754716981133, -0.09433962264150941, -0.05660377358490565, -0.018867924528301883, 0.018867924528301883, 0.05660377358490565, 0.09433962264150941, 0.13207547169811318, 0.16981132075471694, 0.2075471698113207, 0.24528301886792447, 0.28301886792452824, 0.320754716981132, 0.35849056603773577, 0.39622641509433953, 0.4339622641509433, 0.47169811320754707, 0.5094339622641508, 0.5471698113207546, 0.5849056603773584, 0.6226415094339621, 0.6603773584905659, 0.6981132075471697, 0.7358490566037734, 0.7735849056603772, 0.8113207547169812, 0.8490566037735849, 0.8867924528301887, 0.9245283018867925, 0.9622641509433962, 1.0], [-1.0, -0.9622641509433962, -0.9245283018867925, -0.8867924528301887, -0.8490566037735849, -0.8113207547169812, -0.7735849056603774, -0.7358490566037736, -0.6981132075471699, -0.6603773584905661, -0.6226415094339623, -0.5849056603773586, -0.5471698113207547, -0.5094339622641509, -0.4716981132075472, -0.4339622641509434, -0.39622641509433965, -0.3584905660377359, -0.3207547169811321, -0.28301886792452835, -0.24528301886792458, -0.20754716981132082, -0.16981132075471705, -0.1320754716981133, -0.09433962264150941, -0.05660377358490565, -0.018867924528301883, 0.018867924528301883, 0.05660377358490565, 0.09433962264150941, 0.13207547169811318, 0.16981132075471694, 0.2075471698113207, 0.24528301886792447, 0.28301886792452824, 0.320754716981132, 0.35849056603773577, 0.39622641509433953, 0.4339622641509433, 0.47169811320754707, 0.5094339622641508, 0.5471698113207546, 0.5849056603773584, 0.6226415094339621, 0.6603773584905659, 0.6981132075471697, 0.7358490566037734, 0.7735849056603772, 0.8113207547169812, 0.8490566037735849, 0.8867924528301887, 0.9245283018867925, 0.9622641509433962, 1.0], [-1.0, -0.9622641509433962, -0.9245283018867925, -0.8867924528301887, -0.8490566037735849, -0.8113207547169812, -0.7735849056603774, -0.7358490566037736, -0.6981132075471699, -0.6603773584905661, -0.6226415094339623, -0.5849056603773586, -0.5471698113207547, -0.5094339622641509, -0.4716981132075472, -0.4339622641509434, -0.39622641509433965, -0.3584905660377359, -0.3207547169811321, -0.28301886792452835, -0.24528301886792458, -0.20754716981132082, -0.16981132075471705, -0.1320754716981133, -0.09433962264150941, -0.05660377358490565, -0.018867924528301883, 0.018867924528301883, 0.05660377358490565, 0.09433962264150941, 0.13207547169811318, 0.16981132075471694, 0.2075471698113207, 0.24528301886792447, 0.28301886792452824, 0.320754716981132, 0.35849056603773577, 0.39622641509433953, 0.4339622641509433, 0.47169811320754707, 0.5094339622641508, 0.5471698113207546, 0.5849056603773584, 0.6226415094339621, 0.6603773584905659, 0.6981132075471697, 0.7358490566037734, 0.7735849056603772, 0.8113207547169812, 0.8490566037735849, 0.8867924528301887, 0.9245283018867925, 0.9622641509433962, 1.0], [-1.0, -0.9622641509433962, -0.9245283018867925, -0.8867924528301887, -0.8490566037735849, -0.8113207547169812, -0.7735849056603774, -0.7358490566037736, -0.6981132075471699, -0.6603773584905661, -0.6226415094339623, -0.5849056603773586, -0.5471698113207547, -0.5094339622641509, -0.4716981132075472, -0.4339622641509434, -0.39622641509433965, -0.3584905660377359, -0.3207547169811321, -0.28301886792452835, -0.24528301886792458, -0.20754716981132082, -0.16981132075471705, -0.1320754716981133, -0.09433962264150941, -0.05660377358490565, -0.018867924528301883, 0.018867924528301883, 0.05660377358490565, 0.09433962264150941, 0.13207547169811318, 0.16981132075471694, 0.2075471698113207, 0.24528301886792447, 0.28301886792452824, 0.320754716981132, 0.35849056603773577, 0.39622641509433953, 0.4339622641509433, 0.47169811320754707, 0.5094339622641508, 0.5471698113207546, 0.5849056603773584, 0.6226415094339621, 0.6603773584905659, 0.6981132075471697, 0.7358490566037734, 0.7735849056603772, 0.8113207547169812, 0.8490566037735849, 0.8867924528301887, 0.9245283018867925, 0.9622641509433962, 1.0], [-1.0, -0.9622641509433962, -0.9245283018867925, -0.8867924528301887, -0.8490566037735849, -0.8113207547169812, -0.7735849056603774, -0.7358490566037736, -0.6981132075471699, -0.6603773584905661, -0.6226415094339623, -0.5849056603773586, -0.5471698113207547, -0.5094339622641509, -0.4716981132075472, -0.4339622641509434, -0.39622641509433965, -0.3584905660377359, -0.3207547169811321, -0.28301886792452835, -0.24528301886792458, -0.20754716981132082, -0.16981132075471705, -0.1320754716981133, -0.09433962264150941, -0.05660377358490565, -0.018867924528301883, 0.018867924528301883, 0.05660377358490565, 0.09433962264150941, 0.13207547169811318, 0.16981132075471694, 0.2075471698113207, 0.24528301886792447, 0.28301886792452824, 0.320754716981132, 0.35849056603773577, 0.39622641509433953, 0.4339622641509433, 0.47169811320754707, 0.5094339622641508, 0.5471698113207546, 0.5849056603773584, 0.6226415094339621, 0.6603773584905659, 0.6981132075471697, 0.7358490566037734, 0.7735849056603772, 0.8113207547169812, 0.8490566037735849, 0.8867924528301887, 0.9245283018867925, 0.9622641509433962, 1.0], [-1.0, -0.9622641509433962, -0.9245283018867925, -0.8867924528301887, -0.8490566037735849, -0.8113207547169812, -0.7735849056603774, -0.7358490566037736, -0.6981132075471699, -0.6603773584905661, -0.6226415094339623, -0.5849056603773586, -0.5471698113207547, -0.5094339622641509, -0.4716981132075472, -0.4339622641509434, -0.39622641509433965, -0.3584905660377359, -0.3207547169811321, -0.28301886792452835, -0.24528301886792458, -0.20754716981132082, -0.16981132075471705, -0.1320754716981133, -0.09433962264150941, -0.05660377358490565, -0.018867924528301883, 0.018867924528301883, 0.05660377358490565, 0.09433962264150941, 0.13207547169811318, 0.16981132075471694, 0.2075471698113207, 0.24528301886792447, 0.28301886792452824, 0.320754716981132, 0.35849056603773577, 0.39622641509433953, 0.4339622641509433, 0.47169811320754707, 0.5094339622641508, 0.5471698113207546, 0.5849056603773584, 0.6226415094339621, 0.6603773584905659, 0.6981132075471697, 0.7358490566037734, 0.7735849056603772, 0.8113207547169812, 0.8490566037735849, 0.8867924528301887, 0.9245283018867925, 0.9622641509433962, 1.0], [-1.0, -0.9622641509433962, -0.9245283018867925, -0.8867924528301887, -0.8490566037735849, -0.8113207547169812, -0.7735849056603774, -0.7358490566037736, -0.6981132075471699, -0.6603773584905661, -0.6226415094339623, -0.5849056603773586, -0.5471698113207547, -0.5094339622641509, -0.4716981132075472, -0.4339622641509434, -0.39622641509433965, -0.3584905660377359, -0.3207547169811321, -0.28301886792452835, -0.24528301886792458, -0.20754716981132082, -0.16981132075471705, -0.1320754716981133, -0.09433962264150941, -0.05660377358490565, -0.018867924528301883, 0.018867924528301883, 0.05660377358490565, 0.09433962264150941, 0.13207547169811318, 0.16981132075471694, 0.2075471698113207, 0.24528301886792447, 0.28301886792452824, 0.320754716981132, 0.35849056603773577, 0.39622641509433953, 0.4339622641509433, 0.47169811320754707, 0.5094339622641508, 0.5471698113207546, 0.5849056603773584, 0.6226415094339621, 0.6603773584905659, 0.6981132075471697, 0.7358490566037734, 0.7735849056603772, 0.8113207547169812, 0.8490566037735849, 0.8867924528301887, 0.9245283018867925, 0.9622641509433962, 1.0], [-1.0, -0.9622641509433962, -0.9245283018867925, -0.8867924528301887, -0.8490566037735849, -0.8113207547169812, -0.7735849056603774, -0.7358490566037736, -0.6981132075471699, -0.6603773584905661, -0.6226415094339623, -0.5849056603773586, -0.5471698113207547, -0.5094339622641509, -0.4716981132075472, -0.4339622641509434, -0.39622641509433965, -0.3584905660377359, -0.3207547169811321, -0.28301886792452835, -0.24528301886792458, -0.20754716981132082, -0.16981132075471705, -0.1320754716981133, -0.09433962264150941, -0.05660377358490565, -0.018867924528301883, 0.018867924528301883, 0.05660377358490565, 0.09433962264150941, 0.13207547169811318, 0.16981132075471694, 0.2075471698113207, 0.24528301886792447, 0.28301886792452824, 0.320754716981132, 0.35849056603773577, 0.39622641509433953, 0.4339622641509433, 0.47169811320754707, 0.5094339622641508, 0.5471698113207546, 0.5849056603773584, 0.6226415094339621, 0.6603773584905659, 0.6981132075471697, 0.7358490566037734, 0.7735849056603772, 0.8113207547169812, 0.8490566037735849, 0.8867924528301887, 0.9245283018867925, 0.9622641509433962, 1.0], [-1.0, -0.9622641509433962, -0.9245283018867925, -0.8867924528301887, -0.8490566037735849, -0.8113207547169812, -0.7735849056603774, -0.7358490566037736, -0.6981132075471699, -0.6603773584905661, -0.6226415094339623, -0.5849056603773586, -0.5471698113207547, -0.5094339622641509, -0.4716981132075472, -0.4339622641509434, -0.39622641509433965, -0.3584905660377359, -0.3207547169811321, -0.28301886792452835, -0.24528301886792458, -0.20754716981132082, -0.16981132075471705, -0.1320754716981133, -0.09433962264150941, -0.05660377358490565, -0.018867924528301883, 0.018867924528301883, 0.05660377358490565, 0.09433962264150941, 0.13207547169811318, 0.16981132075471694, 0.2075471698113207, 0.24528301886792447, 0.28301886792452824, 0.320754716981132, 0.35849056603773577, 0.39622641509433953, 0.4339622641509433, 0.47169811320754707, 0.5094339622641508, 0.5471698113207546, 0.5849056603773584, 0.6226415094339621, 0.6603773584905659, 0.6981132075471697, 0.7358490566037734, 0.7735849056603772, 0.8113207547169812, 0.8490566037735849, 0.8867924528301887, 0.9245283018867925, 0.9622641509433962, 1.0], [-1.0, -0.9622641509433962, -0.9245283018867925, -0.8867924528301887, -0.8490566037735849, -0.8113207547169812, -0.7735849056603774, -0.7358490566037736, -0.6981132075471699, -0.6603773584905661, -0.6226415094339623, -0.5849056603773586, -0.5471698113207547, -0.5094339622641509, -0.4716981132075472, -0.4339622641509434, -0.39622641509433965, -0.3584905660377359, -0.3207547169811321, -0.28301886792452835, -0.24528301886792458, -0.20754716981132082, -0.16981132075471705, -0.1320754716981133, -0.09433962264150941, -0.05660377358490565, -0.018867924528301883, 0.018867924528301883, 0.05660377358490565, 0.09433962264150941, 0.13207547169811318, 0.16981132075471694, 0.2075471698113207, 0.24528301886792447, 0.28301886792452824, 0.320754716981132, 0.35849056603773577, 0.39622641509433953, 0.4339622641509433, 0.47169811320754707, 0.5094339622641508, 0.5471698113207546, 0.5849056603773584, 0.6226415094339621, 0.6603773584905659, 0.6981132075471697, 0.7358490566037734, 0.7735849056603772, 0.8113207547169812, 0.8490566037735849, 0.8867924528301887, 0.9245283018867925, 0.9622641509433962, 1.0], [-1.0, -0.9622641509433962, -0.9245283018867925, -0.8867924528301887, -0.8490566037735849, -0.8113207547169812, -0.7735849056603774, -0.7358490566037736, -0.6981132075471699, -0.6603773584905661, -0.6226415094339623, -0.5849056603773586, -0.5471698113207547, -0.5094339622641509, -0.4716981132075472, -0.4339622641509434, -0.39622641509433965, -0.3584905660377359, -0.3207547169811321, -0.28301886792452835, -0.24528301886792458, -0.20754716981132082, -0.16981132075471705, -0.1320754716981133, -0.09433962264150941, -0.05660377358490565, -0.018867924528301883, 0.018867924528301883, 0.05660377358490565, 0.09433962264150941, 0.13207547169811318, 0.16981132075471694, 0.2075471698113207, 0.24528301886792447, 0.28301886792452824, 0.320754716981132, 0.35849056603773577, 0.39622641509433953, 0.4339622641509433, 0.47169811320754707, 0.5094339622641508, 0.5471698113207546, 0.5849056603773584, 0.6226415094339621, 0.6603773584905659, 0.6981132075471697, 0.7358490566037734, 0.7735849056603772, 0.8113207547169812, 0.8490566037735849, 0.8867924528301887, 0.9245283018867925, 0.9622641509433962, 1.0], [-1.0, -0.9622641509433962, -0.9245283018867925, -0.8867924528301887, -0.8490566037735849, -0.8113207547169812, -0.7735849056603774, -0.7358490566037736, -0.6981132075471699, -0.6603773584905661, -0.6226415094339623, -0.5849056603773586, -0.5471698113207547, -0.5094339622641509, -0.4716981132075472, -0.4339622641509434, -0.39622641509433965, -0.3584905660377359, -0.3207547169811321, -0.28301886792452835, -0.24528301886792458, -0.20754716981132082, -0.16981132075471705, -0.1320754716981133, -0.09433962264150941, -0.05660377358490565, -0.018867924528301883, 0.018867924528301883, 0.05660377358490565, 0.09433962264150941, 0.13207547169811318, 0.16981132075471694, 0.2075471698113207, 0.24528301886792447, 0.28301886792452824, 0.320754716981132, 0.35849056603773577, 0.39622641509433953, 0.4339622641509433, 0.47169811320754707, 0.5094339622641508, 0.5471698113207546, 0.5849056603773584, 0.6226415094339621, 0.6603773584905659, 0.6981132075471697, 0.7358490566037734, 0.7735849056603772, 0.8113207547169812, 0.8490566037735849, 0.8867924528301887, 0.9245283018867925, 0.9622641509433962, 1.0]], \"z\": [[0.0, 0.0, 46.60000000000082, 0.0, 69.19999999999789, 0.0, 0.0, 0.0, 0.0, 0.0, 0.0, 0.0, 0.0, 0.0, 0.0, 0.0, 0.0, 0.0, 0.0, 0.0, 0.0, 0.0, 0.0, 0.0, 0.0, 0.0, 0.0, 0.0, 0.0, 0.0, 0.0, 0.0, 0.0, 0.0, 0.0, 0.0, 0.0, 0.0, 0.0, 0.0, 0.0, 0.0, 0.0, 0.0, 0.0, 0.0, 0.0, 0.0, 0.0, 0.0, 0.0, 0.0, 0.0, 0.0], [0.0, 0.0, -107.20000000000027, 0.0, -15.600000000006276, 0.0, 0.0, 109.69999999999516, 0.0, 0.0, 0.0, 0.0, 0.0, 0.0, 0.0, 0.0, 0.0, 0.0, 0.0, 0.0, 0.0, 0.0, 0.0, 0.0, 0.0, 0.0, 0.0, 0.0, 0.0, 0.0, 0.0, 0.0, 0.0, 0.0, 0.0, 0.0, 0.0, 0.0, 0.0, 0.0, 0.0, 0.0, 0.0, 0.0, 0.0, 0.0, 0.0, 0.0, 0.0, 0.0, 0.0, 0.0, 0.0, 0.0], [0.0, 0.0, -139.3000000000015, 0.0, 0.0, 0.0, 0.0, -16.300000000005355, -106.50000000000546, 0.0, 0.0, 0.0, 0.0, 0.0, 0.0, 0.0, 0.0, 0.0, 0.0, 0.0, 0.0, 0.0, 0.0, 0.0, 0.0, 0.0, 0.0, 0.0, 0.0, 0.0, 0.0, 0.0, 0.0, 0.0, 0.0, 0.0, 0.0, 0.0, 0.0, 0.0, 0.0, 0.0, 0.0, 0.0, 0.0, 0.0, 0.0, 0.0, 0.0, 0.0, 0.0, 0.0, 0.0, 0.0], [0.0, 0.0, 0.0, 0.0, 0.0, 59.200000000001296, -42.3000000000016, -2.0000000000024443, 0.0, 0.0, 0.0, 0.0, 0.0, 0.0, 0.0, 56.00000000000023, 0.0, 170.29999999999745, 0.0, 0.0, 0.0, 0.0, 0.0, 0.0, 0.0, 0.0, 0.0, 0.0, 0.0, 0.0, 0.0, 0.0, 0.0, 0.0, 0.0, 0.0, 0.0, 0.0, 0.0, 0.0, 0.0, 0.0, 0.0, 0.0, 0.0, 0.0, 0.0, 0.0, 0.0, 0.0, 0.0, 0.0, 0.0, 0.0], [0.0, 0.0, 0.0, -62.900000000009015, -8.600000000001273, 0.0, 0.0, 0.0, 0.0, 0.0, 0.0, 0.0, 0.0, 0.0, 0.0, 0.0, 0.0, 0.0, 0.0, 0.0, 0.0, 0.0, 0.0, 0.0, 0.0, 0.0, 0.0, 0.0, 0.0, 0.0, 0.0, 0.0, 0.0, 0.0, 0.0, 0.0, 0.0, 0.0, 0.0, 0.0, 0.0, 0.0, 0.0, 0.0, 0.0, 0.0, 0.0, 0.0, 0.0, 0.0, 0.0, 0.0, 0.0, 0.0], [0.0, -80.90000000001112, 33.59999999999985, 83.69999999999038, 0.0, 0.0, 0.0, 0.0, 128.59999999999587, 0.0, 0.0, 0.0, 0.0, 0.0, 0.0, 0.0, 0.0, 388.4999999999934, 0.0, 0.0, 315.6999999999954, 0.0, 0.0, 0.0, 0.0, 0.0, 0.0, 0.0, 0.0, 0.0, 0.0, 0.0, 0.0, 0.0, 0.0, 0.0, 0.0, 0.0, 0.0, 0.0, 0.0, 348.599999999999, 0.0, 0.0, 0.0, 0.0, 0.0, 163.59999999999673, 0.0, 0.0, 0.0, 0.0, 0.0, -28.90000000000299], [-93.40000000001112, -2.0000000000095497, 0.0, 0.0, 0.0, 0.0, 0.0, 0.0, 0.0, 0.0, 0.0, 0.0, 0.0, 0.0, 0.0, 0.0, 0.0, 0.0, 0.0, 0.0, 0.0, 0.0, 0.0, 0.0, 0.0, 0.0, 0.0, 0.0, 0.0, 0.0, 0.0, 0.0, 0.0, 0.0, 0.0, 0.0, 0.0, 0.0, 0.0, 0.0, 0.0, 0.0, 0.0, 0.0, 0.0, 0.0, 0.0, 0.0, 0.0, 0.0, 0.0, 0.0, 0.0, 0.0], [0.0, 55.099999999988825, 0.0, 0.0, 173.29999999999615, 0.0, 0.0, 99.0999999999957, 0.0, 140.19999999999442, 0.0, 0.0, 0.0, 0.0, 0.0, 0.0, 0.0, 152.79999999999063, 0.0, 0.0, 0.0, 0.0, 0.0, 0.0, 0.0, 0.0, 0.0, 0.0, 0.0, 0.0, 0.0, 0.0, 0.0, 0.0, 0.0, 0.0, 0.0, 0.0, 0.0, 0.0, 0.0, 0.0, 0.0, 0.0, 0.0, 0.0, 0.0, 0.0, 0.0, 0.0, 0.0, 0.0, 0.0, 0.0], [0.0, 0.0, 0.0, 0.0, 0.0, 180.8000000000007, 0.0, 0.0, 127.39999999999583, 0.0, 0.0, 0.0, 0.0, 0.0, 198.89999999999617, 0.0, 0.0, 0.0, 0.0, 0.0, 128.49999999999824, 0.0, 0.0, 0.0, 0.0, 0.0, 0.0, 0.0, 0.0, 0.0, 0.0, 0.0, 0.0, 0.0, 0.0, 0.0, 0.0, 0.0, 0.0, 0.0, 0.0, 0.0, 0.0, 0.0, 0.0, 0.0, 0.0, 0.0, 0.0, 0.0, 0.0, 0.0, 0.0, 0.0], [0.0, 0.0, 0.0, 0.0, 0.0, 0.0, 0.0, 0.0, 0.0, 0.0, 0.0, 0.0, 0.0, 268.39999999999264, 0.0, 0.0, 0.0, 207.49999999999176, 0.0, 0.0, 0.0, 0.0, 0.0, 0.0, 0.0, 0.0, 0.0, 0.0, 0.0, 0.0, 0.0, 0.0, 0.0, 0.0, 0.0, 0.0, 0.0, 0.0, 0.0, 0.0, 0.0, 0.0, 0.0, 0.0, 0.0, 0.0, 0.0, 0.0, 0.0, 0.0, 0.0, 0.0, 0.0, 0.0], [0.0, 0.0, 0.0, 0.0, 0.0, 0.0, 0.0, 0.0, 0.0, 0.0, 0.0, 0.0, 0.0, 0.0, 0.0, 0.0, 0.0, 0.0, 0.0, 0.0, 0.0, 0.0, 0.0, 0.0, 0.0, 0.0, 0.0, 0.0, 0.0, 0.0, 0.0, 0.0, 0.0, 0.0, 0.0, 0.0, 0.0, 0.0, 0.0, 0.0, 0.0, 0.0, 0.0, 0.0, 0.0, 0.0, 0.0, 0.0, 0.0, 0.0, 0.0, 0.0, 0.0, 0.0], [0.0, 0.0, 122.80000000000086, 0.0, 0.0, 397.6999999999961, 0.0, 408.69999999999465, 0.0, 0.0, 0.0, 556.9999999999922, 0.0, 0.0, 0.0, 384.9999999999909, 0.0, 0.0, 0.0, 0.0, 0.0, 0.0, 0.0, 433.09999999999184, 0.0, 0.0, 0.0, 461.3999999999933, 0.0, 0.0, 0.0, 0.0, 0.0, 0.0, 0.0, 0.0, 0.0, 0.0, 0.0, 0.0, 0.0, 0.0, 0.0, 0.0, 0.0, 0.0, 0.0, 0.0, 0.0, 0.0, 0.0, 0.0, 0.0, 378.6999999999936], [0.0, 0.0, 0.0, 0.0, 0.0, 0.0, 0.0, 0.0, 0.0, 0.0, 0.0, 0.0, 0.0, 0.0, 0.0, 0.0, 0.0, 0.0, 0.0, 0.0, 0.0, 0.0, 0.0, 0.0, 0.0, 0.0, 0.0, 0.0, 0.0, 0.0, 0.0, 0.0, 0.0, 0.0, 0.0, 0.0, 0.0, 0.0, 0.0, 0.0, 0.0, 0.0, 0.0, 0.0, 0.0, 0.0, 0.0, 0.0, 0.0, 0.0, 0.0, 0.0, 0.0, 0.0], [0.0, 0.0, 0.0, 0.0, 0.0, 326.79999999999865, 0.0, 0.0, 0.0, 0.0, 0.0, 418.89999999999355, 0.0, 0.0, 0.0, 0.0, 0.0, 0.0, 0.0, 0.0, 0.0, 0.0, 0.0, 0.0, 0.0, 0.0, 0.0, 0.0, 0.0, 0.0, 0.0, 0.0, 0.0, 0.0, 0.0, 0.0, 0.0, 0.0, 0.0, 0.0, 0.0, 0.0, 0.0, 0.0, 0.0, 0.0, 0.0, 0.0, 0.0, 0.0, 0.0, 0.0, 0.0, 0.0], [0.0, 0.0, 0.0, 0.0, 0.0, 426.3999999999996, 0.0, 0.0, 308.69999999999607, 0.0, 0.0, 0.0, 0.0, 0.0, 541.6999999999916, 0.0, 0.0, 0.0, 0.0, 0.0, 0.0, 0.0, 0.0, 0.0, 0.0, 0.0, 0.0, 0.0, 0.0, 0.0, 0.0, 0.0, 0.0, 0.0, 0.0, 0.0, 0.0, 0.0, 0.0, 0.0, 0.0, 0.0, 0.0, 0.0, 0.0, 0.0, 0.0, 0.0, 0.0, 0.0, 0.0, 0.0, 0.0, 0.0], [0.0, 0.0, 0.0, 0.0, 0.0, 0.0, 0.0, 0.0, 0.0, 0.0, 0.0, 0.0, 0.0, 0.0, 0.0, 485.49999999999613, 0.0, 0.0, 0.0, 0.0, 0.0, 0.0, 0.0, 431.099999999995, 0.0, 0.0, 0.0, 0.0, 0.0, 0.0, 0.0, 0.0, 0.0, 0.0, 0.0, 0.0, 0.0, 0.0, 0.0, 0.0, 0.0, 0.0, 0.0, 0.0, 0.0, 0.0, 0.0, 0.0, 0.0, 0.0, 0.0, 0.0, 0.0, 0.0], [0.0, 0.0, 0.0, 0.0, 0.0, 0.0, 0.0, 0.0, 0.0, 0.0, 0.0, 0.0, 0.0, 0.0, 0.0, 0.0, 0.0, 0.0, 0.0, 0.0, 0.0, 0.0, 0.0, 0.0, 0.0, 0.0, 0.0, 0.0, 0.0, 0.0, 0.0, 0.0, 0.0, 0.0, 0.0, 0.0, 0.0, 0.0, 0.0, 0.0, 0.0, 0.0, 0.0, 0.0, 0.0, 0.0, 0.0, 0.0, 0.0, 0.0, 0.0, 0.0, 0.0, 0.0], [0.0, 0.0, 0.0, 0.0, 0.0, 493.39999999999975, 0.0, 361.79999999999666, 0.0, 0.0, 0.0, 0.0, 0.0, 703.2999999999917, 0.0, 0.0, 0.0, 0.0, 0.0, 0.0, 0.0, 0.0, 0.0, 0.0, 0.0, 0.0, 0.0, 0.0, 0.0, 738.8999999999967, 0.0, 0.0, 0.0, 0.0, 0.0, 0.0, 0.0, 0.0, 0.0, 0.0, 0.0, 0.0, 0.0, 0.0, 0.0, 0.0, 0.0, 0.0, 0.0, 0.0, 0.0, 0.0, 0.0, 0.0], [0.0, 0.0, 0.0, 0.0, 0.0, 0.0, 0.0, 0.0, 0.0, 0.0, 0.0, 0.0, 0.0, 0.0, 0.0, 0.0, 0.0, 0.0, 0.0, 0.0, 0.0, 0.0, 0.0, 0.0, 0.0, 0.0, 0.0, 0.0, 0.0, 0.0, 0.0, 0.0, 0.0, 0.0, 0.0, 0.0, 0.0, 0.0, 0.0, 0.0, 0.0, 0.0, 0.0, 0.0, 0.0, 0.0, 0.0, 0.0, 0.0, 0.0, 0.0, 0.0, 0.0, 0.0], [0.0, 0.0, 0.0, 0.0, 0.0, 0.0, 0.0, 0.0, 0.0, 0.0, 0.0, 0.0, 0.0, 0.0, 0.0, 0.0, 0.0, 0.0, 0.0, 0.0, 0.0, 0.0, 0.0, 582.3999999999912, 0.0, 0.0, 0.0, 0.0, 0.0, 0.0, 0.0, 0.0, 0.0, 0.0, 0.0, 620.7999999999913, 0.0, 0.0, 0.0, 0.0, 0.0, 0.0, 0.0, 0.0, 0.0, 0.0, 0.0, 0.0, 0.0, 0.0, 0.0, 0.0, 0.0, 0.0], [0.0, 0.0, 0.0, 0.0, 0.0, 0.0, 0.0, 0.0, 331.4999999999955, 0.0, 0.0, 0.0, 0.0, 0.0, 602.3999999999915, 0.0, 0.0, 926.7999999999959, 0.0, 0.0, 0.0, 0.0, 0.0, 811.4999999999966, 0.0, 0.0, 0.0, 0.0, 0.0, 0.0, 0.0, 0.0, 0.0, 0.0, 0.0, 0.0, 0.0, 0.0, 0.0, 0.0, 0.0, 0.0, 0.0, 0.0, 0.0, 0.0, 0.0, 0.0, 0.0, 0.0, 0.0, 0.0, 0.0, 0.0], [0.0, 0.0, 0.0, 0.0, 0.0, 0.0, 0.0, 0.0, 0.0, 0.0, 0.0, 0.0, 0.0, 0.0, 0.0, 0.0, 0.0, 0.0, 0.0, 0.0, 0.0, 0.0, 0.0, 0.0, 0.0, 0.0, 0.0, 0.0, 0.0, 0.0, 0.0, 0.0, 0.0, 0.0, 0.0, 0.0, 0.0, 0.0, 0.0, 0.0, 0.0, 0.0, 0.0, 0.0, 0.0, 0.0, 0.0, 0.0, 0.0, 0.0, 0.0, 0.0, 0.0, 0.0], [0.0, 0.0, 0.0, 0.0, 0.0, 0.0, 0.0, 0.0, 0.0, 0.0, 0.0, 0.0, 0.0, 0.0, 0.0, 0.0, 0.0, 0.0, 0.0, 0.0, 0.0, 0.0, 0.0, 0.0, 0.0, 0.0, 0.0, 0.0, 0.0, 0.0, 0.0, 0.0, 0.0, 0.0, 0.0, 0.0, 0.0, 0.0, 0.0, 0.0, 0.0, 0.0, 0.0, 0.0, 0.0, 0.0, 0.0, 0.0, 0.0, 0.0, 0.0, 0.0, 0.0, 0.0], [0.0, 0.0, 0.0, 200.89999999999293, 0.0, 0.0, 0.0, 375.6999999999948, 0.0, 0.0, 0.0, 0.0, 0.0, 0.0, 0.0, 0.0, 0.0, 0.0, 0.0, 860.3999999999958, 0.0, 0.0, 0.0, 0.0, 0.0, 0.0, 370.49999999999415, 274.2999999999953, 0.0, 361.0999999999975, 0.0, 285.59999999999656, 0.0, 0.0, 0.0, 329.599999999995, 0.0, 0.0, 0.0, 0.0, 0.0, 1015.1999999999973, 0.0, 0.0, 0.0, 0.0, 0.0, 893.3999999999968, 0.0, 0.0, 0.0, 0.0, 0.0, 0.0], [0.0, 0.0, 0.0, 0.0, 0.0, 0.0, 0.0, 0.0, 0.0, 0.0, 0.0, 0.0, 0.0, 0.0, 0.0, 0.0, 0.0, 0.0, 0.0, 0.0, 0.0, 0.0, 0.0, 0.0, 0.0, 0.0, 0.0, 0.0, 0.0, 0.0, 0.0, 0.0, 0.0, 0.0, 0.0, 0.0, 0.0, 0.0, 0.0, 0.0, 0.0, 0.0, 0.0, 0.0, 0.0, 0.0, 0.0, 0.0, 0.0, 0.0, 0.0, 0.0, 0.0, 0.0], [0.0, 0.0, 0.0, 0.0, 0.0, 0.0, 0.0, 0.0, 0.0, 0.0, 0.0, 0.0, 0.0, 0.0, 0.0, 0.0, 0.0, 0.0, 0.0, 0.0, 0.0, 0.0, 0.0, 0.0, 0.0, 0.0, 0.0, 0.0, 0.0, 0.0, 0.0, 0.0, 0.0, 0.0, 0.0, 0.0, 0.0, 0.0, 0.0, 0.0, 0.0, 0.0, 0.0, 0.0, 0.0, 0.0, 0.0, 0.0, 0.0, 0.0, 0.0, 0.0, 0.0, 0.0], [0.0, 0.0, -202.69999999999868, 0.0, 0.0, 0.0, 0.0, 0.0, 0.0, 0.0, 0.0, 710.7999999999918, 0.0, 0.0, 0.0, 0.0, 0.0, 845.1999999999912, 0.0, 0.0, 0.0, 0.0, 0.0, 590.1999999999916, 0.0, 0.0, 426.5999999999906, 0.0, 0.0, 0.0, 0.0, 0.0, 0.0, 0.0, 0.0, 0.0, 0.0, 0.0, 0.0, 0.0, 0.0, 0.0, 0.0, 0.0, 0.0, 0.0, 0.0, 0.0, 0.0, 0.0, 0.0, 0.0, 0.0, 0.0], [0.0, 0.0, 0.0, 0.0, 0.0, 0.0, 0.0, 0.0, 0.0, 0.0, 0.0, 0.0, 0.0, 0.0, 0.0, 0.0, 0.0, 0.0, 0.0, 0.0, 0.0, 0.0, 0.0, 0.0, 0.0, 0.0, 0.0, 0.0, 0.0, 0.0, 0.0, 0.0, 0.0, 0.0, 0.0, 67.79999999999262, 0.0, 0.0, 0.0, 0.0, 0.0, 0.0, 0.0, 0.0, 0.0, 0.0, 0.0, 0.0, 0.0, 0.0, 0.0, 0.0, 0.0, 0.0], [0.0, 0.0, 0.0, 0.0, 0.0, 0.0, 0.0, 0.0, 0.0, 0.0, 0.0, 0.0, 0.0, 0.0, 0.0, 0.0, 0.0, 0.0, 0.0, 0.0, 0.0, 0.0, 0.0, 0.0, 0.0, 0.0, 0.0, 0.0, 0.0, 0.0, 0.0, 0.0, 0.0, 0.0, 0.0, 0.0, 0.0, 0.0, 0.0, 0.0, 0.0, 0.0, 0.0, 0.0, 0.0, 0.0, 0.0, 0.0, 0.0, 0.0, 0.0, 0.0, 0.0, 0.0], [0.0, 0.0, 0.0, 0.0, 0.0, 0.0, 0.0, 0.0, 0.0, 0.0, 0.0, 0.0, 0.0, 0.0, 0.0, 0.0, 0.0, 832.7999999999946, 0.0, 0.0, 0.0, 0.0, 0.0, 0.0, 0.0, 0.0, 0.0, 0.0, 0.0, 106.59999999999741, 0.0, 0.0, 0.0, 0.0, 0.0, 0.0, 0.0, 0.0, 0.0, 0.0, 0.0, 626.5999999999962, 0.0, 0.0, 0.0, 0.0, 0.0, 0.0, 0.0, 0.0, 0.0, 0.0, 0.0, 25.29999999999717], [0.0, 0.0, 0.0, 0.0, 0.0, 0.0, 0.0, 0.0, 0.0, 0.0, 0.0, 0.0, 0.0, 0.0, 0.0, 0.0, 0.0, 0.0, 0.0, 0.0, 0.0, 0.0, 0.0, 0.0, 0.0, 0.0, 0.0, 0.0, 0.0, 0.0, 0.0, 0.0, 0.0, 0.0, 0.0, 0.0, 0.0, 0.0, 0.0, 0.0, 0.0, 0.0, 0.0, 0.0, 0.0, 0.0, 0.0, 0.0, 0.0, 0.0, 0.0, 0.0, 0.0, 0.0], [0.0, 0.0, 0.0, -169.80000000000643, 0.0, 0.0, 0.0, 155.499999999995, 0.0, 0.0, 0.0, 669.599999999991, 0.0, 0.0, 0.0, 363.9999999999915, 0.0, 0.0, 0.0, 0.0, 0.0, 0.0, 0.0, 0.0, 0.0, 0.0, 0.0, 0.0, 0.0, 0.0, 0.0, 465.49999999999443, 0.0, 0.0, 0.0, 0.0, 0.0, 0.0, 0.0, 0.0, 0.0, 0.0, 0.0, 0.0, 0.0, 0.0, 0.0, 0.0, 0.0, 0.0, 0.0, 0.0, 0.0, 0.0], [0.0, 0.0, 0.0, 0.0, 0.0, 0.0, 0.0, 0.0, 0.0, 0.0, 0.0, 0.0, 0.0, 0.0, 0.0, 0.0, 0.0, 0.0, 0.0, 0.0, 0.0, 0.0, 0.0, 0.0, 0.0, 0.0, 0.0, 0.0, 0.0, 0.0, 0.0, 0.0, 0.0, 0.0, 0.0, 0.0, 0.0, 0.0, 0.0, 0.0, 0.0, 0.0, 0.0, 0.0, 0.0, 0.0, 0.0, 0.0, 0.0, 0.0, 0.0, 0.0, 0.0, 0.0], [0.0, 0.0, 0.0, 0.0, 0.0, 0.0, 0.0, 0.0, 0.0, 0.0, 0.0, 0.0, 0.0, 0.0, 0.0, 0.0, 0.0, 0.0, 0.0, 0.0, 0.0, 0.0, 0.0, 0.0, 0.0, 0.0, 0.0, 0.0, 0.0, 0.0, 0.0, 0.0, 0.0, 0.0, 0.0, 0.0, 0.0, 0.0, 0.0, 0.0, 0.0, 0.0, 0.0, 0.0, 0.0, 0.0, 0.0, 0.0, 0.0, 0.0, 0.0, 0.0, 0.0, 0.0], [0.0, 0.0, 0.0, 0.0, 0.0, 0.0, 0.0, 0.0, 0.0, 0.0, 0.0, 0.0, 0.0, 0.0, 0.0, 0.0, 0.0, 0.0, 0.0, 0.0, 0.0, 0.0, 0.0, 0.0, 0.0, 0.0, 0.0, 0.0, 0.0, 0.0, 0.0, 0.0, 0.0, 0.0, 0.0, 0.0, 0.0, 0.0, 0.0, 0.0, 0.0, 0.0, 0.0, 0.0, 0.0, 0.0, 0.0, 0.0, 0.0, 0.0, 0.0, 0.0, 0.0, 0.0], [0.0, 0.0, 0.0, -33.60000000000696, 0.0, 0.0, 0.0, 0.0, 0.0, 0.0, 0.0, 237.69999999999243, 0.0, 0.0, 0.0, 0.0, 0.0, 531.1999999999955, 0.0, 0.0, 0.0, 0.0, 0.0, 172.6999999999947, 0.0, 0.0, 0.0, 0.0, 0.0, 0.0, 0.0, 0.0, 0.0, 0.0, 0.0, -182.50000000000455, 0.0, 0.0, 0.0, 0.0, 0.0, 0.0, 0.0, 0.0, 0.0, 0.0, 0.0, 0.0, 0.0, 0.0, 0.0, 0.0, 0.0, 115.99999999999682], [0.0, 0.0, 0.0, 0.0, 0.0, 0.0, 0.0, 0.0, 0.0, 0.0, 0.0, 0.0, 0.0, 0.0, 0.0, 0.0, 0.0, 0.0, 0.0, 0.0, 0.0, 0.0, 0.0, 0.0, 0.0, 0.0, 0.0, 0.0, 0.0, 0.0, 0.0, 0.0, 0.0, 0.0, 0.0, 0.0, 0.0, 0.0, 0.0, 0.0, 0.0, 0.0, 0.0, 0.0, 0.0, 0.0, 0.0, 0.0, 0.0, 0.0, 0.0, 0.0, 0.0, 0.0], [0.0, 0.0, 0.0, 0.0, 0.0, 0.0, 0.0, 0.0, 0.0, 0.0, 0.0, 0.0, 0.0, 0.0, 0.0, 0.0, 0.0, 0.0, 0.0, 0.0, 0.0, 0.0, 0.0, 0.0, 0.0, 0.0, 0.0, 0.0, 0.0, 0.0, 0.0, 0.0, 0.0, 0.0, 0.0, 0.0, 0.0, 0.0, 0.0, 0.0, 0.0, 0.0, 0.0, 0.0, 0.0, 0.0, 0.0, 0.0, 0.0, 0.0, 0.0, 0.0, 0.0, 0.0], [0.0, 0.0, 0.0, 0.0, 0.0, 0.0, 0.0, 0.0, 0.0, 0.0, 0.0, 0.0, 0.0, 0.0, 0.0, 0.0, 0.0, 0.0, 0.0, 0.0, 0.0, 0.0, 0.0, 0.0, 0.0, 0.0, 0.0, 0.0, 0.0, 0.0, 0.0, 0.0, 0.0, 0.0, 0.0, 0.0, 0.0, 0.0, 0.0, 0.0, 0.0, 0.0, 0.0, 0.0, 0.0, 0.0, 0.0, 0.0, 0.0, 0.0, 0.0, 0.0, 0.0, 0.0], [0.0, 0.0, 0.0, 0.0, 0.0, 0.0, 0.0, 0.0, 0.0, 0.0, 0.0, 0.0, 0.0, 0.0, 0.0, 0.0, 0.0, 0.0, 0.0, 0.0, 0.0, 0.0, 0.0, 0.0, 0.0, 0.0, 0.0, 0.0, 0.0, 0.0, 0.0, 0.0, 0.0, 0.0, 0.0, 0.0, 0.0, 0.0, 0.0, 0.0, 0.0, 0.0, 0.0, 0.0, 0.0, 0.0, 0.0, 0.0, 0.0, 0.0, 0.0, 0.0, 0.0, 0.0], [0.0, 0.0, 0.0, 0.0, 0.0, 0.0, 0.0, 0.0, 0.0, 0.0, 0.0, 0.0, 0.0, 0.0, 0.0, 0.0, 0.0, 0.0, 0.0, 0.0, 0.0, 0.0, 0.0, 0.0, 0.0, 0.0, 0.0, 0.0, 0.0, 0.0, 0.0, 0.0, 0.0, 0.0, 0.0, 0.0, 0.0, 0.0, 0.0, 0.0, 0.0, 0.0, 0.0, 0.0, 0.0, 0.0, 0.0, 0.0, 0.0, 0.0, 0.0, 0.0, 0.0, 0.0], [0.0, 0.0, 0.0, 0.0, 0.0, 0.0, 0.0, 0.0, 0.0, 0.0, 0.0, 0.0, 0.0, 0.0, 0.0, 0.0, 0.0, 0.0, 0.0, 0.0, 0.0, 0.0, 0.0, 0.0, 0.0, 0.0, 0.0, 0.0, 0.0, 0.0, 0.0, 0.0, 0.0, 0.0, 0.0, 0.0, 0.0, 0.0, 0.0, 0.0, 0.0, 0.0, 0.0, 0.0, 0.0, 0.0, 0.0, 0.0, 0.0, 0.0, 0.0, 0.0, 0.0, 337.4999999999972], [0.0, 0.0, 0.0, 0.0, 0.0, 0.0, 0.0, 0.0, 0.0, 0.0, 0.0, 0.0, 0.0, 0.0, 0.0, 0.0, 0.0, 0.0, 0.0, 0.0, 0.0, 0.0, 0.0, 0.0, 0.0, 0.0, 0.0, 0.0, 0.0, 0.0, 0.0, 0.0, 0.0, 0.0, 0.0, 0.0, 0.0, 0.0, 0.0, 0.0, 0.0, 0.0, 0.0, 0.0, 0.0, 0.0, 0.0, 0.0, 0.0, 0.0, 0.0, 0.0, 0.0, 0.0], [0.0, 0.0, 0.0, 0.0, 0.0, 0.0, 0.0, 0.0, 0.0, 0.0, 0.0, 0.0, 0.0, 0.0, 0.0, 0.0, 0.0, 0.0, 0.0, 0.0, 0.0, 0.0, 0.0, 0.0, 0.0, 0.0, 0.0, 0.0, 0.0, 0.0, 0.0, 0.0, 0.0, 0.0, 0.0, 0.0, 0.0, 0.0, 0.0, 0.0, 0.0, 0.0, 0.0, 0.0, 0.0, 0.0, 0.0, 0.0, 0.0, 0.0, 0.0, 0.0, 0.0, 0.0], [0.0, 0.0, 0.0, 0.0, 0.0, 0.0, 0.0, 0.0, 0.0, 0.0, 0.0, 0.0, 0.0, 0.0, 0.0, 0.0, 0.0, 0.0, 0.0, 0.0, 0.0, 0.0, 0.0, 0.0, 0.0, 0.0, 0.0, 0.0, 0.0, 0.0, 0.0, 0.0, 0.0, 0.0, 0.0, 0.0, 0.0, 0.0, 0.0, 0.0, 0.0, 0.0, 0.0, 0.0, 0.0, 0.0, 0.0, 0.0, 0.0, 0.0, 0.0, 0.0, 0.0, 0.0], [0.0, 0.0, 0.0, 0.0, 0.0, 0.0, 0.0, 0.0, 0.0, 0.0, 0.0, 0.0, 0.0, 0.0, 0.0, 0.0, 0.0, 0.0, 0.0, 0.0, 0.0, 0.0, 0.0, 0.0, 0.0, 0.0, 0.0, 0.0, 0.0, 0.0, 0.0, 0.0, 0.0, 0.0, 0.0, 0.0, 0.0, 0.0, 0.0, 0.0, 0.0, 0.0, 0.0, 0.0, 0.0, 0.0, 0.0, 0.0, 0.0, 0.0, 0.0, 0.0, 0.0, 0.0], [0.0, 0.0, 0.0, 0.0, 0.0, 0.0, 0.0, 0.0, 0.0, 0.0, 0.0, 0.0, 0.0, 0.0, 0.0, 0.0, 0.0, 0.0, 0.0, 0.0, 0.0, 0.0, 0.0, 0.0, 0.0, 0.0, 0.0, 0.0, 0.0, 0.0, 0.0, 0.0, 0.0, 0.0, 0.0, 0.0, 0.0, 0.0, 0.0, 0.0, 0.0, 0.0, 0.0, 0.0, 0.0, 0.0, 0.0, 0.0, 0.0, 0.0, 0.0, 0.0, 0.0, 0.0], [0.0, 0.0, 0.0, 0.0, 0.0, 0.0, 0.0, 0.0, 0.0, 0.0, 0.0, 0.0, 0.0, 0.0, 0.0, 0.0, 0.0, 0.0, 0.0, 0.0, 0.0, 0.0, 0.0, 0.0, 0.0, 0.0, 0.0, 0.0, 0.0, 0.0, 0.0, 0.0, 0.0, 0.0, 0.0, 0.0, 0.0, 0.0, 0.0, 0.0, 0.0, 610.1999999999975, 0.0, 0.0, 0.0, 0.0, 0.0, 0.0, 0.0, 0.0, 0.0, 0.0, 0.0, 636.2999999999986], [0.0, 0.0, 0.0, 0.0, 0.0, 0.0, 0.0, 0.0, 0.0, 0.0, 0.0, 0.0, 0.0, 0.0, 0.0, 0.0, 0.0, 0.0, 0.0, 0.0, 0.0, 0.0, 0.0, 0.0, 0.0, 0.0, 0.0, 0.0, 0.0, 0.0, 0.0, 0.0, 0.0, 0.0, 0.0, 0.0, 0.0, 0.0, 0.0, 0.0, 0.0, 0.0, 0.0, 0.0, 0.0, 0.0, 0.0, 0.0, 0.0, 0.0, 0.0, 0.0, 0.0, 0.0], [0.0, 0.0, 0.0, 0.0, 0.0, 0.0, 0.0, 0.0, 0.0, 0.0, 0.0, 0.0, 0.0, 0.0, 0.0, 0.0, 0.0, 0.0, 0.0, 0.0, 0.0, 0.0, 0.0, 0.0, 0.0, 0.0, 0.0, 0.0, 0.0, 0.0, 0.0, 0.0, 0.0, 0.0, 0.0, 0.0, 0.0, 0.0, 0.0, 0.0, 0.0, 0.0, 0.0, 0.0, 0.0, 0.0, 0.0, 0.0, 0.0, 0.0, 0.0, 0.0, 0.0, 0.0], [0.0, 0.0, 0.0, 0.0, 0.0, 0.0, 0.0, 0.0, 0.0, 0.0, 0.0, 0.0, 0.0, 0.0, 0.0, 0.0, 0.0, 0.0, 0.0, 0.0, 0.0, 0.0, 0.0, 0.0, 0.0, 0.0, 0.0, 0.0, 0.0, 0.0, 0.0, 0.0, 0.0, 0.0, 0.0, 0.0, 0.0, 0.0, 0.0, 0.0, 0.0, 0.0, 0.0, 0.0, 0.0, 0.0, 0.0, 0.0, 0.0, 0.0, 0.0, 0.0, 0.0, 0.0], [0.0, 0.0, 0.0, 0.0, 0.0, 0.0, 0.0, 0.0, 0.0, 0.0, 0.0, 0.0, 0.0, 0.0, 0.0, 0.0, 0.0, 0.0, 0.0, 0.0, 0.0, 0.0, 0.0, 0.0, 0.0, 0.0, 0.0, 0.0, 0.0, 0.0, 0.0, 0.0, 0.0, 0.0, 0.0, 0.0, 0.0, 0.0, 0.0, 0.0, 0.0, 0.0, 0.0, 0.0, 0.0, 0.0, 0.0, 0.0, 0.0, 0.0, 0.0, 0.0, 0.0, 0.0], [0.0, 0.0, 0.0, 0.0, 0.0, 0.0, 0.0, 0.0, 0.0, 0.0, 0.0, 0.0, 0.0, 0.0, 0.0, 0.0, 0.0, 0.0, 0.0, 0.0, 0.0, 0.0, 0.0, 0.0, 0.0, 0.0, 0.0, 0.0, 0.0, 0.0, 0.0, 0.0, 0.0, 0.0, 0.0, 0.0, 0.0, 0.0, 0.0, 0.0, 0.0, 0.0, 0.0, 0.0, 0.0, 0.0, 0.0, 0.0, 0.0, 0.0, 0.0, 0.0, 0.0, 0.0], [0.0, 0.0, 0.0, 0.0, 0.0, 0.0, 0.0, 0.0, 0.0, 0.0, 0.0, -221.20000000000744, 0.0, 0.0, 0.0, 0.0, 0.0, 0.0, 0.0, 0.0, 0.0, 0.0, 0.0, 0.0, 0.0, 0.0, 0.0, 0.0, 0.0, 0.0, 0.0, 0.0, 0.0, 0.0, 0.0, -121.1000000000027, 0.0, 0.0, 0.0, 0.0, 0.0, 99.59999999999667, 0.0, 0.0, 0.0, 0.0, 0.0, -54.700000000001125, 0.0, 0.0, 0.0, 0.0, 0.0, 0.0]], \"type\": \"surface\"}], {\"scene\": {\"zaxis\": {\"zerolinecolor\": \"rgb(255, 255, 255)\", \"gridcolor\": \"rgb(255, 255, 255)\", \"showbackground\": true, \"backgroundcolor\": \"rgb(204, 204, 204)\"}, \"xaxis\": {\"zerolinecolor\": \"rgb(255, 255, 255)\", \"gridcolor\": \"rgb(255, 255, 255)\", \"showbackground\": true, \"backgroundcolor\": \"rgb(204, 204, 204)\"}, \"yaxis\": {\"zerolinecolor\": \"rgb(255, 255, 255)\", \"gridcolor\": \"rgb(255, 255, 255)\", \"showbackground\": true, \"backgroundcolor\": \"rgb(204, 204, 204)\"}}, \"title\": \"Response Surface Analysis\"}, {\"linkText\": \"Export to plot.ly\", \"showLink\": true})</script>"
      ],
      "text/plain": [
       "<IPython.core.display.HTML object>"
      ]
     },
     "metadata": {},
     "output_type": "display_data"
    },
    {
     "data": {
      "text/html": [
       "<div id=\"1a5c437f-44ea-4dae-b2cd-17b32ca9558a\" style=\"height: 525; width: 100%;\" class=\"plotly-graph-div\"></div><script type=\"text/javascript\">window.PLOTLYENV=window.PLOTLYENV || {};window.PLOTLYENV.BASE_URL=\"https://plot.ly\";Plotly.newPlot(\"1a5c437f-44ea-4dae-b2cd-17b32ca9558a\", [{\"y\": [[-1.0, -1.0, -1.0, -1.0, -1.0, -1.0, -1.0, -1.0, -1.0, -1.0, -1.0, -1.0, -1.0, -1.0, -1.0, -1.0, -1.0, -1.0], [-0.8823529411764706, -0.8823529411764706, -0.8823529411764706, -0.8823529411764706, -0.8823529411764706, -0.8823529411764706, -0.8823529411764706, -0.8823529411764706, -0.8823529411764706, -0.8823529411764706, -0.8823529411764706, -0.8823529411764706, -0.8823529411764706, -0.8823529411764706, -0.8823529411764706, -0.8823529411764706, -0.8823529411764706, -0.8823529411764706], [-0.7647058823529411, -0.7647058823529411, -0.7647058823529411, -0.7647058823529411, -0.7647058823529411, -0.7647058823529411, -0.7647058823529411, -0.7647058823529411, -0.7647058823529411, -0.7647058823529411, -0.7647058823529411, -0.7647058823529411, -0.7647058823529411, -0.7647058823529411, -0.7647058823529411, -0.7647058823529411, -0.7647058823529411, -0.7647058823529411], [-0.6470588235294118, -0.6470588235294118, -0.6470588235294118, -0.6470588235294118, -0.6470588235294118, -0.6470588235294118, -0.6470588235294118, -0.6470588235294118, -0.6470588235294118, -0.6470588235294118, -0.6470588235294118, -0.6470588235294118, -0.6470588235294118, -0.6470588235294118, -0.6470588235294118, -0.6470588235294118, -0.6470588235294118, -0.6470588235294118], [-0.5294117647058824, -0.5294117647058824, -0.5294117647058824, -0.5294117647058824, -0.5294117647058824, -0.5294117647058824, -0.5294117647058824, -0.5294117647058824, -0.5294117647058824, -0.5294117647058824, -0.5294117647058824, -0.5294117647058824, -0.5294117647058824, -0.5294117647058824, -0.5294117647058824, -0.5294117647058824, -0.5294117647058824, -0.5294117647058824], [-0.4117647058823529, -0.4117647058823529, -0.4117647058823529, -0.4117647058823529, -0.4117647058823529, -0.4117647058823529, -0.4117647058823529, -0.4117647058823529, -0.4117647058823529, -0.4117647058823529, -0.4117647058823529, -0.4117647058823529, -0.4117647058823529, -0.4117647058823529, -0.4117647058823529, -0.4117647058823529, -0.4117647058823529, -0.4117647058823529], [-0.2941176470588236, -0.2941176470588236, -0.2941176470588236, -0.2941176470588236, -0.2941176470588236, -0.2941176470588236, -0.2941176470588236, -0.2941176470588236, -0.2941176470588236, -0.2941176470588236, -0.2941176470588236, -0.2941176470588236, -0.2941176470588236, -0.2941176470588236, -0.2941176470588236, -0.2941176470588236, -0.2941176470588236, -0.2941176470588236], [-0.17647058823529416, -0.17647058823529416, -0.17647058823529416, -0.17647058823529416, -0.17647058823529416, -0.17647058823529416, -0.17647058823529416, -0.17647058823529416, -0.17647058823529416, -0.17647058823529416, -0.17647058823529416, -0.17647058823529416, -0.17647058823529416, -0.17647058823529416, -0.17647058823529416, -0.17647058823529416, -0.17647058823529416, -0.17647058823529416], [-0.05882352941176472, -0.05882352941176472, -0.05882352941176472, -0.05882352941176472, -0.05882352941176472, -0.05882352941176472, -0.05882352941176472, -0.05882352941176472, -0.05882352941176472, -0.05882352941176472, -0.05882352941176472, -0.05882352941176472, -0.05882352941176472, -0.05882352941176472, -0.05882352941176472, -0.05882352941176472, -0.05882352941176472, -0.05882352941176472], [0.05882352941176472, 0.05882352941176472, 0.05882352941176472, 0.05882352941176472, 0.05882352941176472, 0.05882352941176472, 0.05882352941176472, 0.05882352941176472, 0.05882352941176472, 0.05882352941176472, 0.05882352941176472, 0.05882352941176472, 0.05882352941176472, 0.05882352941176472, 0.05882352941176472, 0.05882352941176472, 0.05882352941176472, 0.05882352941176472], [0.17647058823529416, 0.17647058823529416, 0.17647058823529416, 0.17647058823529416, 0.17647058823529416, 0.17647058823529416, 0.17647058823529416, 0.17647058823529416, 0.17647058823529416, 0.17647058823529416, 0.17647058823529416, 0.17647058823529416, 0.17647058823529416, 0.17647058823529416, 0.17647058823529416, 0.17647058823529416, 0.17647058823529416, 0.17647058823529416], [0.2941176470588236, 0.2941176470588236, 0.2941176470588236, 0.2941176470588236, 0.2941176470588236, 0.2941176470588236, 0.2941176470588236, 0.2941176470588236, 0.2941176470588236, 0.2941176470588236, 0.2941176470588236, 0.2941176470588236, 0.2941176470588236, 0.2941176470588236, 0.2941176470588236, 0.2941176470588236, 0.2941176470588236, 0.2941176470588236], [0.4117647058823528, 0.4117647058823528, 0.4117647058823528, 0.4117647058823528, 0.4117647058823528, 0.4117647058823528, 0.4117647058823528, 0.4117647058823528, 0.4117647058823528, 0.4117647058823528, 0.4117647058823528, 0.4117647058823528, 0.4117647058823528, 0.4117647058823528, 0.4117647058823528, 0.4117647058823528, 0.4117647058823528, 0.4117647058823528], [0.5294117647058822, 0.5294117647058822, 0.5294117647058822, 0.5294117647058822, 0.5294117647058822, 0.5294117647058822, 0.5294117647058822, 0.5294117647058822, 0.5294117647058822, 0.5294117647058822, 0.5294117647058822, 0.5294117647058822, 0.5294117647058822, 0.5294117647058822, 0.5294117647058822, 0.5294117647058822, 0.5294117647058822, 0.5294117647058822], [0.6470588235294117, 0.6470588235294117, 0.6470588235294117, 0.6470588235294117, 0.6470588235294117, 0.6470588235294117, 0.6470588235294117, 0.6470588235294117, 0.6470588235294117, 0.6470588235294117, 0.6470588235294117, 0.6470588235294117, 0.6470588235294117, 0.6470588235294117, 0.6470588235294117, 0.6470588235294117, 0.6470588235294117, 0.6470588235294117], [0.7647058823529411, 0.7647058823529411, 0.7647058823529411, 0.7647058823529411, 0.7647058823529411, 0.7647058823529411, 0.7647058823529411, 0.7647058823529411, 0.7647058823529411, 0.7647058823529411, 0.7647058823529411, 0.7647058823529411, 0.7647058823529411, 0.7647058823529411, 0.7647058823529411, 0.7647058823529411, 0.7647058823529411, 0.7647058823529411], [0.8823529411764706, 0.8823529411764706, 0.8823529411764706, 0.8823529411764706, 0.8823529411764706, 0.8823529411764706, 0.8823529411764706, 0.8823529411764706, 0.8823529411764706, 0.8823529411764706, 0.8823529411764706, 0.8823529411764706, 0.8823529411764706, 0.8823529411764706, 0.8823529411764706, 0.8823529411764706, 0.8823529411764706, 0.8823529411764706], [1.0, 1.0, 1.0, 1.0, 1.0, 1.0, 1.0, 1.0, 1.0, 1.0, 1.0, 1.0, 1.0, 1.0, 1.0, 1.0, 1.0, 1.0]], \"x\": [[-1.0, -0.8823529411764706, -0.7647058823529411, -0.6470588235294118, -0.5294117647058824, -0.4117647058823529, -0.2941176470588236, -0.17647058823529416, -0.05882352941176472, 0.05882352941176472, 0.17647058823529416, 0.2941176470588236, 0.4117647058823528, 0.5294117647058822, 0.6470588235294117, 0.7647058823529411, 0.8823529411764706, 1.0], [-1.0, -0.8823529411764706, -0.7647058823529411, -0.6470588235294118, -0.5294117647058824, -0.4117647058823529, -0.2941176470588236, -0.17647058823529416, -0.05882352941176472, 0.05882352941176472, 0.17647058823529416, 0.2941176470588236, 0.4117647058823528, 0.5294117647058822, 0.6470588235294117, 0.7647058823529411, 0.8823529411764706, 1.0], [-1.0, -0.8823529411764706, -0.7647058823529411, -0.6470588235294118, -0.5294117647058824, -0.4117647058823529, -0.2941176470588236, -0.17647058823529416, -0.05882352941176472, 0.05882352941176472, 0.17647058823529416, 0.2941176470588236, 0.4117647058823528, 0.5294117647058822, 0.6470588235294117, 0.7647058823529411, 0.8823529411764706, 1.0], [-1.0, -0.8823529411764706, -0.7647058823529411, -0.6470588235294118, -0.5294117647058824, -0.4117647058823529, -0.2941176470588236, -0.17647058823529416, -0.05882352941176472, 0.05882352941176472, 0.17647058823529416, 0.2941176470588236, 0.4117647058823528, 0.5294117647058822, 0.6470588235294117, 0.7647058823529411, 0.8823529411764706, 1.0], [-1.0, -0.8823529411764706, -0.7647058823529411, -0.6470588235294118, -0.5294117647058824, -0.4117647058823529, -0.2941176470588236, -0.17647058823529416, -0.05882352941176472, 0.05882352941176472, 0.17647058823529416, 0.2941176470588236, 0.4117647058823528, 0.5294117647058822, 0.6470588235294117, 0.7647058823529411, 0.8823529411764706, 1.0], [-1.0, -0.8823529411764706, -0.7647058823529411, -0.6470588235294118, -0.5294117647058824, -0.4117647058823529, -0.2941176470588236, -0.17647058823529416, -0.05882352941176472, 0.05882352941176472, 0.17647058823529416, 0.2941176470588236, 0.4117647058823528, 0.5294117647058822, 0.6470588235294117, 0.7647058823529411, 0.8823529411764706, 1.0], [-1.0, -0.8823529411764706, -0.7647058823529411, -0.6470588235294118, -0.5294117647058824, -0.4117647058823529, -0.2941176470588236, -0.17647058823529416, -0.05882352941176472, 0.05882352941176472, 0.17647058823529416, 0.2941176470588236, 0.4117647058823528, 0.5294117647058822, 0.6470588235294117, 0.7647058823529411, 0.8823529411764706, 1.0], [-1.0, -0.8823529411764706, -0.7647058823529411, -0.6470588235294118, -0.5294117647058824, -0.4117647058823529, -0.2941176470588236, -0.17647058823529416, -0.05882352941176472, 0.05882352941176472, 0.17647058823529416, 0.2941176470588236, 0.4117647058823528, 0.5294117647058822, 0.6470588235294117, 0.7647058823529411, 0.8823529411764706, 1.0], [-1.0, -0.8823529411764706, -0.7647058823529411, -0.6470588235294118, -0.5294117647058824, -0.4117647058823529, -0.2941176470588236, -0.17647058823529416, -0.05882352941176472, 0.05882352941176472, 0.17647058823529416, 0.2941176470588236, 0.4117647058823528, 0.5294117647058822, 0.6470588235294117, 0.7647058823529411, 0.8823529411764706, 1.0], [-1.0, -0.8823529411764706, -0.7647058823529411, -0.6470588235294118, -0.5294117647058824, -0.4117647058823529, -0.2941176470588236, -0.17647058823529416, -0.05882352941176472, 0.05882352941176472, 0.17647058823529416, 0.2941176470588236, 0.4117647058823528, 0.5294117647058822, 0.6470588235294117, 0.7647058823529411, 0.8823529411764706, 1.0], [-1.0, -0.8823529411764706, -0.7647058823529411, -0.6470588235294118, -0.5294117647058824, -0.4117647058823529, -0.2941176470588236, -0.17647058823529416, -0.05882352941176472, 0.05882352941176472, 0.17647058823529416, 0.2941176470588236, 0.4117647058823528, 0.5294117647058822, 0.6470588235294117, 0.7647058823529411, 0.8823529411764706, 1.0], [-1.0, -0.8823529411764706, -0.7647058823529411, -0.6470588235294118, -0.5294117647058824, -0.4117647058823529, -0.2941176470588236, -0.17647058823529416, -0.05882352941176472, 0.05882352941176472, 0.17647058823529416, 0.2941176470588236, 0.4117647058823528, 0.5294117647058822, 0.6470588235294117, 0.7647058823529411, 0.8823529411764706, 1.0], [-1.0, -0.8823529411764706, -0.7647058823529411, -0.6470588235294118, -0.5294117647058824, -0.4117647058823529, -0.2941176470588236, -0.17647058823529416, -0.05882352941176472, 0.05882352941176472, 0.17647058823529416, 0.2941176470588236, 0.4117647058823528, 0.5294117647058822, 0.6470588235294117, 0.7647058823529411, 0.8823529411764706, 1.0], [-1.0, -0.8823529411764706, -0.7647058823529411, -0.6470588235294118, -0.5294117647058824, -0.4117647058823529, -0.2941176470588236, -0.17647058823529416, -0.05882352941176472, 0.05882352941176472, 0.17647058823529416, 0.2941176470588236, 0.4117647058823528, 0.5294117647058822, 0.6470588235294117, 0.7647058823529411, 0.8823529411764706, 1.0], [-1.0, -0.8823529411764706, -0.7647058823529411, -0.6470588235294118, -0.5294117647058824, -0.4117647058823529, -0.2941176470588236, -0.17647058823529416, -0.05882352941176472, 0.05882352941176472, 0.17647058823529416, 0.2941176470588236, 0.4117647058823528, 0.5294117647058822, 0.6470588235294117, 0.7647058823529411, 0.8823529411764706, 1.0], [-1.0, -0.8823529411764706, -0.7647058823529411, -0.6470588235294118, -0.5294117647058824, -0.4117647058823529, -0.2941176470588236, -0.17647058823529416, -0.05882352941176472, 0.05882352941176472, 0.17647058823529416, 0.2941176470588236, 0.4117647058823528, 0.5294117647058822, 0.6470588235294117, 0.7647058823529411, 0.8823529411764706, 1.0], [-1.0, -0.8823529411764706, -0.7647058823529411, -0.6470588235294118, -0.5294117647058824, -0.4117647058823529, -0.2941176470588236, -0.17647058823529416, -0.05882352941176472, 0.05882352941176472, 0.17647058823529416, 0.2941176470588236, 0.4117647058823528, 0.5294117647058822, 0.6470588235294117, 0.7647058823529411, 0.8823529411764706, 1.0], [-1.0, -0.8823529411764706, -0.7647058823529411, -0.6470588235294118, -0.5294117647058824, -0.4117647058823529, -0.2941176470588236, -0.17647058823529416, -0.05882352941176472, 0.05882352941176472, 0.17647058823529416, 0.2941176470588236, 0.4117647058823528, 0.5294117647058822, 0.6470588235294117, 0.7647058823529411, 0.8823529411764706, 1.0]], \"z\": [[-62.00000000000898, 49.69999999999857, 177.90000000000106, 265.40000000000106, 338.7999999999991, 304.89999999999924, 275.8999999999986, 362.3999999999995, 479.3999999999983, 479.3999999999983, 479.3999999999983, 479.3999999999983, 479.3999999999983, 479.3999999999983, 479.3999999999983, 479.3999999999983, 479.3999999999983, 479.3999999999983], [-190.50000000000864, -58.000000000008356, -42.3000000000016, -47.70000000000181, 15.199999999998681, 56.00000000000023, 243.99999999999693, 120.69999999999794, 115.89999999999918, 98.09999999999945, 153.20000000000107, 16.099999999998715, 138.89999999999674, 264.99999999999915, 218.69999999999976, 107.20000000000027, 50.79999999999956, -61.69999999999902], [-93.40000000001112, 252.2999999999911, 117.19999999999828, 296.3999999999956, 256.6999999999936, 216.19999999999635, 202.79999999999347, 296.69999999999135, 289.39999999999344, 179.2999999999921, 292.49999999999545, 190.39999999999253, 295.1999999999913, 377.3999999999944, 442.9999999999964, 348.7999999999971, 285.8999999999966, 143.59999999999786], [-55.80000000000922, 251.69999999999106, 187.5999999999948, 326.0999999999953, 296.99999999999136, 128.59999999999303, 109.19999999999277, 189.29999999999154, 119.29999999999552, 67.89999999999452, 193.19999999999453, 78.09999999999064, 170.49999999998988, 420.19999999999266, 512.9999999999924, 449.5999999999924, 390.89999999999344, 216.299999999994], [-41.70000000001153, 102.49999999999062, 171.899999999998, 352.3999999999958, 360.1999999999933, 322.6999999999947, 294.1999999999936, 293.39999999999407, 227.39999999999583, 319.69999999999317, 448.7999999999971, 452.8999999999954, 387.5999999999934, 702.0999999999972, 645.1999999999957, 581.7999999999954, 523.0999999999966, 321.99999999999704], [-41.90000000001248, 154.79999999999308, 350.29999999999575, 503.999999999995, 458.3999999999932, 485.49999999999613, 497.89999999999424, 437.1999999999957, 373.19999999999567, 494.099999999996, 696.2999999999995, 687.1999999999973, 621.8999999999951, 936.5999999999972, 879.6999999999955, 816.2999999999952, 757.5999999999965, 522.7999999999979], [-85.40000000001129, 218.59999999999502, 359.7999999999985, 541.4999999999934, 563.5999999999897, 526.7999999999944, 642.4999999999912, 579.5999999999922, 529.7999999999945, 464.79999999999393, 720.7999999999984, 694.299999999997, 628.999999999995, 944.9999999999974, 888.0999999999958, 824.6999999999956, 765.9999999999969, 502.6999999999973], [-144.40000000001163, 87.7999999999929, 371.0999999999956, 518.7999999999931, 446.9999999999898, 500.2999999999944, 893.0999999999927, 817.7999999999926, 786.7999999999952, 738.7999999999948, 823.5999999999975, 769.099999999996, 702.3999999999944, 1020.6999999999952, 962.6999999999938, 900.799999999994, 842.1999999999955, 542.9999999999949], [-106.0000000000116, 230.6999999999931, 406.299999999996, 824.0999999999942, 595.1999999999912, 647.2999999999971, 986.2999999999971, 808.8999999999942, 771.3999999999984, 331.49999999999693, 389.29999999999876, 265.9999999999954, 170.2999999999946, 919.4999999999949, 927.2999999999953, 865.3999999999953, 806.7999999999969, 482.99999999999545], [-208.60000000001264, 56.899999999990314, 464.5999999999944, 845.8999999999949, 598.599999999992, 429.999999999994, 732.4999999999945, 516.1999999999936, 450.29999999999575, 237.29999999999336, 280.9999999999974, 135.39999999999424, 34.59999999999326, 791.599999999994, 864.9999999999934, 806.9999999999936, 754.1999999999944, 401.2999999999947], [-172.2000000000122, 156.89999999999316, 392.8999999999931, 938.499999999992, 640.6999999999896, 549.3999999999901, 942.1999999999923, 558.2999999999914, 468.79999999999313, 252.49999999999204, 281.0999999999965, 143.69999999999402, 39.99999999999346, 823.7999999999943, 787.699999999991, 719.6999999999916, 650.699999999992, 250.39999999999338], [-135.70000000000988, -93.40000000000543, 50.59999999999718, 167.6999999999964, 410.09999999999565, 460.0999999999972, 647.3999999999976, 453.69999999999766, 301.0999999999996, 71.89999999999799, 269.7999999999994, 149.39999999999708, 50.099999999996214, 889.4999999999952, 1025.4999999999952, 967.4999999999955, 914.6999999999962, 498.8999999999976], [-104.50000000001154, -18.20000000000732, 161.1999999999952, 347.29999999999427, 168.39999999999122, 330.799999999995, 523.0999999999967, 311.3999999999933, 143.6999999999955, -115.70000000000675, 65.29999999999774, -69.30000000000547, -183.100000000006, 668.6999999999941, 787.8999999999949, 718.0999999999954, 647.8999999999958, 189.59999999999587], [-78.10000000001054, -105.20000000000493, 255.09999999999735, 453.79999999999694, 274.89999999999384, 432.39999999999566, 644.8999999999955, 432.9999999999926, 265.2999999999949, -8.800000000006492, 177.99999999999733, 43.39999999999401, -70.40000000000646, 809.3999999999924, 928.5999999999932, 858.7999999999936, 788.5999999999938, 302.2999999999953], [-41.50000000001057, -264.9000000000058, 144.59999999999695, 357.69999999999555, 178.79999999999256, 560.9999999999959, 779.2999999999963, 564.5999999999931, 396.8999999999951, 107.69999999999271, 86.39999999999901, -48.200000000004195, -162.00000000000472, 824.9999999999943, 944.199999999995, 874.3999999999957, 804.199999999996, 210.6999999999971], [-217.1000000000106, -435.20000000000607, -220.10000000000076, 61.899999999995714, -87.00000000000614, 314.7999999999982, 870.2999999999988, 800.3999999999977, 688.6999999999971, 279.3999999999968, 104.80000000000018, -15.800000000001546, -117.00000000000159, 406.69999999999646, 517.5999999999988, 454.9999999999997, 387.89999999999765, 73.99999999999949], [-217.1000000000106, -395.300000000006, -134.50000000000273, 174.3999999999943, -98.700000000008, 321.2999999999966, 601.7999999999972, 536.4999999999966, 447.899999999997, 688.0999999999957, 511.7999999999981, 441.6999999999973, 349.69999999999715, 470.3999999999965, 592.7999999999984, 548.399999999998, 498.69999999999663, 433.49999999999795], [-202.600000000011, -369.70000000000596, -384.30000000000325, -79.90000000000634, -363.10000000000855, -232.20000000000312, 52.59999999999678, -14.70000000000482, -121.5000000000046, 190.09999999999394, 1.799999999997226, -84.80000000000268, -191.6000000000039, -84.0000000000046, 21.599999999997976, -39.70000000000198, -104.10000000000394, -184.8000000000028]], \"type\": \"surface\"}], {\"scene\": {\"zaxis\": {\"zerolinecolor\": \"rgb(255, 255, 255)\", \"gridcolor\": \"rgb(255, 255, 255)\", \"showbackground\": true, \"backgroundcolor\": \"rgb(204, 204, 204)\"}, \"xaxis\": {\"zerolinecolor\": \"rgb(255, 255, 255)\", \"gridcolor\": \"rgb(255, 255, 255)\", \"showbackground\": true, \"backgroundcolor\": \"rgb(204, 204, 204)\"}, \"yaxis\": {\"zerolinecolor\": \"rgb(255, 255, 255)\", \"gridcolor\": \"rgb(255, 255, 255)\", \"showbackground\": true, \"backgroundcolor\": \"rgb(204, 204, 204)\"}}, \"title\": \"Response Surface Analysis\"}, {\"linkText\": \"Export to plot.ly\", \"showLink\": true})</script>"
      ],
      "text/plain": [
       "<IPython.core.display.HTML object>"
      ]
     },
     "metadata": {},
     "output_type": "display_data"
    }
   ],
   "source": [
    "fig = Figure(data=[trace1], layout=layout)\n",
    "iplot(fig)\n",
    "fig2 = Figure(data=[trace2], layout=layout)\n",
    "iplot(fig2)"
   ]
  },
  {
   "cell_type": "code",
   "execution_count": null,
   "metadata": {
    "collapsed": true
   },
   "outputs": [],
   "source": []
  },
  {
   "cell_type": "code",
   "execution_count": null,
   "metadata": {
    "collapsed": true
   },
   "outputs": [],
   "source": []
  },
  {
   "cell_type": "code",
   "execution_count": null,
   "metadata": {
    "collapsed": true
   },
   "outputs": [],
   "source": []
  },
  {
   "cell_type": "code",
   "execution_count": 163,
   "metadata": {
    "collapsed": false
   },
   "outputs": [
    {
     "data": {
      "text/plain": [
       "(18, 18)"
      ]
     },
     "execution_count": 163,
     "metadata": {},
     "output_type": "execute_result"
    }
   ],
   "source": [
    "np.shape(gg)"
   ]
  },
  {
   "cell_type": "code",
   "execution_count": 164,
   "metadata": {
    "collapsed": true
   },
   "outputs": [],
   "source": [
    "sh = np.shape(gg)\n",
    "xs = np.linspace(-1, 1, sh[0])\n",
    "ys = np.linspace(-1, 1, sh[1])\n",
    "X, Y = np.meshgrid(xs, ys)"
   ]
  },
  {
   "cell_type": "code",
   "execution_count": 202,
   "metadata": {
    "collapsed": false
   },
   "outputs": [
    {
     "data": {
      "image/png": "[encoded data removed]",
      "text/plain": [
       "<matplotlib.figure.Figure at 0x7ff81a341050>"
      ]
     },
     "metadata": {},
     "output_type": "display_data"
    }
   ],
   "source": [
    "fig = plt.figure()\n",
    "ax = fig.gca(projection='3d')\n",
    "ax.plot_wireframe(X,\n",
    "                  Y,\n",
    "                  gg,\n",
    "                  rstride=1,\n",
    "                  cstride=2\n",
    "                 )\n",
    "plt.show()"
   ]
  },
  {
   "cell_type": "code",
   "execution_count": 58,
   "metadata": {
    "collapsed": false
   },
   "outputs": [],
   "source": [
    "x, y = np.random.randn(2, 50)"
   ]
  },
  {
   "cell_type": "code",
   "execution_count": 70,
   "metadata": {
    "collapsed": false
   },
   "outputs": [],
   "source": [
    "x,y = gg[:,0],gg[0,:]"
   ]
  },
  {
   "cell_type": "code",
   "execution_count": 72,
   "metadata": {
    "collapsed": false
   },
   "outputs": [
    {
     "data": {
      "image/png": "[encoded data removed]",
      "text/plain": [
       "<matplotlib.figure.Figure at 0x7ff81a1e3c10>"
      ]
     },
     "metadata": {},
     "output_type": "display_data"
    }
   ],
   "source": [
    "cmap = sns.cubehelix_palette(as_cmap=True, dark=0, light=1, reverse=True)\n",
    "ax = sns.kdeplot(x, y, shade=True, cut=5, cmap=cmap)"
   ]
  },
  {
   "cell_type": "code",
   "execution_count": 42,
   "metadata": {
    "collapsed": false
   },
   "outputs": [
    {
     "data": {
      "image/png": "[encoded data removed]",
      "text/plain": [
       "<matplotlib.figure.Figure at 0x7f70331a1150>"
      ]
     },
     "metadata": {},
     "output_type": "display_data"
    },
    {
     "data": {
      "image/png": "[encoded data removed]",
      "text/plain": [
       "<matplotlib.figure.Figure at 0x7f7033195f10>"
      ]
     },
     "metadata": {},
     "output_type": "display_data"
    },
    {
     "data": {
      "image/png": "[encoded data removed]",
      "text/plain": [
       "<matplotlib.figure.Figure at 0x7f7151889310>"
      ]
     },
     "metadata": {},
     "output_type": "display_data"
    }
   ],
   "source": [
    "sns.palplot(sns.cubehelix_palette())\n",
    "sns.palplot(sns.cubehelix_palette(rot=-.4))\n",
    "sns.palplot(sns.cubehelix_palette(start=2.8, rot=.1))"
   ]
  },
  {
   "cell_type": "code",
   "execution_count": 58,
   "metadata": {
    "collapsed": false
   },
   "outputs": [
    {
     "data": {
      "text/plain": [
       "array([[120, 90, 0.8, 967.49999999999557, 27],\n",
       "       [135, 90, 0.8, 845.19999999999118, 28],\n",
       "       [105, 105, 0.8, 827.79999999999768, 30],\n",
       "       [90, 240, 0.8, 800.5999999999957, 23],\n",
       "       [180, 210, 0.8, 788.39999999999577, 15],\n",
       "       [120, 120, 0.8, 762.79999999999575, 26],\n",
       "       [90, 90, 0.8, 725.79999999999393, 38],\n",
       "       [135, 60, 0.8, 710.79999999999177, 36],\n",
       "       [100, 160, 0.8, 668.89999999999509, 25],\n",
       "       [240, 270, 0.8, 636.29999999999859, 9],\n",
       "       [60, 240, 0.8, 619.19999999999231, 29],\n",
       "       [120, 60, 0.8, 611.99999999999318, 37],\n",
       "       [240, 90, 0.8, 597.399999999996, 15],\n",
       "       [80, 70, 0.8, 581.5999999999932, 41],\n",
       "       [135, 75, 0.8, 577.6999999999889, 34],\n",
       "       [60, 60, 0.8, 556.99999999999216, 45],\n",
       "       [90, 120, 0.8, 556.89999999999463, 34],\n",
       "       [135, 30, 0.8, 540.99999999999682, 40],\n",
       "       [120, 270, 0.8, 532.09999999999695, 17],\n",
       "       [90, 30, 0.8, 493.39999999999975, 47]], dtype=object)"
      ]
     },
     "execution_count": 58,
     "metadata": {},
     "output_type": "execute_result"
    }
   ],
   "source": [
    "best_params = np.array(sorted(log,key=lambda a: a[3],reverse=True))\n",
    "best_params[:20][:,[0,1,2,3,4]]"
   ]
  },
  {
   "cell_type": "markdown",
   "metadata": {},
   "source": [
    "### Hierarchical experiment\n",
    "(pseudo finetuning)"
   ]
  },
  {
   "cell_type": "code",
   "execution_count": 341,
   "metadata": {
    "collapsed": false
   },
   "outputs": [
    {
     "name": "stdout",
     "output_type": "stream",
     "text": [
      "CPU times: user 11.8 s, sys: 13.6 s, total: 25.5 s\n",
      "Wall time: 25.4 s\n"
     ]
    }
   ],
   "source": [
    "%%time\n",
    "\n",
    "best = best_params[0]\n",
    "\n",
    "# '15Min': [5, 10, 15, 20, 30]\n",
    "backtest = Backtest(\"USDJPY\",scores=bt_result)\n",
    "\n",
    "trials = 10\n",
    "\n",
    "for i in range(trials):\n",
    "    yep = True\n",
    "    cpt=0\n",
    "    while yep:\n",
    "#         multiplier = np.random.choice([5, 10, 15, 20, 30])\n",
    "        \n",
    "        profit_take = np.random.randint(best[0]-5,best[0]+5)\n",
    "        loss_cut = np.random.randint(best[1]-5,best[1]+5)\n",
    "\n",
    "        threshold = float('%.2f'%(best[2] + (np.random.rand()/5 - 0.1)))\n",
    "        \n",
    "        cpt+=1\n",
    "        if cpt>10:\n",
    "            print(\"should not happen (tried all the feature space?)\")\n",
    "            break\n",
    "        try:\n",
    "            already_tried[\"%d,%d,%f\"%(profit_take,loss_cut,threshold)]\n",
    "        except KeyError:\n",
    "            yep = False\n",
    "            already_tried[\"%d,%d,%f\"%(profit_take,loss_cut,threshold)] = 1\n",
    "    \n",
    "    res = backtest.profit(profit_take, loss_cut, \"long\", threshold)\n",
    "    \n",
    "    log.append([profit_take,loss_cut,threshold,res.total_balance(),len(res.trades),res])"
   ]
  },
  {
   "cell_type": "code",
   "execution_count": 342,
   "metadata": {
    "collapsed": false
   },
   "outputs": [
    {
     "data": {
      "text/plain": [
       "array([[93, 206, 0.69, 1085.3999999999985, 24],\n",
       "       [92, 208, 0.7, 1062.0999999999979, 24],\n",
       "       [91, 214, 0.71, 998.60000000000173, 24],\n",
       "       [90, 210, 0.64, 998.09999999999809, 24],\n",
       "       [92, 207, 0.74, 965.10000000000093, 23],\n",
       "       [88, 213, 0.64, 944.39999999999782, 24],\n",
       "       [94, 205, 0.62, 894.8999999999985, 25],\n",
       "       [92, 213, 0.62, 821.99999999999864, 25],\n",
       "       [86, 209, 0.62, 735.80000000000041, 25],\n",
       "       [90, 75, 0.69, 600.10000000000048, 40],\n",
       "       [86, 206, 0.58, 529.10000000000264, 26],\n",
       "       [92, 206, 0.56, 384.50000000000415, 26],\n",
       "       [90, 60, 0.59, 364.59999999999735, 43],\n",
       "       [105, 45, 0.83, 326.0999999999953, 41],\n",
       "       [30, 135, 0.57, 313.49999999999903, 57],\n",
       "       [40, 70, 0.73, 247.29999999999706, 53],\n",
       "       [35, 45, 0.99, 227.5999999999982, 15],\n",
       "       [89, 210, -0.01, 90.30000000000058, 1],\n",
       "       [86, 207, -0.06, 87.199999999999989, 1],\n",
       "       [85, 212, 0.0, 85.699999999999932, 1]], dtype=object)"
      ]
     },
     "execution_count": 342,
     "metadata": {},
     "output_type": "execute_result"
    }
   ],
   "source": [
    "best_params = np.array(sorted(log,key=lambda a: a[3],reverse=True))\n",
    "best_params[:20][:,[0,1,2,3,4]]"
   ]
  },
  {
   "cell_type": "code",
   "execution_count": 351,
   "metadata": {
    "collapsed": true
   },
   "outputs": [],
   "source": [
    "best = best_params[0]"
   ]
  },
  {
   "cell_type": "code",
   "execution_count": 352,
   "metadata": {
    "collapsed": false
   },
   "outputs": [
    {
     "name": "stdout",
     "output_type": "stream",
     "text": [
      "Choosen loss/cut    93 206\n",
      "Balance             1085.4\n",
      "Number of trades    24\n"
     ]
    }
   ],
   "source": [
    "print(\"Choosen loss/cut   \",best[0],best[1])\n",
    "print(\"Balance            \",best[3])\n",
    "print(\"Number of trades   \",best[4])"
   ]
  },
  {
   "cell_type": "code",
   "execution_count": 353,
   "metadata": {
    "collapsed": false
   },
   "outputs": [
    {
     "data": {
      "image/png": "[encoded data removed]",
      "text/plain": [
       "<matplotlib.figure.Figure at 0x7f8554219890>"
      ]
     },
     "metadata": {},
     "output_type": "display_data"
    }
   ],
   "source": [
    "plt.plot(best[5].daily_total[\"open\"].values[4300:])\n",
    "plt.show()"
   ]
  },
  {
   "cell_type": "code",
   "execution_count": null,
   "metadata": {
    "collapsed": true
   },
   "outputs": [],
   "source": []
  },
  {
   "cell_type": "code",
   "execution_count": null,
   "metadata": {
    "collapsed": true
   },
   "outputs": [],
   "source": []
  },
  {
   "cell_type": "code",
   "execution_count": null,
   "metadata": {
    "collapsed": true
   },
   "outputs": [],
   "source": [
    "class Random_Search_Optimizer(object):\n",
    "\n",
    "    def __init__(self, backtest):\n",
    "        \"\"\"Optimize the profit_take/loss_cut ratio.\n",
    "\n",
    "        Determine the profit take / loss cut ratio producing the highest outcome\n",
    "        using a random search iterative process.\n",
    "        \n",
    "\n",
    "        Args:\n",
    "            backtest (Backtest): instance of `trading.backtest.optimizer.Backtest`.\n",
    "            \n",
    "        Example:\n",
    "            `optimizer = Random_Search_Optimizer(backtest)`\n",
    "            `results   = optimizer.optimize(\"long\",\n",
    "                                            \"15Min\",\n",
    "                                            min_ratio=1,\n",
    "                                            max_ratio=9,\n",
    "                                            trials=50)`\n",
    "\n",
    "        \"\"\"\n",
    "\n",
    "        self.backtest = backtest\n",
    "        self.best_total_balance = np.NINF\n",
    "        self.best_param = None\n",
    "        self.best_accout = None\n",
    "        self.side = None\n",
    "        self.local_log = []\n",
    "        self.already_tried = {}\n",
    "\n",
    "        \n",
    "    def _generate_random(self,clip_bottom,clip_top):\n",
    "        \"\"\"Generate random number with lower probability on the edges\"\"\"\n",
    "        \n",
    "        diff = clip_top - clip_bottom\n",
    "        \n",
    "        # choose appropriate standard deviation\n",
    "        sigma = diff*0.05 * 0.7\n",
    "        \n",
    "        # uniform centers...\n",
    "        mu = np.random.rand(2)*(diff * 0.9) + clip_bottom + diff*0.05\n",
    "        \n",
    "        # ...and gaussian distribution around\n",
    "        profit_take = int(np.clip( np.random.normal(mu[0] , sigma),\n",
    "                                  clip_bottom,clip_top))\n",
    "        loss_cut = int(np.clip( np.random.normal(mu[1] , sigma),\n",
    "                               clip_bottom,clip_top))\n",
    "        \n",
    "        return profit_take,loss_cut\n",
    "    \n",
    "    def _iterate_locally(self,clip_top,clip_bottom,n_first=4,n_around=3,s_sigma=0.005):\n",
    "        \"\"\"Refine the search space\"\"\"\n",
    "        slog = sorted(np.array(self.local_log)[:,[0,1,2,3]],key=lambda x: x[3], reverse=True)\n",
    "        slog = slog[:n_first]\n",
    "        diff = clip_top - clip_bottom\n",
    "        sigma = diff*s_sigma # standard deviation\n",
    "\n",
    "        for i in tqdm.tqdm(slog):  # tqdm !!!\n",
    "            for j in xrange(n_around):\n",
    "                not_tried = True\n",
    "                cpt = 0\n",
    "                while not_tried:\n",
    "                    profit_take = int(np.random.normal(i[0] , sigma))\n",
    "                    loss_cut = int(np.random.normal(i[1] , sigma))\n",
    "\n",
    "                    threshold = float('%.2f'%(max(min(np.random.normal(i[2] , 0.02), 0.99), 0.5)))\n",
    "\n",
    "                    cpt+=1\n",
    "                    if cpt>100:\n",
    "                        print(self.already_tried)\n",
    "                        print(profit_take,loss_cut,threshold)\n",
    "                        raise RuntimeError(\"Random Search tried all the feature space, should never happen\")\n",
    "\n",
    "                    # avoid exploring the same point twice\n",
    "                    try:\n",
    "                        self.already_tried[\"%d,%d,%f\"%(profit_take,loss_cut,threshold)]\n",
    "                    except KeyError:\n",
    "                        not_tried = False\n",
    "                        self.already_tried[\"%d,%d,%f\"%(profit_take,loss_cut,threshold)] = 1\n",
    "\n",
    "                res = backtest.profit(profit_take, loss_cut, self.side, threshold)\n",
    "\n",
    "                if res.total_balance() > self.best_total_balance:\n",
    "                    self.best_total_balance = res.total_balance()\n",
    "                    self.best_param = [profit_take,loss_cut,threshold]\n",
    "                    self.best_accout = res\n",
    "\n",
    "                self.local_log.append([profit_take,\n",
    "                                       loss_cut,\n",
    "                                       threshold,\n",
    "                                       res.total_balance(),\n",
    "                                       len(res.trades)\n",
    "                                      ])\n",
    "\n",
    "        \n",
    "\n",
    "\n",
    "    def optimize(self, side, timeframe, min_ratio=1, max_ratio=9, trials=25):\n",
    "        \"\"\"Optimize the profit_take/loss_cut ratio.\n",
    "        \n",
    "        Args:\n",
    "            side      (string): \"long\" or \"short\".\n",
    "            timeframe (string): [\"1Min\",\"5Min\",\"15Min\",\"1H\",\"4H\",\"1D\"]\n",
    "            min_ratio    (int): minimum ratio to consider\n",
    "            max_ratio    (int): maximum ratio to consider\n",
    "            trials       (int): number of trials\n",
    "\n",
    "        Returns:\n",
    "            Optimized(profit_take, loss_cut, threshold, best_account)\n",
    "            \n",
    "        Raises:\n",
    "            RuntimeError: If all the feature space has been explored.\n",
    "                Should never happen.\n",
    "\n",
    "        \"\"\"\n",
    "        \n",
    "        assert side in [\"long\", \"short\"]\n",
    "        assert timeframe in [\"1Min\",\"5Min\",\"15Min\",\"1H\",\"4H\",\"1D\"]\n",
    "        assert min_ratio<max_ratio\n",
    "        trials = trials if trials<1000 else 1000\n",
    "        self.side = side\n",
    "\n",
    "        candidates = {\n",
    "                '1Min': [5, 15],\n",
    "                '5Min': [5, 20],\n",
    "                '15Min': [5, 30],\n",
    "                '1H': [10, 60],\n",
    "                '4H': [10, 80],\n",
    "                '1D': [10, 90],\n",
    "            }\n",
    "        \n",
    "        min_multiplier, max_multiplier = candidates[timeframe]\n",
    "        clip_bottom, clip_top = min_ratio*min_multiplier, max_ratio*max_multiplier\n",
    "        \n",
    "        \n",
    "\n",
    "        # try a series of random points in the restricted interesting search space\n",
    "        for i in tqdm.tqdm(xrange(trials)):  ## tqdm !!!\n",
    "            not_tried = True\n",
    "            cpt=0\n",
    "            while not_tried:\n",
    "                profit_take , loss_cut = self._generate_random(clip_bottom,clip_top)\n",
    "                \n",
    "                threshold = float('%.2f'%(np.random.uniform(0.7, 0.98)))\n",
    "\n",
    "                cpt+=1\n",
    "                if cpt>100:\n",
    "                    raise RuntimeError(\"Random Search tried all the feature space, should never happen\")\n",
    "                    \n",
    "                # avoid exploring the same point twice\n",
    "                try:\n",
    "                    self.already_tried[\"%d,%d,%f\"%(profit_take,loss_cut,threshold)]\n",
    "                except KeyError:\n",
    "                    not_tried = False\n",
    "                    self.already_tried[\"%d,%d,%f\"%(profit_take,loss_cut,threshold)] = 1\n",
    "\n",
    "            res = backtest.profit(profit_take, loss_cut, side, threshold)\n",
    "            \n",
    "            if res.total_balance() > self.best_total_balance:\n",
    "                self.best_total_balance = res.total_balance()\n",
    "                self.best_param = [profit_take,loss_cut,threshold]\n",
    "                self.best_accout = res\n",
    "            \n",
    "            self.local_log.append([profit_take,\n",
    "                                   loss_cut,\n",
    "                                   threshold,\n",
    "                                   res.total_balance(),\n",
    "                                   len(res.trades)\n",
    "                                  ])\n",
    "\n",
    "        # iteratively refine the best results    \n",
    "        self._iterate_locally(clip_top,clip_bottom,n_first=4,n_around=2,s_sigma=0.009)\n",
    "        print(self.best_param)\n",
    "        print(self.best_total_balance)\n",
    "        self._iterate_locally(clip_top,clip_bottom,n_first=2,n_around=2,s_sigma=0.004)\n",
    "        print(self.best_param)\n",
    "        print(self.best_total_balance)\n",
    "\n",
    "        OptimizedRatio = namedtuple(\"OptimizedRatio\", \"account profit_take loss_cut threshold\")\n",
    "    \n",
    "        return OptimizedRatio(self.best_accout,*self.best_param) , np.array(self.local_log)  # !!!!"
   ]
  }
 ],
 "metadata": {
  "kernelspec": {
   "display_name": "Python 2",
   "language": "python",
   "name": "python2"
  },
  "language_info": {
   "codemirror_mode": {
    "name": "ipython",
    "version": 2
   },
   "file_extension": ".py",
   "mimetype": "text/x-python",
   "name": "python",
   "nbconvert_exporter": "python",
   "pygments_lexer": "ipython2",
   "version": "2.7.6"
  }
 },
 "nbformat": 4,
 "nbformat_minor": 0
}
