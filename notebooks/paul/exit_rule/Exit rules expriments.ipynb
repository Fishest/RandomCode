{
 "cells": [
  {
   "cell_type": "code",
   "execution_count": 1,
   "metadata": {
    "collapsed": false
   },
   "outputs": [
    {
     "name": "stdout",
     "output_type": "stream",
     "text": [
      "Downloading/unpacking tqdm\n",
      "  Downloading tqdm-3.8.0-py2.py3-none-any.whl\n",
      "Installing collected packages: tqdm\n",
      "Successfully installed tqdm\n",
      "Cleaning up...\n"
     ]
    }
   ],
   "source": [
    "%matplotlib inline\n",
    "from __future__ import print_function, division, absolute_import\n",
    "import seaborn as sns\n",
    "import matplotlib.pyplot as plt\n",
    "import pandas as pd\n",
    "#sns.set_context(\"notebook\", font_scale=1.5)\n",
    "!pip install tqdm\n",
    "import tqdm"
   ]
  },
  {
   "cell_type": "code",
   "execution_count": 75,
   "metadata": {
    "collapsed": false
   },
   "outputs": [],
   "source": [
    "#!cat /project/python/lib/trading/simulator.py"
   ]
  },
  {
   "cell_type": "code",
   "execution_count": 2,
   "metadata": {
    "collapsed": true
   },
   "outputs": [],
   "source": [
    "class Example():\n",
    "    \n",
    "    def __init__(self, param1, param2, param3):\n",
    "        \"\"\"Example of docstring on the __init__ method.\n",
    "\n",
    "        The __init__ method may be documented in either the class level\n",
    "        docstring, or as a docstring on the __init__ method itself.\n",
    "\n",
    "        Either form is acceptable, but the two should not be mixed. Choose one\n",
    "        convention to document the __init__ method and be consistent with it.\n",
    "\n",
    "        Note:\n",
    "            Do not include the `self` parameter in the ``Args`` section.\n",
    "\n",
    "        Args:\n",
    "            param1 (str): Description of `param1`.\n",
    "            param2 (Optional[int]): Description of `param2`. Multiple\n",
    "                lines are supported.\n",
    "            param3 (List[str]): Description of `param3`.\n",
    "\n",
    "        \"\"\"\n",
    "    \n",
    "    \n",
    "    def foo():\n",
    "        \"\"\"Example of docstring on the __init__ method.\n",
    "\n",
    "        The __init__ method may be documented in either the class level\n",
    "        docstring, or as a docstring on the __init__ method itself.\n",
    "\n",
    "        Either form is acceptable, but the two should not be mixed. Choose one\n",
    "        convention to document the __init__ method and be consistent with it.\n",
    "\n",
    "        Note:\n",
    "            Do not include the `self` parameter in the ``Args`` section.\n",
    "\n",
    "        Args:\n",
    "            param1 (str): Description of `param1`.\n",
    "            param2 (Optional[int]): Description of `param2`. Multiple\n",
    "                lines are supported.\n",
    "            param3 (List[str]): Description of `param3`.\n",
    "\n",
    "        \"\"\"\n",
    "        \n",
    "    def foo2():\n",
    "        \"\"\"Class methods are similar to regular functions.\n",
    "        \n",
    "        Args:\n",
    "            param1: The first parameter.\n",
    "            param2: The second parameter.\n",
    "\n",
    "        Returns:\n",
    "            True if successful, False otherwise.\n",
    "\n",
    "        \"\"\""
   ]
  },
  {
   "cell_type": "code",
   "execution_count": 3,
   "metadata": {
    "collapsed": false
   },
   "outputs": [
    {
     "name": "stdout",
     "output_type": "stream",
     "text": [
      "~~~ARGS:\n",
      "hehe (<type 'str'>)\n",
      "\n",
      "~~~KWARGS:\n",
      "ok - hehe (<type 'str'>)\n",
      "dude - 1 (<type 'int'>)\n",
      "~~~ARGS:\n",
      "arg1 (<type 'str'>)\n",
      "arg2 (<type 'str'>)\n",
      "\n",
      "~~~KWARGS:\n",
      "is - funny (<type 'str'>)\n",
      "that - thing (<type 'str'>)\n"
     ]
    }
   ],
   "source": [
    "def foo(*args,**kwargs):\n",
    "    \"\"\"Simple training function to do miracles\"\"\"\n",
    "    print(\"~~~ARGS:\")\n",
    "    for value in args:\n",
    "        print(\"{0} ({1})\".format(value,type(value)))\n",
    "    print(\"\\n~~~KWARGS:\")\n",
    "    for item,value in kwargs.items():\n",
    "        print(\"{0} - {1} ({2})\".format(item,value,type(value)))\n",
    "foo(\"hehe\",dude=1,ok=\"hehe\") \n",
    "foo(*[\"arg1\",\"arg2\"],**{\"that\":\"thing\",\"is\":\"funny\"})"
   ]
  },
  {
   "cell_type": "code",
   "execution_count": 7,
   "metadata": {
    "collapsed": true
   },
   "outputs": [],
   "source": [
    "import logging\n",
    "\n",
    "import numpy as np\n",
    "import pandas as pd\n",
    "\n",
    "\n",
    "from trading.report import Entry, Win, Lose, Draw, Trade, Trades\n",
    "from trading.market import pips2price, Pips, get_price_with_spread\n",
    "\n",
    "logger = logging.getLogger(__name__)\n",
    "\n",
    "\n",
    "class Position(object):\n",
    "\n",
    "    def __init__(self, timestamp, entry_price, symbol, side, volume=1):\n",
    "        assert side in (\"long\", \"short\")\n",
    "        self.symbol = symbol\n",
    "        self.is_long = side == \"long\"\n",
    "        self.volume = volume\n",
    "        self.enter(timestamp, entry_price, side)\n",
    "\n",
    "    def enter(self, time, price, side):\n",
    "        self._pips_price_ratio = 1. / Pips.get(self.symbol)\n",
    "        self.entry = Entry(time=time, price=price, score=None, side=side)\n",
    "        self.current = self.entry.price\n",
    "\n",
    "    def update(self, price):\n",
    "        self.current = price\n",
    "\n",
    "    def profit(self, price=None):\n",
    "        if price is None:\n",
    "            price = self.current\n",
    "\n",
    "        if self.is_long:\n",
    "            return self.volume * (price - self.entry.price)\n",
    "        else:\n",
    "            return self.volume * (self.entry.price - price)\n",
    "\n",
    "    def profit_pips(self, price=None):\n",
    "        return self.profit() * self._pips_price_ratio\n",
    "\n",
    "\n",
    "class Account(object):\n",
    "\n",
    "    def __init__(self, balance, df):\n",
    "        # balance is in pips\n",
    "        self.balance = balance\n",
    "        self.position = None\n",
    "        dflen = len(df)\n",
    "        history = df.copy()\n",
    "        self.history = history\n",
    "        self.hist_balance = np.zeros(dflen)\n",
    "        self.hist_position_profit = np.zeros(dflen)\n",
    "        self.hist_entry = []  # timestamp when position was entered\n",
    "        self.hist_exit = []  # timestamp when position was exited\n",
    "        self.trades = Trades()\n",
    "\n",
    "    def has_position(self):\n",
    "        return self.position is not None\n",
    "\n",
    "    def total_balance(self):\n",
    "        total = self.balance\n",
    "        if self.has_position():\n",
    "            total += self.position.profit_pips()\n",
    "        return total\n",
    "\n",
    "    def enter_position(self, timestamp, time_iloc, price, symbol, side):\n",
    "        self.position = Position(timestamp, price, symbol, side)\n",
    "        self.hist_entry.append(timestamp)\n",
    "\n",
    "    def check_exit(self, current_price, entry_price, timestamp, pt, lc):\n",
    "        # pt/lc in price\n",
    "        exit = None\n",
    "        if self.position.is_long:\n",
    "            if current_price >= entry_price + pt:\n",
    "                gain = current_price - entry_price\n",
    "                exit = Win(time=timestamp, price=current_price, gain=gain)\n",
    "            elif current_price <= entry_price - lc:\n",
    "                gain = current_price - entry_price\n",
    "                exit = Lose(time=timestamp, price=current_price, gain=gain)\n",
    "        else:\n",
    "            if current_price <= entry_price - pt:\n",
    "                gain = entry_price - current_price\n",
    "                exit = Win(time=timestamp, price=current_price, gain=gain)\n",
    "            elif current_price >= entry_price + lc:\n",
    "                gain = entry_price - current_price\n",
    "                exit = Lose(time=timestamp, price=current_price, gain=gain)\n",
    "        if exit is not None:\n",
    "            self.balance += self.position._pips_price_ratio * exit.gain\n",
    "            self.trades.append(Trade(entry=self.position.entry, exit=exit))\n",
    "            self.hist_exit.append(exit.time)\n",
    "            self.position = None\n",
    "            return exit\n",
    "\n",
    "    def check_exit_by_time(self, entry_price, exit_price, timestamp, ts_exit):\n",
    "        exit = None\n",
    "        if timestamp >= ts_exit:\n",
    "            if self.position.is_long:\n",
    "                if exit_price >= entry_price:\n",
    "                    gain = exit_price - entry_price\n",
    "                    exit = Win(time=timestamp, price=exit_price, gain=gain)\n",
    "                elif exit_price <= entry_price:\n",
    "                    gain = exit_price - entry_price\n",
    "                    exit = Lose(time=timestamp, price=exit_price, gain=gain)\n",
    "            else:\n",
    "                if exit_price <= entry_price:\n",
    "                    gain = entry_price - exit_price\n",
    "                    exit = Win(time=timestamp, price=exit_price, gain=gain)\n",
    "                elif exit_price >= entry_price:\n",
    "                    gain = entry_price - exit_price\n",
    "                    exit = Lose(time=timestamp, price=exit_price, gain=gain)\n",
    "        if exit is not None:\n",
    "            self.balance += self.position._pips_price_ratio * exit.gain\n",
    "            self.trades.append(Trade(entry=self.position.entry, exit=exit))\n",
    "            self.hist_exit.append(exit.time)\n",
    "            self.position = None\n",
    "            return exit\n",
    "\n",
    "    def close_draw(self, timestamp):\n",
    "        if self.position is not None:\n",
    "            position = self.position\n",
    "            exit = Draw(\n",
    "                time=timestamp,\n",
    "                price=position.current,\n",
    "                gain=position.entry.price -\n",
    "                position.current)\n",
    "            trade = Trade(entry=position.entry, exit=exit)\n",
    "            self.trades.append(trade)\n",
    "            self.position = None\n",
    "\n",
    "    @property\n",
    "    def minute_total(self):\n",
    "        return pd.Series(\n",
    "            self.hist_balance +\n",
    "            self.hist_position_profit,\n",
    "            index=self.history.index)\n",
    "\n",
    "    @property\n",
    "    def daily_total(self):\n",
    "        mt = self.minute_total\n",
    "        if mt.shape == (0, ):\n",
    "            return pd.DataFrame(\n",
    "                [], index=[], columns=('open', 'high', 'low', 'close'))\n",
    "        else:\n",
    "            df = mt.resample('1D', how='ohlc')\n",
    "            return df[pd.notnull(df.open)]\n",
    "\n",
    "    @property\n",
    "    def monthly_total(self):\n",
    "        mt = self.minute_total\n",
    "        if mt.shape == (0, ):\n",
    "            return pd.DataFrame(\n",
    "                [], index=[], columns=('open', 'high', 'low', 'close'))\n",
    "        else:\n",
    "            df = mt.resample('1M', how='ohlc')\n",
    "            return df[pd.notnull(df.open)]\n",
    "\n",
    "\n",
    "def get_trade_entry_timestamps(scores, threshold):\n",
    "    '''\n",
    "    Returns a list of timestamps representing entry points.\n",
    "    '''\n",
    "    entry_timestamps = []\n",
    "    in_entry = False\n",
    "    for i in xrange(len(scores) - 1):\n",
    "        score = scores['confidence'].values[i]\n",
    "        if score >= threshold:\n",
    "            if not in_entry:\n",
    "                entry_timestamps.append(scores.index[i + 1])\n",
    "            in_entry = True\n",
    "        else:\n",
    "            in_entry = False\n",
    "    return entry_timestamps\n",
    "\n",
    "\n",
    "def calc(df, entry_timestamps, symbol, side, pt, lc):\n",
    "\n",
    "    # pt/lc in pips\n",
    "    pt_val, lc_val = (pips2price(pt, symbol), pips2price(lc, symbol))\n",
    "\n",
    "    account = Account(0, df)\n",
    "\n",
    "    if len(entry_timestamps) == 0:\n",
    "        return account\n",
    "\n",
    "    open = df['open'].values\n",
    "    close = df['close'].values\n",
    "    tstamp = np.ndarray(\n",
    "        (len(df),), dtype='datetime64[ns]', buffer=df.index.data)\n",
    "\n",
    "    previous_time_iloc = 0\n",
    "    for timestamp in entry_timestamps:\n",
    "        # This is intentionally not a get_loc because of potential gaps in the\n",
    "        # index\n",
    "        time_iloc = df.index.searchsorted(timestamp)\n",
    "        if time_iloc <= previous_time_iloc:\n",
    "            continue  # We can't enter during previous positions\n",
    "        # log account balance between positions\n",
    "        account.hist_balance[previous_time_iloc:time_iloc] = account.balance\n",
    "        # enter the position\n",
    "        entry_price = get_price_with_spread(\n",
    "            open[time_iloc], symbol, 'Ask' if side == 'long' else 'Bid')\n",
    "        account.enter_position(\n",
    "            tstamp[time_iloc],\n",
    "            time_iloc,\n",
    "            entry_price,\n",
    "            symbol,\n",
    "            side)\n",
    "\n",
    "        pips_price_ratio = account.position._pips_price_ratio\n",
    "        volume = account.position.volume\n",
    "        entry_balance = account.balance\n",
    "        exit = None\n",
    "        while exit is None and time_iloc < len(open):\n",
    "            current_price = get_price_with_spread(\n",
    "                close[time_iloc], symbol, 'Bid' if side == 'long' else 'Ask')\n",
    "            account.position.current = current_price  # record current price\n",
    "            exit = account.check_exit(\n",
    "                current_price,\n",
    "                entry_price,\n",
    "                tstamp[time_iloc],\n",
    "                pt_val,\n",
    "                lc_val)\n",
    "            if exit is None:\n",
    "                position_profit = volume * \\\n",
    "                    (current_price - entry_price) * pips_price_ratio\n",
    "                if not account.position.is_long:\n",
    "                    position_profit *= -1\n",
    "                account.hist_balance[time_iloc] = entry_balance\n",
    "            else:\n",
    "                position_profit = 0.\n",
    "                account.hist_balance[time_iloc] = account.balance\n",
    "\n",
    "            account.hist_position_profit[time_iloc] = position_profit\n",
    "            time_iloc += 1\n",
    "        previous_time_iloc = time_iloc  # start of timeframe not in position\n",
    "\n",
    "    # log account balance to the end of the timeframe\n",
    "    account.hist_balance[time_iloc:] = account.balance\n",
    "    account.close_draw(timestamp)\n",
    "    return account\n",
    "\n",
    "\n",
    "def calc_by_positions(df, positions, symbol, side):\n",
    "    \"\"\"\n",
    "        It calculates historical balance by pre-defined positions which was\n",
    "        executed by the live testing. Since the live trading runs at best\n",
    "        effort basis with 1s interval by using xignite's realtime rate api,\n",
    "        so there are potential gaps between the historical data. To match\n",
    "        the balance, it respects timing and price of executed positions and\n",
    "        just interpolates balance during the position by using the historical\n",
    "        data.\n",
    "\n",
    "    Args:\n",
    "        df (DataFrame): ohlc\n",
    "        positions List((datetime, float), (datetime, float)): positions\n",
    "        symbol (str): symbol\n",
    "        side (str): side\n",
    "\n",
    "    Returns:\n",
    "        Account: Account object\n",
    "    \"\"\"\n",
    "\n",
    "    account = Account(0, df)\n",
    "\n",
    "    open = df['open'].values\n",
    "    close = df['close'].values\n",
    "    tstamp = np.ndarray(\n",
    "        (len(df),), dtype='datetime64[ns]', buffer=df.index.data)\n",
    "\n",
    "    time_iloc = previous_time_iloc = 0\n",
    "    for (entry_ts, entry_price), (exit_ts, exit_price) in positions:\n",
    "        # This is intentionally not a get_loc because of potential gaps in the\n",
    "        # index\n",
    "        time_iloc = df.index.searchsorted(entry_ts)\n",
    "        if time_iloc <= previous_time_iloc:\n",
    "            continue  # We can't enter during previous positions\n",
    "        # log account balance between positions\n",
    "        account.hist_balance[previous_time_iloc:time_iloc] = account.balance\n",
    "        # enter the position\n",
    "        account.enter_position(\n",
    "            tstamp[time_iloc],\n",
    "            time_iloc,\n",
    "            entry_price,\n",
    "            symbol,\n",
    "            side)\n",
    "\n",
    "        # log account balance within the position\n",
    "        time_iloc_exit = df.index.searchsorted(exit_ts)\n",
    "        pips_price_ratio = account.position._pips_price_ratio\n",
    "        volume = account.position.volume\n",
    "        entry_balance = account.balance\n",
    "        exit = None\n",
    "        while exit is None and time_iloc < len(open):\n",
    "            current_price = get_price_with_spread(\n",
    "                close[time_iloc], symbol, 'Bid' if side == 'long' else 'Ask')\n",
    "            account.position.current = current_price  # record current price\n",
    "            exit = account.check_exit_by_time(\n",
    "                entry_price,\n",
    "                exit_price,\n",
    "                tstamp[time_iloc],\n",
    "                tstamp[time_iloc_exit],\n",
    "            )\n",
    "            if exit is None:\n",
    "                position_profit = volume * \\\n",
    "                    (current_price - entry_price) * pips_price_ratio\n",
    "                if not account.position.is_long:\n",
    "                    position_profit *= -1\n",
    "                account.hist_balance[time_iloc] = entry_balance\n",
    "            else:\n",
    "                position_profit = 0.\n",
    "                account.hist_balance[time_iloc] = account.balance\n",
    "\n",
    "            account.hist_position_profit[time_iloc] = position_profit\n",
    "            time_iloc += 1\n",
    "        previous_time_iloc = time_iloc  # start of timeframe not in position\n",
    "\n",
    "    # log account balance to the end of the timeframe\n",
    "    account.hist_balance[time_iloc:] = account.balance\n",
    "    if len(positions) > 0:\n",
    "        account.close_draw(entry_ts)\n",
    "    return account"
   ]
  },
  {
   "cell_type": "code",
   "execution_count": 97,
   "metadata": {
    "collapsed": true
   },
   "outputs": [],
   "source": [
    "# -*- coding: utf-8 -*-\n",
    "\n",
    "from __future__ import absolute_import\n",
    "import numpy as np\n",
    "from histdata import get_pandadb, get_table_name\n",
    "from trading.simulator import get_trade_entry_timestamps, calc\n",
    "from collections import namedtuple\n",
    "\n",
    "\n",
    "class Backtest(object):\n",
    "\n",
    "    def __init__(self, symbol, scores=None):\n",
    "        self.symbol = symbol\n",
    "        self.scores = scores\n",
    "        self.previous_threshold = None\n",
    "        self.entry_timestamps = None\n",
    "\n",
    "    def profit(self, profit_take, loss_cut, side, threshold=0.85):\n",
    "        pandadb = get_pandadb()\n",
    "        df = pandadb[get_table_name(self.symbol, '1Min')]\n",
    "        return calc(\n",
    "            df,\n",
    "            self.update_entry_timestamps(threshold),\n",
    "            self.symbol,\n",
    "            side,\n",
    "            profit_take,\n",
    "            loss_cut)\n",
    "\n",
    "    def update_entry_timestamps(self, threshold):\n",
    "        update = False\n",
    "        if self.previous_threshold:\n",
    "            update = (self.previous_threshold != threshold)\n",
    "        else:\n",
    "            update = True\n",
    "\n",
    "        if update:\n",
    "            self.entry_timestamps = get_trade_entry_timestamps(\n",
    "                self.scores, threshold)\n",
    "            self.previous_threshold = threshold\n",
    "\n",
    "        return self.entry_timestamps\n",
    "\n",
    "\n",
    "class Ratio(object):\n",
    "\n",
    "    def __init__(self, a, b):\n",
    "        assert isinstance(a, int)\n",
    "        assert isinstance(b, int)\n",
    "        # profit_take : loss_cut = a : b\n",
    "\n",
    "        if a >= b:\n",
    "            # loss_cut = base\n",
    "            # profit_take = a * base / b\n",
    "            self.calc_lc = lambda base: base\n",
    "            self.calc_pt = lambda base, x=float(a), y=float(b): int(\n",
    "                round(base * x / y))\n",
    "        else:\n",
    "            # profit_take = base\n",
    "            # loss_cut = b * profit_take / a\n",
    "            self.calc_pt = lambda base: base\n",
    "            self.calc_lc = lambda base, x=float(a), y=float(b): int(\n",
    "                round(base * y / x))\n",
    "\n",
    "    def get_profit_take(self, base):\n",
    "        return self.calc_pt(base)\n",
    "\n",
    "    def get_loss_cut(self, base):\n",
    "        return self.calc_lc(base)\n",
    "\n",
    "\n",
    "Optimized = namedtuple(\"Optimized\", \"profit_take loss_cut account\")\n",
    "\n",
    "\n",
    "class Optimizer(object):\n",
    "\n",
    "    def __init__(self, backtest, ratio, side, threshold=0.85):\n",
    "        \"\"\"\n",
    "        :param backtest: instance of `trading.backtest.optimizer.Backtest`.\n",
    "        :param ratio: instance of `trading.backtest.optimizer.Ratio`.\n",
    "        :param side: \"long\" or \"short\"\n",
    "        :param threshold: Threshold of backtesting\n",
    "        \"\"\"\n",
    "        assert side in [\"long\", \"short\"]\n",
    "        assert isinstance(ratio, Ratio)\n",
    "\n",
    "        self.backtest = backtest\n",
    "        self.ratio = ratio\n",
    "        self.side = side\n",
    "        self.threshold = threshold\n",
    "\n",
    "    def evaluate(self, candidate):\n",
    "        profit_take = self.ratio.get_profit_take(candidate)\n",
    "        loss_cut = self.ratio.get_loss_cut(candidate)\n",
    "        account = self.backtest.profit(\n",
    "            profit_take, loss_cut, self.side, self.threshold)\n",
    "        return account\n",
    "\n",
    "    def optimize(self, **kwargs):\n",
    "        assert \"timeframe\" in kwargs\n",
    "\n",
    "        candidates = {\n",
    "            '1Min': [5, 7, 10, 12, 15],\n",
    "            '5Min': [5, 7, 10, 15, 20],\n",
    "            '15Min': [5, 10, 15, 20, 30],\n",
    "            '1H': [10, 20, 30, 40, 60],\n",
    "            '4H': [10, 20, 30, 50, 80],\n",
    "            '1D': [10, 25, 40, 60, 90],\n",
    "        }.get(kwargs[\"timeframe\"], None)\n",
    "        assert candidates is not None\n",
    "\n",
    "        accounts = map(lambda candidate: self.evaluate(candidate), candidates)\n",
    "        profits = map(lambda account: account.total_balance(), accounts)\n",
    "        best_index = np.argmax(profits)\n",
    "        profit_take = self.ratio.get_profit_take(candidates[best_index])\n",
    "        loss_cut = self.ratio.get_loss_cut(candidates[best_index])\n",
    "        best_account = accounts[best_index]\n",
    "\n",
    "        return Optimized(profit_take, loss_cut, best_account)"
   ]
  },
  {
   "cell_type": "code",
   "execution_count": 51,
   "metadata": {
    "collapsed": false
   },
   "outputs": [],
   "source": [
    "from __future__ import absolute_import\n",
    "\n",
    "import logging\n",
    "from datetime import timedelta\n",
    "import celery\n",
    "from flask.ext.babel import gettext as _\n",
    "from sqlalchemy import literal\n",
    "from sqlalchemy.dialects.postgresql import JSONB\n",
    "from sqlalchemy.sql.expression import cast\n",
    "\n",
    "import algos\n",
    "from database import db_session\n",
    "from models import Strategy, Algo, Model, Score, Backtest\n",
    "#from notify import AlgoNotifier, send_mobile_push_notification\n",
    "import service_env\n",
    "from tasks.backtesting.tasks import backtesting, optimize_exit\n",
    "from tasks.taskman import app\n",
    "from tasks.scoring.tasks import scoring\n",
    "from tasks.training.tasks import training\n",
    "import trading.tm as tm\n",
    "from tseries.converter import Converter\n",
    "from tseries.indicators import get_functions\n",
    "from histdata import get_limit_scorable, pandadb\n",
    "from www import localize\n",
    "\n",
    "logger = logging.getLogger(__name__)\n",
    "\n",
    "\n",
    "def notify_algo_complete(algo):\n",
    "\n",
    "    strategy = algo.strategy\n",
    "    # overriding Babel translation config\n",
    "    with localize.BabelContext(locale=str(\n",
    "            strategy.user.locale or 'en')):\n",
    "\n",
    "        if strategy.user.email_notification:\n",
    "            # notify\n",
    "            notifier = AlgoNotifier(\n",
    "                email=strategy.user.email,\n",
    "                strategy_name=strategy.name,\n",
    "                strategy_url=u\"{0}/strategy/{1}\".format(\n",
    "                    service_env.settings['BASE_URL'],\n",
    "                    strategy.id))\n",
    "\n",
    "            ret = notifier.notify()\n",
    "            if ret:\n",
    "                logger.info(\n",
    "                    u\"Sending algo notify email: {} - {}\".format(\n",
    "                        strategy.user.name,\n",
    "                        strategy.user.email))\n",
    "            else:\n",
    "                logger.error(\n",
    "                    u\"Sending algo notify email failed: {} - {}\".format(\n",
    "                        strategy.user.name,\n",
    "                        strategy.user.email))\n",
    "\n",
    "        msg = _(\n",
    "            u\"{name}({symbol}, {timeframe}, {side}) has been built.\").format(\n",
    "                name=strategy.name,\n",
    "                symbol=strategy.symbol.code,\n",
    "                timeframe=strategy.timeframe.code,\n",
    "                side=algo.side\n",
    "        )\n",
    "\n",
    "        send_mobile_push_notification(algo.strategy.user.id, msg)\n",
    "\n",
    "\n",
    "@app.task(name='finalize_algo')\n",
    "def finalize_algo(algo_id):\n",
    "    try:\n",
    "        algo = db_session.query(Algo).get(algo_id)\n",
    "        if algo.is_canceled():\n",
    "            logger.info('training for algo {} '\n",
    "                        'has been canceled'.format(algo_id))\n",
    "            return 'task canceled'\n",
    "        algo.set_status('Finished')\n",
    "        notify_algo_complete(algo)\n",
    "    except Exception as e:\n",
    "        logger.exception(e)\n",
    "        raise\n",
    "    finally:\n",
    "        db_session.remove()\n",
    "\n",
    "\n",
    "def search_default_backtesting_range(dataset, model_params):\n",
    "    \"\"\"\n",
    "        Search for the default backtesting range\n",
    "\n",
    "        It looks for the latest two years which doesn't overlap with\n",
    "        the dataest. In case there is no such range, falls back to\n",
    "        the default range of 2013-01-01 to 2015-01-01 .\n",
    "\n",
    "    Args:\n",
    "        dataset List:\n",
    "        model_params (dict):\n",
    "        symbol (str):\n",
    "        timeframe (str):\n",
    "\n",
    "    Returns:\n",
    "        tuple(datetime, datetime): start, end\n",
    "    \"\"\"\n",
    "    conv = Converter(\n",
    "        get_functions(\n",
    "            model_params['features'],\n",
    "            model_params['timeframe'],\n",
    "            model_params['version']))\n",
    "    lim_s, lim_e = get_limit_scorable(\n",
    "        pandadb,\n",
    "        model_params['symbol'],\n",
    "        model_params['timeframe'],\n",
    "        conv.window_size,\n",
    "        model_params['config']['align'],\n",
    "        50)\n",
    "\n",
    "    ds = sorted(\n",
    "        map(lambda x: (tm.T(x['start']), tm.T(x['end'])), dataset['data']),\n",
    "        cmp=lambda a, b: cmp(a[0], b[0]),\n",
    "        reverse=True)\n",
    "\n",
    "    two_years = timedelta(days=365 * 2)\n",
    "    s, e = lim_e - two_years, lim_e\n",
    "    for ds_s, ds_e in ds:\n",
    "        if s < ds_e or s < ds_s < e:\n",
    "            s, e = ds_s - two_years, ds_s\n",
    "\n",
    "    if lim_s <= s <= lim_e:\n",
    "        return (s, e)\n",
    "\n",
    "    return (tm.T('2013-01-01'), tm.T('2015-01-01'))\n",
    "\n",
    "\n",
    "def find_same_model(dataset, model_params):\n",
    "    return db_session.query(Model).filter(\n",
    "        cast(Model.dataset, JSONB) == literal(dataset),\n",
    "        cast(Model.model_params, JSONB) == literal(model_params),\n",
    "        Model.status == 'Finished').order_by(\n",
    "        Model.created_on.desc()).first()\n",
    "\n",
    "\n",
    "def build_algo(strategy_id):\n",
    "\n",
    "    st = db_session.query(Strategy).get(strategy_id)\n",
    "\n",
    "    dataset = st.current_dataset.data\n",
    "    symbol = st.symbol.code\n",
    "    timeframe = st.timeframe.code\n",
    "\n",
    "    is_new = False\n",
    "    md = find_same_model(dataset, st.model_params)\n",
    "    if md is not None:\n",
    "        logger.info('found old model {}'.format(md))\n",
    "        # cross check\n",
    "        if md.indicators != st.indicators:\n",
    "            logger.warning(\n",
    "                'indicator mismatch: model={} != strategy={}'.format(\n",
    "                    md.indicators, st.indicators))\n",
    "    else:\n",
    "        model_key = algos.generate_training_id()\n",
    "        md = Model(\n",
    "            key=model_key,\n",
    "            dataset=dataset,\n",
    "            model_params=st.model_params,\n",
    "            indicators=st.indicators)\n",
    "        is_new = True\n",
    "\n",
    "    sc = Score()\n",
    "    ag = Algo(\n",
    "        key=md.key,\n",
    "        symbol=symbol,\n",
    "        timeframe=timeframe,\n",
    "        profit_take=st.profit_take,\n",
    "        loss_cut=st.loss_cut,\n",
    "        side=st.side,\n",
    "        strategy=st,\n",
    "        model=md,\n",
    "        score=sc,\n",
    "    )\n",
    "    start, end = search_default_backtesting_range(dataset, md.model_params)\n",
    "    bt = Backtest(algo=ag, start=start, end=end, threshold=0.85)\n",
    "    ag.backtests.append(bt)\n",
    "    db_session.add_all([ag, md, sc, bt])\n",
    "    # We have to commit before dispatching tasks, otherwise\n",
    "    # they may find no entry in the database before we commit.\n",
    "    db_session.commit()\n",
    "\n",
    "    if is_new:\n",
    "        workflow = celery.chain(\n",
    "            training.si(ag.id),\n",
    "            scoring.si(sc.id),\n",
    "            optimize_exit.si(ag.id),\n",
    "            backtesting.si(bt.id),\n",
    "            finalize_algo.si(ag.id))\n",
    "    else:\n",
    "        workflow = celery.chain(\n",
    "            scoring.si(sc.id),\n",
    "            optimize_exit.si(ag.id),\n",
    "            backtesting.si(bt.id),\n",
    "            finalize_algo.si(ag.id))\n",
    "\n",
    "    finalize_ag_res = workflow.delay()\n",
    "    backtesting_res = finalize_ag_res.parent\n",
    "    optimize_exit_res = backtesting_res.parent\n",
    "    scoring_res = optimize_exit_res.parent\n",
    "    training_res = scoring_res.parent\n",
    "\n",
    "    assert is_new or training_res is None\n",
    "\n",
    "    if is_new:\n",
    "        md.training_task_id = training_res.id\n",
    "    sc.scoring_task_id = scoring_res.id\n",
    "    ag.exit_opt_task_id = optimize_exit_res.id\n",
    "    bt.backtesting_task_id = backtesting_res.id\n",
    "\n",
    "    db_session.add_all([ag, md, sc, bt])\n",
    "    db_session.commit()\n",
    "\n",
    "    ag.set_training_status('Training Enqueued' if is_new else 'Finished')\n",
    "\n",
    "    return ag\n"
   ]
  },
  {
   "cell_type": "code",
   "execution_count": 52,
   "metadata": {
    "collapsed": false
   },
   "outputs": [
    {
     "ename": "ConnectionError",
     "evalue": "",
     "output_type": "error",
     "traceback": [
      "\u001b[1;31m---------------------------------------------------------------------------\u001b[0m",
      "\u001b[1;31mConnectionError\u001b[0m                           Traceback (most recent call last)",
      "\u001b[1;32m<ipython-input-52-a20e2604bbbc>\u001b[0m in \u001b[0;36m<module>\u001b[1;34m()\u001b[0m\n\u001b[0;32m      1\u001b[0m \u001b[1;31m# 1,088\u001b[0m\u001b[1;33m\u001b[0m\u001b[1;33m\u001b[0m\u001b[0m\n\u001b[0;32m      2\u001b[0m \u001b[0mstrategy_id\u001b[0m \u001b[1;33m=\u001b[0m \u001b[1;36m2\u001b[0m\u001b[1;33m\u001b[0m\u001b[0m\n\u001b[1;32m----> 3\u001b[1;33m \u001b[0mbuild_algo\u001b[0m\u001b[1;33m(\u001b[0m\u001b[0mstrategy_id\u001b[0m\u001b[1;33m)\u001b[0m\u001b[1;33m\u001b[0m\u001b[0m\n\u001b[0m",
      "\u001b[1;32m<ipython-input-51-8914e206f3cf>\u001b[0m in \u001b[0;36mbuild_algo\u001b[1;34m(strategy_id)\u001b[0m\n\u001b[0;32m    198\u001b[0m             finalize_algo.si(ag.id))\n\u001b[0;32m    199\u001b[0m \u001b[1;33m\u001b[0m\u001b[0m\n\u001b[1;32m--> 200\u001b[1;33m     \u001b[0mfinalize_ag_res\u001b[0m \u001b[1;33m=\u001b[0m \u001b[0mworkflow\u001b[0m\u001b[1;33m.\u001b[0m\u001b[0mdelay\u001b[0m\u001b[1;33m(\u001b[0m\u001b[1;33m)\u001b[0m\u001b[1;33m\u001b[0m\u001b[0m\n\u001b[0m\u001b[0;32m    201\u001b[0m     \u001b[0mbacktesting_res\u001b[0m \u001b[1;33m=\u001b[0m \u001b[0mfinalize_ag_res\u001b[0m\u001b[1;33m.\u001b[0m\u001b[0mparent\u001b[0m\u001b[1;33m\u001b[0m\u001b[0m\n\u001b[0;32m    202\u001b[0m     \u001b[0moptimize_exit_res\u001b[0m \u001b[1;33m=\u001b[0m \u001b[0mbacktesting_res\u001b[0m\u001b[1;33m.\u001b[0m\u001b[0mparent\u001b[0m\u001b[1;33m\u001b[0m\u001b[0m\n",
      "\u001b[1;32m/usr/local/lib/python2.7/dist-packages/celery/canvas.pyc\u001b[0m in \u001b[0;36mdelay\u001b[1;34m(self, *partial_args, **partial_kwargs)\u001b[0m\n\u001b[0;32m    173\u001b[0m \u001b[1;33m\u001b[0m\u001b[0m\n\u001b[0;32m    174\u001b[0m     \u001b[1;32mdef\u001b[0m \u001b[0mdelay\u001b[0m\u001b[1;33m(\u001b[0m\u001b[0mself\u001b[0m\u001b[1;33m,\u001b[0m \u001b[1;33m*\u001b[0m\u001b[0mpartial_args\u001b[0m\u001b[1;33m,\u001b[0m \u001b[1;33m**\u001b[0m\u001b[0mpartial_kwargs\u001b[0m\u001b[1;33m)\u001b[0m\u001b[1;33m:\u001b[0m\u001b[1;33m\u001b[0m\u001b[0m\n\u001b[1;32m--> 175\u001b[1;33m         \u001b[1;32mreturn\u001b[0m \u001b[0mself\u001b[0m\u001b[1;33m.\u001b[0m\u001b[0mapply_async\u001b[0m\u001b[1;33m(\u001b[0m\u001b[0mpartial_args\u001b[0m\u001b[1;33m,\u001b[0m \u001b[0mpartial_kwargs\u001b[0m\u001b[1;33m)\u001b[0m\u001b[1;33m\u001b[0m\u001b[0m\n\u001b[0m\u001b[0;32m    176\u001b[0m \u001b[1;33m\u001b[0m\u001b[0m\n\u001b[0;32m    177\u001b[0m     \u001b[1;32mdef\u001b[0m \u001b[0mapply\u001b[0m\u001b[1;33m(\u001b[0m\u001b[0mself\u001b[0m\u001b[1;33m,\u001b[0m \u001b[0margs\u001b[0m\u001b[1;33m=\u001b[0m\u001b[1;33m(\u001b[0m\u001b[1;33m)\u001b[0m\u001b[1;33m,\u001b[0m \u001b[0mkwargs\u001b[0m\u001b[1;33m=\u001b[0m\u001b[1;33m{\u001b[0m\u001b[1;33m}\u001b[0m\u001b[1;33m,\u001b[0m \u001b[1;33m**\u001b[0m\u001b[0moptions\u001b[0m\u001b[1;33m)\u001b[0m\u001b[1;33m:\u001b[0m\u001b[1;33m\u001b[0m\u001b[0m\n",
      "\u001b[1;32m/usr/local/lib/python2.7/dist-packages/celery/canvas.pyc\u001b[0m in \u001b[0;36mapply_async\u001b[1;34m(self, args, kwargs, **options)\u001b[0m\n\u001b[0;32m    249\u001b[0m         \u001b[1;32melse\u001b[0m\u001b[1;33m:\u001b[0m\u001b[1;33m\u001b[0m\u001b[0m\n\u001b[0;32m    250\u001b[0m             \u001b[0margs\u001b[0m\u001b[1;33m,\u001b[0m \u001b[0mkwargs\u001b[0m\u001b[1;33m,\u001b[0m \u001b[0moptions\u001b[0m \u001b[1;33m=\u001b[0m \u001b[0mself\u001b[0m\u001b[1;33m.\u001b[0m\u001b[0margs\u001b[0m\u001b[1;33m,\u001b[0m \u001b[0mself\u001b[0m\u001b[1;33m.\u001b[0m\u001b[0mkwargs\u001b[0m\u001b[1;33m,\u001b[0m \u001b[0mself\u001b[0m\u001b[1;33m.\u001b[0m\u001b[0moptions\u001b[0m\u001b[1;33m\u001b[0m\u001b[0m\n\u001b[1;32m--> 251\u001b[1;33m         \u001b[1;32mreturn\u001b[0m \u001b[0m_apply\u001b[0m\u001b[1;33m(\u001b[0m\u001b[0margs\u001b[0m\u001b[1;33m,\u001b[0m \u001b[0mkwargs\u001b[0m\u001b[1;33m,\u001b[0m \u001b[1;33m**\u001b[0m\u001b[0moptions\u001b[0m\u001b[1;33m)\u001b[0m\u001b[1;33m\u001b[0m\u001b[0m\n\u001b[0m\u001b[0;32m    252\u001b[0m \u001b[1;33m\u001b[0m\u001b[0m\n\u001b[0;32m    253\u001b[0m     \u001b[1;32mdef\u001b[0m \u001b[0mappend_to_list_option\u001b[0m\u001b[1;33m(\u001b[0m\u001b[0mself\u001b[0m\u001b[1;33m,\u001b[0m \u001b[0mkey\u001b[0m\u001b[1;33m,\u001b[0m \u001b[0mvalue\u001b[0m\u001b[1;33m)\u001b[0m\u001b[1;33m:\u001b[0m\u001b[1;33m\u001b[0m\u001b[0m\n",
      "\u001b[1;32m/usr/local/lib/python2.7/dist-packages/celery/app/builtins.pyc\u001b[0m in \u001b[0;36mapply_async\u001b[1;34m(self, args, kwargs, group_id, chord, task_id, link, link_error, **options)\u001b[0m\n\u001b[0;32m    291\u001b[0m                 \u001b[1;32mfor\u001b[0m \u001b[0mtask\u001b[0m \u001b[1;32min\u001b[0m \u001b[0mtasks\u001b[0m\u001b[1;33m:\u001b[0m\u001b[1;33m\u001b[0m\u001b[0m\n\u001b[0;32m    292\u001b[0m                     \u001b[0mtask\u001b[0m\u001b[1;33m.\u001b[0m\u001b[0mset\u001b[0m\u001b[1;33m(\u001b[0m\u001b[0mlink_error\u001b[0m\u001b[1;33m=\u001b[0m\u001b[0mlink_error\u001b[0m\u001b[1;33m)\u001b[0m\u001b[1;33m\u001b[0m\u001b[0m\n\u001b[1;32m--> 293\u001b[1;33m             \u001b[0mtasks\u001b[0m\u001b[1;33m[\u001b[0m\u001b[1;36m0\u001b[0m\u001b[1;33m]\u001b[0m\u001b[1;33m.\u001b[0m\u001b[0mapply_async\u001b[0m\u001b[1;33m(\u001b[0m\u001b[1;33m**\u001b[0m\u001b[0moptions\u001b[0m\u001b[1;33m)\u001b[0m\u001b[1;33m\u001b[0m\u001b[0m\n\u001b[0m\u001b[0;32m    294\u001b[0m             \u001b[1;32mreturn\u001b[0m \u001b[0mresult\u001b[0m\u001b[1;33m\u001b[0m\u001b[0m\n\u001b[0;32m    295\u001b[0m \u001b[1;33m\u001b[0m\u001b[0m\n",
      "\u001b[1;32m/usr/local/lib/python2.7/dist-packages/celery/canvas.pyc\u001b[0m in \u001b[0;36mapply_async\u001b[1;34m(self, args, kwargs, **options)\u001b[0m\n\u001b[0;32m    249\u001b[0m         \u001b[1;32melse\u001b[0m\u001b[1;33m:\u001b[0m\u001b[1;33m\u001b[0m\u001b[0m\n\u001b[0;32m    250\u001b[0m             \u001b[0margs\u001b[0m\u001b[1;33m,\u001b[0m \u001b[0mkwargs\u001b[0m\u001b[1;33m,\u001b[0m \u001b[0moptions\u001b[0m \u001b[1;33m=\u001b[0m \u001b[0mself\u001b[0m\u001b[1;33m.\u001b[0m\u001b[0margs\u001b[0m\u001b[1;33m,\u001b[0m \u001b[0mself\u001b[0m\u001b[1;33m.\u001b[0m\u001b[0mkwargs\u001b[0m\u001b[1;33m,\u001b[0m \u001b[0mself\u001b[0m\u001b[1;33m.\u001b[0m\u001b[0moptions\u001b[0m\u001b[1;33m\u001b[0m\u001b[0m\n\u001b[1;32m--> 251\u001b[1;33m         \u001b[1;32mreturn\u001b[0m \u001b[0m_apply\u001b[0m\u001b[1;33m(\u001b[0m\u001b[0margs\u001b[0m\u001b[1;33m,\u001b[0m \u001b[0mkwargs\u001b[0m\u001b[1;33m,\u001b[0m \u001b[1;33m**\u001b[0m\u001b[0moptions\u001b[0m\u001b[1;33m)\u001b[0m\u001b[1;33m\u001b[0m\u001b[0m\n\u001b[0m\u001b[0;32m    252\u001b[0m \u001b[1;33m\u001b[0m\u001b[0m\n\u001b[0;32m    253\u001b[0m     \u001b[1;32mdef\u001b[0m \u001b[0mappend_to_list_option\u001b[0m\u001b[1;33m(\u001b[0m\u001b[0mself\u001b[0m\u001b[1;33m,\u001b[0m \u001b[0mkey\u001b[0m\u001b[1;33m,\u001b[0m \u001b[0mvalue\u001b[0m\u001b[1;33m)\u001b[0m\u001b[1;33m:\u001b[0m\u001b[1;33m\u001b[0m\u001b[0m\n",
      "\u001b[1;32m/usr/local/lib/python2.7/dist-packages/celery/app/task.pyc\u001b[0m in \u001b[0;36mapply_async\u001b[1;34m(self, args, kwargs, task_id, producer, link, link_error, **options)\u001b[0m\n\u001b[0;32m    563\u001b[0m             \u001b[0mself\u001b[0m\u001b[1;33m.\u001b[0m\u001b[0mname\u001b[0m\u001b[1;33m,\u001b[0m \u001b[0margs\u001b[0m\u001b[1;33m,\u001b[0m \u001b[0mkwargs\u001b[0m\u001b[1;33m,\u001b[0m \u001b[0mtask_id\u001b[0m\u001b[1;33m=\u001b[0m\u001b[0mtask_id\u001b[0m\u001b[1;33m,\u001b[0m \u001b[0mproducer\u001b[0m\u001b[1;33m=\u001b[0m\u001b[0mproducer\u001b[0m\u001b[1;33m,\u001b[0m\u001b[1;33m\u001b[0m\u001b[0m\n\u001b[0;32m    564\u001b[0m             \u001b[0mlink\u001b[0m\u001b[1;33m=\u001b[0m\u001b[0mlink\u001b[0m\u001b[1;33m,\u001b[0m \u001b[0mlink_error\u001b[0m\u001b[1;33m=\u001b[0m\u001b[0mlink_error\u001b[0m\u001b[1;33m,\u001b[0m \u001b[0mresult_cls\u001b[0m\u001b[1;33m=\u001b[0m\u001b[0mself\u001b[0m\u001b[1;33m.\u001b[0m\u001b[0mAsyncResult\u001b[0m\u001b[1;33m,\u001b[0m\u001b[1;33m\u001b[0m\u001b[0m\n\u001b[1;32m--> 565\u001b[1;33m             \u001b[1;33m**\u001b[0m\u001b[0mdict\u001b[0m\u001b[1;33m(\u001b[0m\u001b[0mself\u001b[0m\u001b[1;33m.\u001b[0m\u001b[0m_get_exec_options\u001b[0m\u001b[1;33m(\u001b[0m\u001b[1;33m)\u001b[0m\u001b[1;33m,\u001b[0m \u001b[1;33m**\u001b[0m\u001b[0moptions\u001b[0m\u001b[1;33m)\u001b[0m\u001b[1;33m\u001b[0m\u001b[0m\n\u001b[0m\u001b[0;32m    566\u001b[0m         )\n\u001b[0;32m    567\u001b[0m \u001b[1;33m\u001b[0m\u001b[0m\n",
      "\u001b[1;32m/usr/local/lib/python2.7/dist-packages/celery/app/base.pyc\u001b[0m in \u001b[0;36msend_task\u001b[1;34m(self, name, args, kwargs, countdown, eta, task_id, producer, connection, router, result_cls, expires, publisher, link, link_error, add_to_parent, reply_to, **options)\u001b[0m\n\u001b[0;32m    352\u001b[0m                 \u001b[0mtask_id\u001b[0m\u001b[1;33m=\u001b[0m\u001b[0mtask_id\u001b[0m\u001b[1;33m,\u001b[0m \u001b[0mexpires\u001b[0m\u001b[1;33m=\u001b[0m\u001b[0mexpires\u001b[0m\u001b[1;33m,\u001b[0m\u001b[1;33m\u001b[0m\u001b[0m\n\u001b[0;32m    353\u001b[0m                 \u001b[0mcallbacks\u001b[0m\u001b[1;33m=\u001b[0m\u001b[0mmaybe_list\u001b[0m\u001b[1;33m(\u001b[0m\u001b[0mlink\u001b[0m\u001b[1;33m)\u001b[0m\u001b[1;33m,\u001b[0m \u001b[0merrbacks\u001b[0m\u001b[1;33m=\u001b[0m\u001b[0mmaybe_list\u001b[0m\u001b[1;33m(\u001b[0m\u001b[0mlink_error\u001b[0m\u001b[1;33m)\u001b[0m\u001b[1;33m,\u001b[0m\u001b[1;33m\u001b[0m\u001b[0m\n\u001b[1;32m--> 354\u001b[1;33m                 \u001b[0mreply_to\u001b[0m\u001b[1;33m=\u001b[0m\u001b[0mreply_to\u001b[0m \u001b[1;32mor\u001b[0m \u001b[0mself\u001b[0m\u001b[1;33m.\u001b[0m\u001b[0moid\u001b[0m\u001b[1;33m,\u001b[0m \u001b[1;33m**\u001b[0m\u001b[0moptions\u001b[0m\u001b[1;33m\u001b[0m\u001b[0m\n\u001b[0m\u001b[0;32m    355\u001b[0m             )\n\u001b[0;32m    356\u001b[0m         \u001b[0mresult\u001b[0m \u001b[1;33m=\u001b[0m \u001b[1;33m(\u001b[0m\u001b[0mresult_cls\u001b[0m \u001b[1;32mor\u001b[0m \u001b[0mself\u001b[0m\u001b[1;33m.\u001b[0m\u001b[0mAsyncResult\u001b[0m\u001b[1;33m)\u001b[0m\u001b[1;33m(\u001b[0m\u001b[0mtask_id\u001b[0m\u001b[1;33m)\u001b[0m\u001b[1;33m\u001b[0m\u001b[0m\n",
      "\u001b[1;32m/usr/local/lib/python2.7/dist-packages/celery/app/amqp.pyc\u001b[0m in \u001b[0;36mpublish_task\u001b[1;34m(self, task_name, task_args, task_kwargs, countdown, eta, task_id, group_id, taskset_id, expires, exchange, exchange_type, event_dispatcher, retry, retry_policy, queue, now, retries, chord, callbacks, errbacks, routing_key, serializer, delivery_mode, compression, reply_to, time_limit, soft_time_limit, declare, headers, send_before_publish, before_receivers, send_after_publish, after_receivers, send_task_sent, sent_receivers, **kwargs)\u001b[0m\n\u001b[0;32m    303\u001b[0m             \u001b[0mcorrelation_id\u001b[0m\u001b[1;33m=\u001b[0m\u001b[0mtask_id\u001b[0m\u001b[1;33m,\u001b[0m\u001b[1;33m\u001b[0m\u001b[0m\n\u001b[0;32m    304\u001b[0m             \u001b[0mdelivery_mode\u001b[0m\u001b[1;33m=\u001b[0m\u001b[0mdelivery_mode\u001b[0m\u001b[1;33m,\u001b[0m \u001b[0mdeclare\u001b[0m\u001b[1;33m=\u001b[0m\u001b[0mdeclare\u001b[0m\u001b[1;33m,\u001b[0m\u001b[1;33m\u001b[0m\u001b[0m\n\u001b[1;32m--> 305\u001b[1;33m             \u001b[1;33m**\u001b[0m\u001b[0mkwargs\u001b[0m\u001b[1;33m\u001b[0m\u001b[0m\n\u001b[0m\u001b[0;32m    306\u001b[0m         )\n\u001b[0;32m    307\u001b[0m \u001b[1;33m\u001b[0m\u001b[0m\n",
      "\u001b[1;32m/usr/local/lib/python2.7/dist-packages/kombu/messaging.pyc\u001b[0m in \u001b[0;36mpublish\u001b[1;34m(self, body, routing_key, delivery_mode, mandatory, immediate, priority, content_type, content_encoding, serializer, headers, compression, exchange, retry, retry_policy, declare, expiration, **properties)\u001b[0m\n\u001b[0;32m    170\u001b[0m         return publish(body, priority, content_type,\n\u001b[0;32m    171\u001b[0m                        \u001b[0mcontent_encoding\u001b[0m\u001b[1;33m,\u001b[0m \u001b[0mheaders\u001b[0m\u001b[1;33m,\u001b[0m \u001b[0mproperties\u001b[0m\u001b[1;33m,\u001b[0m\u001b[1;33m\u001b[0m\u001b[0m\n\u001b[1;32m--> 172\u001b[1;33m                        routing_key, mandatory, immediate, exchange, declare)\n\u001b[0m\u001b[0;32m    173\u001b[0m \u001b[1;33m\u001b[0m\u001b[0m\n\u001b[0;32m    174\u001b[0m     def _publish(self, body, priority, content_type, content_encoding,\n",
      "\u001b[1;32m/usr/local/lib/python2.7/dist-packages/kombu/connection.pyc\u001b[0m in \u001b[0;36m_ensured\u001b[1;34m(*args, **kwargs)\u001b[0m\n\u001b[0;32m    455\u001b[0m                                            \u001b[0minterval_start\u001b[0m\u001b[1;33m,\u001b[0m\u001b[1;33m\u001b[0m\u001b[0m\n\u001b[0;32m    456\u001b[0m                                            \u001b[0minterval_step\u001b[0m\u001b[1;33m,\u001b[0m\u001b[1;33m\u001b[0m\u001b[0m\n\u001b[1;32m--> 457\u001b[1;33m                                            interval_max)\n\u001b[0m\u001b[0;32m    458\u001b[0m                     \u001b[0mnew_channel\u001b[0m \u001b[1;33m=\u001b[0m \u001b[0mself\u001b[0m\u001b[1;33m.\u001b[0m\u001b[0mchannel\u001b[0m\u001b[1;33m(\u001b[0m\u001b[1;33m)\u001b[0m\u001b[1;33m\u001b[0m\u001b[0m\n\u001b[0;32m    459\u001b[0m                     \u001b[0mself\u001b[0m\u001b[1;33m.\u001b[0m\u001b[0mrevive\u001b[0m\u001b[1;33m(\u001b[0m\u001b[0mnew_channel\u001b[0m\u001b[1;33m)\u001b[0m\u001b[1;33m\u001b[0m\u001b[0m\n",
      "\u001b[1;32m/usr/local/lib/python2.7/dist-packages/kombu/connection.pyc\u001b[0m in \u001b[0;36mensure_connection\u001b[1;34m(self, errback, max_retries, interval_start, interval_step, interval_max, callback)\u001b[0m\n\u001b[0;32m    367\u001b[0m         retry_over_time(self.connect, self.recoverable_connection_errors,\n\u001b[0;32m    368\u001b[0m                         \u001b[1;33m(\u001b[0m\u001b[1;33m)\u001b[0m\u001b[1;33m,\u001b[0m \u001b[1;33m{\u001b[0m\u001b[1;33m}\u001b[0m\u001b[1;33m,\u001b[0m \u001b[0mon_error\u001b[0m\u001b[1;33m,\u001b[0m \u001b[0mmax_retries\u001b[0m\u001b[1;33m,\u001b[0m\u001b[1;33m\u001b[0m\u001b[0m\n\u001b[1;32m--> 369\u001b[1;33m                         interval_start, interval_step, interval_max, callback)\n\u001b[0m\u001b[0;32m    370\u001b[0m         \u001b[1;32mreturn\u001b[0m \u001b[0mself\u001b[0m\u001b[1;33m\u001b[0m\u001b[0m\n\u001b[0;32m    371\u001b[0m \u001b[1;33m\u001b[0m\u001b[0m\n",
      "\u001b[1;32m/usr/local/lib/python2.7/dist-packages/kombu/utils/__init__.pyc\u001b[0m in \u001b[0;36mretry_over_time\u001b[1;34m(fun, catch, args, kwargs, errback, max_retries, interval_start, interval_step, interval_max, callback)\u001b[0m\n\u001b[0;32m    244\u001b[0m     \u001b[1;32mfor\u001b[0m \u001b[0mretries\u001b[0m \u001b[1;32min\u001b[0m \u001b[0mcount\u001b[0m\u001b[1;33m(\u001b[0m\u001b[1;33m)\u001b[0m\u001b[1;33m:\u001b[0m\u001b[1;33m\u001b[0m\u001b[0m\n\u001b[0;32m    245\u001b[0m         \u001b[1;32mtry\u001b[0m\u001b[1;33m:\u001b[0m\u001b[1;33m\u001b[0m\u001b[0m\n\u001b[1;32m--> 246\u001b[1;33m             \u001b[1;32mreturn\u001b[0m \u001b[0mfun\u001b[0m\u001b[1;33m(\u001b[0m\u001b[1;33m*\u001b[0m\u001b[0margs\u001b[0m\u001b[1;33m,\u001b[0m \u001b[1;33m**\u001b[0m\u001b[0mkwargs\u001b[0m\u001b[1;33m)\u001b[0m\u001b[1;33m\u001b[0m\u001b[0m\n\u001b[0m\u001b[0;32m    247\u001b[0m         \u001b[1;32mexcept\u001b[0m \u001b[0mcatch\u001b[0m \u001b[1;32mas\u001b[0m \u001b[0mexc\u001b[0m\u001b[1;33m:\u001b[0m\u001b[1;33m\u001b[0m\u001b[0m\n\u001b[0;32m    248\u001b[0m             \u001b[1;32mif\u001b[0m \u001b[0mmax_retries\u001b[0m \u001b[1;32mand\u001b[0m \u001b[0mretries\u001b[0m \u001b[1;33m>=\u001b[0m \u001b[0mmax_retries\u001b[0m\u001b[1;33m:\u001b[0m\u001b[1;33m\u001b[0m\u001b[0m\n",
      "\u001b[1;32m/usr/local/lib/python2.7/dist-packages/kombu/connection.pyc\u001b[0m in \u001b[0;36mconnect\u001b[1;34m(self)\u001b[0m\n\u001b[0;32m    235\u001b[0m         \u001b[1;34m\"\"\"Establish connection to server immediately.\"\"\"\u001b[0m\u001b[1;33m\u001b[0m\u001b[0m\n\u001b[0;32m    236\u001b[0m         \u001b[0mself\u001b[0m\u001b[1;33m.\u001b[0m\u001b[0m_closed\u001b[0m \u001b[1;33m=\u001b[0m \u001b[0mFalse\u001b[0m\u001b[1;33m\u001b[0m\u001b[0m\n\u001b[1;32m--> 237\u001b[1;33m         \u001b[1;32mreturn\u001b[0m \u001b[0mself\u001b[0m\u001b[1;33m.\u001b[0m\u001b[0mconnection\u001b[0m\u001b[1;33m\u001b[0m\u001b[0m\n\u001b[0m\u001b[0;32m    238\u001b[0m \u001b[1;33m\u001b[0m\u001b[0m\n\u001b[0;32m    239\u001b[0m     \u001b[1;32mdef\u001b[0m \u001b[0mchannel\u001b[0m\u001b[1;33m(\u001b[0m\u001b[0mself\u001b[0m\u001b[1;33m)\u001b[0m\u001b[1;33m:\u001b[0m\u001b[1;33m\u001b[0m\u001b[0m\n",
      "\u001b[1;32m/usr/local/lib/python2.7/dist-packages/kombu/connection.pyc\u001b[0m in \u001b[0;36mconnection\u001b[1;34m(self)\u001b[0m\n\u001b[0;32m    739\u001b[0m                 \u001b[0mself\u001b[0m\u001b[1;33m.\u001b[0m\u001b[0mdeclared_entities\u001b[0m\u001b[1;33m.\u001b[0m\u001b[0mclear\u001b[0m\u001b[1;33m(\u001b[0m\u001b[1;33m)\u001b[0m\u001b[1;33m\u001b[0m\u001b[0m\n\u001b[0;32m    740\u001b[0m                 \u001b[0mself\u001b[0m\u001b[1;33m.\u001b[0m\u001b[0m_default_channel\u001b[0m \u001b[1;33m=\u001b[0m \u001b[0mNone\u001b[0m\u001b[1;33m\u001b[0m\u001b[0m\n\u001b[1;32m--> 741\u001b[1;33m                 \u001b[0mself\u001b[0m\u001b[1;33m.\u001b[0m\u001b[0m_connection\u001b[0m \u001b[1;33m=\u001b[0m \u001b[0mself\u001b[0m\u001b[1;33m.\u001b[0m\u001b[0m_establish_connection\u001b[0m\u001b[1;33m(\u001b[0m\u001b[1;33m)\u001b[0m\u001b[1;33m\u001b[0m\u001b[0m\n\u001b[0m\u001b[0;32m    742\u001b[0m                 \u001b[0mself\u001b[0m\u001b[1;33m.\u001b[0m\u001b[0m_closed\u001b[0m \u001b[1;33m=\u001b[0m \u001b[0mFalse\u001b[0m\u001b[1;33m\u001b[0m\u001b[0m\n\u001b[0;32m    743\u001b[0m             \u001b[1;32mreturn\u001b[0m \u001b[0mself\u001b[0m\u001b[1;33m.\u001b[0m\u001b[0m_connection\u001b[0m\u001b[1;33m\u001b[0m\u001b[0m\n",
      "\u001b[1;32m/usr/local/lib/python2.7/dist-packages/kombu/connection.pyc\u001b[0m in \u001b[0;36m_establish_connection\u001b[1;34m(self)\u001b[0m\n\u001b[0;32m    694\u001b[0m     \u001b[1;32mdef\u001b[0m \u001b[0m_establish_connection\u001b[0m\u001b[1;33m(\u001b[0m\u001b[0mself\u001b[0m\u001b[1;33m)\u001b[0m\u001b[1;33m:\u001b[0m\u001b[1;33m\u001b[0m\u001b[0m\n\u001b[0;32m    695\u001b[0m         \u001b[0mself\u001b[0m\u001b[1;33m.\u001b[0m\u001b[0m_debug\u001b[0m\u001b[1;33m(\u001b[0m\u001b[1;34m'establishing connection...'\u001b[0m\u001b[1;33m)\u001b[0m\u001b[1;33m\u001b[0m\u001b[0m\n\u001b[1;32m--> 696\u001b[1;33m         \u001b[0mconn\u001b[0m \u001b[1;33m=\u001b[0m \u001b[0mself\u001b[0m\u001b[1;33m.\u001b[0m\u001b[0mtransport\u001b[0m\u001b[1;33m.\u001b[0m\u001b[0mestablish_connection\u001b[0m\u001b[1;33m(\u001b[0m\u001b[1;33m)\u001b[0m\u001b[1;33m\u001b[0m\u001b[0m\n\u001b[0m\u001b[0;32m    697\u001b[0m         \u001b[0mself\u001b[0m\u001b[1;33m.\u001b[0m\u001b[0m_debug\u001b[0m\u001b[1;33m(\u001b[0m\u001b[1;34m'connection established: %r'\u001b[0m\u001b[1;33m,\u001b[0m \u001b[0mconn\u001b[0m\u001b[1;33m)\u001b[0m\u001b[1;33m\u001b[0m\u001b[0m\n\u001b[0;32m    698\u001b[0m         \u001b[1;32mreturn\u001b[0m \u001b[0mconn\u001b[0m\u001b[1;33m\u001b[0m\u001b[0m\n",
      "\u001b[1;32m/usr/local/lib/python2.7/dist-packages/kombu/transport/virtual/__init__.pyc\u001b[0m in \u001b[0;36mestablish_connection\u001b[1;34m(self)\u001b[0m\n\u001b[0;32m    807\u001b[0m         \u001b[1;31m# this channel is then used as the next requested channel.\u001b[0m\u001b[1;33m\u001b[0m\u001b[1;33m\u001b[0m\u001b[0m\n\u001b[0;32m    808\u001b[0m         \u001b[1;31m# (returned by ``create_channel``).\u001b[0m\u001b[1;33m\u001b[0m\u001b[1;33m\u001b[0m\u001b[0m\n\u001b[1;32m--> 809\u001b[1;33m         \u001b[0mself\u001b[0m\u001b[1;33m.\u001b[0m\u001b[0m_avail_channels\u001b[0m\u001b[1;33m.\u001b[0m\u001b[0mappend\u001b[0m\u001b[1;33m(\u001b[0m\u001b[0mself\u001b[0m\u001b[1;33m.\u001b[0m\u001b[0mcreate_channel\u001b[0m\u001b[1;33m(\u001b[0m\u001b[0mself\u001b[0m\u001b[1;33m)\u001b[0m\u001b[1;33m)\u001b[0m\u001b[1;33m\u001b[0m\u001b[0m\n\u001b[0m\u001b[0;32m    810\u001b[0m         \u001b[1;32mreturn\u001b[0m \u001b[0mself\u001b[0m     \u001b[1;31m# for drain events\u001b[0m\u001b[1;33m\u001b[0m\u001b[0m\n\u001b[0;32m    811\u001b[0m \u001b[1;33m\u001b[0m\u001b[0m\n",
      "\u001b[1;32m/usr/local/lib/python2.7/dist-packages/kombu/transport/virtual/__init__.pyc\u001b[0m in \u001b[0;36mcreate_channel\u001b[1;34m(self, connection)\u001b[0m\n\u001b[0;32m    789\u001b[0m             \u001b[1;32mreturn\u001b[0m \u001b[0mself\u001b[0m\u001b[1;33m.\u001b[0m\u001b[0m_avail_channels\u001b[0m\u001b[1;33m.\u001b[0m\u001b[0mpop\u001b[0m\u001b[1;33m(\u001b[0m\u001b[1;33m)\u001b[0m\u001b[1;33m\u001b[0m\u001b[0m\n\u001b[0;32m    790\u001b[0m         \u001b[1;32mexcept\u001b[0m \u001b[0mIndexError\u001b[0m\u001b[1;33m:\u001b[0m\u001b[1;33m\u001b[0m\u001b[0m\n\u001b[1;32m--> 791\u001b[1;33m             \u001b[0mchannel\u001b[0m \u001b[1;33m=\u001b[0m \u001b[0mself\u001b[0m\u001b[1;33m.\u001b[0m\u001b[0mChannel\u001b[0m\u001b[1;33m(\u001b[0m\u001b[0mconnection\u001b[0m\u001b[1;33m)\u001b[0m\u001b[1;33m\u001b[0m\u001b[0m\n\u001b[0m\u001b[0;32m    792\u001b[0m             \u001b[0mself\u001b[0m\u001b[1;33m.\u001b[0m\u001b[0mchannels\u001b[0m\u001b[1;33m.\u001b[0m\u001b[0mappend\u001b[0m\u001b[1;33m(\u001b[0m\u001b[0mchannel\u001b[0m\u001b[1;33m)\u001b[0m\u001b[1;33m\u001b[0m\u001b[0m\n\u001b[0;32m    793\u001b[0m             \u001b[1;32mreturn\u001b[0m \u001b[0mchannel\u001b[0m\u001b[1;33m\u001b[0m\u001b[0m\n",
      "\u001b[1;32m/usr/local/lib/python2.7/dist-packages/kombu/transport/redis.pyc\u001b[0m in \u001b[0;36m__init__\u001b[1;34m(self, *args, **kwargs)\u001b[0m\n\u001b[0;32m    457\u001b[0m             \u001b[0mself\u001b[0m\u001b[1;33m.\u001b[0m\u001b[0mclient\u001b[0m\u001b[1;33m.\u001b[0m\u001b[0minfo\u001b[0m\u001b[1;33m(\u001b[0m\u001b[1;33m)\u001b[0m\u001b[1;33m\u001b[0m\u001b[0m\n\u001b[0;32m    458\u001b[0m         \u001b[1;32mexcept\u001b[0m \u001b[0mException\u001b[0m\u001b[1;33m:\u001b[0m\u001b[1;33m\u001b[0m\u001b[0m\n\u001b[1;32m--> 459\u001b[1;33m             \u001b[0mself\u001b[0m\u001b[1;33m.\u001b[0m\u001b[0m_disconnect_pools\u001b[0m\u001b[1;33m(\u001b[0m\u001b[1;33m)\u001b[0m\u001b[1;33m\u001b[0m\u001b[0m\n\u001b[0m\u001b[0;32m    460\u001b[0m             \u001b[1;32mraise\u001b[0m\u001b[1;33m\u001b[0m\u001b[0m\n\u001b[0;32m    461\u001b[0m \u001b[1;33m\u001b[0m\u001b[0m\n",
      "\u001b[1;32m/usr/local/lib/python2.7/dist-packages/kombu/transport/redis.pyc\u001b[0m in \u001b[0;36m_disconnect_pools\u001b[1;34m(self)\u001b[0m\n\u001b[0;32m    475\u001b[0m             \u001b[1;32mtry\u001b[0m\u001b[1;33m:\u001b[0m\u001b[1;33m\u001b[0m\u001b[0m\n\u001b[0;32m    476\u001b[0m                 \u001b[1;32mif\u001b[0m \u001b[0mself\u001b[0m\u001b[1;33m.\u001b[0m\u001b[0m_async_pool\u001b[0m \u001b[1;32mis\u001b[0m \u001b[1;32mnot\u001b[0m \u001b[0mNone\u001b[0m\u001b[1;33m:\u001b[0m\u001b[1;33m\u001b[0m\u001b[0m\n\u001b[1;32m--> 477\u001b[1;33m                     \u001b[0mself\u001b[0m\u001b[1;33m.\u001b[0m\u001b[0m_async_pool\u001b[0m\u001b[1;33m.\u001b[0m\u001b[0mdisconnect\u001b[0m\u001b[1;33m(\u001b[0m\u001b[1;33m)\u001b[0m\u001b[1;33m\u001b[0m\u001b[0m\n\u001b[0m\u001b[0;32m    478\u001b[0m                 \u001b[1;32mif\u001b[0m \u001b[0mself\u001b[0m\u001b[1;33m.\u001b[0m\u001b[0m_pool\u001b[0m \u001b[1;32mis\u001b[0m \u001b[1;32mnot\u001b[0m \u001b[0mNone\u001b[0m\u001b[1;33m:\u001b[0m\u001b[1;33m\u001b[0m\u001b[0m\n\u001b[0;32m    479\u001b[0m                     \u001b[0mself\u001b[0m\u001b[1;33m.\u001b[0m\u001b[0m_pool\u001b[0m\u001b[1;33m.\u001b[0m\u001b[0mdisconnect\u001b[0m\u001b[1;33m(\u001b[0m\u001b[1;33m)\u001b[0m\u001b[1;33m\u001b[0m\u001b[0m\n",
      "\u001b[1;32m/usr/local/lib/python2.7/dist-packages/redis/connection.pyc\u001b[0m in \u001b[0;36mdisconnect\u001b[1;34m(self)\u001b[0m\n\u001b[0;32m    919\u001b[0m                           self._in_use_connections)\n\u001b[0;32m    920\u001b[0m         \u001b[1;32mfor\u001b[0m \u001b[0mconnection\u001b[0m \u001b[1;32min\u001b[0m \u001b[0mall_conns\u001b[0m\u001b[1;33m:\u001b[0m\u001b[1;33m\u001b[0m\u001b[0m\n\u001b[1;32m--> 921\u001b[1;33m             \u001b[0mconnection\u001b[0m\u001b[1;33m.\u001b[0m\u001b[0mdisconnect\u001b[0m\u001b[1;33m(\u001b[0m\u001b[1;33m)\u001b[0m\u001b[1;33m\u001b[0m\u001b[0m\n\u001b[0m\u001b[0;32m    922\u001b[0m \u001b[1;33m\u001b[0m\u001b[0m\n\u001b[0;32m    923\u001b[0m \u001b[1;33m\u001b[0m\u001b[0m\n",
      "\u001b[1;32m/usr/local/lib/python2.7/dist-packages/kombu/transport/redis.pyc\u001b[0m in \u001b[0;36mdisconnect\u001b[1;34m(self)\u001b[0m\n\u001b[0;32m    833\u001b[0m                 \u001b[1;32mdef\u001b[0m \u001b[0mdisconnect\u001b[0m\u001b[1;33m(\u001b[0m\u001b[0mself\u001b[0m\u001b[1;33m)\u001b[0m\u001b[1;33m:\u001b[0m\u001b[1;33m\u001b[0m\u001b[0m\n\u001b[0;32m    834\u001b[0m                     \u001b[0msuper\u001b[0m\u001b[1;33m(\u001b[0m\u001b[0mConnection\u001b[0m\u001b[1;33m,\u001b[0m \u001b[0mself\u001b[0m\u001b[1;33m)\u001b[0m\u001b[1;33m.\u001b[0m\u001b[0mdisconnect\u001b[0m\u001b[1;33m(\u001b[0m\u001b[1;33m)\u001b[0m\u001b[1;33m\u001b[0m\u001b[0m\n\u001b[1;32m--> 835\u001b[1;33m                     \u001b[0mchannel\u001b[0m\u001b[1;33m.\u001b[0m\u001b[0m_on_connection_disconnect\u001b[0m\u001b[1;33m(\u001b[0m\u001b[0mself\u001b[0m\u001b[1;33m)\u001b[0m\u001b[1;33m\u001b[0m\u001b[0m\n\u001b[0m\u001b[0;32m    836\u001b[0m             \u001b[0mconnparams\u001b[0m\u001b[1;33m[\u001b[0m\u001b[1;34m'connection_class'\u001b[0m\u001b[1;33m]\u001b[0m \u001b[1;33m=\u001b[0m \u001b[0mConnection\u001b[0m\u001b[1;33m\u001b[0m\u001b[0m\n\u001b[0;32m    837\u001b[0m \u001b[1;33m\u001b[0m\u001b[0m\n",
      "\u001b[1;32m/usr/local/lib/python2.7/dist-packages/kombu/transport/redis.pyc\u001b[0m in \u001b[0;36m_on_connection_disconnect\u001b[1;34m(self, connection)\u001b[0m\n\u001b[0;32m    489\u001b[0m         \u001b[0mself\u001b[0m\u001b[1;33m.\u001b[0m\u001b[0m_disconnect_pools\u001b[0m\u001b[1;33m(\u001b[0m\u001b[1;33m)\u001b[0m\u001b[1;33m\u001b[0m\u001b[0m\n\u001b[0;32m    490\u001b[0m         \u001b[1;32mif\u001b[0m \u001b[1;32mnot\u001b[0m \u001b[0mself\u001b[0m\u001b[1;33m.\u001b[0m\u001b[0m_closing\u001b[0m\u001b[1;33m:\u001b[0m\u001b[1;33m\u001b[0m\u001b[0m\n\u001b[1;32m--> 491\u001b[1;33m             \u001b[1;32mraise\u001b[0m \u001b[0mget_redis_ConnectionError\u001b[0m\u001b[1;33m(\u001b[0m\u001b[1;33m)\u001b[0m\u001b[1;33m\u001b[0m\u001b[0m\n\u001b[0m\u001b[0;32m    492\u001b[0m \u001b[1;33m\u001b[0m\u001b[0m\n\u001b[0;32m    493\u001b[0m     def _do_restore_message(self, payload, exchange, routing_key,\n",
      "\u001b[1;31mConnectionError\u001b[0m: "
     ]
    }
   ],
   "source": [
    "# 1,088\n",
    "strategy_id = 2\n",
    "build_algo(strategy_id)"
   ]
  },
  {
   "cell_type": "code",
   "execution_count": null,
   "metadata": {
    "collapsed": true
   },
   "outputs": [],
   "source": []
  },
  {
   "cell_type": "code",
   "execution_count": null,
   "metadata": {
    "collapsed": true
   },
   "outputs": [],
   "source": []
  },
  {
   "cell_type": "code",
   "execution_count": null,
   "metadata": {
    "collapsed": true
   },
   "outputs": [],
   "source": []
  },
  {
   "cell_type": "code",
   "execution_count": null,
   "metadata": {
    "collapsed": true
   },
   "outputs": [],
   "source": []
  },
  {
   "cell_type": "code",
   "execution_count": null,
   "metadata": {
    "collapsed": true
   },
   "outputs": [],
   "source": []
  },
  {
   "cell_type": "code",
   "execution_count": null,
   "metadata": {
    "collapsed": true
   },
   "outputs": [],
   "source": []
  },
  {
   "cell_type": "markdown",
   "metadata": {},
   "source": [
    "---\n",
    "\n",
    "---\n",
    "\n",
    "---"
   ]
  },
  {
   "cell_type": "code",
   "execution_count": 73,
   "metadata": {
    "collapsed": true
   },
   "outputs": [],
   "source": [
    "#!cat /project/tools/training/train.py\n",
    "\n",
    "from __future__ import print_function\n",
    "\n",
    "from drivers.chainer.trainer import Trainer\n",
    "from utils import parse_json\n",
    "import numpy as np\n",
    "\n",
    "# \n",
    "import pytz\n",
    "import datetime\n",
    "import json\n",
    "\n",
    "def parse_date(d):\n",
    "    return pytz.utc.localize(datetime.datetime.strptime(d, \"%Y%m%d\"))\n",
    "\n",
    "def load_json(fn):\n",
    "    with open(fn, \"r\") as f:\n",
    "        return json.load(f)\n",
    "\n",
    "def parse_gpus(gpus):\n",
    "    nums = map(lambda n: int(n), gpus.split(\",\"))\n",
    "    return nums\n",
    "\n",
    "def start_tlog(args):\n",
    "    from ml.trainlogging import TrainLogger\n",
    "    tlog = TrainLogger(args.prefix)\n",
    "    tlog.put(dataset=args.dataset,\n",
    "             model_params=args.model_params,\n",
    "             args=args)\n",
    "    return tlog"
   ]
  },
  {
   "cell_type": "code",
   "execution_count": null,
   "metadata": {
    "collapsed": true
   },
   "outputs": [],
   "source": [
    "# def main(args):\n",
    "\n",
    "if args.feature_mp is not None:\n",
    "    print(\"Overloading features:{0}\".format(args.feature_mp[\"features\"]))\n",
    "    args.model_params[\"features\"] = args.feature_mp[\"features\"]\n",
    "    args.model_params[\"version\"] = args.feature_mp[\"version\"]\n",
    "\n",
    "args.model_params[\"config\"][\"link\"] = \"lstm\" \\\n",
    "    if args.link == \"lstm\" else \"gru\""
   ]
  },
  {
   "cell_type": "code",
   "execution_count": 69,
   "metadata": {
    "collapsed": true
   },
   "outputs": [],
   "source": [
    "model_params = load_json(\"/project/exp/list_mp.json\")\n",
    "dataset = load_json(\"/project/exp/list.json\")\n",
    "gpu = 0\n",
    "training_id = \"test_1337\"\n",
    "\n",
    "bt_start = datetime.datetime(2014, 12, 1, tzinfo=pytz.utc)\n",
    "bt_end = datetime.datetime(2015, 10, 1, tzinfo=pytz.utc)\n",
    "bt_batch_size = 50\n",
    "\n",
    "link = \"lstm\"\n",
    "gpu = 0\n",
    "prefix = \"\"\n",
    "algoci = \"store_true\"\n",
    "#title =     \n",
    "\n",
    "bt_is_buy = True\n",
    "bt_loss_cut = 10.0\n",
    "bt_profit_take = 0.0\n",
    "bt_threshold = 0.85\n",
    "\n",
    "meta = {}"
   ]
  },
  {
   "cell_type": "code",
   "execution_count": 58,
   "metadata": {
    "collapsed": false
   },
   "outputs": [
    {
     "name": "stderr",
     "output_type": "stream",
     "text": [
      "/usr/local/lib/python2.7/dist-packages/chainer/cuda.py:85: UserWarning: cuDNN is not enabled.\n",
      "Please reinstall chainer after you install cudnn\n",
      "(see https://github.com/pfnet/chainer#installation).\n",
      "  'cuDNN is not enabled.\\n'\n"
     ]
    }
   ],
   "source": [
    "# training\n",
    "trainer = Trainer(\n",
    "    model_params, parse_json(dataset), gpu_id=gpu)"
   ]
  },
  {
   "cell_type": "code",
   "execution_count": 59,
   "metadata": {
    "collapsed": true
   },
   "outputs": [
    {
     "name": "stdout",
     "output_type": "stream",
     "text": [
      "[1] Loss=3.85031359536e-05\n",
      "[2] Loss=5.53553313999e-06\n",
      "[3] Loss=5.41972491767e-06\n",
      "[4] Loss=5.38392512353e-06\n",
      "[5] Loss=5.34535273091e-06\n",
      "[6] Loss=5.30920742632e-06\n",
      "[7] Loss=5.29900782711e-06\n",
      "[8] Loss=5.2880693923e-06\n",
      "[9] Loss=5.266893696e-06\n",
      "[10] Loss=5.26070693037e-06\n",
      "[11] Loss=5.26265095878e-06\n",
      "[12] Loss=5.26895071124e-06\n",
      "[13] Loss=5.30076125166e-06\n",
      "[14] Loss=5.28922087544e-06\n",
      "[15] Loss=5.20020756093e-06\n",
      "[16] Loss=5.15147912633e-06\n",
      "[17] Loss=5.10246151096e-06\n",
      "[18] Loss=5.04373619845e-06\n",
      "[19] Loss=5.15592949731e-06\n",
      "[20] Loss=5.8204629919e-06\n",
      "[21] Loss=5.41362592152e-06\n",
      "[22] Loss=5.37154438731e-06\n",
      "[23] Loss=5.26257563423e-06\n",
      "[24] Loss=5.8330644618e-06\n",
      "[25] Loss=5.31723571348e-06\n",
      "[26] Loss=5.25289675692e-06\n",
      "[27] Loss=5.22607663176e-06\n"
     ]
    },
    {
     "ename": "KeyboardInterrupt",
     "evalue": "",
     "output_type": "error",
     "traceback": [
      "\u001b[1;31m---------------------------------------------------------------------------\u001b[0m",
      "\u001b[1;31mKeyboardInterrupt\u001b[0m                         Traceback (most recent call last)",
      "\u001b[1;32m<ipython-input-59-eb312e699096>\u001b[0m in \u001b[0;36m<module>\u001b[1;34m()\u001b[0m\n\u001b[0;32m     23\u001b[0m \u001b[1;33m\u001b[0m\u001b[0m\n\u001b[0;32m     24\u001b[0m \u001b[1;31m# trainer.run(logging_hook=logging_hook, status_hook=status_hook)\u001b[0m\u001b[1;33m\u001b[0m\u001b[1;33m\u001b[0m\u001b[0m\n\u001b[1;32m---> 25\u001b[1;33m \u001b[0mtrainer\u001b[0m\u001b[1;33m.\u001b[0m\u001b[0mrun\u001b[0m\u001b[1;33m(\u001b[0m\u001b[0mstatus_hook\u001b[0m\u001b[1;33m=\u001b[0m\u001b[0mstatus_hook\u001b[0m\u001b[1;33m)\u001b[0m\u001b[1;33m\u001b[0m\u001b[0m\n\u001b[0m",
      "\u001b[1;32m/project/python/lib/drivers/chainer/trainer.pyc\u001b[0m in \u001b[0;36mrun\u001b[1;34m(self, status_hook, logging_hook)\u001b[0m\n\u001b[0;32m    553\u001b[0m             \u001b[0mn_layers\u001b[0m \u001b[1;33m=\u001b[0m \u001b[0mself\u001b[0m\u001b[1;33m.\u001b[0m\u001b[0mcheck_layer\u001b[0m\u001b[1;33m(\u001b[0m\u001b[0mstopper\u001b[0m\u001b[1;33m.\u001b[0m\u001b[0miter\u001b[0m\u001b[1;33m,\u001b[0m \u001b[0mn_layers\u001b[0m\u001b[1;33m)\u001b[0m\u001b[1;33m\u001b[0m\u001b[0m\n\u001b[0;32m    554\u001b[0m \u001b[1;33m\u001b[0m\u001b[0m\n\u001b[1;32m--> 555\u001b[1;33m             \u001b[0mcursor\u001b[0m\u001b[1;33m,\u001b[0m \u001b[0ml\u001b[0m \u001b[1;33m=\u001b[0m \u001b[0mself\u001b[0m\u001b[1;33m.\u001b[0m\u001b[0m_update\u001b[0m\u001b[1;33m(\u001b[0m\u001b[0mstopper\u001b[0m\u001b[1;33m.\u001b[0m\u001b[0miter\u001b[0m\u001b[1;33m,\u001b[0m \u001b[0mcursor\u001b[0m\u001b[1;33m)\u001b[0m\u001b[1;33m\u001b[0m\u001b[0m\n\u001b[0m\u001b[0;32m    556\u001b[0m             \u001b[0mself\u001b[0m\u001b[1;33m.\u001b[0m\u001b[0mtrain_loss_curve\u001b[0m\u001b[1;33m.\u001b[0m\u001b[0mappend\u001b[0m\u001b[1;33m(\u001b[0m\u001b[1;33m(\u001b[0m\u001b[0mlen\u001b[0m\u001b[1;33m(\u001b[0m\u001b[0mself\u001b[0m\u001b[1;33m.\u001b[0m\u001b[0mtrain_loss_curve\u001b[0m\u001b[1;33m)\u001b[0m\u001b[1;33m,\u001b[0m \u001b[0ml\u001b[0m\u001b[1;33m)\u001b[0m\u001b[1;33m)\u001b[0m\u001b[1;33m\u001b[0m\u001b[0m\n\u001b[0;32m    557\u001b[0m \u001b[1;33m\u001b[0m\u001b[0m\n",
      "\u001b[1;32m/project/python/lib/drivers/chainer/trainer.pyc\u001b[0m in \u001b[0;36m_update\u001b[1;34m(self, itr, cursor)\u001b[0m\n\u001b[0;32m    448\u001b[0m         \u001b[1;32mfor\u001b[0m \u001b[0mworker\u001b[0m \u001b[1;32min\u001b[0m \u001b[0mself\u001b[0m\u001b[1;33m.\u001b[0m\u001b[0mworkers\u001b[0m\u001b[1;33m[\u001b[0m\u001b[1;36m1\u001b[0m\u001b[1;33m:\u001b[0m\u001b[1;33m]\u001b[0m\u001b[1;33m:\u001b[0m\u001b[1;33m\u001b[0m\u001b[0m\n\u001b[0;32m    449\u001b[0m             \u001b[0mjobs\u001b[0m\u001b[1;33m.\u001b[0m\u001b[0mappend\u001b[0m\u001b[1;33m(\u001b[0m\u001b[0mworker\u001b[0m\u001b[1;33m.\u001b[0m\u001b[0mforward_backward\u001b[0m\u001b[1;33m(\u001b[0m\u001b[0mk_begin\u001b[0m\u001b[1;33m,\u001b[0m \u001b[0mk_end\u001b[0m\u001b[1;33m)\u001b[0m\u001b[1;33m)\u001b[0m\u001b[1;33m\u001b[0m\u001b[0m\n\u001b[1;32m--> 450\u001b[1;33m         \u001b[0mjobs\u001b[0m\u001b[1;33m[\u001b[0m\u001b[1;36m0\u001b[0m\u001b[1;33m]\u001b[0m \u001b[1;33m=\u001b[0m \u001b[0mself\u001b[0m\u001b[1;33m.\u001b[0m\u001b[0mworkers\u001b[0m\u001b[1;33m[\u001b[0m\u001b[1;36m0\u001b[0m\u001b[1;33m]\u001b[0m\u001b[1;33m.\u001b[0m\u001b[0mforward_backward\u001b[0m\u001b[1;33m(\u001b[0m\u001b[0mk_begin\u001b[0m\u001b[1;33m,\u001b[0m \u001b[0mk_end\u001b[0m\u001b[1;33m)\u001b[0m\u001b[1;33m\u001b[0m\u001b[0m\n\u001b[0m\u001b[0;32m    451\u001b[0m \u001b[1;33m\u001b[0m\u001b[0m\n\u001b[0;32m    452\u001b[0m         \u001b[0mn_x\u001b[0m \u001b[1;33m=\u001b[0m \u001b[1;36m0\u001b[0m\u001b[1;33m\u001b[0m\u001b[0m\n",
      "\u001b[1;32m/project/python/lib/drivers/chainer/trainer.pyc\u001b[0m in \u001b[0;36mforward_backward\u001b[1;34m(self, k_begin, k_end)\u001b[0m\n\u001b[0;32m    323\u001b[0m \u001b[1;33m\u001b[0m\u001b[0m\n\u001b[0;32m    324\u001b[0m     \u001b[1;32mdef\u001b[0m \u001b[0mforward_backward\u001b[0m\u001b[1;33m(\u001b[0m\u001b[0mself\u001b[0m\u001b[1;33m,\u001b[0m \u001b[0mk_begin\u001b[0m\u001b[1;33m,\u001b[0m \u001b[0mk_end\u001b[0m\u001b[1;33m)\u001b[0m\u001b[1;33m:\u001b[0m\u001b[1;33m\u001b[0m\u001b[0m\n\u001b[1;32m--> 325\u001b[1;33m         \u001b[1;32mreturn\u001b[0m \u001b[0mself\u001b[0m\u001b[1;33m.\u001b[0m\u001b[0mmanager\u001b[0m\u001b[1;33m.\u001b[0m\u001b[0mforward_backward\u001b[0m\u001b[1;33m(\u001b[0m\u001b[0mk_begin\u001b[0m\u001b[1;33m,\u001b[0m \u001b[0mk_end\u001b[0m\u001b[1;33m)\u001b[0m\u001b[1;33m\u001b[0m\u001b[0m\n\u001b[0m\u001b[0;32m    326\u001b[0m \u001b[1;33m\u001b[0m\u001b[0m\n\u001b[0;32m    327\u001b[0m     \u001b[1;32mdef\u001b[0m \u001b[0mstop\u001b[0m\u001b[1;33m(\u001b[0m\u001b[0mself\u001b[0m\u001b[1;33m)\u001b[0m\u001b[1;33m:\u001b[0m\u001b[1;33m\u001b[0m\u001b[0m\n",
      "\u001b[1;32m/project/python/lib/drivers/chainer/trainer.pyc\u001b[0m in \u001b[0;36mforward_backward\u001b[1;34m(self, k_begin, k_end, grad_clip)\u001b[0m\n\u001b[0;32m    185\u001b[0m                     \u001b[0mself\u001b[0m\u001b[1;33m.\u001b[0m\u001b[0mloss\u001b[0m \u001b[1;33m+=\u001b[0m \u001b[0mself\u001b[0m\u001b[1;33m.\u001b[0m\u001b[0mrnns\u001b[0m\u001b[1;33m[\u001b[0m\u001b[0mi\u001b[0m\u001b[1;33m]\u001b[0m\u001b[1;33m.\u001b[0m\u001b[0mloss\u001b[0m\u001b[1;33m(\u001b[0m\u001b[0my_pred\u001b[0m\u001b[1;33m,\u001b[0m \u001b[0my\u001b[0m\u001b[1;33m[\u001b[0m\u001b[0mj\u001b[0m\u001b[1;33m]\u001b[0m\u001b[1;33m,\u001b[0m \u001b[0mtrain\u001b[0m\u001b[1;33m=\u001b[0m\u001b[0mTrue\u001b[0m\u001b[1;33m)\u001b[0m\u001b[1;33m\u001b[0m\u001b[0m\n\u001b[0;32m    186\u001b[0m \u001b[1;33m\u001b[0m\u001b[0m\n\u001b[1;32m--> 187\u001b[1;33m                 \u001b[0mself\u001b[0m\u001b[1;33m.\u001b[0m\u001b[0mloss\u001b[0m\u001b[1;33m.\u001b[0m\u001b[0mbackward\u001b[0m\u001b[1;33m(\u001b[0m\u001b[1;33m)\u001b[0m\u001b[1;33m\u001b[0m\u001b[0m\n\u001b[0m\u001b[0;32m    188\u001b[0m                 \u001b[0mopt\u001b[0m\u001b[1;33m.\u001b[0m\u001b[0mclip_grads\u001b[0m\u001b[1;33m(\u001b[0m\u001b[0mgrad_clip\u001b[0m\u001b[1;33m)\u001b[0m\u001b[1;33m\u001b[0m\u001b[0m\n\u001b[0;32m    189\u001b[0m                 \u001b[0mopt\u001b[0m\u001b[1;33m.\u001b[0m\u001b[0mupdate\u001b[0m\u001b[1;33m(\u001b[0m\u001b[1;33m)\u001b[0m\u001b[1;33m\u001b[0m\u001b[0m\n",
      "\u001b[1;32m/usr/local/lib/python2.7/dist-packages/chainer/variable.pyc\u001b[0m in \u001b[0;36mbackward\u001b[1;34m(self, retain_grad)\u001b[0m\n\u001b[0;32m    275\u001b[0m             \u001b[0mout_grad\u001b[0m \u001b[1;33m=\u001b[0m \u001b[0mtuple\u001b[0m\u001b[1;33m(\u001b[0m\u001b[0mNone\u001b[0m \u001b[1;32mif\u001b[0m \u001b[0my\u001b[0m \u001b[1;32mis\u001b[0m \u001b[0mNone\u001b[0m \u001b[1;32melse\u001b[0m \u001b[0my\u001b[0m\u001b[1;33m.\u001b[0m\u001b[0mgrad\u001b[0m \u001b[1;32mfor\u001b[0m \u001b[0my\u001b[0m \u001b[1;32min\u001b[0m \u001b[0moutputs\u001b[0m\u001b[1;33m)\u001b[0m\u001b[1;33m\u001b[0m\u001b[0m\n\u001b[0;32m    276\u001b[0m             \u001b[1;32mwith\u001b[0m \u001b[0mcuda\u001b[0m\u001b[1;33m.\u001b[0m\u001b[0mget_device\u001b[0m\u001b[1;33m(\u001b[0m\u001b[1;33m*\u001b[0m\u001b[1;33m(\u001b[0m\u001b[0min_data\u001b[0m \u001b[1;33m+\u001b[0m \u001b[0mout_grad\u001b[0m\u001b[1;33m)\u001b[0m\u001b[1;33m)\u001b[0m\u001b[1;33m:\u001b[0m\u001b[1;33m\u001b[0m\u001b[0m\n\u001b[1;32m--> 277\u001b[1;33m                 \u001b[0mgxs\u001b[0m \u001b[1;33m=\u001b[0m \u001b[0mfunc\u001b[0m\u001b[1;33m.\u001b[0m\u001b[0mbackward\u001b[0m\u001b[1;33m(\u001b[0m\u001b[0min_data\u001b[0m\u001b[1;33m,\u001b[0m \u001b[0mout_grad\u001b[0m\u001b[1;33m)\u001b[0m\u001b[1;33m\u001b[0m\u001b[0m\n\u001b[0m\u001b[0;32m    278\u001b[0m             \u001b[1;32massert\u001b[0m \u001b[0mlen\u001b[0m\u001b[1;33m(\u001b[0m\u001b[0mgxs\u001b[0m\u001b[1;33m)\u001b[0m \u001b[1;33m==\u001b[0m \u001b[0mlen\u001b[0m\u001b[1;33m(\u001b[0m\u001b[0min_data\u001b[0m\u001b[1;33m)\u001b[0m\u001b[1;33m\u001b[0m\u001b[0m\n\u001b[0;32m    279\u001b[0m \u001b[1;33m\u001b[0m\u001b[0m\n",
      "\u001b[1;32m/usr/local/lib/python2.7/dist-packages/chainer/functions/activation/lstm.pyc\u001b[0m in \u001b[0;36mbackward\u001b[1;34m(self, inputs, grad_outputs)\u001b[0m\n\u001b[0;32m    127\u001b[0m                 \u001b[1;34m'lstm_bwd'\u001b[0m\u001b[1;33m,\u001b[0m \u001b[0mpreamble\u001b[0m\u001b[1;33m=\u001b[0m\u001b[0m_preamble\u001b[0m\u001b[1;33m)\u001b[0m\u001b[1;33m(\u001b[0m\u001b[1;33m\u001b[0m\u001b[0m\n\u001b[0;32m    128\u001b[0m                     \u001b[0mc_prev\u001b[0m\u001b[1;33m,\u001b[0m \u001b[0mself\u001b[0m\u001b[1;33m.\u001b[0m\u001b[0mc\u001b[0m\u001b[1;33m,\u001b[0m \u001b[0mgc\u001b[0m\u001b[1;33m,\u001b[0m \u001b[0mgh\u001b[0m\u001b[1;33m,\u001b[0m \u001b[0ma\u001b[0m\u001b[1;33m,\u001b[0m \u001b[0mi\u001b[0m\u001b[1;33m,\u001b[0m \u001b[0mf\u001b[0m\u001b[1;33m,\u001b[0m \u001b[0mo\u001b[0m\u001b[1;33m,\u001b[0m\u001b[1;33m\u001b[0m\u001b[0m\n\u001b[1;32m--> 129\u001b[1;33m                     gc_prev, ga, gi, gf, go)\n\u001b[0m\u001b[0;32m    130\u001b[0m \u001b[1;33m\u001b[0m\u001b[0m\n\u001b[0;32m    131\u001b[0m         \u001b[1;32mreturn\u001b[0m \u001b[0mgc_prev\u001b[0m\u001b[1;33m,\u001b[0m \u001b[0mgx\u001b[0m\u001b[1;33m\u001b[0m\u001b[0m\n",
      "\u001b[1;31mKeyboardInterrupt\u001b[0m: "
     ]
    }
   ],
   "source": [
    "def status_hook(iter, l):\n",
    "    print(\"[{0}] Loss={1}\".format(iter + 1, l))\n",
    "\n",
    "trainer.run(status_hook=status_hook)"
   ]
  },
  {
   "cell_type": "code",
   "execution_count": 61,
   "metadata": {
    "collapsed": false
   },
   "outputs": [],
   "source": [
    "trainer.rnn.save(\"test_1337\")"
   ]
  },
  {
   "cell_type": "code",
   "execution_count": 92,
   "metadata": {
    "collapsed": false
   },
   "outputs": [],
   "source": [
    "from trading.backtest.scorer import Scorer\n",
    "bt_result = Scorer.calc_score(\n",
    "    training_id,\n",
    "    model_params['symbol'],\n",
    "    model_params['timeframe'],\n",
    "    bt_start,\n",
    "    bt_end,\n",
    "    bt_batch_size)"
   ]
  },
  {
   "cell_type": "code",
   "execution_count": 93,
   "metadata": {
    "collapsed": false
   },
   "outputs": [
    {
     "data": {
      "text/html": [
       "<div>\n",
       "<table border=\"1\" class=\"dataframe\">\n",
       "  <thead>\n",
       "    <tr style=\"text-align: right;\">\n",
       "      <th></th>\n",
       "      <th>confidence</th>\n",
       "    </tr>\n",
       "  </thead>\n",
       "  <tbody>\n",
       "    <tr>\n",
       "      <th>2014-12-01 00:00:00+00:00</th>\n",
       "      <td>0.000289</td>\n",
       "    </tr>\n",
       "    <tr>\n",
       "      <th>2014-12-01 00:05:00+00:00</th>\n",
       "      <td>0.000244</td>\n",
       "    </tr>\n",
       "    <tr>\n",
       "      <th>2014-12-01 00:10:00+00:00</th>\n",
       "      <td>0.000237</td>\n",
       "    </tr>\n",
       "    <tr>\n",
       "      <th>2014-12-01 00:15:00+00:00</th>\n",
       "      <td>0.000288</td>\n",
       "    </tr>\n",
       "    <tr>\n",
       "      <th>2014-12-01 00:20:00+00:00</th>\n",
       "      <td>0.000349</td>\n",
       "    </tr>\n",
       "  </tbody>\n",
       "</table>\n",
       "</div>"
      ],
      "text/plain": [
       "                           confidence\n",
       "2014-12-01 00:00:00+00:00    0.000289\n",
       "2014-12-01 00:05:00+00:00    0.000244\n",
       "2014-12-01 00:10:00+00:00    0.000237\n",
       "2014-12-01 00:15:00+00:00    0.000288\n",
       "2014-12-01 00:20:00+00:00    0.000349"
      ]
     },
     "execution_count": 93,
     "metadata": {},
     "output_type": "execute_result"
    }
   ],
   "source": [
    "bt_result.head()"
   ]
  },
  {
   "cell_type": "code",
   "execution_count": 94,
   "metadata": {
    "collapsed": false
   },
   "outputs": [
    {
     "data": {
      "text/html": [
       "<div>\n",
       "<table border=\"1\" class=\"dataframe\">\n",
       "  <thead>\n",
       "    <tr style=\"text-align: right;\">\n",
       "      <th></th>\n",
       "      <th>confidence</th>\n",
       "    </tr>\n",
       "  </thead>\n",
       "  <tbody>\n",
       "    <tr>\n",
       "      <th>2014-12-02 07:50:00+00:00</th>\n",
       "      <td>0.804624</td>\n",
       "    </tr>\n",
       "    <tr>\n",
       "      <th>2014-12-02 07:55:00+00:00</th>\n",
       "      <td>0.916830</td>\n",
       "    </tr>\n",
       "    <tr>\n",
       "      <th>2014-12-02 14:10:00+00:00</th>\n",
       "      <td>0.849563</td>\n",
       "    </tr>\n",
       "    <tr>\n",
       "      <th>2014-12-02 14:15:00+00:00</th>\n",
       "      <td>0.943227</td>\n",
       "    </tr>\n",
       "    <tr>\n",
       "      <th>2014-12-02 14:20:00+00:00</th>\n",
       "      <td>0.957766</td>\n",
       "    </tr>\n",
       "  </tbody>\n",
       "</table>\n",
       "</div>"
      ],
      "text/plain": [
       "                           confidence\n",
       "2014-12-02 07:50:00+00:00    0.804624\n",
       "2014-12-02 07:55:00+00:00    0.916830\n",
       "2014-12-02 14:10:00+00:00    0.849563\n",
       "2014-12-02 14:15:00+00:00    0.943227\n",
       "2014-12-02 14:20:00+00:00    0.957766"
      ]
     },
     "execution_count": 94,
     "metadata": {},
     "output_type": "execute_result"
    }
   ],
   "source": [
    "threshold = 0.8\n",
    "bt_result[bt_result[\"confidence\"] >= threshold].head()"
   ]
  },
  {
   "cell_type": "code",
   "execution_count": 95,
   "metadata": {
    "collapsed": false
   },
   "outputs": [
    {
     "data": {
      "image/png": "[encoded data removed]",
      "text/plain": [
       "<matplotlib.figure.Figure at 0x7f89e657d610>"
      ]
     },
     "metadata": {},
     "output_type": "display_data"
    }
   ],
   "source": [
    "%matplotlib inline\n",
    "plt.plot(bt_result.values)\n",
    "plt.show()"
   ]
  },
  {
   "cell_type": "code",
   "execution_count": null,
   "metadata": {
    "collapsed": true
   },
   "outputs": [],
   "source": [
    "Scorer.calc_score"
   ]
  },
  {
   "cell_type": "code",
   "execution_count": 71,
   "metadata": {
    "collapsed": false
   },
   "outputs": [],
   "source": [
    "# profit calc\n",
    "# pc = Scorer.calc_profit(\n",
    "#     bt_result,\n",
    "#     model_params['symbol'],\n",
    "#     model_params['timeframe'],\n",
    "#     bt_is_buy,\n",
    "#     bt_loss_cut,\n",
    "#     bt_profit_take,\n",
    "#     bt_threshold)\n",
    "# trades, total_gain, num_win, num_lose, max_drawdown = pc"
   ]
  },
  {
   "cell_type": "code",
   "execution_count": 72,
   "metadata": {
    "collapsed": true
   },
   "outputs": [],
   "source": [
    "# list up args as meta info\n",
    "# meta = dict(args._get_kwargs())\n",
    "# tmp = meta.pop('meta')\n",
    "# meta.update(tmp)\n",
    "\n",
    "# submit to algo_ci\n",
    "# meta.pop('dataset')\n",
    "# meta['model_params'].pop('features')\n",
    "# from algoci import AlgoCI\n",
    "# aci = AlgoCI()\n",
    "# aci.put(\n",
    "#     training_id=tlog.training_id,\n",
    "#     loss=tlog.last_loss,\n",
    "#     # backtesting results\n",
    "#     bt_total_gain=total_gain,\n",
    "#     bt_num_win=num_win,\n",
    "#     bt_num_lose=num_lose,\n",
    "#     bt_max_drawdown=max_drawdown,\n",
    "#     # all args\n",
    "#     **meta\n",
    "# )\n",
    "\n",
    "# # print out the training id\n",
    "# print(\"training_id:{} iter:{}\".format(tlog.training_id, tlog.last_iter))\n",
    "# print(\"https://demo.capitalico.co/admin/dots/{}@{}\".format(tlog.training_id, tlog.last_iter + 1))\n",
    "# print(\"https://demo.capitalico.co/admin/loss/{}@{}\".format(tlog.training_id, tlog.last_iter + 1))\n",
    "\n",
    "# cleanup\n",
    "trainer.shutdown()"
   ]
  },
  {
   "cell_type": "code",
   "execution_count": null,
   "metadata": {
    "collapsed": true
   },
   "outputs": [],
   "source": []
  },
  {
   "cell_type": "code",
   "execution_count": null,
   "metadata": {
    "collapsed": true
   },
   "outputs": [],
   "source": []
  },
  {
   "cell_type": "code",
   "execution_count": null,
   "metadata": {
    "collapsed": true
   },
   "outputs": [],
   "source": []
  },
  {
   "cell_type": "code",
   "execution_count": 87,
   "metadata": {
    "collapsed": false
   },
   "outputs": [
    {
     "data": {
      "text/plain": [
       "{u'align': 200,\n",
       " u'basemodel': u'pb_v01_u250',\n",
       " u'batch_size': 260,\n",
       " u'dropout_ratio': 0.5,\n",
       " u'iters': 600,\n",
       " u'n_lstm': 4,\n",
       " u'n_units': 250,\n",
       " u'random_seed': 151,\n",
       " u'use_sigmoid': True}"
      ]
     },
     "execution_count": 87,
     "metadata": {},
     "output_type": "execute_result"
    }
   ],
   "source": [
    "model_params[\"config\"]"
   ]
  },
  {
   "cell_type": "code",
   "execution_count": 90,
   "metadata": {
    "collapsed": true
   },
   "outputs": [
    {
     "name": "stdout",
     "output_type": "stream",
     "text": [
      "[0] Loss = 3.85031359536e-05\n",
      "[10] Loss = 5.26265095878e-06\n",
      "[20] Loss = 5.41362592152e-06\n",
      "[30] Loss = 5.04082343081e-06\n",
      "[40] Loss = 4.82494359488e-06\n",
      "[50] Loss = 5.10265899229e-06\n",
      "[60] Loss = 4.75882141145e-06\n",
      "[70] Loss = 4.69616546736e-06\n",
      "[80] Loss = 4.39059046599e-06\n",
      "[90] Loss = 4.25043047129e-06\n",
      "[100] Loss = 4.36495424627e-06\n",
      "[110] Loss = 4.47719208487e-06\n",
      "[120] Loss = 3.75773847758e-06\n",
      "[130] Loss = 4.24015260005e-06\n",
      "[140] Loss = 3.99466857805e-06\n",
      "[150] Loss = 3.53168196731e-06\n",
      "[160] Loss = 3.43656801915e-06\n",
      "[170] Loss = 2.6765450999e-06\n",
      "[180] Loss = 3.73029512363e-06\n",
      "[190] Loss = 2.39670194767e-06\n",
      "[200] Loss = 3.44151520467e-06\n",
      "[210] Loss = 2.05702129956e-06\n",
      "[220] Loss = 2.17938652405e-06\n",
      "[230] Loss = 2.13778018951e-06\n",
      "[240] Loss = 2.33003317e-06\n",
      "[250] Loss = 1.41042962179e-06\n",
      "[260] Loss = 1.37795557033e-06\n",
      "[270] Loss = 1.25214973321e-06\n",
      "[280] Loss = 1.18918594096e-06\n",
      "[290] Loss = 8.51764210633e-07\n",
      "[300] Loss = 1.41947757412e-06\n",
      "[310] Loss = 7.25405229317e-07\n",
      "[320] Loss = 6.3019663423e-07\n",
      "[330] Loss = 5.23929821921e-07\n",
      "[340] Loss = 5.56699071939e-07\n",
      "[350] Loss = 5.8396422601e-07\n",
      "[360] Loss = 1.13413589341e-06\n",
      "[370] Loss = 6.21774530673e-07\n",
      "[380] Loss = 4.57601765027e-07\n",
      "[390] Loss = 3.89757064673e-07\n",
      "[400] Loss = 3.88606277468e-07\n",
      "[410] Loss = 5.35583430594e-07\n",
      "[420] Loss = 3.14114512978e-07\n",
      "[430] Loss = 2.44378613738e-07\n"
     ]
    },
    {
     "ename": "KeyboardInterrupt",
     "evalue": "",
     "output_type": "error",
     "traceback": [
      "\u001b[1;31m---------------------------------------------------------------------------\u001b[0m",
      "\u001b[1;31mKeyboardInterrupt\u001b[0m                         Traceback (most recent call last)",
      "\u001b[1;32m<ipython-input-90-91e299a6b027>\u001b[0m in \u001b[0;36m<module>\u001b[1;34m()\u001b[0m\n\u001b[0;32m     35\u001b[0m \u001b[0mtrainer\u001b[0m \u001b[1;33m=\u001b[0m \u001b[0mTrainer\u001b[0m\u001b[1;33m(\u001b[0m\u001b[0mmp\u001b[0m\u001b[1;33m,\u001b[0m \u001b[0mdataset\u001b[0m\u001b[1;33m,\u001b[0m \u001b[0mgpu_id\u001b[0m\u001b[1;33m=\u001b[0m\u001b[1;36m2\u001b[0m\u001b[1;33m)\u001b[0m\u001b[1;33m\u001b[0m\u001b[0m\n\u001b[0;32m     36\u001b[0m \u001b[0mcallback\u001b[0m \u001b[1;33m=\u001b[0m \u001b[1;32mlambda\u001b[0m \u001b[0mi\u001b[0m\u001b[1;33m,\u001b[0m \u001b[0ml\u001b[0m\u001b[1;33m,\u001b[0m \u001b[0ms\u001b[0m\u001b[1;33m=\u001b[0m\u001b[0mseed\u001b[0m\u001b[1;33m,\u001b[0m \u001b[0mt\u001b[0m\u001b[1;33m=\u001b[0m\u001b[0mtrainer\u001b[0m\u001b[1;33m:\u001b[0m \u001b[0mstatus_hook\u001b[0m\u001b[1;33m(\u001b[0m\u001b[0mi\u001b[0m\u001b[1;33m,\u001b[0m \u001b[0ml\u001b[0m\u001b[1;33m,\u001b[0m \u001b[0ms\u001b[0m\u001b[1;33m,\u001b[0m \u001b[0mt\u001b[0m\u001b[1;33m)\u001b[0m\u001b[1;33m\u001b[0m\u001b[0m\n\u001b[1;32m---> 37\u001b[1;33m \u001b[0mtrainer\u001b[0m\u001b[1;33m.\u001b[0m\u001b[0mrun\u001b[0m\u001b[1;33m(\u001b[0m\u001b[0mstatus_hook\u001b[0m\u001b[1;33m=\u001b[0m\u001b[0mcallback\u001b[0m\u001b[1;33m)\u001b[0m\u001b[1;33m\u001b[0m\u001b[0m\n\u001b[0m",
      "\u001b[1;32m/project/python/lib/drivers/chainer/trainer.pyc\u001b[0m in \u001b[0;36mrun\u001b[1;34m(self, status_hook, logging_hook)\u001b[0m\n\u001b[0;32m    553\u001b[0m             \u001b[0mn_layers\u001b[0m \u001b[1;33m=\u001b[0m \u001b[0mself\u001b[0m\u001b[1;33m.\u001b[0m\u001b[0mcheck_layer\u001b[0m\u001b[1;33m(\u001b[0m\u001b[0mstopper\u001b[0m\u001b[1;33m.\u001b[0m\u001b[0miter\u001b[0m\u001b[1;33m,\u001b[0m \u001b[0mn_layers\u001b[0m\u001b[1;33m)\u001b[0m\u001b[1;33m\u001b[0m\u001b[0m\n\u001b[0;32m    554\u001b[0m \u001b[1;33m\u001b[0m\u001b[0m\n\u001b[1;32m--> 555\u001b[1;33m             \u001b[0mcursor\u001b[0m\u001b[1;33m,\u001b[0m \u001b[0ml\u001b[0m \u001b[1;33m=\u001b[0m \u001b[0mself\u001b[0m\u001b[1;33m.\u001b[0m\u001b[0m_update\u001b[0m\u001b[1;33m(\u001b[0m\u001b[0mstopper\u001b[0m\u001b[1;33m.\u001b[0m\u001b[0miter\u001b[0m\u001b[1;33m,\u001b[0m \u001b[0mcursor\u001b[0m\u001b[1;33m)\u001b[0m\u001b[1;33m\u001b[0m\u001b[0m\n\u001b[0m\u001b[0;32m    556\u001b[0m             \u001b[0mself\u001b[0m\u001b[1;33m.\u001b[0m\u001b[0mtrain_loss_curve\u001b[0m\u001b[1;33m.\u001b[0m\u001b[0mappend\u001b[0m\u001b[1;33m(\u001b[0m\u001b[1;33m(\u001b[0m\u001b[0mlen\u001b[0m\u001b[1;33m(\u001b[0m\u001b[0mself\u001b[0m\u001b[1;33m.\u001b[0m\u001b[0mtrain_loss_curve\u001b[0m\u001b[1;33m)\u001b[0m\u001b[1;33m,\u001b[0m \u001b[0ml\u001b[0m\u001b[1;33m)\u001b[0m\u001b[1;33m)\u001b[0m\u001b[1;33m\u001b[0m\u001b[0m\n\u001b[0;32m    557\u001b[0m \u001b[1;33m\u001b[0m\u001b[0m\n",
      "\u001b[1;32m/project/python/lib/drivers/chainer/trainer.pyc\u001b[0m in \u001b[0;36m_update\u001b[1;34m(self, itr, cursor)\u001b[0m\n\u001b[0;32m    448\u001b[0m         \u001b[1;32mfor\u001b[0m \u001b[0mworker\u001b[0m \u001b[1;32min\u001b[0m \u001b[0mself\u001b[0m\u001b[1;33m.\u001b[0m\u001b[0mworkers\u001b[0m\u001b[1;33m[\u001b[0m\u001b[1;36m1\u001b[0m\u001b[1;33m:\u001b[0m\u001b[1;33m]\u001b[0m\u001b[1;33m:\u001b[0m\u001b[1;33m\u001b[0m\u001b[0m\n\u001b[0;32m    449\u001b[0m             \u001b[0mjobs\u001b[0m\u001b[1;33m.\u001b[0m\u001b[0mappend\u001b[0m\u001b[1;33m(\u001b[0m\u001b[0mworker\u001b[0m\u001b[1;33m.\u001b[0m\u001b[0mforward_backward\u001b[0m\u001b[1;33m(\u001b[0m\u001b[0mk_begin\u001b[0m\u001b[1;33m,\u001b[0m \u001b[0mk_end\u001b[0m\u001b[1;33m)\u001b[0m\u001b[1;33m)\u001b[0m\u001b[1;33m\u001b[0m\u001b[0m\n\u001b[1;32m--> 450\u001b[1;33m         \u001b[0mjobs\u001b[0m\u001b[1;33m[\u001b[0m\u001b[1;36m0\u001b[0m\u001b[1;33m]\u001b[0m \u001b[1;33m=\u001b[0m \u001b[0mself\u001b[0m\u001b[1;33m.\u001b[0m\u001b[0mworkers\u001b[0m\u001b[1;33m[\u001b[0m\u001b[1;36m0\u001b[0m\u001b[1;33m]\u001b[0m\u001b[1;33m.\u001b[0m\u001b[0mforward_backward\u001b[0m\u001b[1;33m(\u001b[0m\u001b[0mk_begin\u001b[0m\u001b[1;33m,\u001b[0m \u001b[0mk_end\u001b[0m\u001b[1;33m)\u001b[0m\u001b[1;33m\u001b[0m\u001b[0m\n\u001b[0m\u001b[0;32m    451\u001b[0m \u001b[1;33m\u001b[0m\u001b[0m\n\u001b[0;32m    452\u001b[0m         \u001b[0mn_x\u001b[0m \u001b[1;33m=\u001b[0m \u001b[1;36m0\u001b[0m\u001b[1;33m\u001b[0m\u001b[0m\n",
      "\u001b[1;32m/project/python/lib/drivers/chainer/trainer.pyc\u001b[0m in \u001b[0;36mforward_backward\u001b[1;34m(self, k_begin, k_end)\u001b[0m\n\u001b[0;32m    323\u001b[0m \u001b[1;33m\u001b[0m\u001b[0m\n\u001b[0;32m    324\u001b[0m     \u001b[1;32mdef\u001b[0m \u001b[0mforward_backward\u001b[0m\u001b[1;33m(\u001b[0m\u001b[0mself\u001b[0m\u001b[1;33m,\u001b[0m \u001b[0mk_begin\u001b[0m\u001b[1;33m,\u001b[0m \u001b[0mk_end\u001b[0m\u001b[1;33m)\u001b[0m\u001b[1;33m:\u001b[0m\u001b[1;33m\u001b[0m\u001b[0m\n\u001b[1;32m--> 325\u001b[1;33m         \u001b[1;32mreturn\u001b[0m \u001b[0mself\u001b[0m\u001b[1;33m.\u001b[0m\u001b[0mmanager\u001b[0m\u001b[1;33m.\u001b[0m\u001b[0mforward_backward\u001b[0m\u001b[1;33m(\u001b[0m\u001b[0mk_begin\u001b[0m\u001b[1;33m,\u001b[0m \u001b[0mk_end\u001b[0m\u001b[1;33m)\u001b[0m\u001b[1;33m\u001b[0m\u001b[0m\n\u001b[0m\u001b[0;32m    326\u001b[0m \u001b[1;33m\u001b[0m\u001b[0m\n\u001b[0;32m    327\u001b[0m     \u001b[1;32mdef\u001b[0m \u001b[0mstop\u001b[0m\u001b[1;33m(\u001b[0m\u001b[0mself\u001b[0m\u001b[1;33m)\u001b[0m\u001b[1;33m:\u001b[0m\u001b[1;33m\u001b[0m\u001b[0m\n",
      "\u001b[1;32m/project/python/lib/drivers/chainer/trainer.pyc\u001b[0m in \u001b[0;36mforward_backward\u001b[1;34m(self, k_begin, k_end, grad_clip)\u001b[0m\n\u001b[0;32m    185\u001b[0m                     \u001b[0mself\u001b[0m\u001b[1;33m.\u001b[0m\u001b[0mloss\u001b[0m \u001b[1;33m+=\u001b[0m \u001b[0mself\u001b[0m\u001b[1;33m.\u001b[0m\u001b[0mrnns\u001b[0m\u001b[1;33m[\u001b[0m\u001b[0mi\u001b[0m\u001b[1;33m]\u001b[0m\u001b[1;33m.\u001b[0m\u001b[0mloss\u001b[0m\u001b[1;33m(\u001b[0m\u001b[0my_pred\u001b[0m\u001b[1;33m,\u001b[0m \u001b[0my\u001b[0m\u001b[1;33m[\u001b[0m\u001b[0mj\u001b[0m\u001b[1;33m]\u001b[0m\u001b[1;33m,\u001b[0m \u001b[0mtrain\u001b[0m\u001b[1;33m=\u001b[0m\u001b[0mTrue\u001b[0m\u001b[1;33m)\u001b[0m\u001b[1;33m\u001b[0m\u001b[0m\n\u001b[0;32m    186\u001b[0m \u001b[1;33m\u001b[0m\u001b[0m\n\u001b[1;32m--> 187\u001b[1;33m                 \u001b[0mself\u001b[0m\u001b[1;33m.\u001b[0m\u001b[0mloss\u001b[0m\u001b[1;33m.\u001b[0m\u001b[0mbackward\u001b[0m\u001b[1;33m(\u001b[0m\u001b[1;33m)\u001b[0m\u001b[1;33m\u001b[0m\u001b[0m\n\u001b[0m\u001b[0;32m    188\u001b[0m                 \u001b[0mopt\u001b[0m\u001b[1;33m.\u001b[0m\u001b[0mclip_grads\u001b[0m\u001b[1;33m(\u001b[0m\u001b[0mgrad_clip\u001b[0m\u001b[1;33m)\u001b[0m\u001b[1;33m\u001b[0m\u001b[0m\n\u001b[0;32m    189\u001b[0m                 \u001b[0mopt\u001b[0m\u001b[1;33m.\u001b[0m\u001b[0mupdate\u001b[0m\u001b[1;33m(\u001b[0m\u001b[1;33m)\u001b[0m\u001b[1;33m\u001b[0m\u001b[0m\n",
      "\u001b[1;32m/usr/local/lib/python2.7/dist-packages/chainer/variable.pyc\u001b[0m in \u001b[0;36mbackward\u001b[1;34m(self, retain_grad)\u001b[0m\n\u001b[0;32m    275\u001b[0m             \u001b[0mout_grad\u001b[0m \u001b[1;33m=\u001b[0m \u001b[0mtuple\u001b[0m\u001b[1;33m(\u001b[0m\u001b[0mNone\u001b[0m \u001b[1;32mif\u001b[0m \u001b[0my\u001b[0m \u001b[1;32mis\u001b[0m \u001b[0mNone\u001b[0m \u001b[1;32melse\u001b[0m \u001b[0my\u001b[0m\u001b[1;33m.\u001b[0m\u001b[0mgrad\u001b[0m \u001b[1;32mfor\u001b[0m \u001b[0my\u001b[0m \u001b[1;32min\u001b[0m \u001b[0moutputs\u001b[0m\u001b[1;33m)\u001b[0m\u001b[1;33m\u001b[0m\u001b[0m\n\u001b[0;32m    276\u001b[0m             \u001b[1;32mwith\u001b[0m \u001b[0mcuda\u001b[0m\u001b[1;33m.\u001b[0m\u001b[0mget_device\u001b[0m\u001b[1;33m(\u001b[0m\u001b[1;33m*\u001b[0m\u001b[1;33m(\u001b[0m\u001b[0min_data\u001b[0m \u001b[1;33m+\u001b[0m \u001b[0mout_grad\u001b[0m\u001b[1;33m)\u001b[0m\u001b[1;33m)\u001b[0m\u001b[1;33m:\u001b[0m\u001b[1;33m\u001b[0m\u001b[0m\n\u001b[1;32m--> 277\u001b[1;33m                 \u001b[0mgxs\u001b[0m \u001b[1;33m=\u001b[0m \u001b[0mfunc\u001b[0m\u001b[1;33m.\u001b[0m\u001b[0mbackward\u001b[0m\u001b[1;33m(\u001b[0m\u001b[0min_data\u001b[0m\u001b[1;33m,\u001b[0m \u001b[0mout_grad\u001b[0m\u001b[1;33m)\u001b[0m\u001b[1;33m\u001b[0m\u001b[0m\n\u001b[0m\u001b[0;32m    278\u001b[0m             \u001b[1;32massert\u001b[0m \u001b[0mlen\u001b[0m\u001b[1;33m(\u001b[0m\u001b[0mgxs\u001b[0m\u001b[1;33m)\u001b[0m \u001b[1;33m==\u001b[0m \u001b[0mlen\u001b[0m\u001b[1;33m(\u001b[0m\u001b[0min_data\u001b[0m\u001b[1;33m)\u001b[0m\u001b[1;33m\u001b[0m\u001b[0m\n\u001b[0;32m    279\u001b[0m \u001b[1;33m\u001b[0m\u001b[0m\n",
      "\u001b[1;32m/usr/local/lib/python2.7/dist-packages/chainer/functions/activation/lstm.pyc\u001b[0m in \u001b[0;36mbackward\u001b[1;34m(self, inputs, grad_outputs)\u001b[0m\n\u001b[0;32m    127\u001b[0m                 \u001b[1;34m'lstm_bwd'\u001b[0m\u001b[1;33m,\u001b[0m \u001b[0mpreamble\u001b[0m\u001b[1;33m=\u001b[0m\u001b[0m_preamble\u001b[0m\u001b[1;33m)\u001b[0m\u001b[1;33m(\u001b[0m\u001b[1;33m\u001b[0m\u001b[0m\n\u001b[0;32m    128\u001b[0m                     \u001b[0mc_prev\u001b[0m\u001b[1;33m,\u001b[0m \u001b[0mself\u001b[0m\u001b[1;33m.\u001b[0m\u001b[0mc\u001b[0m\u001b[1;33m,\u001b[0m \u001b[0mgc\u001b[0m\u001b[1;33m,\u001b[0m \u001b[0mgh\u001b[0m\u001b[1;33m,\u001b[0m \u001b[0ma\u001b[0m\u001b[1;33m,\u001b[0m \u001b[0mi\u001b[0m\u001b[1;33m,\u001b[0m \u001b[0mf\u001b[0m\u001b[1;33m,\u001b[0m \u001b[0mo\u001b[0m\u001b[1;33m,\u001b[0m\u001b[1;33m\u001b[0m\u001b[0m\n\u001b[1;32m--> 129\u001b[1;33m                     gc_prev, ga, gi, gf, go)\n\u001b[0m\u001b[0;32m    130\u001b[0m \u001b[1;33m\u001b[0m\u001b[0m\n\u001b[0;32m    131\u001b[0m         \u001b[1;32mreturn\u001b[0m \u001b[0mgc_prev\u001b[0m\u001b[1;33m,\u001b[0m \u001b[0mgx\u001b[0m\u001b[1;33m\u001b[0m\u001b[0m\n",
      "\u001b[1;31mKeyboardInterrupt\u001b[0m: "
     ]
    }
   ],
   "source": [
    "from drivers.chainer.trainer import Trainer\n",
    "import json\n",
    "from utils import parse_json\n",
    "from nb_utils import compare\n",
    "\n",
    "def status_hook(i, l, seed, t):\n",
    "    if i % 10 == 0:\n",
    "        print('[{0}] Loss = {1}'.format(i, l))\n",
    "    if (i + 1) % 100 == 0:\n",
    "        t.rnn.model.to_cpu()\n",
    "        compare.set_model_to_cache(t.rnn, '{0}_{1}.{2}'.format('${NAME}', i + 1, seed))\n",
    "        with t.rnn.handler.device:\n",
    "            t.rnn.model.to_gpu()\n",
    "\n",
    "def logging_hook(i, train_dots, test_dots, train_loss, test_loss, model, seed):\n",
    "    with open('{0}_{1}.{2}.pkl'.format('${NAME}', i + 1, seed), \"w\") as fp:\n",
    "        fp.write(json.dumps({\n",
    "            'train_dots': train_dots,\n",
    "            'test_dots': test_dots,\n",
    "            'train_loss': train_loss,\n",
    "            'test_loss': test_loss,\n",
    "        }))\n",
    "\n",
    "def load_json(path):\n",
    "    with open(path) as fp:\n",
    "        return json.loads(fp.read())\n",
    "\n",
    "dataset = parse_json(load_json('/project/exp/list.json'))\n",
    "\n",
    "mp = load_json(\"/project/exp/list_mp.json\")\n",
    "# for seed in [150, 151, 152]:\n",
    "seed = 151\n",
    "\n",
    "mp['config']['random_seed'] = seed\n",
    "trainer = Trainer(mp, dataset, gpu_id=2)\n",
    "callback = lambda i, l, s=seed, t=trainer: status_hook(i, l, s, t)\n",
    "trainer.run(status_hook=callback)"
   ]
  },
  {
   "cell_type": "code",
   "execution_count": 91,
   "metadata": {
    "collapsed": true
   },
   "outputs": [],
   "source": [
    "trainer.rnn.save(\"test_1337\")"
   ]
  },
  {
   "cell_type": "markdown",
   "metadata": {},
   "source": [
    "---\n",
    "\n",
    "---\n",
    "\n",
    "---"
   ]
  },
  {
   "cell_type": "code",
   "execution_count": null,
   "metadata": {
    "collapsed": false
   },
   "outputs": [],
   "source": [
    "# dummy_scores_debug = pd.DataFrame({\"confidence\":[0.7,0.7,0.7]})\n",
    "# dummy_scores_debug"
   ]
  },
  {
   "cell_type": "code",
   "execution_count": 125,
   "metadata": {
    "collapsed": false
   },
   "outputs": [],
   "source": [
    "backtest = Backtest(\"EURUSD\",scores=bt_result)\n",
    "ratio = Ratio(3,1) #profit_take : loss_cut = a : b\n",
    "optimizer = Optimizer(backtest,ratio,\"long\",threshold=0.95) # side: \"long\" or \"short\", "
   ]
  },
  {
   "cell_type": "code",
   "execution_count": 126,
   "metadata": {
    "collapsed": false
   },
   "outputs": [],
   "source": [
    "#%%time\n",
    "o = optimizer.optimize(timeframe='5Min')"
   ]
  },
  {
   "cell_type": "code",
   "execution_count": 127,
   "metadata": {
    "collapsed": false
   },
   "outputs": [
    {
     "name": "stdout",
     "output_type": "stream",
     "text": [
      "15 5\n",
      "-47.4999999999\n"
     ]
    }
   ],
   "source": [
    "print(o.profit_take,o.loss_cut)\n",
    "print(o.account.balance)"
   ]
  },
  {
   "cell_type": "code",
   "execution_count": 87,
   "metadata": {
    "collapsed": true
   },
   "outputs": [],
   "source": [
    "# current best algo ID: 1,088\n",
    "# 20160310-174703_slk80-4-app-2-www_dc399006\n",
    "# junya's basemodel: 20160308-143737_slk80-0-jnory-0-jnory_ac2cf197\n",
    "# path_fmt = TrainLogger.path_fmt\n",
    "\n",
    "# TrainLogger.path_fmt = 'trading/basemodel/logging/{}'\n",
    "# obj = TrainLogger.load(tid, itr) # key, 6500"
   ]
  },
  {
   "cell_type": "code",
   "execution_count": 97,
   "metadata": {
    "collapsed": true
   },
   "outputs": [],
   "source": [
    "from ml import trainlogging"
   ]
  },
  {
   "cell_type": "code",
   "execution_count": 102,
   "metadata": {
    "collapsed": true
   },
   "outputs": [
    {
     "ename": "KeyError",
     "evalue": "'20160311-162817_slk80-1-app-0-www_219a613d'",
     "output_type": "error",
     "traceback": [
      "\u001b[1;31m---------------------------------------------------------------------------\u001b[0m",
      "\u001b[1;31mKeyError\u001b[0m                                  Traceback (most recent call last)",
      "\u001b[1;32m<ipython-input-102-685eb7e919ca>\u001b[0m in \u001b[0;36m<module>\u001b[1;34m()\u001b[0m\n\u001b[1;32m----> 1\u001b[1;33m \u001b[0mtrainlogging\u001b[0m\u001b[1;33m.\u001b[0m\u001b[0mTrainLogger\u001b[0m\u001b[1;33m.\u001b[0m\u001b[0mload\u001b[0m\u001b[1;33m(\u001b[0m\u001b[1;34m\"20160311-162817_slk80-1-app-0-www_219a613d\"\u001b[0m\u001b[1;33m)\u001b[0m \u001b[1;31m#,6500)\u001b[0m\u001b[1;33m\u001b[0m\u001b[0m\n\u001b[0m",
      "\u001b[1;32m/project/python/lib/ml/trainlogging.pyc\u001b[0m in \u001b[0;36mload\u001b[1;34m(cls, training_id, itr)\u001b[0m\n\u001b[0;32m     67\u001b[0m                     \u001b[0mtraining_id\u001b[0m\u001b[1;33m,\u001b[0m\u001b[1;33m\u001b[0m\u001b[0m\n\u001b[0;32m     68\u001b[0m                     \u001b[1;34m'@'\u001b[0m \u001b[1;33m+\u001b[0m\u001b[1;33m\u001b[0m\u001b[0m\n\u001b[1;32m---> 69\u001b[1;33m                     str(itr) if itr else ''))\n\u001b[0m\u001b[0;32m     70\u001b[0m         \u001b[0mbuf\u001b[0m \u001b[1;33m=\u001b[0m \u001b[0mStringIO\u001b[0m\u001b[1;33m(\u001b[0m\u001b[1;33m)\u001b[0m\u001b[1;33m\u001b[0m\u001b[0m\n\u001b[0;32m     71\u001b[0m         \u001b[0mkey\u001b[0m\u001b[1;33m.\u001b[0m\u001b[0mget_contents_to_file\u001b[0m\u001b[1;33m(\u001b[0m\u001b[0mbuf\u001b[0m\u001b[1;33m)\u001b[0m\u001b[1;33m\u001b[0m\u001b[0m\n",
      "\u001b[1;31mKeyError\u001b[0m: '20160311-162817_slk80-1-app-0-www_219a613d'"
     ]
    }
   ],
   "source": [
    "trainlogging.TrainLogger.load(\"20160311-162817_slk80-1-app-0-www_219a613d\") #,6500)"
   ]
  },
  {
   "cell_type": "code",
   "execution_count": 27,
   "metadata": {
    "collapsed": true
   },
   "outputs": [],
   "source": [
    "%matplotlib inline\n",
    "from __future__ import print_function\n",
    "import matplotlib.pyplot as plt\n",
    "from nb_utils import basemodel\n",
    "from drivers.chainer.trainer import Trainer\n",
    "from utils import parse_json\n",
    "import time\n",
    "import copy\n",
    "import json"
   ]
  },
  {
   "cell_type": "code",
   "execution_count": 36,
   "metadata": {
    "collapsed": true
   },
   "outputs": [],
   "source": [
    "# bucket_name = 'exp.alpacadb.com'\n",
    "# path_fmt = 'trading/training/{}'\n",
    "import os\n",
    "import h5py\n",
    "from ml.trainlogging import TrainLogger\n",
    "\n",
    "def fetch(tid, itr, out):\n",
    "    path_fmt = TrainLogger.path_fmt\n",
    "\n",
    "#    TrainLogger.path_fmt = 'trading/hdf5/prod/{}' # 'trading/basemodel/logging/{}'\n",
    "    TrainLogger.path_fmt = 'trading/basemodel/logging/{}'\n",
    "    obj = TrainLogger.load(tid, itr)\n",
    "    mstr = obj.get(\"h5model\")\n",
    "\n",
    "    with open(out + \".tmp\", \"wb\") as fp:\n",
    "        fp.write(mstr)\n",
    "\n",
    "    log = h5py.File(out + \".tmp\")\n",
    "    h5 = h5py.File(out, \"w\")\n",
    "    log[\"capitalico\"].copy(\"/capitalico\", h5)\n",
    "    log[\"chainer\"].copy(\"/chainer\", h5)\n",
    "    h5.close()\n",
    "    os.unlink(out + \".tmp\")\n",
    "\n",
    "    TrainLogger.path_fmt = path_fmt"
   ]
  },
  {
   "cell_type": "code",
   "execution_count": 39,
   "metadata": {
    "collapsed": false
   },
   "outputs": [
    {
     "ename": "KeyError",
     "evalue": "'20160310-174703_slk80-4-app-2-www_dc399006@6500'",
     "output_type": "error",
     "traceback": [
      "\u001b[1;31m---------------------------------------------------------------------------\u001b[0m",
      "\u001b[1;31mKeyError\u001b[0m                                  Traceback (most recent call last)",
      "\u001b[1;32m<ipython-input-39-fb8b180659f8>\u001b[0m in \u001b[0;36m<module>\u001b[1;34m()\u001b[0m\n\u001b[0;32m      1\u001b[0m \u001b[1;31m# 20160311-162817_slk80-1-app-0-www_219a613d\u001b[0m\u001b[1;33m\u001b[0m\u001b[1;33m\u001b[0m\u001b[0m\n\u001b[0;32m      2\u001b[0m \u001b[1;31m# 20160310-174703_slk80-4-app-2-www_dc399006\u001b[0m\u001b[1;33m\u001b[0m\u001b[1;33m\u001b[0m\u001b[0m\n\u001b[1;32m----> 3\u001b[1;33m \u001b[0mfetch\u001b[0m\u001b[1;33m(\u001b[0m\u001b[1;34m\"20160310-174703_slk80-4-app-2-www_dc399006\"\u001b[0m\u001b[1;33m,\u001b[0m \u001b[1;36m6500\u001b[0m\u001b[1;33m,\u001b[0m \u001b[1;34m\"/jupyter/data/pretrain.h5\"\u001b[0m\u001b[1;33m)\u001b[0m\u001b[1;33m\u001b[0m\u001b[0m\n\u001b[0m",
      "\u001b[1;32m<ipython-input-36-846a4105ff49>\u001b[0m in \u001b[0;36mfetch\u001b[1;34m(tid, itr, out)\u001b[0m\n\u001b[0;32m     10\u001b[0m \u001b[1;31m#    TrainLogger.path_fmt = 'trading/hdf5/prod/{}' # 'trading/basemodel/logging/{}'\u001b[0m\u001b[1;33m\u001b[0m\u001b[1;33m\u001b[0m\u001b[0m\n\u001b[0;32m     11\u001b[0m     \u001b[0mTrainLogger\u001b[0m\u001b[1;33m.\u001b[0m\u001b[0mpath_fmt\u001b[0m \u001b[1;33m=\u001b[0m \u001b[1;34m'trading/basemodel/logging/{}'\u001b[0m\u001b[1;33m\u001b[0m\u001b[0m\n\u001b[1;32m---> 12\u001b[1;33m     \u001b[0mobj\u001b[0m \u001b[1;33m=\u001b[0m \u001b[0mTrainLogger\u001b[0m\u001b[1;33m.\u001b[0m\u001b[0mload\u001b[0m\u001b[1;33m(\u001b[0m\u001b[0mtid\u001b[0m\u001b[1;33m,\u001b[0m \u001b[0mitr\u001b[0m\u001b[1;33m)\u001b[0m\u001b[1;33m\u001b[0m\u001b[0m\n\u001b[0m\u001b[0;32m     13\u001b[0m     \u001b[0mmstr\u001b[0m \u001b[1;33m=\u001b[0m \u001b[0mobj\u001b[0m\u001b[1;33m.\u001b[0m\u001b[0mget\u001b[0m\u001b[1;33m(\u001b[0m\u001b[1;34m\"h5model\"\u001b[0m\u001b[1;33m)\u001b[0m\u001b[1;33m\u001b[0m\u001b[0m\n\u001b[0;32m     14\u001b[0m \u001b[1;33m\u001b[0m\u001b[0m\n",
      "\u001b[1;32m/project/python/lib/ml/trainlogging.pyc\u001b[0m in \u001b[0;36mload\u001b[1;34m(cls, training_id, itr)\u001b[0m\n\u001b[0;32m     67\u001b[0m                     \u001b[0mtraining_id\u001b[0m\u001b[1;33m,\u001b[0m\u001b[1;33m\u001b[0m\u001b[0m\n\u001b[0;32m     68\u001b[0m                     \u001b[1;34m'@'\u001b[0m \u001b[1;33m+\u001b[0m\u001b[1;33m\u001b[0m\u001b[0m\n\u001b[1;32m---> 69\u001b[1;33m                     str(itr) if itr else ''))\n\u001b[0m\u001b[0;32m     70\u001b[0m         \u001b[0mbuf\u001b[0m \u001b[1;33m=\u001b[0m \u001b[0mStringIO\u001b[0m\u001b[1;33m(\u001b[0m\u001b[1;33m)\u001b[0m\u001b[1;33m\u001b[0m\u001b[0m\n\u001b[0;32m     71\u001b[0m         \u001b[0mkey\u001b[0m\u001b[1;33m.\u001b[0m\u001b[0mget_contents_to_file\u001b[0m\u001b[1;33m(\u001b[0m\u001b[0mbuf\u001b[0m\u001b[1;33m)\u001b[0m\u001b[1;33m\u001b[0m\u001b[0m\n",
      "\u001b[1;31mKeyError\u001b[0m: '20160310-174703_slk80-4-app-2-www_dc399006@6500'"
     ]
    }
   ],
   "source": [
    "# 20160311-162817_slk80-1-app-0-www_219a613d\n",
    "# 20160310-174703_slk80-4-app-2-www_dc399006\n",
    "fetch(\"20160310-174703_slk80-4-app-2-www_dc399006\", 6500, \"/jupyter/data/pretrain.h5\")\n"
   ]
  },
  {
   "cell_type": "code",
   "execution_count": 35,
   "metadata": {
    "collapsed": false
   },
   "outputs": [
    {
     "ename": "KeyError",
     "evalue": "'20160311-162817_slk80-1-app-0-www_219a613d@6500'",
     "output_type": "error",
     "traceback": [
      "\u001b[1;31m---------------------------------------------------------------------------\u001b[0m",
      "\u001b[1;31mKeyError\u001b[0m                                  Traceback (most recent call last)",
      "\u001b[1;32m<ipython-input-35-027674539e34>\u001b[0m in \u001b[0;36m<module>\u001b[1;34m()\u001b[0m\n\u001b[1;32m----> 1\u001b[1;33m \u001b[0mbasemodel\u001b[0m\u001b[1;33m.\u001b[0m\u001b[0mfetch\u001b[0m\u001b[1;33m(\u001b[0m\u001b[1;34m\"20160311-162817_slk80-1-app-0-www_219a613d\"\u001b[0m\u001b[1;33m,\u001b[0m \u001b[1;36m6500\u001b[0m\u001b[1;33m,\u001b[0m \u001b[1;34m\"/jupyter/data/test.h5\"\u001b[0m\u001b[1;33m)\u001b[0m\u001b[1;33m\u001b[0m\u001b[0m\n\u001b[0m\u001b[0;32m      2\u001b[0m \u001b[1;31m#fetch(\"20160310-174703_slk80-4-app-2-www_dc399006\", 6500, \"/jupyter/data/test.h5\")\u001b[0m\u001b[1;33m\u001b[0m\u001b[1;33m\u001b[0m\u001b[0m\n",
      "\u001b[1;32m/jupyter/nb_utils/basemodel.pyc\u001b[0m in \u001b[0;36mfetch\u001b[1;34m(tid, itr, out)\u001b[0m\n\u001b[0;32m      9\u001b[0m \u001b[1;33m\u001b[0m\u001b[0m\n\u001b[0;32m     10\u001b[0m     \u001b[0mTrainLogger\u001b[0m\u001b[1;33m.\u001b[0m\u001b[0mpath_fmt\u001b[0m \u001b[1;33m=\u001b[0m \u001b[1;34m'trading/basemodel/logging/{}'\u001b[0m\u001b[1;33m\u001b[0m\u001b[0m\n\u001b[1;32m---> 11\u001b[1;33m     \u001b[0mobj\u001b[0m \u001b[1;33m=\u001b[0m \u001b[0mTrainLogger\u001b[0m\u001b[1;33m.\u001b[0m\u001b[0mload\u001b[0m\u001b[1;33m(\u001b[0m\u001b[0mtid\u001b[0m\u001b[1;33m,\u001b[0m \u001b[0mitr\u001b[0m\u001b[1;33m)\u001b[0m\u001b[1;33m\u001b[0m\u001b[0m\n\u001b[0m\u001b[0;32m     12\u001b[0m     \u001b[0mmstr\u001b[0m \u001b[1;33m=\u001b[0m \u001b[0mobj\u001b[0m\u001b[1;33m.\u001b[0m\u001b[0mget\u001b[0m\u001b[1;33m(\u001b[0m\u001b[1;34m\"h5model\"\u001b[0m\u001b[1;33m)\u001b[0m\u001b[1;33m\u001b[0m\u001b[0m\n\u001b[0;32m     13\u001b[0m \u001b[1;33m\u001b[0m\u001b[0m\n",
      "\u001b[1;32m/project/python/lib/ml/trainlogging.pyc\u001b[0m in \u001b[0;36mload\u001b[1;34m(cls, training_id, itr)\u001b[0m\n\u001b[0;32m     67\u001b[0m                     \u001b[0mtraining_id\u001b[0m\u001b[1;33m,\u001b[0m\u001b[1;33m\u001b[0m\u001b[0m\n\u001b[0;32m     68\u001b[0m                     \u001b[1;34m'@'\u001b[0m \u001b[1;33m+\u001b[0m\u001b[1;33m\u001b[0m\u001b[0m\n\u001b[1;32m---> 69\u001b[1;33m                     str(itr) if itr else ''))\n\u001b[0m\u001b[0;32m     70\u001b[0m         \u001b[0mbuf\u001b[0m \u001b[1;33m=\u001b[0m \u001b[0mStringIO\u001b[0m\u001b[1;33m(\u001b[0m\u001b[1;33m)\u001b[0m\u001b[1;33m\u001b[0m\u001b[0m\n\u001b[0;32m     71\u001b[0m         \u001b[0mkey\u001b[0m\u001b[1;33m.\u001b[0m\u001b[0mget_contents_to_file\u001b[0m\u001b[1;33m(\u001b[0m\u001b[0mbuf\u001b[0m\u001b[1;33m)\u001b[0m\u001b[1;33m\u001b[0m\u001b[0m\n",
      "\u001b[1;31mKeyError\u001b[0m: '20160311-162817_slk80-1-app-0-www_219a613d@6500'"
     ]
    }
   ],
   "source": [
    "basemodel.fetch(\"20160311-162817_slk80-1-app-0-www_219a613d\", 6500, \"/jupyter/data/test.h5\")\n",
    "#fetch(\"20160310-174703_slk80-4-app-2-www_dc399006\", 6500, \"/jupyter/data/test.h5\")\n"
   ]
  },
  {
   "cell_type": "code",
   "execution_count": null,
   "metadata": {
    "collapsed": true
   },
   "outputs": [],
   "source": []
  },
  {
   "cell_type": "code",
   "execution_count": null,
   "metadata": {
    "collapsed": true
   },
   "outputs": [],
   "source": []
  },
  {
   "cell_type": "code",
   "execution_count": null,
   "metadata": {
    "collapsed": true
   },
   "outputs": [],
   "source": []
  },
  {
   "cell_type": "code",
   "execution_count": null,
   "metadata": {
    "collapsed": true
   },
   "outputs": [],
   "source": []
  },
  {
   "cell_type": "code",
   "execution_count": null,
   "metadata": {
    "collapsed": true
   },
   "outputs": [],
   "source": []
  },
  {
   "cell_type": "code",
   "execution_count": null,
   "metadata": {
    "collapsed": true
   },
   "outputs": [],
   "source": []
  },
  {
   "cell_type": "code",
   "execution_count": null,
   "metadata": {
    "collapsed": true
   },
   "outputs": [],
   "source": []
  }
 ],
 "metadata": {
  "kernelspec": {
   "display_name": "Python 2",
   "language": "python",
   "name": "python2"
  },
  "language_info": {
   "codemirror_mode": {
    "name": "ipython",
    "version": 2
   },
   "file_extension": ".py",
   "mimetype": "text/x-python",
   "name": "python",
   "nbconvert_exporter": "python",
   "pygments_lexer": "ipython2",
   "version": "2.7.6"
  }
 },
 "nbformat": 4,
 "nbformat_minor": 0
}
