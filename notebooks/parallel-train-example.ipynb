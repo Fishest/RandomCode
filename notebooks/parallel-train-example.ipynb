{
 "cells": [
  {
   "cell_type": "code",
   "execution_count": 2,
   "metadata": {
    "collapsed": true
   },
   "outputs": [],
   "source": [
    "%matplotlib inline\n",
    "%load_ext autoreload\n",
    "from __future__ import print_function\n",
    "import matplotlib.pyplot as plt\n",
    "from nb_utils import basemodel\n",
    "from drivers.chainer.trainer import Trainer\n",
    "from utils import parse_json\n",
    "import time\n",
    "import copy\n",
    "import json"
   ]
  },
  {
   "cell_type": "code",
   "execution_count": 3,
   "metadata": {
    "collapsed": false
   },
   "outputs": [],
   "source": [
    "import ipyparallel as ipp\n",
    "clients = ipp.Client()\n",
    "clients.block = True\n",
    "clients.ids\n",
    "view = clients.load_balanced_view()\n",
    "dview = clients[:]"
   ]
  },
  {
   "cell_type": "code",
   "execution_count": 4,
   "metadata": {
    "collapsed": true
   },
   "outputs": [],
   "source": [
    "def load_json(path):\n",
    "    with open(path) as fp:\n",
    "        return json.loads(fp.read())"
   ]
  },
  {
   "cell_type": "code",
   "execution_count": 5,
   "metadata": {
    "collapsed": false
   },
   "outputs": [],
   "source": [
    "from engines import v1_0_0\n",
    "mp = load_json(\"/project/exp/list_mp.pips.json\")\n",
    "mp['config'] = v1_0_0.config"
   ]
  },
  {
   "cell_type": "code",
   "execution_count": 6,
   "metadata": {
    "collapsed": false
   },
   "outputs": [
    {
     "data": {
      "text/plain": [
       "{'align': 200,\n",
       " 'basemodel': 'nlstm2_nobias_13500iters',\n",
       " 'batch_size': 260,\n",
       " 'dropout_ratio': 0.5,\n",
       " 'extend_ohlc': True,\n",
       " 'iters': 600,\n",
       " 'large_forget_gate_bias': True,\n",
       " 'n_lstm': 2,\n",
       " 'n_units': 250,\n",
       " 'random_seed': 151,\n",
       " 'use_pips': True,\n",
       " 'use_sigmoid': True}"
      ]
     },
     "execution_count": 6,
     "metadata": {},
     "output_type": "execute_result"
    }
   ],
   "source": [
    "mp['config']"
   ]
  },
  {
   "cell_type": "code",
   "execution_count": 7,
   "metadata": {
    "collapsed": true
   },
   "outputs": [],
   "source": [
    "dataset = parse_json(load_json(\"/project/exp/list.json\"))"
   ]
  },
  {
   "cell_type": "code",
   "execution_count": 8,
   "metadata": {
    "collapsed": true
   },
   "outputs": [],
   "source": [
    "def status_hook(i, l):\n",
    "    if i % 10 == 0:\n",
    "        print(\"[{0}] Loss={1}\".format(i + 1, l))\n",
    "\n",
    "def logging_hook(i, train_dots, test_dots, train_loss, test_loss, model, **kwargs):\n",
    "    train_t, train_y = zip(*train_dots)\n",
    "    plt.plot(train_t, train_y, 'o', label=\"Training Plot\", color=\"blue\")\n",
    "    if len(test_dots) > 0:\n",
    "        test_t, test_y = zip(*test_dots)\n",
    "        plt.plot(test_t, test_y, '-o', label=\"Test Plot\", color=\"orange\")\n",
    "    \n",
    "    plt.show()\n",
    "    \n",
    "    plt.clf()\n",
    "    train_x, train_y = zip(*train_loss)\n",
    "    plt.plot(train_x, train_y, label=\"Training Loss Curve\", color=\"blue\")\n",
    "    if len(test_loss) > 0:\n",
    "        test_x, test_y = zip(*test_loss)\n",
    "        plt.plot(test_x, test_y, label=\"Test Loss Curve\", color=\"orange\")\n",
    "    plt.yscale('log')\n",
    "    plt.ylim([0.00000001, 0.0001])    \n",
    "    plt.show()\n",
    "    plt.clf()"
   ]
  },
  {
   "cell_type": "code",
   "execution_count": 9,
   "metadata": {
    "collapsed": false
   },
   "outputs": [],
   "source": [
    "def train(args):\n",
    "    m, g, d = args\n",
    "    t = Trainer(m, d, gpu_id=g)\n",
    "    t.run(logging_hook=logging_hook, status_hook=status_hook)\n",
    "    return t.train_loss_curve\n",
    "\n",
    "dview.execute(\"import matplotlib.pyplot as plt\")\n",
    "dview.push(dict(logging_hook=logging_hook, status_hook=status_hook, Trainer=Trainer))\n",
    "trainers_current = []\n",
    "mps = []\n",
    "gpu_ids = []\n",
    "datasets = []\n",
    "for i in range(3):\n",
    "    params = copy.deepcopy(mp)\n",
    "    params['config']['random_seed'] = 151 + i\n",
    "    mps.append(params)\n",
    "    gpu_ids.append(1 + i)\n",
    "    datasets.append(dataset)\n",
    "    \n",
    "tasks = view.map_async(train, zip(mps, gpu_ids, datasets))"
   ]
  },
  {
   "cell_type": "code",
   "execution_count": 10,
   "metadata": {
    "collapsed": false
   },
   "outputs": [
    {
     "name": "stdout",
     "output_type": "stream",
     "text": [
      "   3/3 tasks finished after  521 s\n",
      "done\n"
     ]
    }
   ],
   "source": [
    "tasks.wait_interactive()"
   ]
  },
  {
   "cell_type": "code",
   "execution_count": 11,
   "metadata": {
    "collapsed": false
   },
   "outputs": [
    {
     "data": {
      "image/png": "[encoded data removed]",
      "text/plain": [
       "<matplotlib.figure.Figure at 0x7fad127a6350>"
      ]
     },
     "metadata": {},
     "output_type": "display_data"
    }
   ],
   "source": [
    "rs = tasks.result()\n",
    "for i in range(3):\n",
    "    train_x_current, train_y_current = zip(*rs[i])\n",
    "    plt.plot(train_x_current, train_y_current, label=\"Current\", color=\"blue\")\n",
    "plt.yscale('log')\n",
    "plt.ylim([0.00000001, 0.0001]) \n",
    "plt.show()"
   ]
  },
  {
   "cell_type": "code",
   "execution_count": null,
   "metadata": {
    "collapsed": true
   },
   "outputs": [],
   "source": []
  }
 ],
 "metadata": {
  "kernelspec": {
   "display_name": "Python 2",
   "language": "python",
   "name": "python2"
  },
  "language_info": {
   "codemirror_mode": {
    "name": "ipython",
    "version": 2
   },
   "file_extension": ".py",
   "mimetype": "text/x-python",
   "name": "python",
   "nbconvert_exporter": "python",
   "pygments_lexer": "ipython2",
   "version": "2.7.6"
  }
 },
 "nbformat": 4,
 "nbformat_minor": 0
}
