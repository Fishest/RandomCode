{
 "cells": [
  {
   "cell_type": "markdown",
   "metadata": {},
   "source": [
    "# Let's how class TrendLine is working"
   ]
  },
  {
   "cell_type": "code",
   "execution_count": 12,
   "metadata": {
    "collapsed": false
   },
   "outputs": [],
   "source": [
    "import numpy as np\n",
    "from sklearn.linear_model import LinearRegression\n",
    "\n",
    "class TrendLine(object):\n",
    "    \n",
    "    def smoothing(self, data, dim, sig_ob=1.0, sig_sys=1.0e-1):\n",
    "        #dim is the dimention of trend model\n",
    "        #make data for analysis\n",
    "        data_list = []\n",
    "        data_def = np.array(data)\n",
    "        data_list.append(data_def)\n",
    "        for i in xrange(dim):\n",
    "            data_def = data_def[1:] - data_def[:-1]\n",
    "            data_list.append(data_def)\n",
    "            \n",
    "        #reshape data for available\n",
    "        N_data = len(data_list[-1])\n",
    "        for i in xrange(len(data_list)):\n",
    "            data_list[i] = data_list[i][-N_data:]\n",
    "        \n",
    "        #matrix for state space model \n",
    "        #x = Fx + Gv\n",
    "        #y = Hx + w\n",
    "        #Q, R is variance matrix for v, w respectively\n",
    "        F = np.tri(dim + 1).T\n",
    "        G = np.tri(dim + 1).T\n",
    "        R = sig_ob**2*np.identity(dim + 1)\n",
    "        Q = sig_sys**2*np.identity(dim + 1)\n",
    "        x_data = np.array(data_list).T\n",
    "        \n",
    "        #filtering step\n",
    "        V_pred_data = []\n",
    "        V_filt_data = []\n",
    "        x_pred_data = []\n",
    "        x_filt_data = []\n",
    "        x_filt = x_data[0]\n",
    "        x_filt_data.append(x_filt)\n",
    "        V_filt = R\n",
    "        V_filt_data.append(V_filt)\n",
    "        for x in iter(x_data[1:]):\n",
    "            x_pred = np.dot(F, x_filt)\n",
    "            V_pred = np.dot(F, np.dot(V_filt, F.T)) + np.dot(G, np.dot(Q, G.T))\n",
    "            kal_gain = np.dot(V_pred, np.linalg.inv(V_pred + R))\n",
    "            x_filt = x_pred + np.dot(kal_gain, x - x_pred)\n",
    "            V_filt = np.dot(np.identity(dim + 1) - kal_gain, V_pred)\n",
    "            #store data for smoothing\n",
    "            x_pred_data.append(x_pred)\n",
    "            V_pred_data.append(V_pred)\n",
    "            x_filt_data.append(x_filt)\n",
    "            V_filt_data.append(V_filt)\n",
    "            \n",
    "        #smoothing step\n",
    "        N_pred_data = len(V_pred_data)\n",
    "        x_sm_data = []\n",
    "        x_sm = x_filt_data[-1]\n",
    "        x_sm_data.append(x_sm[0])\n",
    "        V_sm = V_filt_data[-1]\n",
    "        for i in xrange(N_pred_data):\n",
    "            idx = N_pred_data - i - 1\n",
    "            smoother = np.dot(V_filt_data[idx], np.dot(F.T, np.linalg.inv(V_pred_data[idx])))\n",
    "            x_sm = x_filt_data[idx] + np.dot(smoother, x_sm - x_pred_data[idx])\n",
    "            V_sm = V_filt_data[idx] + np.dot(smoother, np.dot(V_sm - V_pred_data[idx], smoother.T))\n",
    "            x_sm_data.append(x_sm[0])\n",
    "            \n",
    "        x_sm_data.reverse()\n",
    "        #insert raw data to value at t=0, 1, ..., dim-1\n",
    "        x_sm_data = np.r_[data[range(dim)], x_sm_data]\n",
    "        \n",
    "        return x_sm_data\n",
    "    \n",
    "    #find local maximum point for high_data, local minimum for low_data\n",
    "    def get_max_idx(self, data, is_high=True, dim=4, window=2, sig_ob=1.0, sig_sys=1.0e-1):\n",
    "        smoothed_data = self.smoothing(data, dim=dim, sig_ob=sig_ob, sig_sys=sig_sys)\n",
    "        data_tilde = np.array(smoothed_data)\n",
    "        if is_high is not True:\n",
    "            data_tilde = -data_tilde\n",
    "        T = len(data_tilde)\n",
    "    \n",
    "        #regularize data by getting rid of trend of data\n",
    "        reg = LinearRegression()\n",
    "        time_data = np.arange(T)\n",
    "        x = time_data.reshape(T, 1)\n",
    "        y = np.array(data_tilde).reshape(T, 1)\n",
    "        reg.fit(x, y)\n",
    "        coef = reg.coef_[0][0]\n",
    "        reg_data = data_tilde - coef*time_data\n",
    "    \n",
    "        #data for first order derivative\n",
    "        def_data = reg_data[1:] - reg_data[:-1]\n",
    "    \n",
    "        #find local optimum point\n",
    "        idx_max = []\n",
    "        for i in xrange(1, T - 1):\n",
    "            if def_data[i] <=0 and def_data[i-1] >= 0:\n",
    "                idx_max.append(i)\n",
    "\n",
    "        #determine weahter selected points are local maximum in their more global neighbor\n",
    "        new_idx_max = []\n",
    "        for idx in iter(idx_max):\n",
    "            flag = True\n",
    "            max_value = reg_data[idx]\n",
    "            for slide in xrange(1, window + 1):\n",
    "                slide_idx = idx + slide\n",
    "                if slide_idx > T - 1:\n",
    "                    continue\n",
    "                if max_value < reg_data[slide_idx]:\n",
    "                    flag = False\n",
    "                    break\n",
    "        \n",
    "            for slide in xrange(1, window + 1):\n",
    "                slide_idx = idx - slide\n",
    "                if slide_idx < 0:\n",
    "                    continue\n",
    "                if max_value < reg_data[slide_idx]:\n",
    "                    flag = False \n",
    "                    break\n",
    "            if flag:\n",
    "                new_idx_max.append(idx)             \n",
    "    \n",
    "        return new_idx_max\n",
    "    \n",
    "    #given data and slope of the line, return the intercept of the line which will not go below conf_lev numbers y_data\n",
    "    def get_opt_incpt(self, x_data, y_data, coef, conf_lev=1, is_high=True):\n",
    "        #conf_lev is the number of points to judge validity of support and resistance \n",
    "        assert len(x_data)>=1 and len(y_data) >=1, \"you should input some data\"\n",
    "        #for the case of resistance\n",
    "        if is_high is not True:\n",
    "            y_data= (-1)*y_data\n",
    "            coef= -coef   \n",
    "        \n",
    "        #generate line data and check how much points cross that line\n",
    "        N_data = len(x_data)\n",
    "        for i in xrange(N_data):\n",
    "            x = x_data[i]\n",
    "            y = y_data[i]\n",
    "            incpt = y - coef*x\n",
    "            line_data = coef*x_data + incpt\n",
    "            over_flag = 0\n",
    "            for j in xrange(N_data):\n",
    "                if i==j: continue\n",
    "                if y_data[j] > line_data[j]:\n",
    "                    over_flag += 1\n",
    "            if over_flag == conf_lev - 1: \n",
    "                opt_incpt = incpt\n",
    "                break   \n",
    "        \n",
    "        if is_high is not True:\n",
    "            opt_incpt = -opt_incpt\n",
    "        \n",
    "        return opt_incpt\n",
    "    \n",
    "    #return slope and  intercept of optimal line \n",
    "    def opt_line(self, data, is_high=True, dim=4, window=1, sig_ob=1.0, sig_sys=1.0e-1):\n",
    "        #window is the figure about how much points around what you pick up when drawing line\n",
    "        data = np.array(data)\n",
    "        max_idx = self.get_max_idx(data, is_high=is_high, dim=dim)\n",
    "        N_data = len(data)\n",
    "        time_data = np.arange(N_data)\n",
    "    \n",
    "        #take loc_maximal's neighbor into consideration\n",
    "        new_max_idx = []\n",
    "        N_idx = len(max_idx)\n",
    "        for i in xrange(N_idx):\n",
    "            for slide in xrange(1, window + 1):\n",
    "                slide = window + 1 - slide\n",
    "                slide_idx = max_idx[i] - slide\n",
    "                if slide_idx < 0:\n",
    "                    break\n",
    "                if i != 0 and slide_idx == max_idx[i - 1]:\n",
    "                     break\n",
    "                new_max_idx.append(slide_idx)\n",
    "            \n",
    "            new_max_idx.append(max_idx[i])\n",
    "        \n",
    "            for slide in xrange(1, window + 1):\n",
    "                slide_idx = max_idx[i] + slide\n",
    "                if slide_idx > N_data - 1:\n",
    "                    break\n",
    "                if i != N_idx - 1 and slide_idx == max_idx[i -+1]:\n",
    "                     break\n",
    "                new_max_idx.append(slide_idx)\n",
    "        \n",
    "        y = data[new_max_idx]\n",
    "        x = time_data[new_max_idx]\n",
    "        reg_y = y.reshape(len(y), 1)\n",
    "        reg_x = x.reshape(len(x), 1)\n",
    "        reg = LinearRegression()\n",
    "        reg.fit(reg_x, reg_y)\n",
    "        coef = reg.coef_[0][0]\n",
    "        incpt = self.get_opt_incpt(x_data=x, y_data=y, coef=coef, conf_lev=1, is_high=is_high)\n",
    "        \n",
    "        return coef, incpt\n",
    "    \n",
    "    \n",
    "    #get list support, resistance line data, and their corresponding time data\n",
    "    def draw_line(self, high_data, low_data, slide=10, tolerance=3, num_max=2, flag_sm=True, dim=4):\n",
    "        assert len(high_data) == len(low_data), \"length of low_data and high_data should be the same\"\n",
    "        high_data = np.array(high_data)\n",
    "        low_data = np.array(low_data)\n",
    "        if flag_sm:\n",
    "            high_data = self.smoothing(high_data, dim=dim)\n",
    "            low_data = self.smoothing(low_data, dim=dim)\n",
    "        N_data = len(high_data)\n",
    "        N_iter = N_data/slide\n",
    "        begin = 0\n",
    "        high_line_data = []\n",
    "        low_line_data = []\n",
    "        time_data = np.arange(N_data)\n",
    "        time_data_list = []\n",
    "        line_flag = False #flag to check weather there is a line or not\n",
    "        for i in xrange(N_iter):\n",
    "            end = (i + 1)*slide\n",
    "            high_data_mini = high_data[begin:end]\n",
    "            low_data_mini = low_data[begin:end]\n",
    "            max_idx = self.get_max_idx(high_data_mini, is_high=True, dim=4, window=2, sig_ob=1.0, sig_sys=1.0e-1)\n",
    "            min_idx = self.get_max_idx(low_data_mini, is_high=False, dim=4, window=2, sig_ob=1.0, sig_sys=1.0e-1)\n",
    "        \n",
    "            # if you fail to find enaough local maximum or minimum point, you will increase points. \n",
    "            if len(max_idx) < num_max or len(min_idx) < num_max:\n",
    "                continue\n",
    "            \n",
    "            #draw line\n",
    "            if line_flag is False:\n",
    "                high_coef, high_incpt = self.opt_line(high_data_mini, is_high=True)\n",
    "                low_coef, low_incpt = self.opt_line(low_data_mini, is_high=False)\n",
    "                line_flag = True\n",
    "        \n",
    "            x = np.arange(end - begin)\n",
    "            high_line = high_coef * x + high_incpt\n",
    "            low_line  = low_coef * x + low_incpt\n",
    "        \n",
    "            #count for how many points break the line\n",
    "            high_count = 0\n",
    "            low_count = 0\n",
    "            for time_idx in xrange(max_idx[1], end - begin):\n",
    "                high_count += 1\n",
    "                low_count += 1\n",
    "                if high_data_mini[time_idx] <= high_line[time_idx]:\n",
    "                    high_count = 0\n",
    "            \n",
    "                if low_data_mini[time_idx] >= low_line[time_idx]:\n",
    "                    low_count = 0\n",
    "                \n",
    "                if high_count > tolerance or low_count > tolerance:\n",
    "                    print (\"break the line!, t=%d\" %(time_idx - tolerance + begin))\n",
    "                    time_data_list.append(time_data[begin:end])\n",
    "                    if max_idx[1] > min_idx[1]:\n",
    "                        begin = min_idx[1] - 1 + begin\n",
    "                    else:\n",
    "                        begin = max_idx[1] - 1 + begin\n",
    "                    high_line_data.append(high_line)\n",
    "                    low_line_data.append(low_line)\n",
    "                    line_flag = False\n",
    "                    break\n",
    "        \n",
    "        if line_flag is True:\n",
    "            high_line_data.append(high_line)\n",
    "            low_line_data.append(low_line)\n",
    "            time_data_list.append(time_data[begin:end])\n",
    "                \n",
    "        return high_line_data, low_line_data, time_data_list\n",
    "                \n",
    "            \n",
    "            \n",
    "\n",
    "    \n",
    "    "
   ]
  },
  {
   "cell_type": "markdown",
   "metadata": {},
   "source": [
    "# Get the historical data"
   ]
  },
  {
   "cell_type": "code",
   "execution_count": 8,
   "metadata": {
    "collapsed": false
   },
   "outputs": [
    {
     "name": "stdout",
     "output_type": "stream",
     "text": [
      "Sun May  8 16:27:39 UTC 2016\n",
      "\n",
      "compiler    : GCC 4.8.2\n",
      "system      : Linux, 3.19.0-51-generic, Ubuntu, 14.04\n",
      "processor   : x86_64, 64bit\n",
      "\n",
      "json (json) ________ 2.0.9\n",
      "numpy (np) _________ 1.11.0\n",
      "pandas (pd) ________ 0.16.2\n",
      "platform (platform)  1.0.7\n",
      "seaborn (sns) ______ 0.6.0\n"
     ]
    }
   ],
   "source": [
    "# generic\n",
    "%matplotlib inline\n",
    "from __future__ import print_function\n",
    "\n",
    "# common\n",
    "import seaborn as sns\n",
    "import pandas as pd\n",
    "import numpy as np\n",
    "import matplotlib.pyplot as plt\n",
    "import json\n",
    "\n",
    "# local\n",
    "import histdata\n",
    "from utils import parse_json\n",
    "from nb_utils import compare\n",
    "from trading import tm\n",
    "import tseries\n",
    "from tseries.converter import Converter\n",
    "from tseries.indicators import get_functions\n",
    "\n",
    "# for testing purpose\n",
    "from IPython import display\n",
    "import platform\n",
    "#import plotly\n",
    "#from plotly.offline import download_plotlyjs, init_notebook_mode, iplot\n",
    "#import tqdm\n",
    "import time\n",
    "def load_json(path):\n",
    "    with open(path) as fp:\n",
    "        return json.loads(fp.read())\n",
    "\n",
    "def list_packages_versions():\n",
    "    !date\n",
    "    print(\"\\ncompiler    : %s\"%platform.python_compiler())\n",
    "    l = platform.linux_distribution()\n",
    "    print(\"system      : %s, %s, %s, %s\"%(platform.system(),platform.release(),l[0],l[1]))\n",
    "    print(\"processor   : %s, %s\\n\"%(platform.processor(),platform.architecture()[0]))\n",
    "    \n",
    "    a = %who_ls module\n",
    "    for i in a:\n",
    "        try:\n",
    "            print(\"%s %s\"%((\"%s (%s) \"%(globals()[i].__name__,i)).ljust(20,'_'),globals()[i].__version__))\n",
    "        except:\n",
    "            pass\n",
    "list_packages_versions()"
   ]
  },
  {
   "cell_type": "code",
   "execution_count": 9,
   "metadata": {
    "collapsed": false
   },
   "outputs": [],
   "source": [
    "parse_datetime = tm.T.parser(\"%Y%m%d%H%M\")\n",
    "reference_score = compare.load_reference(parse_json(load_json(\"/project/exp/reference/downtrend_2015test_1a.json\")),\n",
    "                                         \"EURUSD\", \"5Min\", parse_datetime(\"201501010000\"),\n",
    "                                         parse_datetime(\"201601010000\"))\n",
    "\n",
    "h5 = histdata.get_pandadb()\n",
    "symbol=\"EURJPY\"\n",
    "timeframe=\"5Min\"\n",
    "df = h5[histdata.get_table_name(symbol, timeframe)]\n",
    "\n",
    "beginning, end = \"2015-01-02 08:00:00\" , \"2015-05-29 21:55:00\"\n",
    "ref = reference_score[beginning : end]\n",
    "df = df[beginning : end]\n",
    "\n",
    "ohlc_data = pd.concat([\n",
    "        df.iloc[:13704],\n",
    "        pd.DataFrame({\"open\":[129.636], \"high\": [129.589], \"low\": [129.586], \"close\": [129.58]},\n",
    "                     index=[pd.to_datetime(\"2015-03-10 22:00:00+0000\",utc=True)]),\n",
    "        df.iloc[13704:]    \n",
    "    ])\n",
    "\n",
    "def df_to_array(df):\n",
    "    data_list = []\n",
    "    for key in df.columns:\n",
    "        data_list.append(df[key])\n",
    "    return np.array(data_list)\n",
    "\n",
    "ohlc_array = df_to_array(ohlc_data)\n",
    "high_data = np.array(ohlc_data['high'])\n",
    "low_data = np.array(ohlc_data['low'])\n",
    "open_data = np.array(ohlc_data[\"open\"])\n",
    "close_data = np.array(ohlc_data[\"close\"])"
   ]
  },
  {
   "cell_type": "code",
   "execution_count": 10,
   "metadata": {
    "collapsed": false
   },
   "outputs": [
    {
     "data": {
      "image/png": "[encoded data removed]",
      "text/plain": [
       "<matplotlib.figure.Figure at 0x7fe4396a8e50>"
      ]
     },
     "metadata": {},
     "output_type": "display_data"
    }
   ],
   "source": [
    "from matplotlib.finance import candlestick2_ohlc\n",
    "\n",
    "fig, ax = plt.subplots()\n",
    "fig.subplots_adjust(bottom=0.2)\n",
    "\n",
    "candlestick2_ohlc(ax, ohlc_data[\"open\"][:50], ohlc_data[\"high\"][:50], \n",
    "                  ohlc_data[\"low\"][:50], ohlc_data[\"close\"][:50],\n",
    "                 width=0.6, colorup='k', colordown='r', alpha=0.75)\n",
    "ax.autoscale_view()\n",
    "\n",
    "plt.show()"
   ]
  },
  {
   "cell_type": "code",
   "execution_count": 14,
   "metadata": {
    "collapsed": false
   },
   "outputs": [
    {
     "name": "stdout",
     "output_type": "stream",
     "text": [
      "break the line!, t=33\n",
      "break the line!, t=52\n",
      "break the line!, t=80\n",
      "break the line!, t=103\n",
      "break the line!, t=129\n",
      "break the line!, t=153\n"
     ]
    },
    {
     "data": {
      "image/png": "[encoded data removed]",
      "text/plain": [
       "<matplotlib.figure.Figure at 0x7fe435725950>"
      ]
     },
     "metadata": {},
     "output_type": "display_data"
    }
   ],
   "source": [
    "N = 160\n",
    "M = 0\n",
    "k = 4\n",
    "\n",
    "trend = TrendLine()\n",
    "\n",
    "high_data_mini = np.array(high_data[M:N])\n",
    "low_data_mini = np.array(low_data[M:N])\n",
    "\n",
    "N_data = len(smoothed_high)\n",
    "time_data = np.arange(N_data)\n",
    "\n",
    "fig, ax = plt.subplots()\n",
    "fig.subplots_adjust(bottom=0.2)\n",
    "\n",
    "candlestick2_ohlc(ax, open_data[M:N], high_data[M:N], \n",
    "                  low_data[M:N], close_data[M:N],\n",
    "                 width=0.6, colorup='k', colordown='r', alpha=0.75)\n",
    "\n",
    "high_line, low_line, time_data_list = trend.draw_line(high_data_mini, low_data_mini)\n",
    "             \n",
    "for i in xrange(len(high_line)):\n",
    "    plt.plot(time_data_list[i], high_line[i])\n",
    "    plt.plot(time_data_list[i], low_line[i])\n",
    "plt.legend()"
   ]
  },
  {
   "cell_type": "markdown",
   "metadata": {
    "collapsed": true
   },
   "source": [
    "To combine this with app, I will set the format of input the same as the output of as \"get_range\"\n",
    "\n",
    "https://github.com/AlpacaDB/trading/blob/develop/python/lib/tseries/chartdata.py\n",
    "\n",
    "I will set the output as the two list: low lines([[start, end], [start, end]]), and high lins([[start, end], [start, end]...])"
   ]
  },
  {
   "cell_type": "code",
   "execution_count": 105,
   "metadata": {
    "collapsed": false
   },
   "outputs": [
    {
     "name": "stdout",
     "output_type": "stream",
     "text": [
      "2015-01-01 00:00:00+00:00\n"
     ]
    }
   ],
   "source": [
    "import histdata\n",
    "from trading import tm\n",
    "\n",
    "parse_datetime = tm.T.parser(\"%Y%m%d%H%M\")\n",
    "print (parse_datetime(\"201501010000\"))\n",
    "st = parse_datetime(\"201501010000\")\n",
    "end = parse_datetime(\"201601010000\")\n",
    "\n",
    "df = histdata.get_candles(symbol=\"EURUSD\", timeframe=\"5Min\", start=st, end=end)\n",
    "\n",
    "high_data = np.array(df['high'])\n",
    "low_data = np.array(df['low'])\n",
    "open_data = np.array(df['open'])\n",
    "close_data = np.array(df['close'])"
   ]
  },
  {
   "cell_type": "code",
   "execution_count": 106,
   "metadata": {
    "collapsed": false
   },
   "outputs": [
    {
     "name": "stdout",
     "output_type": "stream",
     "text": [
      "2015-01-01 18:00:00+00:00\n"
     ]
    }
   ],
   "source": [
    "print (df.index[0])"
   ]
  },
  {
   "cell_type": "code",
   "execution_count": 87,
   "metadata": {
    "collapsed": false
   },
   "outputs": [
    {
     "name": "stdout",
     "output_type": "stream",
     "text": [
      "2016-01-03 22:00:00+00:00    1.08758\n",
      "2016-01-03 22:05:00+00:00    1.08741\n",
      "2016-01-03 22:10:00+00:00    1.08714\n",
      "2016-01-03 22:15:00+00:00    1.08696\n",
      "2016-01-03 22:20:00+00:00    1.08723\n",
      "2016-01-03 22:25:00+00:00    1.08698\n",
      "2016-01-03 22:30:00+00:00    1.08712\n",
      "2016-01-03 22:35:00+00:00    1.08705\n",
      "2016-01-03 22:40:00+00:00    1.08693\n",
      "2016-01-03 22:45:00+00:00    1.08692\n",
      "Name: high, dtype: float64\n"
     ]
    }
   ],
   "source": [
    "print (df[\"high\"][0:10])"
   ]
  },
  {
   "cell_type": "code",
   "execution_count": 52,
   "metadata": {
    "collapsed": false
   },
   "outputs": [
    {
     "data": {
      "text/plain": [
       "array([[ 1.08751,  1.08758,  1.08729,  1.08729],\n",
       "       [ 1.08729,  1.08741,  1.08714,  1.08714],\n",
       "       [ 1.08714,  1.08714,  1.08677,  1.08677],\n",
       "       ..., \n",
       "       [ 1.08349,  1.08362,  1.08341,  1.08343],\n",
       "       [ 1.08343,  1.08344,  1.08325,  1.08328],\n",
       "       [ 1.08328,  1.08335,  1.08302,  1.08328]])"
      ]
     },
     "execution_count": 52,
     "metadata": {},
     "output_type": "execute_result"
    }
   ],
   "source": [
    "df.values"
   ]
  },
  {
   "cell_type": "code",
   "execution_count": 54,
   "metadata": {
    "collapsed": false
   },
   "outputs": [
    {
     "data": {
      "text/plain": [
       "array([ 1.08751,  1.08729,  1.08714, ...,  1.08349,  1.08343,  1.08328])"
      ]
     },
     "execution_count": 54,
     "metadata": {},
     "output_type": "execute_result"
    }
   ],
   "source": [
    "df['open'].values"
   ]
  },
  {
   "cell_type": "code",
   "execution_count": 108,
   "metadata": {
    "collapsed": false
   },
   "outputs": [
    {
     "data": {
      "text/plain": [
       "Timestamp('2015-01-01 18:00:00+0000', tz='UTC')"
      ]
     },
     "execution_count": 108,
     "metadata": {},
     "output_type": "execute_result"
    }
   ],
   "source": [
    "df.index[0]\n"
   ]
  },
  {
   "cell_type": "code",
   "execution_count": 56,
   "metadata": {
    "collapsed": false
   },
   "outputs": [
    {
     "data": {
      "text/plain": [
       "5760"
      ]
     },
     "execution_count": 56,
     "metadata": {},
     "output_type": "execute_result"
    }
   ],
   "source": [
    "len(df)"
   ]
  },
  {
   "cell_type": "code",
   "execution_count": 95,
   "metadata": {
    "collapsed": false
   },
   "outputs": [],
   "source": [
    "import numpy as np\n",
    "from sklearn.linear_model import LinearRegression\n",
    "\n",
    "def smoothing(data, dim, sig_ob=1.0, sig_sys=1.0e-1):\n",
    "    #dim is the dimention of trend model\n",
    "    #make data for analysis\n",
    "    data_list = []\n",
    "    data_def = np.array(data)\n",
    "    data_list.append(data_def)\n",
    "    for i in xrange(dim):\n",
    "        data_def = data_def[1:] - data_def[:-1]\n",
    "        data_list.append(data_def)\n",
    "            \n",
    "    #reshape data for available\n",
    "    N_data = len(data_list[-1])\n",
    "    for i in xrange(len(data_list)):\n",
    "        data_list[i] = data_list[i][-N_data:]\n",
    "        \n",
    "    #matrix for state space model \n",
    "    #x = Fx + Gv\n",
    "    #y = Hx + w\n",
    "    #Q, R is variance matrix for v, w respectively\n",
    "    F = np.tri(dim + 1).T\n",
    "    G = np.tri(dim + 1).T\n",
    "    R = sig_ob**2*np.identity(dim + 1)\n",
    "    Q = sig_sys**2*np.identity(dim + 1)\n",
    "    x_data = np.array(data_list).T\n",
    "        \n",
    "    #filtering step\n",
    "    V_pred_data = []\n",
    "    V_filt_data = []\n",
    "    x_pred_data = []\n",
    "    x_filt_data = []\n",
    "    x_filt = x_data[0]\n",
    "    x_filt_data.append(x_filt)\n",
    "    V_filt = R\n",
    "    V_filt_data.append(V_filt)\n",
    "    for x in iter(x_data[1:]):\n",
    "        x_pred = np.dot(F, x_filt)\n",
    "        V_pred = np.dot(F, np.dot(V_filt, F.T)) + np.dot(G, np.dot(Q, G.T))\n",
    "        kal_gain = np.dot(V_pred, np.linalg.inv(V_pred + R))\n",
    "        x_filt = x_pred + np.dot(kal_gain, x - x_pred)\n",
    "        V_filt = np.dot(np.identity(dim + 1) - kal_gain, V_pred)\n",
    "        #store data for smoothing\n",
    "        x_pred_data.append(x_pred)\n",
    "        V_pred_data.append(V_pred)\n",
    "        x_filt_data.append(x_filt)\n",
    "        V_filt_data.append(V_filt)\n",
    "            \n",
    "    #smoothing step\n",
    "    N_pred_data = len(V_pred_data)\n",
    "    x_sm_data = []\n",
    "    x_sm = x_filt_data[-1]\n",
    "    x_sm_data.append(x_sm[0])\n",
    "    V_sm = V_filt_data[-1]\n",
    "    for i in xrange(N_pred_data):\n",
    "        idx = N_pred_data - i - 1\n",
    "        smoother = np.dot(V_filt_data[idx], np.dot(F.T, np.linalg.inv(V_pred_data[idx])))\n",
    "        x_sm = x_filt_data[idx] + np.dot(smoother, x_sm - x_pred_data[idx])\n",
    "        V_sm = V_filt_data[idx] + np.dot(smoother, np.dot(V_sm - V_pred_data[idx], smoother.T))\n",
    "        x_sm_data.append(x_sm[0])\n",
    "            \n",
    "    x_sm_data.reverse()\n",
    "    #insert raw data to value at t=0, 1, ..., dim-1\n",
    "    x_sm_data = np.r_[data[range(dim)], x_sm_data]\n",
    "        \n",
    "    return x_sm_data\n",
    "    \n",
    "#find local maximum point for high_data, local minimum for low_data\n",
    "def get_max_idx(data, is_high=True, window=2, sig_ob=1.0, sig_sys=1.0e-1):\n",
    "\n",
    "    data_tilde = np.array(data)\n",
    "    if is_high is not True:\n",
    "        data_tilde = -data_tilde\n",
    "    T = len(data_tilde)\n",
    "    \n",
    "    #regularize data by getting rid of trend of data\n",
    "    reg = LinearRegression()\n",
    "    time_data = np.arange(T)\n",
    "    x = time_data.reshape(T, 1)\n",
    "    y = np.array(data_tilde).reshape(T, 1)\n",
    "    reg.fit(x, y)\n",
    "    coef = reg.coef_[0][0]\n",
    "    reg_data = data_tilde - coef*time_data\n",
    "    \n",
    "    #data for first order derivative\n",
    "    def_data = reg_data[1:] - reg_data[:-1]\n",
    "    \n",
    "    #find local optimum point\n",
    "    idx_max = []\n",
    "    for i in xrange(1, T - 1):\n",
    "        if def_data[i] <=0 and def_data[i-1] >= 0:\n",
    "            idx_max.append(i)\n",
    "\n",
    "    #determine weahter selected points are local maximum in their more global neighbor\n",
    "    new_idx_max = []\n",
    "    for idx in iter(idx_max):\n",
    "        flag = True\n",
    "        max_value = reg_data[idx]\n",
    "        for slide in xrange(1, window + 1):\n",
    "            slide_idx = idx + slide\n",
    "            if slide_idx > T - 1:\n",
    "                continue\n",
    "            if max_value < reg_data[slide_idx]:\n",
    "                flag = False\n",
    "                break\n",
    "    \n",
    "        for slide in xrange(1, window + 1):\n",
    "            slide_idx = idx - slide\n",
    "            if slide_idx < 0:\n",
    "                continue\n",
    "            if max_value < reg_data[slide_idx]:\n",
    "                flag = False \n",
    "                break\n",
    "        if flag:\n",
    "            new_idx_max.append(idx)             \n",
    "    \n",
    "    return new_idx_max\n",
    "    \n",
    "#given data and slope of the line, return the intercept of the line which will not go below conf_lev numbers y_data\n",
    "def get_opt_incpt(x_data, y_data, coef, conf_lev=1, is_high=True):\n",
    "    #conf_lev is the number of points to judge validity of support and resistance \n",
    "    assert len(x_data)>=1 and len(y_data) >=1, \"you should input some data\"\n",
    "    #for the case of resistance\n",
    "    if is_high is not True:\n",
    "        y_data= (-1)*y_data\n",
    "        coef= -coef   \n",
    "        \n",
    "    #generate line data and check how much points cross that line\n",
    "    N_data = len(x_data)\n",
    "    for i in xrange(N_data):\n",
    "        x = x_data[i]\n",
    "        y = y_data[i]\n",
    "        incpt = y - coef*x\n",
    "        line_data = coef*x_data + incpt\n",
    "        over_flag = 0\n",
    "        for j in xrange(N_data):\n",
    "            if i==j: continue\n",
    "            if y_data[j] > line_data[j]:\n",
    "                over_flag += 1\n",
    "        if over_flag == conf_lev - 1: \n",
    "            opt_incpt = incpt\n",
    "            break   \n",
    "        \n",
    "    if is_high is not True:\n",
    "        opt_incpt = -opt_incpt\n",
    "        \n",
    "    return opt_incpt\n",
    "    \n",
    "#return slope and  intercept of optimal line \n",
    "def opt_line(data, is_high=True, dim=4, window=1, sig_ob=1.0, sig_sys=1.0e-1):\n",
    "    #window is the figure about how much points around what you pick up when drawing line\n",
    "    data = np.array(data)\n",
    "    max_idx = get_max_idx(data, is_high=is_high)\n",
    "    N_data = len(data)\n",
    "    time_data = np.arange(N_data)\n",
    "    \n",
    "    #take loc_maximal's neighbor into consideration\n",
    "    new_max_idx = []\n",
    "    N_idx = len(max_idx)\n",
    "    for i in xrange(N_idx):\n",
    "        for slide in xrange(1, window + 1):\n",
    "            slide = window + 1 - slide\n",
    "            slide_idx = max_idx[i] - slide\n",
    "            if slide_idx < 0:\n",
    "                break\n",
    "                if i != 0 and slide_idx == max_idx[i - 1]:\n",
    "                    break\n",
    "            new_max_idx.append(slide_idx)\n",
    "            \n",
    "        new_max_idx.append(max_idx[i])\n",
    "        \n",
    "        for slide in xrange(1, window + 1):\n",
    "            slide_idx = max_idx[i] + slide\n",
    "            if slide_idx > N_data - 1:\n",
    "                break\n",
    "            if i != N_idx - 1 and slide_idx == max_idx[i -+1]:\n",
    "                 break\n",
    "            new_max_idx.append(slide_idx)\n",
    "        \n",
    "    y = data[new_max_idx]\n",
    "    x = time_data[new_max_idx]\n",
    "    reg_y = y.reshape(len(y), 1)\n",
    "    reg_x = x.reshape(len(x), 1)\n",
    "    reg = LinearRegression()\n",
    "    reg.fit(reg_x, reg_y)\n",
    "    coef = reg.coef_[0][0]\n",
    "    incpt = get_opt_incpt(x_data=x, y_data=y, coef=coef, conf_lev=1, is_high=is_high)\n",
    "        \n",
    "    return coef, incpt\n",
    "    \n",
    "    \n",
    "#get list support, resistance line data, and their corresponding time data\n",
    "def draw_line(data, slide=10, tolerance=3, num_max=2, flag_sm=True, dim=4):\n",
    "    \"\"\"\n",
    "    data:\n",
    "    dict: timeseries data\n",
    "        {\n",
    "            \"Date\": [...],\n",
    "            \"<indicator_id_1>\": [...],\n",
    "            \"<indicator_id_2>\": [...],\n",
    "            \"<indicator_id_3>\": [...],\n",
    "            \"<indicator_id_4>\": [...],\n",
    "            ...\n",
    "        }\n",
    "            \n",
    "    Return:\n",
    "    list:\n",
    "        beg_end_list = [[begin_time, end_time], [begin_time, end_time], ...]\n",
    "        high_line_list = [[begin_value, end_value], [begin_value, end_value], ...]\n",
    "        low_line_list = [[begin_value, end_value], [begin_value, end_value], ...]\n",
    "        \n",
    "    they should satisfy following     \n",
    "    high(low)_line_data[begin(end)_time] == begin(end)_value  \n",
    "    \"\"\"\n",
    "    time_data = data['Date']\n",
    "    high_data = np.array(data['High'])\n",
    "    low_data = np.array(data['Low'])\n",
    "        \n",
    "    if flag_sm:\n",
    "        high_data = smoothing(high_data, dim=dim)\n",
    "        low_data = smoothing(low_data, dim=dim)\n",
    "        \n",
    "    #they will be return value\n",
    "    high_line_list = []\n",
    "    low_line_list = []\n",
    "    beg_end_list = []\n",
    "    index_list = []\n",
    "        \n",
    "    N_data = len(high_data)\n",
    "    N_iter = N_data/slide\n",
    "       \n",
    "    idx_data = np.arange(N_data)\n",
    "    line_flag = False #flag to check weather there is a line or not\n",
    "        \n",
    "    begin = 0 #index of beggining value\n",
    "    for i in xrange(N_iter):\n",
    "        end = (i + 1)*slide - 1 #index of end value\n",
    "        high_data_mini = high_data[begin:end]\n",
    "        low_data_mini = low_data[begin:end]\n",
    "        max_idx = get_max_idx(high_data_mini, is_high=True, window=2, sig_ob=1.0, sig_sys=1.0e-1)\n",
    "        min_idx = get_max_idx(low_data_mini, is_high=False, window=2, sig_ob=1.0, sig_sys=1.0e-1)\n",
    "        \n",
    "        # if you fail to find enaough local maximum or minimum point, you will increase points. \n",
    "        if len(max_idx) < num_max or len(min_idx) < num_max:\n",
    "            continue\n",
    "            \n",
    "        #draw line\n",
    "        if line_flag is False:\n",
    "            high_coef, high_incpt = opt_line(high_data_mini, is_high=True)\n",
    "            low_coef, low_incpt = opt_line(low_data_mini, is_high=False)\n",
    "            line_flag = True\n",
    "        \n",
    "        x = np.arange(end - begin)\n",
    "        high_line = high_coef * x + high_incpt\n",
    "        low_line  = low_coef * x + low_incpt\n",
    "        \n",
    "        #count for how many points break the line\n",
    "        high_count = 0\n",
    "        low_count = 0\n",
    "        for time_idx in xrange(max_idx[1], end - begin):\n",
    "            high_count += 1\n",
    "            low_count += 1\n",
    "            if high_data_mini[time_idx] <= high_line[time_idx]:\n",
    "                high_count = 0\n",
    "            \n",
    "            if low_data_mini[time_idx] >= low_line[time_idx]:\n",
    "                low_count = 0\n",
    "                \n",
    "            if high_count > tolerance or low_count > tolerance:\n",
    "                print (\"break the line!, t=%d\" %(time_idx - tolerance + begin))\n",
    "                beg_end_list.append([time_data[begin], time_data[end]])\n",
    "                high_line_list.append([high_line[0], high_line[-1]])\n",
    "                low_line_list.append([low_line[0], low_line[-1]])\n",
    "                index_list.append([begin, end])\n",
    "                if max_idx[1] > min_idx[1]:\n",
    "                    begin = min_idx[1] - 1 + begin\n",
    "                else:\n",
    "                    begin = max_idx[1] - 1 + begin\n",
    "                line_flag = False\n",
    "                break\n",
    "        \n",
    "    if line_flag is True:\n",
    "        beg_end_list.append([time_data[begin], time_data[end]])\n",
    "        high_line_list.append([high_line[0], high_line[-1]])\n",
    "        low_line_list.append([low_line[0], low_line[-1]])\n",
    "        index_list.append([begin, end])\n",
    "                \n",
    "    return beg_end_list, high_line_list, low_line_list, index_list\n",
    "        "
   ]
  },
  {
   "cell_type": "code",
   "execution_count": 96,
   "metadata": {
    "collapsed": false
   },
   "outputs": [],
   "source": [
    "\n",
    "def draw_line_by_list(index_list, line_data_list):\n",
    "    x_list = []\n",
    "    y_list = []\n",
    "    for index, line_data in zip(index_list, line_data_list):\n",
    "        x = np.arange(index[0], index[1] + 1)\n",
    "        slope = (line_data[1] - line_data[0])/(index[1] - index[0])\n",
    "        y = slope*(x - index[0]) + line_data[0]\n",
    "        x_list.append(x)\n",
    "        y_list.append(y)\n",
    "    return x_list, y_list\n",
    "        \n"
   ]
  },
  {
   "cell_type": "code",
   "execution_count": 99,
   "metadata": {
    "collapsed": false
   },
   "outputs": [
    {
     "name": "stdout",
     "output_type": "stream",
     "text": [
      "break the line!, t=44\n",
      "break the line!, t=56\n",
      "break the line!, t=83\n"
     ]
    },
    {
     "data": {
      "image/png": "[encoded data removed]",
      "text/plain": [
       "<matplotlib.figure.Figure at 0x7fe435894490>"
      ]
     },
     "metadata": {},
     "output_type": "display_data"
    }
   ],
   "source": [
    "N = 100\n",
    "M = 0\n",
    "k = 4\n",
    "\n",
    "high_data_mini = np.array(high_data[M:N])\n",
    "low_data_mini = np.array(low_data[M:N])\n",
    "df_mini = df[M:N]\n",
    "\n",
    "beg_end_list, high_line, low_line, index_list = draw_line(df_mini)\n",
    "\n",
    "N_data = len(high_data_mini)\n",
    "time_data = np.arange(N_data)\n",
    "\n",
    "fig, ax = plt.subplots()\n",
    "fig.subplots_adjust(bottom=0.2)\n",
    "\n",
    "candlestick2_ohlc(ax, open_data[M:N], high_data[M:N], \n",
    "                  low_data[M:N], close_data[M:N],\n",
    "                 width=0.6, colorup='k', colordown='r', alpha=0.75)\n",
    "\n",
    "high_x, high_y= draw_line_by_list(index_list, high_line)\n",
    "low_x, low_y= draw_line_by_list(index_list, low_line)\n",
    "\n",
    "for i in xrange(len(high_x)):\n",
    "    plt.plot(high_x[i], high_y[i])\n",
    "    plt.plot(low_x[i], low_y[i])\n",
    "plt.legend()"
   ]
  },
  {
   "cell_type": "code",
   "execution_count": null,
   "metadata": {
    "collapsed": true
   },
   "outputs": [],
   "source": [
    "N = 5000\n",
    "M = 0\n",
    "k = 4\n",
    "\n",
    "high_data_mini = np.array(high_data[M:N])\n",
    "low_data_mini = np.array(low_data[M:N])\n",
    "df_mini = df[M:N]\n",
    "\n",
    "beg_end_list, high_line, low_line, index_list = draw_line(df_mini)\n",
    "\n",
    "N_data = len(high_data_mini)\n",
    "time_data = np.arange(N_data)\n",
    "\n",
    "fig, ax = plt.subplots()\n",
    "fig.subplots_adjust(bottom=0.2)\n",
    "\n",
    "candlestick2_ohlc(ax, open_data[M:N], high_data[M:N], \n",
    "                  low_data[M:N], close_data[M:N],\n",
    "                 width=0.6, colorup='k', colordown='r', alpha=0.75)\n",
    "\n",
    "high_x, high_y= draw_line_by_list(index_list, high_line)\n",
    "low_x, low_y= draw_line_by_list(index_list, low_line)\n",
    "\n",
    "for i in xrange(len(high_x)):\n",
    "    plt.plot(high_x[i], high_y[i])\n",
    "    plt.plot(low_x[i], low_y[i])\n",
    "plt.legend()"
   ]
  },
  {
   "cell_type": "markdown",
   "metadata": {},
   "source": [
    "This program seems now working well when we use long term data."
   ]
  },
  {
   "cell_type": "code",
   "execution_count": 109,
   "metadata": {
    "collapsed": false
   },
   "outputs": [
    {
     "name": "stdout",
     "output_type": "stream",
     "text": [
      "[[Timestamp('2016-01-03 22:00:00+0000', tz='UTC'), Timestamp('2016-01-04 02:05:00+0000', tz='UTC')], [Timestamp('2016-01-03 23:20:00+0000', tz='UTC'), Timestamp('2016-01-04 03:45:00+0000', tz='UTC')], [Timestamp('2016-01-04 01:15:00+0000', tz='UTC'), Timestamp('2016-01-04 05:25:00+0000', tz='UTC')], [Timestamp('2016-01-04 02:20:00+0000', tz='UTC'), Timestamp('2016-01-04 06:15:00+0000', tz='UTC')]]\n"
     ]
    }
   ],
   "source": [
    "print (beg_end_list)"
   ]
  },
  {
   "cell_type": "code",
   "execution_count": 117,
   "metadata": {
    "collapsed": false
   },
   "outputs": [
    {
     "data": {
      "text/plain": [
       "True"
      ]
     },
     "execution_count": 117,
     "metadata": {},
     "output_type": "execute_result"
    }
   ],
   "source": [
    "import pandas\n",
    "\n",
    "type(beg_end_list[0][0]) == pandas.tslib.Timestamp"
   ]
  },
  {
   "cell_type": "code",
   "execution_count": 121,
   "metadata": {
    "collapsed": false
   },
   "outputs": [
    {
     "data": {
      "text/plain": [
       "True"
      ]
     },
     "execution_count": 121,
     "metadata": {},
     "output_type": "execute_result"
    }
   ],
   "source": [
    "isinstance(beg_end_list[0][0], pandas.tslib.Timestamp)"
   ]
  },
  {
   "cell_type": "code",
   "execution_count": null,
   "metadata": {
    "collapsed": true
   },
   "outputs": [],
   "source": []
  }
 ],
 "metadata": {
  "kernelspec": {
   "display_name": "Python 2",
   "language": "python",
   "name": "python2"
  },
  "language_info": {
   "codemirror_mode": {
    "name": "ipython",
    "version": 2
   },
   "file_extension": ".py",
   "mimetype": "text/x-python",
   "name": "python",
   "nbconvert_exporter": "python",
   "pygments_lexer": "ipython2",
   "version": "2.7.6"
  }
 },
 "nbformat": 4,
 "nbformat_minor": 0
}
