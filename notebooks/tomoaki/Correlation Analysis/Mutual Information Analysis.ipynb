{
 "cells": [
  {
   "cell_type": "markdown",
   "metadata": {
    "collapsed": true
   },
   "source": [
    "# Try simple algorighm!"
   ]
  },
  {
   "cell_type": "markdown",
   "metadata": {},
   "source": [
    "First of all, we are gonna estimate by deviding data into finite size bins. "
   ]
  },
  {
   "cell_type": "code",
   "execution_count": 1,
   "metadata": {
    "collapsed": true
   },
   "outputs": [],
   "source": [
    "import numpy as np\n",
    "import pandas as pd"
   ]
  },
  {
   "cell_type": "code",
   "execution_count": 2,
   "metadata": {
    "collapsed": true
   },
   "outputs": [],
   "source": [
    "x = np.random.randn(10000)\n",
    "y = np.sin(x) + np.random.normal(scale=0.1, size=10000)"
   ]
  },
  {
   "cell_type": "code",
   "execution_count": 3,
   "metadata": {
    "collapsed": true
   },
   "outputs": [],
   "source": [
    "N_data = len(x)\n",
    "K = 3\n",
    "N_bin =100\n",
    "\n",
    "def get_MI(x_data, y_data, K=2, N_bin=100):\n",
    "    dx = float(2 * K) / N_bin\n",
    "    N_data = len(x_data)\n",
    "    bin_x = np.zeros(N_bin)\n",
    "    bin_y = np.zeros(N_bin)\n",
    "    bin_xy = np.zeros(shape=(N_bin, N_bin))\n",
    "    for i in xrange(N_data):\n",
    "        bin_x_idx = N_bin - 1\n",
    "        for bin_i in xrange(N_bin):\n",
    "            x = -K + bin_i * dx\n",
    "            if x_data[i] <= x:\n",
    "                bin_x[bin_i] += 1\n",
    "                bin_x_idx = bin_i\n",
    "                break\n",
    "        \n",
    "        bin_y_idx = N_bin - 1\n",
    "        for bin_i in xrange(N_bin):\n",
    "            y = -K + bin_i * dx\n",
    "            if y_data[i] <= y:\n",
    "                bin_y[bin_i] += 1\n",
    "                bin_y_idx = bin_i\n",
    "                break\n",
    "        bin_xy[bin_x_idx][bin_y_idx] += 1\n",
    "    mi = 0\n",
    "    for x_i in xrange(N_bin):\n",
    "        for y_i in xrange(N_bin):\n",
    "            if bin_xy[x_i][y_i] != 0:\n",
    "                mi += bin_xy[x_i][y_i] \\\n",
    "                * (np.log(bin_xy[x_i][y_i]) - np.log(bin_x[x_i]) - np.log(bin_y[y_i]) + np.log(N_data)) \\\n",
    "                / (N_data** 2)\n",
    "    return mi\n",
    "            \n",
    "        "
   ]
  },
  {
   "cell_type": "code",
   "execution_count": 4,
   "metadata": {
    "collapsed": false
   },
   "outputs": [
    {
     "data": {
      "text/plain": [
       "0.00018229628384716821"
      ]
     },
     "execution_count": 4,
     "metadata": {},
     "output_type": "execute_result"
    }
   ],
   "source": [
    "get_MI(x, y)"
   ]
  },
  {
   "cell_type": "code",
   "execution_count": 5,
   "metadata": {
    "collapsed": false
   },
   "outputs": [
    {
     "data": {
      "text/plain": [
       "0.00035090310254864586"
      ]
     },
     "execution_count": 5,
     "metadata": {},
     "output_type": "execute_result"
    }
   ],
   "source": [
    "x = np.random.randn(10000)\n",
    "y = np.sin(x) \n",
    "\n",
    "get_MI(x, y)"
   ]
  },
  {
   "cell_type": "code",
   "execution_count": 6,
   "metadata": {
    "collapsed": false
   },
   "outputs": [
    {
     "data": {
      "text/plain": [
       "1.392571419130284e-07"
      ]
     },
     "execution_count": 6,
     "metadata": {},
     "output_type": "execute_result"
    }
   ],
   "source": [
    "x = np.random.randn(1000000)\n",
    "y = np.random.randn(1000000)\n",
    "\n",
    "get_MI(x, y)"
   ]
  },
  {
   "cell_type": "markdown",
   "metadata": {},
   "source": [
    "# Implementation of more sophisticated estimation"
   ]
  },
  {
   "cell_type": "markdown",
   "metadata": {},
   "source": [
    "I will implement this: www.jmlr.org/proceedings/papers/v38/gao15.pdf\n",
    "\n",
    "improved KNN method"
   ]
  },
  {
   "cell_type": "code",
   "execution_count": 16,
   "metadata": {
    "collapsed": false
   },
   "outputs": [],
   "source": [
    "import numpy as np\n",
    "from scipy.special import digamma\n",
    "\n",
    "\n",
    "def knn1(x, y, ratio=0.005):\n",
    "    \n",
    "    N_data = len(x)\n",
    "    # k = int(N_data * ratio)\n",
    "    k = 10\n",
    "    n_x_data = []\n",
    "    n_y_data = []\n",
    "    for i in xrange(N_data):\n",
    "        max_norm = []\n",
    "        for neighbor_i in xrange(N_data):\n",
    "            if i == neighbor_i:\n",
    "                continue\n",
    "            max_norm.append(max(np.abs(x[i] - x[neighbor_i]), np.abs(y[i] - y[neighbor_i])))\n",
    "        max_norm.sort()\n",
    "        dist = max_norm[k - 1]\n",
    "        \n",
    "        nx = 0\n",
    "        ny = 0\n",
    "        for neighbor_j in xrange(N_data):\n",
    "            if i == neighbor_j:\n",
    "                continue\n",
    "            if dist >= np.abs(x[i] - x[neighbor_j]):\n",
    "                nx += 1\n",
    "            if dist >= np.abs(y[i] - x[neighbor_j]):\n",
    "                ny += 1\n",
    "\n",
    "        n_x_data.append(nx)\n",
    "        n_y_data.append(ny)\n",
    "   \n",
    "    print np.mean(n_x_data)\n",
    "    print np.mean(n_y_data)\n",
    "    return digamma(k) + digamma(N_data) - np.mean(digamma(n_x_data)) - np.mean(digamma(n_y_data))\n",
    "\n",
    "        \n",
    "        \n",
    "        \n",
    "    "
   ]
  },
  {
   "cell_type": "code",
   "execution_count": 18,
   "metadata": {
    "collapsed": false
   },
   "outputs": [
    {
     "name": "stdout",
     "output_type": "stream",
     "text": [
      "355.4022\n",
      "354.5604\n"
     ]
    },
    {
     "data": {
      "text/plain": [
       "0.0039510811248080202"
      ]
     },
     "execution_count": 18,
     "metadata": {},
     "output_type": "execute_result"
    }
   ],
   "source": [
    "import numpy as np\n",
    "\n",
    "\n",
    "x = np.random.randn(10000)\n",
    "y = np.random.randn(10000)\n",
    "\n",
    "knn1(x, y)"
   ]
  },
  {
   "cell_type": "code",
   "execution_count": 13,
   "metadata": {
    "collapsed": false
   },
   "outputs": [
    {
     "data": {
      "text/plain": [
       "6.3426203151507036e-05"
      ]
     },
     "execution_count": 13,
     "metadata": {},
     "output_type": "execute_result"
    }
   ],
   "source": [
    "x = np.random.randn(10000)\n",
    "y = np.random.randn(10000)\n",
    "\n",
    "get_MI(x, y)"
   ]
  },
  {
   "cell_type": "code",
   "execution_count": 3,
   "metadata": {
    "collapsed": false
   },
   "outputs": [
    {
     "ename": "NameError",
     "evalue": "name 'digamma' is not defined",
     "output_type": "error",
     "traceback": [
      "\u001b[1;31m---------------------------------------------------------------------------\u001b[0m",
      "\u001b[1;31mNameError\u001b[0m                                 Traceback (most recent call last)",
      "\u001b[1;32m<ipython-input-3-cee73cbaa6b9>\u001b[0m in \u001b[0;36m<module>\u001b[1;34m()\u001b[0m\n\u001b[1;32m----> 1\u001b[1;33m \u001b[0mdigamma\u001b[0m\u001b[1;33m(\u001b[0m\u001b[0ma\u001b[0m\u001b[1;33m)\u001b[0m\u001b[1;33m\u001b[0m\u001b[0m\n\u001b[0m",
      "\u001b[1;31mNameError\u001b[0m: name 'digamma' is not defined"
     ]
    }
   ],
   "source": [
    "digamma(a)"
   ]
  },
  {
   "cell_type": "code",
   "execution_count": 1,
   "metadata": {
    "collapsed": false
   },
   "outputs": [
    {
     "name": "stdout",
     "output_type": "stream",
     "text": [
      "[2, 2, 3, 15, 41]\n"
     ]
    }
   ],
   "source": [
    "a = [2, 3, 41, 2, 15]\n",
    "a.sort()\n",
    "print (a)"
   ]
  },
  {
   "cell_type": "code",
   "execution_count": null,
   "metadata": {
    "collapsed": true
   },
   "outputs": [],
   "source": []
  },
  {
   "cell_type": "code",
   "execution_count": null,
   "metadata": {
    "collapsed": true
   },
   "outputs": [],
   "source": []
  }
 ],
 "metadata": {
  "kernelspec": {
   "display_name": "Python 2",
   "language": "python",
   "name": "python2"
  },
  "language_info": {
   "codemirror_mode": {
    "name": "ipython",
    "version": 2
   },
   "file_extension": ".py",
   "mimetype": "text/x-python",
   "name": "python",
   "nbconvert_exporter": "python",
   "pygments_lexer": "ipython2",
   "version": "2.7.6"
  }
 },
 "nbformat": 4,
 "nbformat_minor": 0
}
