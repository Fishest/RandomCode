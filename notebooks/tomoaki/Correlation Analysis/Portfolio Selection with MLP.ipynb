{
 "cells": [
  {
   "cell_type": "markdown",
   "metadata": {},
   "source": [
    "If economic indicator is totally determined by stock price and noise, Multi Layer Nueral Network is good enough to learn that relationships.\n",
    "\n",
    "Let's try it out!"
   ]
  },
  {
   "cell_type": "code",
   "execution_count": 1,
   "metadata": {
    "collapsed": false
   },
   "outputs": [
    {
     "name": "stdout",
     "output_type": "stream",
     "text": [
      "Requirement already up-to-date: matplotlib in /usr/local/lib/python2.7/dist-packages\n",
      "Requirement already up-to-date: numpy>=1.6 in /usr/local/lib/python2.7/dist-packages (from matplotlib)\n",
      "Requirement already up-to-date: python-dateutil in /usr/local/lib/python2.7/dist-packages (from matplotlib)\n",
      "Requirement already up-to-date: pytz in /usr/local/lib/python2.7/dist-packages (from matplotlib)\n",
      "Requirement already up-to-date: cycler in /usr/local/lib/python2.7/dist-packages (from matplotlib)\n",
      "Requirement already up-to-date: pyparsing!=2.0.4,>=1.5.6 in /usr/local/lib/python2.7/dist-packages (from matplotlib)\n",
      "Cleaning up...\n",
      "Requirement already satisfied (use --upgrade to upgrade): theano in /usr/local/lib/python2.7/dist-packages\n",
      "Requirement already satisfied (use --upgrade to upgrade): numpy>=1.7.1 in /usr/local/lib/python2.7/dist-packages (from theano)\n",
      "Requirement already satisfied (use --upgrade to upgrade): scipy>=0.11 in /usr/local/lib/python2.7/dist-packages (from theano)\n",
      "Requirement already satisfied (use --upgrade to upgrade): six>=1.9.0 in /usr/local/lib/python2.7/dist-packages (from theano)\n",
      "Cleaning up...\n"
     ]
    }
   ],
   "source": [
    "!pip install matplotlib --upgrade\n",
    "!pip install theano"
   ]
  },
  {
   "cell_type": "code",
   "execution_count": 2,
   "metadata": {
    "collapsed": false
   },
   "outputs": [
    {
     "name": "stderr",
     "output_type": "stream",
     "text": [
      "/usr/local/lib/python2.7/dist-packages/matplotlib/__init__.py:872: UserWarning: axes.color_cycle is deprecated and replaced with axes.prop_cycle; please use the latter.\n",
      "  warnings.warn(self.msg_depr % (key, alt_key))\n"
     ]
    }
   ],
   "source": [
    "#generic\n",
    "%matplotlib inline\n",
    "from __future__ import print_function\n",
    "\n",
    "#public open pakcages and methods\n",
    "import seaborn as sns\n",
    "import pandas as pd\n",
    "import numpy as np\n",
    "import matplotlib.pyplot as plt\n",
    "\n",
    "#private pakcages and methods\n",
    "import histdata\n",
    "from utils import parse_json\n",
    "from nb_utils import compare\n",
    "from trading import tm\n",
    "import tseries\n",
    "from tseries.converter import Converter\n",
    "\n",
    "#for testing\n",
    "from IPython import display\n",
    "import platform\n",
    "import time"
   ]
  },
  {
   "cell_type": "code",
   "execution_count": 3,
   "metadata": {
    "collapsed": false
   },
   "outputs": [
    {
     "name": "stdout",
     "output_type": "stream",
     "text": [
      "Requirement already satisfied (use --upgrade to upgrade): quandl in /usr/local/lib/python2.7/dist-packages\r\n",
      "Cleaning up...\r\n"
     ]
    }
   ],
   "source": [
    "! pip install quandl"
   ]
  },
  {
   "cell_type": "code",
   "execution_count": 4,
   "metadata": {
    "collapsed": true
   },
   "outputs": [],
   "source": [
    "input_list = [\"AAPL\", \"ORCL\", \"IBM\", \"INTC\"]\n",
    "energy = [\"PTR\", \"XOM\", \"CVX\", \"RDS-A\"]\n",
    "financial = [\"WFC\", \"JPM\", \"HSBC\", \"BAC\"]\n",
    "healthcare = [\"NVX\", \"PFE\", \"MRK\"]\n",
    "hardware = [\"AAPL\", \"ORCL\", \"IBM\", \"INTC\"]\n",
    "software = [\"MSFT\", \"GOOGL\", \"FB\"]\n",
    "input_list = energy + financial + healthcare + hardware + software"
   ]
  },
  {
   "cell_type": "code",
   "execution_count": 6,
   "metadata": {
    "collapsed": true
   },
   "outputs": [],
   "source": [
    "from yahoo_finance import Share\n",
    "\n",
    "def get_data_by_key(key, data):\n",
    "    data_it = iter(data)\n",
    "    return_data = []\n",
    "    for d in data_it:\n",
    "        return_data.append(d[key])\n",
    "    return np.array(return_data)\n",
    "\n",
    "def get_data_by_list(name_list, start_date, end_date, data_type=\"Open\"):\n",
    "    share_list = []\n",
    "    for name in name_list:\n",
    "        share_list.append(Share(name))\n",
    "    \n",
    "    stock_data = []\n",
    "    date = []\n",
    "    for share in share_list:\n",
    "        hist_data = share.get_historical(start_date=start_date, end_date=end_date)\n",
    "        stock_data.append(map(float, get_data_by_key(key=data_type, data=hist_data)))\n",
    "        date.append(get_data_by_key(key='Date', data=hist_data))\n",
    "    return np.array(stock_data).T, date"
   ]
  },
  {
   "cell_type": "code",
   "execution_count": 7,
   "metadata": {
    "collapsed": false
   },
   "outputs": [],
   "source": [
    "import quandl \n",
    "\n",
    "start_date=\"2014-04-01\"\n",
    "end_date=\"2015-04-01\"\n",
    "input_data, date = get_data_by_list(input_list, start_date=start_date, end_date=end_date) \n",
    "sp = quandl.get(\"YAHOO/INDEX_GSPC\", start_date=start_date, end_date=end_date)\n",
    "target_data = np.array(sp['Open'])\n",
    "\n",
    "start_date=\"2015-04-01\"\n",
    "end_date=\"2016-04-01\"\n",
    "input_data_pred, date = get_data_by_list(input_list, start_date=start_date, end_date=end_date) \n",
    "sp = quandl.get(\"YAHOO/INDEX_GSPC\", start_date=start_date, end_date=end_date)\n",
    "target_data_pred = np.array(sp['Open'])"
   ]
  },
  {
   "cell_type": "code",
   "execution_count": 70,
   "metadata": {
    "collapsed": false
   },
   "outputs": [],
   "source": [
    "import numpy as np\n",
    "import theano \n",
    "import theano.tensor as T\n",
    "from theano.tensor.nnet import relu\n",
    "from itertools import izip\n",
    "\n",
    "class HiddenLayer(object):\n",
    "    def __init__(self, shape, W=None, b=None, input=None, activation=relu):\n",
    "        \"\"\"Set Hidden Lyaer properties\n",
    "        Args:\n",
    "            shape (List(int)): determine layer shape as (n_in, n_out)\n",
    "            W (theano.shared): intialize weight if you give some W\n",
    "            b (theano.shared): intialize bias if you give some b\n",
    "            activation: activation function\n",
    "        \"\"\"\n",
    "        \n",
    "        self.shape = shape\n",
    "        self.activation = activation  \n",
    "        \n",
    "        if W is None:\n",
    "            W_values = np.asarray(\n",
    "                np.random.uniform(\n",
    "                    low=-np.sqrt(6./np.sum(shape)), \n",
    "                    high=np.sqrt(6./np.sum(shape)),\n",
    "                    size=shape\n",
    "                ),\n",
    "                dtype=theano.config.floatX\n",
    "            )\n",
    "            W = theano.shared(value=W_values, name=\"W\", borrow=True)\n",
    "            \n",
    "        if b is None:\n",
    "            b_values = np.zeros(shape[1], dtype=theano.config.floatX)\n",
    "            b = theano.shared(value=b_values, name=\"b\", borrow=True)\n",
    "            \n",
    "        self.W = W\n",
    "        self.b = b\n",
    "        self.params = [self.W, self.b]\n",
    "        \n",
    "    def batch_set_input(self, batch_input):\n",
    "        self.batch_input = batch_input\n",
    "        self.batch_output = self.activation(T.dot(self.batch_input, self.W) + self.b)\n",
    "        \n",
    "    def set_input(self, input):\n",
    "        self.input = input\n",
    "        self.output = self.activation(T.dot(self.input, self.W) + self.b)\n",
    "        \n",
    "    def output(self, x):\n",
    "        y = self.activation(T.dot(x, self.W) + self.b)\n",
    "        return y\n",
    "        \n",
    "class MLP(object):\n",
    "    \n",
    "    def __init__(self, *layers):\n",
    "        \"\"\"Get layer architecture\n",
    "        Args:\n",
    "            layers(list): contain each layer obejct like\n",
    "                [HiddenLaer(10, 10), HiddenLayer(10, 10), HiddenLayer(10, 1)]\n",
    "        \"\"\"\n",
    "        \n",
    "        self.N_layers = len(layers)\n",
    "        self.layers = layers\n",
    "        \n",
    "        # setting the input and output for training\n",
    "        self.batch_input = T.dmatrix(\"batch_input\")\n",
    "        batch_input = self.batch_input\n",
    "        for layer in self.layers:\n",
    "            layer.batch_set_input(batch_input)\n",
    "            batch_input = layer.batch_output\n",
    "        self.batch_output = self.layers[-1].batch_output\n",
    "        \n",
    "        # setting the input and output\n",
    "        self.input = T.dvector(\"input\")\n",
    "        input = self.input\n",
    "        for layer in self.layers:\n",
    "            layer.set_input(input)\n",
    "            input = layer.output\n",
    "        self.output = self.layers[-1].output\n",
    "        \n",
    "        self.output_func = theano.function(inputs=[self.input], outputs=self.output)\n",
    "        self.batch_output_func = theano.function(inputs=[self.batch_input], outputs=self.batch_output)\n",
    "        \n",
    "        #setting parameters\n",
    "        self.params = [param for layer in self.layers for param in layer.params]\n",
    "    \n",
    "            \n",
    "    def SGD(self, input_data, target_data,\n",
    "            learning_rate=0.01, L1_reg=0.00, L2_reg=0.0001, N_epochs=10000, batch_size=20):\n",
    "    \n",
    "        df_input = np.log(input_data[1:] / input_data[:-1])\n",
    "        df_target = np.log(target_data[1:] / target_data[: -1])\n",
    "        N_data = len(df_target)\n",
    "        N_batches = N_data / batch_size\n",
    "        \n",
    "        df_input = theano.shared(value=np.array(df_input, dtype=theano.config.floatX))\n",
    "        df_target = theano.shared(value=np.array(df_target, dtype=theano.config.floatX).reshape(N_data, 1))\n",
    "            \n",
    "        print (\"...building the model\")\n",
    "        \n",
    "        index = T.lscalar(\"index\")\n",
    "        target = T.dmatrix(\"target\")\n",
    "        cost = T.sum((target - self.batch_output) ** 2)\n",
    "        \n",
    "        gparams = [T.grad(cost=cost, wrt=param) for param in self.params]\n",
    "        \n",
    "        updates = [\n",
    "            (param, param - learning_rate * gparam) for param, gparam in izip(self.params, gparams)\n",
    "        ]\n",
    "        \n",
    "        batch_begin = index * batch_size\n",
    "        batch_end = batch_begin + batch_size\n",
    "        \n",
    "        train_func = theano.function(\n",
    "            inputs=[index],\n",
    "            outputs=cost,\n",
    "            updates=updates,\n",
    "            givens = {\n",
    "                self.batch_input:\n",
    "                    df_input[batch_begin: batch_end],\n",
    "                target:\n",
    "                    df_target[batch_begin: batch_end]\n",
    "            }\n",
    "        )\n",
    "        \n",
    "        print (\"...training\")\n",
    "        \n",
    "        print_epoch = 100\n",
    "        \n",
    "        for epoch in xrange(N_epochs):\n",
    "            cost_data = []\n",
    "            batch_list = np.arange(N_batches)\n",
    "            np.random.shuffle(batch_list)\n",
    "            for batch_index in iter(batch_list):\n",
    "                c = train_func(batch_index)\n",
    "                cost_data.append(c)\n",
    "            average_cost = np.mean(cost_data) / batch_size\n",
    "            \n",
    "            if (epoch + 1) % print_epoch == 0:\n",
    "                print (\"epoch %d: cost = %f\" % (epoch + 1, average_cost))\n",
    "                \n",
    "                \n",
    "    def predict(self, input_data):\n",
    "        df_input = np.log(input_data[1:] / input_data[:-1])\n",
    "        out = self.batch_output_func(df_input)\n",
    "        accumulated = np.cumprod( np.exp(out))\n",
    "        return accumulated"
   ]
  },
  {
   "cell_type": "code",
   "execution_count": 83,
   "metadata": {
    "collapsed": false
   },
   "outputs": [
    {
     "name": "stdout",
     "output_type": "stream",
     "text": [
      "...building the model\n",
      "...training\n",
      "epoch 100: cost = 0.000049\n",
      "epoch 200: cost = 0.000044\n",
      "epoch 300: cost = 0.000042\n",
      "epoch 400: cost = 0.000041\n",
      "epoch 500: cost = 0.000040\n",
      "epoch 600: cost = 0.000040\n",
      "epoch 700: cost = 0.000039\n",
      "epoch 800: cost = 0.000039\n",
      "epoch 900: cost = 0.000039\n",
      "epoch 1000: cost = 0.000038\n",
      "epoch 1100: cost = 0.000038\n",
      "epoch 1200: cost = 0.000038\n",
      "epoch 1300: cost = 0.000037\n",
      "epoch 1400: cost = 0.000037\n",
      "epoch 1500: cost = 0.000037\n",
      "epoch 1600: cost = 0.000037\n",
      "epoch 1700: cost = 0.000037\n",
      "epoch 1800: cost = 0.000036\n",
      "epoch 1900: cost = 0.000036\n",
      "epoch 2000: cost = 0.000036\n",
      "epoch 2100: cost = 0.000036\n",
      "epoch 2200: cost = 0.000036\n",
      "epoch 2300: cost = 0.000036\n",
      "epoch 2400: cost = 0.000035\n",
      "epoch 2500: cost = 0.000035\n",
      "epoch 2600: cost = 0.000035\n",
      "epoch 2700: cost = 0.000035\n",
      "epoch 2800: cost = 0.000035\n",
      "epoch 2900: cost = 0.000035\n",
      "epoch 3000: cost = 0.000035\n",
      "epoch 3100: cost = 0.000035\n",
      "epoch 3200: cost = 0.000035\n",
      "epoch 3300: cost = 0.000035\n",
      "epoch 3400: cost = 0.000034\n",
      "epoch 3500: cost = 0.000034\n",
      "epoch 3600: cost = 0.000034\n",
      "epoch 3700: cost = 0.000034\n",
      "epoch 3800: cost = 0.000034\n",
      "epoch 3900: cost = 0.000034\n",
      "epoch 4000: cost = 0.000034\n",
      "epoch 4100: cost = 0.000034\n",
      "epoch 4200: cost = 0.000034\n",
      "epoch 4300: cost = 0.000034\n",
      "epoch 4400: cost = 0.000034\n",
      "epoch 4500: cost = 0.000034\n",
      "epoch 4600: cost = 0.000034\n",
      "epoch 4700: cost = 0.000034\n",
      "epoch 4800: cost = 0.000034\n",
      "epoch 4900: cost = 0.000034\n",
      "epoch 5000: cost = 0.000034\n",
      "epoch 5100: cost = 0.000034\n",
      "epoch 5200: cost = 0.000033\n",
      "epoch 5300: cost = 0.000033\n",
      "epoch 5400: cost = 0.000033\n",
      "epoch 5500: cost = 0.000033\n",
      "epoch 5600: cost = 0.000033\n",
      "epoch 5700: cost = 0.000033\n",
      "epoch 5800: cost = 0.000033\n",
      "epoch 5900: cost = 0.000033\n",
      "epoch 6000: cost = 0.000033\n",
      "epoch 6100: cost = 0.000033\n",
      "epoch 6200: cost = 0.000033\n",
      "epoch 6300: cost = 0.000033\n",
      "epoch 6400: cost = 0.000033\n",
      "epoch 6500: cost = 0.000033\n",
      "epoch 6600: cost = 0.000033\n",
      "epoch 6700: cost = 0.000033\n",
      "epoch 6800: cost = 0.000033\n",
      "epoch 6900: cost = 0.000033\n",
      "epoch 7000: cost = 0.000033\n",
      "epoch 7100: cost = 0.000033\n",
      "epoch 7200: cost = 0.000033\n",
      "epoch 7300: cost = 0.000033\n",
      "epoch 7400: cost = 0.000033\n",
      "epoch 7500: cost = 0.000033\n",
      "epoch 7600: cost = 0.000033\n",
      "epoch 7700: cost = 0.000032\n",
      "epoch 7800: cost = 0.000032\n",
      "epoch 7900: cost = 0.000032\n",
      "epoch 8000: cost = 0.000032\n",
      "epoch 8100: cost = 0.000032\n",
      "epoch 8200: cost = 0.000032\n",
      "epoch 8300: cost = 0.000032\n",
      "epoch 8400: cost = 0.000032\n",
      "epoch 8500: cost = 0.000032\n",
      "epoch 8600: cost = 0.000032\n",
      "epoch 8700: cost = 0.000032\n",
      "epoch 8800: cost = 0.000032\n",
      "epoch 8900: cost = 0.000032\n",
      "epoch 9000: cost = 0.000032\n",
      "epoch 9100: cost = 0.000032\n",
      "epoch 9200: cost = 0.000032\n",
      "epoch 9300: cost = 0.000032\n",
      "epoch 9400: cost = 0.000032\n",
      "epoch 9500: cost = 0.000032\n",
      "epoch 9600: cost = 0.000032\n",
      "epoch 9700: cost = 0.000032\n",
      "epoch 9800: cost = 0.000032\n",
      "epoch 9900: cost = 0.000032\n",
      "epoch 10000: cost = 0.000032\n"
     ]
    }
   ],
   "source": [
    "mlp = MLP(HiddenLayer(shape=(18, 100)), HiddenLayer(shape=(100, 1000)),  HiddenLayer(shape=(1000, 100)),\n",
    "    HiddenLayer(shape=(100, 1), activation=lambda x: x))\n",
    "\n",
    "mlp.SGD(input_data, target_data, N_epochs=10000, learning_rate=0.001)"
   ]
  },
  {
   "cell_type": "code",
   "execution_count": 84,
   "metadata": {
    "collapsed": false
   },
   "outputs": [
    {
     "name": "stdout",
     "output_type": "stream",
     "text": [
      "prediction time: 0.0439291000366\n"
     ]
    },
    {
     "data": {
      "text/plain": [
       "<matplotlib.legend.Legend at 0x7f8a2d70f910>"
      ]
     },
     "execution_count": 84,
     "metadata": {},
     "output_type": "execute_result"
    },
    {
     "data": {
      "image/png": "[encoded data removed]",
      "text/plain": [
       "<matplotlib.figure.Figure at 0x7f8a3554dc10>"
      ]
     },
     "metadata": {},
     "output_type": "display_data"
    }
   ],
   "source": [
    "import time\n",
    "\n",
    "st = time.time()\n",
    "output_data_pred = target_data_pred[0] * mlp.predict(input_data_pred)\n",
    "elapsed = time.time() - st\n",
    "\n",
    "print (\"prediction time:\", elapsed)\n",
    "plt.plot(target_data_pred, label=\"raw_data\")\n",
    "plt.plot(output_data_pred, label=\"prediction\")\n",
    "plt.legend()"
   ]
  },
  {
   "cell_type": "code",
   "execution_count": null,
   "metadata": {
    "collapsed": true
   },
   "outputs": [],
   "source": []
  }
 ],
 "metadata": {
  "kernelspec": {
   "display_name": "Python 2",
   "language": "python",
   "name": "python2"
  },
  "language_info": {
   "codemirror_mode": {
    "name": "ipython",
    "version": 2
   },
   "file_extension": ".py",
   "mimetype": "text/x-python",
   "name": "python",
   "nbconvert_exporter": "python",
   "pygments_lexer": "ipython2",
   "version": "2.7.6"
  }
 },
 "nbformat": 4,
 "nbformat_minor": 0
}
