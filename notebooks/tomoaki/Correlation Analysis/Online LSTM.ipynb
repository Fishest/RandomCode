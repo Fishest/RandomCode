{
 "cells": [
  {
   "cell_type": "markdown",
   "metadata": {},
   "source": [
    "For comparison with ESN, I will try LSTM implemented by 'Chainer'"
   ]
  },
  {
   "cell_type": "markdown",
   "metadata": {},
   "source": [
    "# Prepare for the environment and Fetch Data"
   ]
  },
  {
   "cell_type": "code",
   "execution_count": 2,
   "metadata": {
    "collapsed": false
   },
   "outputs": [
    {
     "name": "stdout",
     "output_type": "stream",
     "text": [
      "Requirement already up-to-date: matplotlib in /usr/local/lib/python2.7/dist-packages\n",
      "Requirement already up-to-date: numpy>=1.6 in /usr/local/lib/python2.7/dist-packages (from matplotlib)\n",
      "Requirement already up-to-date: python-dateutil in /usr/local/lib/python2.7/dist-packages (from matplotlib)\n",
      "Requirement already up-to-date: pytz in /usr/local/lib/python2.7/dist-packages (from matplotlib)\n",
      "Requirement already up-to-date: cycler in /usr/local/lib/python2.7/dist-packages (from matplotlib)\n",
      "Requirement already up-to-date: pyparsing!=2.0.4,>=1.5.6 in /usr/local/lib/python2.7/dist-packages (from matplotlib)\n",
      "Cleaning up...\n",
      "Requirement already satisfied (use --upgrade to upgrade): quandl in /usr/local/lib/python2.7/dist-packages\n",
      "Cleaning up...\n"
     ]
    }
   ],
   "source": [
    "!pip install matplotlib --upgrade\n",
    "! pip install quandl\n",
    "\n",
    "\n",
    "#generic\n",
    "%matplotlib inline\n",
    "from __future__ import print_function\n",
    "\n",
    "import numpy as np\n",
    "import time\n",
    "import quandl \n",
    "import matplotlib.pyplot as plt\n",
    "\n",
    "from yahoo_finance import Share\n",
    "\n",
    "\n",
    "\n",
    "def get_data_by_key(key, data):\n",
    "    data_it = iter(data)\n",
    "    return_data = []\n",
    "    flag = True\n",
    "    for d in data_it:\n",
    "        return_data.append(d[key])\n",
    "        \n",
    "    return np.array(return_data)\n",
    "\n",
    "def get_data_by_list(name_list, start_date, end_date, data_type=\"Open\"):\n",
    "    share_list = []\n",
    "    for name in name_list:\n",
    "        share_list.append(Share(name))\n",
    "    \n",
    "    stock_data_list = []\n",
    "    date = []\n",
    "    flag = True\n",
    "    N_data = 0\n",
    "    fail_name_list = []\n",
    "    for idx, share in enumerate(share_list):\n",
    "        name = name_list[idx]\n",
    "        hist_data = share.get_historical(start_date=start_date, end_date=end_date)\n",
    "        stock_data = map(float, get_data_by_key(key=data_type, data=hist_data))\n",
    "        date.append(get_data_by_key(key='Date', data=hist_data))\n",
    "        stock_data_list.append(stock_data)\n",
    "        N_data = len(stock_data)\n",
    "        if N_data == 0:\n",
    "            fail_name_list.append(name)\n",
    "    print (\"fail_name_list: \", fail_name_list)\n",
    "    return np.array(stock_data_list).T, date"
   ]
  },
  {
   "cell_type": "code",
   "execution_count": 3,
   "metadata": {
    "collapsed": false
   },
   "outputs": [
    {
     "name": "stdout",
     "output_type": "stream",
     "text": [
      "270\n"
     ]
    }
   ],
   "source": [
    "energy = [\"PTR\", \"XOM\", \"CVX\", \"RDS-A\", \"BP\", \"TOT\", \"SLB\", \"KMI\", \"COP\", \"CEO\", \n",
    "          \"E\", \"STO\", \"OXY\", \"PBR\", \"EOG\", \"APC\", \"SU\", \"ENB\", \"HAL\", \"WMB\"]\n",
    "financial = [\"WFC\", \"JPM\", \"HSBC\", \"BAC\", \"C\", \"SAN\", \"MTU\", \"RY\", \"WBK\", \"TD\", \"GS\", \n",
    "             \"LYG\", \"AXP\", \"AIG\", \"MS\", \"ITUB\", \"BCS\", \"BBVA\"]\n",
    "healthcare = [\"NVS\", \"JNJ\", \"PFE\", \"MRK\", \"GILD\", \"SNY\", \"AMGN\", \"NVO\", \"GSK\", \"UNH\",\n",
    "             \"MDT\", \"BMY\", \"CELG\", \"BIIB\", \"AZN\", \"LLY\", \"ABT\", \"AGN\", \"VRX\", \"TEVA\",\n",
    "             \"TMO\", \"SHPG\", \"REGN\"]\n",
    "buisiness = [\"ACN\", \"LMT\", \"CNI\", \"FDX\", \"DAL\", \"CSX\", \"AAL\", \"CP\", \"NSC\", \"NOC\", \"LUV\"]\n",
    "telecom = [\"CHL\", \"VZ\", \"T\", \"VOD\", \"NTT\", \"AMX\", \"CHA\", \"BT\", \"CHU\", \"ORAN\", \"BCE\",\n",
    "           \"CHT\", \"SKM\", \"TI\", \"TU\", \"S\", \"TLK\", \"DUK\", \"NGG\", \"NEE\", \"D\", \"SO\", \"EXC\", \"KEP\",\n",
    "          \"AEP\", \"SRE\", \"PCG\", \"HNP\", \"PPL\", \"PEG\", \"EIX\", \"ETP\", \"ED\", \"ENI\", \"XEL\", \"ES\", \"FE\"]\n",
    "hardware = [\"AAPL\", \"ORCL\", \"IBM\", \"INTC\", \"CSCO\", \"TSM\", \"QCOM\", \"HPQ\", \"TXN\", \"EMC\",\n",
    "           \"CAJ\", \"ASML\", \"ERIC\", \"SNE\", \"AVGO\", \"MU\", \"GLW\", \"NXPI\", \"NOK\",\n",
    "           \"AMAT\", \"WDC\", \"WIT\", \"ADI\", \"STX\", \"APH\"]\n",
    "software = [\"MSFT\", \"GOOGL\", \"BIDU\", \"EBAY\", \"SAP\", \"CRM\", \"YHOO\", \"VMW\",\n",
    "            \"ADBE\", \"CTSH\", \"INFY\", \"INTU\", \"LNKD\", \"RHT\", \"NTES\", \"CHKP\", \n",
    "            \"CA\", \"ADSK\", \"AKAM\", \"NVDA\"]\n",
    "industrial = [\"GE\", \"V\", \"MA\", \"UTX\", \"MMM\", \"BA\", \"UNP\", \"UPS\", \"HON\", \"DHR\", \"CAT\", \n",
    "              \"ABB\", \"GD\", \"ADP\", \"EMR\", \"ITW\", \"ECL\", \"TEL\", \"PCAR\", \"WM\"]\n",
    "manufacturing = [\"TM\", \"HMC\", \"F\", \"GM\", \"JCI\", \"TSLA\", \"TTM\", \"CMI\", \"DLPH\", \"MGA\",\n",
    "                \"CMI\", \"DLPH\", \"MGA\", \"GPC\", \"BWA\", \"HOG\", \"ALV\", \"HAR\", \"LEA\", \"LKQ\", \n",
    "                 \"WBC\", \"GT\", \"FCAU\", \"NSANY\", \"NAV\"]\n",
    "consumer = [\"PG\", \"BUD\", \"KO\", \"PEP\", \"UL\", \"PM\", \"BTI\", \"MO\", \"ABEV\", \"DEO\", \"MDLZ\",\n",
    "            \"CL\", \"MON\", \"MCK\", \"KMB\", \"WHR\", \"DIS\", \"CMCSA\", \"FOXA\", \"TWX\", \"TWC\",\n",
    "           \"DISH\", \"CBS\", \"DISCA\", \"TV\", \"CHTR\", \"QVCA\", \"OMC\", \"NLSN\", \n",
    "           \"PSO\", \"SJR\", \"NFLX\"]\n",
    "diversified = [\"BRK-A\", \"BRK-B\", \"UTX\", \"BC\", \"RTN\", \"OLN\", \"ITT\", \"MSBHY\", \"KWHIY\", \n",
    "               \"ABB\", \"IEP\", \"GE\"]\n",
    "retailing = [\"WMT\", \"AMZN\", \"HD\", \"MCD\", \"NKE\", \"SBUX\", \"CVS\", \"WBA\", \"PCLN\", \"COST\", \n",
    "            \"TGT\", \"TJX\", \"LVS\", \"YUM\", \"CCL\", \"LUX\", \"DG\", \"M\", \"AZO\", \"ROST\", \"CMG\", \"GPS\", \n",
    "            \"DLTR\", \"RCL\", \"KSS\", \"HOT\", \"JWN\"]\n",
    "\n",
    "input_list = energy + financial + healthcare + buisiness + telecom\\\n",
    "+ hardware + software + industrial + manufacturing + consumer + diversified + retailing\n",
    "print (len(input_list))"
   ]
  },
  {
   "cell_type": "code",
   "execution_count": 4,
   "metadata": {
    "collapsed": false
   },
   "outputs": [
    {
     "name": "stdout",
     "output_type": "stream",
     "text": [
      "Started!!\n",
      "fail_name_list:  []\n",
      "time for getting training_data: 1250.30875397\n"
     ]
    }
   ],
   "source": [
    "print (\"Started!!\")\n",
    "\n",
    "st = time.time()\n",
    "start_date=\"2014-04-01\"\n",
    "end_date=\"2016-04-01\"\n",
    "input_data, date = get_data_by_list(input_list, start_date=start_date, end_date=end_date) \n",
    "sp = quandl.get(\"YAHOO/INDEX_GSPC\", start_date=start_date, end_date=end_date)\n",
    "target_data = np.array(sp['Open'])\n",
    "elapsed = time.time() - st\n",
    "print (\"time for getting training_data:\", elapsed)"
   ]
  },
  {
   "cell_type": "markdown",
   "metadata": {},
   "source": [
    "# prepare for chainer"
   ]
  },
  {
   "cell_type": "code",
   "execution_count": 30,
   "metadata": {
    "collapsed": true
   },
   "outputs": [],
   "source": [
    "import chainer\n",
    "from chainer import cuda, Function, gradient_check, Variable, optimizers, serializers, utils\n",
    "from chainer import Link, Chain, ChainList\n",
    "import chainer.functions as F\n",
    "import chainer.links as L"
   ]
  },
  {
   "cell_type": "code",
   "execution_count": 58,
   "metadata": {
    "collapsed": false
   },
   "outputs": [],
   "source": [
    "N_in = len(input_list)\n",
    "N_middle=int(0.2 * N_in)\n",
    "N_out = 1\n",
    "\n",
    "class LSTM(Chain):\n",
    "    def __init__(self):\n",
    "        super(LSTM, self).__init__(\n",
    "            input = L.Linear(N_in, N_middle),\n",
    "            mid = L.LSTM(N_middle, N_middle),\n",
    "            output = L.Linear(N_middle, N_out),\n",
    "        )\n",
    "        \n",
    "    def reset_state(self):\n",
    "        self.mid.reset_state()\n",
    "    \n",
    "    def __call__(self, x):\n",
    "        h1 = F.relu(self.input(x))\n",
    "        h2 = F.relu(self.mid(h1))\n",
    "        y = self.output(h2)\n",
    "        return y\n",
    "    \n",
    "class Regression(Chain):\n",
    "    def __init__(self, predictor):\n",
    "        super(Regression, self).__init__(predictor=predictor)\n",
    "        \n",
    "    def __call__(self, x, y):\n",
    "        output = self.predictor(x)\n",
    "        self.loss = F.mean_squared_error(output, y)\n",
    "        return self.loss\n",
    "    \n",
    "lstm = LSTM()\n",
    "model = Regression(lstm)\n",
    "optimizer = optimizers.SGD()\n",
    "optimizer.setup(model)"
   ]
  },
  {
   "cell_type": "code",
   "execution_count": 59,
   "metadata": {
    "collapsed": false
   },
   "outputs": [
    {
     "name": "stdout",
     "output_type": "stream",
     "text": [
      "epoch 0\n",
      "epoch 1\n",
      "epoch 2\n",
      "epoch 3\n",
      "epoch 4\n",
      "epoch 5\n",
      "epoch 6\n",
      "epoch 7\n",
      "epoch 8\n",
      "epoch 9\n",
      "epoch 10\n",
      "epoch 11\n",
      "epoch 12\n",
      "epoch 13\n",
      "epoch 14\n",
      "epoch 15\n",
      "epoch 16\n",
      "epoch 17\n",
      "epoch 18\n",
      "epoch 19\n"
     ]
    }
   ],
   "source": [
    "batch_size = 100\n",
    "N_data = int(0.5 * len(input_data))\n",
    "N_epoch = 20\n",
    "\n",
    "train_x_data = np.array(input_data[:N_data], dtype=np.float32)\n",
    "train_y_data = np.array(target_data[:N_data], dtype=np.float32).reshape(N_data, 1)\n",
    "for i in xrange(N_epoch):\n",
    "    print ('epoch %d' % i)\n",
    "    for i in xrange(0, N_data, batch_size):\n",
    "        x = Variable(x_data[i: i + batch_size])\n",
    "        y = Variable(y_data[i: i + batch_size])\n",
    "        model.zerograds()\n",
    "        loss = model(x, y)\n",
    "        loss.backward()\n",
    "        optimizer.update()\n"
   ]
  },
  {
   "cell_type": "code",
   "execution_count": 62,
   "metadata": {
    "collapsed": false
   },
   "outputs": [
    {
     "ename": "AttributeError",
     "evalue": "cannot get single-segment buffer for discontiguous array",
     "output_type": "error",
     "traceback": [
      "\u001b[1;31m---------------------------------------------------------------------------\u001b[0m",
      "\u001b[1;31mAttributeError\u001b[0m                            Traceback (most recent call last)",
      "\u001b[1;32m<ipython-input-62-13cb764e9450>\u001b[0m in \u001b[0;36m<module>\u001b[1;34m()\u001b[0m\n\u001b[0;32m      3\u001b[0m \u001b[1;33m\u001b[0m\u001b[0m\n\u001b[0;32m      4\u001b[0m \u001b[0mlstm\u001b[0m\u001b[1;33m.\u001b[0m\u001b[0mreset_state\u001b[0m\u001b[1;33m(\u001b[0m\u001b[1;33m)\u001b[0m\u001b[1;33m\u001b[0m\u001b[0m\n\u001b[1;32m----> 5\u001b[1;33m \u001b[0moutput\u001b[0m \u001b[1;33m=\u001b[0m \u001b[0mlstm\u001b[0m\u001b[1;33m(\u001b[0m\u001b[0mtest_x_data\u001b[0m\u001b[1;33m[\u001b[0m\u001b[1;36m0\u001b[0m\u001b[1;33m]\u001b[0m\u001b[1;33m)\u001b[0m\u001b[1;33m\u001b[0m\u001b[0m\n\u001b[0m",
      "\u001b[1;32m<ipython-input-58-696cfd51b649>\u001b[0m in \u001b[0;36m__call__\u001b[1;34m(self, x)\u001b[0m\n\u001b[0;32m     15\u001b[0m \u001b[1;33m\u001b[0m\u001b[0m\n\u001b[0;32m     16\u001b[0m     \u001b[1;32mdef\u001b[0m \u001b[0m__call__\u001b[0m\u001b[1;33m(\u001b[0m\u001b[0mself\u001b[0m\u001b[1;33m,\u001b[0m \u001b[0mx\u001b[0m\u001b[1;33m)\u001b[0m\u001b[1;33m:\u001b[0m\u001b[1;33m\u001b[0m\u001b[0m\n\u001b[1;32m---> 17\u001b[1;33m         \u001b[0mh1\u001b[0m \u001b[1;33m=\u001b[0m \u001b[0mF\u001b[0m\u001b[1;33m.\u001b[0m\u001b[0mrelu\u001b[0m\u001b[1;33m(\u001b[0m\u001b[0mself\u001b[0m\u001b[1;33m.\u001b[0m\u001b[0minput\u001b[0m\u001b[1;33m(\u001b[0m\u001b[0mx\u001b[0m\u001b[1;33m)\u001b[0m\u001b[1;33m)\u001b[0m\u001b[1;33m\u001b[0m\u001b[0m\n\u001b[0m\u001b[0;32m     18\u001b[0m         \u001b[0mh2\u001b[0m \u001b[1;33m=\u001b[0m \u001b[0mF\u001b[0m\u001b[1;33m.\u001b[0m\u001b[0mrelu\u001b[0m\u001b[1;33m(\u001b[0m\u001b[0mself\u001b[0m\u001b[1;33m.\u001b[0m\u001b[0mmid\u001b[0m\u001b[1;33m(\u001b[0m\u001b[0mh1\u001b[0m\u001b[1;33m)\u001b[0m\u001b[1;33m)\u001b[0m\u001b[1;33m\u001b[0m\u001b[0m\n\u001b[0;32m     19\u001b[0m         \u001b[0my\u001b[0m \u001b[1;33m=\u001b[0m \u001b[0mself\u001b[0m\u001b[1;33m.\u001b[0m\u001b[0moutput\u001b[0m\u001b[1;33m(\u001b[0m\u001b[0mh2\u001b[0m\u001b[1;33m)\u001b[0m\u001b[1;33m\u001b[0m\u001b[0m\n",
      "\u001b[1;32m/usr/local/lib/python2.7/dist-packages/chainer/links/connection/linear.pyc\u001b[0m in \u001b[0;36m__call__\u001b[1;34m(self, x)\u001b[0m\n\u001b[0;32m     63\u001b[0m \u001b[1;33m\u001b[0m\u001b[0m\n\u001b[0;32m     64\u001b[0m         \"\"\"\n\u001b[1;32m---> 65\u001b[1;33m         \u001b[1;32mreturn\u001b[0m \u001b[0mlinear\u001b[0m\u001b[1;33m.\u001b[0m\u001b[0mlinear\u001b[0m\u001b[1;33m(\u001b[0m\u001b[0mx\u001b[0m\u001b[1;33m,\u001b[0m \u001b[0mself\u001b[0m\u001b[1;33m.\u001b[0m\u001b[0mW\u001b[0m\u001b[1;33m,\u001b[0m \u001b[0mself\u001b[0m\u001b[1;33m.\u001b[0m\u001b[0mb\u001b[0m\u001b[1;33m)\u001b[0m\u001b[1;33m\u001b[0m\u001b[0m\n\u001b[0m",
      "\u001b[1;32m/usr/local/lib/python2.7/dist-packages/chainer/functions/connection/linear.pyc\u001b[0m in \u001b[0;36mlinear\u001b[1;34m(x, W, b)\u001b[0m\n\u001b[0;32m     79\u001b[0m         \u001b[1;32mreturn\u001b[0m \u001b[0mLinearFunction\u001b[0m\u001b[1;33m(\u001b[0m\u001b[1;33m)\u001b[0m\u001b[1;33m(\u001b[0m\u001b[0mx\u001b[0m\u001b[1;33m,\u001b[0m \u001b[0mW\u001b[0m\u001b[1;33m)\u001b[0m\u001b[1;33m\u001b[0m\u001b[0m\n\u001b[0;32m     80\u001b[0m     \u001b[1;32melse\u001b[0m\u001b[1;33m:\u001b[0m\u001b[1;33m\u001b[0m\u001b[0m\n\u001b[1;32m---> 81\u001b[1;33m         \u001b[1;32mreturn\u001b[0m \u001b[0mLinearFunction\u001b[0m\u001b[1;33m(\u001b[0m\u001b[1;33m)\u001b[0m\u001b[1;33m(\u001b[0m\u001b[0mx\u001b[0m\u001b[1;33m,\u001b[0m \u001b[0mW\u001b[0m\u001b[1;33m,\u001b[0m \u001b[0mb\u001b[0m\u001b[1;33m)\u001b[0m\u001b[1;33m\u001b[0m\u001b[0m\n\u001b[0m",
      "\u001b[1;32m/usr/local/lib/python2.7/dist-packages/chainer/function.pyc\u001b[0m in \u001b[0;36m__call__\u001b[1;34m(self, *inputs)\u001b[0m\n\u001b[0;32m     98\u001b[0m \u001b[1;33m\u001b[0m\u001b[0m\n\u001b[0;32m     99\u001b[0m         \"\"\"\n\u001b[1;32m--> 100\u001b[1;33m         \u001b[0min_data\u001b[0m \u001b[1;33m=\u001b[0m \u001b[0mtuple\u001b[0m\u001b[1;33m(\u001b[0m\u001b[1;33m[\u001b[0m\u001b[0mx\u001b[0m\u001b[1;33m.\u001b[0m\u001b[0mdata\u001b[0m \u001b[1;32mfor\u001b[0m \u001b[0mx\u001b[0m \u001b[1;32min\u001b[0m \u001b[0minputs\u001b[0m\u001b[1;33m]\u001b[0m\u001b[1;33m)\u001b[0m\u001b[1;33m\u001b[0m\u001b[0m\n\u001b[0m\u001b[0;32m    101\u001b[0m         \u001b[1;32mif\u001b[0m \u001b[0mself\u001b[0m\u001b[1;33m.\u001b[0m\u001b[0mtype_check_enable\u001b[0m\u001b[1;33m:\u001b[0m\u001b[1;33m\u001b[0m\u001b[0m\n\u001b[0;32m    102\u001b[0m             \u001b[0mself\u001b[0m\u001b[1;33m.\u001b[0m\u001b[0m_check_data_type_forward\u001b[0m\u001b[1;33m(\u001b[0m\u001b[0min_data\u001b[0m\u001b[1;33m)\u001b[0m\u001b[1;33m\u001b[0m\u001b[0m\n",
      "\u001b[1;31mAttributeError\u001b[0m: cannot get single-segment buffer for discontiguous array"
     ]
    }
   ],
   "source": [
    "test_x_data = np.array(input_data[N_data:], dtype=np.float32)\n",
    "test_y_data = np.array(target_data[N_data:], dtype=np.float32)\n",
    "\n",
    "lstm.reset_state()\n",
    "output = lstm(test_x_data[0])"
   ]
  },
  {
   "cell_type": "code",
   "execution_count": 19,
   "metadata": {
    "collapsed": true
   },
   "outputs": [],
   "source": [
    "class test(object):\n",
    "    def __init__(self):\n",
    "        print (\"this is a test\")\n",
    "    def __call__(self):\n",
    "        print (\"this is a call\")\n",
    "        "
   ]
  },
  {
   "cell_type": "code",
   "execution_count": 23,
   "metadata": {
    "collapsed": false
   },
   "outputs": [
    {
     "name": "stdout",
     "output_type": "stream",
     "text": [
      "this is a test\n"
     ]
    }
   ],
   "source": [
    "t = test()"
   ]
  },
  {
   "cell_type": "code",
   "execution_count": 25,
   "metadata": {
    "collapsed": false
   },
   "outputs": [
    {
     "data": {
      "text/plain": [
       "<__main__.test at 0x7f7173d40f10>"
      ]
     },
     "execution_count": 25,
     "metadata": {},
     "output_type": "execute_result"
    }
   ],
   "source": [
    "t"
   ]
  },
  {
   "cell_type": "code",
   "execution_count": null,
   "metadata": {
    "collapsed": true
   },
   "outputs": [],
   "source": []
  }
 ],
 "metadata": {
  "kernelspec": {
   "display_name": "Python 2",
   "language": "python",
   "name": "python2"
  },
  "language_info": {
   "codemirror_mode": {
    "name": "ipython",
    "version": 2
   },
   "file_extension": ".py",
   "mimetype": "text/x-python",
   "name": "python",
   "nbconvert_exporter": "python",
   "pygments_lexer": "ipython2",
   "version": "2.7.6"
  }
 },
 "nbformat": 4,
 "nbformat_minor": 0
}
