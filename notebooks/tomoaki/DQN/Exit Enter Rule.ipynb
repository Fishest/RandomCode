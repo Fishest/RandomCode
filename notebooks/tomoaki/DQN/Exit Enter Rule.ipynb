{
 "cells": [
  {
   "cell_type": "markdown",
   "metadata": {},
   "source": [
    "In this notebooks, we will analyize how to determine when is the optimal for enter or exit in trading.\n",
    "\n",
    "For simplicity, I will think only three actions; enter, hold , and exit."
   ]
  },
  {
   "cell_type": "code",
   "execution_count": 1,
   "metadata": {
    "collapsed": true
   },
   "outputs": [],
   "source": [
    "#generic\n",
    "%matplotlib inline\n",
    "from __future__ import print_function\n",
    "\n",
    "import numpy as np\n",
    "import time\n",
    "import tensorflow as tf\n",
    "# import quandl \n",
    "import matplotlib.pyplot as plt\n",
    "\n",
    "from yahoo_finance import Share"
   ]
  },
  {
   "cell_type": "code",
   "execution_count": 2,
   "metadata": {
    "collapsed": true
   },
   "outputs": [],
   "source": [
    "def get_data_by_key(key, data):\n",
    "    data_it = iter(data)\n",
    "    return_data = []\n",
    "    flag = True\n",
    "    for d in data_it:\n",
    "        if key !=\"Date\":\n",
    "            return_data.append(float(d[key]))\n",
    "        else:\n",
    "            return_data.append(d[key])\n",
    "        \n",
    "    return np.array(return_data)"
   ]
  },
  {
   "cell_type": "code",
   "execution_count": 3,
   "metadata": {
    "collapsed": true
   },
   "outputs": [],
   "source": [
    "def get_data_by_list_fixed(name_list, start_date, end_date, data_type=\"Open\"):\n",
    "    share_list = []\n",
    "    new_name_list = []\n",
    "    for name in name_list:\n",
    "        try:\n",
    "            share_list.append(Share(name))\n",
    "            new_name_list.append(name)\n",
    "        except:\n",
    "            pass\n",
    "    \n",
    "    stock_data_list = []\n",
    "    date = []\n",
    "    flag = True\n",
    "    N_data = 0\n",
    "    fail_name_list = []\n",
    "    ret_name_list = []\n",
    "    for idx, share in enumerate(share_list):\n",
    "        name = new_name_list[idx]\n",
    "        try:\n",
    "            hist_data = share.get_historical(start_date=start_date, end_date=end_date)\n",
    "            stock_data = map(float, get_data_by_key(key=data_type, data=hist_data))\n",
    "            n_data = len(stock_data)\n",
    "            if n_data == 0:\n",
    "                fail_name_list.append(name)\n",
    "            date.append(get_data_by_key(key='Date', data=hist_data))\n",
    "            stock_data_list.append(stock_data)\n",
    "            ret_name_list.append(name)\n",
    "        except:\n",
    "            pass\n",
    "    print (\"fail_name_list: \", fail_name_list)\n",
    "    return np.array(stock_data_list).T, date, ret_name_list"
   ]
  },
  {
   "cell_type": "code",
   "execution_count": 4,
   "metadata": {
    "collapsed": false
   },
   "outputs": [
    {
     "name": "stdout",
     "output_type": "stream",
     "text": [
      "269\n"
     ]
    }
   ],
   "source": [
    "energy = [\"PTR\", \"XOM\", \"CVX\", \"RDS-A\", \"BP\", \"TOT\", \"SLB\", \"KMI\", \"COP\", \"CEO\", \n",
    "          \"E\", \"STO\", \"OXY\", \"PBR\", \"EOG\", \"APC\", \"SU\", \"ENB\", \"HAL\", \"WMB\"]\n",
    "financial = [\"WFC\", \"JPM\", \"HSBC\", \"BAC\", \"C\", \"SAN\", \"MTU\", \"RY\", \"WBK\", \"TD\", \"GS\", \n",
    "             \"LYG\", \"AXP\", \"AIG\", \"MS\", \"ITUB\", \"BCS\", \"BBVA\"]\n",
    "healthcare = [\"NVS\", \"JNJ\", \"PFE\", \"MRK\", \"GILD\", \"SNY\", \"AMGN\", \"NVO\", \"GSK\", \"UNH\",\n",
    "             \"MDT\", \"BMY\", \"CELG\", \"BIIB\", \"AZN\", \"LLY\", \"ABT\", \"AGN\", \"VRX\", \"TEVA\",\n",
    "             \"TMO\", \"SHPG\", \"REGN\"]\n",
    "buisiness = [\"ACN\", \"LMT\", \"CNI\", \"FDX\", \"DAL\", \"CSX\", \"AAL\", \"CP\", \"NSC\", \"NOC\", \"LUV\"]\n",
    "telecom = [\"CHL\", \"VZ\", \"T\", \"VOD\", \"NTT\", \"AMX\", \"CHA\", \"BT\", \"CHU\", \"ORAN\", \"BCE\",\n",
    "           \"CHT\", \"SKM\", \"TI\", \"TU\", \"S\", \"TLK\", \"DUK\", \"NGG\", \"D\", \"SO\", \"EXC\", \"KEP\",\n",
    "          \"AEP\", \"SRE\", \"PCG\", \"HNP\", \"PPL\", \"PEG\", \"EIX\", \"ETP\", \"ED\", \"ENI\", \"XEL\", \"ES\", \"FE\"]\n",
    "hardware = [\"AAPL\", \"ORCL\", \"IBM\", \"INTC\", \"CSCO\", \"TSM\", \"QCOM\", \"HPQ\", \"TXN\", \"EMC\",\n",
    "           \"CAJ\", \"ASML\", \"ERIC\", \"SNE\", \"AVGO\", \"MU\", \"GLW\", \"NXPI\", \"NOK\",\n",
    "           \"AMAT\", \"WDC\", \"WIT\", \"ADI\", \"STX\", \"APH\"]\n",
    "software = [\"MSFT\", \"GOOGL\", \"BIDU\", \"EBAY\", \"SAP\", \"CRM\", \"YHOO\", \"VMW\",\n",
    "            \"ADBE\", \"CTSH\", \"INFY\", \"INTU\", \"LNKD\", \"RHT\", \"NTES\", \"CHKP\", \n",
    "            \"CA\", \"ADSK\", \"AKAM\", \"NVDA\"]\n",
    "industrial = [\"GE\", \"V\", \"MA\", \"UTX\", \"MMM\", \"BA\", \"UNP\", \"UPS\", \"HON\", \"DHR\", \"CAT\", \n",
    "              \"ABB\", \"GD\", \"ADP\", \"EMR\", \"ITW\", \"ECL\", \"TEL\", \"PCAR\", \"WM\"]\n",
    "manufacturing = [\"TM\", \"HMC\", \"F\", \"GM\", \"JCI\", \"TSLA\", \"TTM\", \"CMI\", \"DLPH\", \"MGA\",\n",
    "                \"CMI\", \"DLPH\", \"MGA\", \"GPC\", \"BWA\", \"HOG\", \"ALV\", \"HAR\", \"LEA\", \"LKQ\", \n",
    "                 \"WBC\", \"GT\", \"FCAU\", \"NSANY\", \"NAV\"]\n",
    "consumer = [\"PG\", \"BUD\", \"KO\", \"PEP\", \"UL\", \"PM\", \"BTI\", \"MO\", \"ABEV\", \"DEO\", \"MDLZ\",\n",
    "            \"CL\", \"MON\", \"MCK\", \"KMB\", \"WHR\", \"DIS\", \"CMCSA\", \"FOXA\", \"TWX\", \"TWC\",\n",
    "           \"DISH\", \"CBS\", \"DISCA\", \"TV\", \"CHTR\", \"QVCA\", \"OMC\", \"NLSN\", \n",
    "           \"PSO\", \"SJR\", \"NFLX\"]\n",
    "diversified = [\"BRK-A\", \"BRK-B\", \"UTX\", \"BC\", \"RTN\", \"OLN\", \"ITT\", \"MSBHY\", \"KWHIY\", \n",
    "               \"ABB\", \"IEP\", \"GE\"]\n",
    "retailing = [\"WMT\", \"AMZN\", \"HD\", \"MCD\", \"NKE\", \"SBUX\", \"CVS\", \"WBA\", \"PCLN\", \"COST\", \n",
    "            \"TGT\", \"TJX\", \"LVS\", \"YUM\", \"CCL\", \"LUX\", \"DG\", \"M\", \"AZO\", \"ROST\", \"CMG\", \"GPS\", \n",
    "            \"DLTR\", \"RCL\", \"KSS\", \"HOT\", \"JWN\"]\n",
    "\n",
    "input_list = energy + financial + healthcare + buisiness + telecom\\\n",
    "+ hardware + software + industrial + manufacturing + consumer + diversified + retailing\n",
    "print (len(input_list))"
   ]
  },
  {
   "cell_type": "code",
   "execution_count": 5,
   "metadata": {
    "collapsed": false
   },
   "outputs": [
    {
     "name": "stdout",
     "output_type": "stream",
     "text": [
      "Started!!\n",
      "fail_name_list:  ['ENI', 'TWC']\n",
      "time for getting training_data: 1335.59390497\n"
     ]
    }
   ],
   "source": [
    "print (\"Started!!\")\n",
    "\n",
    "st = time.time()\n",
    "start_date=\"2014-04-01\"\n",
    "end_date=\"2016-04-01\"\n",
    "input_data, date, input_list = get_data_by_list_fixed(input_list, start_date=start_date, end_date=end_date) \n",
    "elapsed = time.time() - st\n",
    "print (\"time for getting training_data:\", elapsed)"
   ]
  },
  {
   "cell_type": "code",
   "execution_count": 6,
   "metadata": {
    "collapsed": false
   },
   "outputs": [
    {
     "name": "stdout",
     "output_type": "stream",
     "text": [
      "(269,)\n"
     ]
    }
   ],
   "source": [
    "print (input_data.shape)"
   ]
  },
  {
   "cell_type": "code",
   "execution_count": 9,
   "metadata": {
    "collapsed": false
   },
   "outputs": [
    {
     "name": "stdout",
     "output_type": "stream",
     "text": [
      "217\n"
     ]
    }
   ],
   "source": [
    "length = len(input_data[0])\n",
    "fail_idx = []\n",
    "for i in xrange(len(input_data)):\n",
    "    if length != len(input_data[i]):\n",
    "        fail_idx.append(i)\n",
    "        print (i)"
   ]
  },
  {
   "cell_type": "code",
   "execution_count": 10,
   "metadata": {
    "collapsed": false
   },
   "outputs": [
    {
     "name": "stdout",
     "output_type": "stream",
     "text": [
      "(266, 505)\n"
     ]
    }
   ],
   "source": [
    "input_data = list(input_data)\n",
    "count = 0\n",
    "for i in fail_idx:\n",
    "    idx = i - count\n",
    "    del input_data[idx]\n",
    "    del input_list[idx]\n",
    "    \n",
    "new_input_data = []\n",
    "for i in xrange(len(input_data)):\n",
    "    new_input_data.append(input_data[i])\n",
    "    \n",
    "new_input_data = np.array(new_input_data)\n",
    "print(new_input_data.shape)"
   ]
  },
  {
   "cell_type": "code",
   "execution_count": 11,
   "metadata": {
    "collapsed": false
   },
   "outputs": [
    {
     "name": "stdout",
     "output_type": "stream",
     "text": [
      "(505, 266)\n"
     ]
    }
   ],
   "source": [
    "input_data = new_input_data.T\n",
    "print(input_data.shape)"
   ]
  },
  {
   "cell_type": "code",
   "execution_count": 12,
   "metadata": {
    "collapsed": false
   },
   "outputs": [
    {
     "data": {
      "text/plain": [
       "'PTR'"
      ]
     },
     "execution_count": 12,
     "metadata": {},
     "output_type": "execute_result"
    }
   ],
   "source": [
    "input_list[0]"
   ]
  },
  {
   "cell_type": "markdown",
   "metadata": {},
   "source": [
    "# Convert date label for plot"
   ]
  },
  {
   "cell_type": "code",
   "execution_count": 14,
   "metadata": {
    "collapsed": true
   },
   "outputs": [],
   "source": [
    "import datetime\n",
    "\n",
    "def convert_time_format(date):\n",
    "    date_tilde = date.split(\"-\")\n",
    "    date_tilde = map(int, date_tilde)\n",
    "    return datetime.datetime(*date_tilde)"
   ]
  },
  {
   "cell_type": "code",
   "execution_count": 156,
   "metadata": {
    "collapsed": false
   },
   "outputs": [
    {
     "data": {
      "image/png": "[encoded data removed]",
      "text/plain": [
       "<matplotlib.figure.Figure at 0x7f9cf120dfd0>"
      ]
     },
     "metadata": {},
     "output_type": "display_data"
    }
   ],
   "source": [
    "date_each = date[0]\n",
    "\n",
    "date_label=[]\n",
    "for i in xrange(len(date_each)):\n",
    "    date_label.append(convert_time_format(date_each[i]))\n",
    "    \n",
    "plt.plot(date_label, input_data[:, 0])\n",
    "plt.gcf().autofmt_xdate()"
   ]
  },
  {
   "cell_type": "markdown",
   "metadata": {},
   "source": [
    "# DQN-MLP"
   ]
  },
  {
   "cell_type": "markdown",
   "metadata": {},
   "source": [
    "Taking our situations into considerations, lerning will be done in online fashion."
   ]
  },
  {
   "cell_type": "code",
   "execution_count": null,
   "metadata": {
    "collapsed": true
   },
   "outputs": [],
   "source": []
  },
  {
   "cell_type": "code",
   "execution_count": null,
   "metadata": {
    "collapsed": true
   },
   "outputs": [],
   "source": []
  },
  {
   "cell_type": "code",
   "execution_count": 116,
   "metadata": {
    "collapsed": true
   },
   "outputs": [],
   "source": [
    "class DQNMLP(object):\n",
    "    def __init__(self, n_stock, hidden_layers, n_actions, activation=tf.nn.relu,  \n",
    "                           trade_stock_idx=0, n_batch=32,\n",
    "                           gam=0.99, n_history=4, is_initialize=True):\n",
    "        \"\"\"initialized approximate value function\n",
    "        \n",
    "        Args:\n",
    "            n_stock (int): the number of stock to use\n",
    "            hiddne layers(list): list of the number of nodes in each hidden layer\n",
    "            n_actions(int): Mostly, the number of allowable actions will be two; in and hold or exit and hold\n",
    "            trade_stock_idx(int): trading stock index\n",
    "            gam (float): discount factor\n",
    "            n_history(int): nubmer of history that will be used as input\n",
    "            n_batch (int): batch size\n",
    "            freq_target_update (int): frequency of update for target network\n",
    "            is_intialized(optional) (bool): if True, the graph will be initialized\n",
    "        \"\"\"\n",
    "        print (\"building model....\")\n",
    "        self.n_stock = n_stock\n",
    "        self.hidden_layers = hidden_layers\n",
    "        self.n_actions = n_actions\n",
    "        self.activation = activation\n",
    "        self.gam = gam\n",
    "        self.n_history = n_history\n",
    "        self.n_batch = n_batch\n",
    "        self.trade_stock_idx = trade_stock_idx\n",
    "        \n",
    "        # intialize graph to avoid conflications\n",
    "        if is_initialize is True:\n",
    "            sess  = tf.InteractiveSession()\n",
    "            tf.reset_default_graph()\n",
    "            sess.close()\n",
    "        \n",
    "        self._stock_data = tf.placeholder(tf.float32, [self.n_batch, n_history, n_stock], name= \"stock_data\")\n",
    "        # weather tarders is doing trade or not\n",
    "        self._is_in = tf.placeholder(tf.float32, [self.n_batch], name=\"is_in\")\n",
    "        \n",
    "        # change format for training\n",
    "        stock_data_tilde = tf.reshape(self._stock_data, [self.n_batch, n_history * n_stock])\n",
    "        is_in_tilde = tf.reshape(self._is_in, [self.n_batch, 1])\n",
    "        self._input = tf.concat(1, [stock_data_tilde, is_in_tilde], name=\"input\")\n",
    "        self._target = tf.placeholder(tf.float32, [self.n_batch], name=\"target\")\n",
    "        \n",
    "        # normalization for input\n",
    "        n_layer0 = n_history * n_stock + 1\n",
    "        shape = [n_layer0]\n",
    "        gamma = tf.Variable(tf.constant(1.0, shape=shape), name=\"gamma\")\n",
    "        beta = tf.Variable(tf.constant(0.0, shape=shape), name=\"beta\")\n",
    "        self.normalized_input = self.batch_normalization(self._input, gamma=gamma, beta=beta)\n",
    "                \n",
    "        # keep parameters for pretraining\n",
    "        self.gamma_list = []\n",
    "        self.beta_list = []\n",
    "        self.gamma_list.append(gamma)\n",
    "        self.beta_list.append(beta)\n",
    "        \n",
    "        # parameters\n",
    "        self.W_list = []\n",
    "        self.b_list = []\n",
    "        \n",
    "        # the name of variable scope will be layer0, layer1, ...\n",
    "        self.x_list = []\n",
    "        x = self.normalized_input\n",
    "        self.x_list.append(x)\n",
    "        n_in = n_layer0\n",
    "        for i_layer in xrange(len(hidden_layers)):\n",
    "            with tf.variable_scope(\"hidden_layer%d\" % i_layer):\n",
    "                n_out = hidden_layers[i_layer]\n",
    "                W = self.weight_variable([n_in, n_out])\n",
    "                b = self.bias_variable([n_out])\n",
    "                n_in = n_out\n",
    "                \n",
    "                # keep parameters for pretraining\n",
    "                self.W_list.append(W)\n",
    "                self.b_list.append(b)\n",
    "                \n",
    "                z = tf.matmul(x, W) + b\n",
    "      \n",
    "                shape = [n_out]\n",
    "                gamma = tf.Variable(tf.constant(1.0, shape=shape), name=\"gamma\")\n",
    "                beta = tf.Variable(tf.constant(0.0, shape=shape), name=\"beta\")\n",
    "                \n",
    "                # keep parameters for pretraining\n",
    "                self.gamma_list.append(gamma)\n",
    "                self.beta_list.append(beta)\n",
    "                \n",
    "                normalized_z = self.batch_normalization(z, shape, gamma, beta)\n",
    "                x = self.activation(normalized_z)\n",
    "                self.x_list.append(x)\n",
    "        # each node should be corresponding to each action\n",
    "        n_out = n_actions\n",
    "        W = self.weight_variable([n_in, n_out])\n",
    "        b = self.bias_variable([n_out])\n",
    "                \n",
    "        # keep parameters for pretraining\n",
    "        self.W_list.append(W)\n",
    "        self.b_list.append(b)\n",
    "        self.output = tf.matmul(x, W) + b\n",
    "\n",
    "        # actions should be 0: hold, 1: in when you are out \n",
    "        # 0:hold, 1:out, when you are in\n",
    "        self._action = tf.placeholder(tf.int32, [self.n_batch], name=\"action\")\n",
    "        self.Q = tf.pack([tf.gather(self.output[i, :], self._action[i], name=\"chosen_action\") for i in xrange(n_batch)], name=\"Q\")\n",
    "        \n",
    "        # make graph for target\n",
    "        self.opt_Q = tf.reduce_max(self.output, reduction_indices=1, name=\"opt_Q\")\n",
    "        self.non_opt_Q = -tf.reduce_max(-self.output, reduction_indices=1)\n",
    "        self.opt_action = tf.argmax(self.output, 1, name='opt_action')\n",
    "        current_price = self._stock_data[:, n_history - 1, trade_stock_idx]\n",
    "        hist_price = self._stock_data[:, n_history - 2, trade_stock_idx]\n",
    "        self.reward = (current_price - hist_price) * tf.to_float(self._is_in)\n",
    "        target_nonend = self.reward + gam * self.opt_Q\n",
    "        \n",
    "        # if eposde end end index will be 1 and we recieve only reward as Q- value\n",
    "        self._end_idx = tf.placeholder(tf.int32, [self.n_batch], name=\"end_idx\")\n",
    "        self.target_val = tf.pack([tf.gather(tf.pack([target_nonend, self.reward])[:, i], self._end_idx[i]) for i in xrange(self.n_batch)])\n",
    "        \n",
    "        # training graph\n",
    "        self._learning_rate = tf.placeholder(tf.float32, shape=[], name=\"learning_rate\")\n",
    "        self.loss = tf.reduce_mean(tf.square(self.Q - self._target))\n",
    "        # fixate on using this optimizer, otherwize, otherwise endup using unecessary graph nose\n",
    "        self.optimizer = tf.train.AdamOptimizer(self._learning_rate, name=\"Optimizer\")\n",
    "        self.train = self.optimizer.minimize(self.loss)\n",
    "        \n",
    "        # build nonbatch graph\n",
    "        self._data_nonbatch = tf.placeholder(tf.float32, [self.n_history, self.n_stock], name= \"nonbatch_stock_data\")\n",
    "        self._is_in_nonbatch = tf.placeholder(tf.int32, [1], name=\"nonbatch_is_in\")\n",
    "        \n",
    "        # change format for training\n",
    "        data_tilde = tf.reshape(self._data_nonbatch, [1, n_history * n_stock])\n",
    "        is_in_tilde = tf.to_float(tf.reshape(self._is_in_nonbatch, [1, 1]))\n",
    "        self._input_nonbatch = tf.concat(1, [data_tilde, is_in_tilde], name=\"nonbatch_input\")\n",
    "        self._target_nonbatch = tf.placeholder(tf.float32, name=\"nonbatch_target\")\n",
    "        \n",
    "        # normalization for input\n",
    "        normalized_input = self.batch_normalization(self._input_nonbatch, gamma=self.gamma_list[0], beta=self.beta_list[0])\n",
    "        \n",
    "        # the name of variable scope will be layer0, layer1, ...\n",
    "        x = normalized_input\n",
    "        for i_layer in xrange(len(hidden_layers)):\n",
    "            with tf.variable_scope(\"hidden_layer%d\" % i_layer):\n",
    "                z = tf.matmul(x, self.W_list[i_layer]) + self.b_list[i_layer]\n",
    "                normalized_z = self.batch_normalization(z, gamma=self.gamma_list[i_layer + 1], beta=self.beta_list[i_layer + 1])\n",
    "                x = self.activation(normalized_z)\n",
    "        self.output_nonbatch = tf.matmul(x, self.W_list[-1]) + self.b_list[-1]\n",
    "        \n",
    "    def weight_variable(self, shape):\n",
    "        initial = tf.truncated_normal(shape, stddev=1.0)\n",
    "        return tf.Variable(initial, name=\"weight\")\n",
    "        \n",
    "    def bias_variable(self, shape):\n",
    "        initial = tf.constant(0.0, shape=shape)\n",
    "        return tf.Variable(initial, name=\"bias\")\n",
    "        \n",
    "    def batch_normalization(self, input_data, shape=None, gamma=None, beta=None):\n",
    "        # input should be hidden_dim\n",
    "        eps = 1e-5\n",
    "        if gamma is None:\n",
    "            gamma = tf.Variable(tf.constant(1.0, shape=shape))\n",
    "        if beta is None:\n",
    "            beta = tf.Variable(tf.constant(0.0, shape=shape))\n",
    "        mean, variance = tf.nn.moments(input_data, [0])\n",
    "        return gamma * (input_data - mean) / tf.sqrt(variance + eps) + beta\n",
    "    \n",
    "    def eps_greedy(self, eps, is_in, stock_data, sess):\n",
    "        \"\"\"Return action chosen by greedy algorithm\"\"\"\n",
    "        u = np.random.uniform()\n",
    "        q_value = self.output_nonbatch.eval(session=sess, \n",
    "                                                                         feed_dict={self._is_in_nonbatch: [is_in],\n",
    "                                                                                              self._data_nonbatch: stock_data})[0]\n",
    "        if u < 1 - eps:\n",
    "            action = np.argmax(q_value) \n",
    "        else:\n",
    "            action = np.random.randint(0, self.n_actions)\n",
    "        \n",
    "        return action\n",
    "                \n",
    "    \n",
    "    def training(self, stock_data, init_cash=1000, init_is_in=0, \n",
    "                         init_eps=1.0, decay_eps=0.99, min_eps=0.1, \n",
    "                         learning_rate=1e-4, n_memory=1000, n_epochs=100):\n",
    "        \"\"\"training DQN which consider three actions; sell, buy, hold\n",
    "              money and n_stock are considered as state variable\n",
    "        \n",
    "        Args:\n",
    "            data (list): stock price for one company\n",
    "            n_memory (int): the number of data that is used for Experience Replay\n",
    "            eps (float): the epsilon of greedy epsilon used for behavior policy\n",
    "            init_cash (float): initial available cash\n",
    "            init_stock (int): the number of stock data \n",
    "        \"\"\"\n",
    "        init_op = tf.initialize_all_variables()\n",
    "        saver = tf.train.Saver()\n",
    "        T = len(stock_data)\n",
    "        print_freq = int(T / 10)\n",
    "        if print_freq == 0:\n",
    "            print_freq = 1\n",
    "        \n",
    "        print (\"training....\")\n",
    "        st = time.time()\n",
    "        with tf.Session() as sess:\n",
    "            sess.run(init_op)\n",
    "            value_list  = []\n",
    "            eps = init_eps\n",
    "            lr = learning_rate\n",
    "            is_in = init_is_in\n",
    "            policy_is_in = init_is_in\n",
    "            cash = init_cash\n",
    "            policy_cash = init_cash\n",
    "            # analize which timing sell and buy are executed\n",
    "            # assumed that in the first n_history we do nothing\n",
    "            state = [init_is_in]  * (self.n_history)\n",
    "            for t in xrange(self.n_history, T):\n",
    "                # memory pool used for Experience Replay\n",
    "                # length should be less than n_memory\n",
    "                action_memory = []\n",
    "                stock_data_memory = []\n",
    "                is_in_memory = []\n",
    "                new_sd_memory = []\n",
    "                new_is_in_memory = []\n",
    "                end_idx_memory = []\n",
    "                # select action with e-greedy for replay memory\n",
    "                # in(exit):+1, hold: 0\n",
    "                stock_price = stock_data[t - self.n_history:t]\n",
    "                action= self.eps_greedy(eps, is_in, stock_price, sess)\n",
    "                new_is_in = is_in + action * (-1)**is_in\n",
    "                # I add if condtions as follows to avoid errors coming from numerical errors.\n",
    "                if is_in < 0.5:\n",
    "                    cash -= action * stock_data[t - 1][self.trade_stock_idx]\n",
    "                else:\n",
    "                    cash += action * stock_data[t - 1][self.trade_stock_idx]\n",
    "                new_stock_price = stock_data[t - self.n_history + 1:t + 1]\n",
    "                if t == T - 1:\n",
    "                    end_idx = 1\n",
    "                else:\n",
    "                    end_idx = 0\n",
    "                # add memory pools whose capacity is up to n_memory\n",
    "                if len(action_memory) == n_memory:\n",
    "                    del action_memory[0]\n",
    "                    del stock_data_memory[0]\n",
    "                    del is_in_memory[0]\n",
    "                    del new_sd_memory[0]\n",
    "                    del new_is_in_memory[0]\n",
    "                    del end_idx_memory[0]\n",
    "                action_memory.append(action)\n",
    "                # reward_memory.append(reward)\n",
    "                stock_data_memory.append(stock_price)\n",
    "                is_in_memory.append(is_in)\n",
    "                new_sd_memory.append(new_stock_price)\n",
    "                new_is_in_memory.append(new_is_in)\n",
    "                end_idx_memory.append(end_idx)\n",
    "                \n",
    "                for epoch in xrange(n_epochs):    \n",
    "                    # select transition from pool\n",
    "                    idx = np.random.randint(0, len(action_memory), self.n_batch)\n",
    "                    action_batch = [action_memory[i] for i in idx]\n",
    "                    # reward_batch = [reward_memory[i] for i in idx]\n",
    "                    data_batch = [stock_data_memory[i] for i in idx]\n",
    "                    is_in_batch = [is_in_memory[i] for i in idx]\n",
    "                    new_data_batch = [new_sd_memory[i] for i in idx]\n",
    "                    new_is_in_batch = [new_is_in_memory[i] for i in idx]\n",
    "                    end_idx_batch = [end_idx_memory[i] for i in idx]\n",
    "\n",
    "                    target = self.target_val.eval(session=sess, \n",
    "                                                                      feed_dict={self._is_in: new_is_in_batch,\n",
    "                                                                                           self._stock_data: new_data_batch,\n",
    "                                                                                           self._action: action_batch,\n",
    "                                                                                           self._end_idx: end_idx_batch})\n",
    "                    \n",
    "                    sess.run(self.train, \n",
    "                                    feed_dict={self._action: action_batch, \n",
    "                                                         self._stock_data: data_batch,\n",
    "                                                         self._is_in: is_in_batch,\n",
    "                                                         self._target: target,\n",
    "                                                         self._learning_rate: lr})  \n",
    "                \n",
    "                # choose optimal action\n",
    "                # int(exit):+1, hold: 0\n",
    "                q_value = self.output_nonbatch.eval(session=sess,\n",
    "                                                                                 feed_dict={self._data_nonbatch: stock_price,\n",
    "                                                                                                      self._is_in_nonbatch: [is_in]})\n",
    "                max_action = np.argmax(q_value)\n",
    "                policy_cash -= max_action * stock_data[t - 1][self.trade_stock_idx] * (-1)**(policy_is_in)\n",
    "                policy_is_in += max_action * (-1)**policy_is_in\n",
    "                state.append(policy_is_in)\n",
    "                value = cash + stock_data[t, self.trade_stock_idx] * policy_is_in\n",
    "                value_list.append(value)\n",
    "                \n",
    "                # renew variable\n",
    "                is_in = new_is_in\n",
    "                \n",
    "                if t % print_freq == 0:\n",
    "                    print (\"t: %d, current value:%f, is_in:%d, cash:%f, eps:%f\" % (t, value, policy_is_in, policy_cash, eps))\n",
    "                    print (\"elapsed time\", time.time() - st)    \n",
    "                \n",
    "                eps *= decay_eps\n",
    "                if eps <= min_eps:\n",
    "                    eps = min_eps\n",
    "            \n",
    "            save_path = saver.save(sess, \"/jupyter/tomoaki/DQN/trained_params.ckpt\")\n",
    "            print(\"Model saved in file: %s\" % save_path)\n",
    "            print (\"elapsed time: \", time.time() - st)\n",
    "           \n",
    "        return value_list, state"
   ]
  },
  {
   "cell_type": "code",
   "execution_count": 117,
   "metadata": {
    "collapsed": false
   },
   "outputs": [
    {
     "name": "stdout",
     "output_type": "stream",
     "text": [
      "building model....\n",
      "start!\n",
      "training....\n"
     ]
    },
    {
     "ename": "KeyboardInterrupt",
     "evalue": "",
     "output_type": "error",
     "traceback": [
      "\u001b[1;31m\u001b[0m",
      "\u001b[1;31mKeyboardInterrupt\u001b[0mTraceback (most recent call last)",
      "\u001b[1;32m<ipython-input-117-540c4f7f2d8b>\u001b[0m in \u001b[0;36m<module>\u001b[1;34m()\u001b[0m\n\u001b[0;32m     16\u001b[0m \u001b[0mdqn\u001b[0m \u001b[1;33m=\u001b[0m \u001b[0mDQNMLP\u001b[0m\u001b[1;33m(\u001b[0m\u001b[0mn_stock\u001b[0m\u001b[1;33m,\u001b[0m \u001b[0mhidden_layers\u001b[0m\u001b[1;33m,\u001b[0m \u001b[0mn_actions\u001b[0m\u001b[1;33m,\u001b[0m \u001b[0mtrade_stock_idx\u001b[0m\u001b[1;33m=\u001b[0m\u001b[0mtrade_stock_idx\u001b[0m\u001b[1;33m)\u001b[0m\u001b[1;33m\u001b[0m\u001b[0m\n\u001b[0;32m     17\u001b[0m \u001b[1;32mprint\u001b[0m \u001b[1;33m(\u001b[0m\u001b[1;34m\"start!\"\u001b[0m\u001b[1;33m)\u001b[0m\u001b[1;33m\u001b[0m\u001b[0m\n\u001b[1;32m---> 18\u001b[1;33m \u001b[0mvalue\u001b[0m\u001b[1;33m,\u001b[0m \u001b[0mstate\u001b[0m \u001b[1;33m=\u001b[0m \u001b[0mdqn\u001b[0m\u001b[1;33m.\u001b[0m\u001b[0mtraining\u001b[0m\u001b[1;33m(\u001b[0m\u001b[0mstock_data\u001b[0m\u001b[1;33m=\u001b[0m\u001b[0minput_data\u001b[0m\u001b[1;33m,\u001b[0m \u001b[0mn_epochs\u001b[0m\u001b[1;33m=\u001b[0m\u001b[1;36m100\u001b[0m\u001b[1;33m,\u001b[0m \u001b[0minit_cash\u001b[0m\u001b[1;33m=\u001b[0m\u001b[1;36m0\u001b[0m\u001b[1;33m,\u001b[0m \u001b[0mdecay_eps\u001b[0m\u001b[1;33m=\u001b[0m\u001b[1;36m0.9\u001b[0m\u001b[1;33m)\u001b[0m\u001b[1;33m\u001b[0m\u001b[0m\n\u001b[0m",
      "\u001b[1;32m<ipython-input-116-2279afc9db27>\u001b[0m in \u001b[0;36mtraining\u001b[1;34m(self, stock_data, init_cash, init_is_in, init_eps, decay_eps, min_eps, learning_rate, n_memory, n_epochs)\u001b[0m\n\u001b[0;32m    273\u001b[0m                                                          \u001b[0mself\u001b[0m\u001b[1;33m.\u001b[0m\u001b[0m_is_in\u001b[0m\u001b[1;33m:\u001b[0m \u001b[0mis_in_batch\u001b[0m\u001b[1;33m,\u001b[0m\u001b[1;33m\u001b[0m\u001b[0m\n\u001b[0;32m    274\u001b[0m                                                          \u001b[0mself\u001b[0m\u001b[1;33m.\u001b[0m\u001b[0m_target\u001b[0m\u001b[1;33m:\u001b[0m \u001b[0mtarget\u001b[0m\u001b[1;33m,\u001b[0m\u001b[1;33m\u001b[0m\u001b[0m\n\u001b[1;32m--> 275\u001b[1;33m                                                          self._learning_rate: lr})  \n\u001b[0m\u001b[0;32m    276\u001b[0m \u001b[1;33m\u001b[0m\u001b[0m\n\u001b[0;32m    277\u001b[0m                 \u001b[1;31m# choose optimal action\u001b[0m\u001b[1;33m\u001b[0m\u001b[1;33m\u001b[0m\u001b[0m\n",
      "\u001b[1;32m/usr/local/lib/python2.7/dist-packages/tensorflow/python/client/session.pyc\u001b[0m in \u001b[0;36mrun\u001b[1;34m(self, fetches, feed_dict, options, run_metadata)\u001b[0m\n\u001b[0;32m    370\u001b[0m     \u001b[1;32mtry\u001b[0m\u001b[1;33m:\u001b[0m\u001b[1;33m\u001b[0m\u001b[0m\n\u001b[0;32m    371\u001b[0m       result = self._run(None, fetches, feed_dict, options_ptr,\n\u001b[1;32m--> 372\u001b[1;33m                          run_metadata_ptr)\n\u001b[0m\u001b[0;32m    373\u001b[0m       \u001b[1;32mif\u001b[0m \u001b[0mrun_metadata\u001b[0m\u001b[1;33m:\u001b[0m\u001b[1;33m\u001b[0m\u001b[0m\n\u001b[0;32m    374\u001b[0m         \u001b[0mproto_data\u001b[0m \u001b[1;33m=\u001b[0m \u001b[0mtf_session\u001b[0m\u001b[1;33m.\u001b[0m\u001b[0mTF_GetBuffer\u001b[0m\u001b[1;33m(\u001b[0m\u001b[0mrun_metadata_ptr\u001b[0m\u001b[1;33m)\u001b[0m\u001b[1;33m\u001b[0m\u001b[0m\n",
      "\u001b[1;32m/usr/local/lib/python2.7/dist-packages/tensorflow/python/client/session.pyc\u001b[0m in \u001b[0;36m_run\u001b[1;34m(self, handle, fetches, feed_dict, options, run_metadata)\u001b[0m\n\u001b[0;32m    634\u001b[0m     \u001b[1;32mtry\u001b[0m\u001b[1;33m:\u001b[0m\u001b[1;33m\u001b[0m\u001b[0m\n\u001b[0;32m    635\u001b[0m       results = self._do_run(handle, target_list, unique_fetches,\n\u001b[1;32m--> 636\u001b[1;33m                              feed_dict_string, options, run_metadata)\n\u001b[0m\u001b[0;32m    637\u001b[0m     \u001b[1;32mfinally\u001b[0m\u001b[1;33m:\u001b[0m\u001b[1;33m\u001b[0m\u001b[0m\n\u001b[0;32m    638\u001b[0m       \u001b[1;31m# The movers are no longer used. Delete them.\u001b[0m\u001b[1;33m\u001b[0m\u001b[1;33m\u001b[0m\u001b[0m\n",
      "\u001b[1;32m/usr/local/lib/python2.7/dist-packages/tensorflow/python/client/session.pyc\u001b[0m in \u001b[0;36m_do_run\u001b[1;34m(self, handle, target_list, fetch_list, feed_dict, options, run_metadata)\u001b[0m\n\u001b[0;32m    706\u001b[0m     \u001b[1;32mif\u001b[0m \u001b[0mhandle\u001b[0m \u001b[1;32mis\u001b[0m \u001b[0mNone\u001b[0m\u001b[1;33m:\u001b[0m\u001b[1;33m\u001b[0m\u001b[0m\n\u001b[0;32m    707\u001b[0m       return self._do_call(_run_fn, self._session, feed_dict, fetch_list,\n\u001b[1;32m--> 708\u001b[1;33m                            target_list, options, run_metadata)\n\u001b[0m\u001b[0;32m    709\u001b[0m     \u001b[1;32melse\u001b[0m\u001b[1;33m:\u001b[0m\u001b[1;33m\u001b[0m\u001b[0m\n\u001b[0;32m    710\u001b[0m       return self._do_call(_prun_fn, self._session, handle, feed_dict,\n",
      "\u001b[1;32m/usr/local/lib/python2.7/dist-packages/tensorflow/python/client/session.pyc\u001b[0m in \u001b[0;36m_do_call\u001b[1;34m(self, fn, *args)\u001b[0m\n\u001b[0;32m    713\u001b[0m   \u001b[1;32mdef\u001b[0m \u001b[0m_do_call\u001b[0m\u001b[1;33m(\u001b[0m\u001b[0mself\u001b[0m\u001b[1;33m,\u001b[0m \u001b[0mfn\u001b[0m\u001b[1;33m,\u001b[0m \u001b[1;33m*\u001b[0m\u001b[0margs\u001b[0m\u001b[1;33m)\u001b[0m\u001b[1;33m:\u001b[0m\u001b[1;33m\u001b[0m\u001b[0m\n\u001b[0;32m    714\u001b[0m     \u001b[1;32mtry\u001b[0m\u001b[1;33m:\u001b[0m\u001b[1;33m\u001b[0m\u001b[0m\n\u001b[1;32m--> 715\u001b[1;33m       \u001b[1;32mreturn\u001b[0m \u001b[0mfn\u001b[0m\u001b[1;33m(\u001b[0m\u001b[1;33m*\u001b[0m\u001b[0margs\u001b[0m\u001b[1;33m)\u001b[0m\u001b[1;33m\u001b[0m\u001b[0m\n\u001b[0m\u001b[0;32m    716\u001b[0m     \u001b[1;32mexcept\u001b[0m \u001b[0merrors\u001b[0m\u001b[1;33m.\u001b[0m\u001b[0mOpError\u001b[0m \u001b[1;32mas\u001b[0m \u001b[0me\u001b[0m\u001b[1;33m:\u001b[0m\u001b[1;33m\u001b[0m\u001b[0m\n\u001b[0;32m    717\u001b[0m       \u001b[0mmessage\u001b[0m \u001b[1;33m=\u001b[0m \u001b[0mcompat\u001b[0m\u001b[1;33m.\u001b[0m\u001b[0mas_text\u001b[0m\u001b[1;33m(\u001b[0m\u001b[0me\u001b[0m\u001b[1;33m.\u001b[0m\u001b[0mmessage\u001b[0m\u001b[1;33m)\u001b[0m\u001b[1;33m\u001b[0m\u001b[0m\n",
      "\u001b[1;32m/usr/local/lib/python2.7/dist-packages/tensorflow/python/client/session.pyc\u001b[0m in \u001b[0;36m_run_fn\u001b[1;34m(session, feed_dict, fetch_list, target_list, options, run_metadata)\u001b[0m\n\u001b[0;32m    695\u001b[0m         return tf_session.TF_Run(session, options,\n\u001b[0;32m    696\u001b[0m                                  \u001b[0mfeed_dict\u001b[0m\u001b[1;33m,\u001b[0m \u001b[0mfetch_list\u001b[0m\u001b[1;33m,\u001b[0m \u001b[0mtarget_list\u001b[0m\u001b[1;33m,\u001b[0m\u001b[1;33m\u001b[0m\u001b[0m\n\u001b[1;32m--> 697\u001b[1;33m                                  status, run_metadata)\n\u001b[0m\u001b[0;32m    698\u001b[0m \u001b[1;33m\u001b[0m\u001b[0m\n\u001b[0;32m    699\u001b[0m     \u001b[1;32mdef\u001b[0m \u001b[0m_prun_fn\u001b[0m\u001b[1;33m(\u001b[0m\u001b[0msession\u001b[0m\u001b[1;33m,\u001b[0m \u001b[0mhandle\u001b[0m\u001b[1;33m,\u001b[0m \u001b[0mfeed_dict\u001b[0m\u001b[1;33m,\u001b[0m \u001b[0mfetch_list\u001b[0m\u001b[1;33m)\u001b[0m\u001b[1;33m:\u001b[0m\u001b[1;33m\u001b[0m\u001b[0m\n",
      "\u001b[1;31mKeyboardInterrupt\u001b[0m: "
     ]
    }
   ],
   "source": [
    "test_idx = date_label.index(datetime.datetime(2015, 4, 1, 0, 0))\n",
    "trade_data = input_data[:, 0]\n",
    "n_history = 4\n",
    "n_stock = len(input_data[0])\n",
    "n_in = n_history * n_stock + 1\n",
    "n_hid1 = int(n_in * 0.5)\n",
    "n_hid2 = int(n_hid1 * 0.5)\n",
    "n_hid3 = int(n_hid1 * 0.5)\n",
    "n_actions=2\n",
    "hidden_layers = [n_hid1, n_hid2,n_hid3]\n",
    "train = input_data[:test_idx]\n",
    "test = input_data[test_idx:]\n",
    "date_test = date_label[test_idx:]\n",
    "trade_stock_idx = 0\n",
    "\n",
    "dqn = DQNMLP(n_stock, hidden_layers, n_actions, trade_stock_idx=trade_stock_idx)\n",
    "print (\"start!\")\n",
    "value, state = dqn.training(stock_data=input_data, n_epochs=100, init_cash=0, decay_eps=0.9)"
   ]
  },
  {
   "cell_type": "code",
   "execution_count": 46,
   "metadata": {
    "collapsed": false
   },
   "outputs": [
    {
     "name": "stdout",
     "output_type": "stream",
     "text": [
      "[0, 0, 0, 0, 0, 0, 0, 0, 0, 0, 0, 0, 0, 0, 0, 0, 1, 0, 1, 1, 0, 1, 0, 1, 1, 0, 1, 0, 1, 0, 1, 0, 1, 1, 1, 1, 1, 1, 1, 1, 1, 1, 1, 1, 1, 1, 1, 1, 1, 1, 1, 1, 1, 1, 1, 1, 1, 1, 1, 1, 1, 1, 1, 1, 1, 1, 1, 1, 1, 1, 1, 1, 1, 1, 1, 1, 1, 1, 1, 1, 1, 1, 1, 1, 1, 1, 1, 1, 1, 1, 1, 1, 1, 1, 1, 1, 1, 1, 1, 1, 1, 1, 1, 1, 1, 1, 1, 1, 1, 1, 1, 1, 1, 1, 1, 1, 1, 1, 1, 1, 1, 1, 1, 1, 1, 1, 1, 1, 1, 1, 1, 1, 1, 1, 1, 1, 1, 1, 1, 1, 1, 1, 1, 1, 1, 1, 1, 1, 1, 1, 1, 1, 1, 1, 1, 1, 1, 1, 1, 1, 1, 1, 1, 1, 1, 1, 1, 1, 1, 1, 1, 1, 1, 1, 1, 1, 1, 1, 1, 1, 1, 1, 1, 1, 1, 1, 1, 1, 1, 1, 1, 1, 1, 1, 1, 1, 1, 1, 1, 1, 1, 1, 1, 1, 1, 1, 1, 1, 1, 1, 1, 1, 1, 1, 1, 1, 1, 1, 1, 1, 1, 1, 1, 1, 1, 1, 1, 1, 1, 1, 1, 1, 1, 1, 1, 1, 1, 1, 1, 1, 1, 1, 1, 1, 1, 1, 1, 1, 1, 1, 1, 1, 1, 1, 1, 1, 1, 1, 1, 1, 1, 1, 1, 1, 1, 1, 1, 1, 1, 1, 1, 1, 1, 1, 1, 1, 1, 1, 1, 1, 1, 1, 1, 1, 1, 1, 1, 1, 1, 1, 1, 1, 1, 1, 1, 1, 1, 1, 1, 1, 1, 1, 1, 1, 1, 1, 1, 1, 1, 1, 1, 1, 1, 1, 1, 1, 1, 1, 1, 1, 1, 1, 1, 1, 1, 1, 1, 1, 1, 1, 1, 1, 1, 1, 1, 1, 1, 1, 1, 1, 1, 1, 1, 1, 1, 1, 1, 1, 1, 1, 1, 1, 1, 1, 1, 1, 1, 1, 1, 1, 1, 1, 1, 1, 1, 1, 1, 1, 1, 1, 1, 1, 1, 1, 1, 1, 1, 1, 1, 1, 1, 1, 1, 1, 1, 1, 1, 1, 1, 1, 1, 1, 1, 1, 1, 1, 1, 1, 1, 1, 1, 1, 1, 1, 1, 1, 1, 1, 1, 1, 1, 1, 1, 1, 1, 0, 1, 0, 1, 0, 1, 0, 1, 0, 1, 0, 1, 0, 1, 0, 1, 0, 1, 0, 1, 0, 1, 0, 1, 0, 1, 0, 1, 0, 1, 0, 1, 0, 1, 0, 1, 0, 1, 0, 1, 0, 1, 0, 1, 0, 1, 0, 1, 0, 1, 0, 1, 0, 1, 0, 1, 0, 1, 0, 1, 0, 1, 0, 1, 0, 1, 0, 1, 0, 1, 0, 1, 0, 1, 0, 1, 0, 0, 1, 0, 1, 0, 0, 0, 1, 0, 0, 0, 1]\n"
     ]
    }
   ],
   "source": [
    "print (state)"
   ]
  },
  {
   "cell_type": "code",
   "execution_count": 48,
   "metadata": {
    "collapsed": false
   },
   "outputs": [
    {
     "data": {
      "text/plain": [
       "[<matplotlib.lines.Line2D at 0x7f9cf869acd0>]"
      ]
     },
     "execution_count": 48,
     "metadata": {},
     "output_type": "execute_result"
    },
    {
     "data": {
      "image/png": "[encoded data removed]",
      "text/plain": [
       "<matplotlib.figure.Figure at 0x7f9d1c320310>"
      ]
     },
     "metadata": {},
     "output_type": "display_data"
    }
   ],
   "source": [
    "plt.plot(value)"
   ]
  },
  {
   "cell_type": "code",
   "execution_count": 59,
   "metadata": {
    "collapsed": false
   },
   "outputs": [
    {
     "data": {
      "image/png": "[encoded data removed]",
      "text/plain": [
       "<matplotlib.figure.Figure at 0x7f9d8073bd90>"
      ]
     },
     "metadata": {},
     "output_type": "display_data"
    }
   ],
   "source": [
    "fig, ax1 = plt.subplots()\n",
    "ax2=ax1.twinx()\n",
    "\n",
    "ax1.plot(date_label, input_data[:, 0])\n",
    "ax2.plot(date_label, state)\n",
    "plt.ylim(-0.5, 1.5)\n",
    "plt.gcf().autofmt_xdate()"
   ]
  },
  {
   "cell_type": "markdown",
   "metadata": {},
   "source": [
    "Try another architechture that has three outputs; sell, hold, buy"
   ]
  },
  {
   "cell_type": "code",
   "execution_count": 198,
   "metadata": {
    "collapsed": false
   },
   "outputs": [],
   "source": [
    "class DQNMLP2(object):\n",
    "    def __init__(self, n_stock, hidden_layers, n_actions=3, activation=tf.nn.relu,  \n",
    "                           trade_stock_idx=0, n_batch=32,\n",
    "                           gam=0.99, n_history=4, is_initialize=True):\n",
    "        \"\"\"initialized approximate value function\n",
    "        \n",
    "        Args:\n",
    "            n_stock (int): the number of stock to use\n",
    "            hiddne layers(list): list of the number of nodes in each hidden layer\n",
    "            n_actions(int): the nubmer of allowable in our cases might be 3; sell, hold, and buy\n",
    "            trade_stock_idx(int): trading stock index\n",
    "            gam (float): discount factor\n",
    "            n_history(int): nubmer of history that will be used as input\n",
    "            n_batch (int): batch size\n",
    "            freq_target_update (int): frequency of update for target network\n",
    "            is_intialized(optional) (bool): if True, the graph will be initialized\n",
    "        \"\"\"\n",
    "        print (\"building model....\")\n",
    "        self.n_stock = n_stock\n",
    "        self.hidden_layers = hidden_layers\n",
    "        self.n_actions = n_actions\n",
    "        self.activation = activation\n",
    "        self.gam = gam\n",
    "        self.n_history = n_history\n",
    "        self.n_batch = n_batch\n",
    "        self.trade_stock_idx = trade_stock_idx\n",
    "        \n",
    "        # intialize graph to avoid conflications\n",
    "        if is_initialize is True:\n",
    "            sess  = tf.InteractiveSession()\n",
    "            tf.reset_default_graph()\n",
    "            sess.close()\n",
    "        \n",
    "        self._stock_data = tf.placeholder(tf.float32, [self.n_batch, n_history, n_stock], name= \"stock_data\")\n",
    "        # weather tarders is doing trade or not\n",
    "        self._is_in = tf.placeholder(tf.int32, [self.n_batch], name=\"is_in\")\n",
    "        \n",
    "        # change format for training\n",
    "        stock_data_tilde = tf.reshape(self._stock_data, [self.n_batch, n_history * n_stock])\n",
    "        is_in_tilde = tf.to_float(tf.reshape(self._is_in, [self.n_batch, 1]))\n",
    "        self._input = tf.concat(1, [stock_data_tilde, is_in_tilde], name=\"input\")\n",
    "        self._target = tf.placeholder(tf.float32, [self.n_batch], name=\"target\")\n",
    "        \n",
    "        # normalization for input\n",
    "        n_layer0 = n_history * n_stock + 1\n",
    "        shape = [n_layer0]\n",
    "        gamma = tf.Variable(tf.constant(1.0, shape=shape), name=\"gamma\")\n",
    "        beta = tf.Variable(tf.constant(0.0, shape=shape), name=\"beta\")\n",
    "        self.normalized_input = self.batch_normalization(self._input, gamma=gamma, beta=beta)\n",
    "                \n",
    "        # keep parameters for pretraining\n",
    "        self.gamma_list = []\n",
    "        self.beta_list = []\n",
    "        self.gamma_list.append(gamma)\n",
    "        self.beta_list.append(beta)\n",
    "        \n",
    "        # parameters\n",
    "        self.W_list = []\n",
    "        self.b_list = []\n",
    "        \n",
    "        # the name of variable scope will be layer0, layer1, ...\n",
    "        self.x_list = []\n",
    "        x = self.normalized_input\n",
    "        self.x_list.append(x)\n",
    "        n_in = n_layer0\n",
    "        for i_layer in xrange(len(hidden_layers)):\n",
    "            with tf.variable_scope(\"hidden_layer%d\" % i_layer):\n",
    "                n_out = hidden_layers[i_layer]\n",
    "                W = self.weight_variable([n_in, n_out])\n",
    "                b = self.bias_variable([n_out])\n",
    "                n_in = n_out\n",
    "                \n",
    "                # keep parameters for pretraining\n",
    "                self.W_list.append(W)\n",
    "                self.b_list.append(b)\n",
    "                \n",
    "                z = tf.matmul(x, W) + b\n",
    "      \n",
    "                shape = [n_out]\n",
    "                gamma = tf.Variable(tf.constant(1.0, shape=shape), name=\"gamma\")\n",
    "                beta = tf.Variable(tf.constant(0.0, shape=shape), name=\"beta\")\n",
    "                \n",
    "                # keep parameters for pretraining\n",
    "                self.gamma_list.append(gamma)\n",
    "                self.beta_list.append(beta)\n",
    "                \n",
    "                normalized_z = self.batch_normalization(z, shape, gamma, beta)\n",
    "                x = self.activation(normalized_z)\n",
    "                self.x_list.append(x)\n",
    "        # each node should be corresponding to each action\n",
    "        n_out = n_actions\n",
    "        W = self.weight_variable([n_in, n_out])\n",
    "        b = self.bias_variable([n_out])\n",
    "                \n",
    "        # keep parameters for pretraining\n",
    "        self.W_list.append(W)\n",
    "        self.b_list.append(b)\n",
    "        self.output = tf.matmul(x, W) + b\n",
    "\n",
    "        # actions should be +1:in, 0:hold, -1:out\n",
    "        self._action = tf.placeholder(tf.int32, [self.n_batch], name=\"action\")\n",
    "        action_idx = self._action + 1\n",
    "        self.Q = tf.pack([tf.gather(self.output[i, :], action_idx[i], name=\"chosen_action\") for i in xrange(n_batch)], name=\"Q\")\n",
    "        \n",
    "        # make graph for target\n",
    "        # action index, 0: sell, 1: hold, 2: buy\n",
    "        allow_action_indices = tf.pack([[1, 2], [0, 1]], name=\"allow_action_idices\")\n",
    "        index_of_q = tf.gather(allow_action_indices, self._is_in[i], name=\"index_of_q\")\n",
    "        allow_q_value = tf.pack([tf.gather(self.output[i, :], index_of_q,\n",
    "                                                     name=\"allow_q_value\") \n",
    "                                                     for i in xrange(self.n_batch)])\n",
    "        self.opt_Q = tf.reduce_max(allow_q_value, reduction_indices=1, name=\"opt_Q\")\n",
    "        current_price = self._stock_data[:, n_history - 1, trade_stock_idx]\n",
    "        hist_price = self._stock_data[:, n_history - 2, trade_stock_idx]\n",
    "        self.reward = (current_price - hist_price) * tf.to_float(self._is_in)\n",
    "        self.target_val = self.reward + gam * self.opt_Q\n",
    "        \n",
    "        # training graph\n",
    "        self._learning_rate = tf.placeholder(tf.float32, shape=[], name=\"learning_rate\")\n",
    "        self.loss = tf.reduce_mean(tf.square(self.Q - self._target))\n",
    "        # fixate on using this optimizer, otherwize, otherwise endup using unecessary graph nose\n",
    "        self.optimizer = tf.train.AdamOptimizer(self._learning_rate, name=\"Optimizer\")\n",
    "        self.train = self.optimizer.minimize(self.loss)\n",
    "        \n",
    "        # build nonbatch graph\n",
    "        self._data_nonbatch = tf.placeholder(tf.float32, [self.n_history, self.n_stock], name= \"nonbatch_stock_data\")\n",
    "        self._is_in_nonbatch = tf.placeholder(tf.int32, [1], name=\"nonbatch_is_in\")\n",
    "        \n",
    "        # change format for training\n",
    "        data_tilde = tf.reshape(self._data_nonbatch, [1, n_history * n_stock])\n",
    "        is_in_tilde = tf.to_float(tf.reshape(self._is_in_nonbatch, [1, 1]))\n",
    "        self._input_nonbatch = tf.concat(1, [data_tilde, is_in_tilde], name=\"nonbatch_input\")\n",
    "        \n",
    "        # normalization for input\n",
    "        normalized_input = self.batch_normalization(self._input_nonbatch, gamma=self.gamma_list[0], beta=self.beta_list[0])\n",
    "        \n",
    "        # the name of variable scope will be layer0, layer1, ...\n",
    "        x = normalized_input\n",
    "        for i_layer in xrange(len(hidden_layers)):\n",
    "            with tf.variable_scope(\"hidden_layer%d\" % i_layer):\n",
    "                z = tf.matmul(x, self.W_list[i_layer]) + self.b_list[i_layer]\n",
    "                normalized_z = self.batch_normalization(z, gamma=self.gamma_list[i_layer + 1], beta=self.beta_list[i_layer + 1])\n",
    "                x = self.activation(normalized_z)\n",
    "        self.output_nonbatch = tf.matmul(x, self.W_list[-1]) + self.b_list[-1]\n",
    "        # out_idx = tf.gather(allow_action_indices, self._is_in_nonbatch[0])\n",
    "        # self.allow_out_nonbatch = tf.gather(self.output_nonbatch[0, :], out_idx)\n",
    "        \n",
    "    def weight_variable(self, shape):\n",
    "        initial = tf.truncated_normal(shape, stddev=1.0)\n",
    "        return tf.Variable(initial, name=\"weight\")\n",
    "        \n",
    "    def bias_variable(self, shape):\n",
    "        initial = tf.constant(0.0, shape=shape)\n",
    "        return tf.Variable(initial, name=\"bias\")\n",
    "        \n",
    "    def batch_normalization(self, input_data, shape=None, gamma=None, beta=None):\n",
    "        # input should be hidden_dim\n",
    "        eps = 1e-5\n",
    "        if gamma is None:\n",
    "            gamma = tf.Variable(tf.constant(1.0, shape=shape))\n",
    "        if beta is None:\n",
    "            beta = tf.Variable(tf.constant(0.0, shape=shape))\n",
    "        mean, variance = tf.nn.moments(input_data, [0])\n",
    "        return gamma * (input_data - mean) / tf.sqrt(variance + eps) + beta\n",
    "    \n",
    "    def eps_greedy(self, eps, is_in, stock_data, sess):\n",
    "        \"\"\"Return action chosen by greedy algorithm\"\"\"\n",
    "        u = np.random.uniform()\n",
    "        q_value = self.output_nonbatch.eval(session=sess, \n",
    "                                                                         feed_dict={self._is_in_nonbatch: [is_in],\n",
    "                                                                                              self._data_nonbatch: stock_data})[0]\n",
    "        if u < 1 - eps:\n",
    "            action_idx = np.argsort(q_value)\n",
    "            if is_in == 0 and action_idx[-1] == 0:\n",
    "                action = action_idx[-2] - 1\n",
    "            elif is_in == 1 and action_idx[-1] == 2:\n",
    "                action = action_idx[-2] - 1\n",
    "            else:\n",
    "                action = action_idx[-1] - 1\n",
    "        else:\n",
    "            if is_in == 0:\n",
    "                actions = [0, 1]\n",
    "            elif is_in == 1:\n",
    "                actions = [-1, 0]\n",
    "            action = actions[np.random.randint(0, self.n_actions - 1)]  \n",
    "        return action\n",
    "                \n",
    "    \n",
    "    def training(self, stock_data, init_cash=1000, init_is_in=0, \n",
    "                         init_eps=1.0, decay_eps=0.99, min_eps=0.1, \n",
    "                         learning_rate=1e-4, n_memory=1000, n_epochs=100):\n",
    "        \"\"\"training DQN which consider three actions; sell, buy, hold\n",
    "              money and n_stock are considered as state variable\n",
    "        \n",
    "        Args:\n",
    "            data (list): stock price for one company\n",
    "            n_memory (int): the number of data that is used for Experience Replay\n",
    "            eps (float): the epsilon of greedy epsilon used for behavior policy\n",
    "            init_cash (float): initial available cash\n",
    "            init_stock (int): the number of stock data \n",
    "        \"\"\"\n",
    "        init_op = tf.initialize_all_variables()\n",
    "        saver = tf.train.Saver()\n",
    "        T = len(stock_data)\n",
    "        print_freq = int(T / 10)\n",
    "        if print_freq == 0:\n",
    "            print_freq = 1\n",
    "        with tf.device(:/gpu:0)\n",
    "        print (\"training....\")\n",
    "        # Added to avoid allocation the full GPU memory to tf\n",
    "        config = tf.ConfigProto()\n",
    "        config.gpu_options.allow_growth=True\n",
    "        st = time.time()\n",
    "        with tf.Session(config=config) as sess:\n",
    "            sess.run(init_op)\n",
    "            value_list  = []\n",
    "            eps = init_eps\n",
    "            lr = learning_rate\n",
    "            is_in = init_is_in\n",
    "            # policy_is_in = init_is_in\n",
    "            cash = init_cash\n",
    "            # policy_cash = init_cash\n",
    "            # analize which timing sell and buy are executed\n",
    "            # assumed that in the first n_history we do nothing\n",
    "            state = [init_is_in]  * (self.n_history)\n",
    "            for t in xrange(self.n_history, T):\n",
    "                # memory pool used for Experience Replay\n",
    "                # length should be less than n_memory\n",
    "                action_memory = []\n",
    "                stock_data_memory = []\n",
    "                is_in_memory = []\n",
    "                new_sd_memory = []\n",
    "                new_is_in_memory = []\n",
    "                end_idx_memory = []\n",
    "                # select action with e-greedy for replay memory\n",
    "                # buy:+1, hold: 0, sell: -1\n",
    "                stock_price = stock_data[t - self.n_history:t]\n",
    "                action= self.eps_greedy(eps, is_in, stock_price, sess)\n",
    "                new_is_in = is_in + action\n",
    "                cash -= action * stock_data[t - 1][self.trade_stock_idx]\n",
    "                new_stock_price = stock_data[t - self.n_history + 1:t + 1]\n",
    "                # add memory pools whose capacity is up to n_memory\n",
    "                if len(action_memory) == n_memory:\n",
    "                    del action_memory[0]\n",
    "                    del stock_data_memory[0]\n",
    "                    del is_in_memory[0]\n",
    "                    del new_sd_memory[0]\n",
    "                    del new_is_in_memory[0]\n",
    "                action_memory.append(action)\n",
    "                # reward_memory.append(reward)\n",
    "                stock_data_memory.append(stock_price)\n",
    "                is_in_memory.append(is_in)\n",
    "                new_sd_memory.append(new_stock_price)\n",
    "                new_is_in_memory.append(new_is_in)\n",
    "                \n",
    "                for epoch in xrange(n_epochs):    \n",
    "                    # select transition from pool\n",
    "                    idx = np.random.randint(0, len(action_memory), self.n_batch)\n",
    "                    action_batch = [action_memory[i] for i in idx]\n",
    "                    data_batch = [stock_data_memory[i] for i in idx]\n",
    "                    is_in_batch = [is_in_memory[i] for i in idx]\n",
    "                    new_data_batch = [new_sd_memory[i] for i in idx]\n",
    "                    new_is_in_batch = [new_is_in_memory[i] for i in idx]\n",
    "\n",
    "                    target = self.target_val.eval(session=sess, \n",
    "                                                                      feed_dict={self._is_in: new_is_in_batch,\n",
    "                                                                                           self._stock_data: new_data_batch})\n",
    "                    \n",
    "                    sess.run(self.train, \n",
    "                                    feed_dict={self._action: action_batch, \n",
    "                                                         self._stock_data: data_batch,\n",
    "                                                         self._is_in: is_in_batch,\n",
    "                                                         self._target: target,\n",
    "                                                         self._learning_rate: lr})  \n",
    "                \n",
    "                state.append(new_is_in)\n",
    "                value = cash + stock_data[t, self.trade_stock_idx] * new_is_in\n",
    "                value_list.append(value)\n",
    "                \n",
    "                # renew variable\n",
    "                is_in = new_is_in\n",
    "                \n",
    "                if t % print_freq == 0:\n",
    "                    print (\"t: %d, current value:%f, is_in:%d, cash:%f, eps:%f\" % (t, value, new_is_in, cash, eps))\n",
    "                    print (\"elapsed time\", time.time() - st)    \n",
    "                \n",
    "                eps *= decay_eps\n",
    "                if eps <= min_eps:\n",
    "                    eps = min_eps\n",
    "            \n",
    "            save_path = saver.save(sess, \"/jupyter/tomoaki/DQN/trained_params.ckpt\")\n",
    "            print(\"Model saved in file: %s\" % save_path)\n",
    "            print (\"elapsed time: \", time.time() - st)\n",
    "           \n",
    "        return value_list, state"
   ]
  },
  {
   "cell_type": "code",
   "execution_count": 201,
   "metadata": {
    "collapsed": false
   },
   "outputs": [
    {
     "name": "stdout",
     "output_type": "stream",
     "text": [
      "building model....\n",
      "start!\n",
      "training....\n",
      "t: 50, current value:-2.380001, is_in:0, cash:-2.380001, eps:0.100000\n",
      "elapsed time 7.44986391068\n",
      "t: 100, current value:14.919985, is_in:1, cash:-64.270017, eps:0.100000\n",
      "elapsed time 13.9679529667\n",
      "t: 150, current value:14.639993, is_in:0, cash:14.639993, eps:0.100000\n",
      "elapsed time 20.4859848022\n",
      "t: 200, current value:40.290000, is_in:0, cash:40.290000, eps:0.100000\n",
      "elapsed time 27.0263409615\n",
      "t: 250, current value:52.400015, is_in:1, cash:-61.329988, eps:0.100000\n",
      "elapsed time 33.4371438026\n",
      "t: 300, current value:47.789999, is_in:0, cash:47.789999, eps:0.100000\n",
      "elapsed time 40.0024709702\n",
      "t: 350, current value:42.889989, is_in:1, cash:-75.360011, eps:0.100000\n",
      "elapsed time 46.4766099453\n",
      "t: 400, current value:44.800016, is_in:1, cash:-96.899981, eps:0.100000\n",
      "elapsed time 53.0489089489\n",
      "t: 450, current value:29.549995, is_in:0, cash:29.549995, eps:0.100000\n",
      "elapsed time 59.4965529442\n",
      "t: 500, current value:29.470008, is_in:0, cash:29.470008, eps:0.100000\n",
      "elapsed time 66.0051548481\n",
      "Model saved in file: /jupyter/tomoaki/DQN/trained_params.ckpt\n",
      "elapsed time:  68.2363870144\n"
     ]
    }
   ],
   "source": [
    "test_idx = date_label.index(datetime.datetime(2015, 4, 1, 0, 0))\n",
    "trade_data = input_data[:, 0]\n",
    "n_history = 4\n",
    "n_stock = len(input_data[0])\n",
    "n_in = n_history * n_stock + 1\n",
    "n_hid1 = int(n_in * 0.5)\n",
    "n_hid2 = int(n_hid1 * 0.5)\n",
    "n_hid3 = int(n_hid1 * 0.5)\n",
    "n_actions=3\n",
    "hidden_layers = [n_hid1, n_hid2,n_hid3]\n",
    "train = input_data[:test_idx]\n",
    "test = input_data[test_idx:]\n",
    "date_test = date_label[test_idx:]\n",
    "trade_stock_idx = 0\n",
    "\n",
    "dqn = DQNMLP2(n_stock, hidden_layers, n_actions, trade_stock_idx=trade_stock_idx)\n",
    "print (\"start!\")\n",
    "value, state = dqn.training(stock_data=input_data, n_epochs=10, init_cash=0, decay_eps=0.95, min_eps=0.1)"
   ]
  },
  {
   "cell_type": "code",
   "execution_count": 211,
   "metadata": {
    "collapsed": false
   },
   "outputs": [
    {
     "data": {
      "image/png": "[encoded data removed]",
      "text/plain": [
       "<matplotlib.figure.Figure at 0x7f9cf814f1d0>"
      ]
     },
     "metadata": {},
     "output_type": "display_data"
    }
   ],
   "source": [
    "n_data = len(value)\n",
    "input_data_tilde = input_data[-n_data:, trade_stock_idx] - input_data[-n_data, trade_stock_idx]\n",
    "# input_data_tilde = input_data_tilde - input_data_tilde[0]\n",
    "# plt.plot(date_label[-n_data:], input_data_tilde, label=\"market_move\")\n",
    "# plt.plot(date_label[-n_data:], value, label=\"DQN_profit\")\n",
    "# plt.gcf().autofmt_xdate()\n",
    "plt.plot(input_data_tilde, label=\"market_move\")\n",
    "plt.plot(value, label=\"DQN_profit\")\n",
    "plt.legend()\n",
    "plt.savefig(\"DQN_vs_Market.png\")"
   ]
  },
  {
   "cell_type": "code",
   "execution_count": 212,
   "metadata": {
    "collapsed": false
   },
   "outputs": [
    {
     "data": {
      "image/png": "[encoded data removed]",
      "text/plain": [
       "<matplotlib.figure.Figure at 0x7f9cf0de0a90>"
      ]
     },
     "metadata": {},
     "output_type": "display_data"
    }
   ],
   "source": [
    "n_data = len(value)\n",
    "beg = -300\n",
    "end = -250\n",
    "n_data = n_small\n",
    "state_tilde = np.array(state)[beg:end]\n",
    "in_idx = np.where(np.array(state_tilde) == 1)\n",
    "input_data_tilde = input_data[beg:end, trade_stock_idx] - input_data[beg, trade_stock_idx]\n",
    "plt.plot(input_data_tilde, label=\"market_move\")\n",
    "plt.scatter(in_idx, input_data_tilde[in_idx], label=\"in\")\n",
    "n_data = end - beg\n",
    "plt.xlim(0, n_data)\n",
    "plt.legend()\n",
    "plt.savefig(\"in_timing.png\")"
   ]
  },
  {
   "cell_type": "code",
   "execution_count": 206,
   "metadata": {
    "collapsed": false
   },
   "outputs": [
    {
     "name": "stdout",
     "output_type": "stream",
     "text": [
      "[0, 0, 0, 0, 0, 0, 1, 1, 0, 1, 1, 0, 0, 1, 0, 1, 1, 0, 0, 1, 0, 1, 0, 0, 1, 1, 0, 1, 0, 1, 0, 1, 0, 1, 0, 1, 0, 1, 0, 1, 0, 1, 0, 1, 0, 1, 0, 1, 0, 1, 0, 1, 0, 1, 0, 1, 0, 1, 0, 1, 0, 1, 0, 1, 0, 1, 0, 0, 1, 0, 1, 0, 1, 0, 1, 0, 1, 0, 1, 0, 1, 0, 1, 0, 1, 0, 1, 0, 1, 0, 1, 0, 1, 0, 1, 0, 1, 0, 1, 0, 1, 0, 1, 0, 1, 0, 1, 0, 1, 1, 0, 1, 0, 1, 0, 1, 0, 1, 0, 0, 1, 0, 1, 0, 1, 0, 1, 0, 1, 0, 1, 0, 1, 0, 1, 0, 1, 0, 1, 0, 1, 0, 1, 0, 1, 0, 0, 1, 0, 1, 0, 1, 0, 1, 0, 1, 0, 1, 0, 1, 1, 0, 1, 0, 1, 0, 1, 0, 1, 0, 1, 0, 1, 0, 1, 0, 1, 0, 1, 0, 1, 0, 1, 0, 1, 0, 1, 0, 1, 0, 1, 0, 1, 0, 1, 0, 1, 0, 1, 0, 0, 1, 0, 1, 1, 0, 1, 0, 1, 0, 1, 0, 1, 0, 1, 1, 0, 1, 0, 1, 0, 1, 0, 1, 0, 1, 0, 1, 0, 1, 0, 1, 0, 1, 0, 1, 0, 0, 1, 0, 1, 0, 1, 0, 1, 0, 1, 0, 0, 0, 1, 0, 1, 0, 1, 0, 1, 0, 1, 0, 1, 1, 0, 1, 0, 1, 0, 1, 1, 0, 1, 0, 1, 0, 1, 0, 1, 1, 0, 1, 0, 1, 0, 1, 0, 1, 0, 1, 0, 1, 0, 0, 1, 0, 0, 1, 0, 1, 0, 1, 0, 1, 0, 1, 0, 1, 0, 1, 0, 1, 0, 1, 0, 1, 0, 1, 0, 1, 0, 1, 0, 1, 0, 1, 0, 1, 0, 1, 0, 1, 0, 1, 0, 1, 0, 1, 0, 1, 0, 1, 1, 0, 1, 0, 1, 0, 1, 0, 1, 0, 1, 0, 1, 0, 1, 0, 1, 0, 1, 0, 1, 0, 1, 0, 1, 0, 1, 0, 1, 0, 1, 0, 1, 0, 1, 0, 1, 0, 1, 0, 1, 0, 1, 0, 1, 0, 1, 0, 1, 0, 1, 0, 1, 0, 1, 0, 1, 0, 1, 0, 1, 0, 1, 0, 1, 0, 1, 0, 1, 0, 1, 0, 1, 0, 1, 0, 1, 0, 1, 0, 1, 0, 1, 0, 1, 0, 1, 0, 1, 0, 1, 0, 1, 0, 1, 0, 1, 0, 1, 0, 1, 0, 1, 0, 1, 0, 0, 1, 0, 1, 0, 1, 0, 1, 0, 1, 0, 1, 1, 0, 1, 0, 0, 1, 0, 1, 0, 1, 0, 1, 0, 1, 0, 1, 0, 1, 0, 1, 0, 1, 0, 1, 1, 0, 1, 0, 1, 0, 1, 0, 1, 0, 1, 0, 1, 1, 0, 1, 0, 1, 0, 1, 0, 1, 0]\n"
     ]
    }
   ],
   "source": [
    "print(state)"
   ]
  },
  {
   "cell_type": "code",
   "execution_count": 138,
   "metadata": {
    "collapsed": false
   },
   "outputs": [
    {
     "data": {
      "image/png": "[encoded data removed]",
      "text/plain": [
       "<matplotlib.figure.Figure at 0x7f9db0158990>"
      ]
     },
     "metadata": {},
     "output_type": "display_data"
    }
   ],
   "source": [
    "fig, ax1 = plt.subplots()\n",
    "ax2=ax1.twinx()\n",
    "\n",
    "ax1.plot(date_label, input_data[:, 0])\n",
    "ax2.plot(date_label, state)\n",
    "plt.ylim(-0.5, 1.5)\n",
    "plt.gcf().autofmt_xdate()"
   ]
  },
  {
   "cell_type": "code",
   "execution_count": 175,
   "metadata": {
    "collapsed": false
   },
   "outputs": [
    {
     "name": "stdout",
     "output_type": "stream",
     "text": [
      "building model....\n",
      "start!\n",
      "training....\n",
      "t: 50, current value:-12.329999, is_in:0, cash:-12.329999, eps:0.100000\n",
      "elapsed time 7.22332000732\n",
      "t: 100, current value:5.419985, is_in:1, cash:-73.770017, eps:0.100000\n",
      "elapsed time 13.6477611065\n",
      "t: 150, current value:-0.630003, is_in:0, cash:-0.630003, eps:0.100000\n",
      "elapsed time 20.1749241352\n",
      "t: 200, current value:19.449969, is_in:0, cash:19.449969, eps:0.100000\n",
      "elapsed time 26.6628050804\n",
      "t: 250, current value:20.869905, is_in:0, cash:20.869905, eps:0.100000\n",
      "elapsed time 33.0890932083\n",
      "t: 300, current value:19.769930, is_in:1, cash:-93.210073, eps:0.100000\n",
      "elapsed time 39.504306078\n",
      "t: 350, current value:28.609939, is_in:0, cash:28.609939, eps:0.100000\n",
      "elapsed time 45.8806810379\n",
      "t: 400, current value:48.979928, is_in:1, cash:-92.720069, eps:0.100000\n",
      "elapsed time 52.3734490871\n",
      "t: 450, current value:41.299957, is_in:1, cash:-82.520043, eps:0.100000\n",
      "elapsed time 58.7566261292\n",
      "t: 500, current value:34.129957, is_in:1, cash:-78.070040, eps:0.100000\n",
      "elapsed time 65.2608201504\n",
      "Model saved in file: /jupyter/tomoaki/DQN/trained_params.ckpt\n",
      "elapsed time:  67.3815300465\n"
     ]
    }
   ],
   "source": [
    "test_idx = date_label.index(datetime.datetime(2015, 4, 1, 0, 0))\n",
    "trade_data = input_data[:, 0]\n",
    "n_history = 4\n",
    "n_stock = len(input_data[0])\n",
    "n_in = n_history * n_stock + 1\n",
    "n_hid1 = int(n_in * 0.5)\n",
    "n_hid2 = int(n_hid1 * 0.5)\n",
    "n_hid3 = int(n_hid1 * 0.5)\n",
    "n_actions=3\n",
    "hidden_layers = [n_hid1, n_hid2,n_hid3]\n",
    "train = input_data[:test_idx]\n",
    "test = input_data[test_idx:]\n",
    "date_test = date_label[test_idx:]\n",
    "trade_stock_idx = 0\n",
    "\n",
    "dqn = DQNMLP2(n_stock, hidden_layers, n_actions, trade_stock_idx=trade_stock_idx)\n",
    "print (\"start!\")\n",
    "value, state = dqn.training(stock_data=input_data, n_epochs=10, init_cash=0, decay_eps=0.95, min_eps=0.1)"
   ]
  },
  {
   "cell_type": "code",
   "execution_count": 176,
   "metadata": {
    "collapsed": false
   },
   "outputs": [
    {
     "data": {
      "text/plain": [
       "<matplotlib.legend.Legend at 0x7f9d584c2310>"
      ]
     },
     "execution_count": 176,
     "metadata": {},
     "output_type": "execute_result"
    },
    {
     "data": {
      "image/png": "[encoded data removed]",
      "text/plain": [
       "<matplotlib.figure.Figure at 0x7f9cc1d9ffd0>"
      ]
     },
     "metadata": {},
     "output_type": "display_data"
    }
   ],
   "source": [
    "n_data = len(value)\n",
    "input_data_tilde = input_data[-n_data:, trade_stock_idx] - input_data[-n_data, trade_stock_idx]\n",
    "plt.plot(input_data_tilde, label=\"market_move\")\n",
    "plt.plot(value, label=\"DQN_profit\")\n",
    "plt.legend()"
   ]
  },
  {
   "cell_type": "code",
   "execution_count": 188,
   "metadata": {
    "collapsed": false
   },
   "outputs": [
    {
     "ename": "TypeError",
     "evalue": "where() takes no keyword arguments",
     "output_type": "error",
     "traceback": [
      "\u001b[1;31m\u001b[0m",
      "\u001b[1;31mTypeError\u001b[0mTraceback (most recent call last)",
      "\u001b[1;32m<ipython-input-188-c4e2c974d5ac>\u001b[0m in \u001b[0;36m<module>\u001b[1;34m()\u001b[0m\n\u001b[1;32m----> 1\u001b[1;33m \u001b[1;32mprint\u001b[0m \u001b[1;33m(\u001b[0m\u001b[0mnp\u001b[0m\u001b[1;33m.\u001b[0m\u001b[0mwhere\u001b[0m\u001b[1;33m(\u001b[0m\u001b[0mstate\u001b[0m \u001b[1;33m=\u001b[0m \u001b[1;36m1\u001b[0m\u001b[1;33m)\u001b[0m\u001b[1;33m)\u001b[0m\u001b[1;33m\u001b[0m\u001b[0m\n\u001b[0m",
      "\u001b[1;31mTypeError\u001b[0m: where() takes no keyword arguments"
     ]
    }
   ],
   "source": [
    "print (np.where(state = 1))"
   ]
  },
  {
   "cell_type": "markdown",
   "metadata": {},
   "source": [
    "# try for another stock"
   ]
  },
  {
   "cell_type": "code",
   "execution_count": 180,
   "metadata": {
    "collapsed": false
   },
   "outputs": [
    {
     "name": "stdout",
     "output_type": "stream",
     "text": [
      "building model....\n",
      "start!\n",
      "training....\n",
      "t: 50, current value:-1.060000, is_in:0, cash:-1.060000, eps:0.100000\n",
      "elapsed time 7.02083611488\n",
      "t: 100, current value:-0.959999, is_in:0, cash:-0.959999, eps:0.100000\n",
      "elapsed time 13.59176898\n",
      "t: 150, current value:0.459998, is_in:0, cash:0.459998, eps:0.100000\n",
      "elapsed time 20.2141549587\n",
      "t: 200, current value:0.269995, is_in:0, cash:0.269995, eps:0.100000\n",
      "elapsed time 26.6654651165\n",
      "t: 250, current value:-0.200007, is_in:0, cash:-0.200007, eps:0.100000\n",
      "elapsed time 33.1138091087\n",
      "t: 300, current value:0.039998, is_in:1, cash:-34.430003, eps:0.100000\n",
      "elapsed time 39.7669200897\n",
      "t: 350, current value:3.239992, is_in:0, cash:3.239992, eps:0.100000\n",
      "elapsed time 46.3919939995\n",
      "t: 400, current value:7.430012, is_in:1, cash:-42.259987, eps:0.100000\n",
      "elapsed time 52.9416451454\n",
      "t: 450, current value:10.210024, is_in:1, cash:-42.949976, eps:0.100000\n",
      "elapsed time 59.3576290607\n",
      "t: 500, current value:8.990017, is_in:0, cash:8.990017, eps:0.100000\n",
      "elapsed time 65.9061570168\n",
      "Model saved in file: /jupyter/tomoaki/DQN/trained_params.ckpt\n",
      "elapsed time:  68.4231960773\n"
     ]
    }
   ],
   "source": [
    "test_idx = date_label.index(datetime.datetime(2015, 4, 1, 0, 0))\n",
    "trade_data = input_data[:, 0]\n",
    "n_history = 4\n",
    "n_stock = len(input_data[0])\n",
    "n_in = n_history * n_stock + 1\n",
    "n_hid1 = int(n_in * 0.5)\n",
    "n_hid2 = int(n_hid1 * 0.5)\n",
    "n_hid3 = int(n_hid1 * 0.5)\n",
    "n_actions=3\n",
    "hidden_layers = [n_hid1, n_hid2,n_hid3]\n",
    "train = input_data[:test_idx]\n",
    "test = input_data[test_idx:]\n",
    "date_test = date_label[test_idx:]\n",
    "trade_stock_idx = 10\n",
    "\n",
    "dqn = DQNMLP2(n_stock, hidden_layers, n_actions, trade_stock_idx=trade_stock_idx)\n",
    "print (\"start!\")\n",
    "value, state = dqn.training(stock_data=input_data, n_epochs=10, init_cash=0, decay_eps=0.95, min_eps=0.1)"
   ]
  },
  {
   "cell_type": "code",
   "execution_count": 182,
   "metadata": {
    "collapsed": false
   },
   "outputs": [
    {
     "data": {
      "text/plain": [
       "<matplotlib.legend.Legend at 0x7f9d1c6a4550>"
      ]
     },
     "execution_count": 182,
     "metadata": {},
     "output_type": "execute_result"
    },
    {
     "data": {
      "image/png": "[encoded data removed]",
      "text/plain": [
       "<matplotlib.figure.Figure at 0x7f9cf11d9350>"
      ]
     },
     "metadata": {},
     "output_type": "display_data"
    }
   ],
   "source": [
    "n_data = len(value)\n",
    "input_data_tilde = input_data[-n_data:, trade_stock_idx] - input_data[-n_data, trade_stock_idx]\n",
    "plt.plot(input_data_tilde, label=\"market_move\")\n",
    "plt.plot(value, label=\"DQN_profit\")\n",
    "plt.legend()"
   ]
  },
  {
   "cell_type": "code",
   "execution_count": 183,
   "metadata": {
    "collapsed": false
   },
   "outputs": [
    {
     "name": "stdout",
     "output_type": "stream",
     "text": [
      "building model....\n",
      "start!\n",
      "training....\n",
      "t: 50, current value:1.420005, is_in:0, cash:1.420005, eps:0.100000\n",
      "elapsed time 7.09949994087\n",
      "t: 100, current value:2.770007, is_in:0, cash:2.770007, eps:0.100000\n",
      "elapsed time 13.520512104\n",
      "t: 150, current value:0.430011, is_in:0, cash:0.430011, eps:0.100000\n",
      "elapsed time 20.0054810047\n",
      "t: 200, current value:0.380012, is_in:0, cash:0.380012, eps:0.100000\n",
      "elapsed time 26.6002149582\n",
      "t: 250, current value:-1.239987, is_in:0, cash:-1.239987, eps:0.100000\n",
      "elapsed time 33.1918101311\n",
      "t: 300, current value:-1.659985, is_in:1, cash:-54.149987, eps:0.100000\n",
      "elapsed time 39.7075109482\n",
      "t: 350, current value:-4.140000, is_in:0, cash:-4.140000, eps:0.100000\n",
      "elapsed time 46.1267390251\n",
      "t: 400, current value:-2.620008, is_in:1, cash:-53.830007, eps:0.100000\n",
      "elapsed time 52.6806111336\n",
      "t: 450, current value:-2.500009, is_in:1, cash:-54.190008, eps:0.100000\n",
      "elapsed time 59.292550087\n",
      "t: 500, current value:-3.860005, is_in:1, cash:-53.440007, eps:0.100000\n",
      "elapsed time 65.9225890636\n",
      "Model saved in file: /jupyter/tomoaki/DQN/trained_params.ckpt\n",
      "elapsed time:  68.1009140015\n"
     ]
    }
   ],
   "source": [
    "test_idx = date_label.index(datetime.datetime(2015, 4, 1, 0, 0))\n",
    "trade_data = input_data[:, 0]\n",
    "n_history = 4\n",
    "n_stock = len(input_data[0])\n",
    "n_in = n_history * n_stock + 1\n",
    "n_hid1 = int(n_in * 0.5)\n",
    "n_hid2 = int(n_hid1 * 0.5)\n",
    "n_hid3 = int(n_hid1 * 0.5)\n",
    "n_actions=3\n",
    "hidden_layers = [n_hid1, n_hid2,n_hid3]\n",
    "train = input_data[:test_idx]\n",
    "test = input_data[test_idx:]\n",
    "date_test = date_label[test_idx:]\n",
    "trade_stock_idx = 20\n",
    "\n",
    "dqn = DQNMLP2(n_stock, hidden_layers, n_actions, trade_stock_idx=trade_stock_idx)\n",
    "print (\"start!\")\n",
    "value, state = dqn.training(stock_data=input_data, n_epochs=10, init_cash=0, decay_eps=0.95, min_eps=0.1)"
   ]
  },
  {
   "cell_type": "code",
   "execution_count": 184,
   "metadata": {
    "collapsed": false
   },
   "outputs": [
    {
     "data": {
      "text/plain": [
       "<matplotlib.legend.Legend at 0x7f9cc0870b10>"
      ]
     },
     "execution_count": 184,
     "metadata": {},
     "output_type": "execute_result"
    },
    {
     "data": {
      "image/png": "[encoded data removed]",
      "text/plain": [
       "<matplotlib.figure.Figure at 0x7f9cc0869dd0>"
      ]
     },
     "metadata": {},
     "output_type": "display_data"
    }
   ],
   "source": [
    "n_data = len(value)\n",
    "input_data_tilde = input_data[-n_data:, trade_stock_idx] - input_data[-n_data, trade_stock_idx]\n",
    "plt.plot(input_data_tilde, label=\"market_move\")\n",
    "plt.plot(value, label=\"DQN_profit\")\n",
    "plt.legend()"
   ]
  },
  {
   "cell_type": "code",
   "execution_count": 195,
   "metadata": {
    "collapsed": false
   },
   "outputs": [
    {
     "data": {
      "text/plain": [
       "<matplotlib.legend.Legend at 0x7f9d1c512fd0>"
      ]
     },
     "execution_count": 195,
     "metadata": {},
     "output_type": "execute_result"
    },
    {
     "data": {
      "image/png": "[encoded data removed]",
      "text/plain": [
       "<matplotlib.figure.Figure at 0x7f9cc2250fd0>"
      ]
     },
     "metadata": {},
     "output_type": "display_data"
    }
   ],
   "source": [
    "n_data = len(value)\n",
    "state_tilde = np.array(state)[-n_data:]\n",
    "in_idx = np.where(np.array(state_tilde) == 1)\n",
    "input_data_tilde = input_data[-n_data:, trade_stock_idx] - input_data[-n_data, trade_stock_idx]\n",
    "plt.plot(input_data_tilde, label=\"market_move\")\n",
    "plt.plot(value, label=\"DQN_profit\")\n",
    "plt.scatter(in_idx, input_data_tilde[in_idx], label=\"in\")\n",
    "plt.xlim(0, n_data)\n",
    "plt.legend()"
   ]
  },
  {
   "cell_type": "markdown",
   "metadata": {},
   "source": [
    "# CNN"
   ]
  },
  {
   "cell_type": "code",
   "execution_count": null,
   "metadata": {
    "collapsed": true
   },
   "outputs": [],
   "source": [
    "def weight_variable(self, shape):\n",
    "    initial = tf.truncated_normal(shape, stddev=1.0)\n",
    "    return tf.Variable(initial, name=\"weight\")\n",
    "        \n",
    "def bias_variable(self, shape):\n",
    "    initial = tf.constant(0.0, shape=shape)\n",
    "    return tf.Variable(initial, name=\"bias\")\n",
    "        \n",
    "def batch_normalization(self, input_data, shape=None, gamma=None, beta=None):\n",
    "    # input should be hidden_dim\n",
    "    eps = 1e-5\n",
    "    if gamma is None:\n",
    "        gamma = tf.Variable(tf.constant(1.0, shape=shape))\n",
    "    if beta is None:\n",
    "        beta = tf.Variable(tf.constant(0.0, shape=shape))\n",
    "    mean, variance = tf.nn.moments(input_data, [0])\n",
    "    return gamma * (input_data - mean) / tf.sqrt(variance + eps) + beta\n",
    "\n",
    "class FullyConnected(object):\n",
    "    def __init__(self, n_in, n_out, activation=tf.nn.relu):\n",
    "        self.n_in = n_in\n",
    "        self.n_out = n_out\n",
    "        self.activation = activation\n",
    "        self.W = weight_variable([n_in, n_out])\n",
    "        self.b = bias_variable([n_out])\n",
    "        \n",
    "    def set_input(self, input):\n",
    "        self.input = input\n",
    "        x = tf.matmul(self.input, W) + b\n",
    "        normalized_x = batch_normalization(x, [n_out])\n",
    "        self.output = self.activation(normalized_x)\n",
    "        return self.output\n",
    "\n",
    "class Convolution(object):\n",
    "    def __init__(self, n_in, filter_size, pool_size, n_out):\n",
    "        \"\"\"one dimentional CNN, so filter_size and pool_size sould be integer\"\"\"\n",
    "        self.n_in = n_in\n",
    "        self.filter_shape = filter_shape\n",
    "        self.n_out = n_out\n",
    "        \n",
    "    def set_input(self, input):\n",
    "        self.input = input\n",
    "        x = tf.nn.conv2d(self.input, self.W, strides=[1, 1, self.pool_size, 1], padding=\"SAME\")\n",
    "        normalized_x = batch_normalization(x, shape)\n",
    "        z = self.activation(normalized_x)\n",
    "        self.output = tf.nn.max_pool(z, ksize=[1, 1, self.pool_size, 1], padding=\"SAME\")\n",
    "        \n",
    "def conv2d(x, W):\n",
    "  return tf.nn.conv2d(x, W, strides=[1, 1, 1, 1], padding='SAME')\n",
    "\n",
    "def max_pool_2x2(x):\n",
    "  return tf.nn.max_pool(x, ksize=[1, 2, 2, 1],\n",
    "                        strides=[1, 2, 2, 1], padding='SAME')\n",
    "        \n"
   ]
  }
 ],
 "metadata": {
  "kernelspec": {
   "display_name": "Python 2",
   "language": "python",
   "name": "python2"
  },
  "language_info": {
   "codemirror_mode": {
    "name": "ipython",
    "version": 2
   },
   "file_extension": ".py",
   "mimetype": "text/x-python",
   "name": "python",
   "nbconvert_exporter": "python",
   "pygments_lexer": "ipython2",
   "version": "2.7.6"
  }
 },
 "nbformat": 4,
 "nbformat_minor": 0
}
