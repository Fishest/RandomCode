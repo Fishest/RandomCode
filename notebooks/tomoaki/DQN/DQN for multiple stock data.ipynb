{
 "cells": [
  {
   "cell_type": "code",
   "execution_count": 1,
   "metadata": {
    "collapsed": true
   },
   "outputs": [],
   "source": [
    "#generic\n",
    "%matplotlib inline\n",
    "from __future__ import print_function\n",
    "\n",
    "import numpy as np\n",
    "import time\n",
    "import tensorflow as tf\n",
    "# import quandl \n",
    "import matplotlib.pyplot as plt\n",
    "\n",
    "from yahoo_finance import Share"
   ]
  },
  {
   "cell_type": "code",
   "execution_count": 2,
   "metadata": {
    "collapsed": true
   },
   "outputs": [],
   "source": [
    "def get_data_by_key(key, data):\n",
    "    data_it = iter(data)\n",
    "    return_data = []\n",
    "    flag = True\n",
    "    for d in data_it:\n",
    "        if key !=\"Date\":\n",
    "            return_data.append(float(d[key]))\n",
    "        else:\n",
    "            return_data.append(d[key])\n",
    "        \n",
    "    return np.array(return_data)"
   ]
  },
  {
   "cell_type": "code",
   "execution_count": 3,
   "metadata": {
    "collapsed": true
   },
   "outputs": [],
   "source": [
    "def get_data_by_list_fixed(name_list, start_date, end_date, data_type=\"Open\"):\n",
    "    share_list = []\n",
    "    new_name_list = []\n",
    "    for name in name_list:\n",
    "        try:\n",
    "            share_list.append(Share(name))\n",
    "            new_name_list.append(name)\n",
    "        except:\n",
    "            pass\n",
    "    \n",
    "    stock_data_list = []\n",
    "    date = []\n",
    "    flag = True\n",
    "    N_data = 0\n",
    "    fail_name_list = []\n",
    "    ret_name_list = []\n",
    "    for idx, share in enumerate(share_list):\n",
    "        name = new_name_list[idx]\n",
    "        try:\n",
    "            hist_data = share.get_historical(start_date=start_date, end_date=end_date)\n",
    "            stock_data = map(float, get_data_by_key(key=data_type, data=hist_data))\n",
    "            n_data = len(stock_data)\n",
    "            if n_data == 0:\n",
    "                fail_name_list.append(name)\n",
    "            date.append(get_data_by_key(key='Date', data=hist_data))\n",
    "            stock_data_list.append(stock_data)\n",
    "            ret_name_list.append(name)\n",
    "        except:\n",
    "            pass\n",
    "    print (\"fail_name_list: \", fail_name_list)\n",
    "    return np.array(stock_data_list).T, date, ret_name_list"
   ]
  },
  {
   "cell_type": "code",
   "execution_count": 4,
   "metadata": {
    "collapsed": false
   },
   "outputs": [
    {
     "name": "stdout",
     "output_type": "stream",
     "text": [
      "269\n"
     ]
    }
   ],
   "source": [
    "energy = [\"PTR\", \"XOM\", \"CVX\", \"RDS-A\", \"BP\", \"TOT\", \"SLB\", \"KMI\", \"COP\", \"CEO\", \n",
    "          \"E\", \"STO\", \"OXY\", \"PBR\", \"EOG\", \"APC\", \"SU\", \"ENB\", \"HAL\", \"WMB\"]\n",
    "financial = [\"WFC\", \"JPM\", \"HSBC\", \"BAC\", \"C\", \"SAN\", \"MTU\", \"RY\", \"WBK\", \"TD\", \"GS\", \n",
    "             \"LYG\", \"AXP\", \"AIG\", \"MS\", \"ITUB\", \"BCS\", \"BBVA\"]\n",
    "healthcare = [\"NVS\", \"JNJ\", \"PFE\", \"MRK\", \"GILD\", \"SNY\", \"AMGN\", \"NVO\", \"GSK\", \"UNH\",\n",
    "             \"MDT\", \"BMY\", \"CELG\", \"BIIB\", \"AZN\", \"LLY\", \"ABT\", \"AGN\", \"VRX\", \"TEVA\",\n",
    "             \"TMO\", \"SHPG\", \"REGN\"]\n",
    "buisiness = [\"ACN\", \"LMT\", \"CNI\", \"FDX\", \"DAL\", \"CSX\", \"AAL\", \"CP\", \"NSC\", \"NOC\", \"LUV\"]\n",
    "telecom = [\"CHL\", \"VZ\", \"T\", \"VOD\", \"NTT\", \"AMX\", \"CHA\", \"BT\", \"CHU\", \"ORAN\", \"BCE\",\n",
    "           \"CHT\", \"SKM\", \"TI\", \"TU\", \"S\", \"TLK\", \"DUK\", \"NGG\", \"D\", \"SO\", \"EXC\", \"KEP\",\n",
    "          \"AEP\", \"SRE\", \"PCG\", \"HNP\", \"PPL\", \"PEG\", \"EIX\", \"ETP\", \"ED\", \"ENI\", \"XEL\", \"ES\", \"FE\"]\n",
    "hardware = [\"AAPL\", \"ORCL\", \"IBM\", \"INTC\", \"CSCO\", \"TSM\", \"QCOM\", \"HPQ\", \"TXN\", \"EMC\",\n",
    "           \"CAJ\", \"ASML\", \"ERIC\", \"SNE\", \"AVGO\", \"MU\", \"GLW\", \"NXPI\", \"NOK\",\n",
    "           \"AMAT\", \"WDC\", \"WIT\", \"ADI\", \"STX\", \"APH\"]\n",
    "software = [\"MSFT\", \"GOOGL\", \"BIDU\", \"EBAY\", \"SAP\", \"CRM\", \"YHOO\", \"VMW\",\n",
    "            \"ADBE\", \"CTSH\", \"INFY\", \"INTU\", \"LNKD\", \"RHT\", \"NTES\", \"CHKP\", \n",
    "            \"CA\", \"ADSK\", \"AKAM\", \"NVDA\"]\n",
    "industrial = [\"GE\", \"V\", \"MA\", \"UTX\", \"MMM\", \"BA\", \"UNP\", \"UPS\", \"HON\", \"DHR\", \"CAT\", \n",
    "              \"ABB\", \"GD\", \"ADP\", \"EMR\", \"ITW\", \"ECL\", \"TEL\", \"PCAR\", \"WM\"]\n",
    "manufacturing = [\"TM\", \"HMC\", \"F\", \"GM\", \"JCI\", \"TSLA\", \"TTM\", \"CMI\", \"DLPH\", \"MGA\",\n",
    "                \"CMI\", \"DLPH\", \"MGA\", \"GPC\", \"BWA\", \"HOG\", \"ALV\", \"HAR\", \"LEA\", \"LKQ\", \n",
    "                 \"WBC\", \"GT\", \"FCAU\", \"NSANY\", \"NAV\"]\n",
    "consumer = [\"PG\", \"BUD\", \"KO\", \"PEP\", \"UL\", \"PM\", \"BTI\", \"MO\", \"ABEV\", \"DEO\", \"MDLZ\",\n",
    "            \"CL\", \"MON\", \"MCK\", \"KMB\", \"WHR\", \"DIS\", \"CMCSA\", \"FOXA\", \"TWX\", \"TWC\",\n",
    "           \"DISH\", \"CBS\", \"DISCA\", \"TV\", \"CHTR\", \"QVCA\", \"OMC\", \"NLSN\", \n",
    "           \"PSO\", \"SJR\", \"NFLX\"]\n",
    "diversified = [\"BRK-A\", \"BRK-B\", \"UTX\", \"BC\", \"RTN\", \"OLN\", \"ITT\", \"MSBHY\", \"KWHIY\", \n",
    "               \"ABB\", \"IEP\", \"GE\"]\n",
    "retailing = [\"WMT\", \"AMZN\", \"HD\", \"MCD\", \"NKE\", \"SBUX\", \"CVS\", \"WBA\", \"PCLN\", \"COST\", \n",
    "            \"TGT\", \"TJX\", \"LVS\", \"YUM\", \"CCL\", \"LUX\", \"DG\", \"M\", \"AZO\", \"ROST\", \"CMG\", \"GPS\", \n",
    "            \"DLTR\", \"RCL\", \"KSS\", \"HOT\", \"JWN\"]\n",
    "\n",
    "input_list = energy + financial + healthcare + buisiness + telecom\n",
    "+ hardware + software + industrial + manufacturing + consumer + diversified + retailing\n",
    "print (len(input_list))"
   ]
  },
  {
   "cell_type": "code",
   "execution_count": 5,
   "metadata": {
    "collapsed": false
   },
   "outputs": [
    {
     "name": "stdout",
     "output_type": "stream",
     "text": [
      "Started!!\n",
      "fail_name_list:  ['ENI', 'TWC']\n",
      "time for getting training_data: 1021.55537295\n"
     ]
    }
   ],
   "source": [
    "print (\"Started!!\")\n",
    "\n",
    "st = time.time()\n",
    "start_date=\"2014-04-01\"\n",
    "end_date=\"2016-04-01\"\n",
    "input_data, date, input_list = get_data_by_list_fixed(input_list, start_date=start_date, end_date=end_date) \n",
    "elapsed = time.time() - st\n",
    "print (\"time for getting training_data:\", elapsed)"
   ]
  },
  {
   "cell_type": "code",
   "execution_count": 6,
   "metadata": {
    "collapsed": false
   },
   "outputs": [
    {
     "name": "stdout",
     "output_type": "stream",
     "text": [
      "(269,)\n"
     ]
    }
   ],
   "source": [
    "print (input_data.shape)"
   ]
  },
  {
   "cell_type": "code",
   "execution_count": 19,
   "metadata": {
    "collapsed": false
   },
   "outputs": [
    {
     "name": "stdout",
     "output_type": "stream",
     "text": [
      "217\n"
     ]
    }
   ],
   "source": [
    "length = len(input_data[0])\n",
    "fail_idx = []\n",
    "for i in xrange(len(input_data)):\n",
    "    if length != len(input_data[i]):\n",
    "        fail_idx.append(i)\n",
    "        print (i)"
   ]
  },
  {
   "cell_type": "code",
   "execution_count": 20,
   "metadata": {
    "collapsed": false
   },
   "outputs": [
    {
     "data": {
      "text/plain": [
       "list"
      ]
     },
     "execution_count": 20,
     "metadata": {},
     "output_type": "execute_result"
    }
   ],
   "source": [
    "type(list(input_data))"
   ]
  },
  {
   "cell_type": "code",
   "execution_count": 21,
   "metadata": {
    "collapsed": false
   },
   "outputs": [],
   "source": [
    "input_data = list(input_data)\n",
    "count = 0\n",
    "for i in fail_idx:\n",
    "    idx = i - count\n",
    "    del input_data[idx]\n",
    "    del input_list[idx]"
   ]
  },
  {
   "cell_type": "code",
   "execution_count": 22,
   "metadata": {
    "collapsed": false
   },
   "outputs": [],
   "source": [
    "new_input_data = []\n",
    "for i in xrange(len(input_data)):\n",
    "    new_input_data.append(input_data[i])"
   ]
  },
  {
   "cell_type": "code",
   "execution_count": 23,
   "metadata": {
    "collapsed": false
   },
   "outputs": [
    {
     "name": "stdout",
     "output_type": "stream",
     "text": [
      "(266, 505)\n"
     ]
    }
   ],
   "source": [
    "new_input_data = np.array(new_input_data)\n",
    "print(new_input_data.shape)"
   ]
  },
  {
   "cell_type": "code",
   "execution_count": 24,
   "metadata": {
    "collapsed": true
   },
   "outputs": [],
   "source": [
    "input_data = new_input_data.T"
   ]
  },
  {
   "cell_type": "code",
   "execution_count": 25,
   "metadata": {
    "collapsed": false
   },
   "outputs": [
    {
     "name": "stdout",
     "output_type": "stream",
     "text": [
      "(505, 266)\n"
     ]
    }
   ],
   "source": [
    "print(input_data.shape)"
   ]
  },
  {
   "cell_type": "code",
   "execution_count": 26,
   "metadata": {
    "collapsed": false
   },
   "outputs": [
    {
     "data": {
      "text/plain": [
       "266"
      ]
     },
     "execution_count": 26,
     "metadata": {},
     "output_type": "execute_result"
    }
   ],
   "source": [
    "len(input_list)"
   ]
  },
  {
   "cell_type": "code",
   "execution_count": 27,
   "metadata": {
    "collapsed": false
   },
   "outputs": [
    {
     "data": {
      "text/plain": [
       "'PTR'"
      ]
     },
     "execution_count": 27,
     "metadata": {},
     "output_type": "execute_result"
    }
   ],
   "source": [
    "input_list[0]"
   ]
  },
  {
   "cell_type": "markdown",
   "metadata": {},
   "source": [
    "### convert date label for plot"
   ]
  },
  {
   "cell_type": "code",
   "execution_count": 28,
   "metadata": {
    "collapsed": true
   },
   "outputs": [],
   "source": [
    "import datetime\n",
    "\n",
    "def convert_time_format(date):\n",
    "    date_tilde = date.split(\"-\")\n",
    "    date_tilde = map(int, date_tilde)\n",
    "    return datetime.datetime(*date_tilde)"
   ]
  },
  {
   "cell_type": "code",
   "execution_count": 29,
   "metadata": {
    "collapsed": true
   },
   "outputs": [],
   "source": [
    "date_each = date[0]"
   ]
  },
  {
   "cell_type": "code",
   "execution_count": 30,
   "metadata": {
    "collapsed": false
   },
   "outputs": [],
   "source": [
    "date_label=[]\n",
    "for i in xrange(len(date_each)):\n",
    "    date_label.append(convert_time_format(date_each[i]))"
   ]
  },
  {
   "cell_type": "code",
   "execution_count": 31,
   "metadata": {
    "collapsed": false
   },
   "outputs": [
    {
     "data": {
      "image/png": "[encoded data removed]",
      "text/plain": [
       "<matplotlib.figure.Figure at 0x7f34bc565d10>"
      ]
     },
     "metadata": {},
     "output_type": "display_data"
    }
   ],
   "source": [
    "plt.plot(date_label, input_data[:, 0])\n",
    "plt.gcf().autofmt_xdate()"
   ]
  },
  {
   "cell_type": "markdown",
   "metadata": {},
   "source": [
    "If we take all of actions into consideration, action space has huge dimention. So, I will just think about short, call, and hold for 'PTR' as all actions."
   ]
  },
  {
   "cell_type": "code",
   "execution_count": 13,
   "metadata": {
    "collapsed": true
   },
   "outputs": [],
   "source": [
    "class DQNMLP(object):\n",
    "    def __init__(self, layers, activation=tf.sigmoid,  gam=0.95, is_initialize=True):\n",
    "        \"\"\"initialized approximate value function\n",
    "        \n",
    "        Args:\n",
    "            layers(list): list of the number of nodes in each layer\n",
    "            gam (float): decay rate\n",
    "            is_intialized(optional) (bool): if True, the graph will be initialized\n",
    "        \"\"\"\n",
    "        print (\"building model....\")\n",
    "        self.layers = layers\n",
    "        self.activation = activation\n",
    "        \n",
    "        # intialize graph to avoid conflications\n",
    "        if is_initialize is True:\n",
    "            sess  = tf.InteractiveSession()\n",
    "            tf.reset_default_graph()\n",
    "            sess.close()\n",
    "            \n",
    "        self._action = tf.placeholder(tf.int32, name= \"action\")\n",
    "        self._cash = tf.placeholder(tf.float32, name=\"cash\")\n",
    "        self._stock = tf.placeholder(tf.int32, name=\"stock\")\n",
    "        self._price = tf.placeholder(tf.float32, [layers[0] - 3], name=\"price\")\n",
    "        \n",
    "        # change format for training\n",
    "        action_tilde = tf.to_float(self._action, name=\"action_tilde\")\n",
    "        stock_tilde = tf.to_float(self._stock, name=\"stock_tilde\")\n",
    "        price_tilde = tf.unpack(self._price)\n",
    "        input_list = [action_tilde] + [stock_tilde] + [self._cash] + price_tilde\n",
    "        input_tensor= tf.pack(input_list)\n",
    "        \n",
    "        self._input = tf.reshape(input_tensor, shape=[1, layers[0]], name=\"input\")\n",
    "        self._target = tf.placeholder(tf.float32, [1, 1], name=\"target\")\n",
    "        \n",
    "        # normalization for input\n",
    "        shape = [self.layers[0]]\n",
    "        gamma = tf.Variable(tf.constant(1.0, shape=shape), name=\"gamma\")\n",
    "        beta = tf.Variable(tf.constant(0.0, shape=shape), name=\"beta\")\n",
    "        self.normalized_input = self.batch_normalization(self._input, shape, gamma, beta)\n",
    "                \n",
    "        # keep parameters for pretraining\n",
    "        self.gamma_list = []\n",
    "        self.beta_list = []\n",
    "        self.gamma_list.append(gamma)\n",
    "        self.beta_list.append(beta)\n",
    "        \n",
    "        # parameters\n",
    "        self.W_list = []\n",
    "        self.b_list = []\n",
    "        \n",
    "        # the name of variable scope will be layer0, layer1, ...\n",
    "        x = self.normalized_input\n",
    "        for i_layer in xrange(len(self.layers) - 1):\n",
    "            with tf.variable_scope(\"layer%d\" % i_layer):\n",
    "                n_in = self.layers[i_layer]\n",
    "                n_out = self.layers[i_layer + 1]\n",
    "                W = self.weight_variable([n_in, n_out])\n",
    "                b = self.bias_variable([n_out])\n",
    "                \n",
    "                # keep parameters for pretraining\n",
    "                self.W_list.append(W)\n",
    "                self.b_list.append(b)\n",
    "                \n",
    "                z = tf.matmul(x, W) + b\n",
    "                \n",
    "            # we will not apply activation function for the last layer\n",
    "            if i_layer == len(self.layers) - 2:\n",
    "                self._Q = z\n",
    "            else:\n",
    "                shape = [self.layers[i_layer + 1]]\n",
    "                gamma = tf.Variable(tf.constant(1.0, shape=shape), name=\"gamma\")\n",
    "                beta = tf.Variable(tf.constant(0.0, shape=shape), name=\"beta\")\n",
    "                \n",
    "                # keep parameters for pretraining\n",
    "                self.gamma_list.append(gamma)\n",
    "                self.beta_list.append(beta)\n",
    "                \n",
    "                normalized_z = self.batch_normalization(z, shape, gamma, beta)\n",
    "                x = self.activation(normalized_z)\n",
    "        \n",
    "        # training graph\n",
    "        self._learning_rate = tf.placeholder(tf.float32, shape=[], name=\"learning_rate\")\n",
    "        self.loss = tf.reduce_mean(tf.square(self._Q - self._target))\n",
    "        # fixate on using this optimizer, otherwize, otherwise endup using unecessary graph nose\n",
    "        self.optimizer = tf.train.AdamOptimizer(self._learning_rate, name=\"Optimizer\")\n",
    "        self.train = self.optimizer.minimize(self.loss)   \n",
    "        \n",
    "    def weight_variable(self, shape):\n",
    "        initial = tf.truncated_normal(shape, stddev=1.0)\n",
    "        return tf.Variable(initial, name=\"weight\")\n",
    "        \n",
    "    def bias_variable(self, shape):\n",
    "        initial = tf.constant(0.0, shape=shape)\n",
    "        return tf.Variable(initial, name=\"bias\")\n",
    "        \n",
    "    def batch_normalization(self, input, shape, gamma=None, beta=None):\n",
    "        # input should be hidden_dim\n",
    "        eps = 1e-5\n",
    "        if gamma is None:\n",
    "            gamma = tf.Variable(tf.constant(1.0, shape=shape))\n",
    "        if beta is None:\n",
    "            beta = tf.Variable(tf.constant(0.0, shape=shape))\n",
    "        mean, variance = tf.nn.moments(input, [0])\n",
    "        return gamma * (input - mean) / tf.sqrt(variance + eps) + beta\n",
    "    \n",
    "    def eps_greedy(self, eps, cash, stock, price, sess):\n",
    "        \"\"\"Return action chosen by greedy algorithm\"\"\"\n",
    "        u = np.random.uniform()\n",
    "        actions = [-1, 0, 1]\n",
    "        if u < 1 - eps:\n",
    "            q_list = []\n",
    "            for a in actions:\n",
    "                q = self._Q.eval(session=sess, \n",
    "                                 feed_dict={self._action: a, \n",
    "                                            self._cash: cash,\n",
    "                                            self._stock: stock,\n",
    "                                            self._price: price})\n",
    "                q_list.append(q)\n",
    "            action = actions[np.argmax(q_list)]\n",
    "        else:\n",
    "            action = actions[np.random.randint(0, 3)]\n",
    "        \n",
    "        return action\n",
    "                \n",
    "    \n",
    "    def training(self, whole_stock, trade_stock, n_memory=20, eps=0.1, init_cash=10000, init_stock=0, gam=0.95, learning_rate=1e-4, n_epochs=100):\n",
    "        \"\"\"training DQN which consider three actions; sell, buy, hold\n",
    "              money and n_stock are considered as state variable\n",
    "        \n",
    "        Args:\n",
    "            data (list): stock price for one company\n",
    "            n_memory (int): the number of data that is used for Experience Replay\n",
    "            eps (float): the epsilon of greedy epsilon used for behavior policy\n",
    "            init_cash (float): initial available cash\n",
    "            init_stock (int): the number of stock data \n",
    "        \"\"\"\n",
    "        init_op = tf.initialize_all_variables()\n",
    "        saver = tf.train.Saver()\n",
    "        T = len(whole_stock)\n",
    "        print_freq = int(n_epochs / 10)\n",
    "        \n",
    "        print (\"training....\")\n",
    "        st = time.time()\n",
    "        with tf.Session() as sess:\n",
    "            sess.run(init_op)\n",
    "            value_list  = []\n",
    "            for epoch in xrange(n_epochs):\n",
    "                lr = learning_rate\n",
    "                cash = init_cash\n",
    "                stock = init_stock\n",
    "                price = whole_stock[0]\n",
    "                # memory pool used for Experience Replay\n",
    "                # length should be less than n_memory\n",
    "                memory = []\n",
    "                for t in xrange(T - 1):\n",
    "                    # select action with e-greedy\n",
    "                    # but:+1, hold: 0, sell -1\n",
    "                    action = self.eps_greedy(eps, cash, stock, price, sess)\n",
    "                    new_cash = cash - trade_stock[t] * action\n",
    "                    new_stock = stock + action\n",
    "                    new_price = whole_stock[t + 1]\n",
    "                    # add memory pools whose capacity is up to n_memory\n",
    "                    reward = new_stock * (trade_stock[t + 1] - trade_stock[t])\n",
    "                    transition = [cash, stock, price, action, reward, new_cash, new_stock, new_price]\n",
    "                    if len(memory) == n_memory:\n",
    "                        del memory[0]\n",
    "                    memory.append(transition)\n",
    "                    cash = new_cash\n",
    "                    stock = new_stock\n",
    "                    price = new_price\n",
    "                    \n",
    "                    # select transition from pool\n",
    "                    idx = np.random.randint(0, len(memory))\n",
    "                    trans = memory[idx]\n",
    "                    c = trans[0]\n",
    "                    s = trans[1]\n",
    "                    p = trans[2]\n",
    "                    a = trans[3]\n",
    "                    r = trans[4]\n",
    "                    new_c = trans[5]\n",
    "                    new_s = trans[6]\n",
    "                    new_p = trans[7]\n",
    "                    new_a = self.eps_greedy(eps, new_c, new_s, new_p, sess)\n",
    "                    q = self._Q.eval(session=sess, \n",
    "                                     feed_dict={self._action: new_a, \n",
    "                                                self._cash: new_c,\n",
    "                                                self._stock: new_s,\n",
    "                                                self._price: new_p})\n",
    "                    target = q + r\n",
    "                    sess.run(self.train, \n",
    "                             feed_dict={self._action: a, \n",
    "                                        self._cash: c,\n",
    "                                        self._stock: s,\n",
    "                                        self._price: p,\n",
    "                                        self._target: target,\n",
    "                                        self._learning_rate:lr})  \n",
    "                    \n",
    "                value = cash + trade_stock[-1] * stock\n",
    "                value_list.append(value)\n",
    "                if epoch % print_freq == 0:\n",
    "                    print (\"epoch: %d, final value:%f, stock:%d, cash:%f\" % (epoch, value, stock, cash))\n",
    "                    print (\"elapsed time:\", time.time() - st)\n",
    "           \n",
    "            # save_path = saver.save(sess, \"/jupyter/tomoaki/DQN/trained_params.ckpt\")\n",
    "            save_path = saver.save(sess, \"/home/tomoaki/alpaca/notebooks//DQN/trained_params.ckpt\")\n",
    "            print(\"Model saved in file: %s\" % save_path)\n",
    "           \n",
    "        return value_list"
   ]
  },
  {
   "cell_type": "code",
   "execution_count": 14,
   "metadata": {
    "collapsed": false
   },
   "outputs": [
    {
     "name": "stdout",
     "output_type": "stream",
     "text": [
      "building model....\n",
      "start!\n",
      "training....\n",
      "epoch: 0, final value:7431.091353, stock:-453, cash:57319.979994\n",
      "elapsed time: 10.2633569241\n",
      "epoch: 10, final value:6733.801311, stock:-455, cash:56842.949946\n",
      "elapsed time: 103.956012011\n",
      "epoch: 20, final value:7035.711360, stock:-450, cash:56594.210010\n",
      "elapsed time: 194.523215055\n",
      "epoch: 30, final value:7018.261352, stock:-458, cash:57457.799978\n",
      "elapsed time: 284.793434858\n",
      "epoch: 40, final value:6497.031360, stock:-460, cash:57156.829980\n",
      "elapsed time: 375.126395941\n",
      "epoch: 50, final value:7049.851310, stock:-447, cash:56277.959969\n",
      "elapsed time: 465.628313065\n",
      "epoch: 60, final value:6984.651278, stock:-446, cash:56102.629940\n",
      "elapsed time: 555.920902967\n",
      "epoch: 70, final value:7106.201348, stock:-457, cash:57435.609977\n",
      "elapsed time: 646.327120066\n",
      "epoch: 80, final value:6490.331236, stock:-438, cash:54727.269922\n",
      "elapsed time: 736.316452026\n",
      "epoch: 90, final value:6947.161374, stock:-467, cash:58377.869973\n",
      "elapsed time: 827.662651062\n",
      "Model saved in file: /home/tomoaki/alpaca/notebooks//DQN/trained_params.ckpt\n",
      "computation time: 909.320077896\n"
     ]
    }
   ],
   "source": [
    "test_idx = date_label.index(datetime.datetime(2015, 4, 1, 0, 0))\n",
    "trade_data = input_data[:, 0]\n",
    "n_in = len(input_data[0]) + 3\n",
    "n_hid1 = int(n_in * 0.5)\n",
    "n_hid2 = int(n_hid1 * 0.5)\n",
    "n_hid3 = int(n_hid1 * 0.5)\n",
    "n_hid4 = int(n_hid1 * 0.5)\n",
    "n_out = 1\n",
    "layers = [n_in, n_hid1, n_hid2,n_hid3, n_hid4, n_out]\n",
    "train = input_data[:test_idx]\n",
    "test = input_data[test_idx:]\n",
    "date_test = date_label[test_idx:]\n",
    "\n",
    "dqn = DQNMLP(layers=layers)\n",
    "print (\"start!\")\n",
    "st = time.time()\n",
    "value = dqn.training(whole_stock=input_data, trade_stock=trade_data, n_epochs=100, init_cash=10000)\n",
    "elapsed = time.time() - st\n",
    "print (\"computation time:\", elapsed)"
   ]
  },
  {
   "cell_type": "markdown",
   "metadata": {},
   "source": [
    "As a comparison, we do the same thing using CPU"
   ]
  },
  {
   "cell_type": "code",
   "execution_count": 49,
   "metadata": {
    "collapsed": false
   },
   "outputs": [],
   "source": [
    "class DQNMLP_cpu(object):\n",
    "    def __init__(self, layers, activation=tf.sigmoid,  gam=0.95, is_initialize=True):\n",
    "        \"\"\"initialized approximate value function\n",
    "        \n",
    "        Args:\n",
    "            layers(list): list of the number of nodes in each layer\n",
    "            gam (float): decay rate\n",
    "            is_intialized(optional) (bool): if True, the graph will be initialized\n",
    "        \"\"\"\n",
    "        print (\"building model....\")\n",
    "        self.layers = layers\n",
    "        self.activation = activation\n",
    "        \n",
    "        # intialize graph to avoid conflications\n",
    "        if is_initialize is True:\n",
    "            sess  = tf.InteractiveSession()\n",
    "            tf.reset_default_graph()\n",
    "            sess.close()\n",
    "        with tf.device('/cpu:0'):   \n",
    "            self._action = tf.placeholder(tf.int32, name= \"action\")\n",
    "            self._cash = tf.placeholder(tf.float32, name=\"cash\")\n",
    "            self._stock = tf.placeholder(tf.int32, name=\"stock\")\n",
    "            self._price = tf.placeholder(tf.float32, [layers[0] - 3], name=\"price\")\n",
    "        \n",
    "            action_tilde = tf.to_float(self._action, name=\"action_tilde\")\n",
    "            stock_tilde = tf.to_float(self._stock, name=\"stock_tilde\")\n",
    "            price_tilde = tf.unpack(self._price)\n",
    "            input_list = [action_tilde] + [stock_tilde] + [self._cash] + price_tilde\n",
    "            input_tensor= tf.pack(input_list)\n",
    "        \n",
    "            self._input = tf.reshape(input_tensor, shape=[1, layers[0]], name=\"input\")\n",
    "            self._target = tf.placeholder(tf.float32, [1, 1], name=\"target\")\n",
    "        \n",
    "            # normalization for input\n",
    "            shape = [self.layers[0]]\n",
    "            gamma = tf.Variable(tf.constant(1.0, shape=shape), name=\"gamma\")\n",
    "            beta = tf.Variable(tf.constant(0.0, shape=shape), name=\"beta\")\n",
    "            self.normalized_input = self.batch_normalization(self._input, shape, gamma, beta)\n",
    "                \n",
    "            # keep parameters for pretraining\n",
    "            self.gamma_list = []\n",
    "            self.beta_list = []\n",
    "            self.gamma_list.append(gamma)\n",
    "            self.beta_list.append(beta)\n",
    "        \n",
    "            # parameters\n",
    "            self.W_list = []\n",
    "            self.b_list = []\n",
    "        \n",
    "            # the name of variable scope will be layer0, layer1, ...\n",
    "            x = self.normalized_input\n",
    "            for i_layer in xrange(len(self.layers) - 1):\n",
    "                with tf.variable_scope(\"layer%d\" % i_layer):\n",
    "                    n_in = self.layers[i_layer]\n",
    "                    n_out = self.layers[i_layer + 1]\n",
    "                    W = self.weight_variable([n_in, n_out])\n",
    "                    b = self.bias_variable([n_out])\n",
    "                \n",
    "                    # keep parameters for pretraining\n",
    "                    self.W_list.append(W)\n",
    "                    self.b_list.append(b)\n",
    "                \n",
    "                    z = tf.matmul(x, W) + b\n",
    "                \n",
    "                # we will not apply activation function for the last layer\n",
    "                if i_layer == len(self.layers) - 2:\n",
    "                    self._Q = z\n",
    "                else:\n",
    "                    shape = [self.layers[i_layer + 1]]\n",
    "                    gamma = tf.Variable(tf.constant(1.0, shape=shape), name=\"gamma\")\n",
    "                    beta = tf.Variable(tf.constant(0.0, shape=shape), name=\"beta\")\n",
    "                \n",
    "                    # keep parameters for pretraining\n",
    "                    self.gamma_list.append(gamma)\n",
    "                    self.beta_list.append(beta)\n",
    "                \n",
    "                    normalized_z = self.batch_normalization(z, shape, gamma, beta)\n",
    "                    x = self.activation(normalized_z)\n",
    "        \n",
    "            # training graph\n",
    "            self._learning_rate = tf.placeholder(tf.float32, shape=[], name=\"learning_rate\")\n",
    "            self.loss = tf.reduce_mean(tf.square(self._Q - self._target))\n",
    "            # fixate on using this optimizer, otherwize, otherwise endup using unecessary graph nose\n",
    "            self.optimizer = tf.train.AdamOptimizer(self._learning_rate, name=\"Optimizer\")\n",
    "            self.train = self.optimizer.minimize(self.loss)   \n",
    "        \n",
    "    def weight_variable(self, shape):\n",
    "        initial = tf.truncated_normal(shape, stddev=1.0)\n",
    "        return tf.Variable(initial, name=\"weight\")\n",
    "        \n",
    "    def bias_variable(self, shape):\n",
    "        initial = tf.constant(0.0, shape=shape)\n",
    "        return tf.Variable(initial, name=\"bias\")\n",
    "        \n",
    "    def batch_normalization(self, input, shape, gamma=None, beta=None):\n",
    "        # input should be hidden_dim\n",
    "        eps = 1e-5\n",
    "        if gamma is None:\n",
    "            gamma = tf.Variable(tf.constant(1.0, shape=shape))\n",
    "        if beta is None:\n",
    "            beta = tf.Variable(tf.constant(0.0, shape=shape))\n",
    "        mean, variance = tf.nn.moments(input, [0])\n",
    "        return gamma * (input - mean) / tf.sqrt(variance + eps) + beta\n",
    "    \n",
    "    def eps_greedy(self, eps, cash, stock, price, sess):\n",
    "        \"\"\"Return action chosen by greedy algorithm\"\"\"\n",
    "        u = np.random.uniform()\n",
    "        actions = [-1, 0, 1]\n",
    "        if u < 1 - eps:\n",
    "            q_list = []\n",
    "            for a in actions:\n",
    "                q = self._Q.eval(session=sess, \n",
    "                                 feed_dict={self._action: a, \n",
    "                                            self._cash: cash,\n",
    "                                            self._stock: stock,\n",
    "                                            self._price: price})\n",
    "                q_list.append(q)\n",
    "            action = actions[np.argmax(q_list)]\n",
    "        else:\n",
    "            action = actions[np.random.randint(0, 3)]\n",
    "        \n",
    "        return action\n",
    "                \n",
    "    \n",
    "    def training(self, whole_stock, trade_stock, n_memory=20, eps=0.1, init_cash=10000, init_stock=0, gam=0.95, learning_rate=1e-4, n_epochs=100):\n",
    "        \"\"\"training DQN which consider three actions; sell, buy, hold\n",
    "              money and n_stock are considered as state variable\n",
    "        \n",
    "        Args:\n",
    "            data (list): stock price for one company\n",
    "            n_memory (int): the number of data that is used for Experience Replay\n",
    "            eps (float): the epsilon of greedy epsilon used for behavior policy\n",
    "            init_cash (float): initial available cash\n",
    "            init_stock (int): the number of stock data \n",
    "        \"\"\"\n",
    "        whole_stock = np.array(whole_stock, dtype='float32')\n",
    "        trade_stock = np.array(trade_stock, dtype='float32')\n",
    "        init_op = tf.initialize_all_variables()\n",
    "        saver = tf.train.Saver()\n",
    "        T = len(whole_stock)\n",
    "        print_freq = int(n_epochs / 10)\n",
    "        \n",
    "        print (\"training....\")\n",
    "        st = time.time()\n",
    "        with tf.device('/cpu:0'):\n",
    "            with tf.Session() as sess:\n",
    "                sess.run(init_op)\n",
    "                value_list  = []\n",
    "                for epoch in xrange(n_epochs):\n",
    "                    lr = learning_rate\n",
    "                    cash = init_cash\n",
    "                    stock = init_stock\n",
    "                    price = whole_stock[0]\n",
    "                    # memory pool used for Experience Replay\n",
    "                    # length should be less than n_memory\n",
    "                    memory = []\n",
    "                    for t in xrange(T - 1):\n",
    "                        # select action with e-greedy\n",
    "                        # but:+1, hold: 0, sell -1\n",
    "                        action = self.eps_greedy(eps, cash, stock, price, sess)\n",
    "                        new_cash = cash - trade_stock[t] * action\n",
    "                        new_stock = stock + action\n",
    "                        new_price = whole_stock[t + 1]\n",
    "                        # add memory pools whose capacity is up to n_memory\n",
    "                        reward = new_stock * (trade_stock[t + 1] - trade_stock[t])\n",
    "                        transition = [cash, stock, price, action, reward, new_cash, new_stock, new_price]\n",
    "                        if len(memory) == n_memory:\n",
    "                            del memory[0]\n",
    "                        memory.append(transition)\n",
    "                        cash = new_cash\n",
    "                        stock = new_stock\n",
    "                        price = new_price\n",
    "                    \n",
    "                        # select transition from pool\n",
    "                        idx = np.random.randint(0, len(memory))\n",
    "                        trans = memory[idx]\n",
    "                        c = trans[0]\n",
    "                        s = trans[1]\n",
    "                        p = trans[2]\n",
    "                        a = trans[3]\n",
    "                        r = trans[4]\n",
    "                        new_c = trans[5]\n",
    "                        new_s = trans[6]\n",
    "                        new_p = trans[7]\n",
    "                        new_a = self.eps_greedy(eps, new_c, new_s, new_p, sess)\n",
    "                        q = self._Q.eval(session=sess, \n",
    "                                         feed_dict={self._action: new_a, \n",
    "                                                self._cash: new_c,\n",
    "                                                self._stock: new_s,\n",
    "                                                self._price: new_p})\n",
    "                        target = q + r\n",
    "                        sess.run(self.train, \n",
    "                             feed_dict={self._action: a, \n",
    "                                        self._cash: c,\n",
    "                                        self._stock: s,\n",
    "                                        self._price: p,\n",
    "                                        self._target: target,\n",
    "                                        self._learning_rate:lr})  \n",
    "                    \n",
    "                    value = cash + trade_stock[-1] * stock\n",
    "                    value_list.append(value)\n",
    "                    if epoch % print_freq == 0:\n",
    "                        print (\"epoch: %d, final value:%f, stock:%d, cash:%f\" % (epoch, value, stock, cash))\n",
    "                        print (\"elapsed time:\", time.time() - st)\n",
    "           \n",
    "                # save_path = saver.save(sess, \"/jupyter/tomoaki/DQN/trained_params.ckpt\")\n",
    "                save_path = saver.save(sess, \"/home/tomoaki/alpaca/notebooks//DQN/trained_params.ckpt\")\n",
    "                print(\"Model saved in file: %s\" % save_path)\n",
    "           \n",
    "        return value_list"
   ]
  },
  {
   "cell_type": "code",
   "execution_count": 50,
   "metadata": {
    "collapsed": false
   },
   "outputs": [
    {
     "name": "stdout",
     "output_type": "stream",
     "text": [
      "building model....\n",
      "start!\n",
      "training....\n",
      "epoch: 0, final value:6477.821209, stock:-456, cash:56697.099957\n",
      "elapsed time: 2.25918793678\n",
      "epoch: 10, final value:6928.231152, stock:-439, cash:55275.299946\n",
      "elapsed time: 21.5349831581\n",
      "epoch: 20, final value:6882.111217, stock:-455, cash:56991.259968\n",
      "elapsed time: 40.85988307\n",
      "epoch: 30, final value:6902.491173, stock:-448, cash:56240.729942\n",
      "elapsed time: 60.1652071476\n",
      "epoch: 40, final value:6923.051228, stock:-459, cash:57472.719967\n",
      "elapsed time: 79.5609710217\n",
      "epoch: 50, final value:6940.911243, stock:-467, cash:58371.619961\n",
      "elapsed time: 98.8863580227\n",
      "epoch: 60, final value:7265.621197, stock:-459, cash:57815.289936\n",
      "elapsed time: 117.573796034\n",
      "epoch: 70, final value:7180.401138, stock:-432, cash:54756.559952\n",
      "elapsed time: 136.258886099\n",
      "epoch: 80, final value:6903.801189, stock:-456, cash:57123.079937\n",
      "elapsed time: 155.059385061\n",
      "epoch: 90, final value:6827.621128, stock:-439, cash:55174.689922\n",
      "elapsed time: 173.89380312\n",
      "Model saved in file: /home/tomoaki/alpaca/notebooks//DQN/trained_params.ckpt\n",
      "computation time: 191.698920012\n"
     ]
    }
   ],
   "source": [
    "test_idx = date_label.index(datetime.datetime(2015, 4, 1, 0, 0))\n",
    "trade_data = input_data[:, 0]\n",
    "n_in = len(input_data[0]) + 3\n",
    "n_hid1 = int(n_in * 0.5)\n",
    "n_hid2 = int(n_hid1 * 0.5)\n",
    "n_hid3 = int(n_hid1 * 0.5)\n",
    "n_hid4 = int(n_hid1 * 0.5)\n",
    "n_out = 1\n",
    "layers = [n_in, n_hid1, n_hid2,n_hid3, n_hid4, n_out]\n",
    "\n",
    "dqn = DQNMLP_cpu(layers=layers)\n",
    "print (\"start!\")\n",
    "st = time.time()\n",
    "value = dqn.training(whole_stock=input_data, trade_stock=trade_data, n_epochs=100, init_cash=10000)\n",
    "elapsed = time.time() - st\n",
    "print (\"computation time:\", elapsed)\n",
    "    "
   ]
  },
  {
   "cell_type": "markdown",
   "metadata": {},
   "source": [
    "CPU is way faster in this case!\n"
   ]
  },
  {
   "cell_type": "code",
   "execution_count": 33,
   "metadata": {
    "collapsed": false
   },
   "outputs": [],
   "source": [
    "class DQNMLP2(object):\n",
    "    def __init__(self, layers, activation=tf.sigmoid,  gam=0.95, dev='/gpu:0', is_initialize=True):\n",
    "        \"\"\"initialized approximate value function\n",
    "        \n",
    "        Args:\n",
    "            layers(list): list of the number of nodes in each layer\n",
    "            gam (float): decay rate\n",
    "            is_intialized(optional) (bool): if True, the graph will be initialized\n",
    "        \"\"\"\n",
    "        print (\"building model....\")\n",
    "        self.layers = layers\n",
    "        self.activation = activation\n",
    "        self.dev = dev\n",
    "        \n",
    "        # intialize graph to avoid conflications\n",
    "        if is_initialize is True:\n",
    "            sess  = tf.InteractiveSession()\n",
    "            tf.reset_default_graph()\n",
    "            sess.close()\n",
    "            \n",
    "        # tensorflow assign memory when creating graph\n",
    "        with tf.device(dev):   \n",
    "            self._action = tf.placeholder(tf.int32, name= \"action\")\n",
    "            self._cash = tf.placeholder(tf.float32, name=\"cash\")\n",
    "            self._stock = tf.placeholder(tf.int32, name=\"stock\")\n",
    "            self._price = tf.placeholder(tf.float32, [layers[0] - 3], name=\"price\")\n",
    "        \n",
    "            # change format for training\n",
    "            action_tilde = tf.to_float(self._action, name=\"action_tilde\")\n",
    "            stock_tilde = tf.to_float(self._stock, name=\"stock_tilde\")\n",
    "            price_tilde = tf.unpack(self._price)\n",
    "            input_list = [action_tilde] + [stock_tilde] + [self._cash] + price_tilde\n",
    "            input_tensor= tf.pack(input_list)\n",
    "        \n",
    "            self._input = tf.reshape(input_tensor, shape=[1, layers[0]], name=\"input\")\n",
    "            self._target = tf.placeholder(tf.float32, [1, 1], name=\"target\")\n",
    "        \n",
    "            # normalization for input\n",
    "            shape = [self.layers[0]]\n",
    "            gamma = tf.Variable(tf.constant(1.0, shape=shape), name=\"gamma\")\n",
    "            beta = tf.Variable(tf.constant(0.0, shape=shape), name=\"beta\")\n",
    "            self.normalized_input = self.batch_normalization(self._input, shape, gamma, beta)\n",
    "                \n",
    "            # keep parameters for pretraining\n",
    "            self.gamma_list = []\n",
    "            self.beta_list = []\n",
    "            self.gamma_list.append(gamma)\n",
    "            self.beta_list.append(beta)\n",
    "        \n",
    "            # parameters\n",
    "            self.W_list = []\n",
    "            self.b_list = []\n",
    "        \n",
    "            # the name of variable scope will be layer0, layer1, ...\n",
    "            x = self.normalized_input\n",
    "            for i_layer in xrange(len(self.layers) - 1):\n",
    "                with tf.variable_scope(\"layer%d\" % i_layer):\n",
    "                    n_in = self.layers[i_layer]\n",
    "                    n_out = self.layers[i_layer + 1]\n",
    "                    W = self.weight_variable([n_in, n_out])\n",
    "                    b = self.bias_variable([n_out])\n",
    "                \n",
    "                    # keep parameters for pretraining\n",
    "                    self.W_list.append(W)\n",
    "                    self.b_list.append(b)\n",
    "                \n",
    "                    z = tf.matmul(x, W) + b\n",
    "                \n",
    "                # we will not apply activation function for the last layer\n",
    "                if i_layer == len(self.layers) - 2:\n",
    "                    self._Q = z\n",
    "                else:\n",
    "                    shape = [self.layers[i_layer + 1]]\n",
    "                    gamma = tf.Variable(tf.constant(1.0, shape=shape), name=\"gamma\")\n",
    "                    beta = tf.Variable(tf.constant(0.0, shape=shape), name=\"beta\")\n",
    "                \n",
    "                    # keep parameters for pretraining\n",
    "                    self.gamma_list.append(gamma)\n",
    "                    self.beta_list.append(beta)\n",
    "                \n",
    "                    normalized_z = self.batch_normalization(z, shape, gamma, beta)\n",
    "                    x = self.activation(normalized_z)\n",
    "        \n",
    "            # training graph\n",
    "            self._learning_rate = tf.placeholder(tf.float32, shape=[], name=\"learning_rate\")\n",
    "            tf.scalar_summary(\"learning rate\", self._learning_rate)\n",
    "            self.loss = tf.reduce_mean(tf.square(self._Q - self._target))\n",
    "            tf.scalar_summary(\"loss\", self.loss)\n",
    "            # fixate on using this optimizer, otherwize, otherwise endup using unecessary graph nose\n",
    "            self.optimizer = tf.train.AdamOptimizer(self._learning_rate, name=\"Optimizer\")\n",
    "            self.train = self.optimizer.minimize(self.loss)   \n",
    "        \n",
    "    def weight_variable(self, shape):\n",
    "        initial = tf.truncated_normal(shape, stddev=1.0)\n",
    "        return tf.Variable(initial, name=\"weight\")\n",
    "        \n",
    "    def bias_variable(self, shape):\n",
    "        initial = tf.constant(0.0, shape=shape)\n",
    "        return tf.Variable(initial, name=\"bias\")\n",
    "        \n",
    "    def batch_normalization(self, input, shape, gamma=None, beta=None):\n",
    "        # input should be hidden_dim\n",
    "        eps = 1e-5\n",
    "        if gamma is None:\n",
    "            gamma = tf.Variable(tf.constant(1.0, shape=shape))\n",
    "        if beta is None:\n",
    "            beta = tf.Variable(tf.constant(0.0, shape=shape))\n",
    "        mean, variance = tf.nn.moments(input, [0])\n",
    "        return gamma * (input - mean) / tf.sqrt(variance + eps) + beta\n",
    "    \n",
    "    def eps_greedy(self, eps, cash, stock, action_price, price, sess):\n",
    "        \"\"\"Return action chosen by greedy algorithm\"\"\"\n",
    "        u = np.random.uniform()\n",
    "        # buy:+1, hold: 0, sell -1\n",
    "        # we are not allowed to excute short selling\n",
    "        if action_price <= cash and stock == 0:\n",
    "            actions = [0, 1]\n",
    "        elif action_price > cash and stock > 0:\n",
    "            actions = [-1, 0]\n",
    "        elif action_price > cash and stock == 0:\n",
    "            actions = [0]\n",
    "        else:\n",
    "            actions = [-1, 0, 1]\n",
    "            \n",
    "        if u < 1 - eps:\n",
    "            q_list = []\n",
    "            for a in actions:\n",
    "                q = self._Q.eval(session=sess, \n",
    "                                 feed_dict={self._action: a, \n",
    "                                            self._cash: cash,\n",
    "                                            self._stock: stock,\n",
    "                                            self._price: price})\n",
    "                q_list.append(q)\n",
    "            action = actions[np.argmax(q_list)]\n",
    "        else:\n",
    "            action = actions[np.random.randint(0, len(actions))]\n",
    "        \n",
    "        return np.int32(action)\n",
    "                \n",
    "    \n",
    "    def training(self, whole_stock, trade_stock, n_memory=100, \n",
    "                 init_eps=1.0, eps_decay=0.9, init_cash=10000, \n",
    "                 init_stock=0, gam=0.95, learning_rate=1e-2,\n",
    "                 lr_decay=0.9, n_epochs=100):\n",
    "        \"\"\"training DQN which consider three actions; sell, buy, hold\n",
    "              money and n_stock are considered as state variable\n",
    "        \n",
    "        Args:\n",
    "            data (list): stock price for one company\n",
    "            n_memory (int): the number of data that is used for Experience Replay\n",
    "            eps (float): the epsilon of greedy epsilon used for behavior policy\n",
    "            init_cash (float): initial available cash\n",
    "            init_stock (int): the number of stock data \n",
    "        \"\"\"\n",
    "        # whole_stock = np.array(whole_stock, dtype='float32')\n",
    "        # trade_stock = np.array(trade_stock, dtype='float32')\n",
    "        init_op = tf.initialize_all_variables()\n",
    "        lr = learning_rate\n",
    "        saver = tf.train.Saver()\n",
    "        T = len(whole_stock)\n",
    "        print_freq = int(n_epochs / 10)\n",
    "        \n",
    "        print (\"training....\")\n",
    "        st = time.time()\n",
    "        config = tf.ConfigProto(allow_soft_placement=True)\n",
    "        with tf.Session(config=config) as sess:\n",
    "            # setting for summary\n",
    "            merged = tf.merge_all_summaries()\n",
    "            graph_writer = tf.train.SummaryWriter(\n",
    "                \"/home/tomoaki/alpaca/notebooks/DQN/dqnmlp_graph\",\n",
    "                sess.graph\n",
    "            )\n",
    "            learning_writer = tf.train.SummaryWriter(\n",
    "                \"/home/tomoaki/alpaca/notebooks/DQN/dqnmlp_learning\"\n",
    "            )\n",
    "            sess.run(init_op)\n",
    "            value_list  = []\n",
    "            for epoch in xrange(n_epochs):\n",
    "                cash = init_cash\n",
    "                stock = init_stock\n",
    "                action_price = trade_stock[0]\n",
    "                price = whole_stock[0]\n",
    "                eps = init_eps\n",
    "                # memory pool used for Experience Replay\n",
    "                # length should be less than n_memory\n",
    "                memory = []\n",
    "                for t in xrange(T - 1):\n",
    "                    # select action with e-greedy\n",
    "                    # buy:+1, hold: 0, sell -1\n",
    "                    action = self.eps_greedy(eps, cash, stock, action_price, price, sess)\n",
    "                    new_cash = cash - action_price * action\n",
    "                    new_stock = stock + action\n",
    "                    new_action_price = trade_stock[t + 1]\n",
    "                    new_price = whole_stock[t + 1]\n",
    "                    # add memory pools whose capacity is up to n_memory\n",
    "                    reward = new_stock * (trade_stock[t + 1] - trade_stock[t])\n",
    "                    transition = [cash, stock, price, action, reward, new_cash, new_stock, new_action_price, new_price]\n",
    "                    if len(memory) == n_memory:\n",
    "                        del memory[0]\n",
    "                    memory.append(transition)\n",
    "                    cash = new_cash\n",
    "                    stock = new_stock\n",
    "                    action_price = new_action_price\n",
    "                    price = new_price\n",
    "                \n",
    "                    # select transition from pool\n",
    "                    idx = np.random.randint(0, len(memory))\n",
    "                    trans = memory[idx]\n",
    "                    c = trans[0]\n",
    "                    s = trans[1]\n",
    "                    p = trans[2]\n",
    "                    a = trans[3]\n",
    "                    r = trans[4]\n",
    "                    new_c = trans[5]\n",
    "                    new_s = trans[6]\n",
    "                    new_ap = trans[7]\n",
    "                    new_p = trans[8]\n",
    "                    new_a = self.eps_greedy(eps, new_c, new_s, new_ap, new_p, sess)\n",
    "                    q = self._Q.eval(session=sess, \n",
    "                                     feed_dict={self._action: new_a, \n",
    "                                            self._cash: new_c,\n",
    "                                            self._stock: new_s,\n",
    "                                            self._price: new_p})\n",
    "                    target = q + r\n",
    "                    sess.run(self.train, \n",
    "                         feed_dict={self._action: a, \n",
    "                                    self._cash: c,\n",
    "                                    self._stock: s,\n",
    "                                    self._price: p,\n",
    "                                    self._target: target,\n",
    "                                    self._learning_rate:lr})  \n",
    "                    \n",
    "                value = cash + trade_stock[-1] * stock\n",
    "                value_list.append(value)\n",
    "                eps *= eps_decay\n",
    "                lr *= lr_decay\n",
    "                if epoch % print_freq == 0:\n",
    "                    print (\"epoch: %d, final value:%f, stock:%d, cash:%f\" % (epoch, value, stock, cash))\n",
    "                    print (\"elapsed time:\", time.time() - st)\n",
    "           \n",
    "            # save_path = saver.save(sess, \"/jupyter/tomoaki/DQN/trained_params.ckpt\")\n",
    "            save_path = saver.save(sess, \"/home/tomoaki/alpaca/notebooks//DQN/trained_params.ckpt\")\n",
    "            print(\"Model saved in file: %s\" % save_path)\n",
    "           \n",
    "        return value_list"
   ]
  },
  {
   "cell_type": "code",
   "execution_count": 49,
   "metadata": {
    "collapsed": false
   },
   "outputs": [
    {
     "name": "stdout",
     "output_type": "stream",
     "text": [
      "building model....\n",
      "start!\n",
      "training....\n",
      "epoch: 0, final value:1207.360004, stock:0, cash:1207.360004\n",
      "elapsed time: 1.11914300919\n",
      "epoch: 10, final value:1523.190057, stock:30, cash:15.989997\n",
      "elapsed time: 6.85198307037\n",
      "epoch: 20, final value:1067.560006, stock:7, cash:715.879992\n",
      "elapsed time: 12.589302063\n",
      "epoch: 30, final value:1204.970033, stock:17, cash:350.889999\n",
      "elapsed time: 18.3527901173\n",
      "epoch: 40, final value:1096.080010, stock:12, cash:493.199986\n",
      "elapsed time: 24.0901482105\n",
      "epoch: 50, final value:1413.520066, stock:23, cash:258.000020\n",
      "elapsed time: 29.8241372108\n",
      "epoch: 60, final value:1014.910039, stock:15, cash:261.310009\n",
      "elapsed time: 35.5575520992\n",
      "epoch: 70, final value:1110.880028, stock:1, cash:1060.640026\n",
      "elapsed time: 41.293241024\n",
      "epoch: 80, final value:1376.450042, stock:23, cash:220.929996\n",
      "elapsed time: 47.0601921082\n",
      "epoch: 90, final value:1316.920087, stock:19, cash:362.360049\n",
      "elapsed time: 52.7922480106\n",
      "Model saved in file: /home/tomoaki/alpaca/notebooks//DQN/trained_params.ckpt\n",
      "computation time: 58.392138958\n"
     ]
    }
   ],
   "source": [
    "test_idx = date_label.index(datetime.datetime(2015, 4, 1, 0, 0))\n",
    "trade_data = input_data[:, 10]\n",
    "n_in = len(input_data[0]) + 3\n",
    "n_hid1 = int(n_in * 0.3)\n",
    "n_hid2 = int(n_hid1 * 0.3)\n",
    "# n_hid3 = int(n_hid1 * 0.5)\n",
    "# n_hid4 = int(n_hid1 * 0.5)\n",
    "n_out = 1\n",
    "layers = [n_in, n_hid1, n_hid2, n_out]\n",
    "\n",
    "dqn = DQNMLP2(layers=layers, dev='/cpu:0')\n",
    "print (\"start!\")\n",
    "st = time.time()\n",
    "value = dqn.training(whole_stock=input_data, trade_stock=trade_data, n_epochs=100, init_cash=1000)\n",
    "elapsed = time.time() - st\n",
    "print (\"computation time:\", elapsed)"
   ]
  },
  {
   "cell_type": "code",
   "execution_count": 35,
   "metadata": {
    "collapsed": false
   },
   "outputs": [
    {
     "data": {
      "text/plain": [
       "[<matplotlib.lines.Line2D at 0x7f347cdfe2d0>]"
      ]
     },
     "execution_count": 35,
     "metadata": {},
     "output_type": "execute_result"
    },
    {
     "data": {
      "image/png": "[encoded data removed]",
      "text/plain": [
       "<matplotlib.figure.Figure at 0x7f34bc040850>"
      ]
     },
     "metadata": {},
     "output_type": "display_data"
    }
   ],
   "source": [
    "plt.plot(value)"
   ]
  },
  {
   "cell_type": "code",
   "execution_count": 39,
   "metadata": {
    "collapsed": true
   },
   "outputs": [],
   "source": [
    "def monkey_action(cash, stock, action_price):\n",
    "    \"\"\"sell, buy and hold will be executed at randome as if it was traded by a monkey\"\"\"\n",
    "    # buy:+1, hold: 0, sell -1\n",
    "    # we are not allowed to excute short selling\n",
    "    if action_price <= cash and stock == 0:\n",
    "        actions = [0, 1]\n",
    "    elif action_price > cash and stock > 0:\n",
    "        actions = [-1, 0]\n",
    "    elif action_price > cash and stock == 0:\n",
    "        actions = [0]\n",
    "    else:\n",
    "        actions = [-1, 0, 1]        \n",
    "    action = actions[np.random.randint(0, len(actions))]\n",
    "    return np.int32(action)\n",
    "\n",
    "def monkey_trade(trade_stock,cash=10000, stock=0):\n",
    "    for price in iter(trade_stock):\n",
    "        action = monkey_action(cash, stock, price)\n",
    "        stock += action\n",
    "        cash -= action * price\n",
    "    value = cash + trade_stock[-1] * stock\n",
    "    return value\n"
   ]
  },
  {
   "cell_type": "code",
   "execution_count": 43,
   "metadata": {
    "collapsed": false
   },
   "outputs": [],
   "source": [
    "value_monkey = []\n",
    "n_epoch = 100\n",
    "for i in range(n_epoch):\n",
    "    value_monkey.append(monkey_trade(trade_data, cash=1000, stock=0))\n"
   ]
  },
  {
   "cell_type": "code",
   "execution_count": 48,
   "metadata": {
    "collapsed": false
   },
   "outputs": [
    {
     "data": {
      "text/plain": [
       "(1000, 1500)"
      ]
     },
     "execution_count": 48,
     "metadata": {},
     "output_type": "execute_result"
    },
    {
     "data": {
      "image/png": "[encoded data removed]",
      "text/plain": [
       "<matplotlib.figure.Figure at 0x7f347f143ed0>"
      ]
     },
     "metadata": {},
     "output_type": "display_data"
    }
   ],
   "source": [
    "plt.plot(value_monkey)\n",
    "plt.ylim(1000, 1500)"
   ]
  },
  {
   "cell_type": "markdown",
   "metadata": {
    "collapsed": true
   },
   "source": [
    "It seems that there is not big difference between DQN and monkey trade..."
   ]
  },
  {
   "cell_type": "markdown",
   "metadata": {},
   "source": [
    "Opps, acccording to the paper, memory repray should be done in minibatch way"
   ]
  },
  {
   "cell_type": "code",
   "execution_count": 84,
   "metadata": {
    "collapsed": false
   },
   "outputs": [],
   "source": [
    "class DQNMLP3(object):\n",
    "    def __init__(self, layers, activation=tf.sigmoid,  gam=0.95, dev='/gpu:0', is_initialize=True):\n",
    "        \"\"\"initialized approximate value function\n",
    "        \n",
    "        Args:\n",
    "            layers(list): list of the number of nodes in each layer\n",
    "            gam (float): decay rate\n",
    "            is_intialized(optional) (bool): if True, the graph will be initialized\n",
    "        \"\"\"\n",
    "        print (\"building model....\")\n",
    "        self.layers = layers\n",
    "        self.activation = activation\n",
    "        self.dev = dev\n",
    "        \n",
    "        # intialize graph to avoid conflications\n",
    "        if is_initialize is True:\n",
    "            sess  = tf.InteractiveSession()\n",
    "            tf.reset_default_graph()\n",
    "            sess.close()\n",
    "            \n",
    "        # tensorflow assign memory when creating graph\n",
    "        with tf.device(dev):   \n",
    "            self._action = tf.placeholder(tf.int32, name= \"action\")\n",
    "            self._cash = tf.placeholder(tf.float32, name=\"cash\")\n",
    "            self._stock = tf.placeholder(tf.int32, name=\"stock\")\n",
    "            self._price = tf.placeholder(tf.float32, [None, layers[0] - 3], name=\"price\")\n",
    "        \n",
    "            # change format for training\n",
    "            action_tilde = tf.to_float(self._action, name=\"action_tilde\")\n",
    "            stock_tilde = tf.to_float(self._stock, name=\"stock_tilde\")\n",
    "            price_tilde = tf.unpack(self._price)\n",
    "            input_list = [action_tilde] + [stock_tilde] + [self._cash] + price_tilde\n",
    "            input_tensor= tf.pack(input_list)\n",
    "        \n",
    "            self._input = tf.reshape(input_tensor, shape=[1, layers[0]], name=\"input\")\n",
    "            self._target = tf.placeholder(tf.float32, [1, 1], name=\"target\")\n",
    "        \n",
    "            # normalization for input\n",
    "            shape = [self.layers[0]]\n",
    "            gamma = tf.Variable(tf.constant(1.0, shape=shape), name=\"gamma\")\n",
    "            beta = tf.Variable(tf.constant(0.0, shape=shape), name=\"beta\")\n",
    "            self.normalized_input = self.batch_normalization(self._input, shape, gamma, beta)\n",
    "                \n",
    "            # keep parameters for pretraining\n",
    "            self.gamma_list = []\n",
    "            self.beta_list = []\n",
    "            self.gamma_list.append(gamma)\n",
    "            self.beta_list.append(beta)\n",
    "        \n",
    "            # parameters\n",
    "            self.W_list = []\n",
    "            self.b_list = []\n",
    "        \n",
    "            # the name of variable scope will be layer0, layer1, ...\n",
    "            x = self.normalized_input\n",
    "            for i_layer in xrange(len(self.layers) - 1):\n",
    "                with tf.variable_scope(\"layer%d\" % i_layer):\n",
    "                    n_in = self.layers[i_layer]\n",
    "                    n_out = self.layers[i_layer + 1]\n",
    "                    W = self.weight_variable([n_in, n_out])\n",
    "                    b = self.bias_variable([n_out])\n",
    "                \n",
    "                    # keep parameters for pretraining\n",
    "                    self.W_list.append(W)\n",
    "                    self.b_list.append(b)\n",
    "                \n",
    "                    z = tf.matmul(x, W) + b\n",
    "                \n",
    "                # we will not apply activation function for the last layer\n",
    "                if i_layer == len(self.layers) - 2:\n",
    "                    self._Q = z\n",
    "                else:\n",
    "                    shape = [self.layers[i_layer + 1]]\n",
    "                    gamma = tf.Variable(tf.constant(1.0, shape=shape), name=\"gamma\")\n",
    "                    beta = tf.Variable(tf.constant(0.0, shape=shape), name=\"beta\")\n",
    "                \n",
    "                    # keep parameters for pretraining\n",
    "                    self.gamma_list.append(gamma)\n",
    "                    self.beta_list.append(beta)\n",
    "                \n",
    "                    normalized_z = self.batch_normalization(z, shape, gamma, beta)\n",
    "                    x = self.activation(normalized_z)\n",
    "        \n",
    "            # training graph\n",
    "            self._learning_rate = tf.placeholder(tf.float32, shape=[], name=\"learning_rate\")\n",
    "            tf.scalar_summary(\"learning rate\", self._learning_rate)\n",
    "            self.loss = tf.reduce_mean(tf.square(self._Q - self._target))\n",
    "            tf.scalar_summary(\"loss\", self.loss)\n",
    "            # fixate on using this optimizer, otherwize, otherwise endup using unecessary graph nose\n",
    "            self.optimizer = tf.train.AdamOptimizer(self._learning_rate, name=\"Optimizer\")\n",
    "            self.train = self.optimizer.minimize(self.loss)   \n",
    "        \n",
    "    def weight_variable(self, shape):\n",
    "        initial = tf.truncated_normal(shape, stddev=1.0)\n",
    "        return tf.Variable(initial, name=\"weight\")\n",
    "        \n",
    "    def bias_variable(self, shape):\n",
    "        initial = tf.constant(0.0, shape=shape)\n",
    "        return tf.Variable(initial, name=\"bias\")\n",
    "        \n",
    "    def batch_normalization(self, input, shape, gamma=None, beta=None):\n",
    "        # input should be hidden_dim\n",
    "        eps = 1e-5\n",
    "        if gamma is None:\n",
    "            gamma = tf.Variable(tf.constant(1.0, shape=shape))\n",
    "        if beta is None:\n",
    "            beta = tf.Variable(tf.constant(0.0, shape=shape))\n",
    "        mean, variance = tf.nn.moments(input, [0])\n",
    "        return gamma * (input - mean) / tf.sqrt(variance + eps) + beta\n",
    "    \n",
    "    def eps_greedy(self, eps, cash, stock, action_price, price, sess):\n",
    "        \"\"\"Return action chosen by greedy algorithm\"\"\"\n",
    "        u = np.random.uniform()\n",
    "        # buy:+1, hold: 0, sell -1\n",
    "        # we are not allowed to excute short selling\n",
    "        if action_price <= cash and stock == 0:\n",
    "            actions = [0, 1]\n",
    "        elif action_price > cash and stock > 0:\n",
    "            actions = [-1, 0]\n",
    "        elif action_price > cash and stock == 0:\n",
    "            actions = [0]\n",
    "        else:\n",
    "            actions = [-1, 0, 1]\n",
    "            \n",
    "        if u < 1 - eps:\n",
    "            q_list = []\n",
    "            for a in actions:\n",
    "                q = self._Q.eval(session=sess, \n",
    "                                 feed_dict={self._action: [a], \n",
    "                                            self._cash: [cash],\n",
    "                                            self._stock: [stock],\n",
    "                                            self._price: [price]})\n",
    "                q_list.append(q)\n",
    "            action = actions[np.argmax(q_list)]\n",
    "        else:\n",
    "            action = actions[np.random.randint(0, len(actions))]\n",
    "        \n",
    "        return np.int32(action)\n",
    "    \n",
    "    def greedy_value(self, cash, stock,action_price, price, sess):\n",
    "        \"\"\"Return Q value with optimal action\"\"\"\n",
    "        # buy:+1, hold: 0, sell -1\n",
    "        # we are not allowed to excute short selling\n",
    "        if action_price <= cash and stock == 0:\n",
    "            actions = [0, 1]\n",
    "        elif action_price > cash and stock > 0:\n",
    "            actions = [-1, 0]\n",
    "        elif action_price > cash and stock == 0:\n",
    "            actions = [0]\n",
    "        else:\n",
    "            actions = [-1, 0, 1]\n",
    "            \n",
    "        q_list = []\n",
    "        for a in actions:\n",
    "            q = self._Q.eval(session=sess, \n",
    "                             feed_dict={self._action: [a], \n",
    "                                        self._cash: [cash],\n",
    "                                        self._stock: [stock],\n",
    "                                        self._price: [price]})\n",
    "            q_list.append(q)\n",
    "\n",
    "        return np.max(q_list)\n",
    "    \n",
    "    def greedy_batch_value(self, cash, stock, action_price, price, n_batch, sess):\n",
    "        values = []\n",
    "        for i in xrange(n_batch):\n",
    "                values.append(\n",
    "                    self.greedy_value(\n",
    "                        cash[i], \n",
    "                        stock[i], \n",
    "                        action_price[i], \n",
    "                        price[i], \n",
    "                        sess\n",
    "                    )\n",
    "                )\n",
    "        return values\n",
    "        \n",
    "    def batch_decompose(self, data, idx, n_batch):\n",
    "        ret_value = []\n",
    "        for i in xrange(n_batch):\n",
    "            ret_value.append(data[i][idx])\n",
    "        return tf.pack(ret_value)\n",
    "    \n",
    "    def training(self, whole_stock, trade_stock, n_memory=100, \n",
    "                 n_batch=20, init_eps=1.0, eps_decay=0.9,\n",
    "                 init_cash=10000, init_stock=0, gam=0.95, \n",
    "                 learning_rate=1e-2,lr_decay=0.9, n_epochs=100):\n",
    "        \"\"\"training DQN which consider three actions; sell, buy, hold\n",
    "              money and n_stock are considered as state variable\n",
    "        \n",
    "        Args:\n",
    "            data (list): stock price for one company\n",
    "            n_memory (int): the number of data that is used for Experience Replay\n",
    "            eps (float): the epsilon of greedy epsilon used for behavior policy\n",
    "            init_cash (float): initial available cash\n",
    "            init_stock (int): the number of stock data \n",
    "        \"\"\"\n",
    "        # whole_stock = np.array(whole_stock, dtype='float32')\n",
    "        # trade_stock = np.array(trade_stock, dtype='float32')\n",
    "        init_op = tf.initialize_all_variables()\n",
    "        lr = learning_rate\n",
    "        saver = tf.train.Saver()\n",
    "        T = len(whole_stock)\n",
    "        print_freq = int(n_epochs / 10)\n",
    "        \n",
    "        print (\"training....\")\n",
    "        st = time.time()\n",
    "        config = tf.ConfigProto(allow_soft_placement=True)\n",
    "        with tf.Session(config=config) as sess:\n",
    "            # setting for summary\n",
    "            merged = tf.merge_all_summaries()\n",
    "            graph_writer = tf.train.SummaryWriter(\n",
    "                \"/home/tomoaki/alpaca/notebooks/DQN/dqnmlp_graph\",\n",
    "                sess.graph\n",
    "            )\n",
    "            learning_writer = tf.train.SummaryWriter(\n",
    "                \"/home/tomoaki/alpaca/notebooks/DQN/dqnmlp_learning\"\n",
    "            )\n",
    "            sess.run(init_op)\n",
    "            value_list  = []\n",
    "            # memory pool used for Experience Replay\n",
    "            # length should be less than n_memory\n",
    "            memory = []\n",
    "            for epoch in xrange(n_epochs):\n",
    "                cash = init_cash\n",
    "                stock = init_stock\n",
    "                action_price = trade_stock[0]\n",
    "                price = whole_stock[0]\n",
    "                eps = init_eps\n",
    "                for t in xrange(T - 1):\n",
    "                    # select action with e-greedy\n",
    "                    # buy:+1, hold: 0, sell -1\n",
    "                    action = self.eps_greedy(eps, cash, stock, action_price, price, sess)\n",
    "                    new_cash = cash - action_price * action\n",
    "                    new_stock = stock + action\n",
    "                    new_action_price = trade_stock[t + 1]\n",
    "                    new_price = whole_stock[t + 1]\n",
    "                    # add memory pools whose capacity is up to n_memory\n",
    "                    reward = new_stock * (trade_stock[t + 1] - trade_stock[t])\n",
    "                    transition = [cash, stock, price, action, reward, new_cash, \n",
    "                                  new_stock, new_action_price, new_price]\n",
    "                    if len(memory) == n_memory:\n",
    "                        del memory[0]\n",
    "                    memory.append(transition)\n",
    "                    cash = new_cash\n",
    "                    stock = new_stock\n",
    "                    action_price = new_action_price\n",
    "                    price = new_price\n",
    "                \n",
    "                    # select transition from pool\n",
    "                    memory_idx = np.random.randint(0, len(memory), n_batch)\n",
    "                    trans = [memory[idx] for idx in memory_idx]\n",
    "        \n",
    "                    c = [trans[i][0] for i in xrange(n_batch)]\n",
    "                    s = [trans[i][1] for i in xrange(n_batch)]\n",
    "                    p = [trans[i][2] for i in xrange(n_batch)]\n",
    "                    a = [trans[i][3] for i in xrange(n_batch)]\n",
    "                    r = [trans[i][4] for i in xrange(n_batch)]\n",
    "                    new_c = [trans[i][5] for i in xrange(n_batch)]\n",
    "                    new_s = [trans[i][6] for i in xrange(n_batch)]\n",
    "                    new_ap = [trans[i][7] for i in xrange(n_batch)]\n",
    "                    new_p = [trans[i][8] for i in xrange(n_batch)]\n",
    "                    new_a = []\n",
    "                    for i in xrange(n_batch):\n",
    "                        na = self.eps_greedy(eps, new_c[i], new_s[i], new_ap[i], new_p[i], sess)\n",
    "                        new_a.append(na)\n",
    "                    q = self.greedy_batch_value(new_c, new_s, new_ap, new_p, n_batch, sess)\n",
    "\n",
    "                    target = q + r\n",
    "                    sess.run(self.train, \n",
    "                             feed_dict={self._action: a, \n",
    "                                        self._cash: c,\n",
    "                                        self._stock: s,\n",
    "                                        self._price: p,\n",
    "                                        self._target: target,\n",
    "                                        self._learning_rate:lr})  \n",
    "                    \n",
    "                value = cash + trade_stock[-1] * stock\n",
    "                value_list.append(value)\n",
    "                eps *= eps_decay\n",
    "                lr *= lr_decay\n",
    "                if epoch % print_freq == 0:\n",
    "                    print (\"epoch: %d, final value:%f, stock:%d, cash:%f\" % (epoch, value, stock, cash))\n",
    "                    print (\"elapsed time:\", time.time() - st)\n",
    "           \n",
    "            # save_path = saver.save(sess, \"/jupyter/tomoaki/DQN/trained_params.ckpt\")\n",
    "            save_path = saver.save(sess, \"/home/tomoaki/alpaca/notebooks//DQN/trained_params.ckpt\")\n",
    "            print(\"Model saved in file: %s\" % save_path)\n",
    "           \n",
    "        return value_list"
   ]
  },
  {
   "cell_type": "code",
   "execution_count": 85,
   "metadata": {
    "collapsed": false
   },
   "outputs": [
    {
     "name": "stdout",
     "output_type": "stream",
     "text": [
      "building model....\n"
     ]
    },
    {
     "ename": "ValueError",
     "evalue": "Cannot infer num from shape (?, 266)",
     "output_type": "error",
     "traceback": [
      "\u001b[1;31m---------------------------------------------------------------------------\u001b[0m",
      "\u001b[1;31mValueError\u001b[0m                                Traceback (most recent call last)",
      "\u001b[1;32m<ipython-input-85-a95b2a12bcd8>\u001b[0m in \u001b[0;36m<module>\u001b[1;34m()\u001b[0m\n\u001b[0;32m      9\u001b[0m \u001b[0mlayers\u001b[0m \u001b[1;33m=\u001b[0m \u001b[1;33m[\u001b[0m\u001b[0mn_in\u001b[0m\u001b[1;33m,\u001b[0m \u001b[0mn_hid1\u001b[0m\u001b[1;33m,\u001b[0m \u001b[0mn_hid2\u001b[0m\u001b[1;33m,\u001b[0m \u001b[0mn_out\u001b[0m\u001b[1;33m]\u001b[0m\u001b[1;33m\u001b[0m\u001b[0m\n\u001b[0;32m     10\u001b[0m \u001b[1;33m\u001b[0m\u001b[0m\n\u001b[1;32m---> 11\u001b[1;33m \u001b[0mdqn\u001b[0m \u001b[1;33m=\u001b[0m \u001b[0mDQNMLP3\u001b[0m\u001b[1;33m(\u001b[0m\u001b[0mlayers\u001b[0m\u001b[1;33m=\u001b[0m\u001b[0mlayers\u001b[0m\u001b[1;33m,\u001b[0m \u001b[0mdev\u001b[0m\u001b[1;33m=\u001b[0m\u001b[1;34m'/cpu:0'\u001b[0m\u001b[1;33m)\u001b[0m\u001b[1;33m\u001b[0m\u001b[0m\n\u001b[0m\u001b[0;32m     12\u001b[0m \u001b[1;32mprint\u001b[0m \u001b[1;33m(\u001b[0m\u001b[1;34m\"start!\"\u001b[0m\u001b[1;33m)\u001b[0m\u001b[1;33m\u001b[0m\u001b[0m\n\u001b[0;32m     13\u001b[0m \u001b[0mst\u001b[0m \u001b[1;33m=\u001b[0m \u001b[0mtime\u001b[0m\u001b[1;33m.\u001b[0m\u001b[0mtime\u001b[0m\u001b[1;33m(\u001b[0m\u001b[1;33m)\u001b[0m\u001b[1;33m\u001b[0m\u001b[0m\n",
      "\u001b[1;32m<ipython-input-84-993c84b4dd45>\u001b[0m in \u001b[0;36m__init__\u001b[1;34m(self, layers, activation, gam, dev, is_initialize)\u001b[0m\n\u001b[0;32m     29\u001b[0m             \u001b[0maction_tilde\u001b[0m \u001b[1;33m=\u001b[0m \u001b[0mtf\u001b[0m\u001b[1;33m.\u001b[0m\u001b[0mto_float\u001b[0m\u001b[1;33m(\u001b[0m\u001b[0mself\u001b[0m\u001b[1;33m.\u001b[0m\u001b[0m_action\u001b[0m\u001b[1;33m,\u001b[0m \u001b[0mname\u001b[0m\u001b[1;33m=\u001b[0m\u001b[1;34m\"action_tilde\"\u001b[0m\u001b[1;33m)\u001b[0m\u001b[1;33m\u001b[0m\u001b[0m\n\u001b[0;32m     30\u001b[0m             \u001b[0mstock_tilde\u001b[0m \u001b[1;33m=\u001b[0m \u001b[0mtf\u001b[0m\u001b[1;33m.\u001b[0m\u001b[0mto_float\u001b[0m\u001b[1;33m(\u001b[0m\u001b[0mself\u001b[0m\u001b[1;33m.\u001b[0m\u001b[0m_stock\u001b[0m\u001b[1;33m,\u001b[0m \u001b[0mname\u001b[0m\u001b[1;33m=\u001b[0m\u001b[1;34m\"stock_tilde\"\u001b[0m\u001b[1;33m)\u001b[0m\u001b[1;33m\u001b[0m\u001b[0m\n\u001b[1;32m---> 31\u001b[1;33m             \u001b[0mprice_tilde\u001b[0m \u001b[1;33m=\u001b[0m \u001b[0mtf\u001b[0m\u001b[1;33m.\u001b[0m\u001b[0munpack\u001b[0m\u001b[1;33m(\u001b[0m\u001b[0mself\u001b[0m\u001b[1;33m.\u001b[0m\u001b[0m_price\u001b[0m\u001b[1;33m)\u001b[0m\u001b[1;33m\u001b[0m\u001b[0m\n\u001b[0m\u001b[0;32m     32\u001b[0m             \u001b[0minput_list\u001b[0m \u001b[1;33m=\u001b[0m \u001b[1;33m[\u001b[0m\u001b[0maction_tilde\u001b[0m\u001b[1;33m]\u001b[0m \u001b[1;33m+\u001b[0m \u001b[1;33m[\u001b[0m\u001b[0mstock_tilde\u001b[0m\u001b[1;33m]\u001b[0m \u001b[1;33m+\u001b[0m \u001b[1;33m[\u001b[0m\u001b[0mself\u001b[0m\u001b[1;33m.\u001b[0m\u001b[0m_cash\u001b[0m\u001b[1;33m]\u001b[0m \u001b[1;33m+\u001b[0m \u001b[0mprice_tilde\u001b[0m\u001b[1;33m\u001b[0m\u001b[0m\n\u001b[0;32m     33\u001b[0m             \u001b[0minput_tensor\u001b[0m\u001b[1;33m=\u001b[0m \u001b[0mtf\u001b[0m\u001b[1;33m.\u001b[0m\u001b[0mpack\u001b[0m\u001b[1;33m(\u001b[0m\u001b[0minput_list\u001b[0m\u001b[1;33m)\u001b[0m\u001b[1;33m\u001b[0m\u001b[0m\n",
      "\u001b[1;32m/home/tomoaki/anaconda2/lib/python2.7/site-packages/tensorflow/python/ops/array_ops.pyc\u001b[0m in \u001b[0;36munpack\u001b[1;34m(value, num, axis, name)\u001b[0m\n\u001b[0;32m    683\u001b[0m       \u001b[0mnum\u001b[0m \u001b[1;33m=\u001b[0m \u001b[0mvalue_shape\u001b[0m\u001b[1;33m[\u001b[0m\u001b[0maxis\u001b[0m\u001b[1;33m]\u001b[0m\u001b[1;33m.\u001b[0m\u001b[0mvalue\u001b[0m\u001b[1;33m\u001b[0m\u001b[0m\n\u001b[0;32m    684\u001b[0m   \u001b[1;32mif\u001b[0m \u001b[0mnum\u001b[0m \u001b[1;32mis\u001b[0m \u001b[0mNone\u001b[0m\u001b[1;33m:\u001b[0m\u001b[1;33m\u001b[0m\u001b[0m\n\u001b[1;32m--> 685\u001b[1;33m     \u001b[1;32mraise\u001b[0m \u001b[0mValueError\u001b[0m\u001b[1;33m(\u001b[0m\u001b[1;34m\"Cannot infer num from shape %s\"\u001b[0m \u001b[1;33m%\u001b[0m \u001b[0mvalue_shape\u001b[0m\u001b[1;33m)\u001b[0m\u001b[1;33m\u001b[0m\u001b[0m\n\u001b[0m\u001b[0;32m    686\u001b[0m   \u001b[1;32mreturn\u001b[0m \u001b[0mgen_array_ops\u001b[0m\u001b[1;33m.\u001b[0m\u001b[0m_unpack\u001b[0m\u001b[1;33m(\u001b[0m\u001b[0mvalue\u001b[0m\u001b[1;33m,\u001b[0m \u001b[0mnum\u001b[0m\u001b[1;33m=\u001b[0m\u001b[0mnum\u001b[0m\u001b[1;33m,\u001b[0m \u001b[0maxis\u001b[0m\u001b[1;33m=\u001b[0m\u001b[0maxis\u001b[0m\u001b[1;33m,\u001b[0m \u001b[0mname\u001b[0m\u001b[1;33m=\u001b[0m\u001b[0mname\u001b[0m\u001b[1;33m)\u001b[0m\u001b[1;33m\u001b[0m\u001b[0m\n\u001b[0;32m    687\u001b[0m \u001b[1;33m\u001b[0m\u001b[0m\n",
      "\u001b[1;31mValueError\u001b[0m: Cannot infer num from shape (?, 266)"
     ]
    }
   ],
   "source": [
    "test_idx = date_label.index(datetime.datetime(2015, 4, 1, 0, 0))\n",
    "trade_data = input_data[:, 10]\n",
    "n_in = len(input_data[0]) + 3\n",
    "n_hid1 = int(n_in * 0.3)\n",
    "n_hid2 = int(n_hid1 * 0.3)\n",
    "# n_hid3 = int(n_hid1 * 0.5)\n",
    "# n_hid4 = int(n_hid1 * 0.5)\n",
    "n_out = 1\n",
    "layers = [n_in, n_hid1, n_hid2, n_out]\n",
    "\n",
    "dqn = DQNMLP3(layers=layers, dev='/cpu:0', n_batch)\n",
    "print (\"start!\")\n",
    "st = time.time()\n",
    "value = dqn.training(whole_stock=input_data, trade_stock=trade_data, n_epochs=1000, init_cash=1000)\n",
    "elapsed = time.time() - st"
   ]
  },
  {
   "cell_type": "code",
   "execution_count": 68,
   "metadata": {
    "collapsed": false
   },
   "outputs": [
    {
     "ename": "TypeError",
     "evalue": "list indices must be integers, not list",
     "output_type": "error",
     "traceback": [
      "\u001b[1;31m---------------------------------------------------------------------------\u001b[0m",
      "\u001b[1;31mTypeError\u001b[0m                                 Traceback (most recent call last)",
      "\u001b[1;32m<ipython-input-68-a4ad2752446e>\u001b[0m in \u001b[0;36m<module>\u001b[1;34m()\u001b[0m\n\u001b[0;32m      1\u001b[0m \u001b[0ma\u001b[0m \u001b[1;33m=\u001b[0m \u001b[1;33m[\u001b[0m\u001b[1;36m1\u001b[0m\u001b[1;33m,\u001b[0m \u001b[1;36m2\u001b[0m\u001b[1;33m,\u001b[0m \u001b[1;36m3\u001b[0m\u001b[1;33m,\u001b[0m \u001b[1;36m4\u001b[0m\u001b[1;33m,\u001b[0m \u001b[1;36m5\u001b[0m\u001b[1;33m,\u001b[0m \u001b[1;36m6\u001b[0m\u001b[1;33m]\u001b[0m\u001b[1;33m\u001b[0m\u001b[0m\n\u001b[0;32m      2\u001b[0m \u001b[0ma_idx\u001b[0m \u001b[1;33m=\u001b[0m \u001b[0mrange\u001b[0m\u001b[1;33m(\u001b[0m\u001b[0mlen\u001b[0m\u001b[1;33m(\u001b[0m\u001b[0ma\u001b[0m\u001b[1;33m)\u001b[0m\u001b[1;33m)\u001b[0m\u001b[1;33m\u001b[0m\u001b[0m\n\u001b[1;32m----> 3\u001b[1;33m \u001b[0ma\u001b[0m\u001b[1;33m[\u001b[0m\u001b[0ma_idx\u001b[0m\u001b[1;33m]\u001b[0m\u001b[1;33m\u001b[0m\u001b[0m\n\u001b[0m",
      "\u001b[1;31mTypeError\u001b[0m: list indices must be integers, not list"
     ]
    }
   ],
   "source": [
    "a = [1, 2, 3, 4, 5, 6]\n",
    "a_idx = range(len(a))\n",
    "a[a_idx]"
   ]
  },
  {
   "cell_type": "code",
   "execution_count": null,
   "metadata": {
    "collapsed": true
   },
   "outputs": [],
   "source": []
  },
  {
   "cell_type": "code",
   "execution_count": 25,
   "metadata": {
    "collapsed": false
   },
   "outputs": [
    {
     "name": "stdout",
     "output_type": "stream",
     "text": [
      "building model....\n",
      "start!\n",
      "training....\n",
      "epoch: 0, final value:-1843.918592, stock:-463, cash:49146.270019\n",
      "elapsed time: 9.52894592285\n",
      "epoch: 10, final value:-2088.178629, stock:-460, cash:48571.619991\n",
      "elapsed time: 99.7569880486\n",
      "epoch: 20, final value:-2119.028651, stock:-467, cash:49311.679948\n",
      "elapsed time: 190.59383297\n",
      "epoch: 30, final value:-1738.588669, stock:-454, cash:48260.429969\n",
      "elapsed time: 282.201067924\n"
     ]
    },
    {
     "ename": "KeyboardInterrupt",
     "evalue": "",
     "output_type": "error",
     "traceback": [
      "\u001b[1;31m---------------------------------------------------------------------------\u001b[0m",
      "\u001b[1;31mKeyboardInterrupt\u001b[0m                         Traceback (most recent call last)",
      "\u001b[1;32m<ipython-input-25-1497f062d777>\u001b[0m in \u001b[0;36m<module>\u001b[1;34m()\u001b[0m\n\u001b[0;32m     12\u001b[0m \u001b[1;32mprint\u001b[0m \u001b[1;33m(\u001b[0m\u001b[1;34m\"start!\"\u001b[0m\u001b[1;33m)\u001b[0m\u001b[1;33m\u001b[0m\u001b[0m\n\u001b[0;32m     13\u001b[0m \u001b[0mst\u001b[0m \u001b[1;33m=\u001b[0m \u001b[0mtime\u001b[0m\u001b[1;33m.\u001b[0m\u001b[0mtime\u001b[0m\u001b[1;33m(\u001b[0m\u001b[1;33m)\u001b[0m\u001b[1;33m\u001b[0m\u001b[0m\n\u001b[1;32m---> 14\u001b[1;33m \u001b[0mvalue\u001b[0m \u001b[1;33m=\u001b[0m \u001b[0mdqn\u001b[0m\u001b[1;33m.\u001b[0m\u001b[0mtraining\u001b[0m\u001b[1;33m(\u001b[0m\u001b[0mwhole_stock\u001b[0m\u001b[1;33m=\u001b[0m\u001b[0minput_data\u001b[0m\u001b[1;33m,\u001b[0m \u001b[0mtrade_stock\u001b[0m\u001b[1;33m=\u001b[0m\u001b[0mtrade_data\u001b[0m\u001b[1;33m,\u001b[0m \u001b[0mn_epochs\u001b[0m\u001b[1;33m=\u001b[0m\u001b[1;36m100\u001b[0m\u001b[1;33m,\u001b[0m \u001b[0minit_cash\u001b[0m\u001b[1;33m=\u001b[0m\u001b[1;36m1000\u001b[0m\u001b[1;33m)\u001b[0m\u001b[1;33m\u001b[0m\u001b[0m\n\u001b[0m\u001b[0;32m     15\u001b[0m \u001b[0melapsed\u001b[0m \u001b[1;33m=\u001b[0m \u001b[0mtime\u001b[0m\u001b[1;33m.\u001b[0m\u001b[0mtime\u001b[0m\u001b[1;33m(\u001b[0m\u001b[1;33m)\u001b[0m \u001b[1;33m-\u001b[0m \u001b[0mst\u001b[0m\u001b[1;33m\u001b[0m\u001b[0m\n\u001b[0;32m     16\u001b[0m \u001b[1;32mprint\u001b[0m \u001b[1;33m(\u001b[0m\u001b[1;34m\"computation time:\"\u001b[0m\u001b[1;33m,\u001b[0m \u001b[0melapsed\u001b[0m\u001b[1;33m)\u001b[0m\u001b[1;33m\u001b[0m\u001b[0m\n",
      "\u001b[1;32m<ipython-input-23-8fbc4ebb18a2>\u001b[0m in \u001b[0;36mtraining\u001b[1;34m(self, whole_stock, trade_stock, n_memory, eps, init_cash, init_stock, gam, learning_rate, n_epochs)\u001b[0m\n\u001b[0;32m    184\u001b[0m                     \u001b[0mnew_s\u001b[0m \u001b[1;33m=\u001b[0m \u001b[0mtrans\u001b[0m\u001b[1;33m[\u001b[0m\u001b[1;36m6\u001b[0m\u001b[1;33m]\u001b[0m\u001b[1;33m\u001b[0m\u001b[0m\n\u001b[0;32m    185\u001b[0m                     \u001b[0mnew_p\u001b[0m \u001b[1;33m=\u001b[0m \u001b[0mtrans\u001b[0m\u001b[1;33m[\u001b[0m\u001b[1;36m7\u001b[0m\u001b[1;33m]\u001b[0m\u001b[1;33m\u001b[0m\u001b[0m\n\u001b[1;32m--> 186\u001b[1;33m                     \u001b[0mnew_a\u001b[0m \u001b[1;33m=\u001b[0m \u001b[0mself\u001b[0m\u001b[1;33m.\u001b[0m\u001b[0meps_greedy\u001b[0m\u001b[1;33m(\u001b[0m\u001b[0meps\u001b[0m\u001b[1;33m,\u001b[0m \u001b[0mnew_c\u001b[0m\u001b[1;33m,\u001b[0m \u001b[0mnew_s\u001b[0m\u001b[1;33m,\u001b[0m \u001b[0mnew_p\u001b[0m\u001b[1;33m,\u001b[0m \u001b[0msess\u001b[0m\u001b[1;33m)\u001b[0m\u001b[1;33m\u001b[0m\u001b[0m\n\u001b[0m\u001b[0;32m    187\u001b[0m                     q = self._Q.eval(session=sess, \n\u001b[0;32m    188\u001b[0m                                      feed_dict={self._action: new_a, \n",
      "\u001b[1;32m<ipython-input-23-8fbc4ebb18a2>\u001b[0m in \u001b[0;36meps_greedy\u001b[1;34m(self, eps, cash, stock, price, sess)\u001b[0m\n\u001b[0;32m    118\u001b[0m                                             \u001b[0mself\u001b[0m\u001b[1;33m.\u001b[0m\u001b[0m_cash\u001b[0m\u001b[1;33m:\u001b[0m \u001b[0mcash\u001b[0m\u001b[1;33m,\u001b[0m\u001b[1;33m\u001b[0m\u001b[0m\n\u001b[0;32m    119\u001b[0m                                             \u001b[0mself\u001b[0m\u001b[1;33m.\u001b[0m\u001b[0m_stock\u001b[0m\u001b[1;33m:\u001b[0m \u001b[0mstock\u001b[0m\u001b[1;33m,\u001b[0m\u001b[1;33m\u001b[0m\u001b[0m\n\u001b[1;32m--> 120\u001b[1;33m                                             self._price: price})\n\u001b[0m\u001b[0;32m    121\u001b[0m                 \u001b[0mq_list\u001b[0m\u001b[1;33m.\u001b[0m\u001b[0mappend\u001b[0m\u001b[1;33m(\u001b[0m\u001b[0mq\u001b[0m\u001b[1;33m)\u001b[0m\u001b[1;33m\u001b[0m\u001b[0m\n\u001b[0;32m    122\u001b[0m             \u001b[0maction\u001b[0m \u001b[1;33m=\u001b[0m \u001b[0mactions\u001b[0m\u001b[1;33m[\u001b[0m\u001b[0mnp\u001b[0m\u001b[1;33m.\u001b[0m\u001b[0margmax\u001b[0m\u001b[1;33m(\u001b[0m\u001b[0mq_list\u001b[0m\u001b[1;33m)\u001b[0m\u001b[1;33m]\u001b[0m\u001b[1;33m\u001b[0m\u001b[0m\n",
      "\u001b[1;32m/home/tomoaki/anaconda2/lib/python2.7/site-packages/tensorflow/python/framework/ops.pyc\u001b[0m in \u001b[0;36meval\u001b[1;34m(self, feed_dict, session)\u001b[0m\n\u001b[0;32m    554\u001b[0m \u001b[1;33m\u001b[0m\u001b[0m\n\u001b[0;32m    555\u001b[0m     \"\"\"\n\u001b[1;32m--> 556\u001b[1;33m     \u001b[1;32mreturn\u001b[0m \u001b[0m_eval_using_default_session\u001b[0m\u001b[1;33m(\u001b[0m\u001b[0mself\u001b[0m\u001b[1;33m,\u001b[0m \u001b[0mfeed_dict\u001b[0m\u001b[1;33m,\u001b[0m \u001b[0mself\u001b[0m\u001b[1;33m.\u001b[0m\u001b[0mgraph\u001b[0m\u001b[1;33m,\u001b[0m \u001b[0msession\u001b[0m\u001b[1;33m)\u001b[0m\u001b[1;33m\u001b[0m\u001b[0m\n\u001b[0m\u001b[0;32m    557\u001b[0m \u001b[1;33m\u001b[0m\u001b[0m\n\u001b[0;32m    558\u001b[0m \u001b[1;33m\u001b[0m\u001b[0m\n",
      "\u001b[1;32m/home/tomoaki/anaconda2/lib/python2.7/site-packages/tensorflow/python/framework/ops.pyc\u001b[0m in \u001b[0;36m_eval_using_default_session\u001b[1;34m(tensors, feed_dict, graph, session)\u001b[0m\n\u001b[0;32m   3635\u001b[0m                        \u001b[1;34m\"the tensor's graph is different from the session's \"\u001b[0m\u001b[1;33m\u001b[0m\u001b[0m\n\u001b[0;32m   3636\u001b[0m                        \"graph.\")\n\u001b[1;32m-> 3637\u001b[1;33m   \u001b[1;32mreturn\u001b[0m \u001b[0msession\u001b[0m\u001b[1;33m.\u001b[0m\u001b[0mrun\u001b[0m\u001b[1;33m(\u001b[0m\u001b[0mtensors\u001b[0m\u001b[1;33m,\u001b[0m \u001b[0mfeed_dict\u001b[0m\u001b[1;33m)\u001b[0m\u001b[1;33m\u001b[0m\u001b[0m\n\u001b[0m\u001b[0;32m   3638\u001b[0m \u001b[1;33m\u001b[0m\u001b[0m\n\u001b[0;32m   3639\u001b[0m \u001b[1;33m\u001b[0m\u001b[0m\n",
      "\u001b[1;32m/home/tomoaki/anaconda2/lib/python2.7/site-packages/tensorflow/python/client/session.pyc\u001b[0m in \u001b[0;36mrun\u001b[1;34m(self, fetches, feed_dict, options, run_metadata)\u001b[0m\n\u001b[0;32m    380\u001b[0m     \u001b[1;32mtry\u001b[0m\u001b[1;33m:\u001b[0m\u001b[1;33m\u001b[0m\u001b[0m\n\u001b[0;32m    381\u001b[0m       result = self._run(None, fetches, feed_dict, options_ptr,\n\u001b[1;32m--> 382\u001b[1;33m                          run_metadata_ptr)\n\u001b[0m\u001b[0;32m    383\u001b[0m       \u001b[1;32mif\u001b[0m \u001b[0mrun_metadata\u001b[0m\u001b[1;33m:\u001b[0m\u001b[1;33m\u001b[0m\u001b[0m\n\u001b[0;32m    384\u001b[0m         \u001b[0mproto_data\u001b[0m \u001b[1;33m=\u001b[0m \u001b[0mtf_session\u001b[0m\u001b[1;33m.\u001b[0m\u001b[0mTF_GetBuffer\u001b[0m\u001b[1;33m(\u001b[0m\u001b[0mrun_metadata_ptr\u001b[0m\u001b[1;33m)\u001b[0m\u001b[1;33m\u001b[0m\u001b[0m\n",
      "\u001b[1;32m/home/tomoaki/anaconda2/lib/python2.7/site-packages/tensorflow/python/client/session.pyc\u001b[0m in \u001b[0;36m_run\u001b[1;34m(self, handle, fetches, feed_dict, options, run_metadata)\u001b[0m\n\u001b[0;32m    653\u001b[0m     \u001b[0mmovers\u001b[0m \u001b[1;33m=\u001b[0m \u001b[0mself\u001b[0m\u001b[1;33m.\u001b[0m\u001b[0m_update_with_movers\u001b[0m\u001b[1;33m(\u001b[0m\u001b[0mfeed_dict_string\u001b[0m\u001b[1;33m,\u001b[0m \u001b[0mfeed_map\u001b[0m\u001b[1;33m)\u001b[0m\u001b[1;33m\u001b[0m\u001b[0m\n\u001b[0;32m    654\u001b[0m     results = self._do_run(handle, target_list, unique_fetches,\n\u001b[1;32m--> 655\u001b[1;33m                            feed_dict_string, options, run_metadata)\n\u001b[0m\u001b[0;32m    656\u001b[0m \u001b[1;33m\u001b[0m\u001b[0m\n\u001b[0;32m    657\u001b[0m     \u001b[1;31m# User may have fetched the same tensor multiple times, but we\u001b[0m\u001b[1;33m\u001b[0m\u001b[1;33m\u001b[0m\u001b[0m\n",
      "\u001b[1;32m/home/tomoaki/anaconda2/lib/python2.7/site-packages/tensorflow/python/client/session.pyc\u001b[0m in \u001b[0;36m_do_run\u001b[1;34m(self, handle, target_list, fetch_list, feed_dict, options, run_metadata)\u001b[0m\n\u001b[0;32m    721\u001b[0m     \u001b[1;32mif\u001b[0m \u001b[0mhandle\u001b[0m \u001b[1;32mis\u001b[0m \u001b[0mNone\u001b[0m\u001b[1;33m:\u001b[0m\u001b[1;33m\u001b[0m\u001b[0m\n\u001b[0;32m    722\u001b[0m       return self._do_call(_run_fn, self._session, feed_dict, fetch_list,\n\u001b[1;32m--> 723\u001b[1;33m                            target_list, options, run_metadata)\n\u001b[0m\u001b[0;32m    724\u001b[0m     \u001b[1;32melse\u001b[0m\u001b[1;33m:\u001b[0m\u001b[1;33m\u001b[0m\u001b[0m\n\u001b[0;32m    725\u001b[0m       return self._do_call(_prun_fn, self._session, handle, feed_dict,\n",
      "\u001b[1;32m/home/tomoaki/anaconda2/lib/python2.7/site-packages/tensorflow/python/client/session.pyc\u001b[0m in \u001b[0;36m_do_call\u001b[1;34m(self, fn, *args)\u001b[0m\n\u001b[0;32m    728\u001b[0m   \u001b[1;32mdef\u001b[0m \u001b[0m_do_call\u001b[0m\u001b[1;33m(\u001b[0m\u001b[0mself\u001b[0m\u001b[1;33m,\u001b[0m \u001b[0mfn\u001b[0m\u001b[1;33m,\u001b[0m \u001b[1;33m*\u001b[0m\u001b[0margs\u001b[0m\u001b[1;33m)\u001b[0m\u001b[1;33m:\u001b[0m\u001b[1;33m\u001b[0m\u001b[0m\n\u001b[0;32m    729\u001b[0m     \u001b[1;32mtry\u001b[0m\u001b[1;33m:\u001b[0m\u001b[1;33m\u001b[0m\u001b[0m\n\u001b[1;32m--> 730\u001b[1;33m       \u001b[1;32mreturn\u001b[0m \u001b[0mfn\u001b[0m\u001b[1;33m(\u001b[0m\u001b[1;33m*\u001b[0m\u001b[0margs\u001b[0m\u001b[1;33m)\u001b[0m\u001b[1;33m\u001b[0m\u001b[0m\n\u001b[0m\u001b[0;32m    731\u001b[0m     \u001b[1;32mexcept\u001b[0m \u001b[0merrors\u001b[0m\u001b[1;33m.\u001b[0m\u001b[0mOpError\u001b[0m \u001b[1;32mas\u001b[0m \u001b[0me\u001b[0m\u001b[1;33m:\u001b[0m\u001b[1;33m\u001b[0m\u001b[0m\n\u001b[0;32m    732\u001b[0m       \u001b[0mmessage\u001b[0m \u001b[1;33m=\u001b[0m \u001b[0mcompat\u001b[0m\u001b[1;33m.\u001b[0m\u001b[0mas_text\u001b[0m\u001b[1;33m(\u001b[0m\u001b[0me\u001b[0m\u001b[1;33m.\u001b[0m\u001b[0mmessage\u001b[0m\u001b[1;33m)\u001b[0m\u001b[1;33m\u001b[0m\u001b[0m\n",
      "\u001b[1;32m/home/tomoaki/anaconda2/lib/python2.7/site-packages/tensorflow/python/client/session.pyc\u001b[0m in \u001b[0;36m_run_fn\u001b[1;34m(session, feed_dict, fetch_list, target_list, options, run_metadata)\u001b[0m\n\u001b[0;32m    710\u001b[0m         return tf_session.TF_Run(session, options,\n\u001b[0;32m    711\u001b[0m                                  \u001b[0mfeed_dict\u001b[0m\u001b[1;33m,\u001b[0m \u001b[0mfetch_list\u001b[0m\u001b[1;33m,\u001b[0m \u001b[0mtarget_list\u001b[0m\u001b[1;33m,\u001b[0m\u001b[1;33m\u001b[0m\u001b[0m\n\u001b[1;32m--> 712\u001b[1;33m                                  status, run_metadata)\n\u001b[0m\u001b[0;32m    713\u001b[0m \u001b[1;33m\u001b[0m\u001b[0m\n\u001b[0;32m    714\u001b[0m     \u001b[1;32mdef\u001b[0m \u001b[0m_prun_fn\u001b[0m\u001b[1;33m(\u001b[0m\u001b[0msession\u001b[0m\u001b[1;33m,\u001b[0m \u001b[0mhandle\u001b[0m\u001b[1;33m,\u001b[0m \u001b[0mfeed_dict\u001b[0m\u001b[1;33m,\u001b[0m \u001b[0mfetch_list\u001b[0m\u001b[1;33m)\u001b[0m\u001b[1;33m:\u001b[0m\u001b[1;33m\u001b[0m\u001b[0m\n",
      "\u001b[1;31mKeyboardInterrupt\u001b[0m: "
     ]
    }
   ],
   "source": [
    "test_idx = date_label.index(datetime.datetime(2015, 4, 1, 0, 0))\n",
    "trade_data = input_data[:, 0]\n",
    "n_in = len(input_data[0]) + 3\n",
    "n_hid1 = int(n_in * 0.5)\n",
    "n_hid2 = int(n_hid1 * 0.5)\n",
    "n_hid3 = int(n_hid1 * 0.5)\n",
    "n_hid4 = int(n_hid1 * 0.5)\n",
    "n_out = 1\n",
    "layers = [n_in, n_hid1, n_hid2,n_hid3, n_hid4, n_out]\n",
    "\n",
    "dqn = DQNMLP2(layers=layers, dev='/gpu:0')\n",
    "print (\"start!\")\n",
    "st = time.time()\n",
    "value = dqn.training(whole_stock=input_data, trade_stock=trade_data, n_epochs=100, init_cash=1000)\n",
    "elapsed = time.time() - st\n",
    "print (\"computation time:\", elapsed)"
   ]
  },
  {
   "cell_type": "code",
   "execution_count": 64,
   "metadata": {
    "collapsed": false
   },
   "outputs": [
    {
     "data": {
      "text/plain": [
       "2.6561398887587544e-05"
      ]
     },
     "execution_count": 64,
     "metadata": {},
     "output_type": "execute_result"
    }
   ],
   "source": [
    "0.9 ** 100"
   ]
  },
  {
   "cell_type": "code",
   "execution_count": 27,
   "metadata": {
    "collapsed": false
   },
   "outputs": [
    {
     "data": {
      "text/plain": [
       "3"
      ]
     },
     "execution_count": 27,
     "metadata": {},
     "output_type": "execute_result"
    }
   ],
   "source": []
  },
  {
   "cell_type": "code",
   "execution_count": 38,
   "metadata": {
    "collapsed": false
   },
   "outputs": [],
   "source": [
    "a = np.random.randn(10)\n",
    "a = np.array(a, dtype=\"float32\")"
   ]
  },
  {
   "cell_type": "code",
   "execution_count": 37,
   "metadata": {
    "collapsed": false
   },
   "outputs": [
    {
     "name": "stdout",
     "output_type": "stream",
     "text": [
      "Help on built-in function randn:\n",
      "\n",
      "randn(...)\n",
      "    randn(d0, d1, ..., dn)\n",
      "    \n",
      "    Return a sample (or samples) from the \"standard normal\" distribution.\n",
      "    \n",
      "    If positive, int_like or int-convertible arguments are provided,\n",
      "    `randn` generates an array of shape ``(d0, d1, ..., dn)``, filled\n",
      "    with random floats sampled from a univariate \"normal\" (Gaussian)\n",
      "    distribution of mean 0 and variance 1 (if any of the :math:`d_i` are\n",
      "    floats, they are first converted to integers by truncation). A single\n",
      "    float randomly sampled from the distribution is returned if no\n",
      "    argument is provided.\n",
      "    \n",
      "    This is a convenience function.  If you want an interface that takes a\n",
      "    tuple as the first argument, use `numpy.random.standard_normal` instead.\n",
      "    \n",
      "    Parameters\n",
      "    ----------\n",
      "    d0, d1, ..., dn : int, optional\n",
      "        The dimensions of the returned array, should be all positive.\n",
      "        If no argument is given a single Python float is returned.\n",
      "    \n",
      "    Returns\n",
      "    -------\n",
      "    Z : ndarray or float\n",
      "        A ``(d0, d1, ..., dn)``-shaped array of floating-point samples from\n",
      "        the standard normal distribution, or a single such float if\n",
      "        no parameters were supplied.\n",
      "    \n",
      "    See Also\n",
      "    --------\n",
      "    random.standard_normal : Similar, but takes a tuple as its argument.\n",
      "    \n",
      "    Notes\n",
      "    -----\n",
      "    For random samples from :math:`N(\\mu, \\sigma^2)`, use:\n",
      "    \n",
      "    ``sigma * np.random.randn(...) + mu``\n",
      "    \n",
      "    Examples\n",
      "    --------\n",
      "    >>> np.random.randn()\n",
      "    2.1923875335537315 #random\n",
      "    \n",
      "    Two-by-four array of samples from N(3, 6.25):\n",
      "    \n",
      "    >>> 2.5 * np.random.randn(2, 4) + 3\n",
      "    array([[-4.49401501,  4.00950034, -1.81814867,  7.29718677],  #random\n",
      "           [ 0.39924804,  4.68456316,  4.99394529,  4.84057254]]) #random\n",
      "\n"
     ]
    }
   ],
   "source": [
    "help(np.random.randn)"
   ]
  },
  {
   "cell_type": "code",
   "execution_count": 39,
   "metadata": {
    "collapsed": false
   },
   "outputs": [
    {
     "data": {
      "text/plain": [
       "numpy.float32"
      ]
     },
     "execution_count": 39,
     "metadata": {},
     "output_type": "execute_result"
    }
   ],
   "source": [
    "type(a[0])"
   ]
  },
  {
   "cell_type": "code",
   "execution_count": null,
   "metadata": {
    "collapsed": true
   },
   "outputs": [],
   "source": []
  }
 ],
 "metadata": {
  "kernelspec": {
   "display_name": "Python 2",
   "language": "python",
   "name": "python2"
  },
  "language_info": {
   "codemirror_mode": {
    "name": "ipython",
    "version": 2
   },
   "file_extension": ".py",
   "mimetype": "text/x-python",
   "name": "python",
   "nbconvert_exporter": "python",
   "pygments_lexer": "ipython2",
   "version": "2.7.6"
  }
 },
 "nbformat": 4,
 "nbformat_minor": 0
}
