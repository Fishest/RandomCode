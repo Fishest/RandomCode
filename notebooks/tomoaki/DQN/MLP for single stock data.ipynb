{
 "cells": [
  {
   "cell_type": "markdown",
   "metadata": {},
   "source": [
    "Given certain amount of initial money, we will have three options; buy, sell and hold.\n",
    "\n",
    "Using Deep Q-Network, we will find optimal strategy."
   ]
  },
  {
   "cell_type": "code",
   "execution_count": 1,
   "metadata": {
    "collapsed": false
   },
   "outputs": [],
   "source": [
    "#generic\n",
    "%matplotlib inline\n",
    "from __future__ import print_function\n",
    "\n",
    "import numpy as np\n",
    "import time\n",
    "# import quandl \n",
    "import matplotlib.pyplot as plt\n",
    "\n",
    "from yahoo_finance import Share"
   ]
  },
  {
   "cell_type": "markdown",
   "metadata": {},
   "source": [
    "Since GPU is not available now, I will use tensorflow for cpu"
   ]
  },
  {
   "cell_type": "code",
   "execution_count": 2,
   "metadata": {
    "collapsed": true
   },
   "outputs": [],
   "source": [
    "def get_data_by_key(key, data):\n",
    "    data_it = iter(data)\n",
    "    return_data = []\n",
    "    flag = True\n",
    "    for d in data_it:\n",
    "        if key !=\"Date\":\n",
    "            return_data.append(float(d[key]))\n",
    "        else:\n",
    "            return_data.append(d[key])\n",
    "        \n",
    "    return np.array(return_data)"
   ]
  },
  {
   "cell_type": "markdown",
   "metadata": {},
   "source": [
    "Let's have expereiments with Yahoo stock data"
   ]
  },
  {
   "cell_type": "code",
   "execution_count": 5,
   "metadata": {
    "collapsed": false
   },
   "outputs": [
    {
     "name": "stdout",
     "output_type": "stream",
     "text": [
      "getting data ...\n"
     ]
    }
   ],
   "source": [
    "start_date=\"2014-04-01\"\n",
    "end_date=\"2016-04-01\"\n",
    "print (\"getting data ...\")\n",
    "share = Share('GOOG')\n",
    "hist_data = share.get_historical(start_date=start_date, end_date=end_date)\n",
    "price = get_data_by_key('Open', hist_data)\n",
    "date = get_data_by_key('Date', hist_data)"
   ]
  },
  {
   "cell_type": "markdown",
   "metadata": {},
   "source": [
    "# convert date label format for plot"
   ]
  },
  {
   "cell_type": "code",
   "execution_count": 6,
   "metadata": {
    "collapsed": true
   },
   "outputs": [],
   "source": [
    "import datetime\n",
    "\n",
    "def convert_time_format(date):\n",
    "    date_tilde = date.split(\"-\")\n",
    "    date_tilde = map(int, date_tilde)\n",
    "    return datetime.datetime(*date_tilde)"
   ]
  },
  {
   "cell_type": "code",
   "execution_count": 7,
   "metadata": {
    "collapsed": true
   },
   "outputs": [],
   "source": [
    "date_label=[]\n",
    "for i in xrange(len(date)):\n",
    "    date_label.append(convert_time_format(date[i]))"
   ]
  },
  {
   "cell_type": "code",
   "execution_count": 8,
   "metadata": {
    "collapsed": false
   },
   "outputs": [
    {
     "data": {
      "image/png": "[encoded data removed]",
      "text/plain": [
       "<matplotlib.figure.Figure at 0x7faa5d811610>"
      ]
     },
     "metadata": {},
     "output_type": "display_data"
    }
   ],
   "source": [
    "plt.plot(date_label, price)\n",
    "plt.gcf().autofmt_xdate()"
   ]
  },
  {
   "cell_type": "markdown",
   "metadata": {},
   "source": [
    "# DQN with MLP"
   ]
  },
  {
   "cell_type": "markdown",
   "metadata": {},
   "source": [
    "I will try DQN with simple Multi Layer Perceptron"
   ]
  },
  {
   "cell_type": "code",
   "execution_count": 9,
   "metadata": {
    "collapsed": true
   },
   "outputs": [],
   "source": [
    "import tensorflow as tf"
   ]
  },
  {
   "cell_type": "code",
   "execution_count": 10,
   "metadata": {
    "collapsed": false
   },
   "outputs": [],
   "source": [
    "class DQNMLP(object):\n",
    "    def __init__(self, layers, activation=tf.sigmoid,  gam=0.95, is_initialize=True):\n",
    "        \"\"\"initialized approximate value function\n",
    "        \n",
    "        Args:\n",
    "            layers(list): list of the number of nodes in each layer\n",
    "            gam (float): decay rate\n",
    "            is_intialized(optional) (bool): if True, the graph will be initialized\n",
    "        \"\"\"\n",
    "        print (\"building model....\")\n",
    "        self.layers = layers\n",
    "        self.activation = activation\n",
    "        \n",
    "        # intialize graph to avoid conflications\n",
    "        if is_initialize is True:\n",
    "            sess  = tf.InteractiveSession()\n",
    "            tf.reset_default_graph()\n",
    "            sess.close()\n",
    "            \n",
    "        self._action = tf.placeholder(tf.int32, name= \"action\")\n",
    "        self._cash = tf.placeholder(tf.float32, name=\"cash\")\n",
    "        self._stock = tf.placeholder(tf.int32, name=\"stock\")\n",
    "        \n",
    "        # change format for training\n",
    "        action_tilde = tf.to_float(self._action, name=\"action_tilde\")\n",
    "        stock_tilde = tf.to_float(self._stock, name=\"stock_tilde\")\n",
    "        input = tf.pack([action_tilde, self._cash, stock_tilde])\n",
    "        self._input = tf.reshape(input, shape=[1, 3], name=\"input\")\n",
    "        self._target = tf.placeholder(tf.float32, [1, 1], name=\"target\")\n",
    "        \n",
    "        # normalization for input\n",
    "        shape = [self.layers[0]]\n",
    "        gamma = tf.Variable(tf.constant(1.0, shape=shape), name=\"gamma\")\n",
    "        beta = tf.Variable(tf.constant(0.0, shape=shape), name=\"beta\")\n",
    "        self.normalized_input = self.batch_normalization(self._input, shape, gamma, beta)\n",
    "                \n",
    "        # keep parameters for pretraining\n",
    "        self.gamma_list = []\n",
    "        self.beta_list = []\n",
    "        self.gamma_list.append(gamma)\n",
    "        self.beta_list.append(beta)\n",
    "        \n",
    "        # parameters\n",
    "        self.W_list = []\n",
    "        self.b_list = []\n",
    "        \n",
    "        # the name of variable scope will be layer0, layer1, ...\n",
    "        x = self.normalized_input\n",
    "        for i_layer in xrange(len(self.layers) - 1):\n",
    "            with tf.variable_scope(\"layer%d\" % i_layer):\n",
    "                n_in = self.layers[i_layer]\n",
    "                n_out = self.layers[i_layer + 1]\n",
    "                W = self.weight_variable([n_in, n_out])\n",
    "                b = self.bias_variable([n_out])\n",
    "                \n",
    "                # keep parameters for pretraining\n",
    "                self.W_list.append(W)\n",
    "                self.b_list.append(b)\n",
    "                \n",
    "                z = tf.matmul(x, W) + b\n",
    "                \n",
    "            # we will not apply activation function for the last layer\n",
    "            if i_layer == len(self.layers) - 2:\n",
    "                self._Q = z\n",
    "            else:\n",
    "                shape = [self.layers[i_layer + 1]]\n",
    "                gamma = tf.Variable(tf.constant(1.0, shape=shape), name=\"gamma\")\n",
    "                beta = tf.Variable(tf.constant(0.0, shape=shape), name=\"beta\")\n",
    "                \n",
    "                # keep parameters for pretraining\n",
    "                self.gamma_list.append(gamma)\n",
    "                self.beta_list.append(beta)\n",
    "                \n",
    "                normalized_z = self.batch_normalization(z, shape, gamma, beta)\n",
    "                x = self.activation(normalized_z)\n",
    "        \n",
    "        # training graph\n",
    "        self._learning_rate = tf.placeholder(tf.float32, shape=[], name=\"learning_rate\")\n",
    "        self.loss = tf.reduce_mean(tf.square(self._Q - self._target))\n",
    "        # fixate on using this optimizer, otherwize, otherwise endup using unecessary graph nose\n",
    "        self.optimizer = tf.train.AdamOptimizer(self._learning_rate, name=\"Optimizer\")\n",
    "        self.train = self.optimizer.minimize(self.loss)   \n",
    "        \n",
    "    def weight_variable(self, shape):\n",
    "        initial = tf.truncated_normal(shape, stddev=1.0)\n",
    "        return tf.Variable(initial, name=\"weight\")\n",
    "        \n",
    "    def bias_variable(self, shape):\n",
    "        initial = tf.constant(0.0, shape=shape)\n",
    "        return tf.Variable(initial, name=\"bias\")\n",
    "        \n",
    "    def batch_normalization(self, input, shape, gamma=None, beta=None):\n",
    "        # input should be hidden_dim\n",
    "        eps = 1e-5\n",
    "        if gamma is None:\n",
    "            gamma = tf.Variable(tf.constant(1.0, shape=shape))\n",
    "        if beta is None:\n",
    "            beta = tf.Variable(tf.constant(0.0, shape=shape))\n",
    "        mean, variance = tf.nn.moments(input, [0])\n",
    "        return gamma * (input - mean) / tf.sqrt(variance + eps) + beta\n",
    "    \n",
    "    def eps_greedy(self, eps, cash, stock, sess):\n",
    "        \"\"\"Return action chosen by greedy algorithm\"\"\"\n",
    "        u = np.random.uniform()\n",
    "        actions = [-1, 0, 1]\n",
    "        if u < 1 - eps:\n",
    "            q_list = []\n",
    "            for a in actions:\n",
    "                q = self._Q.eval(session=sess, \n",
    "                                    feed_dict={self._action: a, \n",
    "                                                      self._cash: cash,\n",
    "                                                      self._stock: stock})\n",
    "                q_list.append(q)\n",
    "            action = actions[np.argmax(q_list)]\n",
    "        else:\n",
    "            action = actions[np.random.randint(0, 3)]\n",
    "        \n",
    "        return action\n",
    "                \n",
    "    \n",
    "    def training(self, data, n_memory=20, eps=0.1, init_cash=10000, init_stock=0, gam=0.95, learning_rate=1e-4, n_epochs=100):\n",
    "        \"\"\"training DQN which consider three actions; sell, buy, hold\n",
    "              money and n_stock are considered as state variable\n",
    "        \n",
    "        Args:\n",
    "            data (list): stock price for one company\n",
    "            n_memory (int): the number of data that is used for Experience Replay\n",
    "            eps (float): the epsilon of greedy epsilon used for behavior policy\n",
    "            init_cash (float): initial available cash\n",
    "            init_stock (int): the number of stock data \n",
    "        \"\"\"\n",
    "        init_op = tf.initialize_all_variables()\n",
    "        saver = tf.train.Saver()\n",
    "        T = len(data)\n",
    "        print_freq = int(n_epochs / 10)\n",
    "        \n",
    "        print (\"training....\")\n",
    "        with tf.Session() as sess:\n",
    "            sess.run(init_op)\n",
    "            value_list  = []\n",
    "            for epoch in xrange(n_epochs):\n",
    "                lr = learning_rate\n",
    "                cash = init_cash\n",
    "                stock = init_stock\n",
    "                # memory pool used for Experience Replay\n",
    "                # length should be less than n_memory\n",
    "                memory = []\n",
    "                for t in xrange(T - 1):\n",
    "                    # select action with e-greedy\n",
    "                    # but:+1, hold: 0, sell -1\n",
    "                    action = self.eps_greedy(eps, cash, stock, sess)\n",
    "                    new_cash = cash - data[t] * action\n",
    "                    new_stock = stock + action\n",
    "                    # add memory pools whose capacity is up to n_memory\n",
    "                    reward = new_stock * (data[t + 1] - data[t])\n",
    "                    transition = [cash, stock, action, reward, new_cash, new_stock]\n",
    "                    if len(memory) == n_memory:\n",
    "                        del memory[0]\n",
    "                    memory.append(transition)\n",
    "                    cash = new_cash\n",
    "                    stock = new_stock\n",
    "                    \n",
    "                    # select transition from pool\n",
    "                    idx = np.random.randint(0, len(memory))\n",
    "                    trans = memory[idx]\n",
    "                    c = trans[0]\n",
    "                    s = trans[1]\n",
    "                    a = trans[2]\n",
    "                    r = trans[3]\n",
    "                    new_c = trans[4]\n",
    "                    new_s = trans[5]\n",
    "                    new_a = self.eps_greedy(eps, new_c, new_s, sess)\n",
    "                    q = self._Q.eval(session=sess, \n",
    "                                        feed_dict={self._action: new_a, \n",
    "                                                          self._cash: new_c,\n",
    "                                                          self._stock: new_s})\n",
    "                    target = q + r\n",
    "                    sess.run(self.train, \n",
    "                                    feed_dict={self._action: a, \n",
    "                                                      self._cash: c,\n",
    "                                                      self._stock: s,\n",
    "                                                      self._target: target,\n",
    "                                                      self._learning_rate:lr})  \n",
    "                    \n",
    "                value = cash + data[-1] * stock\n",
    "                value_list.append(value)\n",
    "                if epoch % print_freq == 0:\n",
    "                    print (\"epoch: %d, final value:%f, stock:%d, cash:%f\" % (epoch, value, stock, cash))\n",
    "           \n",
    "            save_path = saver.save(sess, \"/jupyter/tomoaki/DQN/trained_params.ckpt\")\n",
    "            print(\"Model saved in file: %s\" % save_path)\n",
    "           \n",
    "        return value_list"
   ]
  },
  {
   "cell_type": "code",
   "execution_count": 11,
   "metadata": {
    "collapsed": false
   },
   "outputs": [
    {
     "name": "stdout",
     "output_type": "stream",
     "text": [
      "building model....\n",
      "training....\n",
      "epoch: 0, final value:34681.048451, stock:-235, cash:161781.368796\n",
      "epoch: 10, final value:33345.962297, stock:-221, cash:152874.348664\n",
      "epoch: 20, final value:34297.155545, stock:-232, cash:159774.918609\n",
      "epoch: 30, final value:33088.777039, stock:-221, cash:152617.163406\n",
      "epoch: 40, final value:34283.564980, stock:-225, cash:155975.361055\n",
      "epoch: 50, final value:33968.029888, stock:-221, cash:153496.416255\n",
      "epoch: 60, final value:33104.534968, stock:-225, cash:154796.331043\n",
      "epoch: 70, final value:33313.294785, stock:-224, cash:154464.238433\n",
      "epoch: 80, final value:35022.635824, stock:-236, cash:162663.808596\n",
      "epoch: 90, final value:32550.529672, stock:-220, cash:151538.063612\n"
     ]
    },
    {
     "ename": "NotFoundError",
     "evalue": "/jupyter/tomoaki/DQN/trained_params.ckpt.tempstate3457440370430043291\n\t [[Node: save/save = SaveSlices[T=[DT_FLOAT, DT_FLOAT, DT_FLOAT, DT_FLOAT, DT_FLOAT, DT_FLOAT, DT_FLOAT, DT_FLOAT, DT_FLOAT, DT_FLOAT, DT_FLOAT, DT_FLOAT, DT_FLOAT, DT_FLOAT, DT_FLOAT, DT_FLOAT, DT_FLOAT, DT_FLOAT, DT_FLOAT, DT_FLOAT, DT_FLOAT, DT_FLOAT, DT_FLOAT, DT_FLOAT, DT_FLOAT, DT_FLOAT], _device=\"/job:localhost/replica:0/task:0/cpu:0\"](_recv_save/Const_0, save/save/tensor_names, save/save/shapes_and_slices, beta/_186197, beta/Optimizer/_186199, beta/Optimizer_1/_186201, beta1_power/_186203, beta2_power/_186205, beta_1/_186207, beta_1/Optimizer/_186209, beta_1/Optimizer_1/_186211, gamma/_186213, gamma/Optimizer/_186215, gamma/Optimizer_1/_186217, gamma_1/_186219, gamma_1/Optimizer/_186221, gamma_1/Optimizer_1/_186223, layer0/bias/_186225, layer0/bias/Optimizer/_186227, layer0/bias/Optimizer_1/_186229, layer0/weight/_186231, layer0/weight/Optimizer/_186233, layer0/weight/Optimizer_1/_186235, layer1/bias/_186237, layer1/bias/Optimizer/_186239, layer1/bias/Optimizer_1/_186241, layer1/weight/_186243, layer1/weight/Optimizer/_186245, layer1/weight/Optimizer_1/_186247)]]\nCaused by op u'save/save', defined at:\n  File \"/home/tomoaki/anaconda2/lib/python2.7/runpy.py\", line 174, in _run_module_as_main\n    \"__main__\", fname, loader, pkg_name)\n  File \"/home/tomoaki/anaconda2/lib/python2.7/runpy.py\", line 72, in _run_code\n    exec code in run_globals\n  File \"/home/tomoaki/anaconda2/lib/python2.7/site-packages/ipykernel/__main__.py\", line 3, in <module>\n    app.launch_new_instance()\n  File \"/home/tomoaki/anaconda2/lib/python2.7/site-packages/traitlets/config/application.py\", line 596, in launch_instance\n    app.start()\n  File \"/home/tomoaki/anaconda2/lib/python2.7/site-packages/ipykernel/kernelapp.py\", line 442, in start\n    ioloop.IOLoop.instance().start()\n  File \"/home/tomoaki/anaconda2/lib/python2.7/site-packages/zmq/eventloop/ioloop.py\", line 162, in start\n    super(ZMQIOLoop, self).start()\n  File \"/home/tomoaki/anaconda2/lib/python2.7/site-packages/tornado/ioloop.py\", line 883, in start\n    handler_func(fd_obj, events)\n  File \"/home/tomoaki/anaconda2/lib/python2.7/site-packages/tornado/stack_context.py\", line 275, in null_wrapper\n    return fn(*args, **kwargs)\n  File \"/home/tomoaki/anaconda2/lib/python2.7/site-packages/zmq/eventloop/zmqstream.py\", line 440, in _handle_events\n    self._handle_recv()\n  File \"/home/tomoaki/anaconda2/lib/python2.7/site-packages/zmq/eventloop/zmqstream.py\", line 472, in _handle_recv\n    self._run_callback(callback, msg)\n  File \"/home/tomoaki/anaconda2/lib/python2.7/site-packages/zmq/eventloop/zmqstream.py\", line 414, in _run_callback\n    callback(*args, **kwargs)\n  File \"/home/tomoaki/anaconda2/lib/python2.7/site-packages/tornado/stack_context.py\", line 275, in null_wrapper\n    return fn(*args, **kwargs)\n  File \"/home/tomoaki/anaconda2/lib/python2.7/site-packages/ipykernel/kernelbase.py\", line 276, in dispatcher\n    return self.dispatch_shell(stream, msg)\n  File \"/home/tomoaki/anaconda2/lib/python2.7/site-packages/ipykernel/kernelbase.py\", line 228, in dispatch_shell\n    handler(stream, idents, msg)\n  File \"/home/tomoaki/anaconda2/lib/python2.7/site-packages/ipykernel/kernelbase.py\", line 391, in execute_request\n    user_expressions, allow_stdin)\n  File \"/home/tomoaki/anaconda2/lib/python2.7/site-packages/ipykernel/ipkernel.py\", line 199, in do_execute\n    shell.run_cell(code, store_history=store_history, silent=silent)\n  File \"/home/tomoaki/anaconda2/lib/python2.7/site-packages/IPython/core/interactiveshell.py\", line 2723, in run_cell\n    interactivity=interactivity, compiler=compiler, result=result)\n  File \"/home/tomoaki/anaconda2/lib/python2.7/site-packages/IPython/core/interactiveshell.py\", line 2825, in run_ast_nodes\n    if self.run_code(code, result):\n  File \"/home/tomoaki/anaconda2/lib/python2.7/site-packages/IPython/core/interactiveshell.py\", line 2885, in run_code\n    exec(code_obj, self.user_global_ns, self.user_ns)\n  File \"<ipython-input-11-112385dd4e6b>\", line 9, in <module>\n    value = dqn.training(train, n_epochs=100, init_cash=10000)\n  File \"<ipython-input-10-ca58a6386be2>\", line 133, in training\n    saver = tf.train.Saver()\n  File \"/home/tomoaki/anaconda2/lib/python2.7/site-packages/tensorflow/python/training/saver.py\", line 854, in __init__\n    restore_sequentially=restore_sequentially)\n  File \"/home/tomoaki/anaconda2/lib/python2.7/site-packages/tensorflow/python/training/saver.py\", line 516, in build\n    save_tensor = self._AddSaveOps(filename_tensor, vars_to_save)\n  File \"/home/tomoaki/anaconda2/lib/python2.7/site-packages/tensorflow/python/training/saver.py\", line 212, in _AddSaveOps\n    save = self.save_op(filename_tensor, vars_to_save)\n  File \"/home/tomoaki/anaconda2/lib/python2.7/site-packages/tensorflow/python/training/saver.py\", line 164, in save_op\n    tensor_slices=[vs.slice_spec for vs in vars_to_save])\n  File \"/home/tomoaki/anaconda2/lib/python2.7/site-packages/tensorflow/python/ops/io_ops.py\", line 179, in _save\n    tensors, name=name)\n  File \"/home/tomoaki/anaconda2/lib/python2.7/site-packages/tensorflow/python/ops/gen_io_ops.py\", line 438, in _save_slices\n    data=data, name=name)\n  File \"/home/tomoaki/anaconda2/lib/python2.7/site-packages/tensorflow/python/framework/op_def_library.py\", line 710, in apply_op\n    op_def=op_def)\n  File \"/home/tomoaki/anaconda2/lib/python2.7/site-packages/tensorflow/python/framework/ops.py\", line 2298, in create_op\n    original_op=self._default_original_op, op_def=op_def)\n  File \"/home/tomoaki/anaconda2/lib/python2.7/site-packages/tensorflow/python/framework/ops.py\", line 1232, in __init__\n    self._traceback = _extract_stack()\n",
     "output_type": "error",
     "traceback": [
      "\u001b[1;31m---------------------------------------------------------------------------\u001b[0m",
      "\u001b[1;31mNotFoundError\u001b[0m                             Traceback (most recent call last)",
      "\u001b[1;32m<ipython-input-11-112385dd4e6b>\u001b[0m in \u001b[0;36m<module>\u001b[1;34m()\u001b[0m\n\u001b[0;32m      7\u001b[0m \u001b[1;33m\u001b[0m\u001b[0m\n\u001b[0;32m      8\u001b[0m \u001b[0mdqn\u001b[0m \u001b[1;33m=\u001b[0m \u001b[0mDQNMLP\u001b[0m\u001b[1;33m(\u001b[0m\u001b[0mlayers\u001b[0m\u001b[1;33m=\u001b[0m\u001b[1;33m[\u001b[0m\u001b[1;36m3\u001b[0m\u001b[1;33m,\u001b[0m \u001b[1;36m3\u001b[0m\u001b[1;33m,\u001b[0m \u001b[1;36m1\u001b[0m\u001b[1;33m]\u001b[0m\u001b[1;33m)\u001b[0m\u001b[1;33m\u001b[0m\u001b[0m\n\u001b[1;32m----> 9\u001b[1;33m \u001b[0mvalue\u001b[0m \u001b[1;33m=\u001b[0m \u001b[0mdqn\u001b[0m\u001b[1;33m.\u001b[0m\u001b[0mtraining\u001b[0m\u001b[1;33m(\u001b[0m\u001b[0mtrain\u001b[0m\u001b[1;33m,\u001b[0m \u001b[0mn_epochs\u001b[0m\u001b[1;33m=\u001b[0m\u001b[1;36m100\u001b[0m\u001b[1;33m,\u001b[0m \u001b[0minit_cash\u001b[0m\u001b[1;33m=\u001b[0m\u001b[1;36m10000\u001b[0m\u001b[1;33m)\u001b[0m\u001b[1;33m\u001b[0m\u001b[0m\n\u001b[0m",
      "\u001b[1;32m<ipython-input-10-ca58a6386be2>\u001b[0m in \u001b[0;36mtraining\u001b[1;34m(self, data, n_memory, eps, init_cash, init_stock, gam, learning_rate, n_epochs)\u001b[0m\n\u001b[0;32m    188\u001b[0m                     \u001b[1;32mprint\u001b[0m \u001b[1;33m(\u001b[0m\u001b[1;34m\"epoch: %d, final value:%f, stock:%d, cash:%f\"\u001b[0m \u001b[1;33m%\u001b[0m \u001b[1;33m(\u001b[0m\u001b[0mepoch\u001b[0m\u001b[1;33m,\u001b[0m \u001b[0mvalue\u001b[0m\u001b[1;33m,\u001b[0m \u001b[0mstock\u001b[0m\u001b[1;33m,\u001b[0m \u001b[0mcash\u001b[0m\u001b[1;33m)\u001b[0m\u001b[1;33m)\u001b[0m\u001b[1;33m\u001b[0m\u001b[0m\n\u001b[0;32m    189\u001b[0m \u001b[1;33m\u001b[0m\u001b[0m\n\u001b[1;32m--> 190\u001b[1;33m             \u001b[0msave_path\u001b[0m \u001b[1;33m=\u001b[0m \u001b[0msaver\u001b[0m\u001b[1;33m.\u001b[0m\u001b[0msave\u001b[0m\u001b[1;33m(\u001b[0m\u001b[0msess\u001b[0m\u001b[1;33m,\u001b[0m \u001b[1;34m\"/jupyter/tomoaki/DQN/trained_params.ckpt\"\u001b[0m\u001b[1;33m)\u001b[0m\u001b[1;33m\u001b[0m\u001b[0m\n\u001b[0m\u001b[0;32m    191\u001b[0m             \u001b[1;32mprint\u001b[0m\u001b[1;33m(\u001b[0m\u001b[1;34m\"Model saved in file: %s\"\u001b[0m \u001b[1;33m%\u001b[0m \u001b[0msave_path\u001b[0m\u001b[1;33m)\u001b[0m\u001b[1;33m\u001b[0m\u001b[0m\n\u001b[0;32m    192\u001b[0m \u001b[1;33m\u001b[0m\u001b[0m\n",
      "\u001b[1;32m/home/tomoaki/anaconda2/lib/python2.7/site-packages/tensorflow/python/training/saver.pyc\u001b[0m in \u001b[0;36msave\u001b[1;34m(self, sess, save_path, global_step, latest_filename, meta_graph_suffix, write_meta_graph)\u001b[0m\n\u001b[0;32m   1058\u001b[0m     model_checkpoint_path = sess.run(\n\u001b[0;32m   1059\u001b[0m         \u001b[0mself\u001b[0m\u001b[1;33m.\u001b[0m\u001b[0msaver_def\u001b[0m\u001b[1;33m.\u001b[0m\u001b[0msave_tensor_name\u001b[0m\u001b[1;33m,\u001b[0m\u001b[1;33m\u001b[0m\u001b[0m\n\u001b[1;32m-> 1060\u001b[1;33m         {self.saver_def.filename_tensor_name: checkpoint_file})\n\u001b[0m\u001b[0;32m   1061\u001b[0m     \u001b[0mmodel_checkpoint_path\u001b[0m \u001b[1;33m=\u001b[0m \u001b[0mcompat\u001b[0m\u001b[1;33m.\u001b[0m\u001b[0mas_str\u001b[0m\u001b[1;33m(\u001b[0m\u001b[0mmodel_checkpoint_path\u001b[0m\u001b[1;33m)\u001b[0m\u001b[1;33m\u001b[0m\u001b[0m\n\u001b[0;32m   1062\u001b[0m     self._MaybeDeleteOldCheckpoints(model_checkpoint_path,\n",
      "\u001b[1;32m/home/tomoaki/anaconda2/lib/python2.7/site-packages/tensorflow/python/client/session.pyc\u001b[0m in \u001b[0;36mrun\u001b[1;34m(self, fetches, feed_dict, options, run_metadata)\u001b[0m\n\u001b[0;32m    380\u001b[0m     \u001b[1;32mtry\u001b[0m\u001b[1;33m:\u001b[0m\u001b[1;33m\u001b[0m\u001b[0m\n\u001b[0;32m    381\u001b[0m       result = self._run(None, fetches, feed_dict, options_ptr,\n\u001b[1;32m--> 382\u001b[1;33m                          run_metadata_ptr)\n\u001b[0m\u001b[0;32m    383\u001b[0m       \u001b[1;32mif\u001b[0m \u001b[0mrun_metadata\u001b[0m\u001b[1;33m:\u001b[0m\u001b[1;33m\u001b[0m\u001b[0m\n\u001b[0;32m    384\u001b[0m         \u001b[0mproto_data\u001b[0m \u001b[1;33m=\u001b[0m \u001b[0mtf_session\u001b[0m\u001b[1;33m.\u001b[0m\u001b[0mTF_GetBuffer\u001b[0m\u001b[1;33m(\u001b[0m\u001b[0mrun_metadata_ptr\u001b[0m\u001b[1;33m)\u001b[0m\u001b[1;33m\u001b[0m\u001b[0m\n",
      "\u001b[1;32m/home/tomoaki/anaconda2/lib/python2.7/site-packages/tensorflow/python/client/session.pyc\u001b[0m in \u001b[0;36m_run\u001b[1;34m(self, handle, fetches, feed_dict, options, run_metadata)\u001b[0m\n\u001b[0;32m    653\u001b[0m     \u001b[0mmovers\u001b[0m \u001b[1;33m=\u001b[0m \u001b[0mself\u001b[0m\u001b[1;33m.\u001b[0m\u001b[0m_update_with_movers\u001b[0m\u001b[1;33m(\u001b[0m\u001b[0mfeed_dict_string\u001b[0m\u001b[1;33m,\u001b[0m \u001b[0mfeed_map\u001b[0m\u001b[1;33m)\u001b[0m\u001b[1;33m\u001b[0m\u001b[0m\n\u001b[0;32m    654\u001b[0m     results = self._do_run(handle, target_list, unique_fetches,\n\u001b[1;32m--> 655\u001b[1;33m                            feed_dict_string, options, run_metadata)\n\u001b[0m\u001b[0;32m    656\u001b[0m \u001b[1;33m\u001b[0m\u001b[0m\n\u001b[0;32m    657\u001b[0m     \u001b[1;31m# User may have fetched the same tensor multiple times, but we\u001b[0m\u001b[1;33m\u001b[0m\u001b[1;33m\u001b[0m\u001b[0m\n",
      "\u001b[1;32m/home/tomoaki/anaconda2/lib/python2.7/site-packages/tensorflow/python/client/session.pyc\u001b[0m in \u001b[0;36m_do_run\u001b[1;34m(self, handle, target_list, fetch_list, feed_dict, options, run_metadata)\u001b[0m\n\u001b[0;32m    721\u001b[0m     \u001b[1;32mif\u001b[0m \u001b[0mhandle\u001b[0m \u001b[1;32mis\u001b[0m \u001b[0mNone\u001b[0m\u001b[1;33m:\u001b[0m\u001b[1;33m\u001b[0m\u001b[0m\n\u001b[0;32m    722\u001b[0m       return self._do_call(_run_fn, self._session, feed_dict, fetch_list,\n\u001b[1;32m--> 723\u001b[1;33m                            target_list, options, run_metadata)\n\u001b[0m\u001b[0;32m    724\u001b[0m     \u001b[1;32melse\u001b[0m\u001b[1;33m:\u001b[0m\u001b[1;33m\u001b[0m\u001b[0m\n\u001b[0;32m    725\u001b[0m       return self._do_call(_prun_fn, self._session, handle, feed_dict,\n",
      "\u001b[1;32m/home/tomoaki/anaconda2/lib/python2.7/site-packages/tensorflow/python/client/session.pyc\u001b[0m in \u001b[0;36m_do_call\u001b[1;34m(self, fn, *args)\u001b[0m\n\u001b[0;32m    741\u001b[0m         \u001b[1;32mexcept\u001b[0m \u001b[0mKeyError\u001b[0m\u001b[1;33m:\u001b[0m\u001b[1;33m\u001b[0m\u001b[0m\n\u001b[0;32m    742\u001b[0m           \u001b[1;32mpass\u001b[0m\u001b[1;33m\u001b[0m\u001b[0m\n\u001b[1;32m--> 743\u001b[1;33m       \u001b[1;32mraise\u001b[0m \u001b[0mtype\u001b[0m\u001b[1;33m(\u001b[0m\u001b[0me\u001b[0m\u001b[1;33m)\u001b[0m\u001b[1;33m(\u001b[0m\u001b[0mnode_def\u001b[0m\u001b[1;33m,\u001b[0m \u001b[0mop\u001b[0m\u001b[1;33m,\u001b[0m \u001b[0mmessage\u001b[0m\u001b[1;33m)\u001b[0m\u001b[1;33m\u001b[0m\u001b[0m\n\u001b[0m\u001b[0;32m    744\u001b[0m \u001b[1;33m\u001b[0m\u001b[0m\n\u001b[0;32m    745\u001b[0m   \u001b[1;32mdef\u001b[0m \u001b[0m_extend_graph\u001b[0m\u001b[1;33m(\u001b[0m\u001b[0mself\u001b[0m\u001b[1;33m)\u001b[0m\u001b[1;33m:\u001b[0m\u001b[1;33m\u001b[0m\u001b[0m\n",
      "\u001b[1;31mNotFoundError\u001b[0m: /jupyter/tomoaki/DQN/trained_params.ckpt.tempstate3457440370430043291\n\t [[Node: save/save = SaveSlices[T=[DT_FLOAT, DT_FLOAT, DT_FLOAT, DT_FLOAT, DT_FLOAT, DT_FLOAT, DT_FLOAT, DT_FLOAT, DT_FLOAT, DT_FLOAT, DT_FLOAT, DT_FLOAT, DT_FLOAT, DT_FLOAT, DT_FLOAT, DT_FLOAT, DT_FLOAT, DT_FLOAT, DT_FLOAT, DT_FLOAT, DT_FLOAT, DT_FLOAT, DT_FLOAT, DT_FLOAT, DT_FLOAT, DT_FLOAT], _device=\"/job:localhost/replica:0/task:0/cpu:0\"](_recv_save/Const_0, save/save/tensor_names, save/save/shapes_and_slices, beta/_186197, beta/Optimizer/_186199, beta/Optimizer_1/_186201, beta1_power/_186203, beta2_power/_186205, beta_1/_186207, beta_1/Optimizer/_186209, beta_1/Optimizer_1/_186211, gamma/_186213, gamma/Optimizer/_186215, gamma/Optimizer_1/_186217, gamma_1/_186219, gamma_1/Optimizer/_186221, gamma_1/Optimizer_1/_186223, layer0/bias/_186225, layer0/bias/Optimizer/_186227, layer0/bias/Optimizer_1/_186229, layer0/weight/_186231, layer0/weight/Optimizer/_186233, layer0/weight/Optimizer_1/_186235, layer1/bias/_186237, layer1/bias/Optimizer/_186239, layer1/bias/Optimizer_1/_186241, layer1/weight/_186243, layer1/weight/Optimizer/_186245, layer1/weight/Optimizer_1/_186247)]]\nCaused by op u'save/save', defined at:\n  File \"/home/tomoaki/anaconda2/lib/python2.7/runpy.py\", line 174, in _run_module_as_main\n    \"__main__\", fname, loader, pkg_name)\n  File \"/home/tomoaki/anaconda2/lib/python2.7/runpy.py\", line 72, in _run_code\n    exec code in run_globals\n  File \"/home/tomoaki/anaconda2/lib/python2.7/site-packages/ipykernel/__main__.py\", line 3, in <module>\n    app.launch_new_instance()\n  File \"/home/tomoaki/anaconda2/lib/python2.7/site-packages/traitlets/config/application.py\", line 596, in launch_instance\n    app.start()\n  File \"/home/tomoaki/anaconda2/lib/python2.7/site-packages/ipykernel/kernelapp.py\", line 442, in start\n    ioloop.IOLoop.instance().start()\n  File \"/home/tomoaki/anaconda2/lib/python2.7/site-packages/zmq/eventloop/ioloop.py\", line 162, in start\n    super(ZMQIOLoop, self).start()\n  File \"/home/tomoaki/anaconda2/lib/python2.7/site-packages/tornado/ioloop.py\", line 883, in start\n    handler_func(fd_obj, events)\n  File \"/home/tomoaki/anaconda2/lib/python2.7/site-packages/tornado/stack_context.py\", line 275, in null_wrapper\n    return fn(*args, **kwargs)\n  File \"/home/tomoaki/anaconda2/lib/python2.7/site-packages/zmq/eventloop/zmqstream.py\", line 440, in _handle_events\n    self._handle_recv()\n  File \"/home/tomoaki/anaconda2/lib/python2.7/site-packages/zmq/eventloop/zmqstream.py\", line 472, in _handle_recv\n    self._run_callback(callback, msg)\n  File \"/home/tomoaki/anaconda2/lib/python2.7/site-packages/zmq/eventloop/zmqstream.py\", line 414, in _run_callback\n    callback(*args, **kwargs)\n  File \"/home/tomoaki/anaconda2/lib/python2.7/site-packages/tornado/stack_context.py\", line 275, in null_wrapper\n    return fn(*args, **kwargs)\n  File \"/home/tomoaki/anaconda2/lib/python2.7/site-packages/ipykernel/kernelbase.py\", line 276, in dispatcher\n    return self.dispatch_shell(stream, msg)\n  File \"/home/tomoaki/anaconda2/lib/python2.7/site-packages/ipykernel/kernelbase.py\", line 228, in dispatch_shell\n    handler(stream, idents, msg)\n  File \"/home/tomoaki/anaconda2/lib/python2.7/site-packages/ipykernel/kernelbase.py\", line 391, in execute_request\n    user_expressions, allow_stdin)\n  File \"/home/tomoaki/anaconda2/lib/python2.7/site-packages/ipykernel/ipkernel.py\", line 199, in do_execute\n    shell.run_cell(code, store_history=store_history, silent=silent)\n  File \"/home/tomoaki/anaconda2/lib/python2.7/site-packages/IPython/core/interactiveshell.py\", line 2723, in run_cell\n    interactivity=interactivity, compiler=compiler, result=result)\n  File \"/home/tomoaki/anaconda2/lib/python2.7/site-packages/IPython/core/interactiveshell.py\", line 2825, in run_ast_nodes\n    if self.run_code(code, result):\n  File \"/home/tomoaki/anaconda2/lib/python2.7/site-packages/IPython/core/interactiveshell.py\", line 2885, in run_code\n    exec(code_obj, self.user_global_ns, self.user_ns)\n  File \"<ipython-input-11-112385dd4e6b>\", line 9, in <module>\n    value = dqn.training(train, n_epochs=100, init_cash=10000)\n  File \"<ipython-input-10-ca58a6386be2>\", line 133, in training\n    saver = tf.train.Saver()\n  File \"/home/tomoaki/anaconda2/lib/python2.7/site-packages/tensorflow/python/training/saver.py\", line 854, in __init__\n    restore_sequentially=restore_sequentially)\n  File \"/home/tomoaki/anaconda2/lib/python2.7/site-packages/tensorflow/python/training/saver.py\", line 516, in build\n    save_tensor = self._AddSaveOps(filename_tensor, vars_to_save)\n  File \"/home/tomoaki/anaconda2/lib/python2.7/site-packages/tensorflow/python/training/saver.py\", line 212, in _AddSaveOps\n    save = self.save_op(filename_tensor, vars_to_save)\n  File \"/home/tomoaki/anaconda2/lib/python2.7/site-packages/tensorflow/python/training/saver.py\", line 164, in save_op\n    tensor_slices=[vs.slice_spec for vs in vars_to_save])\n  File \"/home/tomoaki/anaconda2/lib/python2.7/site-packages/tensorflow/python/ops/io_ops.py\", line 179, in _save\n    tensors, name=name)\n  File \"/home/tomoaki/anaconda2/lib/python2.7/site-packages/tensorflow/python/ops/gen_io_ops.py\", line 438, in _save_slices\n    data=data, name=name)\n  File \"/home/tomoaki/anaconda2/lib/python2.7/site-packages/tensorflow/python/framework/op_def_library.py\", line 710, in apply_op\n    op_def=op_def)\n  File \"/home/tomoaki/anaconda2/lib/python2.7/site-packages/tensorflow/python/framework/ops.py\", line 2298, in create_op\n    original_op=self._default_original_op, op_def=op_def)\n  File \"/home/tomoaki/anaconda2/lib/python2.7/site-packages/tensorflow/python/framework/ops.py\", line 1232, in __init__\n    self._traceback = _extract_stack()\n"
     ]
    }
   ],
   "source": [
    "test_idx = date_label.index(datetime.datetime(2015, 4, 1, 0, 0))\n",
    "\n",
    "train = price[:test_idx]\n",
    "test = price[test_idx:]\n",
    "date_test = date_label[test_idx:]\n",
    "\n",
    "\n",
    "dqn = DQNMLP(layers=[3, 3, 1])\n",
    "value = dqn.training(train, n_epochs=100, init_cash=10000)"
   ]
  },
  {
   "cell_type": "markdown",
   "metadata": {
    "collapsed": false
   },
   "source": [
    "# DRQN"
   ]
  },
  {
   "cell_type": "code",
   "execution_count": 24,
   "metadata": {
    "collapsed": false
   },
   "outputs": [],
   "source": []
  },
  {
   "cell_type": "code",
   "execution_count": 70,
   "metadata": {
    "collapsed": false
   },
   "outputs": [
    {
     "data": {
      "text/plain": [
       "int"
      ]
     },
     "execution_count": 70,
     "metadata": {},
     "output_type": "execute_result"
    }
   ],
   "source": [
    "type(3)"
   ]
  },
  {
   "cell_type": "code",
   "execution_count": 26,
   "metadata": {
    "collapsed": false
   },
   "outputs": [
    {
     "data": {
      "text/plain": [
       "True"
      ]
     },
     "execution_count": 26,
     "metadata": {},
     "output_type": "execute_result"
    }
   ],
   "source": [
    "q > 0"
   ]
  },
  {
   "cell_type": "code",
   "execution_count": null,
   "metadata": {
    "collapsed": true
   },
   "outputs": [],
   "source": []
  }
 ],
 "metadata": {
  "kernelspec": {
   "display_name": "Python [Root]",
   "language": "python",
   "name": "Python [Root]"
  },
  "language_info": {
   "codemirror_mode": {
    "name": "ipython",
    "version": 2
   },
   "file_extension": ".py",
   "mimetype": "text/x-python",
   "name": "python",
   "nbconvert_exporter": "python",
   "pygments_lexer": "ipython2",
   "version": "2.7.12"
  }
 },
 "nbformat": 4,
 "nbformat_minor": 0
}
