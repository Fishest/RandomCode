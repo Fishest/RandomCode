{
 "cells": [
  {
   "cell_type": "code",
   "execution_count": 2,
   "metadata": {
    "collapsed": false
   },
   "outputs": [
    {
     "name": "stdout",
     "output_type": "stream",
     "text": [
      "Requirement already up-to-date: matplotlib in /usr/local/lib/python2.7/dist-packages\n",
      "Requirement already up-to-date: numpy>=1.6 in /usr/local/lib/python2.7/dist-packages (from matplotlib)\n",
      "Requirement already up-to-date: python-dateutil in /usr/local/lib/python2.7/dist-packages (from matplotlib)\n",
      "Requirement already up-to-date: pytz in /usr/local/lib/python2.7/dist-packages (from matplotlib)\n",
      "Requirement already up-to-date: cycler in /usr/local/lib/python2.7/dist-packages (from matplotlib)\n",
      "Requirement already up-to-date: pyparsing!=2.0.4,>=1.5.6 in /usr/local/lib/python2.7/dist-packages (from matplotlib)\n",
      "Cleaning up...\n",
      "Requirement already satisfied (use --upgrade to upgrade): quandl in /usr/local/lib/python2.7/dist-packages\n",
      "Cleaning up...\n"
     ]
    }
   ],
   "source": [
    "! pip install matplotlib --upgrade\n",
    "! pip install quandl\n",
    "\n",
    "\n",
    "#generic\n",
    "%matplotlib inline\n",
    "from __future__ import print_function\n",
    "\n",
    "import numpy as np\n",
    "import time\n",
    "import quandl \n",
    "import matplotlib.pyplot as plt\n",
    "\n",
    "from yahoo_finance import Share\n",
    "\n",
    "\n",
    "\n",
    "def get_data_by_key(key, data):\n",
    "    data_it = iter(data)\n",
    "    return_data = []\n",
    "    flag = True\n",
    "    for d in data_it:\n",
    "        return_data.append(d[key])\n",
    "        \n",
    "    return np.array(return_data)\n",
    "\n",
    "def get_data_by_list(name_list, start_date, end_date, data_type=\"Open\"):\n",
    "    share_list = []\n",
    "    for name in name_list:\n",
    "        share_list.append(Share(name))\n",
    "    \n",
    "    stock_data_list = []\n",
    "    date = []\n",
    "    flag = True\n",
    "    N_data = 0\n",
    "    fail_name_list = []\n",
    "    for idx, share in enumerate(share_list):\n",
    "        name = name_list[idx]\n",
    "        hist_data = share.get_historical(start_date=start_date, end_date=end_date)\n",
    "        stock_data = map(float, get_data_by_key(key=data_type, data=hist_data))\n",
    "        date.append(get_data_by_key(key='Date', data=hist_data))\n",
    "        stock_data_list.append(stock_data)\n",
    "        N_data = len(stock_data)\n",
    "        if N_data == 0:\n",
    "            fail_name_list.append(name)\n",
    "    print (\"fail_name_list: \", fail_name_list)\n",
    "    return np.array(stock_data_list).T, date"
   ]
  },
  {
   "cell_type": "code",
   "execution_count": 3,
   "metadata": {
    "collapsed": false
   },
   "outputs": [
    {
     "name": "stdout",
     "output_type": "stream",
     "text": [
      "270\n"
     ]
    }
   ],
   "source": [
    "energy = [\"PTR\", \"XOM\", \"CVX\", \"RDS-A\", \"BP\", \"TOT\", \"SLB\", \"KMI\", \"COP\", \"CEO\", \n",
    "          \"E\", \"STO\", \"OXY\", \"PBR\", \"EOG\", \"APC\", \"SU\", \"ENB\", \"HAL\", \"WMB\"]\n",
    "financial = [\"WFC\", \"JPM\", \"HSBC\", \"BAC\", \"C\", \"SAN\", \"MTU\", \"RY\", \"WBK\", \"TD\", \"GS\", \n",
    "             \"LYG\", \"AXP\", \"AIG\", \"MS\", \"ITUB\", \"BCS\", \"BBVA\"]\n",
    "healthcare = [\"NVS\", \"JNJ\", \"PFE\", \"MRK\", \"GILD\", \"SNY\", \"AMGN\", \"NVO\", \"GSK\", \"UNH\",\n",
    "             \"MDT\", \"BMY\", \"CELG\", \"BIIB\", \"AZN\", \"LLY\", \"ABT\", \"AGN\", \"VRX\", \"TEVA\",\n",
    "             \"TMO\", \"SHPG\", \"REGN\"]\n",
    "buisiness = [\"ACN\", \"LMT\", \"CNI\", \"FDX\", \"DAL\", \"CSX\", \"AAL\", \"CP\", \"NSC\", \"NOC\", \"LUV\"]\n",
    "telecom = [\"CHL\", \"VZ\", \"T\", \"VOD\", \"NTT\", \"AMX\", \"CHA\", \"BT\", \"CHU\", \"ORAN\", \"BCE\",\n",
    "           \"CHT\", \"SKM\", \"TI\", \"TU\", \"S\", \"TLK\", \"DUK\", \"NGG\", \"NEE\", \"D\", \"SO\", \"EXC\", \"KEP\",\n",
    "          \"AEP\", \"SRE\", \"PCG\", \"HNP\", \"PPL\", \"PEG\", \"EIX\", \"ETP\", \"ED\", \"ENI\", \"XEL\", \"ES\", \"FE\"]\n",
    "hardware = [\"AAPL\", \"ORCL\", \"IBM\", \"INTC\", \"CSCO\", \"TSM\", \"QCOM\", \"HPQ\", \"TXN\", \"EMC\",\n",
    "           \"CAJ\", \"ASML\", \"ERIC\", \"SNE\", \"AVGO\", \"MU\", \"GLW\", \"NXPI\", \"NOK\",\n",
    "           \"AMAT\", \"WDC\", \"WIT\", \"ADI\", \"STX\", \"APH\"]\n",
    "software = [\"MSFT\", \"GOOGL\", \"BIDU\", \"EBAY\", \"SAP\", \"CRM\", \"YHOO\", \"VMW\",\n",
    "            \"ADBE\", \"CTSH\", \"INFY\", \"INTU\", \"LNKD\", \"RHT\", \"NTES\", \"CHKP\", \n",
    "            \"CA\", \"ADSK\", \"AKAM\", \"NVDA\"]\n",
    "industrial = [\"GE\", \"V\", \"MA\", \"UTX\", \"MMM\", \"BA\", \"UNP\", \"UPS\", \"HON\", \"DHR\", \"CAT\", \n",
    "              \"ABB\", \"GD\", \"ADP\", \"EMR\", \"ITW\", \"ECL\", \"TEL\", \"PCAR\", \"WM\"]\n",
    "manufacturing = [\"TM\", \"HMC\", \"F\", \"GM\", \"JCI\", \"TSLA\", \"TTM\", \"CMI\", \"DLPH\", \"MGA\",\n",
    "                \"CMI\", \"DLPH\", \"MGA\", \"GPC\", \"BWA\", \"HOG\", \"ALV\", \"HAR\", \"LEA\", \"LKQ\", \n",
    "                 \"WBC\", \"GT\", \"FCAU\", \"NSANY\", \"NAV\"]\n",
    "consumer = [\"PG\", \"BUD\", \"KO\", \"PEP\", \"UL\", \"PM\", \"BTI\", \"MO\", \"ABEV\", \"DEO\", \"MDLZ\",\n",
    "            \"CL\", \"MON\", \"MCK\", \"KMB\", \"WHR\", \"DIS\", \"CMCSA\", \"FOXA\", \"TWX\", \"TWC\",\n",
    "           \"DISH\", \"CBS\", \"DISCA\", \"TV\", \"CHTR\", \"QVCA\", \"OMC\", \"NLSN\", \n",
    "           \"PSO\", \"SJR\", \"NFLX\"]\n",
    "diversified = [\"BRK-A\", \"BRK-B\", \"UTX\", \"BC\", \"RTN\", \"OLN\", \"ITT\", \"MSBHY\", \"KWHIY\", \n",
    "               \"ABB\", \"IEP\", \"GE\"]\n",
    "retailing = [\"WMT\", \"AMZN\", \"HD\", \"MCD\", \"NKE\", \"SBUX\", \"CVS\", \"WBA\", \"PCLN\", \"COST\", \n",
    "            \"TGT\", \"TJX\", \"LVS\", \"YUM\", \"CCL\", \"LUX\", \"DG\", \"M\", \"AZO\", \"ROST\", \"CMG\", \"GPS\", \n",
    "            \"DLTR\", \"RCL\", \"KSS\", \"HOT\", \"JWN\"]\n",
    "\n",
    "input_list = energy + financial + healthcare + buisiness + telecom\\\n",
    "+ hardware + software + industrial + manufacturing + consumer + diversified + retailing\n",
    "print (len(input_list))"
   ]
  },
  {
   "cell_type": "code",
   "execution_count": 4,
   "metadata": {
    "collapsed": true
   },
   "outputs": [],
   "source": [
    "from yahoo_finance import Share\n",
    "\n",
    "def get_data_by_key(key, data):\n",
    "    data_it = iter(data)\n",
    "    return_data = []\n",
    "    flag = True\n",
    "    for d in data_it:\n",
    "        return_data.append(d[key])\n",
    "        \n",
    "    return np.array(return_data)\n",
    "\n",
    "def get_data_by_list(name_list, start_date, end_date, data_type=\"Open\"):\n",
    "    share_list = []\n",
    "    for name in name_list:\n",
    "        share_list.append(Share(name))\n",
    "    \n",
    "    stock_data_list = []\n",
    "    date = []\n",
    "    flag = True\n",
    "    N_data = 0\n",
    "    fail_name_list = []\n",
    "    for idx, share in enumerate(share_list):\n",
    "        name = name_list[idx]\n",
    "        hist_data = share.get_historical(start_date=start_date, end_date=end_date)\n",
    "        stock_data = map(float, get_data_by_key(key=data_type, data=hist_data))\n",
    "        date.append(get_data_by_key(key='Date', data=hist_data))\n",
    "        stock_data_list.append(stock_data)\n",
    "        N_data = len(stock_data)\n",
    "        if N_data == 0:\n",
    "            fail_name_list.append(name)\n",
    "    print (\"fail_name_list: \", fail_name_list)\n",
    "    return np.array(stock_data_list).T, date"
   ]
  },
  {
   "cell_type": "code",
   "execution_count": 5,
   "metadata": {
    "collapsed": false
   },
   "outputs": [
    {
     "name": "stdout",
     "output_type": "stream",
     "text": [
      "Started!!\n",
      "fail_name_list:  []\n",
      "time for getting training_data: 595.343004942\n"
     ]
    }
   ],
   "source": [
    "print (\"Started!!\")\n",
    "\n",
    "st = time.time()\n",
    "start_date=\"2015-04-01\"\n",
    "end_date=\"2016-04-01\"\n",
    "input_data, date = get_data_by_list(input_list, start_date=start_date, end_date=end_date) \n",
    "sp = quandl.get(\"YAHOO/INDEX_GSPC\", start_date=start_date, end_date=end_date)\n",
    "target_data = np.array(sp['Open'])\n",
    "elapsed = time.time() - st\n",
    "print (\"time for getting training_data:\", elapsed)"
   ]
  },
  {
   "cell_type": "code",
   "execution_count": 13,
   "metadata": {
    "collapsed": false
   },
   "outputs": [
    {
     "data": {
      "text/plain": [
       "PCA(copy=True, n_components=27, whiten=False)"
      ]
     },
     "execution_count": 13,
     "metadata": {},
     "output_type": "execute_result"
    }
   ],
   "source": [
    "from sklearn.decomposition import PCA\n",
    "\n",
    "N_stocks = len(input_list)\n",
    "df_input = input_data[1:] / input_data[:-1]\n",
    "D = int(0.1 * N_stocks)\n",
    "pca = PCA(n_components=D)\n",
    "pca.fit(df_input)"
   ]
  },
  {
   "cell_type": "code",
   "execution_count": 14,
   "metadata": {
    "collapsed": false
   },
   "outputs": [
    {
     "data": {
      "text/plain": [
       "(27, 270)"
      ]
     },
     "execution_count": 14,
     "metadata": {},
     "output_type": "execute_result"
    }
   ],
   "source": [
    "pca.components_.shape"
   ]
  },
  {
   "cell_type": "code",
   "execution_count": 19,
   "metadata": {
    "collapsed": true
   },
   "outputs": [],
   "source": [
    "from sklearn.decomposition import PCA\n",
    "\n",
    "def sigmoid(x):\n",
    "    return 1.0 / (1.0 + np.exp(-x))\n",
    "\n",
    "class pcaDLR(object):\n",
    "    \n",
    "    def __init__(\n",
    "            self, N_in, N_middle, N_out, \n",
    "            activation=np.tanh, r=1.0, scale=0.8,\n",
    "            W_in=None, W_middle=None, W_out=None\n",
    "        ):\n",
    "        \"\"\"shape feature\n",
    "        Args:\n",
    "            N_in (int): The dimention of input\n",
    "            N_middle (int): the number of hidden nodes\n",
    "            N_out (int): the dimention of output\n",
    "            activation (lambda): activation function of middle layer\n",
    "            r (float): the value of connections\n",
    "            W_* (np.array): weitght for each layer\n",
    "        \"\"\"\n",
    "        \n",
    "        self.N_in = N_in\n",
    "        self.N_out = N_out\n",
    "        self.N_middle = N_middle\n",
    "        self.activation = activation\n",
    "        self.middle = np.zeros(shape=self.N_middle)\n",
    "    \n",
    "        if W_middle is None:\n",
    "            W_middle = np.zeros(shape=(N_middle, N_middle))\n",
    "            for i in xrange(N_middle - 1):\n",
    "                W_middle[i + 1][i] = r\n",
    "            \"\"\"\n",
    "            #normalization\n",
    "            print (W_middle)\n",
    "            eig_max = np.max(np.abs(np.linalg.eigvals(W_middle)))\n",
    "            print (np.abs(np.linalg.eigvals(W_middle)))\n",
    "            W_middle = W_middle / eig_max * scale\n",
    "            \"\"\"\n",
    "        self.W_middle = W_middle\n",
    "        \n",
    "        if W_in is None:\n",
    "            W_in = np.random.uniform(low=-1.0, high=1.0, size=(N_middle, N_in))\n",
    "        self.W_in = W_in\n",
    "        \n",
    "    def normalization(self, data):\n",
    "        dev = np.sqrt(np.var(data, axis=0))\n",
    "        mean = np.mean(data, axis=0)\n",
    "        return (data - mean) / dev, mean, dev\n",
    "        \n",
    "        \n",
    "    def online_predict(self, input_data, target_data, start_time, N_memory=100, L2=1.0e-2 ):\n",
    "        # use log ratio data\n",
    "        df_input_tilde = np.log(input_data[1:] / input_data[:-1])\n",
    "        pca = PCA(n_components=self.N_in)\n",
    "        pca.fit(df_input_tilde)\n",
    "        df_input_tilde = np.dot(pca.components_, df_input_tilde.T).T\n",
    "        df_input, mean_ipt, dev_ipt = self.normalization(df_input_tilde)\n",
    "        df_target_tilde = np.log(target_data[1:] / target_data[:-1])\n",
    "        df_target, mean_tgt, dev_tgt = self.normalization(df_target_tilde)\n",
    "        #keep deviance and mean for prediction\n",
    "        self.input_mean = mean_ipt\n",
    "        self.input_dev = dev_ipt\n",
    "        self.output_mean = mean_tgt\n",
    "        self.output_dev = dev_tgt\n",
    "        \n",
    "        N_data = len(df_input)\n",
    "        Y = []\n",
    "        X = []\n",
    "        # initalization\n",
    "        middle = np.zeros(shape=self.N_middle)\n",
    "        output = np.zeros(shape=self.N_out)\n",
    "        middle_data = []\n",
    "        prediction = []\n",
    "        for i in xrange(N_data - 1):\n",
    "            middle = self.activation(\n",
    "                np.dot(self.W_in, df_input[i])\\\n",
    "                + np.dot(self.W_middle, middle)\n",
    "                )\n",
    "            \n",
    "            # start_time is time when starting learning\n",
    "            if i >= start_time - 1:\n",
    "                # minimize ||Y - X * W.T|| ** 2+ L2 * ||W|| ** 2\n",
    "                Y.append(df_target[i])\n",
    "                X.append(np.r_[df_input[i], middle])\n",
    "                \n",
    "            if i >= start_time + N_memory - 1:\n",
    "                # print (i)\n",
    "                X_tilde = np.array(X)\n",
    "                Y_tilde = np.array(Y)\n",
    "                if L2 == 0:\n",
    "                    X_inv = np.real(np.linalg.pinv(X.T))\n",
    "                else:\n",
    "                    X_inv = np.dot(X_tilde, np.linalg.inv(L2 * np.identity(self.N_in + self.N_middle)\\\n",
    "                                                    + np.dot(X_tilde.T, X_tilde)))\n",
    "                self.W_out = np.dot(Y_tilde.T, X_inv)\n",
    "                # predict next one\n",
    "                pre_out = np.r_[df_input[i + 1], middle]\n",
    "                modified_out = self.output_dev * np.dot(self.W_out, pre_out) + self.output_mean\n",
    "                prediction.append(np.exp(modified_out))\n",
    "                # get rid of the past memeory to keep the fixed lenght memory\n",
    "                del X[0]\n",
    "                del Y[0]\n",
    "        learned_data = target_data[start_time + N_memory:] * np.r_[1.0, np.array(prediction)]                \n",
    "        \n",
    "        return learned_data"
   ]
  },
  {
   "cell_type": "code",
   "execution_count": 22,
   "metadata": {
    "collapsed": false
   },
   "outputs": [
    {
     "name": "stdout",
     "output_type": "stream",
     "text": [
      "learning_time: 10.8650529385\n"
     ]
    },
    {
     "data": {
      "text/plain": [
       "<matplotlib.legend.Legend at 0x7f3153fb2e50>"
      ]
     },
     "execution_count": 22,
     "metadata": {},
     "output_type": "execute_result"
    },
    {
     "data": {
      "image/png": "[encoded data removed]",
      "text/plain": [
       "<matplotlib.figure.Figure at 0x7f31844bc810>"
      ]
     },
     "metadata": {},
     "output_type": "display_data"
    }
   ],
   "source": [
    "T = len(input_data)\n",
    "N_middle = T\n",
    "dim = int(0.1 * len(input_list))\n",
    "esn = pcaDLR(N_in=dim, N_middle=N_middle, N_out=1, scale=0.8, r=0.5)\n",
    "start_time = int(0.05 * T)\n",
    "N_memory=100\n",
    "\n",
    "st = time.time()\n",
    "output_data = esn.online_predict(input_data=input_data, \n",
    "                           target_data=target_data, start_time=start_time,\n",
    "                          N_memory=N_memory)\n",
    "elapsed = time.time() - st\n",
    "print (\"learning_time:\", elapsed)\n",
    "\n",
    "plt.plot(target_data[start_time + N_memory:], label=\"raw_data\")\n",
    "plt.plot(output_data, label=\"prediction\")\n",
    "plt.legend()"
   ]
  },
  {
   "cell_type": "code",
   "execution_count": null,
   "metadata": {
    "collapsed": true
   },
   "outputs": [],
   "source": []
  }
 ],
 "metadata": {
  "kernelspec": {
   "display_name": "Python 2",
   "language": "python",
   "name": "python2"
  },
  "language_info": {
   "codemirror_mode": {
    "name": "ipython",
    "version": 2
   },
   "file_extension": ".py",
   "mimetype": "text/x-python",
   "name": "python",
   "nbconvert_exporter": "python",
   "pygments_lexer": "ipython2",
   "version": "2.7.6"
  }
 },
 "nbformat": 4,
 "nbformat_minor": 0
}
